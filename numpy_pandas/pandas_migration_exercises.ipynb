{
  "cells": [
    {
      "cell_type": "markdown",
      "metadata": {},
      "source": [
        "# Cuaderno de Ejercicios: Introducción a Pandas\n",
        "## Dataset: Flujos Migratorios Mixtos hacia Europa 2024\n",
        "\n",
        "---"
      ]
    },
    {
      "cell_type": "markdown",
      "metadata": {},
      "source": [
        "## 📋 Instrucciones Generales\n",
        "\n",
        "Este cuaderno contiene ejercicios prácticos para aprender Pandas utilizando datos reales sobre flujos migratorios hacia Europa. Los ejercicios están organizados por nivel de dificultad y cubren los conceptos fundamentales de la librería.\n",
        "\n",
        "**Dataset**: `DTM_Mixed Migration Flows to Europe_Yearly_2024_1.xlsx`  \n",
        "**Hoja de trabajo**: `First_Arrival_Countries_CoO`\n",
        "\n",
        "---"
      ]
    },
    {
      "cell_type": "markdown",
      "metadata": {},
      "source": [
        "## 🎯 Objetivos de Aprendizaje\n",
        "\n",
        "Al completar estos ejercicios serás capaz de:\n",
        "- Cargar y explorar datos con Pandas\n",
        "- Acceder y filtrar información\n",
        "- Manipular y transformar datos\n",
        "- Realizar análisis agrupados\n",
        "- Manejar valores nulos\n",
        "\n",
        "---"
      ]
    },
    {
      "cell_type": "markdown",
      "metadata": {},
      "source": [
        "## 📚 Sección 1: Carga y Exploración Inicial\n",
        "\n",
        "### Ejercicio 1.1: Importar librerías y cargar datos"
      ]
    },
    {
      "cell_type": "code",
      "metadata": {},
      "outputs": [],
      "source": [
        "# Importa pandas con el alias 'pd'\n",
        "\n",
        "\n",
        "# Carga la hoja 'First_Arrival_Countries_CoO' del archivo Excel en un DataFrame llamado df\n",
        "\n",
        "\n",
        "# Muestra las primeras 5 filas\n"
      ]
    },
    {
      "cell_type": "markdown",
      "metadata": {},
      "source": [
        "### Ejercicio 1.2: Información básica del dataset"
      ]
    },
    {
      "cell_type": "code",
      "metadata": {},
      "outputs": [],
      "source": [
        "# Muestra información general del DataFrame (tipos de datos, valores no nulos)\n",
        "\n",
        "\n",
        "# ¿Cuántas filas y columnas tiene el dataset?\n",
        "\n",
        "\n",
        "# Lista los nombres de todas las columnas\n"
      ]
    },
    {
      "cell_type": "markdown",
      "metadata": {},
      "source": [
        "### Ejercicio 1.3: Estadísticas descriptivas"
      ]
    },
    {
      "cell_type": "code",
      "metadata": {},
      "outputs": [],
      "source": [
        "# Obtén estadísticas descriptivas de las columnas numéricas\n",
        "\n",
        "\n",
        "# ¿Cuál es la media de llegadas (Arrivals)?\n",
        "\n",
        "\n",
        "# ¿Cuál es el valor máximo de llegadas registrado?\n"
      ]
    },
    {
      "cell_type": "markdown",
      "metadata": {},
      "source": [
        "---\n",
        "\n",
        "## 🔍 Sección 2: Acceso y Selección de Datos"
      ]
    },
    {
      "cell_type": "markdown",
      "metadata": {},
      "source": [
        "### Ejercicio 2.1: Seleccionar columnas"
      ]
    },
    {
      "cell_type": "code",
      "metadata": {},
      "outputs": [],
      "source": [
        "# Selecciona solo las columnas 'ISO3 - Country of origin', \n",
        "# 'ISO3 - Country of arrival' y 'Arrivals'\n",
        "\n",
        "\n",
        "# Muestra las primeras 10 filas de esta selección\n"
      ]
    },
    {
      "cell_type": "markdown",
      "metadata": {},
      "source": [
        "### Ejercicio 2.2: Acceso por posición"
      ]
    },
    {
      "cell_type": "code",
      "metadata": {},
      "outputs": [],
      "source": [
        "# Usa iloc para seleccionar las primeras 20 filas y las 4 primeras columnas\n",
        "\n",
        "\n",
        "# Usa loc para seleccionar las filas con índice 10 a 15 \n",
        "# y las columnas 'Route' y 'Arrivals'\n"
      ]
    },
    {
      "cell_type": "markdown",
      "metadata": {},
      "source": [
        "### Ejercicio 2.3: Acceso a filas específicas"
      ]
    },
    {
      "cell_type": "code",
      "metadata": {},
      "outputs": [],
      "source": [
        "# Selecciona la fila con índice 100 usando loc\n",
        "\n",
        "\n",
        "# Selecciona la fila con posición 50 usando iloc\n"
      ]
    },
    {
      "cell_type": "markdown",
      "metadata": {},
      "source": [
        "---\n",
        "\n",
        "## 🎯 Sección 3: Filtrado de Datos"
      ]
    },
    {
      "cell_type": "markdown",
      "metadata": {},
      "source": [
        "### Ejercicio 3.1: Filtrado simple"
      ]
    },
    {
      "cell_type": "code",
      "metadata": {},
      "outputs": [],
      "source": [
        "# Filtra los registros donde el país de llegada sea 'ESP' (España)\n",
        "\n",
        "\n",
        "# ¿Cuántos registros hay de llegadas a España?\n"
      ]
    },
    {
      "cell_type": "markdown",
      "metadata": {},
      "source": [
        "### Ejercicio 3.2: Filtrado con múltiples condiciones"
      ]
    },
    {
      "cell_type": "code",
      "metadata": {},
      "outputs": [],
      "source": [
        "# Filtra registros donde el país de origen sea 'SYR' (Siria) \n",
        "# Y el país de llegada sea 'ITA' (Italia)\n",
        "\n",
        "\n",
        "# Calcula el total de llegadas para este filtro\n"
      ]
    },
    {
      "cell_type": "markdown",
      "metadata": {},
      "source": [
        "### Ejercicio 3.3: Filtrado con isin"
      ]
    },
    {
      "cell_type": "code",
      "metadata": {},
      "outputs": [],
      "source": [
        "# Filtra registros donde el país de origen sea 'SYR', 'AFG' o 'IRQ'\n",
        "\n",
        "\n",
        "# Agrupa por país de origen y suma las llegadas\n"
      ]
    },
    {
      "cell_type": "markdown",
      "metadata": {},
      "source": [
        "### Ejercicio 3.4: Filtrado por valores numéricos"
      ]
    },
    {
      "cell_type": "code",
      "metadata": {},
      "outputs": [],
      "source": [
        "# Filtra registros donde las llegadas sean mayores a 1000\n",
        "\n",
        "\n",
        "# ¿Cuántos registros cumplen esta condición?\n"
      ]
    },
    {
      "cell_type": "markdown",
      "metadata": {},
      "source": [
        "---\n",
        "\n",
        "## 📊 Sección 4: Análisis Exploratorio"
      ]
    },
    {
      "cell_type": "markdown",
      "metadata": {},
      "source": [
        "### Ejercicio 4.1: Valores únicos"
      ]
    },
    {
      "cell_type": "code",
      "metadata": {},
      "outputs": [],
      "source": [
        "# ¿Cuántos países de origen únicos hay en el dataset?\n",
        "\n",
        "\n",
        "# Lista todos los países de llegada únicos\n",
        "\n",
        "\n",
        "# ¿Cuántas rutas diferentes se registran?\n"
      ]
    },
    {
      "cell_type": "markdown",
      "metadata": {},
      "source": [
        "### Ejercicio 4.2: Conteo de valores"
      ]
    },
    {
      "cell_type": "code",
      "metadata": {},
      "outputs": [],
      "source": [
        "# Cuenta las llegadas por país de destino y ordena de mayor a menor\n",
        "\n",
        "\n",
        "# ¿Cuál es el país de destino con más llegadas registradas?\n"
      ]
    },
    {
      "cell_type": "markdown",
      "metadata": {},
      "source": [
        "### Ejercicio 4.3: Análisis temporal"
      ]
    },
    {
      "cell_type": "code",
      "metadata": {},
      "outputs": [],
      "source": [
        "# Agrupa por mes y suma las llegadas totales\n",
        "\n",
        "\n",
        "# ¿En qué mes se registraron más llegadas?\n"
      ]
    },
    {
      "cell_type": "markdown",
      "metadata": {},
      "source": [
        "---\n",
        "\n",
        "## 🔧 Sección 5: Transformación de Datos"
      ]
    },
    {
      "cell_type": "markdown",
      "metadata": {},
      "source": [
        "### Ejercicio 5.1: Crear nuevas columnas"
      ]
    },
    {
      "cell_type": "code",
      "metadata": {},
      "outputs": [],
      "source": [
        "# Crea una columna 'Trimestre' basada en el mes\n",
        "# (1-3: Q1, 4-6: Q2, 7-9: Q3, 10-12: Q4)\n",
        "\n",
        "\n",
        "# Muestra las primeras filas con la nueva columna\n"
      ]
    },
    {
      "cell_type": "markdown",
      "metadata": {},
      "source": [
        "### Ejercicio 5.2: Renombrar columnas"
      ]
    },
    {
      "cell_type": "code",
      "metadata": {},
      "outputs": [],
      "source": [
        "# Renombra las columnas para que sean más cortas:\n",
        "# 'ISO3 - Country of origin' -> 'Origin'\n",
        "# 'ISO3 - Country of arrival' -> 'Destination'\n",
        "\n",
        "\n",
        "# Verifica los nuevos nombres de columnas\n"
      ]
    },
    {
      "cell_type": "markdown",
      "metadata": {},
      "source": [
        "### Ejercicio 5.3: Ordenar datos"
      ]
    },
    {
      "cell_type": "code",
      "metadata": {},
      "outputs": [],
      "source": [
        "# Ordena el DataFrame por 'Arrivals' de mayor a menor\n",
        "\n",
        "\n",
        "# Muestra los 10 registros con más llegadas\n"
      ]
    },
    {
      "cell_type": "markdown",
      "metadata": {},
      "source": [
        "---\n",
        "\n",
        "## 📈 Sección 6: Agrupación y Agregación"
      ]
    },
    {
      "cell_type": "markdown",
      "metadata": {},
      "source": [
        "### Ejercicio 6.1: Agrupación simple"
      ]
    },
    {
      "cell_type": "code",
      "metadata": {},
      "outputs": [],
      "source": [
        "# Agrupa por país de origen y calcula el total de llegadas\n",
        "\n",
        "\n",
        "# ¿Cuál es el país de origen con más llegadas totales?\n"
      ]
    },
    {
      "cell_type": "markdown",
      "metadata": {},
      "source": [
        "### Ejercicio 6.2: Agrupación múltiple"
      ]
    },
    {
      "cell_type": "code",
      "metadata": {},
      "outputs": [],
      "source": [
        "# Agrupa por país de origen Y país de destino\n",
        "# Calcula el promedio y total de llegadas\n",
        "\n",
        "\n",
        "# Ordena por total de llegadas descendente y muestra los top 10\n"
      ]
    },
    {
      "cell_type": "markdown",
      "metadata": {},
      "source": [
        "### Ejercicio 6.3: Agrupación con múltiples funciones"
      ]
    },
    {
      "cell_type": "code",
      "metadata": {},
      "outputs": [],
      "source": [
        "# Agrupa por ruta y calcula:\n",
        "# - Total de llegadas\n",
        "# - Promedio de llegadas\n",
        "# - Número de registros\n",
        "\n",
        "\n",
        "# Ordena por total de llegadas\n"
      ]
    },
    {
      "cell_type": "markdown",
      "metadata": {},
      "source": [
        "---\n",
        "\n",
        "## 🧹 Sección 7: Manejo de Valores Nulos"
      ]
    },
    {
      "cell_type": "markdown",
      "metadata": {},
      "source": [
        "### Ejercicio 7.1: Identificar valores nulos"
      ]
    },
    {
      "cell_type": "code",
      "metadata": {},
      "outputs": [],
      "source": [
        "# Calcula el porcentaje de valores nulos por columna\n",
        "\n",
        "\n",
        "# ¿Qué columnas tienen valores nulos?\n"
      ]
    },
    {
      "cell_type": "markdown",
      "metadata": {},
      "source": [
        "### Ejercicio 7.2: Filtrar registros completos"
      ]
    },
    {
      "cell_type": "code",
      "metadata": {},
      "outputs": [],
      "source": [
        "# Filtra solo los registros que no tienen ningún valor nulo\n",
        "\n",
        "\n",
        "# ¿Cuántos registros completos hay?\n"
      ]
    },
    {
      "cell_type": "markdown",
      "metadata": {},
      "source": [
        "### Ejercicio 7.3: Rellenar valores nulos"
      ]
    },
    {
      "cell_type": "code",
      "metadata": {},
      "outputs": [],
      "source": [
        "# Rellena los valores nulos de 'Arrivals' con 0\n",
        "# (Crea una copia del DataFrame primero para no modificar el original)\n",
        "\n",
        "\n",
        "# Verifica que no haya nulos en 'Arrivals'\n"
      ]
    },
    {
      "cell_type": "markdown",
      "metadata": {},
      "source": [
        "---\n",
        "\n",
        "## 🎓 Sección 8: Ejercicios Integrados"
      ]
    },
    {
      "cell_type": "markdown",
      "metadata": {},
      "source": [
        "### Ejercicio 8.1: Análisis de ruta más transitada"
      ]
    },
    {
      "cell_type": "code",
      "metadata": {},
      "outputs": [],
      "source": [
        "# Encuentra la combinación origen-destino con más llegadas totales\n",
        "# Pista: agrupa por 'Origin' y 'Destination' y suma 'Arrivals'\n",
        "\n",
        "\n",
        "# ¿Cuál es esta ruta y cuántas llegadas tuvo?\n"
      ]
    },
    {
      "cell_type": "markdown",
      "metadata": {},
      "source": [
        "### Ejercicio 8.2: Análisis temporal por destino"
      ]
    },
    {
      "cell_type": "code",
      "metadata": {},
      "outputs": [],
      "source": [
        "# Para España (ESP), calcula las llegadas totales por mes\n",
        "\n",
        "\n",
        "# Crea una visualización simple de esta información\n"
      ]
    },
    {
      "cell_type": "markdown",
      "metadata": {},
      "source": [
        "### Ejercicio 8.3: Top países de origen por destino"
      ]
    },
    {
      "cell_type": "code",
      "metadata": {},
      "outputs": [],
      "source": [
        "# Para cada país de destino, encuentra los 3 principales países de origen\n",
        "\n",
        "\n",
        "# Muestra los resultados de forma clara\n"
      ]
    },
    {
      "cell_type": "markdown",
      "metadata": {},
      "source": [
        "---\n",
        "\n",
        "## 🏆 Ejercicio Final: Mini Análisis Completo\n",
        "\n",
        "Realiza un análisis completo que incluya:\n",
        "\n",
        "1. **Filtrado**: Selecciona datos del segundo semestre (julio-diciembre)\n",
        "2. **Agrupación**: Agrupa por país de destino\n",
        "3. **Cálculo**: Calcula total de llegadas y número de países de origen\n",
        "4. **Ordenación**: Ordena por total de llegadas\n",
        "5. **Visualización**: Crea una tabla resumen con los top 5 destinos"
      ]
    },
    {
      "cell_type": "code",
      "metadata": {},
      "outputs": [],
      "source": [
        "# Tu código aquí\n",
        "\n",
        "\n",
        "\n",
        "\n",
        "\n",
        "\n",
        "\n"
      ]
    },
    {
      "cell_type": "markdown",
      "metadata": {},
      "source": [
        "---\n",
        "\n",
        "## 💡 Recursos Adicionales\n",
        "\n",
        "- [Documentación oficial de Pandas](https://pandas.pydata.org/docs/)\n",
        "- [Pandas Cheat Sheet](https://pandas.pydata.org/Pandas_Cheat_Sheet.pdf)\n",
        "- Revisa el notebook \"Introducción a Pandas.ipynb\" para ejemplos adicionales\n",
        "\n",
        "---"
      ]
    },
    {
      "cell_type": "markdown",
      "metadata": {},
      "source": [
        "## ✅ Checklist de Aprendizaje\n",
        "\n",
        "Marca los conceptos que ya dominas:\n",
        "\n",
        "- [ ] Cargar datos desde Excel\n",
        "- [ ] Explorar información básica (info, shape, columns)\n",
        "- [ ] Seleccionar columnas y filas\n",
        "- [ ] Filtrar con condiciones\n",
        "- [ ] Ordenar datos\n",
        "- [ ] Crear nuevas columnas\n",
        "- [ ] Agrupar y agregar datos\n",
        "- [ ] Manejar valores nulos\n",
        "- [ ] Realizar análisis integrados\n",
        "\n",
        "---\n",
        "\n",
        "**¡Buena suerte con los ejercicios!** 🚀"
      ]
    }
  ],
  "metadata": {
    "kernelspec": {
      "display_name": "Python 3",
      "language": "python",
      "name": "python3"
    },
    "language_info": {
      "codemirror_mode": {
        "name": "ipython",
        "version": 3
      },
      "file_extension": ".py",
      "mimetype": "text/x-python",
      "name": "python",
      "nbconvert_exporter": "python",
      "pygments_lexer": "ipython3",
      "version": "3.8.0"
    }
  },
  "nbformat": 4,
  "nbformat_minor": 4
}