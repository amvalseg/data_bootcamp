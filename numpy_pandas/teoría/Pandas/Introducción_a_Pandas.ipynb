{
  "cells": [
    {
      "cell_type": "markdown",
      "metadata": {},
      "source": [
        "<div style=\"\n",
        "    background: linear-gradient(135deg, #667eea 0%, #764ba2 50%, #f093fb 100%);\n",
        "    padding: 4rem 2rem;\n",
        "    border-radius: 20px;\n",
        "    text-align: center;\n",
        "    position: relative;\n",
        "    overflow: hidden;\n",
        "    margin: 2rem 0;\n",
        "    box-shadow: 0 20px 40px rgba(0,0,0,0.2);\n",
        "    font-family: 'Segoe UI', Tahoma, Geneva, Verdana, sans-serif;\n",
        "    max-width: 1200px;\n",
        "\">\n",
        "  <img src=\"\\data_bootcamp\\numpy_pandas\\img\\up.png\" width=\"200\"/>\n",
        "  \n",
        "  <h1 style=\"font-size: 2.5em; margin: 10px 0;\"><strong>Bootcamp de Análisis de Datos & IA</strong></h1>\n",
        "<div style=\"\n",
        "    position: absolute;\n",
        "    top: 0;\n",
        "    left: 0;\n",
        "    right: 0;\n",
        "    bottom: 0;\n",
        "    background: url('data:image/svg+xml,<svg xmlns=\\\"http://www.w3.org/2000/svg\\\" viewBox=\\\"0 0 100 100\\\"><defs><pattern id=\\\"grid\\\" width=\\\"10\\\" height=\\\"10\\\" patternUnits=\\\"userSpaceOnUse\\\"><path d=\\\"M 10 0 L 0 0 0 10\\\" fill=\\\"none\\\" stroke=\\\"rgba(255,255,255,0.1)\\\" stroke-width=\\\"0.5\\\"/></pattern></defs><rect width=\\\"100\\\" height=\\\"100\\\" fill=\\\"url(%23grid)\\\"/></svg>\n",
        "</div>\n",
        "<div style=\"position: relative; z-index: 10;\">\n",
        "\n",
        "<h1 style=\"\n",
        "    font-size: 3.5rem;\n",
        "    font-weight: 900;\n",
        "    color: #ffffff;\n",
        "    margin: 1rem 0;\n",
        "    text-shadow: 0 0 30px rgba(255,255,255,0.8);\n",
        "    letter-spacing: 2px;\n",
        "    font-family: 'Arial Black', sans-serif;\n",
        "\">PANDAS: Exploración y Transformación de Datos</h1>\n",
        "\n",
        "<div style=\"\n",
        "    background: rgba(0,0,0,0.4);\n",
        "    border-radius: 15px;\n",
        "    padding: 1.5rem;\n",
        "    margin: 2rem auto;\n",
        "    max-width: 1000px;\n",
        "    border: 1px solid rgba(255,255,255,0.2);\n",
        "    backdrop-filter: blur(10px);\n",
        "\">\n",
        "    <div style=\"\n",
        "        color: #50fa7b;\n",
        "        font-family: 'Courier New', monospace;\n",
        "        font-size: 1.2rem;\n",
        "        text-align: left;\n",
        "    \">\n",
        "        <span style=\"color: #ff79c6;\">>>> </span>import pandas as pd<br>\n",
        "        <span style=\"color: #50fa7b;\">¡Listo para explorar datos!</span><br>\n",
        "        <span style=\"color: #ff79c6;\">>>> </span>ready_to_code = <span style=\"color: #bd93f9;\">True</span> ✨\n",
        "    </div>\n",
        "</div>\n",
        "\n",
        "<div style=\"\n",
        "    padding: 1.5rem;\n",
        "    background: rgba(193, 239, 67, 0.99);\n",
        "    border-radius: 15px;\n",
        "    border: 1px solid rgba(255,255,255,0.1);\n",
        "    max-width: 1000px;\n",
        "    gap: 1.5rem;\n",
        "    margin: 2rem auto;\n",
        "\">\n",
        "<h4 style=\"color: rgba(0, 0, 0, 1); margin-bottom: 1rem;\">\n",
        "    🎓 Contenidos de la clase:\n",
        "</h4>\n",
        "\n",
        "<div style=\"\n",
        "    display: grid;\n",
        "    grid-template-columns: repeat(auto-fit, minmax(200px, 1fr));\n",
        "    gap: 1rem;\n",
        "    justify-items: center;\n",
        "    text-align: center;\n",
        "    margin: 2rem auto;\n",
        "    max-width: 900px;\n",
        "\">\n",
        "    <div style=\"color: rgba(0, 0, 0, 1); font-size: 1rem;\">✅ ¿Qué es Pandas y por qué es útil?</div>\n",
        "    <div style=\"color: rgba(0, 0, 0, 1); font-size: 1rem;\">✅ Instalación e importación</div>\n",
        "    <div style=\"color: rgba(0, 0, 0, 1); font-size: 1rem;\">✅ Series y DataFrames</div>\n",
        "    <div style=\"color: rgba(0, 0, 0, 1); font-size: 1rem;\">✅ Creación de datos (Series, DataFrames, CSV/Excel)</div>\n",
        "    <div style=\"color: rgba(0, 0, 0, 1); font-size: 1rem;\">✅ Primer vistazo a los datos (head, tail, info, describe)</div>\n",
        "    <div style=\"color: rgba(0, 0, 0, 1); font-size: 1rem;\">✅ Acceso y filtrado de datos</div>\n",
        "    <div style=\"color: rgba(0, 0, 0, 1); font-size: 1rem;\">✅ Manipulación: añadir, eliminar, renombrar, fillna/dropna</div>\n",
        "    <div style=\"color: rgba(0, 0, 0, 1); font-size: 1rem;\">✅ Operaciones y agrupación</div>\n",
        "    <div style=\"color: rgba(0, 0, 0, 1); font-size: 1rem;\">✅ Trabajo con archivos externos</div>\n",
        "    <div style=\"color: rgba(0, 0, 0, 1); font-size: 1rem;\">✅ Visualización básica y mini proyecto final</div>\n",
        "</div>\n",
        "</div>\n",
        "\n",
        "<div style=\"\n",
        "    background: linear-gradient(45deg, #ff6b6b, #ee5a24, #ff6b6b);\n",
        "    color: white;\n",
        "    padding: 1rem 2.5rem;\n",
        "    border-radius: 50px;\n",
        "    font-size: 1.2rem;\n",
        "    font-weight: 700;\n",
        "    text-transform: uppercase;\n",
        "    letter-spacing: 2px;\n",
        "    box-shadow: 0 10px 30px rgba(255,107,107,0.4);\n",
        "    display: inline-block;\n",
        "    margin-top: 2rem;\n",
        "    cursor: pointer;\n",
        "    text-decoration: none;\n",
        "    transition: transform 0.3s ease, box-shadow 0.3s ease;\n",
        "    max-width: 1000px;\n",
        "\">\n",
        "🚀 COMENZAR CLASE 🚀\n",
        "</div>\n",
        "\n",
        "</div>\n",
        "</div>\n",
        "\n"
      ]
    },
    {
      "cell_type": "markdown",
      "metadata": {
        "collapsed": true,
        "id": "1UQZlrXiS9DU"
      },
      "source": [
        "# 📚 1. Introducción a Pandas\n",
        "\n",
        "## 1.1. ¿Qué es Pandas y por qué es útil?\n",
        "**Pandas** es una librería de Python diseñada para la **manipulación y análisis de datos**.  \n",
        "Permite trabajar con estructuras de datos **flexibles y rápidas**, facilitando tareas como:\n",
        "\n",
        "- Lectura y escritura de archivos (CSV, Excel, SQL, etc.)  \n",
        "- Limpieza y transformación de datos  \n",
        "- Cálculos estadísticos y agregaciones  \n",
        "- Visualización básica de datos  \n",
        "\n",
        "👉 Es una de las librerías más utilizadas en **ciencia de datos, análisis empresarial y machine learning**, ya que simplifica mucho el trabajo con datos tabulares.\n",
        "\n",
        ">💡Las librerías son colecciones de funciones y herramientas predefinidas que facilitan la programación al proporcionar soluciones listas para usar en lugar de tener que escribir código desde cero.\n",
        "\n",
        "---\n",
        "\n",
        "## ⚙️ 1.2. Instalación e importación\n",
        "Para instalar Pandas, ejecuta en la terminal o consola de Python:"
      ]
    },
    {
      "cell_type": "code",
      "execution_count": null,
      "metadata": {},
      "outputs": [],
      "source": [
        "#pip install pandas"
      ]
    },
    {
      "cell_type": "markdown",
      "metadata": {},
      "source": [
        "Para importar Pandas en tu script o notebook, usa:"
      ]
    },
    {
      "cell_type": "code",
      "execution_count": 4,
      "metadata": {
        "slideshow": {
          "slide_type": "slide"
        }
      },
      "outputs": [],
      "source": [
        "import pandas as pd"
      ]
    },
    {
      "cell_type": "markdown",
      "metadata": {},
      "source": [
        "### ¿Para qué se importan las librerías?\n",
        "Para poder utilizar las funciones y estructuras de datos que estas ofrecen, facilitando tareas complejas como el análisis y manipulación de datos. **Es siempre el primer paso en cualquier proyecto de análisis de datos.**\n",
        "\n",
        "```python\n",
        "\n"
      ]
    },
    {
      "cell_type": "markdown",
      "metadata": {},
      "source": [
        "## 🔎 1.3. Tipos de estructuras de datos en Pandas: Series y DataFrames\n",
        "\n",
        "Pandas trabaja principalmente con **dos estructuras de datos**: Series y Dataframes.\n",
        "\n",
        "---\n",
        "\n",
        "### 1️⃣ Series\n",
        "Una **Serie** es un **array unidimensional con etiquetas** (índices).  \n",
        "Se puede imaginar como una columna de Excel con un índice asociado.\n",
        "\n"
      ]
    },
    {
      "cell_type": "markdown",
      "metadata": {},
      "source": [
        "\n",
        "### 2️⃣ DataFrame\n",
        "\n",
        "Un DataFrame es una estructura bidimensional en forma de tabla, con filas y columnas.\n",
        "Cada columna es en realidad una Serie."
      ]
    },
    {
      "cell_type": "markdown",
      "metadata": {},
      "source": [
        "\n",
        "> 📌 Tip: piensa en un DataFrame como una hoja de cálculo y en una Serie como una sola columna de esa hoja."
      ]
    },
    {
      "cell_type": "markdown",
      "metadata": {},
      "source": [
        "# ✨ 2. Creación de datos en Pandas\n",
        "\n",
        "En este apartado aprenderemos a crear datos en Pandas y a dar un **primer vistazo** a ellos."
      ]
    },
    {
      "cell_type": "markdown",
      "metadata": {},
      "source": [
        "### 2.1. Crear Series"
      ]
    },
    {
      "cell_type": "code",
      "execution_count": 5,
      "metadata": {},
      "outputs": [
        {
          "data": {
            "application/vnd.microsoft.datawrangler.viewer.v0+json": {
              "columns": [
                {
                  "name": "index",
                  "rawType": "int64",
                  "type": "integer"
                },
                {
                  "name": "Edades",
                  "rawType": "int64",
                  "type": "integer"
                }
              ],
              "ref": "7674144a-eae4-4e10-95d9-4003138d6749",
              "rows": [
                [
                  "0",
                  "10"
                ],
                [
                  "1",
                  "20"
                ],
                [
                  "2",
                  "30"
                ],
                [
                  "3",
                  "40"
                ]
              ],
              "shape": {
                "columns": 1,
                "rows": 4
              }
            },
            "text/plain": [
              "0    10\n",
              "1    20\n",
              "2    30\n",
              "3    40\n",
              "Name: Edades, dtype: int64"
            ]
          },
          "execution_count": 5,
          "metadata": {},
          "output_type": "execute_result"
        }
      ],
      "source": [
        "# Crear una Serie a partir de una lista\n",
        "serie = pd.Series([10, 20, 30, 40], name=\"Edades\")\n",
        "serie"
      ]
    },
    {
      "cell_type": "markdown",
      "metadata": {},
      "source": [
        "### 2.2. Crear DataFrames"
      ]
    },
    {
      "cell_type": "markdown",
      "metadata": {},
      "source": [
        "#### Desde un diccionario"
      ]
    },
    {
      "cell_type": "code",
      "execution_count": 6,
      "metadata": {},
      "outputs": [],
      "source": [
        "datos = {\n",
        "    \"Nombre\": [\"Ana\", \"Luis\", \"María\"],\n",
        "    \"Edad\": [23, 35, 29],\n",
        "    \"Ciudad\": [\"Madrid\", \"Sevilla\", \"Valencia\"]\n",
        "}\n",
        "\n",
        "df = pd.DataFrame(datos)\n"
      ]
    },
    {
      "cell_type": "code",
      "execution_count": 7,
      "metadata": {},
      "outputs": [
        {
          "data": {
            "application/vnd.microsoft.datawrangler.viewer.v0+json": {
              "columns": [
                {
                  "name": "index",
                  "rawType": "int64",
                  "type": "integer"
                },
                {
                  "name": "Nombre",
                  "rawType": "object",
                  "type": "string"
                },
                {
                  "name": "Edad",
                  "rawType": "int64",
                  "type": "integer"
                },
                {
                  "name": "Ciudad",
                  "rawType": "object",
                  "type": "string"
                }
              ],
              "ref": "a713c0e5-79a5-48c0-91fd-c000287ec91a",
              "rows": [
                [
                  "0",
                  "Ana",
                  "23",
                  "Madrid"
                ],
                [
                  "1",
                  "Luis",
                  "35",
                  "Sevilla"
                ],
                [
                  "2",
                  "María",
                  "29",
                  "Valencia"
                ]
              ],
              "shape": {
                "columns": 3,
                "rows": 3
              }
            },
            "text/html": [
              "<div>\n",
              "<style scoped>\n",
              "    .dataframe tbody tr th:only-of-type {\n",
              "        vertical-align: middle;\n",
              "    }\n",
              "\n",
              "    .dataframe tbody tr th {\n",
              "        vertical-align: top;\n",
              "    }\n",
              "\n",
              "    .dataframe thead th {\n",
              "        text-align: right;\n",
              "    }\n",
              "</style>\n",
              "<table border=\"1\" class=\"dataframe\">\n",
              "  <thead>\n",
              "    <tr style=\"text-align: right;\">\n",
              "      <th></th>\n",
              "      <th>Nombre</th>\n",
              "      <th>Edad</th>\n",
              "      <th>Ciudad</th>\n",
              "    </tr>\n",
              "  </thead>\n",
              "  <tbody>\n",
              "    <tr>\n",
              "      <th>0</th>\n",
              "      <td>Ana</td>\n",
              "      <td>23</td>\n",
              "      <td>Madrid</td>\n",
              "    </tr>\n",
              "    <tr>\n",
              "      <th>1</th>\n",
              "      <td>Luis</td>\n",
              "      <td>35</td>\n",
              "      <td>Sevilla</td>\n",
              "    </tr>\n",
              "    <tr>\n",
              "      <th>2</th>\n",
              "      <td>María</td>\n",
              "      <td>29</td>\n",
              "      <td>Valencia</td>\n",
              "    </tr>\n",
              "  </tbody>\n",
              "</table>\n",
              "</div>"
            ],
            "text/plain": [
              "  Nombre  Edad    Ciudad\n",
              "0    Ana    23    Madrid\n",
              "1   Luis    35   Sevilla\n",
              "2  María    29  Valencia"
            ]
          },
          "execution_count": 7,
          "metadata": {},
          "output_type": "execute_result"
        }
      ],
      "source": [
        "df"
      ]
    },
    {
      "cell_type": "markdown",
      "metadata": {},
      "source": [
        "#### Desde una lista de listas"
      ]
    },
    {
      "cell_type": "code",
      "execution_count": 8,
      "metadata": {},
      "outputs": [],
      "source": [
        "#Desde una lista de listas\n",
        "df_lista = pd.DataFrame(\n",
        "    [[\"Ana\", 23], [\"Luis\", 35], [\"María\", 29]],\n",
        "    columns=[\"Nombre\", \"Edad\"]\n",
        ")\n"
      ]
    },
    {
      "cell_type": "code",
      "execution_count": 9,
      "metadata": {},
      "outputs": [
        {
          "data": {
            "application/vnd.microsoft.datawrangler.viewer.v0+json": {
              "columns": [
                {
                  "name": "index",
                  "rawType": "int64",
                  "type": "integer"
                },
                {
                  "name": "Nombre",
                  "rawType": "object",
                  "type": "string"
                },
                {
                  "name": "Edad",
                  "rawType": "int64",
                  "type": "integer"
                }
              ],
              "ref": "42c0d3f2-c6ec-4a42-ae5f-7ae35bb8a94f",
              "rows": [
                [
                  "0",
                  "Ana",
                  "23"
                ],
                [
                  "1",
                  "Luis",
                  "35"
                ],
                [
                  "2",
                  "María",
                  "29"
                ]
              ],
              "shape": {
                "columns": 2,
                "rows": 3
              }
            },
            "text/html": [
              "<div>\n",
              "<style scoped>\n",
              "    .dataframe tbody tr th:only-of-type {\n",
              "        vertical-align: middle;\n",
              "    }\n",
              "\n",
              "    .dataframe tbody tr th {\n",
              "        vertical-align: top;\n",
              "    }\n",
              "\n",
              "    .dataframe thead th {\n",
              "        text-align: right;\n",
              "    }\n",
              "</style>\n",
              "<table border=\"1\" class=\"dataframe\">\n",
              "  <thead>\n",
              "    <tr style=\"text-align: right;\">\n",
              "      <th></th>\n",
              "      <th>Nombre</th>\n",
              "      <th>Edad</th>\n",
              "    </tr>\n",
              "  </thead>\n",
              "  <tbody>\n",
              "    <tr>\n",
              "      <th>0</th>\n",
              "      <td>Ana</td>\n",
              "      <td>23</td>\n",
              "    </tr>\n",
              "    <tr>\n",
              "      <th>1</th>\n",
              "      <td>Luis</td>\n",
              "      <td>35</td>\n",
              "    </tr>\n",
              "    <tr>\n",
              "      <th>2</th>\n",
              "      <td>María</td>\n",
              "      <td>29</td>\n",
              "    </tr>\n",
              "  </tbody>\n",
              "</table>\n",
              "</div>"
            ],
            "text/plain": [
              "  Nombre  Edad\n",
              "0    Ana    23\n",
              "1   Luis    35\n",
              "2  María    29"
            ]
          },
          "execution_count": 9,
          "metadata": {},
          "output_type": "execute_result"
        }
      ],
      "source": [
        "df_lista"
      ]
    },
    {
      "cell_type": "markdown",
      "metadata": {},
      "source": [
        "#### Desde arcvhivos CSV/Excel"
      ]
    },
    {
      "cell_type": "code",
      "execution_count": null,
      "metadata": {},
      "outputs": [],
      "source": [
        "import os # Librería para interactuar con el sistema operativo\n",
        "print(\"Current working directory:\", os.getcwd())"
      ]
    },
    {
      "cell_type": "code",
      "execution_count": 120,
      "metadata": {},
      "outputs": [],
      "source": [
        "# Leer CSV de viajes en Uber/Taxi\n",
        "df_csv = pd.read_csv(\"../../data/ncr_ride_bookings.csv\")"
      ]
    },
    {
      "cell_type": "code",
      "execution_count": null,
      "metadata": {},
      "outputs": [],
      "source": [
        "#opcion url larga\n",
        "#df_csv = pd.read_csv(r\"C:\\Users\\amval\\Documents\\bootcamp_ug\\data_bootcamp\\numpy_pandas\\data\\ncr_ride_bookings.csv\")"
      ]
    },
    {
      "cell_type": "code",
      "execution_count": 14,
      "metadata": {},
      "outputs": [],
      "source": [
        "#Leer Excel de migraciones a países de Europa en 2024\n",
        "df_excel = pd.read_excel(\n",
        "    r\"..\\..\\data\\DTM_Mixed Migration Flows to Europe_Yearly_2024_1.xlsx\",\n",
        "    sheet_name = \"First_Arrival_Countries_CoO\")"
      ]
    },
    {
      "cell_type": "code",
      "execution_count": 15,
      "metadata": {},
      "outputs": [
        {
          "name": "stdout",
          "output_type": "stream",
          "text": [
            "Creada variable: df_About con 27 filas\n",
            "Creada variable: df_Summary con 55 filas\n",
            "Creada variable: df_First_Arrival_Countries_Monthly con 982 filas\n",
            "Creada variable: df_Other_Countries_Areas_Monthly con 925 filas\n",
            "Creada variable: df_First_Arrival_Countries_CoO con 1689 filas\n",
            "Creada variable: df_Others_Countries_CoO con 1720 filas\n",
            "Creada variable: df_All_Migrant_Presence con 640 filas\n",
            "Creada variable: df_Sources con 18 filas\n",
            "Creada variable: df_ISO3 con 125 filas\n"
          ]
        }
      ],
      "source": [
        "# Leer un archivo Excel con múltiples hojas y crear dataframes separados con nombres dinámicos\n",
        "archivo = (r\"..\\..\\data\\DTM_Mixed Migration Flows to Europe_Yearly_2024_1.xlsx\")\n",
        "\n",
        "# Leer todas las hojas\n",
        "todas_hojas = pd.read_excel(archivo, sheet_name=None)\n",
        "\n",
        "# Crear variables dinámicamente para cada hoja\n",
        "for nombre_hoja, df in todas_hojas.items():\n",
        "    # Limpiar el nombre para que sea un nombre de variable válido\n",
        "    nombre_variable = nombre_hoja.replace(' ', '_').replace('-', '_')\n",
        "    # Asignar el DataFrame a una variable con el nombre de la hoja\n",
        "    globals()[f'df_{nombre_variable}'] = df\n",
        "    print(f\"Creada variable: df_{nombre_variable} con {len(df)} filas\")\n"
      ]
    },
    {
      "cell_type": "code",
      "execution_count": 17,
      "metadata": {},
      "outputs": [
        {
          "data": {
            "application/vnd.microsoft.datawrangler.viewer.v0+json": {
              "columns": [
                {
                  "name": "index",
                  "rawType": "int64",
                  "type": "integer"
                },
                {
                  "name": "Date",
                  "rawType": "datetime64[ns]",
                  "type": "datetime"
                },
                {
                  "name": "Year",
                  "rawType": "int64",
                  "type": "integer"
                },
                {
                  "name": "Month",
                  "rawType": "int64",
                  "type": "integer"
                },
                {
                  "name": "ISO3 - Country of arrival",
                  "rawType": "object",
                  "type": "string"
                },
                {
                  "name": "Route",
                  "rawType": "object",
                  "type": "string"
                },
                {
                  "name": "Type of arrival",
                  "rawType": "object",
                  "type": "string"
                },
                {
                  "name": "Arrivals",
                  "rawType": "int64",
                  "type": "integer"
                }
              ],
              "ref": "573cf949-4012-41cd-9296-cc9c7411ba7c",
              "rows": [
                [
                  "0",
                  "2016-01-31 00:00:00",
                  "2016",
                  "1",
                  "ALB",
                  "WBR",
                  "Land",
                  "55"
                ],
                [
                  "1",
                  "2017-01-31 00:00:00",
                  "2017",
                  "1",
                  "ALB",
                  "WBR",
                  "Land",
                  "108"
                ],
                [
                  "2",
                  "2018-01-31 00:00:00",
                  "2018",
                  "1",
                  "ALB",
                  "WBR",
                  "Land",
                  "114"
                ],
                [
                  "3",
                  "2019-01-31 00:00:00",
                  "2019",
                  "1",
                  "ALB",
                  "WBR",
                  "Land",
                  "59"
                ],
                [
                  "4",
                  "2020-01-31 00:00:00",
                  "2020",
                  "1",
                  "ALB",
                  "WBR",
                  "Land",
                  "156"
                ],
                [
                  "5",
                  "2021-01-31 00:00:00",
                  "2021",
                  "1",
                  "ALB",
                  "WBR",
                  "Land",
                  "777"
                ],
                [
                  "6",
                  "2022-01-31 00:00:00",
                  "2022",
                  "1",
                  "ALB",
                  "WBR",
                  "Land",
                  "255"
                ],
                [
                  "7",
                  "2023-01-31 00:00:00",
                  "2023",
                  "1",
                  "ALB",
                  "WBR",
                  "Land",
                  "219"
                ],
                [
                  "8",
                  "2024-01-31 00:00:00",
                  "2024",
                  "1",
                  "ALB",
                  "WBR",
                  "Land",
                  "56"
                ],
                [
                  "9",
                  "2016-02-29 00:00:00",
                  "2016",
                  "2",
                  "ALB",
                  "WBR",
                  "Land",
                  "19"
                ],
                [
                  "10",
                  "2017-02-28 00:00:00",
                  "2017",
                  "2",
                  "ALB",
                  "WBR",
                  "Land",
                  "15"
                ],
                [
                  "11",
                  "2018-02-28 00:00:00",
                  "2018",
                  "2",
                  "ALB",
                  "WBR",
                  "Land",
                  "273"
                ],
                [
                  "12",
                  "2019-02-28 00:00:00",
                  "2019",
                  "2",
                  "ALB",
                  "WBR",
                  "Land",
                  "146"
                ],
                [
                  "13",
                  "2020-02-29 00:00:00",
                  "2020",
                  "2",
                  "ALB",
                  "WBR",
                  "Land",
                  "363"
                ],
                [
                  "14",
                  "2021-02-28 00:00:00",
                  "2021",
                  "2",
                  "ALB",
                  "WBR",
                  "Land",
                  "627"
                ],
                [
                  "15",
                  "2022-02-28 00:00:00",
                  "2022",
                  "2",
                  "ALB",
                  "WBR",
                  "Land",
                  "297"
                ],
                [
                  "16",
                  "2023-02-28 00:00:00",
                  "2023",
                  "2",
                  "ALB",
                  "WBR",
                  "Land",
                  "214"
                ],
                [
                  "17",
                  "2024-02-29 00:00:00",
                  "2024",
                  "2",
                  "ALB",
                  "WBR",
                  "Land",
                  "59"
                ],
                [
                  "18",
                  "2016-03-31 00:00:00",
                  "2016",
                  "3",
                  "ALB",
                  "WBR",
                  "Land",
                  "37"
                ],
                [
                  "19",
                  "2017-03-31 00:00:00",
                  "2017",
                  "3",
                  "ALB",
                  "WBR",
                  "Land",
                  "3"
                ],
                [
                  "20",
                  "2018-03-31 00:00:00",
                  "2018",
                  "3",
                  "ALB",
                  "WBR",
                  "Land",
                  "498"
                ],
                [
                  "21",
                  "2019-03-31 00:00:00",
                  "2019",
                  "3",
                  "ALB",
                  "WBR",
                  "Land",
                  "358"
                ],
                [
                  "22",
                  "2020-03-31 00:00:00",
                  "2020",
                  "3",
                  "ALB",
                  "WBR",
                  "Land",
                  "183"
                ],
                [
                  "23",
                  "2021-03-31 00:00:00",
                  "2021",
                  "3",
                  "ALB",
                  "WBR",
                  "Land",
                  "958"
                ],
                [
                  "24",
                  "2022-03-31 00:00:00",
                  "2022",
                  "3",
                  "ALB",
                  "WBR",
                  "Land",
                  "1073"
                ],
                [
                  "25",
                  "2023-03-31 00:00:00",
                  "2023",
                  "3",
                  "ALB",
                  "WBR",
                  "Land",
                  "488"
                ],
                [
                  "26",
                  "2024-03-31 00:00:00",
                  "2024",
                  "3",
                  "ALB",
                  "WBR",
                  "Land",
                  "142"
                ],
                [
                  "27",
                  "2016-04-30 00:00:00",
                  "2016",
                  "4",
                  "ALB",
                  "WBR",
                  "Land",
                  "69"
                ],
                [
                  "28",
                  "2017-04-30 00:00:00",
                  "2017",
                  "4",
                  "ALB",
                  "WBR",
                  "Land",
                  "1"
                ],
                [
                  "29",
                  "2018-04-30 00:00:00",
                  "2018",
                  "4",
                  "ALB",
                  "WBR",
                  "Land",
                  "333"
                ],
                [
                  "30",
                  "2019-04-30 00:00:00",
                  "2019",
                  "4",
                  "ALB",
                  "WBR",
                  "Land",
                  "219"
                ],
                [
                  "31",
                  "2020-04-30 00:00:00",
                  "2020",
                  "4",
                  "ALB",
                  "WBR",
                  "Land",
                  "171"
                ],
                [
                  "32",
                  "2021-04-30 00:00:00",
                  "2021",
                  "4",
                  "ALB",
                  "WBR",
                  "Land",
                  "1148"
                ],
                [
                  "33",
                  "2022-04-30 00:00:00",
                  "2022",
                  "4",
                  "ALB",
                  "WBR",
                  "Land",
                  "930"
                ],
                [
                  "34",
                  "2023-04-30 00:00:00",
                  "2023",
                  "4",
                  "ALB",
                  "WBR",
                  "Land",
                  "457"
                ],
                [
                  "35",
                  "2024-04-30 00:00:00",
                  "2024",
                  "4",
                  "ALB",
                  "WBR",
                  "Land",
                  "169"
                ],
                [
                  "36",
                  "2016-05-31 00:00:00",
                  "2016",
                  "5",
                  "ALB",
                  "WBR",
                  "Land",
                  "127"
                ],
                [
                  "37",
                  "2017-05-31 00:00:00",
                  "2017",
                  "5",
                  "ALB",
                  "WBR",
                  "Land",
                  "8"
                ],
                [
                  "38",
                  "2018-05-31 00:00:00",
                  "2018",
                  "5",
                  "ALB",
                  "WBR",
                  "Land",
                  "286"
                ],
                [
                  "39",
                  "2019-05-31 00:00:00",
                  "2019",
                  "5",
                  "ALB",
                  "WBR",
                  "Land",
                  "244"
                ],
                [
                  "40",
                  "2020-05-31 00:00:00",
                  "2020",
                  "5",
                  "ALB",
                  "WBR",
                  "Land",
                  "131"
                ],
                [
                  "41",
                  "2021-05-31 00:00:00",
                  "2021",
                  "5",
                  "ALB",
                  "WBR",
                  "Land",
                  "996"
                ],
                [
                  "42",
                  "2022-05-31 00:00:00",
                  "2022",
                  "5",
                  "ALB",
                  "WBR",
                  "Land",
                  "1105"
                ],
                [
                  "43",
                  "2023-05-31 00:00:00",
                  "2023",
                  "5",
                  "ALB",
                  "WBR",
                  "Land",
                  "629"
                ],
                [
                  "44",
                  "2024-05-31 00:00:00",
                  "2024",
                  "5",
                  "ALB",
                  "WBR",
                  "Land",
                  "158"
                ],
                [
                  "45",
                  "2016-06-30 00:00:00",
                  "2016",
                  "6",
                  "ALB",
                  "WBR",
                  "Land",
                  "47"
                ],
                [
                  "46",
                  "2017-06-30 00:00:00",
                  "2017",
                  "6",
                  "ALB",
                  "WBR",
                  "Land",
                  "11"
                ],
                [
                  "47",
                  "2018-06-30 00:00:00",
                  "2018",
                  "6",
                  "ALB",
                  "WBR",
                  "Land",
                  "327"
                ],
                [
                  "48",
                  "2019-06-30 00:00:00",
                  "2019",
                  "6",
                  "ALB",
                  "WBR",
                  "Land",
                  "184"
                ],
                [
                  "49",
                  "2020-06-30 00:00:00",
                  "2020",
                  "6",
                  "ALB",
                  "WBR",
                  "Land",
                  "237"
                ]
              ],
              "shape": {
                "columns": 7,
                "rows": 925
              }
            },
            "text/html": [
              "<div>\n",
              "<style scoped>\n",
              "    .dataframe tbody tr th:only-of-type {\n",
              "        vertical-align: middle;\n",
              "    }\n",
              "\n",
              "    .dataframe tbody tr th {\n",
              "        vertical-align: top;\n",
              "    }\n",
              "\n",
              "    .dataframe thead th {\n",
              "        text-align: right;\n",
              "    }\n",
              "</style>\n",
              "<table border=\"1\" class=\"dataframe\">\n",
              "  <thead>\n",
              "    <tr style=\"text-align: right;\">\n",
              "      <th></th>\n",
              "      <th>Date</th>\n",
              "      <th>Year</th>\n",
              "      <th>Month</th>\n",
              "      <th>ISO3 - Country of arrival</th>\n",
              "      <th>Route</th>\n",
              "      <th>Type of arrival</th>\n",
              "      <th>Arrivals</th>\n",
              "    </tr>\n",
              "  </thead>\n",
              "  <tbody>\n",
              "    <tr>\n",
              "      <th>0</th>\n",
              "      <td>2016-01-31</td>\n",
              "      <td>2016</td>\n",
              "      <td>1</td>\n",
              "      <td>ALB</td>\n",
              "      <td>WBR</td>\n",
              "      <td>Land</td>\n",
              "      <td>55</td>\n",
              "    </tr>\n",
              "    <tr>\n",
              "      <th>1</th>\n",
              "      <td>2017-01-31</td>\n",
              "      <td>2017</td>\n",
              "      <td>1</td>\n",
              "      <td>ALB</td>\n",
              "      <td>WBR</td>\n",
              "      <td>Land</td>\n",
              "      <td>108</td>\n",
              "    </tr>\n",
              "    <tr>\n",
              "      <th>2</th>\n",
              "      <td>2018-01-31</td>\n",
              "      <td>2018</td>\n",
              "      <td>1</td>\n",
              "      <td>ALB</td>\n",
              "      <td>WBR</td>\n",
              "      <td>Land</td>\n",
              "      <td>114</td>\n",
              "    </tr>\n",
              "    <tr>\n",
              "      <th>3</th>\n",
              "      <td>2019-01-31</td>\n",
              "      <td>2019</td>\n",
              "      <td>1</td>\n",
              "      <td>ALB</td>\n",
              "      <td>WBR</td>\n",
              "      <td>Land</td>\n",
              "      <td>59</td>\n",
              "    </tr>\n",
              "    <tr>\n",
              "      <th>4</th>\n",
              "      <td>2020-01-31</td>\n",
              "      <td>2020</td>\n",
              "      <td>1</td>\n",
              "      <td>ALB</td>\n",
              "      <td>WBR</td>\n",
              "      <td>Land</td>\n",
              "      <td>156</td>\n",
              "    </tr>\n",
              "    <tr>\n",
              "      <th>...</th>\n",
              "      <td>...</td>\n",
              "      <td>...</td>\n",
              "      <td>...</td>\n",
              "      <td>...</td>\n",
              "      <td>...</td>\n",
              "      <td>...</td>\n",
              "      <td>...</td>\n",
              "    </tr>\n",
              "    <tr>\n",
              "      <th>920</th>\n",
              "      <td>2020-12-31</td>\n",
              "      <td>2020</td>\n",
              "      <td>12</td>\n",
              "      <td>XKX</td>\n",
              "      <td>WBR</td>\n",
              "      <td>Land</td>\n",
              "      <td>138</td>\n",
              "    </tr>\n",
              "    <tr>\n",
              "      <th>921</th>\n",
              "      <td>2021-12-31</td>\n",
              "      <td>2021</td>\n",
              "      <td>12</td>\n",
              "      <td>XKX</td>\n",
              "      <td>WBR</td>\n",
              "      <td>Land</td>\n",
              "      <td>69</td>\n",
              "    </tr>\n",
              "    <tr>\n",
              "      <th>922</th>\n",
              "      <td>2022-12-31</td>\n",
              "      <td>2022</td>\n",
              "      <td>12</td>\n",
              "      <td>XKX</td>\n",
              "      <td>WBR</td>\n",
              "      <td>Land</td>\n",
              "      <td>141</td>\n",
              "    </tr>\n",
              "    <tr>\n",
              "      <th>923</th>\n",
              "      <td>2023-12-31</td>\n",
              "      <td>2023</td>\n",
              "      <td>12</td>\n",
              "      <td>XKX</td>\n",
              "      <td>WBR</td>\n",
              "      <td>Land</td>\n",
              "      <td>49</td>\n",
              "    </tr>\n",
              "    <tr>\n",
              "      <th>924</th>\n",
              "      <td>2024-12-31</td>\n",
              "      <td>2024</td>\n",
              "      <td>12</td>\n",
              "      <td>XKX</td>\n",
              "      <td>WBR</td>\n",
              "      <td>Land</td>\n",
              "      <td>60</td>\n",
              "    </tr>\n",
              "  </tbody>\n",
              "</table>\n",
              "<p>925 rows × 7 columns</p>\n",
              "</div>"
            ],
            "text/plain": [
              "          Date  Year  Month ISO3 - Country of arrival Route Type of arrival  \\\n",
              "0   2016-01-31  2016      1                       ALB   WBR            Land   \n",
              "1   2017-01-31  2017      1                       ALB   WBR            Land   \n",
              "2   2018-01-31  2018      1                       ALB   WBR            Land   \n",
              "3   2019-01-31  2019      1                       ALB   WBR            Land   \n",
              "4   2020-01-31  2020      1                       ALB   WBR            Land   \n",
              "..         ...   ...    ...                       ...   ...             ...   \n",
              "920 2020-12-31  2020     12                       XKX   WBR            Land   \n",
              "921 2021-12-31  2021     12                       XKX   WBR            Land   \n",
              "922 2022-12-31  2022     12                       XKX   WBR            Land   \n",
              "923 2023-12-31  2023     12                       XKX   WBR            Land   \n",
              "924 2024-12-31  2024     12                       XKX   WBR            Land   \n",
              "\n",
              "     Arrivals  \n",
              "0          55  \n",
              "1         108  \n",
              "2         114  \n",
              "3          59  \n",
              "4         156  \n",
              "..        ...  \n",
              "920       138  \n",
              "921        69  \n",
              "922       141  \n",
              "923        49  \n",
              "924        60  \n",
              "\n",
              "[925 rows x 7 columns]"
            ]
          },
          "execution_count": 17,
          "metadata": {},
          "output_type": "execute_result"
        }
      ],
      "source": [
        "df_Other_Countries_Areas_Monthly"
      ]
    },
    {
      "cell_type": "markdown",
      "metadata": {},
      "source": [
        "### Explicación sencilla:\n",
        "1.  Leyendo el archivo indicando sheet_name=None, podemos acceder a todas las hojas del archivo Excel de una sola vez.\n",
        "\n",
        "2. Con for recorremos cada hoja del archivo Excel y vamos guardando:\n",
        "- Cada nombre de hoja en nombre_hoja, reemplazando espacios y guiones por guiones bajos para que sea un nombre de variable válido.\n",
        "- El DataFrame correspondiente a esa hoja en df.\n",
        "\n",
        "3. Empleamos globals() para crear dinámicamente una variable con el nombre de la hoja y asignarle el DataFrame correspondiente.\n",
        "\n",
        "4. Por último, mostramos los nombres de las variables creadas dinámicamente y su número de filas gracias a len().\n",
        "\n",
        "```python"
      ]
    },
    {
      "cell_type": "markdown",
      "metadata": {},
      "source": [
        "# 🕵️‍♂️ 3. Exploración de datos con Pandas"
      ]
    },
    {
      "cell_type": "markdown",
      "metadata": {},
      "source": [
        "Una vez que tenemos nuestro **DataFrame**, necesitamos aprender a **explorar y seleccionar datos**.  \n",
        "En este bloque veremos cómo acceder a **columnas y filas**, aplicar **filtros con condiciones** y **ordenar los datos**.\n",
        "\n",
        "Existen varios métodos para obtener una visión rápida de los datos en un DataFrame. Algunos de los más útiles son:\n",
        "\n",
        "### 🏷️ Tabla de métodos de exploración inicial con pandas"
      ]
    },
    {
      "cell_type": "markdown",
      "metadata": {},
      "source": [
        "\n",
        "| Método         | Descripción                                      |\n",
        "|----------------|--------------------------------------------------|\n",
        "| `info()`       | Proporciona un resumen conciso del DataFrame.    |\n",
        "| `shape`        | Devuelve una tupla con el número de filas y columnas. |\n",
        "| `columns`      | Lista los nombres de las columnas del DataFrame. |\n",
        "| `dtypes`       | Muestra el tipo de datos de cada columna.        |\n",
        "| `head(n)`      | Muestra las primeras `n` filas del DataFrame.    |\n",
        "| `tail(n)`      | Muestra las últimas `n` filas del DataFrame.     |\n",
        "| `describe()`   | Genera estadísticas descriptivas del DataFrame.  |\n"
      ]
    },
    {
      "cell_type": "code",
      "execution_count": 18,
      "metadata": {},
      "outputs": [
        {
          "name": "stdout",
          "output_type": "stream",
          "text": [
            "<class 'pandas.core.frame.DataFrame'>\n",
            "RangeIndex: 1689 entries, 0 to 1688\n",
            "Data columns (total 8 columns):\n",
            " #   Column                     Non-Null Count  Dtype         \n",
            "---  ------                     --------------  -----         \n",
            " 0   Date                       1689 non-null   datetime64[ns]\n",
            " 1   Year                       1689 non-null   int64         \n",
            " 2   Month                      1689 non-null   int64         \n",
            " 3   ISO3 - Country of origin   1689 non-null   object        \n",
            " 4   ISO3 - Country of arrival  1689 non-null   object        \n",
            " 5   Route                      1689 non-null   object        \n",
            " 6   Arrivals                   1689 non-null   int64         \n",
            " 7   Source                     1689 non-null   object        \n",
            "dtypes: datetime64[ns](1), int64(3), object(4)\n",
            "memory usage: 105.7+ KB\n"
          ]
        }
      ],
      "source": [
        "#Con info podemos ver un resumen del DataFrame, incluyendo el número de entradas, el número de columnas, los nombres de las columnas, \n",
        "#el tipo de datos de cada columna y la cantidad de memoria utilizada.\n",
        "df_excel.info()"
      ]
    },
    {
      "cell_type": "code",
      "execution_count": 19,
      "metadata": {},
      "outputs": [
        {
          "data": {
            "text/plain": [
              "(1689, 8)"
            ]
          },
          "execution_count": 19,
          "metadata": {},
          "output_type": "execute_result"
        }
      ],
      "source": [
        "#Saber el número de filas y columnas del DataFrame. \n",
        "#Devuelve una tupla (número de filas, número de columnas).\n",
        "df_excel.shape"
      ]
    },
    {
      "cell_type": "code",
      "execution_count": 20,
      "metadata": {},
      "outputs": [
        {
          "data": {
            "text/plain": [
              "Index(['Date', 'Year', 'Month', 'ISO3 - Country of origin',\n",
              "       'ISO3 - Country of arrival', 'Route', 'Arrivals', 'Source'],\n",
              "      dtype='object')"
            ]
          },
          "execution_count": 20,
          "metadata": {},
          "output_type": "execute_result"
        }
      ],
      "source": [
        "# Saber los nombres de las columnas del DataFrame\n",
        "df_excel.columns"
      ]
    },
    {
      "cell_type": "code",
      "execution_count": 21,
      "metadata": {},
      "outputs": [
        {
          "data": {
            "application/vnd.microsoft.datawrangler.viewer.v0+json": {
              "columns": [
                {
                  "name": "index",
                  "rawType": "object",
                  "type": "string"
                },
                {
                  "name": "0",
                  "rawType": "object",
                  "type": "unknown"
                }
              ],
              "ref": "49ac5b3b-6153-437e-bf32-a8eb0dd4f338",
              "rows": [
                [
                  "Date",
                  "datetime64[ns]"
                ],
                [
                  "Year",
                  "int64"
                ],
                [
                  "Month",
                  "int64"
                ],
                [
                  "ISO3 - Country of origin",
                  "object"
                ],
                [
                  "ISO3 - Country of arrival",
                  "object"
                ],
                [
                  "Route",
                  "object"
                ],
                [
                  "Arrivals",
                  "int64"
                ],
                [
                  "Source",
                  "object"
                ]
              ],
              "shape": {
                "columns": 1,
                "rows": 8
              }
            },
            "text/plain": [
              "Date                         datetime64[ns]\n",
              "Year                                  int64\n",
              "Month                                 int64\n",
              "ISO3 - Country of origin             object\n",
              "ISO3 - Country of arrival            object\n",
              "Route                                object\n",
              "Arrivals                              int64\n",
              "Source                               object\n",
              "dtype: object"
            ]
          },
          "execution_count": 21,
          "metadata": {},
          "output_type": "execute_result"
        }
      ],
      "source": [
        "# Saber el tipo de datos de cada columna\n",
        "df_excel.dtypes"
      ]
    },
    {
      "cell_type": "code",
      "execution_count": 23,
      "metadata": {},
      "outputs": [
        {
          "data": {
            "application/vnd.microsoft.datawrangler.viewer.v0+json": {
              "columns": [
                {
                  "name": "index",
                  "rawType": "int64",
                  "type": "integer"
                },
                {
                  "name": "Date",
                  "rawType": "datetime64[ns]",
                  "type": "datetime"
                },
                {
                  "name": "Year",
                  "rawType": "int64",
                  "type": "integer"
                },
                {
                  "name": "Month",
                  "rawType": "int64",
                  "type": "integer"
                },
                {
                  "name": "ISO3 - Country of origin",
                  "rawType": "object",
                  "type": "string"
                },
                {
                  "name": "ISO3 - Country of arrival",
                  "rawType": "object",
                  "type": "string"
                },
                {
                  "name": "Route",
                  "rawType": "object",
                  "type": "string"
                },
                {
                  "name": "Arrivals",
                  "rawType": "int64",
                  "type": "integer"
                },
                {
                  "name": "Source",
                  "rawType": "object",
                  "type": "string"
                }
              ],
              "ref": "ecb1cd9f-b81c-4556-97bc-55a8fce5d62c",
              "rows": [
                [
                  "0",
                  "2024-01-31 00:00:00",
                  "2024",
                  "1",
                  "BGD",
                  "MLT",
                  "CMR",
                  "7",
                  "Maltese Minitry of Home Affairs, Security and Employment"
                ],
                [
                  "1",
                  "2024-01-31 00:00:00",
                  "2024",
                  "1",
                  "EGY",
                  "MLT",
                  "CMR",
                  "1",
                  "Maltese Minitry of Home Affairs, Security and Employment"
                ],
                [
                  "2",
                  "2024-01-31 00:00:00",
                  "2024",
                  "1",
                  "PAK",
                  "MLT",
                  "CMR",
                  "22",
                  "Maltese Minitry of Home Affairs, Security and Employment"
                ],
                [
                  "3",
                  "2024-01-31 00:00:00",
                  "2024",
                  "1",
                  "SDN",
                  "MLT",
                  "CMR",
                  "1",
                  "Maltese Minitry of Home Affairs, Security and Employment"
                ],
                [
                  "4",
                  "2024-01-31 00:00:00",
                  "2024",
                  "1",
                  "SYR",
                  "MLT",
                  "CMR",
                  "4",
                  "Maltese Minitry of Home Affairs, Security and Employment"
                ],
                [
                  "5",
                  "2024-02-29 00:00:00",
                  "2024",
                  "2",
                  "BGD",
                  "MLT",
                  "CMR",
                  "7",
                  "Maltese Minitry of Home Affairs, Security and Employment"
                ],
                [
                  "6",
                  "2024-02-29 00:00:00",
                  "2024",
                  "2",
                  "EGY",
                  "MLT",
                  "CMR",
                  "1",
                  "Maltese Minitry of Home Affairs, Security and Employment"
                ],
                [
                  "7",
                  "2024-02-29 00:00:00",
                  "2024",
                  "2",
                  "ERI",
                  "MLT",
                  "CMR",
                  "8",
                  "Maltese Minitry of Home Affairs, Security and Employment"
                ],
                [
                  "8",
                  "2024-02-29 00:00:00",
                  "2024",
                  "2",
                  "ETH",
                  "MLT",
                  "CMR",
                  "2",
                  "Maltese Minitry of Home Affairs, Security and Employment"
                ],
                [
                  "9",
                  "2024-02-29 00:00:00",
                  "2024",
                  "2",
                  "GHA",
                  "MLT",
                  "CMR",
                  "3",
                  "Maltese Minitry of Home Affairs, Security and Employment"
                ],
                [
                  "10",
                  "2024-02-29 00:00:00",
                  "2024",
                  "2",
                  "SYR",
                  "MLT",
                  "CMR",
                  "11",
                  "Maltese Minitry of Home Affairs, Security and Employment"
                ],
                [
                  "11",
                  "2024-03-31 00:00:00",
                  "2024",
                  "3",
                  "SYR",
                  "MLT",
                  "CMR",
                  "1",
                  "Maltese Minitry of Home Affairs, Security and Employment"
                ],
                [
                  "12",
                  "2024-07-31 00:00:00",
                  "2024",
                  "7",
                  "EGY",
                  "MLT",
                  "CMR",
                  "1",
                  "Maltese Minitry of Home Affairs, Security and Employment"
                ],
                [
                  "13",
                  "2024-07-31 00:00:00",
                  "2024",
                  "7",
                  "PSE",
                  "MLT",
                  "CMR",
                  "2",
                  "Maltese Minitry of Home Affairs, Security and Employment"
                ],
                [
                  "14",
                  "2024-07-31 00:00:00",
                  "2024",
                  "7",
                  "SYR",
                  "MLT",
                  "CMR",
                  "25",
                  "Maltese Minitry of Home Affairs, Security and Employment"
                ],
                [
                  "15",
                  "2024-08-31 00:00:00",
                  "2024",
                  "8",
                  "SYR",
                  "MLT",
                  "CMR",
                  "1",
                  "Maltese Minitry of Home Affairs, Security and Employment"
                ],
                [
                  "16",
                  "2024-09-30 00:00:00",
                  "2024",
                  "9",
                  "EGY",
                  "MLT",
                  "CMR",
                  "4",
                  "Maltese Minitry of Home Affairs, Security and Employment"
                ],
                [
                  "17",
                  "2024-09-30 00:00:00",
                  "2024",
                  "9",
                  "SDN",
                  "MLT",
                  "CMR",
                  "2",
                  "Maltese Minitry of Home Affairs, Security and Employment"
                ],
                [
                  "18",
                  "2024-10-31 00:00:00",
                  "2024",
                  "10",
                  "BGD",
                  "MLT",
                  "CMR",
                  "39",
                  "Maltese Minitry of Home Affairs, Security and Employment"
                ],
                [
                  "19",
                  "2024-10-31 00:00:00",
                  "2024",
                  "10",
                  "EGY",
                  "MLT",
                  "CMR",
                  "7",
                  "Maltese Minitry of Home Affairs, Security and Employment"
                ],
                [
                  "20",
                  "2024-10-31 00:00:00",
                  "2024",
                  "10",
                  "PAK",
                  "MLT",
                  "CMR",
                  "1",
                  "Maltese Minitry of Home Affairs, Security and Employment"
                ],
                [
                  "21",
                  "2024-10-31 00:00:00",
                  "2024",
                  "10",
                  "SYR",
                  "MLT",
                  "CMR",
                  "5",
                  "Maltese Minitry of Home Affairs, Security and Employment"
                ],
                [
                  "22",
                  "2024-12-31 00:00:00",
                  "2024",
                  "12",
                  "BGD",
                  "MLT",
                  "CMR",
                  "60",
                  "Maltese Minitry of Home Affairs, Security and Employment"
                ],
                [
                  "23",
                  "2024-12-31 00:00:00",
                  "2024",
                  "12",
                  "EGY",
                  "MLT",
                  "CMR",
                  "14",
                  "Maltese Minitry of Home Affairs, Security and Employment"
                ],
                [
                  "24",
                  "2024-12-31 00:00:00",
                  "2024",
                  "12",
                  "ERI",
                  "MLT",
                  "CMR",
                  "1",
                  "Maltese Minitry of Home Affairs, Security and Employment"
                ]
              ],
              "shape": {
                "columns": 8,
                "rows": 25
              }
            },
            "text/html": [
              "<div>\n",
              "<style scoped>\n",
              "    .dataframe tbody tr th:only-of-type {\n",
              "        vertical-align: middle;\n",
              "    }\n",
              "\n",
              "    .dataframe tbody tr th {\n",
              "        vertical-align: top;\n",
              "    }\n",
              "\n",
              "    .dataframe thead th {\n",
              "        text-align: right;\n",
              "    }\n",
              "</style>\n",
              "<table border=\"1\" class=\"dataframe\">\n",
              "  <thead>\n",
              "    <tr style=\"text-align: right;\">\n",
              "      <th></th>\n",
              "      <th>Date</th>\n",
              "      <th>Year</th>\n",
              "      <th>Month</th>\n",
              "      <th>ISO3 - Country of origin</th>\n",
              "      <th>ISO3 - Country of arrival</th>\n",
              "      <th>Route</th>\n",
              "      <th>Arrivals</th>\n",
              "      <th>Source</th>\n",
              "    </tr>\n",
              "  </thead>\n",
              "  <tbody>\n",
              "    <tr>\n",
              "      <th>0</th>\n",
              "      <td>2024-01-31</td>\n",
              "      <td>2024</td>\n",
              "      <td>1</td>\n",
              "      <td>BGD</td>\n",
              "      <td>MLT</td>\n",
              "      <td>CMR</td>\n",
              "      <td>7</td>\n",
              "      <td>Maltese Minitry of Home Affairs, Security and ...</td>\n",
              "    </tr>\n",
              "    <tr>\n",
              "      <th>1</th>\n",
              "      <td>2024-01-31</td>\n",
              "      <td>2024</td>\n",
              "      <td>1</td>\n",
              "      <td>EGY</td>\n",
              "      <td>MLT</td>\n",
              "      <td>CMR</td>\n",
              "      <td>1</td>\n",
              "      <td>Maltese Minitry of Home Affairs, Security and ...</td>\n",
              "    </tr>\n",
              "    <tr>\n",
              "      <th>2</th>\n",
              "      <td>2024-01-31</td>\n",
              "      <td>2024</td>\n",
              "      <td>1</td>\n",
              "      <td>PAK</td>\n",
              "      <td>MLT</td>\n",
              "      <td>CMR</td>\n",
              "      <td>22</td>\n",
              "      <td>Maltese Minitry of Home Affairs, Security and ...</td>\n",
              "    </tr>\n",
              "    <tr>\n",
              "      <th>3</th>\n",
              "      <td>2024-01-31</td>\n",
              "      <td>2024</td>\n",
              "      <td>1</td>\n",
              "      <td>SDN</td>\n",
              "      <td>MLT</td>\n",
              "      <td>CMR</td>\n",
              "      <td>1</td>\n",
              "      <td>Maltese Minitry of Home Affairs, Security and ...</td>\n",
              "    </tr>\n",
              "    <tr>\n",
              "      <th>4</th>\n",
              "      <td>2024-01-31</td>\n",
              "      <td>2024</td>\n",
              "      <td>1</td>\n",
              "      <td>SYR</td>\n",
              "      <td>MLT</td>\n",
              "      <td>CMR</td>\n",
              "      <td>4</td>\n",
              "      <td>Maltese Minitry of Home Affairs, Security and ...</td>\n",
              "    </tr>\n",
              "    <tr>\n",
              "      <th>5</th>\n",
              "      <td>2024-02-29</td>\n",
              "      <td>2024</td>\n",
              "      <td>2</td>\n",
              "      <td>BGD</td>\n",
              "      <td>MLT</td>\n",
              "      <td>CMR</td>\n",
              "      <td>7</td>\n",
              "      <td>Maltese Minitry of Home Affairs, Security and ...</td>\n",
              "    </tr>\n",
              "    <tr>\n",
              "      <th>6</th>\n",
              "      <td>2024-02-29</td>\n",
              "      <td>2024</td>\n",
              "      <td>2</td>\n",
              "      <td>EGY</td>\n",
              "      <td>MLT</td>\n",
              "      <td>CMR</td>\n",
              "      <td>1</td>\n",
              "      <td>Maltese Minitry of Home Affairs, Security and ...</td>\n",
              "    </tr>\n",
              "    <tr>\n",
              "      <th>7</th>\n",
              "      <td>2024-02-29</td>\n",
              "      <td>2024</td>\n",
              "      <td>2</td>\n",
              "      <td>ERI</td>\n",
              "      <td>MLT</td>\n",
              "      <td>CMR</td>\n",
              "      <td>8</td>\n",
              "      <td>Maltese Minitry of Home Affairs, Security and ...</td>\n",
              "    </tr>\n",
              "    <tr>\n",
              "      <th>8</th>\n",
              "      <td>2024-02-29</td>\n",
              "      <td>2024</td>\n",
              "      <td>2</td>\n",
              "      <td>ETH</td>\n",
              "      <td>MLT</td>\n",
              "      <td>CMR</td>\n",
              "      <td>2</td>\n",
              "      <td>Maltese Minitry of Home Affairs, Security and ...</td>\n",
              "    </tr>\n",
              "    <tr>\n",
              "      <th>9</th>\n",
              "      <td>2024-02-29</td>\n",
              "      <td>2024</td>\n",
              "      <td>2</td>\n",
              "      <td>GHA</td>\n",
              "      <td>MLT</td>\n",
              "      <td>CMR</td>\n",
              "      <td>3</td>\n",
              "      <td>Maltese Minitry of Home Affairs, Security and ...</td>\n",
              "    </tr>\n",
              "    <tr>\n",
              "      <th>10</th>\n",
              "      <td>2024-02-29</td>\n",
              "      <td>2024</td>\n",
              "      <td>2</td>\n",
              "      <td>SYR</td>\n",
              "      <td>MLT</td>\n",
              "      <td>CMR</td>\n",
              "      <td>11</td>\n",
              "      <td>Maltese Minitry of Home Affairs, Security and ...</td>\n",
              "    </tr>\n",
              "    <tr>\n",
              "      <th>11</th>\n",
              "      <td>2024-03-31</td>\n",
              "      <td>2024</td>\n",
              "      <td>3</td>\n",
              "      <td>SYR</td>\n",
              "      <td>MLT</td>\n",
              "      <td>CMR</td>\n",
              "      <td>1</td>\n",
              "      <td>Maltese Minitry of Home Affairs, Security and ...</td>\n",
              "    </tr>\n",
              "    <tr>\n",
              "      <th>12</th>\n",
              "      <td>2024-07-31</td>\n",
              "      <td>2024</td>\n",
              "      <td>7</td>\n",
              "      <td>EGY</td>\n",
              "      <td>MLT</td>\n",
              "      <td>CMR</td>\n",
              "      <td>1</td>\n",
              "      <td>Maltese Minitry of Home Affairs, Security and ...</td>\n",
              "    </tr>\n",
              "    <tr>\n",
              "      <th>13</th>\n",
              "      <td>2024-07-31</td>\n",
              "      <td>2024</td>\n",
              "      <td>7</td>\n",
              "      <td>PSE</td>\n",
              "      <td>MLT</td>\n",
              "      <td>CMR</td>\n",
              "      <td>2</td>\n",
              "      <td>Maltese Minitry of Home Affairs, Security and ...</td>\n",
              "    </tr>\n",
              "    <tr>\n",
              "      <th>14</th>\n",
              "      <td>2024-07-31</td>\n",
              "      <td>2024</td>\n",
              "      <td>7</td>\n",
              "      <td>SYR</td>\n",
              "      <td>MLT</td>\n",
              "      <td>CMR</td>\n",
              "      <td>25</td>\n",
              "      <td>Maltese Minitry of Home Affairs, Security and ...</td>\n",
              "    </tr>\n",
              "    <tr>\n",
              "      <th>15</th>\n",
              "      <td>2024-08-31</td>\n",
              "      <td>2024</td>\n",
              "      <td>8</td>\n",
              "      <td>SYR</td>\n",
              "      <td>MLT</td>\n",
              "      <td>CMR</td>\n",
              "      <td>1</td>\n",
              "      <td>Maltese Minitry of Home Affairs, Security and ...</td>\n",
              "    </tr>\n",
              "    <tr>\n",
              "      <th>16</th>\n",
              "      <td>2024-09-30</td>\n",
              "      <td>2024</td>\n",
              "      <td>9</td>\n",
              "      <td>EGY</td>\n",
              "      <td>MLT</td>\n",
              "      <td>CMR</td>\n",
              "      <td>4</td>\n",
              "      <td>Maltese Minitry of Home Affairs, Security and ...</td>\n",
              "    </tr>\n",
              "    <tr>\n",
              "      <th>17</th>\n",
              "      <td>2024-09-30</td>\n",
              "      <td>2024</td>\n",
              "      <td>9</td>\n",
              "      <td>SDN</td>\n",
              "      <td>MLT</td>\n",
              "      <td>CMR</td>\n",
              "      <td>2</td>\n",
              "      <td>Maltese Minitry of Home Affairs, Security and ...</td>\n",
              "    </tr>\n",
              "    <tr>\n",
              "      <th>18</th>\n",
              "      <td>2024-10-31</td>\n",
              "      <td>2024</td>\n",
              "      <td>10</td>\n",
              "      <td>BGD</td>\n",
              "      <td>MLT</td>\n",
              "      <td>CMR</td>\n",
              "      <td>39</td>\n",
              "      <td>Maltese Minitry of Home Affairs, Security and ...</td>\n",
              "    </tr>\n",
              "    <tr>\n",
              "      <th>19</th>\n",
              "      <td>2024-10-31</td>\n",
              "      <td>2024</td>\n",
              "      <td>10</td>\n",
              "      <td>EGY</td>\n",
              "      <td>MLT</td>\n",
              "      <td>CMR</td>\n",
              "      <td>7</td>\n",
              "      <td>Maltese Minitry of Home Affairs, Security and ...</td>\n",
              "    </tr>\n",
              "    <tr>\n",
              "      <th>20</th>\n",
              "      <td>2024-10-31</td>\n",
              "      <td>2024</td>\n",
              "      <td>10</td>\n",
              "      <td>PAK</td>\n",
              "      <td>MLT</td>\n",
              "      <td>CMR</td>\n",
              "      <td>1</td>\n",
              "      <td>Maltese Minitry of Home Affairs, Security and ...</td>\n",
              "    </tr>\n",
              "    <tr>\n",
              "      <th>21</th>\n",
              "      <td>2024-10-31</td>\n",
              "      <td>2024</td>\n",
              "      <td>10</td>\n",
              "      <td>SYR</td>\n",
              "      <td>MLT</td>\n",
              "      <td>CMR</td>\n",
              "      <td>5</td>\n",
              "      <td>Maltese Minitry of Home Affairs, Security and ...</td>\n",
              "    </tr>\n",
              "    <tr>\n",
              "      <th>22</th>\n",
              "      <td>2024-12-31</td>\n",
              "      <td>2024</td>\n",
              "      <td>12</td>\n",
              "      <td>BGD</td>\n",
              "      <td>MLT</td>\n",
              "      <td>CMR</td>\n",
              "      <td>60</td>\n",
              "      <td>Maltese Minitry of Home Affairs, Security and ...</td>\n",
              "    </tr>\n",
              "    <tr>\n",
              "      <th>23</th>\n",
              "      <td>2024-12-31</td>\n",
              "      <td>2024</td>\n",
              "      <td>12</td>\n",
              "      <td>EGY</td>\n",
              "      <td>MLT</td>\n",
              "      <td>CMR</td>\n",
              "      <td>14</td>\n",
              "      <td>Maltese Minitry of Home Affairs, Security and ...</td>\n",
              "    </tr>\n",
              "    <tr>\n",
              "      <th>24</th>\n",
              "      <td>2024-12-31</td>\n",
              "      <td>2024</td>\n",
              "      <td>12</td>\n",
              "      <td>ERI</td>\n",
              "      <td>MLT</td>\n",
              "      <td>CMR</td>\n",
              "      <td>1</td>\n",
              "      <td>Maltese Minitry of Home Affairs, Security and ...</td>\n",
              "    </tr>\n",
              "  </tbody>\n",
              "</table>\n",
              "</div>"
            ],
            "text/plain": [
              "         Date  Year  Month ISO3 - Country of origin ISO3 - Country of arrival  \\\n",
              "0  2024-01-31  2024      1                      BGD                       MLT   \n",
              "1  2024-01-31  2024      1                      EGY                       MLT   \n",
              "2  2024-01-31  2024      1                      PAK                       MLT   \n",
              "3  2024-01-31  2024      1                      SDN                       MLT   \n",
              "4  2024-01-31  2024      1                      SYR                       MLT   \n",
              "5  2024-02-29  2024      2                      BGD                       MLT   \n",
              "6  2024-02-29  2024      2                      EGY                       MLT   \n",
              "7  2024-02-29  2024      2                      ERI                       MLT   \n",
              "8  2024-02-29  2024      2                      ETH                       MLT   \n",
              "9  2024-02-29  2024      2                      GHA                       MLT   \n",
              "10 2024-02-29  2024      2                      SYR                       MLT   \n",
              "11 2024-03-31  2024      3                      SYR                       MLT   \n",
              "12 2024-07-31  2024      7                      EGY                       MLT   \n",
              "13 2024-07-31  2024      7                      PSE                       MLT   \n",
              "14 2024-07-31  2024      7                      SYR                       MLT   \n",
              "15 2024-08-31  2024      8                      SYR                       MLT   \n",
              "16 2024-09-30  2024      9                      EGY                       MLT   \n",
              "17 2024-09-30  2024      9                      SDN                       MLT   \n",
              "18 2024-10-31  2024     10                      BGD                       MLT   \n",
              "19 2024-10-31  2024     10                      EGY                       MLT   \n",
              "20 2024-10-31  2024     10                      PAK                       MLT   \n",
              "21 2024-10-31  2024     10                      SYR                       MLT   \n",
              "22 2024-12-31  2024     12                      BGD                       MLT   \n",
              "23 2024-12-31  2024     12                      EGY                       MLT   \n",
              "24 2024-12-31  2024     12                      ERI                       MLT   \n",
              "\n",
              "   Route  Arrivals                                             Source  \n",
              "0    CMR         7  Maltese Minitry of Home Affairs, Security and ...  \n",
              "1    CMR         1  Maltese Minitry of Home Affairs, Security and ...  \n",
              "2    CMR        22  Maltese Minitry of Home Affairs, Security and ...  \n",
              "3    CMR         1  Maltese Minitry of Home Affairs, Security and ...  \n",
              "4    CMR         4  Maltese Minitry of Home Affairs, Security and ...  \n",
              "5    CMR         7  Maltese Minitry of Home Affairs, Security and ...  \n",
              "6    CMR         1  Maltese Minitry of Home Affairs, Security and ...  \n",
              "7    CMR         8  Maltese Minitry of Home Affairs, Security and ...  \n",
              "8    CMR         2  Maltese Minitry of Home Affairs, Security and ...  \n",
              "9    CMR         3  Maltese Minitry of Home Affairs, Security and ...  \n",
              "10   CMR        11  Maltese Minitry of Home Affairs, Security and ...  \n",
              "11   CMR         1  Maltese Minitry of Home Affairs, Security and ...  \n",
              "12   CMR         1  Maltese Minitry of Home Affairs, Security and ...  \n",
              "13   CMR         2  Maltese Minitry of Home Affairs, Security and ...  \n",
              "14   CMR        25  Maltese Minitry of Home Affairs, Security and ...  \n",
              "15   CMR         1  Maltese Minitry of Home Affairs, Security and ...  \n",
              "16   CMR         4  Maltese Minitry of Home Affairs, Security and ...  \n",
              "17   CMR         2  Maltese Minitry of Home Affairs, Security and ...  \n",
              "18   CMR        39  Maltese Minitry of Home Affairs, Security and ...  \n",
              "19   CMR         7  Maltese Minitry of Home Affairs, Security and ...  \n",
              "20   CMR         1  Maltese Minitry of Home Affairs, Security and ...  \n",
              "21   CMR         5  Maltese Minitry of Home Affairs, Security and ...  \n",
              "22   CMR        60  Maltese Minitry of Home Affairs, Security and ...  \n",
              "23   CMR        14  Maltese Minitry of Home Affairs, Security and ...  \n",
              "24   CMR         1  Maltese Minitry of Home Affairs, Security and ...  "
            ]
          },
          "execution_count": 23,
          "metadata": {},
          "output_type": "execute_result"
        }
      ],
      "source": [
        "#Ver las primeras filas del DataFrame. Entre paréntesis se puede indicar el número de filas a mostrar. Por defecto son 5.\n",
        "df_excel.head(25)"
      ]
    },
    {
      "cell_type": "code",
      "execution_count": 25,
      "metadata": {},
      "outputs": [
        {
          "data": {
            "application/vnd.microsoft.datawrangler.viewer.v0+json": {
              "columns": [
                {
                  "name": "index",
                  "rawType": "int64",
                  "type": "integer"
                },
                {
                  "name": "Date",
                  "rawType": "datetime64[ns]",
                  "type": "datetime"
                },
                {
                  "name": "Year",
                  "rawType": "int64",
                  "type": "integer"
                },
                {
                  "name": "Month",
                  "rawType": "int64",
                  "type": "integer"
                },
                {
                  "name": "ISO3 - Country of origin",
                  "rawType": "object",
                  "type": "string"
                },
                {
                  "name": "ISO3 - Country of arrival",
                  "rawType": "object",
                  "type": "string"
                },
                {
                  "name": "Route",
                  "rawType": "object",
                  "type": "string"
                },
                {
                  "name": "Arrivals",
                  "rawType": "int64",
                  "type": "integer"
                },
                {
                  "name": "Source",
                  "rawType": "object",
                  "type": "string"
                }
              ],
              "ref": "12e89850-33f1-409b-b152-04a39560dc48",
              "rows": [
                [
                  "1679",
                  "2024-11-30 00:00:00",
                  "2024",
                  "11",
                  "IRQ",
                  "BGR",
                  "EMR",
                  "13",
                  "Bulgarian Ministry of Interior"
                ],
                [
                  "1680",
                  "2024-11-30 00:00:00",
                  "2024",
                  "11",
                  "MAR",
                  "BGR",
                  "EMR",
                  "29",
                  "Bulgarian Ministry of Interior"
                ],
                [
                  "1681",
                  "2024-11-30 00:00:00",
                  "2024",
                  "11",
                  "OOO",
                  "BGR",
                  "EMR",
                  "50",
                  "Bulgarian Ministry of Interior"
                ],
                [
                  "1682",
                  "2024-11-30 00:00:00",
                  "2024",
                  "11",
                  "SYR",
                  "BGR",
                  "EMR",
                  "263",
                  "Bulgarian Ministry of Interior"
                ],
                [
                  "1683",
                  "2024-12-31 00:00:00",
                  "2024",
                  "12",
                  "AFG",
                  "BGR",
                  "EMR",
                  "68",
                  "Bulgarian Ministry of Interior"
                ],
                [
                  "1684",
                  "2024-12-31 00:00:00",
                  "2024",
                  "12",
                  "EGY",
                  "BGR",
                  "EMR",
                  "12",
                  "Bulgarian Ministry of Interior"
                ],
                [
                  "1685",
                  "2024-12-31 00:00:00",
                  "2024",
                  "12",
                  "IRQ",
                  "BGR",
                  "EMR",
                  "12",
                  "Bulgarian Ministry of Interior"
                ],
                [
                  "1686",
                  "2024-12-31 00:00:00",
                  "2024",
                  "12",
                  "MAR",
                  "BGR",
                  "EMR",
                  "33",
                  "Bulgarian Ministry of Interior"
                ],
                [
                  "1687",
                  "2024-12-31 00:00:00",
                  "2024",
                  "12",
                  "OOO",
                  "BGR",
                  "EMR",
                  "36",
                  "Bulgarian Ministry of Interior"
                ],
                [
                  "1688",
                  "2024-12-31 00:00:00",
                  "2024",
                  "12",
                  "SYR",
                  "BGR",
                  "EMR",
                  "61",
                  "Bulgarian Ministry of Interior"
                ]
              ],
              "shape": {
                "columns": 8,
                "rows": 10
              }
            },
            "text/html": [
              "<div>\n",
              "<style scoped>\n",
              "    .dataframe tbody tr th:only-of-type {\n",
              "        vertical-align: middle;\n",
              "    }\n",
              "\n",
              "    .dataframe tbody tr th {\n",
              "        vertical-align: top;\n",
              "    }\n",
              "\n",
              "    .dataframe thead th {\n",
              "        text-align: right;\n",
              "    }\n",
              "</style>\n",
              "<table border=\"1\" class=\"dataframe\">\n",
              "  <thead>\n",
              "    <tr style=\"text-align: right;\">\n",
              "      <th></th>\n",
              "      <th>Date</th>\n",
              "      <th>Year</th>\n",
              "      <th>Month</th>\n",
              "      <th>ISO3 - Country of origin</th>\n",
              "      <th>ISO3 - Country of arrival</th>\n",
              "      <th>Route</th>\n",
              "      <th>Arrivals</th>\n",
              "      <th>Source</th>\n",
              "    </tr>\n",
              "  </thead>\n",
              "  <tbody>\n",
              "    <tr>\n",
              "      <th>1679</th>\n",
              "      <td>2024-11-30</td>\n",
              "      <td>2024</td>\n",
              "      <td>11</td>\n",
              "      <td>IRQ</td>\n",
              "      <td>BGR</td>\n",
              "      <td>EMR</td>\n",
              "      <td>13</td>\n",
              "      <td>Bulgarian Ministry of Interior</td>\n",
              "    </tr>\n",
              "    <tr>\n",
              "      <th>1680</th>\n",
              "      <td>2024-11-30</td>\n",
              "      <td>2024</td>\n",
              "      <td>11</td>\n",
              "      <td>MAR</td>\n",
              "      <td>BGR</td>\n",
              "      <td>EMR</td>\n",
              "      <td>29</td>\n",
              "      <td>Bulgarian Ministry of Interior</td>\n",
              "    </tr>\n",
              "    <tr>\n",
              "      <th>1681</th>\n",
              "      <td>2024-11-30</td>\n",
              "      <td>2024</td>\n",
              "      <td>11</td>\n",
              "      <td>OOO</td>\n",
              "      <td>BGR</td>\n",
              "      <td>EMR</td>\n",
              "      <td>50</td>\n",
              "      <td>Bulgarian Ministry of Interior</td>\n",
              "    </tr>\n",
              "    <tr>\n",
              "      <th>1682</th>\n",
              "      <td>2024-11-30</td>\n",
              "      <td>2024</td>\n",
              "      <td>11</td>\n",
              "      <td>SYR</td>\n",
              "      <td>BGR</td>\n",
              "      <td>EMR</td>\n",
              "      <td>263</td>\n",
              "      <td>Bulgarian Ministry of Interior</td>\n",
              "    </tr>\n",
              "    <tr>\n",
              "      <th>1683</th>\n",
              "      <td>2024-12-31</td>\n",
              "      <td>2024</td>\n",
              "      <td>12</td>\n",
              "      <td>AFG</td>\n",
              "      <td>BGR</td>\n",
              "      <td>EMR</td>\n",
              "      <td>68</td>\n",
              "      <td>Bulgarian Ministry of Interior</td>\n",
              "    </tr>\n",
              "    <tr>\n",
              "      <th>1684</th>\n",
              "      <td>2024-12-31</td>\n",
              "      <td>2024</td>\n",
              "      <td>12</td>\n",
              "      <td>EGY</td>\n",
              "      <td>BGR</td>\n",
              "      <td>EMR</td>\n",
              "      <td>12</td>\n",
              "      <td>Bulgarian Ministry of Interior</td>\n",
              "    </tr>\n",
              "    <tr>\n",
              "      <th>1685</th>\n",
              "      <td>2024-12-31</td>\n",
              "      <td>2024</td>\n",
              "      <td>12</td>\n",
              "      <td>IRQ</td>\n",
              "      <td>BGR</td>\n",
              "      <td>EMR</td>\n",
              "      <td>12</td>\n",
              "      <td>Bulgarian Ministry of Interior</td>\n",
              "    </tr>\n",
              "    <tr>\n",
              "      <th>1686</th>\n",
              "      <td>2024-12-31</td>\n",
              "      <td>2024</td>\n",
              "      <td>12</td>\n",
              "      <td>MAR</td>\n",
              "      <td>BGR</td>\n",
              "      <td>EMR</td>\n",
              "      <td>33</td>\n",
              "      <td>Bulgarian Ministry of Interior</td>\n",
              "    </tr>\n",
              "    <tr>\n",
              "      <th>1687</th>\n",
              "      <td>2024-12-31</td>\n",
              "      <td>2024</td>\n",
              "      <td>12</td>\n",
              "      <td>OOO</td>\n",
              "      <td>BGR</td>\n",
              "      <td>EMR</td>\n",
              "      <td>36</td>\n",
              "      <td>Bulgarian Ministry of Interior</td>\n",
              "    </tr>\n",
              "    <tr>\n",
              "      <th>1688</th>\n",
              "      <td>2024-12-31</td>\n",
              "      <td>2024</td>\n",
              "      <td>12</td>\n",
              "      <td>SYR</td>\n",
              "      <td>BGR</td>\n",
              "      <td>EMR</td>\n",
              "      <td>61</td>\n",
              "      <td>Bulgarian Ministry of Interior</td>\n",
              "    </tr>\n",
              "  </tbody>\n",
              "</table>\n",
              "</div>"
            ],
            "text/plain": [
              "           Date  Year  Month ISO3 - Country of origin  \\\n",
              "1679 2024-11-30  2024     11                      IRQ   \n",
              "1680 2024-11-30  2024     11                      MAR   \n",
              "1681 2024-11-30  2024     11                      OOO   \n",
              "1682 2024-11-30  2024     11                      SYR   \n",
              "1683 2024-12-31  2024     12                      AFG   \n",
              "1684 2024-12-31  2024     12                      EGY   \n",
              "1685 2024-12-31  2024     12                      IRQ   \n",
              "1686 2024-12-31  2024     12                      MAR   \n",
              "1687 2024-12-31  2024     12                      OOO   \n",
              "1688 2024-12-31  2024     12                      SYR   \n",
              "\n",
              "     ISO3 - Country of arrival Route  Arrivals                          Source  \n",
              "1679                       BGR   EMR        13  Bulgarian Ministry of Interior  \n",
              "1680                       BGR   EMR        29  Bulgarian Ministry of Interior  \n",
              "1681                       BGR   EMR        50  Bulgarian Ministry of Interior  \n",
              "1682                       BGR   EMR       263  Bulgarian Ministry of Interior  \n",
              "1683                       BGR   EMR        68  Bulgarian Ministry of Interior  \n",
              "1684                       BGR   EMR        12  Bulgarian Ministry of Interior  \n",
              "1685                       BGR   EMR        12  Bulgarian Ministry of Interior  \n",
              "1686                       BGR   EMR        33  Bulgarian Ministry of Interior  \n",
              "1687                       BGR   EMR        36  Bulgarian Ministry of Interior  \n",
              "1688                       BGR   EMR        61  Bulgarian Ministry of Interior  "
            ]
          },
          "execution_count": 25,
          "metadata": {},
          "output_type": "execute_result"
        }
      ],
      "source": [
        "#Ver las últimas filas del DataFrame. Entre paréntesis se puede indicar el número de filas a mostrar. Por defecto son 5.\n",
        "df_excel.tail(10)"
      ]
    },
    {
      "cell_type": "code",
      "execution_count": 26,
      "metadata": {},
      "outputs": [
        {
          "data": {
            "application/vnd.microsoft.datawrangler.viewer.v0+json": {
              "columns": [
                {
                  "name": "index",
                  "rawType": "object",
                  "type": "string"
                },
                {
                  "name": "Date",
                  "rawType": "object",
                  "type": "unknown"
                },
                {
                  "name": "Year",
                  "rawType": "float64",
                  "type": "float"
                },
                {
                  "name": "Month",
                  "rawType": "float64",
                  "type": "float"
                },
                {
                  "name": "Arrivals",
                  "rawType": "float64",
                  "type": "float"
                }
              ],
              "ref": "a84f02bf-ce93-4b4e-9a9c-c9a6719746df",
              "rows": [
                [
                  "count",
                  "1689",
                  "1689.0",
                  "1689.0",
                  "1689.0"
                ],
                [
                  "mean",
                  "2024-07-20 12:46:27.921847296",
                  "2024.0",
                  "6.653641207815276",
                  "123.68798105387803"
                ],
                [
                  "min",
                  "2024-01-31 00:00:00",
                  "2024.0",
                  "1.0",
                  "-341.0"
                ],
                [
                  "25%",
                  "2024-04-30 00:00:00",
                  "2024.0",
                  "4.0",
                  "3.0"
                ],
                [
                  "50%",
                  "2024-07-31 00:00:00",
                  "2024.0",
                  "7.0",
                  "11.0"
                ],
                [
                  "75%",
                  "2024-10-31 00:00:00",
                  "2024.0",
                  "10.0",
                  "79.0"
                ],
                [
                  "max",
                  "2024-12-31 00:00:00",
                  "2024.0",
                  "12.0",
                  "4232.0"
                ],
                [
                  "std",
                  null,
                  "0.0",
                  "3.4665274929450023",
                  "343.43610663419844"
                ]
              ],
              "shape": {
                "columns": 4,
                "rows": 8
              }
            },
            "text/html": [
              "<div>\n",
              "<style scoped>\n",
              "    .dataframe tbody tr th:only-of-type {\n",
              "        vertical-align: middle;\n",
              "    }\n",
              "\n",
              "    .dataframe tbody tr th {\n",
              "        vertical-align: top;\n",
              "    }\n",
              "\n",
              "    .dataframe thead th {\n",
              "        text-align: right;\n",
              "    }\n",
              "</style>\n",
              "<table border=\"1\" class=\"dataframe\">\n",
              "  <thead>\n",
              "    <tr style=\"text-align: right;\">\n",
              "      <th></th>\n",
              "      <th>Date</th>\n",
              "      <th>Year</th>\n",
              "      <th>Month</th>\n",
              "      <th>Arrivals</th>\n",
              "    </tr>\n",
              "  </thead>\n",
              "  <tbody>\n",
              "    <tr>\n",
              "      <th>count</th>\n",
              "      <td>1689</td>\n",
              "      <td>1689.0</td>\n",
              "      <td>1689.000000</td>\n",
              "      <td>1689.000000</td>\n",
              "    </tr>\n",
              "    <tr>\n",
              "      <th>mean</th>\n",
              "      <td>2024-07-20 12:46:27.921847296</td>\n",
              "      <td>2024.0</td>\n",
              "      <td>6.653641</td>\n",
              "      <td>123.687981</td>\n",
              "    </tr>\n",
              "    <tr>\n",
              "      <th>min</th>\n",
              "      <td>2024-01-31 00:00:00</td>\n",
              "      <td>2024.0</td>\n",
              "      <td>1.000000</td>\n",
              "      <td>-341.000000</td>\n",
              "    </tr>\n",
              "    <tr>\n",
              "      <th>25%</th>\n",
              "      <td>2024-04-30 00:00:00</td>\n",
              "      <td>2024.0</td>\n",
              "      <td>4.000000</td>\n",
              "      <td>3.000000</td>\n",
              "    </tr>\n",
              "    <tr>\n",
              "      <th>50%</th>\n",
              "      <td>2024-07-31 00:00:00</td>\n",
              "      <td>2024.0</td>\n",
              "      <td>7.000000</td>\n",
              "      <td>11.000000</td>\n",
              "    </tr>\n",
              "    <tr>\n",
              "      <th>75%</th>\n",
              "      <td>2024-10-31 00:00:00</td>\n",
              "      <td>2024.0</td>\n",
              "      <td>10.000000</td>\n",
              "      <td>79.000000</td>\n",
              "    </tr>\n",
              "    <tr>\n",
              "      <th>max</th>\n",
              "      <td>2024-12-31 00:00:00</td>\n",
              "      <td>2024.0</td>\n",
              "      <td>12.000000</td>\n",
              "      <td>4232.000000</td>\n",
              "    </tr>\n",
              "    <tr>\n",
              "      <th>std</th>\n",
              "      <td>NaN</td>\n",
              "      <td>0.0</td>\n",
              "      <td>3.466527</td>\n",
              "      <td>343.436107</td>\n",
              "    </tr>\n",
              "  </tbody>\n",
              "</table>\n",
              "</div>"
            ],
            "text/plain": [
              "                                Date    Year        Month     Arrivals\n",
              "count                           1689  1689.0  1689.000000  1689.000000\n",
              "mean   2024-07-20 12:46:27.921847296  2024.0     6.653641   123.687981\n",
              "min              2024-01-31 00:00:00  2024.0     1.000000  -341.000000\n",
              "25%              2024-04-30 00:00:00  2024.0     4.000000     3.000000\n",
              "50%              2024-07-31 00:00:00  2024.0     7.000000    11.000000\n",
              "75%              2024-10-31 00:00:00  2024.0    10.000000    79.000000\n",
              "max              2024-12-31 00:00:00  2024.0    12.000000  4232.000000\n",
              "std                              NaN     0.0     3.466527   343.436107"
            ]
          },
          "execution_count": 26,
          "metadata": {},
          "output_type": "execute_result"
        }
      ],
      "source": [
        "# describe devuelve estadísticas básicas de las columnas numéricas del DataFrame, como la media, la desviación estándar, los valores mínimo y máximo, y los percentiles.\n",
        "df_excel.describe()"
      ]
    },
    {
      "cell_type": "markdown",
      "metadata": {},
      "source": [
        "## 📌 Manipulación de índices\n",
        "\n",
        "El **índice** en Pandas identifica cada fila de un DataFrame o Serie.  \n",
        "Saber cómo manipularlo es clave para **seleccionar, ordenar y alinear datos** correctamente.\n"
      ]
    },
    {
      "cell_type": "markdown",
      "metadata": {},
      "source": [
        "> 💡 Pandas asigna automáticamente un índice numérico entero comenzando desde 0 al crear un DataFrame sin especificar el nombre de la columna de índice."
      ]
    },
    {
      "cell_type": "markdown",
      "metadata": {},
      "source": [
        "### 🏷️Tabla de métodos para manipulación de índices\n",
        "\n",
        "| Método               | Descripción                                      |\n",
        "|----------------------|--------------------------------------------------|\n",
        "| `index`             | Accede al índice del DataFrame o Serie.          |\n",
        "| `index_name`        | Obtiene o establece el nombre del índice.        |\n",
        "| `set_index(col)`     | Establece una columna como índice del DataFrame. |\n",
        "| `reset_index()`      | Restablece el índice al valor predeterminado.    |\n",
        "| `sort_index()`       | Ordena el DataFrame por el índice.               |\n"
      ]
    },
    {
      "cell_type": "code",
      "execution_count": 27,
      "metadata": {},
      "outputs": [
        {
          "data": {
            "text/plain": [
              "RangeIndex(start=0, stop=1689, step=1)"
            ]
          },
          "execution_count": 27,
          "metadata": {},
          "output_type": "execute_result"
        }
      ],
      "source": [
        "# Revisar el índice del DataFrame\n",
        "df_excel.index"
      ]
    },
    {
      "cell_type": "code",
      "execution_count": 28,
      "metadata": {},
      "outputs": [
        {
          "name": "stdout",
          "output_type": "stream",
          "text": [
            "None\n"
          ]
        }
      ],
      "source": [
        "#Obtener nombre del índice\n",
        "print(df_excel.index.name)"
      ]
    },
    {
      "cell_type": "code",
      "execution_count": 29,
      "metadata": {},
      "outputs": [],
      "source": [
        "# Renombrar el índice\n",
        "df_excel.index.name = 'Row_ID'\n"
      ]
    },
    {
      "cell_type": "code",
      "execution_count": 30,
      "metadata": {},
      "outputs": [
        {
          "data": {
            "application/vnd.microsoft.datawrangler.viewer.v0+json": {
              "columns": [
                {
                  "name": "Row_ID",
                  "rawType": "int64",
                  "type": "integer"
                },
                {
                  "name": "Date",
                  "rawType": "datetime64[ns]",
                  "type": "datetime"
                },
                {
                  "name": "Year",
                  "rawType": "int64",
                  "type": "integer"
                },
                {
                  "name": "Month",
                  "rawType": "int64",
                  "type": "integer"
                },
                {
                  "name": "ISO3 - Country of origin",
                  "rawType": "object",
                  "type": "string"
                },
                {
                  "name": "ISO3 - Country of arrival",
                  "rawType": "object",
                  "type": "string"
                },
                {
                  "name": "Route",
                  "rawType": "object",
                  "type": "string"
                },
                {
                  "name": "Arrivals",
                  "rawType": "int64",
                  "type": "integer"
                },
                {
                  "name": "Source",
                  "rawType": "object",
                  "type": "string"
                }
              ],
              "ref": "d02da430-819f-4992-909b-0be5ffbbd190",
              "rows": [
                [
                  "0",
                  "2024-01-31 00:00:00",
                  "2024",
                  "1",
                  "BGD",
                  "MLT",
                  "CMR",
                  "7",
                  "Maltese Minitry of Home Affairs, Security and Employment"
                ],
                [
                  "1",
                  "2024-01-31 00:00:00",
                  "2024",
                  "1",
                  "EGY",
                  "MLT",
                  "CMR",
                  "1",
                  "Maltese Minitry of Home Affairs, Security and Employment"
                ],
                [
                  "2",
                  "2024-01-31 00:00:00",
                  "2024",
                  "1",
                  "PAK",
                  "MLT",
                  "CMR",
                  "22",
                  "Maltese Minitry of Home Affairs, Security and Employment"
                ],
                [
                  "3",
                  "2024-01-31 00:00:00",
                  "2024",
                  "1",
                  "SDN",
                  "MLT",
                  "CMR",
                  "1",
                  "Maltese Minitry of Home Affairs, Security and Employment"
                ],
                [
                  "4",
                  "2024-01-31 00:00:00",
                  "2024",
                  "1",
                  "SYR",
                  "MLT",
                  "CMR",
                  "4",
                  "Maltese Minitry of Home Affairs, Security and Employment"
                ]
              ],
              "shape": {
                "columns": 8,
                "rows": 5
              }
            },
            "text/html": [
              "<div>\n",
              "<style scoped>\n",
              "    .dataframe tbody tr th:only-of-type {\n",
              "        vertical-align: middle;\n",
              "    }\n",
              "\n",
              "    .dataframe tbody tr th {\n",
              "        vertical-align: top;\n",
              "    }\n",
              "\n",
              "    .dataframe thead th {\n",
              "        text-align: right;\n",
              "    }\n",
              "</style>\n",
              "<table border=\"1\" class=\"dataframe\">\n",
              "  <thead>\n",
              "    <tr style=\"text-align: right;\">\n",
              "      <th></th>\n",
              "      <th>Date</th>\n",
              "      <th>Year</th>\n",
              "      <th>Month</th>\n",
              "      <th>ISO3 - Country of origin</th>\n",
              "      <th>ISO3 - Country of arrival</th>\n",
              "      <th>Route</th>\n",
              "      <th>Arrivals</th>\n",
              "      <th>Source</th>\n",
              "    </tr>\n",
              "    <tr>\n",
              "      <th>Row_ID</th>\n",
              "      <th></th>\n",
              "      <th></th>\n",
              "      <th></th>\n",
              "      <th></th>\n",
              "      <th></th>\n",
              "      <th></th>\n",
              "      <th></th>\n",
              "      <th></th>\n",
              "    </tr>\n",
              "  </thead>\n",
              "  <tbody>\n",
              "    <tr>\n",
              "      <th>0</th>\n",
              "      <td>2024-01-31</td>\n",
              "      <td>2024</td>\n",
              "      <td>1</td>\n",
              "      <td>BGD</td>\n",
              "      <td>MLT</td>\n",
              "      <td>CMR</td>\n",
              "      <td>7</td>\n",
              "      <td>Maltese Minitry of Home Affairs, Security and ...</td>\n",
              "    </tr>\n",
              "    <tr>\n",
              "      <th>1</th>\n",
              "      <td>2024-01-31</td>\n",
              "      <td>2024</td>\n",
              "      <td>1</td>\n",
              "      <td>EGY</td>\n",
              "      <td>MLT</td>\n",
              "      <td>CMR</td>\n",
              "      <td>1</td>\n",
              "      <td>Maltese Minitry of Home Affairs, Security and ...</td>\n",
              "    </tr>\n",
              "    <tr>\n",
              "      <th>2</th>\n",
              "      <td>2024-01-31</td>\n",
              "      <td>2024</td>\n",
              "      <td>1</td>\n",
              "      <td>PAK</td>\n",
              "      <td>MLT</td>\n",
              "      <td>CMR</td>\n",
              "      <td>22</td>\n",
              "      <td>Maltese Minitry of Home Affairs, Security and ...</td>\n",
              "    </tr>\n",
              "    <tr>\n",
              "      <th>3</th>\n",
              "      <td>2024-01-31</td>\n",
              "      <td>2024</td>\n",
              "      <td>1</td>\n",
              "      <td>SDN</td>\n",
              "      <td>MLT</td>\n",
              "      <td>CMR</td>\n",
              "      <td>1</td>\n",
              "      <td>Maltese Minitry of Home Affairs, Security and ...</td>\n",
              "    </tr>\n",
              "    <tr>\n",
              "      <th>4</th>\n",
              "      <td>2024-01-31</td>\n",
              "      <td>2024</td>\n",
              "      <td>1</td>\n",
              "      <td>SYR</td>\n",
              "      <td>MLT</td>\n",
              "      <td>CMR</td>\n",
              "      <td>4</td>\n",
              "      <td>Maltese Minitry of Home Affairs, Security and ...</td>\n",
              "    </tr>\n",
              "  </tbody>\n",
              "</table>\n",
              "</div>"
            ],
            "text/plain": [
              "             Date  Year  Month ISO3 - Country of origin  \\\n",
              "Row_ID                                                    \n",
              "0      2024-01-31  2024      1                      BGD   \n",
              "1      2024-01-31  2024      1                      EGY   \n",
              "2      2024-01-31  2024      1                      PAK   \n",
              "3      2024-01-31  2024      1                      SDN   \n",
              "4      2024-01-31  2024      1                      SYR   \n",
              "\n",
              "       ISO3 - Country of arrival Route  Arrivals  \\\n",
              "Row_ID                                             \n",
              "0                            MLT   CMR         7   \n",
              "1                            MLT   CMR         1   \n",
              "2                            MLT   CMR        22   \n",
              "3                            MLT   CMR         1   \n",
              "4                            MLT   CMR         4   \n",
              "\n",
              "                                                   Source  \n",
              "Row_ID                                                     \n",
              "0       Maltese Minitry of Home Affairs, Security and ...  \n",
              "1       Maltese Minitry of Home Affairs, Security and ...  \n",
              "2       Maltese Minitry of Home Affairs, Security and ...  \n",
              "3       Maltese Minitry of Home Affairs, Security and ...  \n",
              "4       Maltese Minitry of Home Affairs, Security and ...  "
            ]
          },
          "execution_count": 30,
          "metadata": {},
          "output_type": "execute_result"
        }
      ],
      "source": [
        "df_excel.head()"
      ]
    },
    {
      "cell_type": "code",
      "execution_count": 31,
      "metadata": {},
      "outputs": [],
      "source": [
        "# Establecer una columna como índice. Sirve para identificar filas de forma única. Se aplica si la columna tiene valores únicos.\n",
        "df_excel.set_index('ISO3 - Country of origin', inplace=True)\n"
      ]
    },
    {
      "cell_type": "code",
      "execution_count": 32,
      "metadata": {},
      "outputs": [
        {
          "data": {
            "application/vnd.microsoft.datawrangler.viewer.v0+json": {
              "columns": [
                {
                  "name": "ISO3 - Country of origin",
                  "rawType": "object",
                  "type": "string"
                },
                {
                  "name": "Date",
                  "rawType": "datetime64[ns]",
                  "type": "datetime"
                },
                {
                  "name": "Year",
                  "rawType": "int64",
                  "type": "integer"
                },
                {
                  "name": "Month",
                  "rawType": "int64",
                  "type": "integer"
                },
                {
                  "name": "ISO3 - Country of arrival",
                  "rawType": "object",
                  "type": "string"
                },
                {
                  "name": "Route",
                  "rawType": "object",
                  "type": "string"
                },
                {
                  "name": "Arrivals",
                  "rawType": "int64",
                  "type": "integer"
                },
                {
                  "name": "Source",
                  "rawType": "object",
                  "type": "string"
                }
              ],
              "ref": "62dea114-0a8a-45d2-b048-c50dac7377a6",
              "rows": [
                [
                  "BGD",
                  "2024-01-31 00:00:00",
                  "2024",
                  "1",
                  "MLT",
                  "CMR",
                  "7",
                  "Maltese Minitry of Home Affairs, Security and Employment"
                ],
                [
                  "EGY",
                  "2024-01-31 00:00:00",
                  "2024",
                  "1",
                  "MLT",
                  "CMR",
                  "1",
                  "Maltese Minitry of Home Affairs, Security and Employment"
                ],
                [
                  "PAK",
                  "2024-01-31 00:00:00",
                  "2024",
                  "1",
                  "MLT",
                  "CMR",
                  "22",
                  "Maltese Minitry of Home Affairs, Security and Employment"
                ],
                [
                  "SDN",
                  "2024-01-31 00:00:00",
                  "2024",
                  "1",
                  "MLT",
                  "CMR",
                  "1",
                  "Maltese Minitry of Home Affairs, Security and Employment"
                ],
                [
                  "SYR",
                  "2024-01-31 00:00:00",
                  "2024",
                  "1",
                  "MLT",
                  "CMR",
                  "4",
                  "Maltese Minitry of Home Affairs, Security and Employment"
                ]
              ],
              "shape": {
                "columns": 7,
                "rows": 5
              }
            },
            "text/html": [
              "<div>\n",
              "<style scoped>\n",
              "    .dataframe tbody tr th:only-of-type {\n",
              "        vertical-align: middle;\n",
              "    }\n",
              "\n",
              "    .dataframe tbody tr th {\n",
              "        vertical-align: top;\n",
              "    }\n",
              "\n",
              "    .dataframe thead th {\n",
              "        text-align: right;\n",
              "    }\n",
              "</style>\n",
              "<table border=\"1\" class=\"dataframe\">\n",
              "  <thead>\n",
              "    <tr style=\"text-align: right;\">\n",
              "      <th></th>\n",
              "      <th>Date</th>\n",
              "      <th>Year</th>\n",
              "      <th>Month</th>\n",
              "      <th>ISO3 - Country of arrival</th>\n",
              "      <th>Route</th>\n",
              "      <th>Arrivals</th>\n",
              "      <th>Source</th>\n",
              "    </tr>\n",
              "    <tr>\n",
              "      <th>ISO3 - Country of origin</th>\n",
              "      <th></th>\n",
              "      <th></th>\n",
              "      <th></th>\n",
              "      <th></th>\n",
              "      <th></th>\n",
              "      <th></th>\n",
              "      <th></th>\n",
              "    </tr>\n",
              "  </thead>\n",
              "  <tbody>\n",
              "    <tr>\n",
              "      <th>BGD</th>\n",
              "      <td>2024-01-31</td>\n",
              "      <td>2024</td>\n",
              "      <td>1</td>\n",
              "      <td>MLT</td>\n",
              "      <td>CMR</td>\n",
              "      <td>7</td>\n",
              "      <td>Maltese Minitry of Home Affairs, Security and ...</td>\n",
              "    </tr>\n",
              "    <tr>\n",
              "      <th>EGY</th>\n",
              "      <td>2024-01-31</td>\n",
              "      <td>2024</td>\n",
              "      <td>1</td>\n",
              "      <td>MLT</td>\n",
              "      <td>CMR</td>\n",
              "      <td>1</td>\n",
              "      <td>Maltese Minitry of Home Affairs, Security and ...</td>\n",
              "    </tr>\n",
              "    <tr>\n",
              "      <th>PAK</th>\n",
              "      <td>2024-01-31</td>\n",
              "      <td>2024</td>\n",
              "      <td>1</td>\n",
              "      <td>MLT</td>\n",
              "      <td>CMR</td>\n",
              "      <td>22</td>\n",
              "      <td>Maltese Minitry of Home Affairs, Security and ...</td>\n",
              "    </tr>\n",
              "    <tr>\n",
              "      <th>SDN</th>\n",
              "      <td>2024-01-31</td>\n",
              "      <td>2024</td>\n",
              "      <td>1</td>\n",
              "      <td>MLT</td>\n",
              "      <td>CMR</td>\n",
              "      <td>1</td>\n",
              "      <td>Maltese Minitry of Home Affairs, Security and ...</td>\n",
              "    </tr>\n",
              "    <tr>\n",
              "      <th>SYR</th>\n",
              "      <td>2024-01-31</td>\n",
              "      <td>2024</td>\n",
              "      <td>1</td>\n",
              "      <td>MLT</td>\n",
              "      <td>CMR</td>\n",
              "      <td>4</td>\n",
              "      <td>Maltese Minitry of Home Affairs, Security and ...</td>\n",
              "    </tr>\n",
              "  </tbody>\n",
              "</table>\n",
              "</div>"
            ],
            "text/plain": [
              "                               Date  Year  Month ISO3 - Country of arrival  \\\n",
              "ISO3 - Country of origin                                                     \n",
              "BGD                      2024-01-31  2024      1                       MLT   \n",
              "EGY                      2024-01-31  2024      1                       MLT   \n",
              "PAK                      2024-01-31  2024      1                       MLT   \n",
              "SDN                      2024-01-31  2024      1                       MLT   \n",
              "SYR                      2024-01-31  2024      1                       MLT   \n",
              "\n",
              "                         Route  Arrivals  \\\n",
              "ISO3 - Country of origin                   \n",
              "BGD                        CMR         7   \n",
              "EGY                        CMR         1   \n",
              "PAK                        CMR        22   \n",
              "SDN                        CMR         1   \n",
              "SYR                        CMR         4   \n",
              "\n",
              "                                                                     Source  \n",
              "ISO3 - Country of origin                                                     \n",
              "BGD                       Maltese Minitry of Home Affairs, Security and ...  \n",
              "EGY                       Maltese Minitry of Home Affairs, Security and ...  \n",
              "PAK                       Maltese Minitry of Home Affairs, Security and ...  \n",
              "SDN                       Maltese Minitry of Home Affairs, Security and ...  \n",
              "SYR                       Maltese Minitry of Home Affairs, Security and ...  "
            ]
          },
          "execution_count": 32,
          "metadata": {},
          "output_type": "execute_result"
        }
      ],
      "source": [
        "df_excel.head()"
      ]
    },
    {
      "cell_type": "code",
      "execution_count": 33,
      "metadata": {},
      "outputs": [],
      "source": [
        "# Resetear el índice a los valores por defecto (0, 1, 2, ...)\n",
        "df_excel.reset_index(inplace=True) \n"
      ]
    },
    {
      "cell_type": "code",
      "execution_count": 34,
      "metadata": {},
      "outputs": [
        {
          "data": {
            "application/vnd.microsoft.datawrangler.viewer.v0+json": {
              "columns": [
                {
                  "name": "index",
                  "rawType": "int64",
                  "type": "integer"
                },
                {
                  "name": "ISO3 - Country of origin",
                  "rawType": "object",
                  "type": "string"
                },
                {
                  "name": "Date",
                  "rawType": "datetime64[ns]",
                  "type": "datetime"
                },
                {
                  "name": "Year",
                  "rawType": "int64",
                  "type": "integer"
                },
                {
                  "name": "Month",
                  "rawType": "int64",
                  "type": "integer"
                },
                {
                  "name": "ISO3 - Country of arrival",
                  "rawType": "object",
                  "type": "string"
                },
                {
                  "name": "Route",
                  "rawType": "object",
                  "type": "string"
                },
                {
                  "name": "Arrivals",
                  "rawType": "int64",
                  "type": "integer"
                },
                {
                  "name": "Source",
                  "rawType": "object",
                  "type": "string"
                }
              ],
              "ref": "dcae2e37-83fa-4489-a8de-748e734a4ccb",
              "rows": [
                [
                  "0",
                  "BGD",
                  "2024-01-31 00:00:00",
                  "2024",
                  "1",
                  "MLT",
                  "CMR",
                  "7",
                  "Maltese Minitry of Home Affairs, Security and Employment"
                ],
                [
                  "1",
                  "EGY",
                  "2024-01-31 00:00:00",
                  "2024",
                  "1",
                  "MLT",
                  "CMR",
                  "1",
                  "Maltese Minitry of Home Affairs, Security and Employment"
                ],
                [
                  "2",
                  "PAK",
                  "2024-01-31 00:00:00",
                  "2024",
                  "1",
                  "MLT",
                  "CMR",
                  "22",
                  "Maltese Minitry of Home Affairs, Security and Employment"
                ],
                [
                  "3",
                  "SDN",
                  "2024-01-31 00:00:00",
                  "2024",
                  "1",
                  "MLT",
                  "CMR",
                  "1",
                  "Maltese Minitry of Home Affairs, Security and Employment"
                ],
                [
                  "4",
                  "SYR",
                  "2024-01-31 00:00:00",
                  "2024",
                  "1",
                  "MLT",
                  "CMR",
                  "4",
                  "Maltese Minitry of Home Affairs, Security and Employment"
                ]
              ],
              "shape": {
                "columns": 8,
                "rows": 5
              }
            },
            "text/html": [
              "<div>\n",
              "<style scoped>\n",
              "    .dataframe tbody tr th:only-of-type {\n",
              "        vertical-align: middle;\n",
              "    }\n",
              "\n",
              "    .dataframe tbody tr th {\n",
              "        vertical-align: top;\n",
              "    }\n",
              "\n",
              "    .dataframe thead th {\n",
              "        text-align: right;\n",
              "    }\n",
              "</style>\n",
              "<table border=\"1\" class=\"dataframe\">\n",
              "  <thead>\n",
              "    <tr style=\"text-align: right;\">\n",
              "      <th></th>\n",
              "      <th>ISO3 - Country of origin</th>\n",
              "      <th>Date</th>\n",
              "      <th>Year</th>\n",
              "      <th>Month</th>\n",
              "      <th>ISO3 - Country of arrival</th>\n",
              "      <th>Route</th>\n",
              "      <th>Arrivals</th>\n",
              "      <th>Source</th>\n",
              "    </tr>\n",
              "  </thead>\n",
              "  <tbody>\n",
              "    <tr>\n",
              "      <th>0</th>\n",
              "      <td>BGD</td>\n",
              "      <td>2024-01-31</td>\n",
              "      <td>2024</td>\n",
              "      <td>1</td>\n",
              "      <td>MLT</td>\n",
              "      <td>CMR</td>\n",
              "      <td>7</td>\n",
              "      <td>Maltese Minitry of Home Affairs, Security and ...</td>\n",
              "    </tr>\n",
              "    <tr>\n",
              "      <th>1</th>\n",
              "      <td>EGY</td>\n",
              "      <td>2024-01-31</td>\n",
              "      <td>2024</td>\n",
              "      <td>1</td>\n",
              "      <td>MLT</td>\n",
              "      <td>CMR</td>\n",
              "      <td>1</td>\n",
              "      <td>Maltese Minitry of Home Affairs, Security and ...</td>\n",
              "    </tr>\n",
              "    <tr>\n",
              "      <th>2</th>\n",
              "      <td>PAK</td>\n",
              "      <td>2024-01-31</td>\n",
              "      <td>2024</td>\n",
              "      <td>1</td>\n",
              "      <td>MLT</td>\n",
              "      <td>CMR</td>\n",
              "      <td>22</td>\n",
              "      <td>Maltese Minitry of Home Affairs, Security and ...</td>\n",
              "    </tr>\n",
              "    <tr>\n",
              "      <th>3</th>\n",
              "      <td>SDN</td>\n",
              "      <td>2024-01-31</td>\n",
              "      <td>2024</td>\n",
              "      <td>1</td>\n",
              "      <td>MLT</td>\n",
              "      <td>CMR</td>\n",
              "      <td>1</td>\n",
              "      <td>Maltese Minitry of Home Affairs, Security and ...</td>\n",
              "    </tr>\n",
              "    <tr>\n",
              "      <th>4</th>\n",
              "      <td>SYR</td>\n",
              "      <td>2024-01-31</td>\n",
              "      <td>2024</td>\n",
              "      <td>1</td>\n",
              "      <td>MLT</td>\n",
              "      <td>CMR</td>\n",
              "      <td>4</td>\n",
              "      <td>Maltese Minitry of Home Affairs, Security and ...</td>\n",
              "    </tr>\n",
              "  </tbody>\n",
              "</table>\n",
              "</div>"
            ],
            "text/plain": [
              "  ISO3 - Country of origin       Date  Year  Month ISO3 - Country of arrival  \\\n",
              "0                      BGD 2024-01-31  2024      1                       MLT   \n",
              "1                      EGY 2024-01-31  2024      1                       MLT   \n",
              "2                      PAK 2024-01-31  2024      1                       MLT   \n",
              "3                      SDN 2024-01-31  2024      1                       MLT   \n",
              "4                      SYR 2024-01-31  2024      1                       MLT   \n",
              "\n",
              "  Route  Arrivals                                             Source  \n",
              "0   CMR         7  Maltese Minitry of Home Affairs, Security and ...  \n",
              "1   CMR         1  Maltese Minitry of Home Affairs, Security and ...  \n",
              "2   CMR        22  Maltese Minitry of Home Affairs, Security and ...  \n",
              "3   CMR         1  Maltese Minitry of Home Affairs, Security and ...  \n",
              "4   CMR         4  Maltese Minitry of Home Affairs, Security and ...  "
            ]
          },
          "execution_count": 34,
          "metadata": {},
          "output_type": "execute_result"
        }
      ],
      "source": [
        "df_excel.head()"
      ]
    },
    {
      "cell_type": "code",
      "execution_count": 35,
      "metadata": {},
      "outputs": [
        {
          "data": {
            "application/vnd.microsoft.datawrangler.viewer.v0+json": {
              "columns": [
                {
                  "name": "index",
                  "rawType": "int64",
                  "type": "integer"
                },
                {
                  "name": "ISO3 - Country of origin",
                  "rawType": "object",
                  "type": "string"
                },
                {
                  "name": "Date",
                  "rawType": "datetime64[ns]",
                  "type": "datetime"
                },
                {
                  "name": "Year",
                  "rawType": "int64",
                  "type": "integer"
                },
                {
                  "name": "Month",
                  "rawType": "int64",
                  "type": "integer"
                },
                {
                  "name": "ISO3 - Country of arrival",
                  "rawType": "object",
                  "type": "string"
                },
                {
                  "name": "Route",
                  "rawType": "object",
                  "type": "string"
                },
                {
                  "name": "Arrivals",
                  "rawType": "int64",
                  "type": "integer"
                },
                {
                  "name": "Source",
                  "rawType": "object",
                  "type": "string"
                }
              ],
              "ref": "50befe52-d974-4545-bed3-84ae726f556d",
              "rows": [
                [
                  "0",
                  "BGD",
                  "2024-01-31 00:00:00",
                  "2024",
                  "1",
                  "MLT",
                  "CMR",
                  "7",
                  "Maltese Minitry of Home Affairs, Security and Employment"
                ],
                [
                  "1",
                  "EGY",
                  "2024-01-31 00:00:00",
                  "2024",
                  "1",
                  "MLT",
                  "CMR",
                  "1",
                  "Maltese Minitry of Home Affairs, Security and Employment"
                ],
                [
                  "2",
                  "PAK",
                  "2024-01-31 00:00:00",
                  "2024",
                  "1",
                  "MLT",
                  "CMR",
                  "22",
                  "Maltese Minitry of Home Affairs, Security and Employment"
                ],
                [
                  "3",
                  "SDN",
                  "2024-01-31 00:00:00",
                  "2024",
                  "1",
                  "MLT",
                  "CMR",
                  "1",
                  "Maltese Minitry of Home Affairs, Security and Employment"
                ],
                [
                  "4",
                  "SYR",
                  "2024-01-31 00:00:00",
                  "2024",
                  "1",
                  "MLT",
                  "CMR",
                  "4",
                  "Maltese Minitry of Home Affairs, Security and Employment"
                ],
                [
                  "5",
                  "BGD",
                  "2024-02-29 00:00:00",
                  "2024",
                  "2",
                  "MLT",
                  "CMR",
                  "7",
                  "Maltese Minitry of Home Affairs, Security and Employment"
                ],
                [
                  "6",
                  "EGY",
                  "2024-02-29 00:00:00",
                  "2024",
                  "2",
                  "MLT",
                  "CMR",
                  "1",
                  "Maltese Minitry of Home Affairs, Security and Employment"
                ],
                [
                  "7",
                  "ERI",
                  "2024-02-29 00:00:00",
                  "2024",
                  "2",
                  "MLT",
                  "CMR",
                  "8",
                  "Maltese Minitry of Home Affairs, Security and Employment"
                ],
                [
                  "8",
                  "ETH",
                  "2024-02-29 00:00:00",
                  "2024",
                  "2",
                  "MLT",
                  "CMR",
                  "2",
                  "Maltese Minitry of Home Affairs, Security and Employment"
                ],
                [
                  "9",
                  "GHA",
                  "2024-02-29 00:00:00",
                  "2024",
                  "2",
                  "MLT",
                  "CMR",
                  "3",
                  "Maltese Minitry of Home Affairs, Security and Employment"
                ],
                [
                  "10",
                  "SYR",
                  "2024-02-29 00:00:00",
                  "2024",
                  "2",
                  "MLT",
                  "CMR",
                  "11",
                  "Maltese Minitry of Home Affairs, Security and Employment"
                ],
                [
                  "11",
                  "SYR",
                  "2024-03-31 00:00:00",
                  "2024",
                  "3",
                  "MLT",
                  "CMR",
                  "1",
                  "Maltese Minitry of Home Affairs, Security and Employment"
                ],
                [
                  "12",
                  "EGY",
                  "2024-07-31 00:00:00",
                  "2024",
                  "7",
                  "MLT",
                  "CMR",
                  "1",
                  "Maltese Minitry of Home Affairs, Security and Employment"
                ],
                [
                  "13",
                  "PSE",
                  "2024-07-31 00:00:00",
                  "2024",
                  "7",
                  "MLT",
                  "CMR",
                  "2",
                  "Maltese Minitry of Home Affairs, Security and Employment"
                ],
                [
                  "14",
                  "SYR",
                  "2024-07-31 00:00:00",
                  "2024",
                  "7",
                  "MLT",
                  "CMR",
                  "25",
                  "Maltese Minitry of Home Affairs, Security and Employment"
                ],
                [
                  "15",
                  "SYR",
                  "2024-08-31 00:00:00",
                  "2024",
                  "8",
                  "MLT",
                  "CMR",
                  "1",
                  "Maltese Minitry of Home Affairs, Security and Employment"
                ],
                [
                  "16",
                  "EGY",
                  "2024-09-30 00:00:00",
                  "2024",
                  "9",
                  "MLT",
                  "CMR",
                  "4",
                  "Maltese Minitry of Home Affairs, Security and Employment"
                ],
                [
                  "17",
                  "SDN",
                  "2024-09-30 00:00:00",
                  "2024",
                  "9",
                  "MLT",
                  "CMR",
                  "2",
                  "Maltese Minitry of Home Affairs, Security and Employment"
                ],
                [
                  "18",
                  "BGD",
                  "2024-10-31 00:00:00",
                  "2024",
                  "10",
                  "MLT",
                  "CMR",
                  "39",
                  "Maltese Minitry of Home Affairs, Security and Employment"
                ],
                [
                  "19",
                  "EGY",
                  "2024-10-31 00:00:00",
                  "2024",
                  "10",
                  "MLT",
                  "CMR",
                  "7",
                  "Maltese Minitry of Home Affairs, Security and Employment"
                ],
                [
                  "20",
                  "PAK",
                  "2024-10-31 00:00:00",
                  "2024",
                  "10",
                  "MLT",
                  "CMR",
                  "1",
                  "Maltese Minitry of Home Affairs, Security and Employment"
                ],
                [
                  "21",
                  "SYR",
                  "2024-10-31 00:00:00",
                  "2024",
                  "10",
                  "MLT",
                  "CMR",
                  "5",
                  "Maltese Minitry of Home Affairs, Security and Employment"
                ],
                [
                  "22",
                  "BGD",
                  "2024-12-31 00:00:00",
                  "2024",
                  "12",
                  "MLT",
                  "CMR",
                  "60",
                  "Maltese Minitry of Home Affairs, Security and Employment"
                ],
                [
                  "23",
                  "EGY",
                  "2024-12-31 00:00:00",
                  "2024",
                  "12",
                  "MLT",
                  "CMR",
                  "14",
                  "Maltese Minitry of Home Affairs, Security and Employment"
                ],
                [
                  "24",
                  "ERI",
                  "2024-12-31 00:00:00",
                  "2024",
                  "12",
                  "MLT",
                  "CMR",
                  "1",
                  "Maltese Minitry of Home Affairs, Security and Employment"
                ],
                [
                  "25",
                  "PAK",
                  "2024-12-31 00:00:00",
                  "2024",
                  "12",
                  "MLT",
                  "CMR",
                  "8",
                  "Maltese Minitry of Home Affairs, Security and Employment"
                ],
                [
                  "26",
                  "BEN",
                  "2024-01-31 00:00:00",
                  "2024",
                  "1",
                  "ITA",
                  "CMR",
                  "1",
                  "Italian Ministry of the Interior"
                ],
                [
                  "27",
                  "BFA",
                  "2024-01-31 00:00:00",
                  "2024",
                  "1",
                  "ITA",
                  "CMR",
                  "6",
                  "Italian Ministry of the Interior"
                ],
                [
                  "28",
                  "BGD",
                  "2024-01-31 00:00:00",
                  "2024",
                  "1",
                  "ITA",
                  "CMR",
                  "585",
                  "Italian Ministry of the Interior"
                ],
                [
                  "29",
                  "CAF",
                  "2024-01-31 00:00:00",
                  "2024",
                  "1",
                  "ITA",
                  "CMR",
                  "1",
                  "Italian Ministry of the Interior"
                ],
                [
                  "30",
                  "CIV",
                  "2024-01-31 00:00:00",
                  "2024",
                  "1",
                  "ITA",
                  "CMR",
                  "11",
                  "Italian Ministry of the Interior"
                ],
                [
                  "31",
                  "CMR",
                  "2024-01-31 00:00:00",
                  "2024",
                  "1",
                  "ITA",
                  "CMR",
                  "3",
                  "Italian Ministry of the Interior"
                ],
                [
                  "32",
                  "DZA",
                  "2024-01-31 00:00:00",
                  "2024",
                  "1",
                  "ITA",
                  "CMR",
                  "1",
                  "Italian Ministry of the Interior"
                ],
                [
                  "33",
                  "EGY",
                  "2024-01-31 00:00:00",
                  "2024",
                  "1",
                  "ITA",
                  "CMR",
                  "198",
                  "Italian Ministry of the Interior"
                ],
                [
                  "34",
                  "ERI",
                  "2024-01-31 00:00:00",
                  "2024",
                  "1",
                  "ITA",
                  "CMR",
                  "37",
                  "Italian Ministry of the Interior"
                ],
                [
                  "35",
                  "ETH",
                  "2024-01-31 00:00:00",
                  "2024",
                  "1",
                  "ITA",
                  "CMR",
                  "46",
                  "Italian Ministry of the Interior"
                ],
                [
                  "36",
                  "GHA",
                  "2024-01-31 00:00:00",
                  "2024",
                  "1",
                  "ITA",
                  "CMR",
                  "3",
                  "Italian Ministry of the Interior"
                ],
                [
                  "37",
                  "GIN",
                  "2024-01-31 00:00:00",
                  "2024",
                  "1",
                  "ITA",
                  "CMR",
                  "59",
                  "Italian Ministry of the Interior"
                ],
                [
                  "38",
                  "GMB",
                  "2024-01-31 00:00:00",
                  "2024",
                  "1",
                  "ITA",
                  "CMR",
                  "58",
                  "Italian Ministry of the Interior"
                ],
                [
                  "39",
                  "IND",
                  "2024-01-31 00:00:00",
                  "2024",
                  "1",
                  "ITA",
                  "CMR",
                  "1",
                  "Italian Ministry of the Interior"
                ],
                [
                  "40",
                  "LBN",
                  "2024-01-31 00:00:00",
                  "2024",
                  "1",
                  "ITA",
                  "CMR",
                  "1",
                  "Italian Ministry of the Interior"
                ],
                [
                  "41",
                  "LBR",
                  "2024-01-31 00:00:00",
                  "2024",
                  "1",
                  "ITA",
                  "CMR",
                  "1",
                  "Italian Ministry of the Interior"
                ],
                [
                  "42",
                  "LBY",
                  "2024-01-31 00:00:00",
                  "2024",
                  "1",
                  "ITA",
                  "CMR",
                  "1",
                  "Italian Ministry of the Interior"
                ],
                [
                  "43",
                  "MAR",
                  "2024-01-31 00:00:00",
                  "2024",
                  "1",
                  "ITA",
                  "CMR",
                  "36",
                  "Italian Ministry of the Interior"
                ],
                [
                  "44",
                  "MLI",
                  "2024-01-31 00:00:00",
                  "2024",
                  "1",
                  "ITA",
                  "CMR",
                  "27",
                  "Italian Ministry of the Interior"
                ],
                [
                  "45",
                  "NGA",
                  "2024-01-31 00:00:00",
                  "2024",
                  "1",
                  "ITA",
                  "CMR",
                  "3",
                  "Italian Ministry of the Interior"
                ],
                [
                  "46",
                  "OOO",
                  "2024-01-31 00:00:00",
                  "2024",
                  "1",
                  "ITA",
                  "CMR",
                  "3",
                  "Italian Ministry of the Interior"
                ],
                [
                  "47",
                  "PAK",
                  "2024-01-31 00:00:00",
                  "2024",
                  "1",
                  "ITA",
                  "CMR",
                  "138",
                  "Italian Ministry of the Interior"
                ],
                [
                  "48",
                  "PSE",
                  "2024-01-31 00:00:00",
                  "2024",
                  "1",
                  "ITA",
                  "CMR",
                  "11",
                  "Italian Ministry of the Interior"
                ],
                [
                  "49",
                  "SDN",
                  "2024-01-31 00:00:00",
                  "2024",
                  "1",
                  "ITA",
                  "CMR",
                  "106",
                  "Italian Ministry of the Interior"
                ]
              ],
              "shape": {
                "columns": 8,
                "rows": 1689
              }
            },
            "text/html": [
              "<div>\n",
              "<style scoped>\n",
              "    .dataframe tbody tr th:only-of-type {\n",
              "        vertical-align: middle;\n",
              "    }\n",
              "\n",
              "    .dataframe tbody tr th {\n",
              "        vertical-align: top;\n",
              "    }\n",
              "\n",
              "    .dataframe thead th {\n",
              "        text-align: right;\n",
              "    }\n",
              "</style>\n",
              "<table border=\"1\" class=\"dataframe\">\n",
              "  <thead>\n",
              "    <tr style=\"text-align: right;\">\n",
              "      <th></th>\n",
              "      <th>ISO3 - Country of origin</th>\n",
              "      <th>Date</th>\n",
              "      <th>Year</th>\n",
              "      <th>Month</th>\n",
              "      <th>ISO3 - Country of arrival</th>\n",
              "      <th>Route</th>\n",
              "      <th>Arrivals</th>\n",
              "      <th>Source</th>\n",
              "    </tr>\n",
              "  </thead>\n",
              "  <tbody>\n",
              "    <tr>\n",
              "      <th>0</th>\n",
              "      <td>BGD</td>\n",
              "      <td>2024-01-31</td>\n",
              "      <td>2024</td>\n",
              "      <td>1</td>\n",
              "      <td>MLT</td>\n",
              "      <td>CMR</td>\n",
              "      <td>7</td>\n",
              "      <td>Maltese Minitry of Home Affairs, Security and ...</td>\n",
              "    </tr>\n",
              "    <tr>\n",
              "      <th>1</th>\n",
              "      <td>EGY</td>\n",
              "      <td>2024-01-31</td>\n",
              "      <td>2024</td>\n",
              "      <td>1</td>\n",
              "      <td>MLT</td>\n",
              "      <td>CMR</td>\n",
              "      <td>1</td>\n",
              "      <td>Maltese Minitry of Home Affairs, Security and ...</td>\n",
              "    </tr>\n",
              "    <tr>\n",
              "      <th>2</th>\n",
              "      <td>PAK</td>\n",
              "      <td>2024-01-31</td>\n",
              "      <td>2024</td>\n",
              "      <td>1</td>\n",
              "      <td>MLT</td>\n",
              "      <td>CMR</td>\n",
              "      <td>22</td>\n",
              "      <td>Maltese Minitry of Home Affairs, Security and ...</td>\n",
              "    </tr>\n",
              "    <tr>\n",
              "      <th>3</th>\n",
              "      <td>SDN</td>\n",
              "      <td>2024-01-31</td>\n",
              "      <td>2024</td>\n",
              "      <td>1</td>\n",
              "      <td>MLT</td>\n",
              "      <td>CMR</td>\n",
              "      <td>1</td>\n",
              "      <td>Maltese Minitry of Home Affairs, Security and ...</td>\n",
              "    </tr>\n",
              "    <tr>\n",
              "      <th>4</th>\n",
              "      <td>SYR</td>\n",
              "      <td>2024-01-31</td>\n",
              "      <td>2024</td>\n",
              "      <td>1</td>\n",
              "      <td>MLT</td>\n",
              "      <td>CMR</td>\n",
              "      <td>4</td>\n",
              "      <td>Maltese Minitry of Home Affairs, Security and ...</td>\n",
              "    </tr>\n",
              "    <tr>\n",
              "      <th>...</th>\n",
              "      <td>...</td>\n",
              "      <td>...</td>\n",
              "      <td>...</td>\n",
              "      <td>...</td>\n",
              "      <td>...</td>\n",
              "      <td>...</td>\n",
              "      <td>...</td>\n",
              "      <td>...</td>\n",
              "    </tr>\n",
              "    <tr>\n",
              "      <th>1684</th>\n",
              "      <td>EGY</td>\n",
              "      <td>2024-12-31</td>\n",
              "      <td>2024</td>\n",
              "      <td>12</td>\n",
              "      <td>BGR</td>\n",
              "      <td>EMR</td>\n",
              "      <td>12</td>\n",
              "      <td>Bulgarian Ministry of Interior</td>\n",
              "    </tr>\n",
              "    <tr>\n",
              "      <th>1685</th>\n",
              "      <td>IRQ</td>\n",
              "      <td>2024-12-31</td>\n",
              "      <td>2024</td>\n",
              "      <td>12</td>\n",
              "      <td>BGR</td>\n",
              "      <td>EMR</td>\n",
              "      <td>12</td>\n",
              "      <td>Bulgarian Ministry of Interior</td>\n",
              "    </tr>\n",
              "    <tr>\n",
              "      <th>1686</th>\n",
              "      <td>MAR</td>\n",
              "      <td>2024-12-31</td>\n",
              "      <td>2024</td>\n",
              "      <td>12</td>\n",
              "      <td>BGR</td>\n",
              "      <td>EMR</td>\n",
              "      <td>33</td>\n",
              "      <td>Bulgarian Ministry of Interior</td>\n",
              "    </tr>\n",
              "    <tr>\n",
              "      <th>1687</th>\n",
              "      <td>OOO</td>\n",
              "      <td>2024-12-31</td>\n",
              "      <td>2024</td>\n",
              "      <td>12</td>\n",
              "      <td>BGR</td>\n",
              "      <td>EMR</td>\n",
              "      <td>36</td>\n",
              "      <td>Bulgarian Ministry of Interior</td>\n",
              "    </tr>\n",
              "    <tr>\n",
              "      <th>1688</th>\n",
              "      <td>SYR</td>\n",
              "      <td>2024-12-31</td>\n",
              "      <td>2024</td>\n",
              "      <td>12</td>\n",
              "      <td>BGR</td>\n",
              "      <td>EMR</td>\n",
              "      <td>61</td>\n",
              "      <td>Bulgarian Ministry of Interior</td>\n",
              "    </tr>\n",
              "  </tbody>\n",
              "</table>\n",
              "<p>1689 rows × 8 columns</p>\n",
              "</div>"
            ],
            "text/plain": [
              "     ISO3 - Country of origin       Date  Year  Month  \\\n",
              "0                         BGD 2024-01-31  2024      1   \n",
              "1                         EGY 2024-01-31  2024      1   \n",
              "2                         PAK 2024-01-31  2024      1   \n",
              "3                         SDN 2024-01-31  2024      1   \n",
              "4                         SYR 2024-01-31  2024      1   \n",
              "...                       ...        ...   ...    ...   \n",
              "1684                      EGY 2024-12-31  2024     12   \n",
              "1685                      IRQ 2024-12-31  2024     12   \n",
              "1686                      MAR 2024-12-31  2024     12   \n",
              "1687                      OOO 2024-12-31  2024     12   \n",
              "1688                      SYR 2024-12-31  2024     12   \n",
              "\n",
              "     ISO3 - Country of arrival Route  Arrivals  \\\n",
              "0                          MLT   CMR         7   \n",
              "1                          MLT   CMR         1   \n",
              "2                          MLT   CMR        22   \n",
              "3                          MLT   CMR         1   \n",
              "4                          MLT   CMR         4   \n",
              "...                        ...   ...       ...   \n",
              "1684                       BGR   EMR        12   \n",
              "1685                       BGR   EMR        12   \n",
              "1686                       BGR   EMR        33   \n",
              "1687                       BGR   EMR        36   \n",
              "1688                       BGR   EMR        61   \n",
              "\n",
              "                                                 Source  \n",
              "0     Maltese Minitry of Home Affairs, Security and ...  \n",
              "1     Maltese Minitry of Home Affairs, Security and ...  \n",
              "2     Maltese Minitry of Home Affairs, Security and ...  \n",
              "3     Maltese Minitry of Home Affairs, Security and ...  \n",
              "4     Maltese Minitry of Home Affairs, Security and ...  \n",
              "...                                                 ...  \n",
              "1684                     Bulgarian Ministry of Interior  \n",
              "1685                     Bulgarian Ministry of Interior  \n",
              "1686                     Bulgarian Ministry of Interior  \n",
              "1687                     Bulgarian Ministry of Interior  \n",
              "1688                     Bulgarian Ministry of Interior  \n",
              "\n",
              "[1689 rows x 8 columns]"
            ]
          },
          "execution_count": 35,
          "metadata": {},
          "output_type": "execute_result"
        }
      ],
      "source": [
        "# Ordenar el DataFrame por el índice en orden ascendente (de menor a mayor)\n",
        "df_excel.sort_index(ascending=True)"
      ]
    },
    {
      "cell_type": "code",
      "execution_count": 36,
      "metadata": {},
      "outputs": [
        {
          "data": {
            "application/vnd.microsoft.datawrangler.viewer.v0+json": {
              "columns": [
                {
                  "name": "index",
                  "rawType": "int64",
                  "type": "integer"
                },
                {
                  "name": "ISO3 - Country of origin",
                  "rawType": "object",
                  "type": "string"
                },
                {
                  "name": "Date",
                  "rawType": "datetime64[ns]",
                  "type": "datetime"
                },
                {
                  "name": "Year",
                  "rawType": "int64",
                  "type": "integer"
                },
                {
                  "name": "Month",
                  "rawType": "int64",
                  "type": "integer"
                },
                {
                  "name": "ISO3 - Country of arrival",
                  "rawType": "object",
                  "type": "string"
                },
                {
                  "name": "Route",
                  "rawType": "object",
                  "type": "string"
                },
                {
                  "name": "Arrivals",
                  "rawType": "int64",
                  "type": "integer"
                },
                {
                  "name": "Source",
                  "rawType": "object",
                  "type": "string"
                }
              ],
              "ref": "d8b2094f-864c-47f7-9864-59c7a0d48231",
              "rows": [
                [
                  "1688",
                  "SYR",
                  "2024-12-31 00:00:00",
                  "2024",
                  "12",
                  "BGR",
                  "EMR",
                  "61",
                  "Bulgarian Ministry of Interior"
                ],
                [
                  "1687",
                  "OOO",
                  "2024-12-31 00:00:00",
                  "2024",
                  "12",
                  "BGR",
                  "EMR",
                  "36",
                  "Bulgarian Ministry of Interior"
                ],
                [
                  "1686",
                  "MAR",
                  "2024-12-31 00:00:00",
                  "2024",
                  "12",
                  "BGR",
                  "EMR",
                  "33",
                  "Bulgarian Ministry of Interior"
                ],
                [
                  "1685",
                  "IRQ",
                  "2024-12-31 00:00:00",
                  "2024",
                  "12",
                  "BGR",
                  "EMR",
                  "12",
                  "Bulgarian Ministry of Interior"
                ],
                [
                  "1684",
                  "EGY",
                  "2024-12-31 00:00:00",
                  "2024",
                  "12",
                  "BGR",
                  "EMR",
                  "12",
                  "Bulgarian Ministry of Interior"
                ],
                [
                  "1683",
                  "AFG",
                  "2024-12-31 00:00:00",
                  "2024",
                  "12",
                  "BGR",
                  "EMR",
                  "68",
                  "Bulgarian Ministry of Interior"
                ],
                [
                  "1682",
                  "SYR",
                  "2024-11-30 00:00:00",
                  "2024",
                  "11",
                  "BGR",
                  "EMR",
                  "263",
                  "Bulgarian Ministry of Interior"
                ],
                [
                  "1681",
                  "OOO",
                  "2024-11-30 00:00:00",
                  "2024",
                  "11",
                  "BGR",
                  "EMR",
                  "50",
                  "Bulgarian Ministry of Interior"
                ],
                [
                  "1680",
                  "MAR",
                  "2024-11-30 00:00:00",
                  "2024",
                  "11",
                  "BGR",
                  "EMR",
                  "29",
                  "Bulgarian Ministry of Interior"
                ],
                [
                  "1679",
                  "IRQ",
                  "2024-11-30 00:00:00",
                  "2024",
                  "11",
                  "BGR",
                  "EMR",
                  "13",
                  "Bulgarian Ministry of Interior"
                ],
                [
                  "1678",
                  "EGY",
                  "2024-11-30 00:00:00",
                  "2024",
                  "11",
                  "BGR",
                  "EMR",
                  "41",
                  "Bulgarian Ministry of Interior"
                ],
                [
                  "1677",
                  "AFG",
                  "2024-11-30 00:00:00",
                  "2024",
                  "11",
                  "BGR",
                  "EMR",
                  "45",
                  "Bulgarian Ministry of Interior"
                ],
                [
                  "1676",
                  "SYR",
                  "2024-10-31 00:00:00",
                  "2024",
                  "10",
                  "BGR",
                  "EMR",
                  "365",
                  "Bulgarian Ministry of Interior"
                ],
                [
                  "1675",
                  "OOO",
                  "2024-10-31 00:00:00",
                  "2024",
                  "10",
                  "BGR",
                  "EMR",
                  "165",
                  "Bulgarian Ministry of Interior"
                ],
                [
                  "1674",
                  "MAR",
                  "2024-10-31 00:00:00",
                  "2024",
                  "10",
                  "BGR",
                  "EMR",
                  "41",
                  "Bulgarian Ministry of Interior"
                ],
                [
                  "1673",
                  "IRQ",
                  "2024-10-31 00:00:00",
                  "2024",
                  "10",
                  "BGR",
                  "EMR",
                  "9",
                  "Bulgarian Ministry of Interior"
                ],
                [
                  "1672",
                  "EGY",
                  "2024-10-31 00:00:00",
                  "2024",
                  "10",
                  "BGR",
                  "EMR",
                  "40",
                  "Bulgarian Ministry of Interior"
                ],
                [
                  "1671",
                  "AFG",
                  "2024-10-31 00:00:00",
                  "2024",
                  "10",
                  "BGR",
                  "EMR",
                  "221",
                  "Bulgarian Ministry of Interior"
                ],
                [
                  "1670",
                  "SYR",
                  "2024-09-30 00:00:00",
                  "2024",
                  "9",
                  "BGR",
                  "EMR",
                  "762",
                  "Bulgarian Ministry of Interior"
                ],
                [
                  "1669",
                  "OOO",
                  "2024-09-30 00:00:00",
                  "2024",
                  "9",
                  "BGR",
                  "EMR",
                  "165",
                  "Bulgarian Ministry of Interior"
                ],
                [
                  "1668",
                  "MAR",
                  "2024-09-30 00:00:00",
                  "2024",
                  "9",
                  "BGR",
                  "EMR",
                  "64",
                  "Bulgarian Ministry of Interior"
                ],
                [
                  "1667",
                  "IRQ",
                  "2024-09-30 00:00:00",
                  "2024",
                  "9",
                  "BGR",
                  "EMR",
                  "80",
                  "Bulgarian Ministry of Interior"
                ],
                [
                  "1666",
                  "EGY",
                  "2024-09-30 00:00:00",
                  "2024",
                  "9",
                  "BGR",
                  "EMR",
                  "53",
                  "Bulgarian Ministry of Interior"
                ],
                [
                  "1665",
                  "AFG",
                  "2024-09-30 00:00:00",
                  "2024",
                  "9",
                  "BGR",
                  "EMR",
                  "268",
                  "Bulgarian Ministry of Interior"
                ],
                [
                  "1664",
                  "SYR",
                  "2024-08-31 00:00:00",
                  "2024",
                  "8",
                  "BGR",
                  "EMR",
                  "1154",
                  "Bulgarian Ministry of Interior"
                ],
                [
                  "1663",
                  "OOO",
                  "2024-08-31 00:00:00",
                  "2024",
                  "8",
                  "BGR",
                  "EMR",
                  "246",
                  "Bulgarian Ministry of Interior"
                ],
                [
                  "1662",
                  "MAR",
                  "2024-08-31 00:00:00",
                  "2024",
                  "8",
                  "BGR",
                  "EMR",
                  "31",
                  "Bulgarian Ministry of Interior"
                ],
                [
                  "1661",
                  "IRQ",
                  "2024-08-31 00:00:00",
                  "2024",
                  "8",
                  "BGR",
                  "EMR",
                  "39",
                  "Bulgarian Ministry of Interior"
                ],
                [
                  "1660",
                  "EGY",
                  "2024-08-31 00:00:00",
                  "2024",
                  "8",
                  "BGR",
                  "EMR",
                  "23",
                  "Bulgarian Ministry of Interior"
                ],
                [
                  "1659",
                  "AFG",
                  "2024-08-31 00:00:00",
                  "2024",
                  "8",
                  "BGR",
                  "EMR",
                  "96",
                  "Bulgarian Ministry of Interior"
                ],
                [
                  "1658",
                  "SYR",
                  "2024-07-31 00:00:00",
                  "2024",
                  "7",
                  "BGR",
                  "EMR",
                  "923",
                  "Bulgarian Ministry of Interior"
                ],
                [
                  "1657",
                  "OOO",
                  "2024-07-31 00:00:00",
                  "2024",
                  "7",
                  "BGR",
                  "EMR",
                  "152",
                  "Bulgarian Ministry of Interior"
                ],
                [
                  "1656",
                  "MAR",
                  "2024-07-31 00:00:00",
                  "2024",
                  "7",
                  "BGR",
                  "EMR",
                  "83",
                  "Bulgarian Ministry of Interior"
                ],
                [
                  "1655",
                  "IRQ",
                  "2024-07-31 00:00:00",
                  "2024",
                  "7",
                  "BGR",
                  "EMR",
                  "41",
                  "Bulgarian Ministry of Interior"
                ],
                [
                  "1654",
                  "EGY",
                  "2024-07-31 00:00:00",
                  "2024",
                  "7",
                  "BGR",
                  "EMR",
                  "57",
                  "Bulgarian Ministry of Interior"
                ],
                [
                  "1653",
                  "AFG",
                  "2024-07-31 00:00:00",
                  "2024",
                  "7",
                  "BGR",
                  "EMR",
                  "350",
                  "Bulgarian Ministry of Interior"
                ],
                [
                  "1652",
                  "SYR",
                  "2024-06-30 00:00:00",
                  "2024",
                  "6",
                  "BGR",
                  "EMR",
                  "476",
                  "Bulgarian Ministry of Interior"
                ],
                [
                  "1651",
                  "PSE",
                  "2024-06-30 00:00:00",
                  "2024",
                  "6",
                  "BGR",
                  "EMR",
                  "7",
                  "Bulgarian Ministry of Interior"
                ],
                [
                  "1650",
                  "OOO",
                  "2024-06-30 00:00:00",
                  "2024",
                  "6",
                  "BGR",
                  "EMR",
                  "83",
                  "Bulgarian Ministry of Interior"
                ],
                [
                  "1649",
                  "MAR",
                  "2024-06-30 00:00:00",
                  "2024",
                  "6",
                  "BGR",
                  "EMR",
                  "16",
                  "Bulgarian Ministry of Interior"
                ],
                [
                  "1648",
                  "IRQ",
                  "2024-06-30 00:00:00",
                  "2024",
                  "6",
                  "BGR",
                  "EMR",
                  "15",
                  "Bulgarian Ministry of Interior"
                ],
                [
                  "1647",
                  "EGY",
                  "2024-06-30 00:00:00",
                  "2024",
                  "6",
                  "BGR",
                  "EMR",
                  "73",
                  "Bulgarian Ministry of Interior"
                ],
                [
                  "1646",
                  "AFG",
                  "2024-06-30 00:00:00",
                  "2024",
                  "6",
                  "BGR",
                  "EMR",
                  "273",
                  "Bulgarian Ministry of Interior"
                ],
                [
                  "1645",
                  "TUR",
                  "2024-05-31 00:00:00",
                  "2024",
                  "5",
                  "BGR",
                  "EMR",
                  "4",
                  "Bulgarian Ministry of Interior"
                ],
                [
                  "1644",
                  "SYR",
                  "2024-05-31 00:00:00",
                  "2024",
                  "5",
                  "BGR",
                  "EMR",
                  "424",
                  "Bulgarian Ministry of Interior"
                ],
                [
                  "1643",
                  "PSE",
                  "2024-05-31 00:00:00",
                  "2024",
                  "5",
                  "BGR",
                  "EMR",
                  "3",
                  "Bulgarian Ministry of Interior"
                ],
                [
                  "1642",
                  "OOO",
                  "2024-05-31 00:00:00",
                  "2024",
                  "5",
                  "BGR",
                  "EMR",
                  "39",
                  "Bulgarian Ministry of Interior"
                ],
                [
                  "1641",
                  "MAR",
                  "2024-05-31 00:00:00",
                  "2024",
                  "5",
                  "BGR",
                  "EMR",
                  "40",
                  "Bulgarian Ministry of Interior"
                ],
                [
                  "1640",
                  "IRQ",
                  "2024-05-31 00:00:00",
                  "2024",
                  "5",
                  "BGR",
                  "EMR",
                  "58",
                  "Bulgarian Ministry of Interior"
                ],
                [
                  "1639",
                  "EGY",
                  "2024-05-31 00:00:00",
                  "2024",
                  "5",
                  "BGR",
                  "EMR",
                  "10",
                  "Bulgarian Ministry of Interior"
                ]
              ],
              "shape": {
                "columns": 8,
                "rows": 1689
              }
            },
            "text/html": [
              "<div>\n",
              "<style scoped>\n",
              "    .dataframe tbody tr th:only-of-type {\n",
              "        vertical-align: middle;\n",
              "    }\n",
              "\n",
              "    .dataframe tbody tr th {\n",
              "        vertical-align: top;\n",
              "    }\n",
              "\n",
              "    .dataframe thead th {\n",
              "        text-align: right;\n",
              "    }\n",
              "</style>\n",
              "<table border=\"1\" class=\"dataframe\">\n",
              "  <thead>\n",
              "    <tr style=\"text-align: right;\">\n",
              "      <th></th>\n",
              "      <th>ISO3 - Country of origin</th>\n",
              "      <th>Date</th>\n",
              "      <th>Year</th>\n",
              "      <th>Month</th>\n",
              "      <th>ISO3 - Country of arrival</th>\n",
              "      <th>Route</th>\n",
              "      <th>Arrivals</th>\n",
              "      <th>Source</th>\n",
              "    </tr>\n",
              "  </thead>\n",
              "  <tbody>\n",
              "    <tr>\n",
              "      <th>1688</th>\n",
              "      <td>SYR</td>\n",
              "      <td>2024-12-31</td>\n",
              "      <td>2024</td>\n",
              "      <td>12</td>\n",
              "      <td>BGR</td>\n",
              "      <td>EMR</td>\n",
              "      <td>61</td>\n",
              "      <td>Bulgarian Ministry of Interior</td>\n",
              "    </tr>\n",
              "    <tr>\n",
              "      <th>1687</th>\n",
              "      <td>OOO</td>\n",
              "      <td>2024-12-31</td>\n",
              "      <td>2024</td>\n",
              "      <td>12</td>\n",
              "      <td>BGR</td>\n",
              "      <td>EMR</td>\n",
              "      <td>36</td>\n",
              "      <td>Bulgarian Ministry of Interior</td>\n",
              "    </tr>\n",
              "    <tr>\n",
              "      <th>1686</th>\n",
              "      <td>MAR</td>\n",
              "      <td>2024-12-31</td>\n",
              "      <td>2024</td>\n",
              "      <td>12</td>\n",
              "      <td>BGR</td>\n",
              "      <td>EMR</td>\n",
              "      <td>33</td>\n",
              "      <td>Bulgarian Ministry of Interior</td>\n",
              "    </tr>\n",
              "    <tr>\n",
              "      <th>1685</th>\n",
              "      <td>IRQ</td>\n",
              "      <td>2024-12-31</td>\n",
              "      <td>2024</td>\n",
              "      <td>12</td>\n",
              "      <td>BGR</td>\n",
              "      <td>EMR</td>\n",
              "      <td>12</td>\n",
              "      <td>Bulgarian Ministry of Interior</td>\n",
              "    </tr>\n",
              "    <tr>\n",
              "      <th>1684</th>\n",
              "      <td>EGY</td>\n",
              "      <td>2024-12-31</td>\n",
              "      <td>2024</td>\n",
              "      <td>12</td>\n",
              "      <td>BGR</td>\n",
              "      <td>EMR</td>\n",
              "      <td>12</td>\n",
              "      <td>Bulgarian Ministry of Interior</td>\n",
              "    </tr>\n",
              "    <tr>\n",
              "      <th>...</th>\n",
              "      <td>...</td>\n",
              "      <td>...</td>\n",
              "      <td>...</td>\n",
              "      <td>...</td>\n",
              "      <td>...</td>\n",
              "      <td>...</td>\n",
              "      <td>...</td>\n",
              "      <td>...</td>\n",
              "    </tr>\n",
              "    <tr>\n",
              "      <th>4</th>\n",
              "      <td>SYR</td>\n",
              "      <td>2024-01-31</td>\n",
              "      <td>2024</td>\n",
              "      <td>1</td>\n",
              "      <td>MLT</td>\n",
              "      <td>CMR</td>\n",
              "      <td>4</td>\n",
              "      <td>Maltese Minitry of Home Affairs, Security and ...</td>\n",
              "    </tr>\n",
              "    <tr>\n",
              "      <th>3</th>\n",
              "      <td>SDN</td>\n",
              "      <td>2024-01-31</td>\n",
              "      <td>2024</td>\n",
              "      <td>1</td>\n",
              "      <td>MLT</td>\n",
              "      <td>CMR</td>\n",
              "      <td>1</td>\n",
              "      <td>Maltese Minitry of Home Affairs, Security and ...</td>\n",
              "    </tr>\n",
              "    <tr>\n",
              "      <th>2</th>\n",
              "      <td>PAK</td>\n",
              "      <td>2024-01-31</td>\n",
              "      <td>2024</td>\n",
              "      <td>1</td>\n",
              "      <td>MLT</td>\n",
              "      <td>CMR</td>\n",
              "      <td>22</td>\n",
              "      <td>Maltese Minitry of Home Affairs, Security and ...</td>\n",
              "    </tr>\n",
              "    <tr>\n",
              "      <th>1</th>\n",
              "      <td>EGY</td>\n",
              "      <td>2024-01-31</td>\n",
              "      <td>2024</td>\n",
              "      <td>1</td>\n",
              "      <td>MLT</td>\n",
              "      <td>CMR</td>\n",
              "      <td>1</td>\n",
              "      <td>Maltese Minitry of Home Affairs, Security and ...</td>\n",
              "    </tr>\n",
              "    <tr>\n",
              "      <th>0</th>\n",
              "      <td>BGD</td>\n",
              "      <td>2024-01-31</td>\n",
              "      <td>2024</td>\n",
              "      <td>1</td>\n",
              "      <td>MLT</td>\n",
              "      <td>CMR</td>\n",
              "      <td>7</td>\n",
              "      <td>Maltese Minitry of Home Affairs, Security and ...</td>\n",
              "    </tr>\n",
              "  </tbody>\n",
              "</table>\n",
              "<p>1689 rows × 8 columns</p>\n",
              "</div>"
            ],
            "text/plain": [
              "     ISO3 - Country of origin       Date  Year  Month  \\\n",
              "1688                      SYR 2024-12-31  2024     12   \n",
              "1687                      OOO 2024-12-31  2024     12   \n",
              "1686                      MAR 2024-12-31  2024     12   \n",
              "1685                      IRQ 2024-12-31  2024     12   \n",
              "1684                      EGY 2024-12-31  2024     12   \n",
              "...                       ...        ...   ...    ...   \n",
              "4                         SYR 2024-01-31  2024      1   \n",
              "3                         SDN 2024-01-31  2024      1   \n",
              "2                         PAK 2024-01-31  2024      1   \n",
              "1                         EGY 2024-01-31  2024      1   \n",
              "0                         BGD 2024-01-31  2024      1   \n",
              "\n",
              "     ISO3 - Country of arrival Route  Arrivals  \\\n",
              "1688                       BGR   EMR        61   \n",
              "1687                       BGR   EMR        36   \n",
              "1686                       BGR   EMR        33   \n",
              "1685                       BGR   EMR        12   \n",
              "1684                       BGR   EMR        12   \n",
              "...                        ...   ...       ...   \n",
              "4                          MLT   CMR         4   \n",
              "3                          MLT   CMR         1   \n",
              "2                          MLT   CMR        22   \n",
              "1                          MLT   CMR         1   \n",
              "0                          MLT   CMR         7   \n",
              "\n",
              "                                                 Source  \n",
              "1688                     Bulgarian Ministry of Interior  \n",
              "1687                     Bulgarian Ministry of Interior  \n",
              "1686                     Bulgarian Ministry of Interior  \n",
              "1685                     Bulgarian Ministry of Interior  \n",
              "1684                     Bulgarian Ministry of Interior  \n",
              "...                                                 ...  \n",
              "4     Maltese Minitry of Home Affairs, Security and ...  \n",
              "3     Maltese Minitry of Home Affairs, Security and ...  \n",
              "2     Maltese Minitry of Home Affairs, Security and ...  \n",
              "1     Maltese Minitry of Home Affairs, Security and ...  \n",
              "0     Maltese Minitry of Home Affairs, Security and ...  \n",
              "\n",
              "[1689 rows x 8 columns]"
            ]
          },
          "execution_count": 36,
          "metadata": {},
          "output_type": "execute_result"
        }
      ],
      "source": [
        "# Ordenar el DataFrame por el índice en orden descendente (de mayor a menor)\n",
        "df_excel.sort_index(ascending=False) "
      ]
    },
    {
      "cell_type": "markdown",
      "metadata": {},
      "source": [
        "## 📌 Acceso a columnas y filas"
      ]
    },
    {
      "cell_type": "markdown",
      "metadata": {},
      "source": [
        "### 🏷️ Tabla comparativa de métodos para acceder a datos\n",
        "| Método               | Descripción                                      | Uso Principal                                  |\n",
        "|----------------------|--------------------------------------------------|------------------------------------------------|                                \n",
        "| `[]`                 | Accede a columnas por nombre.                     | Selección rápida de una o más columnas.        |\n",
        "| `.loc[]`             | Accede a filas y columnas por etiquetas.          | Selección basada en etiquetas de índice.       |\n",
        "| `.iloc[]`            | Accede a filas y columnas por posición entera.    | Selección basada en la posición numérica.      |\n"
      ]
    },
    {
      "cell_type": "code",
      "execution_count": 37,
      "metadata": {},
      "outputs": [
        {
          "data": {
            "application/vnd.microsoft.datawrangler.viewer.v0+json": {
              "columns": [
                {
                  "name": "index",
                  "rawType": "int64",
                  "type": "integer"
                },
                {
                  "name": "ISO3 - Country of origin",
                  "rawType": "object",
                  "type": "string"
                }
              ],
              "ref": "11fb55d5-5420-4f40-ac77-a50a9f9d651b",
              "rows": [
                [
                  "0",
                  "BGD"
                ],
                [
                  "1",
                  "EGY"
                ],
                [
                  "2",
                  "PAK"
                ],
                [
                  "3",
                  "SDN"
                ],
                [
                  "4",
                  "SYR"
                ],
                [
                  "5",
                  "BGD"
                ],
                [
                  "6",
                  "EGY"
                ],
                [
                  "7",
                  "ERI"
                ],
                [
                  "8",
                  "ETH"
                ],
                [
                  "9",
                  "GHA"
                ],
                [
                  "10",
                  "SYR"
                ],
                [
                  "11",
                  "SYR"
                ],
                [
                  "12",
                  "EGY"
                ],
                [
                  "13",
                  "PSE"
                ],
                [
                  "14",
                  "SYR"
                ],
                [
                  "15",
                  "SYR"
                ],
                [
                  "16",
                  "EGY"
                ],
                [
                  "17",
                  "SDN"
                ],
                [
                  "18",
                  "BGD"
                ],
                [
                  "19",
                  "EGY"
                ],
                [
                  "20",
                  "PAK"
                ],
                [
                  "21",
                  "SYR"
                ],
                [
                  "22",
                  "BGD"
                ],
                [
                  "23",
                  "EGY"
                ],
                [
                  "24",
                  "ERI"
                ],
                [
                  "25",
                  "PAK"
                ],
                [
                  "26",
                  "BEN"
                ],
                [
                  "27",
                  "BFA"
                ],
                [
                  "28",
                  "BGD"
                ],
                [
                  "29",
                  "CAF"
                ],
                [
                  "30",
                  "CIV"
                ],
                [
                  "31",
                  "CMR"
                ],
                [
                  "32",
                  "DZA"
                ],
                [
                  "33",
                  "EGY"
                ],
                [
                  "34",
                  "ERI"
                ],
                [
                  "35",
                  "ETH"
                ],
                [
                  "36",
                  "GHA"
                ],
                [
                  "37",
                  "GIN"
                ],
                [
                  "38",
                  "GMB"
                ],
                [
                  "39",
                  "IND"
                ],
                [
                  "40",
                  "LBN"
                ],
                [
                  "41",
                  "LBR"
                ],
                [
                  "42",
                  "LBY"
                ],
                [
                  "43",
                  "MAR"
                ],
                [
                  "44",
                  "MLI"
                ],
                [
                  "45",
                  "NGA"
                ],
                [
                  "46",
                  "OOO"
                ],
                [
                  "47",
                  "PAK"
                ],
                [
                  "48",
                  "PSE"
                ],
                [
                  "49",
                  "SDN"
                ]
              ],
              "shape": {
                "columns": 1,
                "rows": 1689
              }
            },
            "text/plain": [
              "0       BGD\n",
              "1       EGY\n",
              "2       PAK\n",
              "3       SDN\n",
              "4       SYR\n",
              "       ... \n",
              "1684    EGY\n",
              "1685    IRQ\n",
              "1686    MAR\n",
              "1687    OOO\n",
              "1688    SYR\n",
              "Name: ISO3 - Country of origin, Length: 1689, dtype: object"
            ]
          },
          "execution_count": 37,
          "metadata": {},
          "output_type": "execute_result"
        }
      ],
      "source": [
        "# Acceso a una columna específica\n",
        "df_excel['ISO3 - Country of origin']"
      ]
    },
    {
      "cell_type": "code",
      "execution_count": 38,
      "metadata": {},
      "outputs": [
        {
          "data": {
            "application/vnd.microsoft.datawrangler.viewer.v0+json": {
              "columns": [
                {
                  "name": "index",
                  "rawType": "int64",
                  "type": "integer"
                },
                {
                  "name": "ISO3 - Country of origin",
                  "rawType": "object",
                  "type": "string"
                },
                {
                  "name": "Year",
                  "rawType": "int64",
                  "type": "integer"
                }
              ],
              "ref": "810f54aa-5fd5-4956-af52-e4bf518dccee",
              "rows": [
                [
                  "0",
                  "BGD",
                  "2024"
                ],
                [
                  "1",
                  "EGY",
                  "2024"
                ],
                [
                  "2",
                  "PAK",
                  "2024"
                ],
                [
                  "3",
                  "SDN",
                  "2024"
                ],
                [
                  "4",
                  "SYR",
                  "2024"
                ],
                [
                  "5",
                  "BGD",
                  "2024"
                ],
                [
                  "6",
                  "EGY",
                  "2024"
                ],
                [
                  "7",
                  "ERI",
                  "2024"
                ],
                [
                  "8",
                  "ETH",
                  "2024"
                ],
                [
                  "9",
                  "GHA",
                  "2024"
                ],
                [
                  "10",
                  "SYR",
                  "2024"
                ],
                [
                  "11",
                  "SYR",
                  "2024"
                ],
                [
                  "12",
                  "EGY",
                  "2024"
                ],
                [
                  "13",
                  "PSE",
                  "2024"
                ],
                [
                  "14",
                  "SYR",
                  "2024"
                ],
                [
                  "15",
                  "SYR",
                  "2024"
                ],
                [
                  "16",
                  "EGY",
                  "2024"
                ],
                [
                  "17",
                  "SDN",
                  "2024"
                ],
                [
                  "18",
                  "BGD",
                  "2024"
                ],
                [
                  "19",
                  "EGY",
                  "2024"
                ],
                [
                  "20",
                  "PAK",
                  "2024"
                ],
                [
                  "21",
                  "SYR",
                  "2024"
                ],
                [
                  "22",
                  "BGD",
                  "2024"
                ],
                [
                  "23",
                  "EGY",
                  "2024"
                ],
                [
                  "24",
                  "ERI",
                  "2024"
                ],
                [
                  "25",
                  "PAK",
                  "2024"
                ],
                [
                  "26",
                  "BEN",
                  "2024"
                ],
                [
                  "27",
                  "BFA",
                  "2024"
                ],
                [
                  "28",
                  "BGD",
                  "2024"
                ],
                [
                  "29",
                  "CAF",
                  "2024"
                ],
                [
                  "30",
                  "CIV",
                  "2024"
                ],
                [
                  "31",
                  "CMR",
                  "2024"
                ],
                [
                  "32",
                  "DZA",
                  "2024"
                ],
                [
                  "33",
                  "EGY",
                  "2024"
                ],
                [
                  "34",
                  "ERI",
                  "2024"
                ],
                [
                  "35",
                  "ETH",
                  "2024"
                ],
                [
                  "36",
                  "GHA",
                  "2024"
                ],
                [
                  "37",
                  "GIN",
                  "2024"
                ],
                [
                  "38",
                  "GMB",
                  "2024"
                ],
                [
                  "39",
                  "IND",
                  "2024"
                ],
                [
                  "40",
                  "LBN",
                  "2024"
                ],
                [
                  "41",
                  "LBR",
                  "2024"
                ],
                [
                  "42",
                  "LBY",
                  "2024"
                ],
                [
                  "43",
                  "MAR",
                  "2024"
                ],
                [
                  "44",
                  "MLI",
                  "2024"
                ],
                [
                  "45",
                  "NGA",
                  "2024"
                ],
                [
                  "46",
                  "OOO",
                  "2024"
                ],
                [
                  "47",
                  "PAK",
                  "2024"
                ],
                [
                  "48",
                  "PSE",
                  "2024"
                ],
                [
                  "49",
                  "SDN",
                  "2024"
                ]
              ],
              "shape": {
                "columns": 2,
                "rows": 1689
              }
            },
            "text/html": [
              "<div>\n",
              "<style scoped>\n",
              "    .dataframe tbody tr th:only-of-type {\n",
              "        vertical-align: middle;\n",
              "    }\n",
              "\n",
              "    .dataframe tbody tr th {\n",
              "        vertical-align: top;\n",
              "    }\n",
              "\n",
              "    .dataframe thead th {\n",
              "        text-align: right;\n",
              "    }\n",
              "</style>\n",
              "<table border=\"1\" class=\"dataframe\">\n",
              "  <thead>\n",
              "    <tr style=\"text-align: right;\">\n",
              "      <th></th>\n",
              "      <th>ISO3 - Country of origin</th>\n",
              "      <th>Year</th>\n",
              "    </tr>\n",
              "  </thead>\n",
              "  <tbody>\n",
              "    <tr>\n",
              "      <th>0</th>\n",
              "      <td>BGD</td>\n",
              "      <td>2024</td>\n",
              "    </tr>\n",
              "    <tr>\n",
              "      <th>1</th>\n",
              "      <td>EGY</td>\n",
              "      <td>2024</td>\n",
              "    </tr>\n",
              "    <tr>\n",
              "      <th>2</th>\n",
              "      <td>PAK</td>\n",
              "      <td>2024</td>\n",
              "    </tr>\n",
              "    <tr>\n",
              "      <th>3</th>\n",
              "      <td>SDN</td>\n",
              "      <td>2024</td>\n",
              "    </tr>\n",
              "    <tr>\n",
              "      <th>4</th>\n",
              "      <td>SYR</td>\n",
              "      <td>2024</td>\n",
              "    </tr>\n",
              "    <tr>\n",
              "      <th>...</th>\n",
              "      <td>...</td>\n",
              "      <td>...</td>\n",
              "    </tr>\n",
              "    <tr>\n",
              "      <th>1684</th>\n",
              "      <td>EGY</td>\n",
              "      <td>2024</td>\n",
              "    </tr>\n",
              "    <tr>\n",
              "      <th>1685</th>\n",
              "      <td>IRQ</td>\n",
              "      <td>2024</td>\n",
              "    </tr>\n",
              "    <tr>\n",
              "      <th>1686</th>\n",
              "      <td>MAR</td>\n",
              "      <td>2024</td>\n",
              "    </tr>\n",
              "    <tr>\n",
              "      <th>1687</th>\n",
              "      <td>OOO</td>\n",
              "      <td>2024</td>\n",
              "    </tr>\n",
              "    <tr>\n",
              "      <th>1688</th>\n",
              "      <td>SYR</td>\n",
              "      <td>2024</td>\n",
              "    </tr>\n",
              "  </tbody>\n",
              "</table>\n",
              "<p>1689 rows × 2 columns</p>\n",
              "</div>"
            ],
            "text/plain": [
              "     ISO3 - Country of origin  Year\n",
              "0                         BGD  2024\n",
              "1                         EGY  2024\n",
              "2                         PAK  2024\n",
              "3                         SDN  2024\n",
              "4                         SYR  2024\n",
              "...                       ...   ...\n",
              "1684                      EGY  2024\n",
              "1685                      IRQ  2024\n",
              "1686                      MAR  2024\n",
              "1687                      OOO  2024\n",
              "1688                      SYR  2024\n",
              "\n",
              "[1689 rows x 2 columns]"
            ]
          },
          "execution_count": 38,
          "metadata": {},
          "output_type": "execute_result"
        }
      ],
      "source": [
        "# Acceder a varias columnas\n",
        "df_excel[['ISO3 - Country of origin', 'Year']]"
      ]
    },
    {
      "cell_type": "code",
      "execution_count": 39,
      "metadata": {},
      "outputs": [
        {
          "data": {
            "application/vnd.microsoft.datawrangler.viewer.v0+json": {
              "columns": [
                {
                  "name": "index",
                  "rawType": "object",
                  "type": "string"
                },
                {
                  "name": "0",
                  "rawType": "object",
                  "type": "unknown"
                }
              ],
              "ref": "24b823c2-08fb-4a87-8a46-ed0478de92d7",
              "rows": [
                [
                  "ISO3 - Country of origin",
                  "BGD"
                ],
                [
                  "Date",
                  "2024-01-31 00:00:00"
                ],
                [
                  "Year",
                  "2024"
                ],
                [
                  "Month",
                  "1"
                ],
                [
                  "ISO3 - Country of arrival",
                  "MLT"
                ],
                [
                  "Route",
                  "CMR"
                ],
                [
                  "Arrivals",
                  "7"
                ],
                [
                  "Source",
                  "Maltese Minitry of Home Affairs, Security and Employment"
                ]
              ],
              "shape": {
                "columns": 1,
                "rows": 8
              }
            },
            "text/plain": [
              "ISO3 - Country of origin                                                   BGD\n",
              "Date                                                       2024-01-31 00:00:00\n",
              "Year                                                                      2024\n",
              "Month                                                                        1\n",
              "ISO3 - Country of arrival                                                  MLT\n",
              "Route                                                                      CMR\n",
              "Arrivals                                                                     7\n",
              "Source                       Maltese Minitry of Home Affairs, Security and ...\n",
              "Name: 0, dtype: object"
            ]
          },
          "execution_count": 39,
          "metadata": {},
          "output_type": "execute_result"
        }
      ],
      "source": [
        "#Acceso a filas por el valor del índice\n",
        "df_excel.loc[0]  # Con corchete simple devuelve una Serie"
      ]
    },
    {
      "cell_type": "code",
      "execution_count": 40,
      "metadata": {},
      "outputs": [
        {
          "data": {
            "application/vnd.microsoft.datawrangler.viewer.v0+json": {
              "columns": [
                {
                  "name": "index",
                  "rawType": "int64",
                  "type": "integer"
                },
                {
                  "name": "ISO3 - Country of origin",
                  "rawType": "object",
                  "type": "string"
                },
                {
                  "name": "Year",
                  "rawType": "int64",
                  "type": "integer"
                }
              ],
              "ref": "77e1d0bd-51df-4a9e-a9f0-da7be728ae50",
              "rows": [
                [
                  "0",
                  "BGD",
                  "2024"
                ],
                [
                  "1",
                  "EGY",
                  "2024"
                ],
                [
                  "2",
                  "PAK",
                  "2024"
                ],
                [
                  "3",
                  "SDN",
                  "2024"
                ],
                [
                  "4",
                  "SYR",
                  "2024"
                ],
                [
                  "5",
                  "BGD",
                  "2024"
                ]
              ],
              "shape": {
                "columns": 2,
                "rows": 6
              }
            },
            "text/html": [
              "<div>\n",
              "<style scoped>\n",
              "    .dataframe tbody tr th:only-of-type {\n",
              "        vertical-align: middle;\n",
              "    }\n",
              "\n",
              "    .dataframe tbody tr th {\n",
              "        vertical-align: top;\n",
              "    }\n",
              "\n",
              "    .dataframe thead th {\n",
              "        text-align: right;\n",
              "    }\n",
              "</style>\n",
              "<table border=\"1\" class=\"dataframe\">\n",
              "  <thead>\n",
              "    <tr style=\"text-align: right;\">\n",
              "      <th></th>\n",
              "      <th>ISO3 - Country of origin</th>\n",
              "      <th>Year</th>\n",
              "    </tr>\n",
              "  </thead>\n",
              "  <tbody>\n",
              "    <tr>\n",
              "      <th>0</th>\n",
              "      <td>BGD</td>\n",
              "      <td>2024</td>\n",
              "    </tr>\n",
              "    <tr>\n",
              "      <th>1</th>\n",
              "      <td>EGY</td>\n",
              "      <td>2024</td>\n",
              "    </tr>\n",
              "    <tr>\n",
              "      <th>2</th>\n",
              "      <td>PAK</td>\n",
              "      <td>2024</td>\n",
              "    </tr>\n",
              "    <tr>\n",
              "      <th>3</th>\n",
              "      <td>SDN</td>\n",
              "      <td>2024</td>\n",
              "    </tr>\n",
              "    <tr>\n",
              "      <th>4</th>\n",
              "      <td>SYR</td>\n",
              "      <td>2024</td>\n",
              "    </tr>\n",
              "    <tr>\n",
              "      <th>5</th>\n",
              "      <td>BGD</td>\n",
              "      <td>2024</td>\n",
              "    </tr>\n",
              "  </tbody>\n",
              "</table>\n",
              "</div>"
            ],
            "text/plain": [
              "  ISO3 - Country of origin  Year\n",
              "0                      BGD  2024\n",
              "1                      EGY  2024\n",
              "2                      PAK  2024\n",
              "3                      SDN  2024\n",
              "4                      SYR  2024\n",
              "5                      BGD  2024"
            ]
          },
          "execution_count": 40,
          "metadata": {},
          "output_type": "execute_result"
        }
      ],
      "source": [
        "# Acceder a varias filas y varias columnas con loc.\n",
        "df_excel.loc[0:5, ['ISO3 - Country of origin', 'Year']]\n",
        "#OJO! El final del rango es inclusivo con loc porque trabaja con etiquetas, busca el valor exacto del índice."
      ]
    },
    {
      "cell_type": "code",
      "execution_count": 41,
      "metadata": {},
      "outputs": [
        {
          "data": {
            "application/vnd.microsoft.datawrangler.viewer.v0+json": {
              "columns": [
                {
                  "name": "index",
                  "rawType": "int64",
                  "type": "integer"
                },
                {
                  "name": "ISO3 - Country of origin",
                  "rawType": "object",
                  "type": "string"
                },
                {
                  "name": "Date",
                  "rawType": "datetime64[ns]",
                  "type": "datetime"
                },
                {
                  "name": "Year",
                  "rawType": "int64",
                  "type": "integer"
                },
                {
                  "name": "Month",
                  "rawType": "int64",
                  "type": "integer"
                },
                {
                  "name": "ISO3 - Country of arrival",
                  "rawType": "object",
                  "type": "string"
                },
                {
                  "name": "Route",
                  "rawType": "object",
                  "type": "string"
                },
                {
                  "name": "Arrivals",
                  "rawType": "int64",
                  "type": "integer"
                },
                {
                  "name": "Source",
                  "rawType": "object",
                  "type": "string"
                }
              ],
              "ref": "63e51ea6-1e43-405b-9ef0-bcf2884f6ef2",
              "rows": [
                [
                  "0",
                  "BGD",
                  "2024-01-31 00:00:00",
                  "2024",
                  "1",
                  "MLT",
                  "CMR",
                  "7",
                  "Maltese Minitry of Home Affairs, Security and Employment"
                ]
              ],
              "shape": {
                "columns": 8,
                "rows": 1
              }
            },
            "text/html": [
              "<div>\n",
              "<style scoped>\n",
              "    .dataframe tbody tr th:only-of-type {\n",
              "        vertical-align: middle;\n",
              "    }\n",
              "\n",
              "    .dataframe tbody tr th {\n",
              "        vertical-align: top;\n",
              "    }\n",
              "\n",
              "    .dataframe thead th {\n",
              "        text-align: right;\n",
              "    }\n",
              "</style>\n",
              "<table border=\"1\" class=\"dataframe\">\n",
              "  <thead>\n",
              "    <tr style=\"text-align: right;\">\n",
              "      <th></th>\n",
              "      <th>ISO3 - Country of origin</th>\n",
              "      <th>Date</th>\n",
              "      <th>Year</th>\n",
              "      <th>Month</th>\n",
              "      <th>ISO3 - Country of arrival</th>\n",
              "      <th>Route</th>\n",
              "      <th>Arrivals</th>\n",
              "      <th>Source</th>\n",
              "    </tr>\n",
              "  </thead>\n",
              "  <tbody>\n",
              "    <tr>\n",
              "      <th>0</th>\n",
              "      <td>BGD</td>\n",
              "      <td>2024-01-31</td>\n",
              "      <td>2024</td>\n",
              "      <td>1</td>\n",
              "      <td>MLT</td>\n",
              "      <td>CMR</td>\n",
              "      <td>7</td>\n",
              "      <td>Maltese Minitry of Home Affairs, Security and ...</td>\n",
              "    </tr>\n",
              "  </tbody>\n",
              "</table>\n",
              "</div>"
            ],
            "text/plain": [
              "  ISO3 - Country of origin       Date  Year  Month ISO3 - Country of arrival  \\\n",
              "0                      BGD 2024-01-31  2024      1                       MLT   \n",
              "\n",
              "  Route  Arrivals                                             Source  \n",
              "0   CMR         7  Maltese Minitry of Home Affairs, Security and ...  "
            ]
          },
          "execution_count": 41,
          "metadata": {},
          "output_type": "execute_result"
        }
      ],
      "source": [
        "# Acceso a filas por posición (iloc). \n",
        "df_excel.iloc[[0]]  # Con doble corchete devuelve un DataFrame"
      ]
    },
    {
      "cell_type": "code",
      "execution_count": 42,
      "metadata": {},
      "outputs": [
        {
          "data": {
            "application/vnd.microsoft.datawrangler.viewer.v0+json": {
              "columns": [
                {
                  "name": "index",
                  "rawType": "object",
                  "type": "string"
                },
                {
                  "name": "0",
                  "rawType": "object",
                  "type": "unknown"
                }
              ],
              "ref": "68a4a330-8320-4cf8-8b13-8144b3105668",
              "rows": [
                [
                  "ISO3 - Country of origin",
                  "BGD"
                ],
                [
                  "Date",
                  "2024-01-31 00:00:00"
                ],
                [
                  "Year",
                  "2024"
                ],
                [
                  "Month",
                  "1"
                ],
                [
                  "ISO3 - Country of arrival",
                  "MLT"
                ],
                [
                  "Route",
                  "CMR"
                ],
                [
                  "Arrivals",
                  "7"
                ],
                [
                  "Source",
                  "Maltese Minitry of Home Affairs, Security and Employment"
                ]
              ],
              "shape": {
                "columns": 1,
                "rows": 8
              }
            },
            "text/plain": [
              "ISO3 - Country of origin                                                   BGD\n",
              "Date                                                       2024-01-31 00:00:00\n",
              "Year                                                                      2024\n",
              "Month                                                                        1\n",
              "ISO3 - Country of arrival                                                  MLT\n",
              "Route                                                                      CMR\n",
              "Arrivals                                                                     7\n",
              "Source                       Maltese Minitry of Home Affairs, Security and ...\n",
              "Name: 0, dtype: object"
            ]
          },
          "execution_count": 42,
          "metadata": {},
          "output_type": "execute_result"
        }
      ],
      "source": [
        "# Acceso a filas por posición (iloc). \n",
        "df_excel.iloc[0]  # Con un solo corchete devuelve una Serie"
      ]
    },
    {
      "cell_type": "code",
      "execution_count": 43,
      "metadata": {},
      "outputs": [
        {
          "data": {
            "application/vnd.microsoft.datawrangler.viewer.v0+json": {
              "columns": [
                {
                  "name": "index",
                  "rawType": "int64",
                  "type": "integer"
                },
                {
                  "name": "ISO3 - Country of origin",
                  "rawType": "object",
                  "type": "string"
                },
                {
                  "name": "Date",
                  "rawType": "datetime64[ns]",
                  "type": "datetime"
                }
              ],
              "ref": "5a6ff149-9d1d-42c0-8b36-118bff69ae7d",
              "rows": [
                [
                  "0",
                  "BGD",
                  "2024-01-31 00:00:00"
                ],
                [
                  "1",
                  "EGY",
                  "2024-01-31 00:00:00"
                ],
                [
                  "2",
                  "PAK",
                  "2024-01-31 00:00:00"
                ],
                [
                  "3",
                  "SDN",
                  "2024-01-31 00:00:00"
                ],
                [
                  "4",
                  "SYR",
                  "2024-01-31 00:00:00"
                ]
              ],
              "shape": {
                "columns": 2,
                "rows": 5
              }
            },
            "text/html": [
              "<div>\n",
              "<style scoped>\n",
              "    .dataframe tbody tr th:only-of-type {\n",
              "        vertical-align: middle;\n",
              "    }\n",
              "\n",
              "    .dataframe tbody tr th {\n",
              "        vertical-align: top;\n",
              "    }\n",
              "\n",
              "    .dataframe thead th {\n",
              "        text-align: right;\n",
              "    }\n",
              "</style>\n",
              "<table border=\"1\" class=\"dataframe\">\n",
              "  <thead>\n",
              "    <tr style=\"text-align: right;\">\n",
              "      <th></th>\n",
              "      <th>ISO3 - Country of origin</th>\n",
              "      <th>Date</th>\n",
              "    </tr>\n",
              "  </thead>\n",
              "  <tbody>\n",
              "    <tr>\n",
              "      <th>0</th>\n",
              "      <td>BGD</td>\n",
              "      <td>2024-01-31</td>\n",
              "    </tr>\n",
              "    <tr>\n",
              "      <th>1</th>\n",
              "      <td>EGY</td>\n",
              "      <td>2024-01-31</td>\n",
              "    </tr>\n",
              "    <tr>\n",
              "      <th>2</th>\n",
              "      <td>PAK</td>\n",
              "      <td>2024-01-31</td>\n",
              "    </tr>\n",
              "    <tr>\n",
              "      <th>3</th>\n",
              "      <td>SDN</td>\n",
              "      <td>2024-01-31</td>\n",
              "    </tr>\n",
              "    <tr>\n",
              "      <th>4</th>\n",
              "      <td>SYR</td>\n",
              "      <td>2024-01-31</td>\n",
              "    </tr>\n",
              "  </tbody>\n",
              "</table>\n",
              "</div>"
            ],
            "text/plain": [
              "  ISO3 - Country of origin       Date\n",
              "0                      BGD 2024-01-31\n",
              "1                      EGY 2024-01-31\n",
              "2                      PAK 2024-01-31\n",
              "3                      SDN 2024-01-31\n",
              "4                      SYR 2024-01-31"
            ]
          },
          "execution_count": 43,
          "metadata": {},
          "output_type": "execute_result"
        }
      ],
      "source": [
        "# iloc también permite acceder a varias filas y columnas por posición\n",
        "df_excel.iloc[0:5, 0:2] #Los primeros valores se refieren a filas y los segundos a columnas\n",
        "#OJO! El final del rango es exclusivo con iloc porque trabaja con posiciones, no con etiquetas."
      ]
    },
    {
      "cell_type": "markdown",
      "metadata": {},
      "source": [
        "## 📌 Filtrado de datos con condiciones"
      ]
    },
    {
      "cell_type": "code",
      "execution_count": 44,
      "metadata": {},
      "outputs": [],
      "source": [
        "# Filtrar filas donde el Country of origin es 'SYR'\n",
        "df_siria = df_excel[df_excel['ISO3 - Country of origin'] == 'SYR']\n"
      ]
    },
    {
      "cell_type": "code",
      "execution_count": 45,
      "metadata": {},
      "outputs": [
        {
          "data": {
            "application/vnd.microsoft.datawrangler.viewer.v0+json": {
              "columns": [
                {
                  "name": "index",
                  "rawType": "int64",
                  "type": "integer"
                },
                {
                  "name": "ISO3 - Country of origin",
                  "rawType": "object",
                  "type": "string"
                },
                {
                  "name": "Date",
                  "rawType": "datetime64[ns]",
                  "type": "datetime"
                },
                {
                  "name": "Year",
                  "rawType": "int64",
                  "type": "integer"
                },
                {
                  "name": "Month",
                  "rawType": "int64",
                  "type": "integer"
                },
                {
                  "name": "ISO3 - Country of arrival",
                  "rawType": "object",
                  "type": "string"
                },
                {
                  "name": "Route",
                  "rawType": "object",
                  "type": "string"
                },
                {
                  "name": "Arrivals",
                  "rawType": "int64",
                  "type": "integer"
                },
                {
                  "name": "Source",
                  "rawType": "object",
                  "type": "string"
                }
              ],
              "ref": "96e096da-12df-4175-b54a-7d033f784f3b",
              "rows": [
                [
                  "4",
                  "SYR",
                  "2024-01-31 00:00:00",
                  "2024",
                  "1",
                  "MLT",
                  "CMR",
                  "4",
                  "Maltese Minitry of Home Affairs, Security and Employment"
                ],
                [
                  "10",
                  "SYR",
                  "2024-02-29 00:00:00",
                  "2024",
                  "2",
                  "MLT",
                  "CMR",
                  "11",
                  "Maltese Minitry of Home Affairs, Security and Employment"
                ],
                [
                  "11",
                  "SYR",
                  "2024-03-31 00:00:00",
                  "2024",
                  "3",
                  "MLT",
                  "CMR",
                  "1",
                  "Maltese Minitry of Home Affairs, Security and Employment"
                ],
                [
                  "14",
                  "SYR",
                  "2024-07-31 00:00:00",
                  "2024",
                  "7",
                  "MLT",
                  "CMR",
                  "25",
                  "Maltese Minitry of Home Affairs, Security and Employment"
                ],
                [
                  "15",
                  "SYR",
                  "2024-08-31 00:00:00",
                  "2024",
                  "8",
                  "MLT",
                  "CMR",
                  "1",
                  "Maltese Minitry of Home Affairs, Security and Employment"
                ],
                [
                  "21",
                  "SYR",
                  "2024-10-31 00:00:00",
                  "2024",
                  "10",
                  "MLT",
                  "CMR",
                  "5",
                  "Maltese Minitry of Home Affairs, Security and Employment"
                ],
                [
                  "52",
                  "SYR",
                  "2024-01-31 00:00:00",
                  "2024",
                  "1",
                  "ITA",
                  "CMR",
                  "411",
                  "Italian Ministry of the Interior"
                ],
                [
                  "81",
                  "SYR",
                  "2024-02-29 00:00:00",
                  "2024",
                  "2",
                  "ITA",
                  "CMR",
                  "353",
                  "Italian Ministry of the Interior"
                ],
                [
                  "119",
                  "SYR",
                  "2024-03-31 00:00:00",
                  "2024",
                  "3",
                  "ITA",
                  "CMR",
                  "1320",
                  "Italian Ministry of the Interior"
                ],
                [
                  "156",
                  "SYR",
                  "2024-04-30 00:00:00",
                  "2024",
                  "4",
                  "ITA",
                  "CMR",
                  "376",
                  "Italian Ministry of the Interior"
                ],
                [
                  "197",
                  "SYR",
                  "2024-05-31 00:00:00",
                  "2024",
                  "5",
                  "ITA",
                  "CMR",
                  "660",
                  "Italian Ministry of the Interior"
                ],
                [
                  "236",
                  "SYR",
                  "2024-06-30 00:00:00",
                  "2024",
                  "6",
                  "ITA",
                  "CMR",
                  "715",
                  "Italian Ministry of the Interior"
                ],
                [
                  "274",
                  "SYR",
                  "2024-07-31 00:00:00",
                  "2024",
                  "7",
                  "ITA",
                  "CMR",
                  "1619",
                  "Italian Ministry of the Interior"
                ],
                [
                  "318",
                  "SYR",
                  "2024-08-31 00:00:00",
                  "2024",
                  "8",
                  "ITA",
                  "CMR",
                  "1856",
                  "Italian Ministry of the Interior"
                ],
                [
                  "360",
                  "SYR",
                  "2024-09-30 00:00:00",
                  "2024",
                  "9",
                  "ITA",
                  "CMR",
                  "2076",
                  "Italian Ministry of the Interior"
                ],
                [
                  "398",
                  "SYR",
                  "2024-10-31 00:00:00",
                  "2024",
                  "10",
                  "ITA",
                  "CMR",
                  "1173",
                  "Italian Ministry of the Interior"
                ],
                [
                  "440",
                  "SYR",
                  "2024-11-30 00:00:00",
                  "2024",
                  "11",
                  "ITA",
                  "CMR",
                  "1515",
                  "Italian Ministry of the Interior"
                ],
                [
                  "475",
                  "SYR",
                  "2024-12-31 00:00:00",
                  "2024",
                  "12",
                  "ITA",
                  "CMR",
                  "476",
                  "Italian Ministry of the Interior"
                ],
                [
                  "508",
                  "SYR",
                  "2024-01-31 00:00:00",
                  "2024",
                  "1",
                  "GRC",
                  "EMR",
                  "510",
                  "Hellenic Coast Guard, Greek Ministry of Interior"
                ],
                [
                  "540",
                  "SYR",
                  "2024-02-29 00:00:00",
                  "2024",
                  "2",
                  "GRC",
                  "EMR",
                  "645",
                  "Hellenic Coast Guard, Greek Ministry of Interior"
                ],
                [
                  "569",
                  "SYR",
                  "2024-03-31 00:00:00",
                  "2024",
                  "3",
                  "GRC",
                  "EMR",
                  "696",
                  "Hellenic Coast Guard, Greek Ministry of Interior"
                ],
                [
                  "595",
                  "SYR",
                  "2024-04-30 00:00:00",
                  "2024",
                  "4",
                  "GRC",
                  "EMR",
                  "632",
                  "Hellenic Coast Guard, Greek Ministry of Interior"
                ],
                [
                  "628",
                  "SYR",
                  "2024-05-31 00:00:00",
                  "2024",
                  "5",
                  "GRC",
                  "EMR",
                  "1720",
                  "Hellenic Coast Guard, Greek Ministry of Interior"
                ],
                [
                  "658",
                  "SYR",
                  "2024-06-30 00:00:00",
                  "2024",
                  "6",
                  "GRC",
                  "EMR",
                  "1287",
                  "Hellenic Coast Guard, Greek Ministry of Interior"
                ],
                [
                  "693",
                  "SYR",
                  "2024-07-31 00:00:00",
                  "2024",
                  "7",
                  "GRC",
                  "EMR",
                  "2522",
                  "Hellenic Coast Guard, Greek Ministry of Interior"
                ],
                [
                  "727",
                  "SYR",
                  "2024-08-31 00:00:00",
                  "2024",
                  "8",
                  "GRC",
                  "EMR",
                  "3366",
                  "Hellenic Coast Guard, Greek Ministry of Interior"
                ],
                [
                  "764",
                  "SYR",
                  "2024-09-30 00:00:00",
                  "2024",
                  "9",
                  "GRC",
                  "EMR",
                  "4097",
                  "Hellenic Coast Guard, Greek Ministry of Interior"
                ],
                [
                  "797",
                  "SYR",
                  "2024-10-31 00:00:00",
                  "2024",
                  "10",
                  "GRC",
                  "EMR",
                  "2998",
                  "Hellenic Coast Guard, Greek Ministry of Interior"
                ],
                [
                  "839",
                  "SYR",
                  "2024-11-30 00:00:00",
                  "2024",
                  "11",
                  "GRC",
                  "EMR",
                  "2201",
                  "Hellenic Coast Guard, Greek Ministry of Interior"
                ],
                [
                  "876",
                  "SYR",
                  "2024-12-31 00:00:00",
                  "2024",
                  "12",
                  "GRC",
                  "EMR",
                  "604",
                  "Hellenic Coast Guard, Greek Ministry of Interior"
                ],
                [
                  "918",
                  "SYR",
                  "2024-01-31 00:00:00",
                  "2024",
                  "1",
                  "ESP",
                  "WMR",
                  "7",
                  "European Border and Coast Guard Agency"
                ],
                [
                  "958",
                  "SYR",
                  "2024-02-29 00:00:00",
                  "2024",
                  "2",
                  "ESP",
                  "WMR",
                  "15",
                  "European Border and Coast Guard Agency"
                ],
                [
                  "994",
                  "SYR",
                  "2024-03-31 00:00:00",
                  "2024",
                  "3",
                  "ESP",
                  "WMR",
                  "21",
                  "European Border and Coast Guard Agency"
                ],
                [
                  "1034",
                  "SYR",
                  "2024-04-30 00:00:00",
                  "2024",
                  "4",
                  "ESP",
                  "WAAR",
                  "1",
                  "European Border and Coast Guard Agency"
                ],
                [
                  "1035",
                  "SYR",
                  "2024-04-30 00:00:00",
                  "2024",
                  "4",
                  "ESP",
                  "WMR",
                  "21",
                  "European Border and Coast Guard Agency"
                ],
                [
                  "1078",
                  "SYR",
                  "2024-05-31 00:00:00",
                  "2024",
                  "5",
                  "ESP",
                  "WMR",
                  "16",
                  "European Border and Coast Guard Agency"
                ],
                [
                  "1119",
                  "SYR",
                  "2024-06-30 00:00:00",
                  "2024",
                  "6",
                  "ESP",
                  "WMR",
                  "24",
                  "European Border and Coast Guard Agency"
                ],
                [
                  "1164",
                  "SYR",
                  "2024-07-31 00:00:00",
                  "2024",
                  "7",
                  "ESP",
                  "WAAR",
                  "7",
                  "European Border and Coast Guard Agency"
                ],
                [
                  "1165",
                  "SYR",
                  "2024-07-31 00:00:00",
                  "2024",
                  "7",
                  "ESP",
                  "WMR",
                  "14",
                  "European Border and Coast Guard Agency"
                ],
                [
                  "1205",
                  "SYR",
                  "2024-08-31 00:00:00",
                  "2024",
                  "8",
                  "ESP",
                  "WAAR",
                  "2",
                  "European Border and Coast Guard Agency"
                ],
                [
                  "1206",
                  "SYR",
                  "2024-08-31 00:00:00",
                  "2024",
                  "8",
                  "ESP",
                  "WMR",
                  "36",
                  "European Border and Coast Guard Agency"
                ],
                [
                  "1253",
                  "SYR",
                  "2024-09-30 00:00:00",
                  "2024",
                  "9",
                  "ESP",
                  "WAAR",
                  "3",
                  "European Border and Coast Guard Agency"
                ],
                [
                  "1254",
                  "SYR",
                  "2024-09-30 00:00:00",
                  "2024",
                  "9",
                  "ESP",
                  "WMR",
                  "16",
                  "European Border and Coast Guard Agency"
                ],
                [
                  "1301",
                  "SYR",
                  "2024-10-31 00:00:00",
                  "2024",
                  "10",
                  "ESP",
                  "WMR",
                  "28",
                  "European Border and Coast Guard Agency"
                ],
                [
                  "1351",
                  "SYR",
                  "2024-11-30 00:00:00",
                  "2024",
                  "11",
                  "ESP",
                  "WAAR",
                  "1",
                  "European Border and Coast Guard Agency"
                ],
                [
                  "1352",
                  "SYR",
                  "2024-11-30 00:00:00",
                  "2024",
                  "11",
                  "ESP",
                  "WMR",
                  "26",
                  "European Border and Coast Guard Agency"
                ],
                [
                  "1400",
                  "SYR",
                  "2024-12-31 00:00:00",
                  "2024",
                  "12",
                  "ESP",
                  "WMR",
                  "39",
                  "European Border and Coast Guard Agency"
                ],
                [
                  "1423",
                  "SYR",
                  "2024-01-31 00:00:00",
                  "2024",
                  "1",
                  "CYP",
                  "EMR",
                  "820",
                  "Cypriot Deputy Ministry of Migration and International Protection "
                ],
                [
                  "1443",
                  "SYR",
                  "2024-02-29 00:00:00",
                  "2024",
                  "2",
                  "CYP",
                  "EMR",
                  "585",
                  "Cypriot Deputy Ministry of Migration and International Protection "
                ],
                [
                  "1460",
                  "SYR",
                  "2024-03-31 00:00:00",
                  "2024",
                  "3",
                  "CYP",
                  "EMR",
                  "960",
                  "Cypriot Deputy Ministry of Migration and International Protection "
                ]
              ],
              "shape": {
                "columns": 8,
                "rows": 71
              }
            },
            "text/html": [
              "<div>\n",
              "<style scoped>\n",
              "    .dataframe tbody tr th:only-of-type {\n",
              "        vertical-align: middle;\n",
              "    }\n",
              "\n",
              "    .dataframe tbody tr th {\n",
              "        vertical-align: top;\n",
              "    }\n",
              "\n",
              "    .dataframe thead th {\n",
              "        text-align: right;\n",
              "    }\n",
              "</style>\n",
              "<table border=\"1\" class=\"dataframe\">\n",
              "  <thead>\n",
              "    <tr style=\"text-align: right;\">\n",
              "      <th></th>\n",
              "      <th>ISO3 - Country of origin</th>\n",
              "      <th>Date</th>\n",
              "      <th>Year</th>\n",
              "      <th>Month</th>\n",
              "      <th>ISO3 - Country of arrival</th>\n",
              "      <th>Route</th>\n",
              "      <th>Arrivals</th>\n",
              "      <th>Source</th>\n",
              "    </tr>\n",
              "  </thead>\n",
              "  <tbody>\n",
              "    <tr>\n",
              "      <th>4</th>\n",
              "      <td>SYR</td>\n",
              "      <td>2024-01-31</td>\n",
              "      <td>2024</td>\n",
              "      <td>1</td>\n",
              "      <td>MLT</td>\n",
              "      <td>CMR</td>\n",
              "      <td>4</td>\n",
              "      <td>Maltese Minitry of Home Affairs, Security and ...</td>\n",
              "    </tr>\n",
              "    <tr>\n",
              "      <th>10</th>\n",
              "      <td>SYR</td>\n",
              "      <td>2024-02-29</td>\n",
              "      <td>2024</td>\n",
              "      <td>2</td>\n",
              "      <td>MLT</td>\n",
              "      <td>CMR</td>\n",
              "      <td>11</td>\n",
              "      <td>Maltese Minitry of Home Affairs, Security and ...</td>\n",
              "    </tr>\n",
              "    <tr>\n",
              "      <th>11</th>\n",
              "      <td>SYR</td>\n",
              "      <td>2024-03-31</td>\n",
              "      <td>2024</td>\n",
              "      <td>3</td>\n",
              "      <td>MLT</td>\n",
              "      <td>CMR</td>\n",
              "      <td>1</td>\n",
              "      <td>Maltese Minitry of Home Affairs, Security and ...</td>\n",
              "    </tr>\n",
              "    <tr>\n",
              "      <th>14</th>\n",
              "      <td>SYR</td>\n",
              "      <td>2024-07-31</td>\n",
              "      <td>2024</td>\n",
              "      <td>7</td>\n",
              "      <td>MLT</td>\n",
              "      <td>CMR</td>\n",
              "      <td>25</td>\n",
              "      <td>Maltese Minitry of Home Affairs, Security and ...</td>\n",
              "    </tr>\n",
              "    <tr>\n",
              "      <th>15</th>\n",
              "      <td>SYR</td>\n",
              "      <td>2024-08-31</td>\n",
              "      <td>2024</td>\n",
              "      <td>8</td>\n",
              "      <td>MLT</td>\n",
              "      <td>CMR</td>\n",
              "      <td>1</td>\n",
              "      <td>Maltese Minitry of Home Affairs, Security and ...</td>\n",
              "    </tr>\n",
              "    <tr>\n",
              "      <th>...</th>\n",
              "      <td>...</td>\n",
              "      <td>...</td>\n",
              "      <td>...</td>\n",
              "      <td>...</td>\n",
              "      <td>...</td>\n",
              "      <td>...</td>\n",
              "      <td>...</td>\n",
              "      <td>...</td>\n",
              "    </tr>\n",
              "    <tr>\n",
              "      <th>1664</th>\n",
              "      <td>SYR</td>\n",
              "      <td>2024-08-31</td>\n",
              "      <td>2024</td>\n",
              "      <td>8</td>\n",
              "      <td>BGR</td>\n",
              "      <td>EMR</td>\n",
              "      <td>1154</td>\n",
              "      <td>Bulgarian Ministry of Interior</td>\n",
              "    </tr>\n",
              "    <tr>\n",
              "      <th>1670</th>\n",
              "      <td>SYR</td>\n",
              "      <td>2024-09-30</td>\n",
              "      <td>2024</td>\n",
              "      <td>9</td>\n",
              "      <td>BGR</td>\n",
              "      <td>EMR</td>\n",
              "      <td>762</td>\n",
              "      <td>Bulgarian Ministry of Interior</td>\n",
              "    </tr>\n",
              "    <tr>\n",
              "      <th>1676</th>\n",
              "      <td>SYR</td>\n",
              "      <td>2024-10-31</td>\n",
              "      <td>2024</td>\n",
              "      <td>10</td>\n",
              "      <td>BGR</td>\n",
              "      <td>EMR</td>\n",
              "      <td>365</td>\n",
              "      <td>Bulgarian Ministry of Interior</td>\n",
              "    </tr>\n",
              "    <tr>\n",
              "      <th>1682</th>\n",
              "      <td>SYR</td>\n",
              "      <td>2024-11-30</td>\n",
              "      <td>2024</td>\n",
              "      <td>11</td>\n",
              "      <td>BGR</td>\n",
              "      <td>EMR</td>\n",
              "      <td>263</td>\n",
              "      <td>Bulgarian Ministry of Interior</td>\n",
              "    </tr>\n",
              "    <tr>\n",
              "      <th>1688</th>\n",
              "      <td>SYR</td>\n",
              "      <td>2024-12-31</td>\n",
              "      <td>2024</td>\n",
              "      <td>12</td>\n",
              "      <td>BGR</td>\n",
              "      <td>EMR</td>\n",
              "      <td>61</td>\n",
              "      <td>Bulgarian Ministry of Interior</td>\n",
              "    </tr>\n",
              "  </tbody>\n",
              "</table>\n",
              "<p>71 rows × 8 columns</p>\n",
              "</div>"
            ],
            "text/plain": [
              "     ISO3 - Country of origin       Date  Year  Month  \\\n",
              "4                         SYR 2024-01-31  2024      1   \n",
              "10                        SYR 2024-02-29  2024      2   \n",
              "11                        SYR 2024-03-31  2024      3   \n",
              "14                        SYR 2024-07-31  2024      7   \n",
              "15                        SYR 2024-08-31  2024      8   \n",
              "...                       ...        ...   ...    ...   \n",
              "1664                      SYR 2024-08-31  2024      8   \n",
              "1670                      SYR 2024-09-30  2024      9   \n",
              "1676                      SYR 2024-10-31  2024     10   \n",
              "1682                      SYR 2024-11-30  2024     11   \n",
              "1688                      SYR 2024-12-31  2024     12   \n",
              "\n",
              "     ISO3 - Country of arrival Route  Arrivals  \\\n",
              "4                          MLT   CMR         4   \n",
              "10                         MLT   CMR        11   \n",
              "11                         MLT   CMR         1   \n",
              "14                         MLT   CMR        25   \n",
              "15                         MLT   CMR         1   \n",
              "...                        ...   ...       ...   \n",
              "1664                       BGR   EMR      1154   \n",
              "1670                       BGR   EMR       762   \n",
              "1676                       BGR   EMR       365   \n",
              "1682                       BGR   EMR       263   \n",
              "1688                       BGR   EMR        61   \n",
              "\n",
              "                                                 Source  \n",
              "4     Maltese Minitry of Home Affairs, Security and ...  \n",
              "10    Maltese Minitry of Home Affairs, Security and ...  \n",
              "11    Maltese Minitry of Home Affairs, Security and ...  \n",
              "14    Maltese Minitry of Home Affairs, Security and ...  \n",
              "15    Maltese Minitry of Home Affairs, Security and ...  \n",
              "...                                                 ...  \n",
              "1664                     Bulgarian Ministry of Interior  \n",
              "1670                     Bulgarian Ministry of Interior  \n",
              "1676                     Bulgarian Ministry of Interior  \n",
              "1682                     Bulgarian Ministry of Interior  \n",
              "1688                     Bulgarian Ministry of Interior  \n",
              "\n",
              "[71 rows x 8 columns]"
            ]
          },
          "execution_count": 45,
          "metadata": {},
          "output_type": "execute_result"
        }
      ],
      "source": [
        "df_siria"
      ]
    },
    {
      "cell_type": "code",
      "execution_count": 46,
      "metadata": {},
      "outputs": [],
      "source": [
        "# Filtrar por varias condiciones: Country of origin es 'SYR' y Country of first arrival es 'GRC'\n",
        "df_siria_grecia = df_excel[\n",
        "    (df_excel['ISO3 - Country of origin'] == 'SYR') &\n",
        "    (df_excel['ISO3 - Country of arrival'] == 'GRC')\n",
        "]"
      ]
    },
    {
      "cell_type": "code",
      "execution_count": 47,
      "metadata": {},
      "outputs": [
        {
          "data": {
            "application/vnd.microsoft.datawrangler.viewer.v0+json": {
              "columns": [
                {
                  "name": "index",
                  "rawType": "int64",
                  "type": "integer"
                },
                {
                  "name": "ISO3 - Country of origin",
                  "rawType": "object",
                  "type": "string"
                },
                {
                  "name": "Date",
                  "rawType": "datetime64[ns]",
                  "type": "datetime"
                },
                {
                  "name": "Year",
                  "rawType": "int64",
                  "type": "integer"
                },
                {
                  "name": "Month",
                  "rawType": "int64",
                  "type": "integer"
                },
                {
                  "name": "ISO3 - Country of arrival",
                  "rawType": "object",
                  "type": "string"
                },
                {
                  "name": "Route",
                  "rawType": "object",
                  "type": "string"
                },
                {
                  "name": "Arrivals",
                  "rawType": "int64",
                  "type": "integer"
                },
                {
                  "name": "Source",
                  "rawType": "object",
                  "type": "string"
                }
              ],
              "ref": "ecc649e8-ce14-4c1b-883f-676fe62fd70e",
              "rows": [
                [
                  "508",
                  "SYR",
                  "2024-01-31 00:00:00",
                  "2024",
                  "1",
                  "GRC",
                  "EMR",
                  "510",
                  "Hellenic Coast Guard, Greek Ministry of Interior"
                ],
                [
                  "540",
                  "SYR",
                  "2024-02-29 00:00:00",
                  "2024",
                  "2",
                  "GRC",
                  "EMR",
                  "645",
                  "Hellenic Coast Guard, Greek Ministry of Interior"
                ],
                [
                  "569",
                  "SYR",
                  "2024-03-31 00:00:00",
                  "2024",
                  "3",
                  "GRC",
                  "EMR",
                  "696",
                  "Hellenic Coast Guard, Greek Ministry of Interior"
                ],
                [
                  "595",
                  "SYR",
                  "2024-04-30 00:00:00",
                  "2024",
                  "4",
                  "GRC",
                  "EMR",
                  "632",
                  "Hellenic Coast Guard, Greek Ministry of Interior"
                ],
                [
                  "628",
                  "SYR",
                  "2024-05-31 00:00:00",
                  "2024",
                  "5",
                  "GRC",
                  "EMR",
                  "1720",
                  "Hellenic Coast Guard, Greek Ministry of Interior"
                ],
                [
                  "658",
                  "SYR",
                  "2024-06-30 00:00:00",
                  "2024",
                  "6",
                  "GRC",
                  "EMR",
                  "1287",
                  "Hellenic Coast Guard, Greek Ministry of Interior"
                ],
                [
                  "693",
                  "SYR",
                  "2024-07-31 00:00:00",
                  "2024",
                  "7",
                  "GRC",
                  "EMR",
                  "2522",
                  "Hellenic Coast Guard, Greek Ministry of Interior"
                ],
                [
                  "727",
                  "SYR",
                  "2024-08-31 00:00:00",
                  "2024",
                  "8",
                  "GRC",
                  "EMR",
                  "3366",
                  "Hellenic Coast Guard, Greek Ministry of Interior"
                ],
                [
                  "764",
                  "SYR",
                  "2024-09-30 00:00:00",
                  "2024",
                  "9",
                  "GRC",
                  "EMR",
                  "4097",
                  "Hellenic Coast Guard, Greek Ministry of Interior"
                ],
                [
                  "797",
                  "SYR",
                  "2024-10-31 00:00:00",
                  "2024",
                  "10",
                  "GRC",
                  "EMR",
                  "2998",
                  "Hellenic Coast Guard, Greek Ministry of Interior"
                ],
                [
                  "839",
                  "SYR",
                  "2024-11-30 00:00:00",
                  "2024",
                  "11",
                  "GRC",
                  "EMR",
                  "2201",
                  "Hellenic Coast Guard, Greek Ministry of Interior"
                ],
                [
                  "876",
                  "SYR",
                  "2024-12-31 00:00:00",
                  "2024",
                  "12",
                  "GRC",
                  "EMR",
                  "604",
                  "Hellenic Coast Guard, Greek Ministry of Interior"
                ]
              ],
              "shape": {
                "columns": 8,
                "rows": 12
              }
            },
            "text/html": [
              "<div>\n",
              "<style scoped>\n",
              "    .dataframe tbody tr th:only-of-type {\n",
              "        vertical-align: middle;\n",
              "    }\n",
              "\n",
              "    .dataframe tbody tr th {\n",
              "        vertical-align: top;\n",
              "    }\n",
              "\n",
              "    .dataframe thead th {\n",
              "        text-align: right;\n",
              "    }\n",
              "</style>\n",
              "<table border=\"1\" class=\"dataframe\">\n",
              "  <thead>\n",
              "    <tr style=\"text-align: right;\">\n",
              "      <th></th>\n",
              "      <th>ISO3 - Country of origin</th>\n",
              "      <th>Date</th>\n",
              "      <th>Year</th>\n",
              "      <th>Month</th>\n",
              "      <th>ISO3 - Country of arrival</th>\n",
              "      <th>Route</th>\n",
              "      <th>Arrivals</th>\n",
              "      <th>Source</th>\n",
              "    </tr>\n",
              "  </thead>\n",
              "  <tbody>\n",
              "    <tr>\n",
              "      <th>508</th>\n",
              "      <td>SYR</td>\n",
              "      <td>2024-01-31</td>\n",
              "      <td>2024</td>\n",
              "      <td>1</td>\n",
              "      <td>GRC</td>\n",
              "      <td>EMR</td>\n",
              "      <td>510</td>\n",
              "      <td>Hellenic Coast Guard, Greek Ministry of Interior</td>\n",
              "    </tr>\n",
              "    <tr>\n",
              "      <th>540</th>\n",
              "      <td>SYR</td>\n",
              "      <td>2024-02-29</td>\n",
              "      <td>2024</td>\n",
              "      <td>2</td>\n",
              "      <td>GRC</td>\n",
              "      <td>EMR</td>\n",
              "      <td>645</td>\n",
              "      <td>Hellenic Coast Guard, Greek Ministry of Interior</td>\n",
              "    </tr>\n",
              "    <tr>\n",
              "      <th>569</th>\n",
              "      <td>SYR</td>\n",
              "      <td>2024-03-31</td>\n",
              "      <td>2024</td>\n",
              "      <td>3</td>\n",
              "      <td>GRC</td>\n",
              "      <td>EMR</td>\n",
              "      <td>696</td>\n",
              "      <td>Hellenic Coast Guard, Greek Ministry of Interior</td>\n",
              "    </tr>\n",
              "    <tr>\n",
              "      <th>595</th>\n",
              "      <td>SYR</td>\n",
              "      <td>2024-04-30</td>\n",
              "      <td>2024</td>\n",
              "      <td>4</td>\n",
              "      <td>GRC</td>\n",
              "      <td>EMR</td>\n",
              "      <td>632</td>\n",
              "      <td>Hellenic Coast Guard, Greek Ministry of Interior</td>\n",
              "    </tr>\n",
              "    <tr>\n",
              "      <th>628</th>\n",
              "      <td>SYR</td>\n",
              "      <td>2024-05-31</td>\n",
              "      <td>2024</td>\n",
              "      <td>5</td>\n",
              "      <td>GRC</td>\n",
              "      <td>EMR</td>\n",
              "      <td>1720</td>\n",
              "      <td>Hellenic Coast Guard, Greek Ministry of Interior</td>\n",
              "    </tr>\n",
              "    <tr>\n",
              "      <th>658</th>\n",
              "      <td>SYR</td>\n",
              "      <td>2024-06-30</td>\n",
              "      <td>2024</td>\n",
              "      <td>6</td>\n",
              "      <td>GRC</td>\n",
              "      <td>EMR</td>\n",
              "      <td>1287</td>\n",
              "      <td>Hellenic Coast Guard, Greek Ministry of Interior</td>\n",
              "    </tr>\n",
              "    <tr>\n",
              "      <th>693</th>\n",
              "      <td>SYR</td>\n",
              "      <td>2024-07-31</td>\n",
              "      <td>2024</td>\n",
              "      <td>7</td>\n",
              "      <td>GRC</td>\n",
              "      <td>EMR</td>\n",
              "      <td>2522</td>\n",
              "      <td>Hellenic Coast Guard, Greek Ministry of Interior</td>\n",
              "    </tr>\n",
              "    <tr>\n",
              "      <th>727</th>\n",
              "      <td>SYR</td>\n",
              "      <td>2024-08-31</td>\n",
              "      <td>2024</td>\n",
              "      <td>8</td>\n",
              "      <td>GRC</td>\n",
              "      <td>EMR</td>\n",
              "      <td>3366</td>\n",
              "      <td>Hellenic Coast Guard, Greek Ministry of Interior</td>\n",
              "    </tr>\n",
              "    <tr>\n",
              "      <th>764</th>\n",
              "      <td>SYR</td>\n",
              "      <td>2024-09-30</td>\n",
              "      <td>2024</td>\n",
              "      <td>9</td>\n",
              "      <td>GRC</td>\n",
              "      <td>EMR</td>\n",
              "      <td>4097</td>\n",
              "      <td>Hellenic Coast Guard, Greek Ministry of Interior</td>\n",
              "    </tr>\n",
              "    <tr>\n",
              "      <th>797</th>\n",
              "      <td>SYR</td>\n",
              "      <td>2024-10-31</td>\n",
              "      <td>2024</td>\n",
              "      <td>10</td>\n",
              "      <td>GRC</td>\n",
              "      <td>EMR</td>\n",
              "      <td>2998</td>\n",
              "      <td>Hellenic Coast Guard, Greek Ministry of Interior</td>\n",
              "    </tr>\n",
              "    <tr>\n",
              "      <th>839</th>\n",
              "      <td>SYR</td>\n",
              "      <td>2024-11-30</td>\n",
              "      <td>2024</td>\n",
              "      <td>11</td>\n",
              "      <td>GRC</td>\n",
              "      <td>EMR</td>\n",
              "      <td>2201</td>\n",
              "      <td>Hellenic Coast Guard, Greek Ministry of Interior</td>\n",
              "    </tr>\n",
              "    <tr>\n",
              "      <th>876</th>\n",
              "      <td>SYR</td>\n",
              "      <td>2024-12-31</td>\n",
              "      <td>2024</td>\n",
              "      <td>12</td>\n",
              "      <td>GRC</td>\n",
              "      <td>EMR</td>\n",
              "      <td>604</td>\n",
              "      <td>Hellenic Coast Guard, Greek Ministry of Interior</td>\n",
              "    </tr>\n",
              "  </tbody>\n",
              "</table>\n",
              "</div>"
            ],
            "text/plain": [
              "    ISO3 - Country of origin       Date  Year  Month  \\\n",
              "508                      SYR 2024-01-31  2024      1   \n",
              "540                      SYR 2024-02-29  2024      2   \n",
              "569                      SYR 2024-03-31  2024      3   \n",
              "595                      SYR 2024-04-30  2024      4   \n",
              "628                      SYR 2024-05-31  2024      5   \n",
              "658                      SYR 2024-06-30  2024      6   \n",
              "693                      SYR 2024-07-31  2024      7   \n",
              "727                      SYR 2024-08-31  2024      8   \n",
              "764                      SYR 2024-09-30  2024      9   \n",
              "797                      SYR 2024-10-31  2024     10   \n",
              "839                      SYR 2024-11-30  2024     11   \n",
              "876                      SYR 2024-12-31  2024     12   \n",
              "\n",
              "    ISO3 - Country of arrival Route  Arrivals  \\\n",
              "508                       GRC   EMR       510   \n",
              "540                       GRC   EMR       645   \n",
              "569                       GRC   EMR       696   \n",
              "595                       GRC   EMR       632   \n",
              "628                       GRC   EMR      1720   \n",
              "658                       GRC   EMR      1287   \n",
              "693                       GRC   EMR      2522   \n",
              "727                       GRC   EMR      3366   \n",
              "764                       GRC   EMR      4097   \n",
              "797                       GRC   EMR      2998   \n",
              "839                       GRC   EMR      2201   \n",
              "876                       GRC   EMR       604   \n",
              "\n",
              "                                               Source  \n",
              "508  Hellenic Coast Guard, Greek Ministry of Interior  \n",
              "540  Hellenic Coast Guard, Greek Ministry of Interior  \n",
              "569  Hellenic Coast Guard, Greek Ministry of Interior  \n",
              "595  Hellenic Coast Guard, Greek Ministry of Interior  \n",
              "628  Hellenic Coast Guard, Greek Ministry of Interior  \n",
              "658  Hellenic Coast Guard, Greek Ministry of Interior  \n",
              "693  Hellenic Coast Guard, Greek Ministry of Interior  \n",
              "727  Hellenic Coast Guard, Greek Ministry of Interior  \n",
              "764  Hellenic Coast Guard, Greek Ministry of Interior  \n",
              "797  Hellenic Coast Guard, Greek Ministry of Interior  \n",
              "839  Hellenic Coast Guard, Greek Ministry of Interior  \n",
              "876  Hellenic Coast Guard, Greek Ministry of Interior  "
            ]
          },
          "execution_count": 47,
          "metadata": {},
          "output_type": "execute_result"
        }
      ],
      "source": [
        "df_siria_grecia"
      ]
    },
    {
      "cell_type": "code",
      "execution_count": 48,
      "metadata": {},
      "outputs": [
        {
          "data": {
            "application/vnd.microsoft.datawrangler.viewer.v0+json": {
              "columns": [
                {
                  "name": "index",
                  "rawType": "int64",
                  "type": "integer"
                },
                {
                  "name": "ISO3 - Country of origin",
                  "rawType": "object",
                  "type": "string"
                },
                {
                  "name": "Date",
                  "rawType": "datetime64[ns]",
                  "type": "datetime"
                },
                {
                  "name": "Year",
                  "rawType": "int64",
                  "type": "integer"
                },
                {
                  "name": "Month",
                  "rawType": "int64",
                  "type": "integer"
                },
                {
                  "name": "ISO3 - Country of arrival",
                  "rawType": "object",
                  "type": "string"
                },
                {
                  "name": "Route",
                  "rawType": "object",
                  "type": "string"
                },
                {
                  "name": "Arrivals",
                  "rawType": "int64",
                  "type": "integer"
                },
                {
                  "name": "Source",
                  "rawType": "object",
                  "type": "string"
                }
              ],
              "ref": "6c28c96a-06e3-46e5-b676-10455df3056e",
              "rows": [
                [
                  "4",
                  "SYR",
                  "2024-01-31 00:00:00",
                  "2024",
                  "1",
                  "MLT",
                  "CMR",
                  "4",
                  "Maltese Minitry of Home Affairs, Security and Employment"
                ],
                [
                  "10",
                  "SYR",
                  "2024-02-29 00:00:00",
                  "2024",
                  "2",
                  "MLT",
                  "CMR",
                  "11",
                  "Maltese Minitry of Home Affairs, Security and Employment"
                ],
                [
                  "11",
                  "SYR",
                  "2024-03-31 00:00:00",
                  "2024",
                  "3",
                  "MLT",
                  "CMR",
                  "1",
                  "Maltese Minitry of Home Affairs, Security and Employment"
                ],
                [
                  "14",
                  "SYR",
                  "2024-07-31 00:00:00",
                  "2024",
                  "7",
                  "MLT",
                  "CMR",
                  "25",
                  "Maltese Minitry of Home Affairs, Security and Employment"
                ],
                [
                  "15",
                  "SYR",
                  "2024-08-31 00:00:00",
                  "2024",
                  "8",
                  "MLT",
                  "CMR",
                  "1",
                  "Maltese Minitry of Home Affairs, Security and Employment"
                ],
                [
                  "21",
                  "SYR",
                  "2024-10-31 00:00:00",
                  "2024",
                  "10",
                  "MLT",
                  "CMR",
                  "5",
                  "Maltese Minitry of Home Affairs, Security and Employment"
                ],
                [
                  "52",
                  "SYR",
                  "2024-01-31 00:00:00",
                  "2024",
                  "1",
                  "ITA",
                  "CMR",
                  "411",
                  "Italian Ministry of the Interior"
                ],
                [
                  "81",
                  "SYR",
                  "2024-02-29 00:00:00",
                  "2024",
                  "2",
                  "ITA",
                  "CMR",
                  "353",
                  "Italian Ministry of the Interior"
                ],
                [
                  "85",
                  "AFG",
                  "2024-03-31 00:00:00",
                  "2024",
                  "3",
                  "ITA",
                  "CMR",
                  "9",
                  "Italian Ministry of the Interior"
                ],
                [
                  "119",
                  "SYR",
                  "2024-03-31 00:00:00",
                  "2024",
                  "3",
                  "ITA",
                  "CMR",
                  "1320",
                  "Italian Ministry of the Interior"
                ],
                [
                  "156",
                  "SYR",
                  "2024-04-30 00:00:00",
                  "2024",
                  "4",
                  "ITA",
                  "CMR",
                  "376",
                  "Italian Ministry of the Interior"
                ],
                [
                  "161",
                  "AFG",
                  "2024-05-31 00:00:00",
                  "2024",
                  "5",
                  "ITA",
                  "CMR",
                  "86",
                  "Italian Ministry of the Interior"
                ],
                [
                  "179",
                  "IRN",
                  "2024-05-31 00:00:00",
                  "2024",
                  "5",
                  "ITA",
                  "CMR",
                  "106",
                  "Italian Ministry of the Interior"
                ],
                [
                  "197",
                  "SYR",
                  "2024-05-31 00:00:00",
                  "2024",
                  "5",
                  "ITA",
                  "CMR",
                  "660",
                  "Italian Ministry of the Interior"
                ],
                [
                  "204",
                  "AFG",
                  "2024-06-30 00:00:00",
                  "2024",
                  "6",
                  "ITA",
                  "CMR",
                  "145",
                  "Italian Ministry of the Interior"
                ],
                [
                  "218",
                  "IRN",
                  "2024-06-30 00:00:00",
                  "2024",
                  "6",
                  "ITA",
                  "CMR",
                  "176",
                  "Italian Ministry of the Interior"
                ],
                [
                  "236",
                  "SYR",
                  "2024-06-30 00:00:00",
                  "2024",
                  "6",
                  "ITA",
                  "CMR",
                  "715",
                  "Italian Ministry of the Interior"
                ],
                [
                  "242",
                  "AFG",
                  "2024-07-31 00:00:00",
                  "2024",
                  "7",
                  "ITA",
                  "CMR",
                  "20",
                  "Italian Ministry of the Interior"
                ],
                [
                  "257",
                  "IRN",
                  "2024-07-31 00:00:00",
                  "2024",
                  "7",
                  "ITA",
                  "CMR",
                  "245",
                  "Italian Ministry of the Interior"
                ],
                [
                  "274",
                  "SYR",
                  "2024-07-31 00:00:00",
                  "2024",
                  "7",
                  "ITA",
                  "CMR",
                  "1619",
                  "Italian Ministry of the Interior"
                ],
                [
                  "282",
                  "AFG",
                  "2024-08-31 00:00:00",
                  "2024",
                  "8",
                  "ITA",
                  "CMR",
                  "190",
                  "Italian Ministry of the Interior"
                ],
                [
                  "298",
                  "IRN",
                  "2024-08-31 00:00:00",
                  "2024",
                  "8",
                  "ITA",
                  "CMR",
                  "230",
                  "Italian Ministry of the Interior"
                ],
                [
                  "318",
                  "SYR",
                  "2024-08-31 00:00:00",
                  "2024",
                  "8",
                  "ITA",
                  "CMR",
                  "1856",
                  "Italian Ministry of the Interior"
                ],
                [
                  "326",
                  "AFG",
                  "2024-09-30 00:00:00",
                  "2024",
                  "9",
                  "ITA",
                  "CMR",
                  "228",
                  "Italian Ministry of the Interior"
                ],
                [
                  "341",
                  "IRN",
                  "2024-09-30 00:00:00",
                  "2024",
                  "9",
                  "ITA",
                  "CMR",
                  "263",
                  "Italian Ministry of the Interior"
                ],
                [
                  "360",
                  "SYR",
                  "2024-09-30 00:00:00",
                  "2024",
                  "9",
                  "ITA",
                  "CMR",
                  "2076",
                  "Italian Ministry of the Interior"
                ],
                [
                  "365",
                  "AFG",
                  "2024-10-31 00:00:00",
                  "2024",
                  "10",
                  "ITA",
                  "CMR",
                  "210",
                  "Italian Ministry of the Interior"
                ],
                [
                  "381",
                  "IRN",
                  "2024-10-31 00:00:00",
                  "2024",
                  "10",
                  "ITA",
                  "CMR",
                  "125",
                  "Italian Ministry of the Interior"
                ],
                [
                  "398",
                  "SYR",
                  "2024-10-31 00:00:00",
                  "2024",
                  "10",
                  "ITA",
                  "CMR",
                  "1173",
                  "Italian Ministry of the Interior"
                ],
                [
                  "405",
                  "AFG",
                  "2024-11-30 00:00:00",
                  "2024",
                  "11",
                  "ITA",
                  "CMR",
                  "176",
                  "Italian Ministry of the Interior"
                ],
                [
                  "422",
                  "IRN",
                  "2024-11-30 00:00:00",
                  "2024",
                  "11",
                  "ITA",
                  "CMR",
                  "61",
                  "Italian Ministry of the Interior"
                ],
                [
                  "440",
                  "SYR",
                  "2024-11-30 00:00:00",
                  "2024",
                  "11",
                  "ITA",
                  "CMR",
                  "1515",
                  "Italian Ministry of the Interior"
                ],
                [
                  "447",
                  "AFG",
                  "2024-12-31 00:00:00",
                  "2024",
                  "12",
                  "ITA",
                  "CMR",
                  "92",
                  "Italian Ministry of the Interior"
                ],
                [
                  "460",
                  "IRN",
                  "2024-12-31 00:00:00",
                  "2024",
                  "12",
                  "ITA",
                  "CMR",
                  "35",
                  "Italian Ministry of the Interior"
                ],
                [
                  "475",
                  "SYR",
                  "2024-12-31 00:00:00",
                  "2024",
                  "12",
                  "ITA",
                  "CMR",
                  "476",
                  "Italian Ministry of the Interior"
                ],
                [
                  "479",
                  "AFG",
                  "2024-01-31 00:00:00",
                  "2024",
                  "1",
                  "GRC",
                  "EMR",
                  "1367",
                  "Hellenic Coast Guard, Greek Ministry of Interior"
                ],
                [
                  "494",
                  "IRN",
                  "2024-01-31 00:00:00",
                  "2024",
                  "1",
                  "GRC",
                  "EMR",
                  "22",
                  "Hellenic Coast Guard, Greek Ministry of Interior"
                ],
                [
                  "508",
                  "SYR",
                  "2024-01-31 00:00:00",
                  "2024",
                  "1",
                  "GRC",
                  "EMR",
                  "510",
                  "Hellenic Coast Guard, Greek Ministry of Interior"
                ],
                [
                  "513",
                  "AFG",
                  "2024-02-29 00:00:00",
                  "2024",
                  "2",
                  "GRC",
                  "EMR",
                  "2178",
                  "Hellenic Coast Guard, Greek Ministry of Interior"
                ],
                [
                  "525",
                  "IRN",
                  "2024-02-29 00:00:00",
                  "2024",
                  "2",
                  "GRC",
                  "EMR",
                  "24",
                  "Hellenic Coast Guard, Greek Ministry of Interior"
                ],
                [
                  "540",
                  "SYR",
                  "2024-02-29 00:00:00",
                  "2024",
                  "2",
                  "GRC",
                  "EMR",
                  "645",
                  "Hellenic Coast Guard, Greek Ministry of Interior"
                ],
                [
                  "544",
                  "AFG",
                  "2024-03-31 00:00:00",
                  "2024",
                  "3",
                  "GRC",
                  "EMR",
                  "612",
                  "Hellenic Coast Guard, Greek Ministry of Interior"
                ],
                [
                  "557",
                  "IRN",
                  "2024-03-31 00:00:00",
                  "2024",
                  "3",
                  "GRC",
                  "EMR",
                  "64",
                  "Hellenic Coast Guard, Greek Ministry of Interior"
                ],
                [
                  "569",
                  "SYR",
                  "2024-03-31 00:00:00",
                  "2024",
                  "3",
                  "GRC",
                  "EMR",
                  "696",
                  "Hellenic Coast Guard, Greek Ministry of Interior"
                ],
                [
                  "575",
                  "AFG",
                  "2024-04-30 00:00:00",
                  "2024",
                  "4",
                  "GRC",
                  "EMR",
                  "724",
                  "Hellenic Coast Guard, Greek Ministry of Interior"
                ],
                [
                  "582",
                  "IRN",
                  "2024-04-30 00:00:00",
                  "2024",
                  "4",
                  "GRC",
                  "EMR",
                  "32",
                  "Hellenic Coast Guard, Greek Ministry of Interior"
                ],
                [
                  "595",
                  "SYR",
                  "2024-04-30 00:00:00",
                  "2024",
                  "4",
                  "GRC",
                  "EMR",
                  "632",
                  "Hellenic Coast Guard, Greek Ministry of Interior"
                ],
                [
                  "600",
                  "AFG",
                  "2024-05-31 00:00:00",
                  "2024",
                  "5",
                  "GRC",
                  "EMR",
                  "733",
                  "Hellenic Coast Guard, Greek Ministry of Interior"
                ],
                [
                  "613",
                  "IRN",
                  "2024-05-31 00:00:00",
                  "2024",
                  "5",
                  "GRC",
                  "EMR",
                  "36",
                  "Hellenic Coast Guard, Greek Ministry of Interior"
                ],
                [
                  "628",
                  "SYR",
                  "2024-05-31 00:00:00",
                  "2024",
                  "5",
                  "GRC",
                  "EMR",
                  "1720",
                  "Hellenic Coast Guard, Greek Ministry of Interior"
                ]
              ],
              "shape": {
                "columns": 8,
                "rows": 152
              }
            },
            "text/html": [
              "<div>\n",
              "<style scoped>\n",
              "    .dataframe tbody tr th:only-of-type {\n",
              "        vertical-align: middle;\n",
              "    }\n",
              "\n",
              "    .dataframe tbody tr th {\n",
              "        vertical-align: top;\n",
              "    }\n",
              "\n",
              "    .dataframe thead th {\n",
              "        text-align: right;\n",
              "    }\n",
              "</style>\n",
              "<table border=\"1\" class=\"dataframe\">\n",
              "  <thead>\n",
              "    <tr style=\"text-align: right;\">\n",
              "      <th></th>\n",
              "      <th>ISO3 - Country of origin</th>\n",
              "      <th>Date</th>\n",
              "      <th>Year</th>\n",
              "      <th>Month</th>\n",
              "      <th>ISO3 - Country of arrival</th>\n",
              "      <th>Route</th>\n",
              "      <th>Arrivals</th>\n",
              "      <th>Source</th>\n",
              "    </tr>\n",
              "  </thead>\n",
              "  <tbody>\n",
              "    <tr>\n",
              "      <th>4</th>\n",
              "      <td>SYR</td>\n",
              "      <td>2024-01-31</td>\n",
              "      <td>2024</td>\n",
              "      <td>1</td>\n",
              "      <td>MLT</td>\n",
              "      <td>CMR</td>\n",
              "      <td>4</td>\n",
              "      <td>Maltese Minitry of Home Affairs, Security and ...</td>\n",
              "    </tr>\n",
              "    <tr>\n",
              "      <th>10</th>\n",
              "      <td>SYR</td>\n",
              "      <td>2024-02-29</td>\n",
              "      <td>2024</td>\n",
              "      <td>2</td>\n",
              "      <td>MLT</td>\n",
              "      <td>CMR</td>\n",
              "      <td>11</td>\n",
              "      <td>Maltese Minitry of Home Affairs, Security and ...</td>\n",
              "    </tr>\n",
              "    <tr>\n",
              "      <th>11</th>\n",
              "      <td>SYR</td>\n",
              "      <td>2024-03-31</td>\n",
              "      <td>2024</td>\n",
              "      <td>3</td>\n",
              "      <td>MLT</td>\n",
              "      <td>CMR</td>\n",
              "      <td>1</td>\n",
              "      <td>Maltese Minitry of Home Affairs, Security and ...</td>\n",
              "    </tr>\n",
              "    <tr>\n",
              "      <th>14</th>\n",
              "      <td>SYR</td>\n",
              "      <td>2024-07-31</td>\n",
              "      <td>2024</td>\n",
              "      <td>7</td>\n",
              "      <td>MLT</td>\n",
              "      <td>CMR</td>\n",
              "      <td>25</td>\n",
              "      <td>Maltese Minitry of Home Affairs, Security and ...</td>\n",
              "    </tr>\n",
              "    <tr>\n",
              "      <th>15</th>\n",
              "      <td>SYR</td>\n",
              "      <td>2024-08-31</td>\n",
              "      <td>2024</td>\n",
              "      <td>8</td>\n",
              "      <td>MLT</td>\n",
              "      <td>CMR</td>\n",
              "      <td>1</td>\n",
              "      <td>Maltese Minitry of Home Affairs, Security and ...</td>\n",
              "    </tr>\n",
              "    <tr>\n",
              "      <th>...</th>\n",
              "      <td>...</td>\n",
              "      <td>...</td>\n",
              "      <td>...</td>\n",
              "      <td>...</td>\n",
              "      <td>...</td>\n",
              "      <td>...</td>\n",
              "      <td>...</td>\n",
              "      <td>...</td>\n",
              "    </tr>\n",
              "    <tr>\n",
              "      <th>1676</th>\n",
              "      <td>SYR</td>\n",
              "      <td>2024-10-31</td>\n",
              "      <td>2024</td>\n",
              "      <td>10</td>\n",
              "      <td>BGR</td>\n",
              "      <td>EMR</td>\n",
              "      <td>365</td>\n",
              "      <td>Bulgarian Ministry of Interior</td>\n",
              "    </tr>\n",
              "    <tr>\n",
              "      <th>1677</th>\n",
              "      <td>AFG</td>\n",
              "      <td>2024-11-30</td>\n",
              "      <td>2024</td>\n",
              "      <td>11</td>\n",
              "      <td>BGR</td>\n",
              "      <td>EMR</td>\n",
              "      <td>45</td>\n",
              "      <td>Bulgarian Ministry of Interior</td>\n",
              "    </tr>\n",
              "    <tr>\n",
              "      <th>1682</th>\n",
              "      <td>SYR</td>\n",
              "      <td>2024-11-30</td>\n",
              "      <td>2024</td>\n",
              "      <td>11</td>\n",
              "      <td>BGR</td>\n",
              "      <td>EMR</td>\n",
              "      <td>263</td>\n",
              "      <td>Bulgarian Ministry of Interior</td>\n",
              "    </tr>\n",
              "    <tr>\n",
              "      <th>1683</th>\n",
              "      <td>AFG</td>\n",
              "      <td>2024-12-31</td>\n",
              "      <td>2024</td>\n",
              "      <td>12</td>\n",
              "      <td>BGR</td>\n",
              "      <td>EMR</td>\n",
              "      <td>68</td>\n",
              "      <td>Bulgarian Ministry of Interior</td>\n",
              "    </tr>\n",
              "    <tr>\n",
              "      <th>1688</th>\n",
              "      <td>SYR</td>\n",
              "      <td>2024-12-31</td>\n",
              "      <td>2024</td>\n",
              "      <td>12</td>\n",
              "      <td>BGR</td>\n",
              "      <td>EMR</td>\n",
              "      <td>61</td>\n",
              "      <td>Bulgarian Ministry of Interior</td>\n",
              "    </tr>\n",
              "  </tbody>\n",
              "</table>\n",
              "<p>152 rows × 8 columns</p>\n",
              "</div>"
            ],
            "text/plain": [
              "     ISO3 - Country of origin       Date  Year  Month  \\\n",
              "4                         SYR 2024-01-31  2024      1   \n",
              "10                        SYR 2024-02-29  2024      2   \n",
              "11                        SYR 2024-03-31  2024      3   \n",
              "14                        SYR 2024-07-31  2024      7   \n",
              "15                        SYR 2024-08-31  2024      8   \n",
              "...                       ...        ...   ...    ...   \n",
              "1676                      SYR 2024-10-31  2024     10   \n",
              "1677                      AFG 2024-11-30  2024     11   \n",
              "1682                      SYR 2024-11-30  2024     11   \n",
              "1683                      AFG 2024-12-31  2024     12   \n",
              "1688                      SYR 2024-12-31  2024     12   \n",
              "\n",
              "     ISO3 - Country of arrival Route  Arrivals  \\\n",
              "4                          MLT   CMR         4   \n",
              "10                         MLT   CMR        11   \n",
              "11                         MLT   CMR         1   \n",
              "14                         MLT   CMR        25   \n",
              "15                         MLT   CMR         1   \n",
              "...                        ...   ...       ...   \n",
              "1676                       BGR   EMR       365   \n",
              "1677                       BGR   EMR        45   \n",
              "1682                       BGR   EMR       263   \n",
              "1683                       BGR   EMR        68   \n",
              "1688                       BGR   EMR        61   \n",
              "\n",
              "                                                 Source  \n",
              "4     Maltese Minitry of Home Affairs, Security and ...  \n",
              "10    Maltese Minitry of Home Affairs, Security and ...  \n",
              "11    Maltese Minitry of Home Affairs, Security and ...  \n",
              "14    Maltese Minitry of Home Affairs, Security and ...  \n",
              "15    Maltese Minitry of Home Affairs, Security and ...  \n",
              "...                                                 ...  \n",
              "1676                     Bulgarian Ministry of Interior  \n",
              "1677                     Bulgarian Ministry of Interior  \n",
              "1682                     Bulgarian Ministry of Interior  \n",
              "1683                     Bulgarian Ministry of Interior  \n",
              "1688                     Bulgarian Ministry of Interior  \n",
              "\n",
              "[152 rows x 8 columns]"
            ]
          },
          "execution_count": 48,
          "metadata": {},
          "output_type": "execute_result"
        }
      ],
      "source": [
        "# Filtar con isin para múltiples valores\n",
        "df_multiple = df_excel[df_excel['ISO3 - Country of origin'].isin(['SYR', 'AFG', 'IRN'])]\n",
        "df_multiple"
      ]
    },
    {
      "cell_type": "code",
      "execution_count": 50,
      "metadata": {},
      "outputs": [
        {
          "data": {
            "application/vnd.microsoft.datawrangler.viewer.v0+json": {
              "columns": [
                {
                  "name": "index",
                  "rawType": "int64",
                  "type": "integer"
                },
                {
                  "name": "ISO3 - Country of origin",
                  "rawType": "object",
                  "type": "string"
                },
                {
                  "name": "Date",
                  "rawType": "datetime64[ns]",
                  "type": "datetime"
                },
                {
                  "name": "Year",
                  "rawType": "int64",
                  "type": "integer"
                },
                {
                  "name": "Month",
                  "rawType": "int64",
                  "type": "integer"
                },
                {
                  "name": "ISO3 - Country of arrival",
                  "rawType": "object",
                  "type": "string"
                },
                {
                  "name": "Route",
                  "rawType": "object",
                  "type": "string"
                },
                {
                  "name": "Arrivals",
                  "rawType": "int64",
                  "type": "integer"
                },
                {
                  "name": "Source",
                  "rawType": "object",
                  "type": "string"
                }
              ],
              "ref": "60969d4c-2363-47df-be48-a964b42967b2",
              "rows": [
                [
                  "52",
                  "SYR",
                  "2024-01-31 00:00:00",
                  "2024",
                  "1",
                  "ITA",
                  "CMR",
                  "411",
                  "Italian Ministry of the Interior"
                ],
                [
                  "81",
                  "SYR",
                  "2024-02-29 00:00:00",
                  "2024",
                  "2",
                  "ITA",
                  "CMR",
                  "353",
                  "Italian Ministry of the Interior"
                ],
                [
                  "85",
                  "AFG",
                  "2024-03-31 00:00:00",
                  "2024",
                  "3",
                  "ITA",
                  "CMR",
                  "9",
                  "Italian Ministry of the Interior"
                ],
                [
                  "119",
                  "SYR",
                  "2024-03-31 00:00:00",
                  "2024",
                  "3",
                  "ITA",
                  "CMR",
                  "1320",
                  "Italian Ministry of the Interior"
                ],
                [
                  "156",
                  "SYR",
                  "2024-04-30 00:00:00",
                  "2024",
                  "4",
                  "ITA",
                  "CMR",
                  "376",
                  "Italian Ministry of the Interior"
                ],
                [
                  "161",
                  "AFG",
                  "2024-05-31 00:00:00",
                  "2024",
                  "5",
                  "ITA",
                  "CMR",
                  "86",
                  "Italian Ministry of the Interior"
                ],
                [
                  "179",
                  "IRN",
                  "2024-05-31 00:00:00",
                  "2024",
                  "5",
                  "ITA",
                  "CMR",
                  "106",
                  "Italian Ministry of the Interior"
                ],
                [
                  "197",
                  "SYR",
                  "2024-05-31 00:00:00",
                  "2024",
                  "5",
                  "ITA",
                  "CMR",
                  "660",
                  "Italian Ministry of the Interior"
                ],
                [
                  "204",
                  "AFG",
                  "2024-06-30 00:00:00",
                  "2024",
                  "6",
                  "ITA",
                  "CMR",
                  "145",
                  "Italian Ministry of the Interior"
                ],
                [
                  "218",
                  "IRN",
                  "2024-06-30 00:00:00",
                  "2024",
                  "6",
                  "ITA",
                  "CMR",
                  "176",
                  "Italian Ministry of the Interior"
                ],
                [
                  "236",
                  "SYR",
                  "2024-06-30 00:00:00",
                  "2024",
                  "6",
                  "ITA",
                  "CMR",
                  "715",
                  "Italian Ministry of the Interior"
                ],
                [
                  "242",
                  "AFG",
                  "2024-07-31 00:00:00",
                  "2024",
                  "7",
                  "ITA",
                  "CMR",
                  "20",
                  "Italian Ministry of the Interior"
                ],
                [
                  "257",
                  "IRN",
                  "2024-07-31 00:00:00",
                  "2024",
                  "7",
                  "ITA",
                  "CMR",
                  "245",
                  "Italian Ministry of the Interior"
                ],
                [
                  "274",
                  "SYR",
                  "2024-07-31 00:00:00",
                  "2024",
                  "7",
                  "ITA",
                  "CMR",
                  "1619",
                  "Italian Ministry of the Interior"
                ],
                [
                  "282",
                  "AFG",
                  "2024-08-31 00:00:00",
                  "2024",
                  "8",
                  "ITA",
                  "CMR",
                  "190",
                  "Italian Ministry of the Interior"
                ],
                [
                  "298",
                  "IRN",
                  "2024-08-31 00:00:00",
                  "2024",
                  "8",
                  "ITA",
                  "CMR",
                  "230",
                  "Italian Ministry of the Interior"
                ],
                [
                  "318",
                  "SYR",
                  "2024-08-31 00:00:00",
                  "2024",
                  "8",
                  "ITA",
                  "CMR",
                  "1856",
                  "Italian Ministry of the Interior"
                ],
                [
                  "326",
                  "AFG",
                  "2024-09-30 00:00:00",
                  "2024",
                  "9",
                  "ITA",
                  "CMR",
                  "228",
                  "Italian Ministry of the Interior"
                ],
                [
                  "341",
                  "IRN",
                  "2024-09-30 00:00:00",
                  "2024",
                  "9",
                  "ITA",
                  "CMR",
                  "263",
                  "Italian Ministry of the Interior"
                ],
                [
                  "360",
                  "SYR",
                  "2024-09-30 00:00:00",
                  "2024",
                  "9",
                  "ITA",
                  "CMR",
                  "2076",
                  "Italian Ministry of the Interior"
                ],
                [
                  "365",
                  "AFG",
                  "2024-10-31 00:00:00",
                  "2024",
                  "10",
                  "ITA",
                  "CMR",
                  "210",
                  "Italian Ministry of the Interior"
                ],
                [
                  "381",
                  "IRN",
                  "2024-10-31 00:00:00",
                  "2024",
                  "10",
                  "ITA",
                  "CMR",
                  "125",
                  "Italian Ministry of the Interior"
                ],
                [
                  "398",
                  "SYR",
                  "2024-10-31 00:00:00",
                  "2024",
                  "10",
                  "ITA",
                  "CMR",
                  "1173",
                  "Italian Ministry of the Interior"
                ],
                [
                  "405",
                  "AFG",
                  "2024-11-30 00:00:00",
                  "2024",
                  "11",
                  "ITA",
                  "CMR",
                  "176",
                  "Italian Ministry of the Interior"
                ],
                [
                  "422",
                  "IRN",
                  "2024-11-30 00:00:00",
                  "2024",
                  "11",
                  "ITA",
                  "CMR",
                  "61",
                  "Italian Ministry of the Interior"
                ],
                [
                  "440",
                  "SYR",
                  "2024-11-30 00:00:00",
                  "2024",
                  "11",
                  "ITA",
                  "CMR",
                  "1515",
                  "Italian Ministry of the Interior"
                ],
                [
                  "447",
                  "AFG",
                  "2024-12-31 00:00:00",
                  "2024",
                  "12",
                  "ITA",
                  "CMR",
                  "92",
                  "Italian Ministry of the Interior"
                ],
                [
                  "460",
                  "IRN",
                  "2024-12-31 00:00:00",
                  "2024",
                  "12",
                  "ITA",
                  "CMR",
                  "35",
                  "Italian Ministry of the Interior"
                ],
                [
                  "475",
                  "SYR",
                  "2024-12-31 00:00:00",
                  "2024",
                  "12",
                  "ITA",
                  "CMR",
                  "476",
                  "Italian Ministry of the Interior"
                ],
                [
                  "479",
                  "AFG",
                  "2024-01-31 00:00:00",
                  "2024",
                  "1",
                  "GRC",
                  "EMR",
                  "1367",
                  "Hellenic Coast Guard, Greek Ministry of Interior"
                ],
                [
                  "494",
                  "IRN",
                  "2024-01-31 00:00:00",
                  "2024",
                  "1",
                  "GRC",
                  "EMR",
                  "22",
                  "Hellenic Coast Guard, Greek Ministry of Interior"
                ],
                [
                  "508",
                  "SYR",
                  "2024-01-31 00:00:00",
                  "2024",
                  "1",
                  "GRC",
                  "EMR",
                  "510",
                  "Hellenic Coast Guard, Greek Ministry of Interior"
                ],
                [
                  "513",
                  "AFG",
                  "2024-02-29 00:00:00",
                  "2024",
                  "2",
                  "GRC",
                  "EMR",
                  "2178",
                  "Hellenic Coast Guard, Greek Ministry of Interior"
                ],
                [
                  "525",
                  "IRN",
                  "2024-02-29 00:00:00",
                  "2024",
                  "2",
                  "GRC",
                  "EMR",
                  "24",
                  "Hellenic Coast Guard, Greek Ministry of Interior"
                ],
                [
                  "540",
                  "SYR",
                  "2024-02-29 00:00:00",
                  "2024",
                  "2",
                  "GRC",
                  "EMR",
                  "645",
                  "Hellenic Coast Guard, Greek Ministry of Interior"
                ],
                [
                  "544",
                  "AFG",
                  "2024-03-31 00:00:00",
                  "2024",
                  "3",
                  "GRC",
                  "EMR",
                  "612",
                  "Hellenic Coast Guard, Greek Ministry of Interior"
                ],
                [
                  "557",
                  "IRN",
                  "2024-03-31 00:00:00",
                  "2024",
                  "3",
                  "GRC",
                  "EMR",
                  "64",
                  "Hellenic Coast Guard, Greek Ministry of Interior"
                ],
                [
                  "569",
                  "SYR",
                  "2024-03-31 00:00:00",
                  "2024",
                  "3",
                  "GRC",
                  "EMR",
                  "696",
                  "Hellenic Coast Guard, Greek Ministry of Interior"
                ],
                [
                  "575",
                  "AFG",
                  "2024-04-30 00:00:00",
                  "2024",
                  "4",
                  "GRC",
                  "EMR",
                  "724",
                  "Hellenic Coast Guard, Greek Ministry of Interior"
                ],
                [
                  "582",
                  "IRN",
                  "2024-04-30 00:00:00",
                  "2024",
                  "4",
                  "GRC",
                  "EMR",
                  "32",
                  "Hellenic Coast Guard, Greek Ministry of Interior"
                ],
                [
                  "595",
                  "SYR",
                  "2024-04-30 00:00:00",
                  "2024",
                  "4",
                  "GRC",
                  "EMR",
                  "632",
                  "Hellenic Coast Guard, Greek Ministry of Interior"
                ],
                [
                  "600",
                  "AFG",
                  "2024-05-31 00:00:00",
                  "2024",
                  "5",
                  "GRC",
                  "EMR",
                  "733",
                  "Hellenic Coast Guard, Greek Ministry of Interior"
                ],
                [
                  "613",
                  "IRN",
                  "2024-05-31 00:00:00",
                  "2024",
                  "5",
                  "GRC",
                  "EMR",
                  "36",
                  "Hellenic Coast Guard, Greek Ministry of Interior"
                ],
                [
                  "628",
                  "SYR",
                  "2024-05-31 00:00:00",
                  "2024",
                  "5",
                  "GRC",
                  "EMR",
                  "1720",
                  "Hellenic Coast Guard, Greek Ministry of Interior"
                ],
                [
                  "633",
                  "AFG",
                  "2024-06-30 00:00:00",
                  "2024",
                  "6",
                  "GRC",
                  "EMR",
                  "589",
                  "Hellenic Coast Guard, Greek Ministry of Interior"
                ],
                [
                  "644",
                  "IRN",
                  "2024-06-30 00:00:00",
                  "2024",
                  "6",
                  "GRC",
                  "EMR",
                  "16",
                  "Hellenic Coast Guard, Greek Ministry of Interior"
                ],
                [
                  "658",
                  "SYR",
                  "2024-06-30 00:00:00",
                  "2024",
                  "6",
                  "GRC",
                  "EMR",
                  "1287",
                  "Hellenic Coast Guard, Greek Ministry of Interior"
                ],
                [
                  "661",
                  "AFG",
                  "2024-07-31 00:00:00",
                  "2024",
                  "7",
                  "GRC",
                  "EMR",
                  "478",
                  "Hellenic Coast Guard, Greek Ministry of Interior"
                ],
                [
                  "678",
                  "IRN",
                  "2024-07-31 00:00:00",
                  "2024",
                  "7",
                  "GRC",
                  "EMR",
                  "52",
                  "Hellenic Coast Guard, Greek Ministry of Interior"
                ],
                [
                  "693",
                  "SYR",
                  "2024-07-31 00:00:00",
                  "2024",
                  "7",
                  "GRC",
                  "EMR",
                  "2522",
                  "Hellenic Coast Guard, Greek Ministry of Interior"
                ]
              ],
              "shape": {
                "columns": 8,
                "rows": 65
              }
            },
            "text/html": [
              "<div>\n",
              "<style scoped>\n",
              "    .dataframe tbody tr th:only-of-type {\n",
              "        vertical-align: middle;\n",
              "    }\n",
              "\n",
              "    .dataframe tbody tr th {\n",
              "        vertical-align: top;\n",
              "    }\n",
              "\n",
              "    .dataframe thead th {\n",
              "        text-align: right;\n",
              "    }\n",
              "</style>\n",
              "<table border=\"1\" class=\"dataframe\">\n",
              "  <thead>\n",
              "    <tr style=\"text-align: right;\">\n",
              "      <th></th>\n",
              "      <th>ISO3 - Country of origin</th>\n",
              "      <th>Date</th>\n",
              "      <th>Year</th>\n",
              "      <th>Month</th>\n",
              "      <th>ISO3 - Country of arrival</th>\n",
              "      <th>Route</th>\n",
              "      <th>Arrivals</th>\n",
              "      <th>Source</th>\n",
              "    </tr>\n",
              "  </thead>\n",
              "  <tbody>\n",
              "    <tr>\n",
              "      <th>52</th>\n",
              "      <td>SYR</td>\n",
              "      <td>2024-01-31</td>\n",
              "      <td>2024</td>\n",
              "      <td>1</td>\n",
              "      <td>ITA</td>\n",
              "      <td>CMR</td>\n",
              "      <td>411</td>\n",
              "      <td>Italian Ministry of the Interior</td>\n",
              "    </tr>\n",
              "    <tr>\n",
              "      <th>81</th>\n",
              "      <td>SYR</td>\n",
              "      <td>2024-02-29</td>\n",
              "      <td>2024</td>\n",
              "      <td>2</td>\n",
              "      <td>ITA</td>\n",
              "      <td>CMR</td>\n",
              "      <td>353</td>\n",
              "      <td>Italian Ministry of the Interior</td>\n",
              "    </tr>\n",
              "    <tr>\n",
              "      <th>85</th>\n",
              "      <td>AFG</td>\n",
              "      <td>2024-03-31</td>\n",
              "      <td>2024</td>\n",
              "      <td>3</td>\n",
              "      <td>ITA</td>\n",
              "      <td>CMR</td>\n",
              "      <td>9</td>\n",
              "      <td>Italian Ministry of the Interior</td>\n",
              "    </tr>\n",
              "    <tr>\n",
              "      <th>119</th>\n",
              "      <td>SYR</td>\n",
              "      <td>2024-03-31</td>\n",
              "      <td>2024</td>\n",
              "      <td>3</td>\n",
              "      <td>ITA</td>\n",
              "      <td>CMR</td>\n",
              "      <td>1320</td>\n",
              "      <td>Italian Ministry of the Interior</td>\n",
              "    </tr>\n",
              "    <tr>\n",
              "      <th>156</th>\n",
              "      <td>SYR</td>\n",
              "      <td>2024-04-30</td>\n",
              "      <td>2024</td>\n",
              "      <td>4</td>\n",
              "      <td>ITA</td>\n",
              "      <td>CMR</td>\n",
              "      <td>376</td>\n",
              "      <td>Italian Ministry of the Interior</td>\n",
              "    </tr>\n",
              "    <tr>\n",
              "      <th>...</th>\n",
              "      <td>...</td>\n",
              "      <td>...</td>\n",
              "      <td>...</td>\n",
              "      <td>...</td>\n",
              "      <td>...</td>\n",
              "      <td>...</td>\n",
              "      <td>...</td>\n",
              "      <td>...</td>\n",
              "    </tr>\n",
              "    <tr>\n",
              "      <th>821</th>\n",
              "      <td>IRN</td>\n",
              "      <td>2024-11-30</td>\n",
              "      <td>2024</td>\n",
              "      <td>11</td>\n",
              "      <td>GRC</td>\n",
              "      <td>EMR</td>\n",
              "      <td>59</td>\n",
              "      <td>Hellenic Coast Guard, Greek Ministry of Interior</td>\n",
              "    </tr>\n",
              "    <tr>\n",
              "      <th>839</th>\n",
              "      <td>SYR</td>\n",
              "      <td>2024-11-30</td>\n",
              "      <td>2024</td>\n",
              "      <td>11</td>\n",
              "      <td>GRC</td>\n",
              "      <td>EMR</td>\n",
              "      <td>2201</td>\n",
              "      <td>Hellenic Coast Guard, Greek Ministry of Interior</td>\n",
              "    </tr>\n",
              "    <tr>\n",
              "      <th>845</th>\n",
              "      <td>AFG</td>\n",
              "      <td>2024-12-31</td>\n",
              "      <td>2024</td>\n",
              "      <td>12</td>\n",
              "      <td>GRC</td>\n",
              "      <td>EMR</td>\n",
              "      <td>2340</td>\n",
              "      <td>Hellenic Coast Guard, Greek Ministry of Interior</td>\n",
              "    </tr>\n",
              "    <tr>\n",
              "      <th>859</th>\n",
              "      <td>IRN</td>\n",
              "      <td>2024-12-31</td>\n",
              "      <td>2024</td>\n",
              "      <td>12</td>\n",
              "      <td>GRC</td>\n",
              "      <td>EMR</td>\n",
              "      <td>23</td>\n",
              "      <td>Hellenic Coast Guard, Greek Ministry of Interior</td>\n",
              "    </tr>\n",
              "    <tr>\n",
              "      <th>876</th>\n",
              "      <td>SYR</td>\n",
              "      <td>2024-12-31</td>\n",
              "      <td>2024</td>\n",
              "      <td>12</td>\n",
              "      <td>GRC</td>\n",
              "      <td>EMR</td>\n",
              "      <td>604</td>\n",
              "      <td>Hellenic Coast Guard, Greek Ministry of Interior</td>\n",
              "    </tr>\n",
              "  </tbody>\n",
              "</table>\n",
              "<p>65 rows × 8 columns</p>\n",
              "</div>"
            ],
            "text/plain": [
              "    ISO3 - Country of origin       Date  Year  Month  \\\n",
              "52                       SYR 2024-01-31  2024      1   \n",
              "81                       SYR 2024-02-29  2024      2   \n",
              "85                       AFG 2024-03-31  2024      3   \n",
              "119                      SYR 2024-03-31  2024      3   \n",
              "156                      SYR 2024-04-30  2024      4   \n",
              "..                       ...        ...   ...    ...   \n",
              "821                      IRN 2024-11-30  2024     11   \n",
              "839                      SYR 2024-11-30  2024     11   \n",
              "845                      AFG 2024-12-31  2024     12   \n",
              "859                      IRN 2024-12-31  2024     12   \n",
              "876                      SYR 2024-12-31  2024     12   \n",
              "\n",
              "    ISO3 - Country of arrival Route  Arrivals  \\\n",
              "52                        ITA   CMR       411   \n",
              "81                        ITA   CMR       353   \n",
              "85                        ITA   CMR         9   \n",
              "119                       ITA   CMR      1320   \n",
              "156                       ITA   CMR       376   \n",
              "..                        ...   ...       ...   \n",
              "821                       GRC   EMR        59   \n",
              "839                       GRC   EMR      2201   \n",
              "845                       GRC   EMR      2340   \n",
              "859                       GRC   EMR        23   \n",
              "876                       GRC   EMR       604   \n",
              "\n",
              "                                               Source  \n",
              "52                   Italian Ministry of the Interior  \n",
              "81                   Italian Ministry of the Interior  \n",
              "85                   Italian Ministry of the Interior  \n",
              "119                  Italian Ministry of the Interior  \n",
              "156                  Italian Ministry of the Interior  \n",
              "..                                                ...  \n",
              "821  Hellenic Coast Guard, Greek Ministry of Interior  \n",
              "839  Hellenic Coast Guard, Greek Ministry of Interior  \n",
              "845  Hellenic Coast Guard, Greek Ministry of Interior  \n",
              "859  Hellenic Coast Guard, Greek Ministry of Interior  \n",
              "876  Hellenic Coast Guard, Greek Ministry of Interior  \n",
              "\n",
              "[65 rows x 8 columns]"
            ]
          },
          "execution_count": 50,
          "metadata": {},
          "output_type": "execute_result"
        }
      ],
      "source": [
        "# Filtar con isin para múltiples valores de varias columnas\n",
        "df_multiple_varias = df_excel[\n",
        "    df_excel['ISO3 - Country of origin'].isin(['SYR', 'AFG', 'IRN']) &\n",
        "    df_excel['ISO3 - Country of arrival'].isin(['GRC', 'ITA'])\n",
        "]\n",
        "df_multiple_varias"
      ]
    },
    {
      "cell_type": "code",
      "execution_count": 51,
      "metadata": {},
      "outputs": [],
      "source": [
        "#Filtrar datos donde el mes de la columna 'Date' es enero (1)\n",
        "df_enero = df_excel[df_excel['Date'].dt.month == 1]\n"
      ]
    },
    {
      "cell_type": "code",
      "execution_count": 52,
      "metadata": {},
      "outputs": [
        {
          "data": {
            "application/vnd.microsoft.datawrangler.viewer.v0+json": {
              "columns": [
                {
                  "name": "index",
                  "rawType": "int64",
                  "type": "integer"
                },
                {
                  "name": "ISO3 - Country of origin",
                  "rawType": "object",
                  "type": "string"
                },
                {
                  "name": "Date",
                  "rawType": "datetime64[ns]",
                  "type": "datetime"
                },
                {
                  "name": "Year",
                  "rawType": "int64",
                  "type": "integer"
                },
                {
                  "name": "Month",
                  "rawType": "int64",
                  "type": "integer"
                },
                {
                  "name": "ISO3 - Country of arrival",
                  "rawType": "object",
                  "type": "string"
                },
                {
                  "name": "Route",
                  "rawType": "object",
                  "type": "string"
                },
                {
                  "name": "Arrivals",
                  "rawType": "int64",
                  "type": "integer"
                },
                {
                  "name": "Source",
                  "rawType": "object",
                  "type": "string"
                }
              ],
              "ref": "daf978bb-ef0d-42c3-ab8f-cedfcae83451",
              "rows": [
                [
                  "0",
                  "BGD",
                  "2024-01-31 00:00:00",
                  "2024",
                  "1",
                  "MLT",
                  "CMR",
                  "7",
                  "Maltese Minitry of Home Affairs, Security and Employment"
                ],
                [
                  "1",
                  "EGY",
                  "2024-01-31 00:00:00",
                  "2024",
                  "1",
                  "MLT",
                  "CMR",
                  "1",
                  "Maltese Minitry of Home Affairs, Security and Employment"
                ],
                [
                  "2",
                  "PAK",
                  "2024-01-31 00:00:00",
                  "2024",
                  "1",
                  "MLT",
                  "CMR",
                  "22",
                  "Maltese Minitry of Home Affairs, Security and Employment"
                ],
                [
                  "3",
                  "SDN",
                  "2024-01-31 00:00:00",
                  "2024",
                  "1",
                  "MLT",
                  "CMR",
                  "1",
                  "Maltese Minitry of Home Affairs, Security and Employment"
                ],
                [
                  "4",
                  "SYR",
                  "2024-01-31 00:00:00",
                  "2024",
                  "1",
                  "MLT",
                  "CMR",
                  "4",
                  "Maltese Minitry of Home Affairs, Security and Employment"
                ],
                [
                  "26",
                  "BEN",
                  "2024-01-31 00:00:00",
                  "2024",
                  "1",
                  "ITA",
                  "CMR",
                  "1",
                  "Italian Ministry of the Interior"
                ],
                [
                  "27",
                  "BFA",
                  "2024-01-31 00:00:00",
                  "2024",
                  "1",
                  "ITA",
                  "CMR",
                  "6",
                  "Italian Ministry of the Interior"
                ],
                [
                  "28",
                  "BGD",
                  "2024-01-31 00:00:00",
                  "2024",
                  "1",
                  "ITA",
                  "CMR",
                  "585",
                  "Italian Ministry of the Interior"
                ],
                [
                  "29",
                  "CAF",
                  "2024-01-31 00:00:00",
                  "2024",
                  "1",
                  "ITA",
                  "CMR",
                  "1",
                  "Italian Ministry of the Interior"
                ],
                [
                  "30",
                  "CIV",
                  "2024-01-31 00:00:00",
                  "2024",
                  "1",
                  "ITA",
                  "CMR",
                  "11",
                  "Italian Ministry of the Interior"
                ],
                [
                  "31",
                  "CMR",
                  "2024-01-31 00:00:00",
                  "2024",
                  "1",
                  "ITA",
                  "CMR",
                  "3",
                  "Italian Ministry of the Interior"
                ],
                [
                  "32",
                  "DZA",
                  "2024-01-31 00:00:00",
                  "2024",
                  "1",
                  "ITA",
                  "CMR",
                  "1",
                  "Italian Ministry of the Interior"
                ],
                [
                  "33",
                  "EGY",
                  "2024-01-31 00:00:00",
                  "2024",
                  "1",
                  "ITA",
                  "CMR",
                  "198",
                  "Italian Ministry of the Interior"
                ],
                [
                  "34",
                  "ERI",
                  "2024-01-31 00:00:00",
                  "2024",
                  "1",
                  "ITA",
                  "CMR",
                  "37",
                  "Italian Ministry of the Interior"
                ],
                [
                  "35",
                  "ETH",
                  "2024-01-31 00:00:00",
                  "2024",
                  "1",
                  "ITA",
                  "CMR",
                  "46",
                  "Italian Ministry of the Interior"
                ],
                [
                  "36",
                  "GHA",
                  "2024-01-31 00:00:00",
                  "2024",
                  "1",
                  "ITA",
                  "CMR",
                  "3",
                  "Italian Ministry of the Interior"
                ],
                [
                  "37",
                  "GIN",
                  "2024-01-31 00:00:00",
                  "2024",
                  "1",
                  "ITA",
                  "CMR",
                  "59",
                  "Italian Ministry of the Interior"
                ],
                [
                  "38",
                  "GMB",
                  "2024-01-31 00:00:00",
                  "2024",
                  "1",
                  "ITA",
                  "CMR",
                  "58",
                  "Italian Ministry of the Interior"
                ],
                [
                  "39",
                  "IND",
                  "2024-01-31 00:00:00",
                  "2024",
                  "1",
                  "ITA",
                  "CMR",
                  "1",
                  "Italian Ministry of the Interior"
                ],
                [
                  "40",
                  "LBN",
                  "2024-01-31 00:00:00",
                  "2024",
                  "1",
                  "ITA",
                  "CMR",
                  "1",
                  "Italian Ministry of the Interior"
                ],
                [
                  "41",
                  "LBR",
                  "2024-01-31 00:00:00",
                  "2024",
                  "1",
                  "ITA",
                  "CMR",
                  "1",
                  "Italian Ministry of the Interior"
                ],
                [
                  "42",
                  "LBY",
                  "2024-01-31 00:00:00",
                  "2024",
                  "1",
                  "ITA",
                  "CMR",
                  "1",
                  "Italian Ministry of the Interior"
                ],
                [
                  "43",
                  "MAR",
                  "2024-01-31 00:00:00",
                  "2024",
                  "1",
                  "ITA",
                  "CMR",
                  "36",
                  "Italian Ministry of the Interior"
                ],
                [
                  "44",
                  "MLI",
                  "2024-01-31 00:00:00",
                  "2024",
                  "1",
                  "ITA",
                  "CMR",
                  "27",
                  "Italian Ministry of the Interior"
                ],
                [
                  "45",
                  "NGA",
                  "2024-01-31 00:00:00",
                  "2024",
                  "1",
                  "ITA",
                  "CMR",
                  "3",
                  "Italian Ministry of the Interior"
                ],
                [
                  "46",
                  "OOO",
                  "2024-01-31 00:00:00",
                  "2024",
                  "1",
                  "ITA",
                  "CMR",
                  "3",
                  "Italian Ministry of the Interior"
                ],
                [
                  "47",
                  "PAK",
                  "2024-01-31 00:00:00",
                  "2024",
                  "1",
                  "ITA",
                  "CMR",
                  "138",
                  "Italian Ministry of the Interior"
                ],
                [
                  "48",
                  "PSE",
                  "2024-01-31 00:00:00",
                  "2024",
                  "1",
                  "ITA",
                  "CMR",
                  "11",
                  "Italian Ministry of the Interior"
                ],
                [
                  "49",
                  "SDN",
                  "2024-01-31 00:00:00",
                  "2024",
                  "1",
                  "ITA",
                  "CMR",
                  "106",
                  "Italian Ministry of the Interior"
                ],
                [
                  "50",
                  "SEN",
                  "2024-01-31 00:00:00",
                  "2024",
                  "1",
                  "ITA",
                  "CMR",
                  "10",
                  "Italian Ministry of the Interior"
                ],
                [
                  "51",
                  "SSD",
                  "2024-01-31 00:00:00",
                  "2024",
                  "1",
                  "ITA",
                  "CMR",
                  "3",
                  "Italian Ministry of the Interior"
                ],
                [
                  "52",
                  "SYR",
                  "2024-01-31 00:00:00",
                  "2024",
                  "1",
                  "ITA",
                  "CMR",
                  "411",
                  "Italian Ministry of the Interior"
                ],
                [
                  "53",
                  "TCD",
                  "2024-01-31 00:00:00",
                  "2024",
                  "1",
                  "ITA",
                  "CMR",
                  "2",
                  "Italian Ministry of the Interior"
                ],
                [
                  "54",
                  "TGO",
                  "2024-01-31 00:00:00",
                  "2024",
                  "1",
                  "ITA",
                  "CMR",
                  "3",
                  "Italian Ministry of the Interior"
                ],
                [
                  "55",
                  "TUN",
                  "2024-01-31 00:00:00",
                  "2024",
                  "1",
                  "ITA",
                  "CMR",
                  "491",
                  "Italian Ministry of the Interior"
                ],
                [
                  "56",
                  "YEM",
                  "2024-01-31 00:00:00",
                  "2024",
                  "1",
                  "ITA",
                  "CMR",
                  "1",
                  "Italian Ministry of the Interior"
                ],
                [
                  "479",
                  "AFG",
                  "2024-01-31 00:00:00",
                  "2024",
                  "1",
                  "GRC",
                  "EMR",
                  "1367",
                  "Hellenic Coast Guard, Greek Ministry of Interior"
                ],
                [
                  "480",
                  "AGO",
                  "2024-01-31 00:00:00",
                  "2024",
                  "1",
                  "GRC",
                  "EMR",
                  "1",
                  "Hellenic Coast Guard, Greek Ministry of Interior"
                ],
                [
                  "481",
                  "BGD",
                  "2024-01-31 00:00:00",
                  "2024",
                  "1",
                  "GRC",
                  "EMR",
                  "59",
                  "Hellenic Coast Guard, Greek Ministry of Interior"
                ],
                [
                  "482",
                  "CMR",
                  "2024-01-31 00:00:00",
                  "2024",
                  "1",
                  "GRC",
                  "EMR",
                  "20",
                  "Hellenic Coast Guard, Greek Ministry of Interior"
                ],
                [
                  "483",
                  "COD",
                  "2024-01-31 00:00:00",
                  "2024",
                  "1",
                  "GRC",
                  "EMR",
                  "15",
                  "Hellenic Coast Guard, Greek Ministry of Interior"
                ],
                [
                  "484",
                  "COG",
                  "2024-01-31 00:00:00",
                  "2024",
                  "1",
                  "GRC",
                  "EMR",
                  "2",
                  "Hellenic Coast Guard, Greek Ministry of Interior"
                ],
                [
                  "485",
                  "DOM",
                  "2024-01-31 00:00:00",
                  "2024",
                  "1",
                  "GRC",
                  "EMR",
                  "1",
                  "Hellenic Coast Guard, Greek Ministry of Interior"
                ],
                [
                  "486",
                  "EGY",
                  "2024-01-31 00:00:00",
                  "2024",
                  "1",
                  "GRC",
                  "EMR",
                  "398",
                  "Hellenic Coast Guard, Greek Ministry of Interior"
                ],
                [
                  "487",
                  "ERI",
                  "2024-01-31 00:00:00",
                  "2024",
                  "1",
                  "GRC",
                  "EMR",
                  "319",
                  "Hellenic Coast Guard, Greek Ministry of Interior"
                ],
                [
                  "488",
                  "ETH",
                  "2024-01-31 00:00:00",
                  "2024",
                  "1",
                  "GRC",
                  "EMR",
                  "35",
                  "Hellenic Coast Guard, Greek Ministry of Interior"
                ],
                [
                  "489",
                  "GHA",
                  "2024-01-31 00:00:00",
                  "2024",
                  "1",
                  "GRC",
                  "EMR",
                  "4",
                  "Hellenic Coast Guard, Greek Ministry of Interior"
                ],
                [
                  "490",
                  "GIN",
                  "2024-01-31 00:00:00",
                  "2024",
                  "1",
                  "GRC",
                  "EMR",
                  "16",
                  "Hellenic Coast Guard, Greek Ministry of Interior"
                ],
                [
                  "491",
                  "GMB",
                  "2024-01-31 00:00:00",
                  "2024",
                  "1",
                  "GRC",
                  "EMR",
                  "2",
                  "Hellenic Coast Guard, Greek Ministry of Interior"
                ],
                [
                  "492",
                  "GNB",
                  "2024-01-31 00:00:00",
                  "2024",
                  "1",
                  "GRC",
                  "EMR",
                  "1",
                  "Hellenic Coast Guard, Greek Ministry of Interior"
                ]
              ],
              "shape": {
                "columns": 8,
                "rows": 139
              }
            },
            "text/html": [
              "<div>\n",
              "<style scoped>\n",
              "    .dataframe tbody tr th:only-of-type {\n",
              "        vertical-align: middle;\n",
              "    }\n",
              "\n",
              "    .dataframe tbody tr th {\n",
              "        vertical-align: top;\n",
              "    }\n",
              "\n",
              "    .dataframe thead th {\n",
              "        text-align: right;\n",
              "    }\n",
              "</style>\n",
              "<table border=\"1\" class=\"dataframe\">\n",
              "  <thead>\n",
              "    <tr style=\"text-align: right;\">\n",
              "      <th></th>\n",
              "      <th>ISO3 - Country of origin</th>\n",
              "      <th>Date</th>\n",
              "      <th>Year</th>\n",
              "      <th>Month</th>\n",
              "      <th>ISO3 - Country of arrival</th>\n",
              "      <th>Route</th>\n",
              "      <th>Arrivals</th>\n",
              "      <th>Source</th>\n",
              "    </tr>\n",
              "  </thead>\n",
              "  <tbody>\n",
              "    <tr>\n",
              "      <th>0</th>\n",
              "      <td>BGD</td>\n",
              "      <td>2024-01-31</td>\n",
              "      <td>2024</td>\n",
              "      <td>1</td>\n",
              "      <td>MLT</td>\n",
              "      <td>CMR</td>\n",
              "      <td>7</td>\n",
              "      <td>Maltese Minitry of Home Affairs, Security and ...</td>\n",
              "    </tr>\n",
              "    <tr>\n",
              "      <th>1</th>\n",
              "      <td>EGY</td>\n",
              "      <td>2024-01-31</td>\n",
              "      <td>2024</td>\n",
              "      <td>1</td>\n",
              "      <td>MLT</td>\n",
              "      <td>CMR</td>\n",
              "      <td>1</td>\n",
              "      <td>Maltese Minitry of Home Affairs, Security and ...</td>\n",
              "    </tr>\n",
              "    <tr>\n",
              "      <th>2</th>\n",
              "      <td>PAK</td>\n",
              "      <td>2024-01-31</td>\n",
              "      <td>2024</td>\n",
              "      <td>1</td>\n",
              "      <td>MLT</td>\n",
              "      <td>CMR</td>\n",
              "      <td>22</td>\n",
              "      <td>Maltese Minitry of Home Affairs, Security and ...</td>\n",
              "    </tr>\n",
              "    <tr>\n",
              "      <th>3</th>\n",
              "      <td>SDN</td>\n",
              "      <td>2024-01-31</td>\n",
              "      <td>2024</td>\n",
              "      <td>1</td>\n",
              "      <td>MLT</td>\n",
              "      <td>CMR</td>\n",
              "      <td>1</td>\n",
              "      <td>Maltese Minitry of Home Affairs, Security and ...</td>\n",
              "    </tr>\n",
              "    <tr>\n",
              "      <th>4</th>\n",
              "      <td>SYR</td>\n",
              "      <td>2024-01-31</td>\n",
              "      <td>2024</td>\n",
              "      <td>1</td>\n",
              "      <td>MLT</td>\n",
              "      <td>CMR</td>\n",
              "      <td>4</td>\n",
              "      <td>Maltese Minitry of Home Affairs, Security and ...</td>\n",
              "    </tr>\n",
              "    <tr>\n",
              "      <th>...</th>\n",
              "      <td>...</td>\n",
              "      <td>...</td>\n",
              "      <td>...</td>\n",
              "      <td>...</td>\n",
              "      <td>...</td>\n",
              "      <td>...</td>\n",
              "      <td>...</td>\n",
              "      <td>...</td>\n",
              "    </tr>\n",
              "    <tr>\n",
              "      <th>1609</th>\n",
              "      <td>MAR</td>\n",
              "      <td>2024-01-31</td>\n",
              "      <td>2024</td>\n",
              "      <td>1</td>\n",
              "      <td>BGR</td>\n",
              "      <td>EMR</td>\n",
              "      <td>15</td>\n",
              "      <td>Bulgarian Ministry of Interior</td>\n",
              "    </tr>\n",
              "    <tr>\n",
              "      <th>1610</th>\n",
              "      <td>OOO</td>\n",
              "      <td>2024-01-31</td>\n",
              "      <td>2024</td>\n",
              "      <td>1</td>\n",
              "      <td>BGR</td>\n",
              "      <td>EMR</td>\n",
              "      <td>85</td>\n",
              "      <td>Bulgarian Ministry of Interior</td>\n",
              "    </tr>\n",
              "    <tr>\n",
              "      <th>1611</th>\n",
              "      <td>PSE</td>\n",
              "      <td>2024-01-31</td>\n",
              "      <td>2024</td>\n",
              "      <td>1</td>\n",
              "      <td>BGR</td>\n",
              "      <td>EMR</td>\n",
              "      <td>5</td>\n",
              "      <td>Bulgarian Ministry of Interior</td>\n",
              "    </tr>\n",
              "    <tr>\n",
              "      <th>1612</th>\n",
              "      <td>SYR</td>\n",
              "      <td>2024-01-31</td>\n",
              "      <td>2024</td>\n",
              "      <td>1</td>\n",
              "      <td>BGR</td>\n",
              "      <td>EMR</td>\n",
              "      <td>138</td>\n",
              "      <td>Bulgarian Ministry of Interior</td>\n",
              "    </tr>\n",
              "    <tr>\n",
              "      <th>1613</th>\n",
              "      <td>TUR</td>\n",
              "      <td>2024-01-31</td>\n",
              "      <td>2024</td>\n",
              "      <td>1</td>\n",
              "      <td>BGR</td>\n",
              "      <td>EMR</td>\n",
              "      <td>3</td>\n",
              "      <td>Bulgarian Ministry of Interior</td>\n",
              "    </tr>\n",
              "  </tbody>\n",
              "</table>\n",
              "<p>139 rows × 8 columns</p>\n",
              "</div>"
            ],
            "text/plain": [
              "     ISO3 - Country of origin       Date  Year  Month  \\\n",
              "0                         BGD 2024-01-31  2024      1   \n",
              "1                         EGY 2024-01-31  2024      1   \n",
              "2                         PAK 2024-01-31  2024      1   \n",
              "3                         SDN 2024-01-31  2024      1   \n",
              "4                         SYR 2024-01-31  2024      1   \n",
              "...                       ...        ...   ...    ...   \n",
              "1609                      MAR 2024-01-31  2024      1   \n",
              "1610                      OOO 2024-01-31  2024      1   \n",
              "1611                      PSE 2024-01-31  2024      1   \n",
              "1612                      SYR 2024-01-31  2024      1   \n",
              "1613                      TUR 2024-01-31  2024      1   \n",
              "\n",
              "     ISO3 - Country of arrival Route  Arrivals  \\\n",
              "0                          MLT   CMR         7   \n",
              "1                          MLT   CMR         1   \n",
              "2                          MLT   CMR        22   \n",
              "3                          MLT   CMR         1   \n",
              "4                          MLT   CMR         4   \n",
              "...                        ...   ...       ...   \n",
              "1609                       BGR   EMR        15   \n",
              "1610                       BGR   EMR        85   \n",
              "1611                       BGR   EMR         5   \n",
              "1612                       BGR   EMR       138   \n",
              "1613                       BGR   EMR         3   \n",
              "\n",
              "                                                 Source  \n",
              "0     Maltese Minitry of Home Affairs, Security and ...  \n",
              "1     Maltese Minitry of Home Affairs, Security and ...  \n",
              "2     Maltese Minitry of Home Affairs, Security and ...  \n",
              "3     Maltese Minitry of Home Affairs, Security and ...  \n",
              "4     Maltese Minitry of Home Affairs, Security and ...  \n",
              "...                                                 ...  \n",
              "1609                     Bulgarian Ministry of Interior  \n",
              "1610                     Bulgarian Ministry of Interior  \n",
              "1611                     Bulgarian Ministry of Interior  \n",
              "1612                     Bulgarian Ministry of Interior  \n",
              "1613                     Bulgarian Ministry of Interior  \n",
              "\n",
              "[139 rows x 8 columns]"
            ]
          },
          "execution_count": 52,
          "metadata": {},
          "output_type": "execute_result"
        }
      ],
      "source": [
        "df_enero"
      ]
    },
    {
      "cell_type": "code",
      "execution_count": 53,
      "metadata": {},
      "outputs": [
        {
          "data": {
            "application/vnd.microsoft.datawrangler.viewer.v0+json": {
              "columns": [
                {
                  "name": "index",
                  "rawType": "int64",
                  "type": "integer"
                },
                {
                  "name": "ISO3 - Country of origin",
                  "rawType": "object",
                  "type": "string"
                },
                {
                  "name": "Date",
                  "rawType": "datetime64[ns]",
                  "type": "datetime"
                },
                {
                  "name": "Year",
                  "rawType": "int64",
                  "type": "integer"
                },
                {
                  "name": "Month",
                  "rawType": "int64",
                  "type": "integer"
                },
                {
                  "name": "ISO3 - Country of arrival",
                  "rawType": "object",
                  "type": "string"
                },
                {
                  "name": "Route",
                  "rawType": "object",
                  "type": "string"
                },
                {
                  "name": "Arrivals",
                  "rawType": "int64",
                  "type": "integer"
                },
                {
                  "name": "Source",
                  "rawType": "object",
                  "type": "string"
                }
              ],
              "ref": "e51e0be4-532a-4f87-8633-34fa7bdcc67c",
              "rows": [
                [
                  "88",
                  "BGD",
                  "2024-03-31 00:00:00",
                  "2024",
                  "3",
                  "ITA",
                  "CMR",
                  "1464",
                  "Italian Ministry of the Interior"
                ],
                [
                  "119",
                  "SYR",
                  "2024-03-31 00:00:00",
                  "2024",
                  "3",
                  "ITA",
                  "CMR",
                  "1320",
                  "Italian Ministry of the Interior"
                ],
                [
                  "165",
                  "BGD",
                  "2024-05-31 00:00:00",
                  "2024",
                  "5",
                  "ITA",
                  "CMR",
                  "1098",
                  "Italian Ministry of the Interior"
                ],
                [
                  "206",
                  "BGD",
                  "2024-06-30 00:00:00",
                  "2024",
                  "6",
                  "ITA",
                  "CMR",
                  "1205",
                  "Italian Ministry of the Interior"
                ],
                [
                  "245",
                  "BGD",
                  "2024-07-31 00:00:00",
                  "2024",
                  "7",
                  "ITA",
                  "CMR",
                  "1560",
                  "Italian Ministry of the Interior"
                ],
                [
                  "274",
                  "SYR",
                  "2024-07-31 00:00:00",
                  "2024",
                  "7",
                  "ITA",
                  "CMR",
                  "1619",
                  "Italian Ministry of the Interior"
                ],
                [
                  "277",
                  "TUN",
                  "2024-07-31 00:00:00",
                  "2024",
                  "7",
                  "ITA",
                  "CMR",
                  "1207",
                  "Italian Ministry of the Interior"
                ],
                [
                  "285",
                  "BGD",
                  "2024-08-31 00:00:00",
                  "2024",
                  "8",
                  "ITA",
                  "CMR",
                  "1391",
                  "Italian Ministry of the Interior"
                ],
                [
                  "318",
                  "SYR",
                  "2024-08-31 00:00:00",
                  "2024",
                  "8",
                  "ITA",
                  "CMR",
                  "1856",
                  "Italian Ministry of the Interior"
                ],
                [
                  "322",
                  "TUN",
                  "2024-08-31 00:00:00",
                  "2024",
                  "8",
                  "ITA",
                  "CMR",
                  "1554",
                  "Italian Ministry of the Interior"
                ],
                [
                  "328",
                  "BGD",
                  "2024-09-30 00:00:00",
                  "2024",
                  "9",
                  "ITA",
                  "CMR",
                  "1701",
                  "Italian Ministry of the Interior"
                ],
                [
                  "360",
                  "SYR",
                  "2024-09-30 00:00:00",
                  "2024",
                  "9",
                  "ITA",
                  "CMR",
                  "2076",
                  "Italian Ministry of the Interior"
                ],
                [
                  "398",
                  "SYR",
                  "2024-10-31 00:00:00",
                  "2024",
                  "10",
                  "ITA",
                  "CMR",
                  "1173",
                  "Italian Ministry of the Interior"
                ],
                [
                  "408",
                  "BGD",
                  "2024-11-30 00:00:00",
                  "2024",
                  "11",
                  "ITA",
                  "CMR",
                  "1813",
                  "Italian Ministry of the Interior"
                ],
                [
                  "440",
                  "SYR",
                  "2024-11-30 00:00:00",
                  "2024",
                  "11",
                  "ITA",
                  "CMR",
                  "1515",
                  "Italian Ministry of the Interior"
                ],
                [
                  "450",
                  "BGD",
                  "2024-12-31 00:00:00",
                  "2024",
                  "12",
                  "ITA",
                  "CMR",
                  "1240",
                  "Italian Ministry of the Interior"
                ],
                [
                  "479",
                  "AFG",
                  "2024-01-31 00:00:00",
                  "2024",
                  "1",
                  "GRC",
                  "EMR",
                  "1367",
                  "Hellenic Coast Guard, Greek Ministry of Interior"
                ],
                [
                  "513",
                  "AFG",
                  "2024-02-29 00:00:00",
                  "2024",
                  "2",
                  "GRC",
                  "EMR",
                  "2178",
                  "Hellenic Coast Guard, Greek Ministry of Interior"
                ],
                [
                  "628",
                  "SYR",
                  "2024-05-31 00:00:00",
                  "2024",
                  "5",
                  "GRC",
                  "EMR",
                  "1720",
                  "Hellenic Coast Guard, Greek Ministry of Interior"
                ],
                [
                  "658",
                  "SYR",
                  "2024-06-30 00:00:00",
                  "2024",
                  "6",
                  "GRC",
                  "EMR",
                  "1287",
                  "Hellenic Coast Guard, Greek Ministry of Interior"
                ],
                [
                  "693",
                  "SYR",
                  "2024-07-31 00:00:00",
                  "2024",
                  "7",
                  "GRC",
                  "EMR",
                  "2522",
                  "Hellenic Coast Guard, Greek Ministry of Interior"
                ],
                [
                  "727",
                  "SYR",
                  "2024-08-31 00:00:00",
                  "2024",
                  "8",
                  "GRC",
                  "EMR",
                  "3366",
                  "Hellenic Coast Guard, Greek Ministry of Interior"
                ],
                [
                  "764",
                  "SYR",
                  "2024-09-30 00:00:00",
                  "2024",
                  "9",
                  "GRC",
                  "EMR",
                  "4097",
                  "Hellenic Coast Guard, Greek Ministry of Interior"
                ],
                [
                  "770",
                  "AFG",
                  "2024-10-31 00:00:00",
                  "2024",
                  "10",
                  "GRC",
                  "EMR",
                  "1528",
                  "Hellenic Coast Guard, Greek Ministry of Interior"
                ],
                [
                  "779",
                  "EGY",
                  "2024-10-31 00:00:00",
                  "2024",
                  "10",
                  "GRC",
                  "EMR",
                  "1047",
                  "Hellenic Coast Guard, Greek Ministry of Interior"
                ],
                [
                  "797",
                  "SYR",
                  "2024-10-31 00:00:00",
                  "2024",
                  "10",
                  "GRC",
                  "EMR",
                  "2998",
                  "Hellenic Coast Guard, Greek Ministry of Interior"
                ],
                [
                  "804",
                  "AFG",
                  "2024-11-30 00:00:00",
                  "2024",
                  "11",
                  "GRC",
                  "EMR",
                  "2835",
                  "Hellenic Coast Guard, Greek Ministry of Interior"
                ],
                [
                  "839",
                  "SYR",
                  "2024-11-30 00:00:00",
                  "2024",
                  "11",
                  "GRC",
                  "EMR",
                  "2201",
                  "Hellenic Coast Guard, Greek Ministry of Interior"
                ],
                [
                  "845",
                  "AFG",
                  "2024-12-31 00:00:00",
                  "2024",
                  "12",
                  "GRC",
                  "EMR",
                  "2340",
                  "Hellenic Coast Guard, Greek Ministry of Interior"
                ],
                [
                  "905",
                  "MLI",
                  "2024-01-31 00:00:00",
                  "2024",
                  "1",
                  "ESP",
                  "WAAR",
                  "4232",
                  "European Border and Coast Guard Agency"
                ],
                [
                  "915",
                  "SEN",
                  "2024-01-31 00:00:00",
                  "2024",
                  "1",
                  "ESP",
                  "WAAR",
                  "1233",
                  "European Border and Coast Guard Agency"
                ],
                [
                  "944",
                  "MLI",
                  "2024-02-29 00:00:00",
                  "2024",
                  "2",
                  "ESP",
                  "WAAR",
                  "2291",
                  "European Border and Coast Guard Agency"
                ],
                [
                  "1031",
                  "SEN",
                  "2024-04-30 00:00:00",
                  "2024",
                  "4",
                  "ESP",
                  "WAAR",
                  "1025",
                  "European Border and Coast Guard Agency"
                ],
                [
                  "1136",
                  "DZA",
                  "2024-07-31 00:00:00",
                  "2024",
                  "7",
                  "ESP",
                  "WMR",
                  "1397",
                  "European Border and Coast Guard Agency"
                ],
                [
                  "1179",
                  "DZA",
                  "2024-08-31 00:00:00",
                  "2024",
                  "8",
                  "ESP",
                  "WMR",
                  "1416",
                  "European Border and Coast Guard Agency"
                ],
                [
                  "1189",
                  "MLI",
                  "2024-08-31 00:00:00",
                  "2024",
                  "8",
                  "ESP",
                  "WAAR",
                  "1120",
                  "European Border and Coast Guard Agency"
                ],
                [
                  "1200",
                  "SEN",
                  "2024-08-31 00:00:00",
                  "2024",
                  "8",
                  "ESP",
                  "WAAR",
                  "1962",
                  "European Border and Coast Guard Agency"
                ],
                [
                  "1224",
                  "DZA",
                  "2024-09-30 00:00:00",
                  "2024",
                  "9",
                  "ESP",
                  "WMR",
                  "1141",
                  "European Border and Coast Guard Agency"
                ],
                [
                  "1239",
                  "MLI",
                  "2024-09-30 00:00:00",
                  "2024",
                  "9",
                  "ESP",
                  "WAAR",
                  "1548",
                  "European Border and Coast Guard Agency"
                ],
                [
                  "1270",
                  "DZA",
                  "2024-10-31 00:00:00",
                  "2024",
                  "10",
                  "ESP",
                  "WMR",
                  "1031",
                  "European Border and Coast Guard Agency"
                ],
                [
                  "1295",
                  "SEN",
                  "2024-10-31 00:00:00",
                  "2024",
                  "10",
                  "ESP",
                  "WAAR",
                  "1424",
                  "European Border and Coast Guard Agency"
                ],
                [
                  "1321",
                  "DZA",
                  "2024-11-30 00:00:00",
                  "2024",
                  "11",
                  "ESP",
                  "WMR",
                  "1945",
                  "European Border and Coast Guard Agency"
                ],
                [
                  "1334",
                  "MLI",
                  "2024-11-30 00:00:00",
                  "2024",
                  "11",
                  "ESP",
                  "WAAR",
                  "1711",
                  "European Border and Coast Guard Agency"
                ],
                [
                  "1345",
                  "SEN",
                  "2024-11-30 00:00:00",
                  "2024",
                  "11",
                  "ESP",
                  "WAAR",
                  "2535",
                  "European Border and Coast Guard Agency"
                ],
                [
                  "1382",
                  "MLI",
                  "2024-12-31 00:00:00",
                  "2024",
                  "12",
                  "ESP",
                  "WAAR",
                  "2114",
                  "European Border and Coast Guard Agency"
                ],
                [
                  "1394",
                  "SEN",
                  "2024-12-31 00:00:00",
                  "2024",
                  "12",
                  "ESP",
                  "WAAR",
                  "1090",
                  "European Border and Coast Guard Agency"
                ],
                [
                  "1481",
                  "SYR",
                  "2024-04-30 00:00:00",
                  "2024",
                  "4",
                  "CYP",
                  "EMR",
                  "1310",
                  "Cypriot Deputy Ministry of Migration and International Protection "
                ],
                [
                  "1664",
                  "SYR",
                  "2024-08-31 00:00:00",
                  "2024",
                  "8",
                  "BGR",
                  "EMR",
                  "1154",
                  "Bulgarian Ministry of Interior"
                ]
              ],
              "shape": {
                "columns": 8,
                "rows": 48
              }
            },
            "text/html": [
              "<div>\n",
              "<style scoped>\n",
              "    .dataframe tbody tr th:only-of-type {\n",
              "        vertical-align: middle;\n",
              "    }\n",
              "\n",
              "    .dataframe tbody tr th {\n",
              "        vertical-align: top;\n",
              "    }\n",
              "\n",
              "    .dataframe thead th {\n",
              "        text-align: right;\n",
              "    }\n",
              "</style>\n",
              "<table border=\"1\" class=\"dataframe\">\n",
              "  <thead>\n",
              "    <tr style=\"text-align: right;\">\n",
              "      <th></th>\n",
              "      <th>ISO3 - Country of origin</th>\n",
              "      <th>Date</th>\n",
              "      <th>Year</th>\n",
              "      <th>Month</th>\n",
              "      <th>ISO3 - Country of arrival</th>\n",
              "      <th>Route</th>\n",
              "      <th>Arrivals</th>\n",
              "      <th>Source</th>\n",
              "    </tr>\n",
              "  </thead>\n",
              "  <tbody>\n",
              "    <tr>\n",
              "      <th>88</th>\n",
              "      <td>BGD</td>\n",
              "      <td>2024-03-31</td>\n",
              "      <td>2024</td>\n",
              "      <td>3</td>\n",
              "      <td>ITA</td>\n",
              "      <td>CMR</td>\n",
              "      <td>1464</td>\n",
              "      <td>Italian Ministry of the Interior</td>\n",
              "    </tr>\n",
              "    <tr>\n",
              "      <th>119</th>\n",
              "      <td>SYR</td>\n",
              "      <td>2024-03-31</td>\n",
              "      <td>2024</td>\n",
              "      <td>3</td>\n",
              "      <td>ITA</td>\n",
              "      <td>CMR</td>\n",
              "      <td>1320</td>\n",
              "      <td>Italian Ministry of the Interior</td>\n",
              "    </tr>\n",
              "    <tr>\n",
              "      <th>165</th>\n",
              "      <td>BGD</td>\n",
              "      <td>2024-05-31</td>\n",
              "      <td>2024</td>\n",
              "      <td>5</td>\n",
              "      <td>ITA</td>\n",
              "      <td>CMR</td>\n",
              "      <td>1098</td>\n",
              "      <td>Italian Ministry of the Interior</td>\n",
              "    </tr>\n",
              "    <tr>\n",
              "      <th>206</th>\n",
              "      <td>BGD</td>\n",
              "      <td>2024-06-30</td>\n",
              "      <td>2024</td>\n",
              "      <td>6</td>\n",
              "      <td>ITA</td>\n",
              "      <td>CMR</td>\n",
              "      <td>1205</td>\n",
              "      <td>Italian Ministry of the Interior</td>\n",
              "    </tr>\n",
              "    <tr>\n",
              "      <th>245</th>\n",
              "      <td>BGD</td>\n",
              "      <td>2024-07-31</td>\n",
              "      <td>2024</td>\n",
              "      <td>7</td>\n",
              "      <td>ITA</td>\n",
              "      <td>CMR</td>\n",
              "      <td>1560</td>\n",
              "      <td>Italian Ministry of the Interior</td>\n",
              "    </tr>\n",
              "    <tr>\n",
              "      <th>274</th>\n",
              "      <td>SYR</td>\n",
              "      <td>2024-07-31</td>\n",
              "      <td>2024</td>\n",
              "      <td>7</td>\n",
              "      <td>ITA</td>\n",
              "      <td>CMR</td>\n",
              "      <td>1619</td>\n",
              "      <td>Italian Ministry of the Interior</td>\n",
              "    </tr>\n",
              "    <tr>\n",
              "      <th>277</th>\n",
              "      <td>TUN</td>\n",
              "      <td>2024-07-31</td>\n",
              "      <td>2024</td>\n",
              "      <td>7</td>\n",
              "      <td>ITA</td>\n",
              "      <td>CMR</td>\n",
              "      <td>1207</td>\n",
              "      <td>Italian Ministry of the Interior</td>\n",
              "    </tr>\n",
              "    <tr>\n",
              "      <th>285</th>\n",
              "      <td>BGD</td>\n",
              "      <td>2024-08-31</td>\n",
              "      <td>2024</td>\n",
              "      <td>8</td>\n",
              "      <td>ITA</td>\n",
              "      <td>CMR</td>\n",
              "      <td>1391</td>\n",
              "      <td>Italian Ministry of the Interior</td>\n",
              "    </tr>\n",
              "    <tr>\n",
              "      <th>318</th>\n",
              "      <td>SYR</td>\n",
              "      <td>2024-08-31</td>\n",
              "      <td>2024</td>\n",
              "      <td>8</td>\n",
              "      <td>ITA</td>\n",
              "      <td>CMR</td>\n",
              "      <td>1856</td>\n",
              "      <td>Italian Ministry of the Interior</td>\n",
              "    </tr>\n",
              "    <tr>\n",
              "      <th>322</th>\n",
              "      <td>TUN</td>\n",
              "      <td>2024-08-31</td>\n",
              "      <td>2024</td>\n",
              "      <td>8</td>\n",
              "      <td>ITA</td>\n",
              "      <td>CMR</td>\n",
              "      <td>1554</td>\n",
              "      <td>Italian Ministry of the Interior</td>\n",
              "    </tr>\n",
              "    <tr>\n",
              "      <th>328</th>\n",
              "      <td>BGD</td>\n",
              "      <td>2024-09-30</td>\n",
              "      <td>2024</td>\n",
              "      <td>9</td>\n",
              "      <td>ITA</td>\n",
              "      <td>CMR</td>\n",
              "      <td>1701</td>\n",
              "      <td>Italian Ministry of the Interior</td>\n",
              "    </tr>\n",
              "    <tr>\n",
              "      <th>360</th>\n",
              "      <td>SYR</td>\n",
              "      <td>2024-09-30</td>\n",
              "      <td>2024</td>\n",
              "      <td>9</td>\n",
              "      <td>ITA</td>\n",
              "      <td>CMR</td>\n",
              "      <td>2076</td>\n",
              "      <td>Italian Ministry of the Interior</td>\n",
              "    </tr>\n",
              "    <tr>\n",
              "      <th>398</th>\n",
              "      <td>SYR</td>\n",
              "      <td>2024-10-31</td>\n",
              "      <td>2024</td>\n",
              "      <td>10</td>\n",
              "      <td>ITA</td>\n",
              "      <td>CMR</td>\n",
              "      <td>1173</td>\n",
              "      <td>Italian Ministry of the Interior</td>\n",
              "    </tr>\n",
              "    <tr>\n",
              "      <th>408</th>\n",
              "      <td>BGD</td>\n",
              "      <td>2024-11-30</td>\n",
              "      <td>2024</td>\n",
              "      <td>11</td>\n",
              "      <td>ITA</td>\n",
              "      <td>CMR</td>\n",
              "      <td>1813</td>\n",
              "      <td>Italian Ministry of the Interior</td>\n",
              "    </tr>\n",
              "    <tr>\n",
              "      <th>440</th>\n",
              "      <td>SYR</td>\n",
              "      <td>2024-11-30</td>\n",
              "      <td>2024</td>\n",
              "      <td>11</td>\n",
              "      <td>ITA</td>\n",
              "      <td>CMR</td>\n",
              "      <td>1515</td>\n",
              "      <td>Italian Ministry of the Interior</td>\n",
              "    </tr>\n",
              "    <tr>\n",
              "      <th>450</th>\n",
              "      <td>BGD</td>\n",
              "      <td>2024-12-31</td>\n",
              "      <td>2024</td>\n",
              "      <td>12</td>\n",
              "      <td>ITA</td>\n",
              "      <td>CMR</td>\n",
              "      <td>1240</td>\n",
              "      <td>Italian Ministry of the Interior</td>\n",
              "    </tr>\n",
              "    <tr>\n",
              "      <th>479</th>\n",
              "      <td>AFG</td>\n",
              "      <td>2024-01-31</td>\n",
              "      <td>2024</td>\n",
              "      <td>1</td>\n",
              "      <td>GRC</td>\n",
              "      <td>EMR</td>\n",
              "      <td>1367</td>\n",
              "      <td>Hellenic Coast Guard, Greek Ministry of Interior</td>\n",
              "    </tr>\n",
              "    <tr>\n",
              "      <th>513</th>\n",
              "      <td>AFG</td>\n",
              "      <td>2024-02-29</td>\n",
              "      <td>2024</td>\n",
              "      <td>2</td>\n",
              "      <td>GRC</td>\n",
              "      <td>EMR</td>\n",
              "      <td>2178</td>\n",
              "      <td>Hellenic Coast Guard, Greek Ministry of Interior</td>\n",
              "    </tr>\n",
              "    <tr>\n",
              "      <th>628</th>\n",
              "      <td>SYR</td>\n",
              "      <td>2024-05-31</td>\n",
              "      <td>2024</td>\n",
              "      <td>5</td>\n",
              "      <td>GRC</td>\n",
              "      <td>EMR</td>\n",
              "      <td>1720</td>\n",
              "      <td>Hellenic Coast Guard, Greek Ministry of Interior</td>\n",
              "    </tr>\n",
              "    <tr>\n",
              "      <th>658</th>\n",
              "      <td>SYR</td>\n",
              "      <td>2024-06-30</td>\n",
              "      <td>2024</td>\n",
              "      <td>6</td>\n",
              "      <td>GRC</td>\n",
              "      <td>EMR</td>\n",
              "      <td>1287</td>\n",
              "      <td>Hellenic Coast Guard, Greek Ministry of Interior</td>\n",
              "    </tr>\n",
              "    <tr>\n",
              "      <th>693</th>\n",
              "      <td>SYR</td>\n",
              "      <td>2024-07-31</td>\n",
              "      <td>2024</td>\n",
              "      <td>7</td>\n",
              "      <td>GRC</td>\n",
              "      <td>EMR</td>\n",
              "      <td>2522</td>\n",
              "      <td>Hellenic Coast Guard, Greek Ministry of Interior</td>\n",
              "    </tr>\n",
              "    <tr>\n",
              "      <th>727</th>\n",
              "      <td>SYR</td>\n",
              "      <td>2024-08-31</td>\n",
              "      <td>2024</td>\n",
              "      <td>8</td>\n",
              "      <td>GRC</td>\n",
              "      <td>EMR</td>\n",
              "      <td>3366</td>\n",
              "      <td>Hellenic Coast Guard, Greek Ministry of Interior</td>\n",
              "    </tr>\n",
              "    <tr>\n",
              "      <th>764</th>\n",
              "      <td>SYR</td>\n",
              "      <td>2024-09-30</td>\n",
              "      <td>2024</td>\n",
              "      <td>9</td>\n",
              "      <td>GRC</td>\n",
              "      <td>EMR</td>\n",
              "      <td>4097</td>\n",
              "      <td>Hellenic Coast Guard, Greek Ministry of Interior</td>\n",
              "    </tr>\n",
              "    <tr>\n",
              "      <th>770</th>\n",
              "      <td>AFG</td>\n",
              "      <td>2024-10-31</td>\n",
              "      <td>2024</td>\n",
              "      <td>10</td>\n",
              "      <td>GRC</td>\n",
              "      <td>EMR</td>\n",
              "      <td>1528</td>\n",
              "      <td>Hellenic Coast Guard, Greek Ministry of Interior</td>\n",
              "    </tr>\n",
              "    <tr>\n",
              "      <th>779</th>\n",
              "      <td>EGY</td>\n",
              "      <td>2024-10-31</td>\n",
              "      <td>2024</td>\n",
              "      <td>10</td>\n",
              "      <td>GRC</td>\n",
              "      <td>EMR</td>\n",
              "      <td>1047</td>\n",
              "      <td>Hellenic Coast Guard, Greek Ministry of Interior</td>\n",
              "    </tr>\n",
              "    <tr>\n",
              "      <th>797</th>\n",
              "      <td>SYR</td>\n",
              "      <td>2024-10-31</td>\n",
              "      <td>2024</td>\n",
              "      <td>10</td>\n",
              "      <td>GRC</td>\n",
              "      <td>EMR</td>\n",
              "      <td>2998</td>\n",
              "      <td>Hellenic Coast Guard, Greek Ministry of Interior</td>\n",
              "    </tr>\n",
              "    <tr>\n",
              "      <th>804</th>\n",
              "      <td>AFG</td>\n",
              "      <td>2024-11-30</td>\n",
              "      <td>2024</td>\n",
              "      <td>11</td>\n",
              "      <td>GRC</td>\n",
              "      <td>EMR</td>\n",
              "      <td>2835</td>\n",
              "      <td>Hellenic Coast Guard, Greek Ministry of Interior</td>\n",
              "    </tr>\n",
              "    <tr>\n",
              "      <th>839</th>\n",
              "      <td>SYR</td>\n",
              "      <td>2024-11-30</td>\n",
              "      <td>2024</td>\n",
              "      <td>11</td>\n",
              "      <td>GRC</td>\n",
              "      <td>EMR</td>\n",
              "      <td>2201</td>\n",
              "      <td>Hellenic Coast Guard, Greek Ministry of Interior</td>\n",
              "    </tr>\n",
              "    <tr>\n",
              "      <th>845</th>\n",
              "      <td>AFG</td>\n",
              "      <td>2024-12-31</td>\n",
              "      <td>2024</td>\n",
              "      <td>12</td>\n",
              "      <td>GRC</td>\n",
              "      <td>EMR</td>\n",
              "      <td>2340</td>\n",
              "      <td>Hellenic Coast Guard, Greek Ministry of Interior</td>\n",
              "    </tr>\n",
              "    <tr>\n",
              "      <th>905</th>\n",
              "      <td>MLI</td>\n",
              "      <td>2024-01-31</td>\n",
              "      <td>2024</td>\n",
              "      <td>1</td>\n",
              "      <td>ESP</td>\n",
              "      <td>WAAR</td>\n",
              "      <td>4232</td>\n",
              "      <td>European Border and Coast Guard Agency</td>\n",
              "    </tr>\n",
              "    <tr>\n",
              "      <th>915</th>\n",
              "      <td>SEN</td>\n",
              "      <td>2024-01-31</td>\n",
              "      <td>2024</td>\n",
              "      <td>1</td>\n",
              "      <td>ESP</td>\n",
              "      <td>WAAR</td>\n",
              "      <td>1233</td>\n",
              "      <td>European Border and Coast Guard Agency</td>\n",
              "    </tr>\n",
              "    <tr>\n",
              "      <th>944</th>\n",
              "      <td>MLI</td>\n",
              "      <td>2024-02-29</td>\n",
              "      <td>2024</td>\n",
              "      <td>2</td>\n",
              "      <td>ESP</td>\n",
              "      <td>WAAR</td>\n",
              "      <td>2291</td>\n",
              "      <td>European Border and Coast Guard Agency</td>\n",
              "    </tr>\n",
              "    <tr>\n",
              "      <th>1031</th>\n",
              "      <td>SEN</td>\n",
              "      <td>2024-04-30</td>\n",
              "      <td>2024</td>\n",
              "      <td>4</td>\n",
              "      <td>ESP</td>\n",
              "      <td>WAAR</td>\n",
              "      <td>1025</td>\n",
              "      <td>European Border and Coast Guard Agency</td>\n",
              "    </tr>\n",
              "    <tr>\n",
              "      <th>1136</th>\n",
              "      <td>DZA</td>\n",
              "      <td>2024-07-31</td>\n",
              "      <td>2024</td>\n",
              "      <td>7</td>\n",
              "      <td>ESP</td>\n",
              "      <td>WMR</td>\n",
              "      <td>1397</td>\n",
              "      <td>European Border and Coast Guard Agency</td>\n",
              "    </tr>\n",
              "    <tr>\n",
              "      <th>1179</th>\n",
              "      <td>DZA</td>\n",
              "      <td>2024-08-31</td>\n",
              "      <td>2024</td>\n",
              "      <td>8</td>\n",
              "      <td>ESP</td>\n",
              "      <td>WMR</td>\n",
              "      <td>1416</td>\n",
              "      <td>European Border and Coast Guard Agency</td>\n",
              "    </tr>\n",
              "    <tr>\n",
              "      <th>1189</th>\n",
              "      <td>MLI</td>\n",
              "      <td>2024-08-31</td>\n",
              "      <td>2024</td>\n",
              "      <td>8</td>\n",
              "      <td>ESP</td>\n",
              "      <td>WAAR</td>\n",
              "      <td>1120</td>\n",
              "      <td>European Border and Coast Guard Agency</td>\n",
              "    </tr>\n",
              "    <tr>\n",
              "      <th>1200</th>\n",
              "      <td>SEN</td>\n",
              "      <td>2024-08-31</td>\n",
              "      <td>2024</td>\n",
              "      <td>8</td>\n",
              "      <td>ESP</td>\n",
              "      <td>WAAR</td>\n",
              "      <td>1962</td>\n",
              "      <td>European Border and Coast Guard Agency</td>\n",
              "    </tr>\n",
              "    <tr>\n",
              "      <th>1224</th>\n",
              "      <td>DZA</td>\n",
              "      <td>2024-09-30</td>\n",
              "      <td>2024</td>\n",
              "      <td>9</td>\n",
              "      <td>ESP</td>\n",
              "      <td>WMR</td>\n",
              "      <td>1141</td>\n",
              "      <td>European Border and Coast Guard Agency</td>\n",
              "    </tr>\n",
              "    <tr>\n",
              "      <th>1239</th>\n",
              "      <td>MLI</td>\n",
              "      <td>2024-09-30</td>\n",
              "      <td>2024</td>\n",
              "      <td>9</td>\n",
              "      <td>ESP</td>\n",
              "      <td>WAAR</td>\n",
              "      <td>1548</td>\n",
              "      <td>European Border and Coast Guard Agency</td>\n",
              "    </tr>\n",
              "    <tr>\n",
              "      <th>1270</th>\n",
              "      <td>DZA</td>\n",
              "      <td>2024-10-31</td>\n",
              "      <td>2024</td>\n",
              "      <td>10</td>\n",
              "      <td>ESP</td>\n",
              "      <td>WMR</td>\n",
              "      <td>1031</td>\n",
              "      <td>European Border and Coast Guard Agency</td>\n",
              "    </tr>\n",
              "    <tr>\n",
              "      <th>1295</th>\n",
              "      <td>SEN</td>\n",
              "      <td>2024-10-31</td>\n",
              "      <td>2024</td>\n",
              "      <td>10</td>\n",
              "      <td>ESP</td>\n",
              "      <td>WAAR</td>\n",
              "      <td>1424</td>\n",
              "      <td>European Border and Coast Guard Agency</td>\n",
              "    </tr>\n",
              "    <tr>\n",
              "      <th>1321</th>\n",
              "      <td>DZA</td>\n",
              "      <td>2024-11-30</td>\n",
              "      <td>2024</td>\n",
              "      <td>11</td>\n",
              "      <td>ESP</td>\n",
              "      <td>WMR</td>\n",
              "      <td>1945</td>\n",
              "      <td>European Border and Coast Guard Agency</td>\n",
              "    </tr>\n",
              "    <tr>\n",
              "      <th>1334</th>\n",
              "      <td>MLI</td>\n",
              "      <td>2024-11-30</td>\n",
              "      <td>2024</td>\n",
              "      <td>11</td>\n",
              "      <td>ESP</td>\n",
              "      <td>WAAR</td>\n",
              "      <td>1711</td>\n",
              "      <td>European Border and Coast Guard Agency</td>\n",
              "    </tr>\n",
              "    <tr>\n",
              "      <th>1345</th>\n",
              "      <td>SEN</td>\n",
              "      <td>2024-11-30</td>\n",
              "      <td>2024</td>\n",
              "      <td>11</td>\n",
              "      <td>ESP</td>\n",
              "      <td>WAAR</td>\n",
              "      <td>2535</td>\n",
              "      <td>European Border and Coast Guard Agency</td>\n",
              "    </tr>\n",
              "    <tr>\n",
              "      <th>1382</th>\n",
              "      <td>MLI</td>\n",
              "      <td>2024-12-31</td>\n",
              "      <td>2024</td>\n",
              "      <td>12</td>\n",
              "      <td>ESP</td>\n",
              "      <td>WAAR</td>\n",
              "      <td>2114</td>\n",
              "      <td>European Border and Coast Guard Agency</td>\n",
              "    </tr>\n",
              "    <tr>\n",
              "      <th>1394</th>\n",
              "      <td>SEN</td>\n",
              "      <td>2024-12-31</td>\n",
              "      <td>2024</td>\n",
              "      <td>12</td>\n",
              "      <td>ESP</td>\n",
              "      <td>WAAR</td>\n",
              "      <td>1090</td>\n",
              "      <td>European Border and Coast Guard Agency</td>\n",
              "    </tr>\n",
              "    <tr>\n",
              "      <th>1481</th>\n",
              "      <td>SYR</td>\n",
              "      <td>2024-04-30</td>\n",
              "      <td>2024</td>\n",
              "      <td>4</td>\n",
              "      <td>CYP</td>\n",
              "      <td>EMR</td>\n",
              "      <td>1310</td>\n",
              "      <td>Cypriot Deputy Ministry of Migration and Inter...</td>\n",
              "    </tr>\n",
              "    <tr>\n",
              "      <th>1664</th>\n",
              "      <td>SYR</td>\n",
              "      <td>2024-08-31</td>\n",
              "      <td>2024</td>\n",
              "      <td>8</td>\n",
              "      <td>BGR</td>\n",
              "      <td>EMR</td>\n",
              "      <td>1154</td>\n",
              "      <td>Bulgarian Ministry of Interior</td>\n",
              "    </tr>\n",
              "  </tbody>\n",
              "</table>\n",
              "</div>"
            ],
            "text/plain": [
              "     ISO3 - Country of origin       Date  Year  Month  \\\n",
              "88                        BGD 2024-03-31  2024      3   \n",
              "119                       SYR 2024-03-31  2024      3   \n",
              "165                       BGD 2024-05-31  2024      5   \n",
              "206                       BGD 2024-06-30  2024      6   \n",
              "245                       BGD 2024-07-31  2024      7   \n",
              "274                       SYR 2024-07-31  2024      7   \n",
              "277                       TUN 2024-07-31  2024      7   \n",
              "285                       BGD 2024-08-31  2024      8   \n",
              "318                       SYR 2024-08-31  2024      8   \n",
              "322                       TUN 2024-08-31  2024      8   \n",
              "328                       BGD 2024-09-30  2024      9   \n",
              "360                       SYR 2024-09-30  2024      9   \n",
              "398                       SYR 2024-10-31  2024     10   \n",
              "408                       BGD 2024-11-30  2024     11   \n",
              "440                       SYR 2024-11-30  2024     11   \n",
              "450                       BGD 2024-12-31  2024     12   \n",
              "479                       AFG 2024-01-31  2024      1   \n",
              "513                       AFG 2024-02-29  2024      2   \n",
              "628                       SYR 2024-05-31  2024      5   \n",
              "658                       SYR 2024-06-30  2024      6   \n",
              "693                       SYR 2024-07-31  2024      7   \n",
              "727                       SYR 2024-08-31  2024      8   \n",
              "764                       SYR 2024-09-30  2024      9   \n",
              "770                       AFG 2024-10-31  2024     10   \n",
              "779                       EGY 2024-10-31  2024     10   \n",
              "797                       SYR 2024-10-31  2024     10   \n",
              "804                       AFG 2024-11-30  2024     11   \n",
              "839                       SYR 2024-11-30  2024     11   \n",
              "845                       AFG 2024-12-31  2024     12   \n",
              "905                       MLI 2024-01-31  2024      1   \n",
              "915                       SEN 2024-01-31  2024      1   \n",
              "944                       MLI 2024-02-29  2024      2   \n",
              "1031                      SEN 2024-04-30  2024      4   \n",
              "1136                      DZA 2024-07-31  2024      7   \n",
              "1179                      DZA 2024-08-31  2024      8   \n",
              "1189                      MLI 2024-08-31  2024      8   \n",
              "1200                      SEN 2024-08-31  2024      8   \n",
              "1224                      DZA 2024-09-30  2024      9   \n",
              "1239                      MLI 2024-09-30  2024      9   \n",
              "1270                      DZA 2024-10-31  2024     10   \n",
              "1295                      SEN 2024-10-31  2024     10   \n",
              "1321                      DZA 2024-11-30  2024     11   \n",
              "1334                      MLI 2024-11-30  2024     11   \n",
              "1345                      SEN 2024-11-30  2024     11   \n",
              "1382                      MLI 2024-12-31  2024     12   \n",
              "1394                      SEN 2024-12-31  2024     12   \n",
              "1481                      SYR 2024-04-30  2024      4   \n",
              "1664                      SYR 2024-08-31  2024      8   \n",
              "\n",
              "     ISO3 - Country of arrival Route  Arrivals  \\\n",
              "88                         ITA   CMR      1464   \n",
              "119                        ITA   CMR      1320   \n",
              "165                        ITA   CMR      1098   \n",
              "206                        ITA   CMR      1205   \n",
              "245                        ITA   CMR      1560   \n",
              "274                        ITA   CMR      1619   \n",
              "277                        ITA   CMR      1207   \n",
              "285                        ITA   CMR      1391   \n",
              "318                        ITA   CMR      1856   \n",
              "322                        ITA   CMR      1554   \n",
              "328                        ITA   CMR      1701   \n",
              "360                        ITA   CMR      2076   \n",
              "398                        ITA   CMR      1173   \n",
              "408                        ITA   CMR      1813   \n",
              "440                        ITA   CMR      1515   \n",
              "450                        ITA   CMR      1240   \n",
              "479                        GRC   EMR      1367   \n",
              "513                        GRC   EMR      2178   \n",
              "628                        GRC   EMR      1720   \n",
              "658                        GRC   EMR      1287   \n",
              "693                        GRC   EMR      2522   \n",
              "727                        GRC   EMR      3366   \n",
              "764                        GRC   EMR      4097   \n",
              "770                        GRC   EMR      1528   \n",
              "779                        GRC   EMR      1047   \n",
              "797                        GRC   EMR      2998   \n",
              "804                        GRC   EMR      2835   \n",
              "839                        GRC   EMR      2201   \n",
              "845                        GRC   EMR      2340   \n",
              "905                        ESP  WAAR      4232   \n",
              "915                        ESP  WAAR      1233   \n",
              "944                        ESP  WAAR      2291   \n",
              "1031                       ESP  WAAR      1025   \n",
              "1136                       ESP   WMR      1397   \n",
              "1179                       ESP   WMR      1416   \n",
              "1189                       ESP  WAAR      1120   \n",
              "1200                       ESP  WAAR      1962   \n",
              "1224                       ESP   WMR      1141   \n",
              "1239                       ESP  WAAR      1548   \n",
              "1270                       ESP   WMR      1031   \n",
              "1295                       ESP  WAAR      1424   \n",
              "1321                       ESP   WMR      1945   \n",
              "1334                       ESP  WAAR      1711   \n",
              "1345                       ESP  WAAR      2535   \n",
              "1382                       ESP  WAAR      2114   \n",
              "1394                       ESP  WAAR      1090   \n",
              "1481                       CYP   EMR      1310   \n",
              "1664                       BGR   EMR      1154   \n",
              "\n",
              "                                                 Source  \n",
              "88                     Italian Ministry of the Interior  \n",
              "119                    Italian Ministry of the Interior  \n",
              "165                    Italian Ministry of the Interior  \n",
              "206                    Italian Ministry of the Interior  \n",
              "245                    Italian Ministry of the Interior  \n",
              "274                    Italian Ministry of the Interior  \n",
              "277                    Italian Ministry of the Interior  \n",
              "285                    Italian Ministry of the Interior  \n",
              "318                    Italian Ministry of the Interior  \n",
              "322                    Italian Ministry of the Interior  \n",
              "328                    Italian Ministry of the Interior  \n",
              "360                    Italian Ministry of the Interior  \n",
              "398                    Italian Ministry of the Interior  \n",
              "408                    Italian Ministry of the Interior  \n",
              "440                    Italian Ministry of the Interior  \n",
              "450                    Italian Ministry of the Interior  \n",
              "479    Hellenic Coast Guard, Greek Ministry of Interior  \n",
              "513    Hellenic Coast Guard, Greek Ministry of Interior  \n",
              "628    Hellenic Coast Guard, Greek Ministry of Interior  \n",
              "658    Hellenic Coast Guard, Greek Ministry of Interior  \n",
              "693    Hellenic Coast Guard, Greek Ministry of Interior  \n",
              "727    Hellenic Coast Guard, Greek Ministry of Interior  \n",
              "764    Hellenic Coast Guard, Greek Ministry of Interior  \n",
              "770    Hellenic Coast Guard, Greek Ministry of Interior  \n",
              "779    Hellenic Coast Guard, Greek Ministry of Interior  \n",
              "797    Hellenic Coast Guard, Greek Ministry of Interior  \n",
              "804    Hellenic Coast Guard, Greek Ministry of Interior  \n",
              "839    Hellenic Coast Guard, Greek Ministry of Interior  \n",
              "845    Hellenic Coast Guard, Greek Ministry of Interior  \n",
              "905              European Border and Coast Guard Agency  \n",
              "915              European Border and Coast Guard Agency  \n",
              "944              European Border and Coast Guard Agency  \n",
              "1031             European Border and Coast Guard Agency  \n",
              "1136             European Border and Coast Guard Agency  \n",
              "1179             European Border and Coast Guard Agency  \n",
              "1189             European Border and Coast Guard Agency  \n",
              "1200             European Border and Coast Guard Agency  \n",
              "1224             European Border and Coast Guard Agency  \n",
              "1239             European Border and Coast Guard Agency  \n",
              "1270             European Border and Coast Guard Agency  \n",
              "1295             European Border and Coast Guard Agency  \n",
              "1321             European Border and Coast Guard Agency  \n",
              "1334             European Border and Coast Guard Agency  \n",
              "1345             European Border and Coast Guard Agency  \n",
              "1382             European Border and Coast Guard Agency  \n",
              "1394             European Border and Coast Guard Agency  \n",
              "1481  Cypriot Deputy Ministry of Migration and Inter...  \n",
              "1664                     Bulgarian Ministry of Interior  "
            ]
          },
          "execution_count": 53,
          "metadata": {},
          "output_type": "execute_result"
        }
      ],
      "source": [
        "# Filtrar datos donde Arrivals es mayor que 1000\n",
        "df_mas_1000 = df_excel[df_excel['Arrivals'] > 1000]\n",
        "df_mas_1000"
      ]
    },
    {
      "cell_type": "markdown",
      "metadata": {},
      "source": [
        "## 📌 Ordenar y seleccionar datos"
      ]
    },
    {
      "cell_type": "code",
      "execution_count": 54,
      "metadata": {},
      "outputs": [
        {
          "data": {
            "application/vnd.microsoft.datawrangler.viewer.v0+json": {
              "columns": [
                {
                  "name": "index",
                  "rawType": "int64",
                  "type": "integer"
                },
                {
                  "name": "ISO3 - Country of origin",
                  "rawType": "object",
                  "type": "string"
                },
                {
                  "name": "Date",
                  "rawType": "datetime64[ns]",
                  "type": "datetime"
                },
                {
                  "name": "Year",
                  "rawType": "int64",
                  "type": "integer"
                },
                {
                  "name": "Month",
                  "rawType": "int64",
                  "type": "integer"
                },
                {
                  "name": "ISO3 - Country of arrival",
                  "rawType": "object",
                  "type": "string"
                },
                {
                  "name": "Route",
                  "rawType": "object",
                  "type": "string"
                },
                {
                  "name": "Arrivals",
                  "rawType": "int64",
                  "type": "integer"
                },
                {
                  "name": "Source",
                  "rawType": "object",
                  "type": "string"
                }
              ],
              "ref": "aafbfc1b-336a-4708-95a8-21ee3745ffb8",
              "rows": [
                [
                  "0",
                  "BGD",
                  "2024-01-31 00:00:00",
                  "2024",
                  "1",
                  "MLT",
                  "CMR",
                  "7",
                  "Maltese Minitry of Home Affairs, Security and Employment"
                ],
                [
                  "499",
                  "MAR",
                  "2024-01-31 00:00:00",
                  "2024",
                  "1",
                  "GRC",
                  "EMR",
                  "2",
                  "Hellenic Coast Guard, Greek Ministry of Interior"
                ],
                [
                  "500",
                  "MLI",
                  "2024-01-31 00:00:00",
                  "2024",
                  "1",
                  "GRC",
                  "EMR",
                  "2",
                  "Hellenic Coast Guard, Greek Ministry of Interior"
                ],
                [
                  "501",
                  "NGA",
                  "2024-01-31 00:00:00",
                  "2024",
                  "1",
                  "GRC",
                  "EMR",
                  "4",
                  "Hellenic Coast Guard, Greek Ministry of Interior"
                ],
                [
                  "502",
                  "OOO",
                  "2024-01-31 00:00:00",
                  "2024",
                  "1",
                  "GRC",
                  "EMR",
                  "16",
                  "Hellenic Coast Guard, Greek Ministry of Interior"
                ]
              ],
              "shape": {
                "columns": 8,
                "rows": 5
              }
            },
            "text/html": [
              "<div>\n",
              "<style scoped>\n",
              "    .dataframe tbody tr th:only-of-type {\n",
              "        vertical-align: middle;\n",
              "    }\n",
              "\n",
              "    .dataframe tbody tr th {\n",
              "        vertical-align: top;\n",
              "    }\n",
              "\n",
              "    .dataframe thead th {\n",
              "        text-align: right;\n",
              "    }\n",
              "</style>\n",
              "<table border=\"1\" class=\"dataframe\">\n",
              "  <thead>\n",
              "    <tr style=\"text-align: right;\">\n",
              "      <th></th>\n",
              "      <th>ISO3 - Country of origin</th>\n",
              "      <th>Date</th>\n",
              "      <th>Year</th>\n",
              "      <th>Month</th>\n",
              "      <th>ISO3 - Country of arrival</th>\n",
              "      <th>Route</th>\n",
              "      <th>Arrivals</th>\n",
              "      <th>Source</th>\n",
              "    </tr>\n",
              "  </thead>\n",
              "  <tbody>\n",
              "    <tr>\n",
              "      <th>0</th>\n",
              "      <td>BGD</td>\n",
              "      <td>2024-01-31</td>\n",
              "      <td>2024</td>\n",
              "      <td>1</td>\n",
              "      <td>MLT</td>\n",
              "      <td>CMR</td>\n",
              "      <td>7</td>\n",
              "      <td>Maltese Minitry of Home Affairs, Security and ...</td>\n",
              "    </tr>\n",
              "    <tr>\n",
              "      <th>499</th>\n",
              "      <td>MAR</td>\n",
              "      <td>2024-01-31</td>\n",
              "      <td>2024</td>\n",
              "      <td>1</td>\n",
              "      <td>GRC</td>\n",
              "      <td>EMR</td>\n",
              "      <td>2</td>\n",
              "      <td>Hellenic Coast Guard, Greek Ministry of Interior</td>\n",
              "    </tr>\n",
              "    <tr>\n",
              "      <th>500</th>\n",
              "      <td>MLI</td>\n",
              "      <td>2024-01-31</td>\n",
              "      <td>2024</td>\n",
              "      <td>1</td>\n",
              "      <td>GRC</td>\n",
              "      <td>EMR</td>\n",
              "      <td>2</td>\n",
              "      <td>Hellenic Coast Guard, Greek Ministry of Interior</td>\n",
              "    </tr>\n",
              "    <tr>\n",
              "      <th>501</th>\n",
              "      <td>NGA</td>\n",
              "      <td>2024-01-31</td>\n",
              "      <td>2024</td>\n",
              "      <td>1</td>\n",
              "      <td>GRC</td>\n",
              "      <td>EMR</td>\n",
              "      <td>4</td>\n",
              "      <td>Hellenic Coast Guard, Greek Ministry of Interior</td>\n",
              "    </tr>\n",
              "    <tr>\n",
              "      <th>502</th>\n",
              "      <td>OOO</td>\n",
              "      <td>2024-01-31</td>\n",
              "      <td>2024</td>\n",
              "      <td>1</td>\n",
              "      <td>GRC</td>\n",
              "      <td>EMR</td>\n",
              "      <td>16</td>\n",
              "      <td>Hellenic Coast Guard, Greek Ministry of Interior</td>\n",
              "    </tr>\n",
              "  </tbody>\n",
              "</table>\n",
              "</div>"
            ],
            "text/plain": [
              "    ISO3 - Country of origin       Date  Year  Month  \\\n",
              "0                        BGD 2024-01-31  2024      1   \n",
              "499                      MAR 2024-01-31  2024      1   \n",
              "500                      MLI 2024-01-31  2024      1   \n",
              "501                      NGA 2024-01-31  2024      1   \n",
              "502                      OOO 2024-01-31  2024      1   \n",
              "\n",
              "    ISO3 - Country of arrival Route  Arrivals  \\\n",
              "0                         MLT   CMR         7   \n",
              "499                       GRC   EMR         2   \n",
              "500                       GRC   EMR         2   \n",
              "501                       GRC   EMR         4   \n",
              "502                       GRC   EMR        16   \n",
              "\n",
              "                                                Source  \n",
              "0    Maltese Minitry of Home Affairs, Security and ...  \n",
              "499   Hellenic Coast Guard, Greek Ministry of Interior  \n",
              "500   Hellenic Coast Guard, Greek Ministry of Interior  \n",
              "501   Hellenic Coast Guard, Greek Ministry of Interior  \n",
              "502   Hellenic Coast Guard, Greek Ministry of Interior  "
            ]
          },
          "execution_count": 54,
          "metadata": {},
          "output_type": "execute_result"
        }
      ],
      "source": [
        "# Ordenar por la columna 'Date' en orden ascendente\n",
        "df_excel.sort_values(by='Date', ascending=True).head() "
      ]
    },
    {
      "cell_type": "markdown",
      "metadata": {},
      "source": [
        "## 📌 Explorar los valores \n",
        "### 🏷️ Tabla de métodos para explorar valores únicos y conteos \n",
        "| Método | Descripción | \n",
        "|----------------------|--------------------------------------------------| \n",
        "| unique() | Devuelve los valores únicos en una columna. | \n",
        "| nunique() | Cuenta el número de valores únicos en una columna.|\n",
        "| value_counts() | Cuenta la frecuencia de cada valor en una columna.|\n",
        "\n",
        "Se pueden aplicar a cualquier tipo de variable, pero son especialmente útiles para variables categóricas. >💡 Las variables categóricas son aquellas que representan categorías o grupos, como colores, tipos de productos o países. Generalmente, tienen un número limitado de valores posibles."
      ]
    },
    {
      "cell_type": "code",
      "execution_count": 55,
      "metadata": {},
      "outputs": [
        {
          "data": {
            "text/plain": [
              "array(['BGD', 'EGY', 'PAK', 'SDN', 'SYR', 'ERI', 'ETH', 'GHA', 'PSE',\n",
              "       'BEN', 'BFA', 'CAF', 'CIV', 'CMR', 'DZA', 'GIN', 'GMB', 'IND',\n",
              "       'LBN', 'LBR', 'LBY', 'MAR', 'MLI', 'NGA', 'OOO', 'SEN', 'SSD',\n",
              "       'TCD', 'TGO', 'TUN', 'YEM', 'GNB', 'MRT', 'NER', 'AFG', 'COD',\n",
              "       'COM', 'IRQ', 'SLE', 'SOM', 'COG', 'AGO', 'IRN', 'JOR', 'MDA',\n",
              "       'TUR', 'UZB', 'KWT', 'NPL', 'ZAF', 'RUS', 'TKM', 'UKR', 'KAZ',\n",
              "       'AZE', 'GNQ', 'MMR', 'TJK', 'DOM', 'HTI', 'KEN', 'UGA', 'CHN',\n",
              "       'DJI', 'COL', 'GAB', 'GEO', 'TUV', 'BOL', 'SAU', 'LKA', 'ESH',\n",
              "       'RWA', 'PHL', 'BDI'], dtype=object)"
            ]
          },
          "execution_count": 55,
          "metadata": {},
          "output_type": "execute_result"
        }
      ],
      "source": [
        "# Aplicación de unique para ver los valores únicos en una columna\n",
        "df_excel['ISO3 - Country of origin'].unique()"
      ]
    },
    {
      "cell_type": "code",
      "execution_count": 56,
      "metadata": {},
      "outputs": [
        {
          "data": {
            "text/plain": [
              "75"
            ]
          },
          "execution_count": 56,
          "metadata": {},
          "output_type": "execute_result"
        }
      ],
      "source": [
        "# nunique cuenta el número de valores únicos en una columna\n",
        "df_excel['ISO3 - Country of origin'].nunique()"
      ]
    },
    {
      "cell_type": "code",
      "execution_count": 57,
      "metadata": {},
      "outputs": [
        {
          "data": {
            "application/vnd.microsoft.datawrangler.viewer.v0+json": {
              "columns": [
                {
                  "name": "ISO3 - Country of origin",
                  "rawType": "object",
                  "type": "string"
                },
                {
                  "name": "count",
                  "rawType": "int64",
                  "type": "integer"
                }
              ],
              "ref": "80f6f2cb-79b3-49ca-ab50-91deea5ab55c",
              "rows": [
                [
                  "SYR",
                  "71"
                ],
                [
                  "OOO",
                  "70"
                ],
                [
                  "EGY",
                  "58"
                ],
                [
                  "MAR",
                  "58"
                ],
                [
                  "CMR",
                  "54"
                ],
                [
                  "SDN",
                  "53"
                ],
                [
                  "BGD",
                  "53"
                ],
                [
                  "GIN",
                  "52"
                ],
                [
                  "PSE",
                  "48"
                ],
                [
                  "AFG",
                  "48"
                ],
                [
                  "SOM",
                  "48"
                ],
                [
                  "MLI",
                  "47"
                ],
                [
                  "NGA",
                  "47"
                ],
                [
                  "SLE",
                  "44"
                ],
                [
                  "IRQ",
                  "43"
                ],
                [
                  "SEN",
                  "42"
                ],
                [
                  "PAK",
                  "42"
                ],
                [
                  "BFA",
                  "40"
                ],
                [
                  "CIV",
                  "40"
                ],
                [
                  "GMB",
                  "38"
                ],
                [
                  "GHA",
                  "38"
                ],
                [
                  "YEM",
                  "37"
                ],
                [
                  "DZA",
                  "35"
                ],
                [
                  "ERI",
                  "34"
                ],
                [
                  "COD",
                  "33"
                ],
                [
                  "IRN",
                  "33"
                ],
                [
                  "LBN",
                  "30"
                ],
                [
                  "TUR",
                  "30"
                ],
                [
                  "GNB",
                  "29"
                ],
                [
                  "ETH",
                  "28"
                ],
                [
                  "TGO",
                  "26"
                ],
                [
                  "TCD",
                  "26"
                ],
                [
                  "TUN",
                  "26"
                ],
                [
                  "BEN",
                  "23"
                ],
                [
                  "LBR",
                  "23"
                ],
                [
                  "IND",
                  "18"
                ],
                [
                  "LBY",
                  "18"
                ],
                [
                  "NER",
                  "17"
                ],
                [
                  "MRT",
                  "17"
                ],
                [
                  "SSD",
                  "16"
                ],
                [
                  "COG",
                  "15"
                ],
                [
                  "COM",
                  "14"
                ],
                [
                  "CAF",
                  "13"
                ],
                [
                  "KWT",
                  "12"
                ],
                [
                  "NPL",
                  "10"
                ],
                [
                  "JOR",
                  "8"
                ],
                [
                  "RUS",
                  "6"
                ],
                [
                  "UZB",
                  "6"
                ],
                [
                  "BDI",
                  "5"
                ],
                [
                  "MDA",
                  "5"
                ]
              ],
              "shape": {
                "columns": 1,
                "rows": 75
              }
            },
            "text/plain": [
              "ISO3 - Country of origin\n",
              "SYR    71\n",
              "OOO    70\n",
              "EGY    58\n",
              "MAR    58\n",
              "CMR    54\n",
              "       ..\n",
              "TUV     1\n",
              "SAU     1\n",
              "BOL     1\n",
              "ESH     1\n",
              "PHL     1\n",
              "Name: count, Length: 75, dtype: int64"
            ]
          },
          "execution_count": 57,
          "metadata": {},
          "output_type": "execute_result"
        }
      ],
      "source": [
        "# value_counts cuenta la frecuencia de cada valor en una columna\n",
        "df_excel['ISO3 - Country of origin'].value_counts()\n"
      ]
    },
    {
      "cell_type": "markdown",
      "metadata": {},
      "source": [
        "## 📌 Explorar los valores en variables continuas\n",
        "\n",
        "\n",
        "### 🏷️ Tabla de métodos para explorar valores en variables continuas\n",
        "\n",
        "| Método      | Descripción técnica                                      | ¿Qué significa? / ¿Para qué sirve?                                      |\n",
        "|-------------|---------------------------------------------------------|-------------------------------------------------------------------------|\n",
        "| `mean()`    | Calcula la media de una columna numérica.               | Promedio de los valores; tendencia central de los datos.                |\n",
        "| `median()`  | Calcula la mediana de una columna numérica.             | Valor central; útil si hay valores extremos (outliers).                 |\n",
        "| `mode()`    | Encuentra el valor más frecuente en una columna.        | Valor que más se repite; detecta modas o repeticiones.                  |\n",
        "| `std()`     | Calcula la desviación estándar de una columna.          | Mide cuánto varían los datos respecto a la media.                       |\n",
        "| `var()`     | Calcula la varianza de una columna.                     | Mide la dispersión de los datos; es el cuadrado de la desviación estándar.|\n",
        "\n",
        "Estos métodos son útiles para variables numéricas continuas.\n",
        "\n",
        ">💡 Las variables continuas son aquellas que pueden tomar cualquier valor dentro de un rango, como la altura, el peso o la temperatura. Generalmente, tienen un número infinito de valores posibles."
      ]
    },
    {
      "cell_type": "code",
      "execution_count": 58,
      "metadata": {},
      "outputs": [
        {
          "data": {
            "text/plain": [
              "np.float64(123.68798105387803)"
            ]
          },
          "execution_count": 58,
          "metadata": {},
          "output_type": "execute_result"
        }
      ],
      "source": [
        "# Calcular la media de la columna 'Arrivals'\n",
        "df_excel['Arrivals'].mean()"
      ]
    },
    {
      "cell_type": "code",
      "execution_count": 59,
      "metadata": {},
      "outputs": [
        {
          "data": {
            "text/plain": [
              "np.float64(11.0)"
            ]
          },
          "execution_count": 59,
          "metadata": {},
          "output_type": "execute_result"
        }
      ],
      "source": [
        "# Calcular la mediana de la columna 'Arrivals'\n",
        "df_excel['Arrivals'].median()"
      ]
    },
    {
      "cell_type": "code",
      "execution_count": 62,
      "metadata": {},
      "outputs": [
        {
          "data": {
            "text/plain": [
              "np.int64(1)"
            ]
          },
          "execution_count": 62,
          "metadata": {},
          "output_type": "execute_result"
        }
      ],
      "source": [
        "# Calcular la moda de la columna 'Arrivals'\n",
        "df_excel['Arrivals'].mode()[0]"
      ]
    },
    {
      "cell_type": "code",
      "execution_count": 63,
      "metadata": {},
      "outputs": [
        {
          "data": {
            "text/plain": [
              "np.float64(343.43610663419844)"
            ]
          },
          "execution_count": 63,
          "metadata": {},
          "output_type": "execute_result"
        }
      ],
      "source": [
        "# Calcular la desviación estándar de la columna 'Arrivals'\n",
        "df_excel['Arrivals'].std()\n"
      ]
    },
    {
      "cell_type": "code",
      "execution_count": 64,
      "metadata": {},
      "outputs": [
        {
          "data": {
            "text/plain": [
              "np.float64(117948.35934005652)"
            ]
          },
          "execution_count": 64,
          "metadata": {},
          "output_type": "execute_result"
        }
      ],
      "source": [
        "#Calcular la varianza de la columna 'Arrivals'\n",
        "df_excel['Arrivals'].var() "
      ]
    },
    {
      "cell_type": "markdown",
      "metadata": {},
      "source": [
        "## 📌 Operaciones con valores de columnas numéricas\n",
        "\n",
        "### 🏷️ Tabla de métodos para operaciones con columnas numéricas\n",
        "\n",
        "| Método               | Descripción                                      |\n",
        "|----------------------|--------------------------------------------------|\n",
        "| `sum()`             | Suma todos los valores en una columna numérica.   |\n",
        "| `min()`             | Encuentra el valor mínimo en una columna numérica. |\n",
        "| `max()`             | Encuentra el valor máximo en una columna numérica. |\n"
      ]
    },
    {
      "cell_type": "code",
      "execution_count": 65,
      "metadata": {},
      "outputs": [
        {
          "data": {
            "text/plain": [
              "np.int64(208909)"
            ]
          },
          "execution_count": 65,
          "metadata": {},
          "output_type": "execute_result"
        }
      ],
      "source": [
        "# sumar todos los valores en una columna numérica\n",
        "df_excel['Arrivals'].sum()"
      ]
    },
    {
      "cell_type": "code",
      "execution_count": 66,
      "metadata": {},
      "outputs": [
        {
          "data": {
            "text/plain": [
              "np.int64(-341)"
            ]
          },
          "execution_count": 66,
          "metadata": {},
          "output_type": "execute_result"
        }
      ],
      "source": [
        "#valor mínimo de la columna 'Arrivals'\n",
        "df_excel['Arrivals'].min()"
      ]
    },
    {
      "cell_type": "code",
      "execution_count": 67,
      "metadata": {},
      "outputs": [
        {
          "data": {
            "text/plain": [
              "np.int64(4232)"
            ]
          },
          "execution_count": 67,
          "metadata": {},
          "output_type": "execute_result"
        }
      ],
      "source": [
        "#valor máximo\n",
        "df_excel['Arrivals'].max()"
      ]
    },
    {
      "cell_type": "markdown",
      "metadata": {},
      "source": [
        "## 📌 Explorar datos agrupando (group_by) \n",
        "\n",
        "Se usa para resumir información cuando tenemos datos que pertenecen a distintos grupos o categorías.\n",
        "\n",
        "> 💡 Ejemplo: si tenemos un listado de viajes de Uber, podemos usar groupby(\"Vehicle Type\")[\"Price\"].mean() para obtener el precio promedio por tipo de vehículo.\n",
        "\n",
        "| Método                               | Descripción                                                          |\n",
        "| ------------------------------------ | -------------------------------------------------------------------- |\n",
        "| `groupby(\"col\")[\"otra\"].mean()`      | Calcula el promedio de otra columna dentro de cada grupo.            |\n",
        "| `groupby(\"col\")[\"otra\"].sum()`       | Calcula la suma de otra columna en cada grupo.                       |\n",
        "| `groupby(\"col\")[\"otra\"].count()`     | Cuenta cuántos registros hay en cada grupo.                          |\n",
        "| `groupby([\"col1\",\"col2\"])`           | Agrupa por más de una columna (grupos combinados).                   |\n",
        "| `.agg({\"col1\":\"mean\",\"col2\":\"sum\"})` | Permite aplicar varias funciones a la vez sobre diferentes columnas. |\n"
      ]
    },
    {
      "cell_type": "code",
      "execution_count": 68,
      "metadata": {},
      "outputs": [
        {
          "data": {
            "text/plain": [
              "<pandas.core.groupby.generic.DataFrameGroupBy object at 0x000001D2C25C7CB0>"
            ]
          },
          "execution_count": 68,
          "metadata": {},
          "output_type": "execute_result"
        }
      ],
      "source": [
        "df_excel.groupby(\"ISO3 - Country of origin\")"
      ]
    },
    {
      "cell_type": "markdown",
      "metadata": {},
      "source": [
        "> Al hacer group by simple, obtenemos un objeto DataFrameGroupBy. Para ver resultados, normalmente aplicamos una función agregada como sum(), mean(), count(), etc., combinando columnas numéricas con categóricas"
      ]
    },
    {
      "cell_type": "code",
      "execution_count": 69,
      "metadata": {},
      "outputs": [
        {
          "data": {
            "application/vnd.microsoft.datawrangler.viewer.v0+json": {
              "columns": [
                {
                  "name": "ISO3 - Country of origin",
                  "rawType": "object",
                  "type": "string"
                },
                {
                  "name": "Arrivals",
                  "rawType": "float64",
                  "type": "float"
                }
              ],
              "ref": "63f5e9b8-a141-4077-885a-e711a7d877b4",
              "rows": [
                [
                  "AFG",
                  "377.5833333333333"
                ],
                [
                  "AGO",
                  "1.6666666666666667"
                ],
                [
                  "AZE",
                  "2.0"
                ],
                [
                  "BDI",
                  "6.0"
                ],
                [
                  "BEN",
                  "5.391304347826087"
                ],
                [
                  "BFA",
                  "16.5"
                ],
                [
                  "BGD",
                  "288.75471698113205"
                ],
                [
                  "BOL",
                  "2.0"
                ],
                [
                  "CAF",
                  "2.0"
                ],
                [
                  "CHN",
                  "3.0"
                ],
                [
                  "CIV",
                  "57.175"
                ],
                [
                  "CMR",
                  "27.462962962962962"
                ],
                [
                  "COD",
                  "9.575757575757576"
                ],
                [
                  "COG",
                  "3.466666666666667"
                ],
                [
                  "COL",
                  "1.0"
                ],
                [
                  "COM",
                  "22.642857142857142"
                ],
                [
                  "DJI",
                  "2.6666666666666665"
                ],
                [
                  "DOM",
                  "2.5"
                ],
                [
                  "DZA",
                  "329.0285714285714"
                ],
                [
                  "EGY",
                  "199.8448275862069"
                ],
                [
                  "ERI",
                  "129.02941176470588"
                ],
                [
                  "ESH",
                  "1.0"
                ],
                [
                  "ETH",
                  "49.607142857142854"
                ],
                [
                  "GAB",
                  "1.3333333333333333"
                ],
                [
                  "GEO",
                  "1.0"
                ],
                [
                  "GHA",
                  "12.342105263157896"
                ],
                [
                  "GIN",
                  "160.84615384615384"
                ],
                [
                  "GMB",
                  "117.57894736842105"
                ],
                [
                  "GNB",
                  "10.10344827586207"
                ],
                [
                  "GNQ",
                  "2.75"
                ],
                [
                  "HTI",
                  "1.0"
                ],
                [
                  "IND",
                  "3.5"
                ],
                [
                  "IRN",
                  "71.96969696969697"
                ],
                [
                  "IRQ",
                  "66.23255813953489"
                ],
                [
                  "JOR",
                  "3.75"
                ],
                [
                  "KAZ",
                  "1.5"
                ],
                [
                  "KEN",
                  "1.3333333333333333"
                ],
                [
                  "KWT",
                  "45.416666666666664"
                ],
                [
                  "LBN",
                  "4.2"
                ],
                [
                  "LBR",
                  "3.0434782608695654"
                ],
                [
                  "LBY",
                  "13.333333333333334"
                ],
                [
                  "LKA",
                  "3.6666666666666665"
                ],
                [
                  "MAR",
                  "161.67241379310346"
                ],
                [
                  "MDA",
                  "2.4"
                ],
                [
                  "MLI",
                  "408.6595744680851"
                ],
                [
                  "MMR",
                  "1.0"
                ],
                [
                  "MRT",
                  "182.88235294117646"
                ],
                [
                  "NER",
                  "1.8823529411764706"
                ],
                [
                  "NGA",
                  "23.02127659574468"
                ],
                [
                  "NPL",
                  "3.2"
                ]
              ],
              "shape": {
                "columns": 1,
                "rows": 75
              }
            },
            "text/plain": [
              "ISO3 - Country of origin\n",
              "AFG    377.583333\n",
              "AGO      1.666667\n",
              "AZE      2.000000\n",
              "BDI      6.000000\n",
              "BEN      5.391304\n",
              "          ...    \n",
              "UGA      2.200000\n",
              "UKR      2.666667\n",
              "UZB      1.833333\n",
              "YEM     42.648649\n",
              "ZAF      2.666667\n",
              "Name: Arrivals, Length: 75, dtype: float64"
            ]
          },
          "execution_count": 69,
          "metadata": {},
          "output_type": "execute_result"
        }
      ],
      "source": [
        "# Agrupar por país de origen y ver la media\n",
        "df_excel.groupby(\"ISO3 - Country of origin\")[\"Arrivals\"].mean()"
      ]
    },
    {
      "cell_type": "code",
      "execution_count": 70,
      "metadata": {},
      "outputs": [
        {
          "data": {
            "application/vnd.microsoft.datawrangler.viewer.v0+json": {
              "columns": [
                {
                  "name": "ISO3 - Country of origin",
                  "rawType": "object",
                  "type": "string"
                },
                {
                  "name": "Arrivals",
                  "rawType": "int64",
                  "type": "integer"
                }
              ],
              "ref": "899ad3d5-e98a-4ace-a7b1-38fa6b35732b",
              "rows": [
                [
                  "AFG",
                  "18124"
                ],
                [
                  "AGO",
                  "5"
                ],
                [
                  "AZE",
                  "4"
                ],
                [
                  "BDI",
                  "30"
                ],
                [
                  "BEN",
                  "124"
                ],
                [
                  "BFA",
                  "660"
                ],
                [
                  "BGD",
                  "15304"
                ],
                [
                  "BOL",
                  "2"
                ],
                [
                  "CAF",
                  "26"
                ],
                [
                  "CHN",
                  "6"
                ],
                [
                  "CIV",
                  "2287"
                ],
                [
                  "CMR",
                  "1483"
                ],
                [
                  "COD",
                  "316"
                ],
                [
                  "COG",
                  "52"
                ],
                [
                  "COL",
                  "1"
                ],
                [
                  "COM",
                  "317"
                ],
                [
                  "DJI",
                  "8"
                ],
                [
                  "DOM",
                  "5"
                ],
                [
                  "DZA",
                  "11516"
                ],
                [
                  "EGY",
                  "11591"
                ],
                [
                  "ERI",
                  "4387"
                ],
                [
                  "ESH",
                  "1"
                ],
                [
                  "ETH",
                  "1389"
                ],
                [
                  "GAB",
                  "4"
                ],
                [
                  "GEO",
                  "2"
                ],
                [
                  "GHA",
                  "469"
                ],
                [
                  "GIN",
                  "8364"
                ],
                [
                  "GMB",
                  "4468"
                ],
                [
                  "GNB",
                  "293"
                ],
                [
                  "GNQ",
                  "11"
                ],
                [
                  "HTI",
                  "4"
                ],
                [
                  "IND",
                  "63"
                ],
                [
                  "IRN",
                  "2375"
                ],
                [
                  "IRQ",
                  "2848"
                ],
                [
                  "JOR",
                  "30"
                ],
                [
                  "KAZ",
                  "3"
                ],
                [
                  "KEN",
                  "4"
                ],
                [
                  "KWT",
                  "545"
                ],
                [
                  "LBN",
                  "126"
                ],
                [
                  "LBR",
                  "70"
                ],
                [
                  "LBY",
                  "240"
                ],
                [
                  "LKA",
                  "11"
                ],
                [
                  "MAR",
                  "9377"
                ],
                [
                  "MDA",
                  "12"
                ],
                [
                  "MLI",
                  "19207"
                ],
                [
                  "MMR",
                  "1"
                ],
                [
                  "MRT",
                  "3109"
                ],
                [
                  "NER",
                  "32"
                ],
                [
                  "NGA",
                  "1082"
                ],
                [
                  "NPL",
                  "32"
                ]
              ],
              "shape": {
                "columns": 1,
                "rows": 75
              }
            },
            "text/plain": [
              "ISO3 - Country of origin\n",
              "AFG    18124\n",
              "AGO        5\n",
              "AZE        4\n",
              "BDI       30\n",
              "BEN      124\n",
              "       ...  \n",
              "UGA       11\n",
              "UKR        8\n",
              "UZB       11\n",
              "YEM     1578\n",
              "ZAF        8\n",
              "Name: Arrivals, Length: 75, dtype: int64"
            ]
          },
          "execution_count": 70,
          "metadata": {},
          "output_type": "execute_result"
        }
      ],
      "source": [
        "# Agrupar por país de origen y sumar llegadas\n",
        "df_excel.groupby(\"ISO3 - Country of origin\")[\"Arrivals\"].sum()"
      ]
    },
    {
      "cell_type": "code",
      "execution_count": 71,
      "metadata": {},
      "outputs": [],
      "source": [
        "# Agrupar por 2 columnas\n",
        "grouped = df_excel.groupby(['ISO3 - Country of origin', 'ISO3 - Country of arrival'])"
      ]
    },
    {
      "cell_type": "code",
      "execution_count": 72,
      "metadata": {},
      "outputs": [],
      "source": [
        "# Agrupar por 2 columnas\n",
        "grouped = df_excel.groupby([\n",
        "    'ISO3 - Country of origin',\n",
        "    'ISO3 - Country of arrival'\n",
        "    ])[\"Arrivals\"].sum()"
      ]
    },
    {
      "cell_type": "code",
      "execution_count": 73,
      "metadata": {},
      "outputs": [
        {
          "data": {
            "application/vnd.microsoft.datawrangler.viewer.v0+json": {
              "columns": [
                {
                  "name": "('ISO3 - Country of origin', 'ISO3 - Country of arrival')",
                  "rawType": "object",
                  "type": "unknown"
                },
                {
                  "name": "Arrivals",
                  "rawType": "int64",
                  "type": "integer"
                }
              ],
              "ref": "8d75ff86-d4be-401e-bd95-d35d2196d5b1",
              "rows": [
                [
                  "('AFG', 'BGR')",
                  "1759"
                ],
                [
                  "('AFG', 'CYP')",
                  "450"
                ],
                [
                  "('AFG', 'ESP')",
                  "15"
                ],
                [
                  "('AFG', 'GRC')",
                  "14744"
                ],
                [
                  "('AFG', 'ITA')",
                  "1156"
                ],
                [
                  "('AGO', 'GRC')",
                  "4"
                ],
                [
                  "('AGO', 'ITA')",
                  "1"
                ],
                [
                  "('AZE', 'GRC')",
                  "2"
                ],
                [
                  "('AZE', 'ITA')",
                  "2"
                ],
                [
                  "('BDI', 'CYP')",
                  "30"
                ],
                [
                  "('BEN', 'ESP')",
                  "41"
                ],
                [
                  "('BEN', 'GRC')",
                  "1"
                ],
                [
                  "('BEN', 'ITA')",
                  "82"
                ],
                [
                  "('BFA', 'ESP')",
                  "197"
                ],
                [
                  "('BFA', 'GRC')",
                  "12"
                ],
                [
                  "('BFA', 'ITA')",
                  "451"
                ],
                [
                  "('BGD', 'CYP')",
                  "40"
                ],
                [
                  "('BGD', 'ESP')",
                  "168"
                ],
                [
                  "('BGD', 'GRC')",
                  "699"
                ],
                [
                  "('BGD', 'ITA')",
                  "14284"
                ],
                [
                  "('BGD', 'MLT')",
                  "113"
                ],
                [
                  "('BOL', 'GRC')",
                  "2"
                ],
                [
                  "('CAF', 'ESP')",
                  "14"
                ],
                [
                  "('CAF', 'GRC')",
                  "1"
                ],
                [
                  "('CAF', 'ITA')",
                  "11"
                ],
                [
                  "('CHN', 'GRC')",
                  "6"
                ],
                [
                  "('CIV', 'ESP')",
                  "1210"
                ],
                [
                  "('CIV', 'GRC')",
                  "9"
                ],
                [
                  "('CIV', 'ITA')",
                  "1068"
                ],
                [
                  "('CMR', 'CYP')",
                  "70"
                ],
                [
                  "('CMR', 'ESP')",
                  "147"
                ],
                [
                  "('CMR', 'GRC')",
                  "180"
                ],
                [
                  "('CMR', 'ITA')",
                  "1086"
                ],
                [
                  "('COD', 'CYP')",
                  "145"
                ],
                [
                  "('COD', 'ESP')",
                  "29"
                ],
                [
                  "('COD', 'GRC')",
                  "115"
                ],
                [
                  "('COD', 'ITA')",
                  "27"
                ],
                [
                  "('COG', 'CYP')",
                  "5"
                ],
                [
                  "('COG', 'ESP')",
                  "14"
                ],
                [
                  "('COG', 'GRC')",
                  "29"
                ],
                [
                  "('COG', 'ITA')",
                  "4"
                ],
                [
                  "('COL', 'GRC')",
                  "1"
                ],
                [
                  "('COM', 'ESP')",
                  "267"
                ],
                [
                  "('COM', 'ITA')",
                  "50"
                ],
                [
                  "('DJI', 'GRC')",
                  "8"
                ],
                [
                  "('DOM', 'GRC')",
                  "5"
                ],
                [
                  "('DZA', 'ESP')",
                  "10039"
                ],
                [
                  "('DZA', 'GRC')",
                  "31"
                ],
                [
                  "('DZA', 'ITA')",
                  "1446"
                ],
                [
                  "('EGY', 'BGR')",
                  "356"
                ]
              ],
              "shape": {
                "columns": 1,
                "rows": 216
              }
            },
            "text/plain": [
              "ISO3 - Country of origin  ISO3 - Country of arrival\n",
              "AFG                       BGR                           1759\n",
              "                          CYP                            450\n",
              "                          ESP                             15\n",
              "                          GRC                          14744\n",
              "                          ITA                           1156\n",
              "                                                       ...  \n",
              "YEM                       GRC                           1466\n",
              "                          ITA                             29\n",
              "ZAF                       CYP                              5\n",
              "                          ESP                              2\n",
              "                          ITA                              1\n",
              "Name: Arrivals, Length: 216, dtype: int64"
            ]
          },
          "execution_count": 73,
          "metadata": {},
          "output_type": "execute_result"
        }
      ],
      "source": [
        "grouped"
      ]
    },
    {
      "cell_type": "markdown",
      "metadata": {},
      "source": [
        "# 🔄 4. Transformaciones de datos\n",
        "En este bloque aprenderemos a **manipular y transformar** nuestros datos en Pandas. \n",
        "\n",
        "Veremos cómo **añadir, eliminar y renombrar columnas**, así como manejar los valores faltantes con **fillna** y **dropna**.\n",
        "\n",
        "Tabla de resumen de métodos para transformar datos en Pandas:\n",
        "| Método               | Descripción                                      |\n",
        "|----------------------|--------------------------------------------------|\n",
        "| `assign()`           | Añade nuevas columnas al DataFrame.              |\n",
        "| `drop()`             | Elimina filas o columnas del DataFrame.          |\n",
        "| `rename()`           | Cambia los nombres de las columnas o índices.    |\n",
        "| `fillna()`           | Rellena los valores faltantes con un valor específico o método. |\n",
        "| `dropna()`           | Elimina filas o columnas con valores faltantes.   |"
      ]
    },
    {
      "cell_type": "markdown",
      "metadata": {},
      "source": [
        "## 📌 Añadir, eliminar y renombrar columnas"
      ]
    },
    {
      "cell_type": "code",
      "execution_count": 104,
      "metadata": {},
      "outputs": [
        {
          "data": {
            "application/vnd.microsoft.datawrangler.viewer.v0+json": {
              "columns": [
                {
                  "name": "index",
                  "rawType": "int64",
                  "type": "integer"
                },
                {
                  "name": "Country_of_origin",
                  "rawType": "object",
                  "type": "string"
                },
                {
                  "name": "Country_of_arrival",
                  "rawType": "object",
                  "type": "string"
                },
                {
                  "name": "Date",
                  "rawType": "datetime64[ns]",
                  "type": "datetime"
                },
                {
                  "name": "Arrivals",
                  "rawType": "int64",
                  "type": "integer"
                },
                {
                  "name": "Month",
                  "rawType": "int64",
                  "type": "integer"
                },
                {
                  "name": "Source",
                  "rawType": "object",
                  "type": "string"
                },
                {
                  "name": "New_Column",
                  "rawType": "object",
                  "type": "string"
                }
              ],
              "ref": "f84ee1b8-0d67-421a-80bc-e90340ad35f0",
              "rows": [
                [
                  "0",
                  "BGD",
                  "MLT",
                  "2024-01-31 00:00:00",
                  "7",
                  "1",
                  "Maltese Minitry of Home Affairs, Security and Employment",
                  "Default_Value"
                ],
                [
                  "1",
                  "EGY",
                  "MLT",
                  "2024-01-31 00:00:00",
                  "1",
                  "1",
                  "Maltese Minitry of Home Affairs, Security and Employment",
                  "Default_Value"
                ],
                [
                  "2",
                  "PAK",
                  "MLT",
                  "2024-01-31 00:00:00",
                  "22",
                  "1",
                  "Maltese Minitry of Home Affairs, Security and Employment",
                  "Default_Value"
                ],
                [
                  "3",
                  "SDN",
                  "MLT",
                  "2024-01-31 00:00:00",
                  "1",
                  "1",
                  "Maltese Minitry of Home Affairs, Security and Employment",
                  "Default_Value"
                ],
                [
                  "4",
                  "SYR",
                  "MLT",
                  "2024-01-31 00:00:00",
                  "4",
                  "1",
                  "Maltese Minitry of Home Affairs, Security and Employment",
                  "Default_Value"
                ]
              ],
              "shape": {
                "columns": 7,
                "rows": 5
              }
            },
            "text/html": [
              "<div>\n",
              "<style scoped>\n",
              "    .dataframe tbody tr th:only-of-type {\n",
              "        vertical-align: middle;\n",
              "    }\n",
              "\n",
              "    .dataframe tbody tr th {\n",
              "        vertical-align: top;\n",
              "    }\n",
              "\n",
              "    .dataframe thead th {\n",
              "        text-align: right;\n",
              "    }\n",
              "</style>\n",
              "<table border=\"1\" class=\"dataframe\">\n",
              "  <thead>\n",
              "    <tr style=\"text-align: right;\">\n",
              "      <th></th>\n",
              "      <th>Country_of_origin</th>\n",
              "      <th>Country_of_arrival</th>\n",
              "      <th>Date</th>\n",
              "      <th>Arrivals</th>\n",
              "      <th>Month</th>\n",
              "      <th>Source</th>\n",
              "      <th>New_Column</th>\n",
              "    </tr>\n",
              "  </thead>\n",
              "  <tbody>\n",
              "    <tr>\n",
              "      <th>0</th>\n",
              "      <td>BGD</td>\n",
              "      <td>MLT</td>\n",
              "      <td>2024-01-31</td>\n",
              "      <td>7</td>\n",
              "      <td>1</td>\n",
              "      <td>Maltese Minitry of Home Affairs, Security and ...</td>\n",
              "      <td>Default_Value</td>\n",
              "    </tr>\n",
              "    <tr>\n",
              "      <th>1</th>\n",
              "      <td>EGY</td>\n",
              "      <td>MLT</td>\n",
              "      <td>2024-01-31</td>\n",
              "      <td>1</td>\n",
              "      <td>1</td>\n",
              "      <td>Maltese Minitry of Home Affairs, Security and ...</td>\n",
              "      <td>Default_Value</td>\n",
              "    </tr>\n",
              "    <tr>\n",
              "      <th>2</th>\n",
              "      <td>PAK</td>\n",
              "      <td>MLT</td>\n",
              "      <td>2024-01-31</td>\n",
              "      <td>22</td>\n",
              "      <td>1</td>\n",
              "      <td>Maltese Minitry of Home Affairs, Security and ...</td>\n",
              "      <td>Default_Value</td>\n",
              "    </tr>\n",
              "    <tr>\n",
              "      <th>3</th>\n",
              "      <td>SDN</td>\n",
              "      <td>MLT</td>\n",
              "      <td>2024-01-31</td>\n",
              "      <td>1</td>\n",
              "      <td>1</td>\n",
              "      <td>Maltese Minitry of Home Affairs, Security and ...</td>\n",
              "      <td>Default_Value</td>\n",
              "    </tr>\n",
              "    <tr>\n",
              "      <th>4</th>\n",
              "      <td>SYR</td>\n",
              "      <td>MLT</td>\n",
              "      <td>2024-01-31</td>\n",
              "      <td>4</td>\n",
              "      <td>1</td>\n",
              "      <td>Maltese Minitry of Home Affairs, Security and ...</td>\n",
              "      <td>Default_Value</td>\n",
              "    </tr>\n",
              "  </tbody>\n",
              "</table>\n",
              "</div>"
            ],
            "text/plain": [
              "  Country_of_origin Country_of_arrival       Date  Arrivals  Month  \\\n",
              "0               BGD                MLT 2024-01-31         7      1   \n",
              "1               EGY                MLT 2024-01-31         1      1   \n",
              "2               PAK                MLT 2024-01-31        22      1   \n",
              "3               SDN                MLT 2024-01-31         1      1   \n",
              "4               SYR                MLT 2024-01-31         4      1   \n",
              "\n",
              "                                              Source     New_Column  \n",
              "0  Maltese Minitry of Home Affairs, Security and ...  Default_Value  \n",
              "1  Maltese Minitry of Home Affairs, Security and ...  Default_Value  \n",
              "2  Maltese Minitry of Home Affairs, Security and ...  Default_Value  \n",
              "3  Maltese Minitry of Home Affairs, Security and ...  Default_Value  \n",
              "4  Maltese Minitry of Home Affairs, Security and ...  Default_Value  "
            ]
          },
          "execution_count": 104,
          "metadata": {},
          "output_type": "execute_result"
        }
      ],
      "source": [
        "# Añadir una nueva columna\n",
        "df_excel['New_Column'] = 'Default_Value'\n",
        "df_excel.head()"
      ]
    },
    {
      "cell_type": "code",
      "execution_count": 105,
      "metadata": {},
      "outputs": [
        {
          "ename": "KeyError",
          "evalue": "'Year'",
          "output_type": "error",
          "traceback": [
            "\u001b[31m---------------------------------------------------------------------------\u001b[39m",
            "\u001b[31mKeyError\u001b[39m                                  Traceback (most recent call last)",
            "\u001b[36mFile \u001b[39m\u001b[32mc:\\Users\\amval\\miniconda3\\Lib\\site-packages\\pandas\\core\\indexes\\base.py:3812\u001b[39m, in \u001b[36mIndex.get_loc\u001b[39m\u001b[34m(self, key)\u001b[39m\n\u001b[32m   3811\u001b[39m \u001b[38;5;28;01mtry\u001b[39;00m:\n\u001b[32m-> \u001b[39m\u001b[32m3812\u001b[39m     \u001b[38;5;28;01mreturn\u001b[39;00m \u001b[38;5;28;43mself\u001b[39;49m\u001b[43m.\u001b[49m\u001b[43m_engine\u001b[49m\u001b[43m.\u001b[49m\u001b[43mget_loc\u001b[49m\u001b[43m(\u001b[49m\u001b[43mcasted_key\u001b[49m\u001b[43m)\u001b[49m\n\u001b[32m   3813\u001b[39m \u001b[38;5;28;01mexcept\u001b[39;00m \u001b[38;5;167;01mKeyError\u001b[39;00m \u001b[38;5;28;01mas\u001b[39;00m err:\n",
            "\u001b[36mFile \u001b[39m\u001b[32mpandas/_libs/index.pyx:167\u001b[39m, in \u001b[36mpandas._libs.index.IndexEngine.get_loc\u001b[39m\u001b[34m()\u001b[39m\n",
            "\u001b[36mFile \u001b[39m\u001b[32mpandas/_libs/index.pyx:196\u001b[39m, in \u001b[36mpandas._libs.index.IndexEngine.get_loc\u001b[39m\u001b[34m()\u001b[39m\n",
            "\u001b[36mFile \u001b[39m\u001b[32mpandas/_libs/hashtable_class_helper.pxi:7088\u001b[39m, in \u001b[36mpandas._libs.hashtable.PyObjectHashTable.get_item\u001b[39m\u001b[34m()\u001b[39m\n",
            "\u001b[36mFile \u001b[39m\u001b[32mpandas/_libs/hashtable_class_helper.pxi:7096\u001b[39m, in \u001b[36mpandas._libs.hashtable.PyObjectHashTable.get_item\u001b[39m\u001b[34m()\u001b[39m\n",
            "\u001b[31mKeyError\u001b[39m: 'Year'",
            "\nThe above exception was the direct cause of the following exception:\n",
            "\u001b[31mKeyError\u001b[39m                                  Traceback (most recent call last)",
            "\u001b[36mCell\u001b[39m\u001b[36m \u001b[39m\u001b[32mIn[105]\u001b[39m\u001b[32m, line 2\u001b[39m\n\u001b[32m      1\u001b[39m \u001b[38;5;66;03m#Esto se puede utilizar para crear columnas basadas en cálculos o transformaciones de otras columnas. Por ejemplo:\u001b[39;00m\n\u001b[32m----> \u001b[39m\u001b[32m2\u001b[39m df_excel[\u001b[33m'\u001b[39m\u001b[33mYear_plus_1\u001b[39m\u001b[33m'\u001b[39m] = \u001b[43mdf_excel\u001b[49m\u001b[43m[\u001b[49m\u001b[33;43m'\u001b[39;49m\u001b[33;43mYear\u001b[39;49m\u001b[33;43m'\u001b[39;49m\u001b[43m]\u001b[49m + \u001b[32m1\u001b[39m\n\u001b[32m      3\u001b[39m df_excel.head()\n",
            "\u001b[36mFile \u001b[39m\u001b[32mc:\\Users\\amval\\miniconda3\\Lib\\site-packages\\pandas\\core\\frame.py:4107\u001b[39m, in \u001b[36mDataFrame.__getitem__\u001b[39m\u001b[34m(self, key)\u001b[39m\n\u001b[32m   4105\u001b[39m \u001b[38;5;28;01mif\u001b[39;00m \u001b[38;5;28mself\u001b[39m.columns.nlevels > \u001b[32m1\u001b[39m:\n\u001b[32m   4106\u001b[39m     \u001b[38;5;28;01mreturn\u001b[39;00m \u001b[38;5;28mself\u001b[39m._getitem_multilevel(key)\n\u001b[32m-> \u001b[39m\u001b[32m4107\u001b[39m indexer = \u001b[38;5;28;43mself\u001b[39;49m\u001b[43m.\u001b[49m\u001b[43mcolumns\u001b[49m\u001b[43m.\u001b[49m\u001b[43mget_loc\u001b[49m\u001b[43m(\u001b[49m\u001b[43mkey\u001b[49m\u001b[43m)\u001b[49m\n\u001b[32m   4108\u001b[39m \u001b[38;5;28;01mif\u001b[39;00m is_integer(indexer):\n\u001b[32m   4109\u001b[39m     indexer = [indexer]\n",
            "\u001b[36mFile \u001b[39m\u001b[32mc:\\Users\\amval\\miniconda3\\Lib\\site-packages\\pandas\\core\\indexes\\base.py:3819\u001b[39m, in \u001b[36mIndex.get_loc\u001b[39m\u001b[34m(self, key)\u001b[39m\n\u001b[32m   3814\u001b[39m     \u001b[38;5;28;01mif\u001b[39;00m \u001b[38;5;28misinstance\u001b[39m(casted_key, \u001b[38;5;28mslice\u001b[39m) \u001b[38;5;129;01mor\u001b[39;00m (\n\u001b[32m   3815\u001b[39m         \u001b[38;5;28misinstance\u001b[39m(casted_key, abc.Iterable)\n\u001b[32m   3816\u001b[39m         \u001b[38;5;129;01mand\u001b[39;00m \u001b[38;5;28many\u001b[39m(\u001b[38;5;28misinstance\u001b[39m(x, \u001b[38;5;28mslice\u001b[39m) \u001b[38;5;28;01mfor\u001b[39;00m x \u001b[38;5;129;01min\u001b[39;00m casted_key)\n\u001b[32m   3817\u001b[39m     ):\n\u001b[32m   3818\u001b[39m         \u001b[38;5;28;01mraise\u001b[39;00m InvalidIndexError(key)\n\u001b[32m-> \u001b[39m\u001b[32m3819\u001b[39m     \u001b[38;5;28;01mraise\u001b[39;00m \u001b[38;5;167;01mKeyError\u001b[39;00m(key) \u001b[38;5;28;01mfrom\u001b[39;00m\u001b[38;5;250m \u001b[39m\u001b[34;01merr\u001b[39;00m\n\u001b[32m   3820\u001b[39m \u001b[38;5;28;01mexcept\u001b[39;00m \u001b[38;5;167;01mTypeError\u001b[39;00m:\n\u001b[32m   3821\u001b[39m     \u001b[38;5;66;03m# If we have a listlike key, _check_indexing_error will raise\u001b[39;00m\n\u001b[32m   3822\u001b[39m     \u001b[38;5;66;03m#  InvalidIndexError. Otherwise we fall through and re-raise\u001b[39;00m\n\u001b[32m   3823\u001b[39m     \u001b[38;5;66;03m#  the TypeError.\u001b[39;00m\n\u001b[32m   3824\u001b[39m     \u001b[38;5;28mself\u001b[39m._check_indexing_error(key)\n",
            "\u001b[31mKeyError\u001b[39m: 'Year'"
          ]
        }
      ],
      "source": [
        "#Esto se puede utilizar para crear columnas basadas en cálculos o transformaciones de otras columnas. Por ejemplo:\n",
        "df_excel['Year_plus_1'] = df_excel['Year'] + 1\n",
        "df_excel.head()"
      ]
    },
    {
      "cell_type": "code",
      "execution_count": null,
      "metadata": {},
      "outputs": [
        {
          "ename": "KeyError",
          "evalue": "\"['New_Column'] not found in axis\"",
          "output_type": "error",
          "traceback": [
            "\u001b[31m---------------------------------------------------------------------------\u001b[39m",
            "\u001b[31mKeyError\u001b[39m                                  Traceback (most recent call last)",
            "\u001b[36mCell\u001b[39m\u001b[36m \u001b[39m\u001b[32mIn[81]\u001b[39m\u001b[32m, line 2\u001b[39m\n\u001b[32m      1\u001b[39m \u001b[38;5;66;03m# Eliminar una columna\u001b[39;00m\n\u001b[32m----> \u001b[39m\u001b[32m2\u001b[39m \u001b[43mdf_excel\u001b[49m\u001b[43m.\u001b[49m\u001b[43mdrop\u001b[49m\u001b[43m(\u001b[49m\u001b[43mcolumns\u001b[49m\u001b[43m=\u001b[49m\u001b[43m[\u001b[49m\u001b[33;43m'\u001b[39;49m\u001b[33;43mNew_Column\u001b[39;49m\u001b[33;43m'\u001b[39;49m\u001b[43m]\u001b[49m\u001b[43m,\u001b[49m\u001b[43m \u001b[49m\u001b[43minplace\u001b[49m\u001b[43m=\u001b[49m\u001b[38;5;28;43;01mTrue\u001b[39;49;00m\u001b[43m)\u001b[49m\n\u001b[32m      3\u001b[39m df_excel.head()\n",
            "\u001b[36mFile \u001b[39m\u001b[32mc:\\Users\\amval\\miniconda3\\Lib\\site-packages\\pandas\\core\\frame.py:5588\u001b[39m, in \u001b[36mDataFrame.drop\u001b[39m\u001b[34m(self, labels, axis, index, columns, level, inplace, errors)\u001b[39m\n\u001b[32m   5440\u001b[39m \u001b[38;5;28;01mdef\u001b[39;00m\u001b[38;5;250m \u001b[39m\u001b[34mdrop\u001b[39m(\n\u001b[32m   5441\u001b[39m     \u001b[38;5;28mself\u001b[39m,\n\u001b[32m   5442\u001b[39m     labels: IndexLabel | \u001b[38;5;28;01mNone\u001b[39;00m = \u001b[38;5;28;01mNone\u001b[39;00m,\n\u001b[32m   (...)\u001b[39m\u001b[32m   5449\u001b[39m     errors: IgnoreRaise = \u001b[33m\"\u001b[39m\u001b[33mraise\u001b[39m\u001b[33m\"\u001b[39m,\n\u001b[32m   5450\u001b[39m ) -> DataFrame | \u001b[38;5;28;01mNone\u001b[39;00m:\n\u001b[32m   5451\u001b[39m \u001b[38;5;250m    \u001b[39m\u001b[33;03m\"\"\"\u001b[39;00m\n\u001b[32m   5452\u001b[39m \u001b[33;03m    Drop specified labels from rows or columns.\u001b[39;00m\n\u001b[32m   5453\u001b[39m \n\u001b[32m   (...)\u001b[39m\u001b[32m   5586\u001b[39m \u001b[33;03m            weight  1.0     0.8\u001b[39;00m\n\u001b[32m   5587\u001b[39m \u001b[33;03m    \"\"\"\u001b[39;00m\n\u001b[32m-> \u001b[39m\u001b[32m5588\u001b[39m     \u001b[38;5;28;01mreturn\u001b[39;00m \u001b[38;5;28;43msuper\u001b[39;49m\u001b[43m(\u001b[49m\u001b[43m)\u001b[49m\u001b[43m.\u001b[49m\u001b[43mdrop\u001b[49m\u001b[43m(\u001b[49m\n\u001b[32m   5589\u001b[39m \u001b[43m        \u001b[49m\u001b[43mlabels\u001b[49m\u001b[43m=\u001b[49m\u001b[43mlabels\u001b[49m\u001b[43m,\u001b[49m\n\u001b[32m   5590\u001b[39m \u001b[43m        \u001b[49m\u001b[43maxis\u001b[49m\u001b[43m=\u001b[49m\u001b[43maxis\u001b[49m\u001b[43m,\u001b[49m\n\u001b[32m   5591\u001b[39m \u001b[43m        \u001b[49m\u001b[43mindex\u001b[49m\u001b[43m=\u001b[49m\u001b[43mindex\u001b[49m\u001b[43m,\u001b[49m\n\u001b[32m   5592\u001b[39m \u001b[43m        \u001b[49m\u001b[43mcolumns\u001b[49m\u001b[43m=\u001b[49m\u001b[43mcolumns\u001b[49m\u001b[43m,\u001b[49m\n\u001b[32m   5593\u001b[39m \u001b[43m        \u001b[49m\u001b[43mlevel\u001b[49m\u001b[43m=\u001b[49m\u001b[43mlevel\u001b[49m\u001b[43m,\u001b[49m\n\u001b[32m   5594\u001b[39m \u001b[43m        \u001b[49m\u001b[43minplace\u001b[49m\u001b[43m=\u001b[49m\u001b[43minplace\u001b[49m\u001b[43m,\u001b[49m\n\u001b[32m   5595\u001b[39m \u001b[43m        \u001b[49m\u001b[43merrors\u001b[49m\u001b[43m=\u001b[49m\u001b[43merrors\u001b[49m\u001b[43m,\u001b[49m\n\u001b[32m   5596\u001b[39m \u001b[43m    \u001b[49m\u001b[43m)\u001b[49m\n",
            "\u001b[36mFile \u001b[39m\u001b[32mc:\\Users\\amval\\miniconda3\\Lib\\site-packages\\pandas\\core\\generic.py:4807\u001b[39m, in \u001b[36mNDFrame.drop\u001b[39m\u001b[34m(self, labels, axis, index, columns, level, inplace, errors)\u001b[39m\n\u001b[32m   4805\u001b[39m \u001b[38;5;28;01mfor\u001b[39;00m axis, labels \u001b[38;5;129;01min\u001b[39;00m axes.items():\n\u001b[32m   4806\u001b[39m     \u001b[38;5;28;01mif\u001b[39;00m labels \u001b[38;5;129;01mis\u001b[39;00m \u001b[38;5;129;01mnot\u001b[39;00m \u001b[38;5;28;01mNone\u001b[39;00m:\n\u001b[32m-> \u001b[39m\u001b[32m4807\u001b[39m         obj = \u001b[43mobj\u001b[49m\u001b[43m.\u001b[49m\u001b[43m_drop_axis\u001b[49m\u001b[43m(\u001b[49m\u001b[43mlabels\u001b[49m\u001b[43m,\u001b[49m\u001b[43m \u001b[49m\u001b[43maxis\u001b[49m\u001b[43m,\u001b[49m\u001b[43m \u001b[49m\u001b[43mlevel\u001b[49m\u001b[43m=\u001b[49m\u001b[43mlevel\u001b[49m\u001b[43m,\u001b[49m\u001b[43m \u001b[49m\u001b[43merrors\u001b[49m\u001b[43m=\u001b[49m\u001b[43merrors\u001b[49m\u001b[43m)\u001b[49m\n\u001b[32m   4809\u001b[39m \u001b[38;5;28;01mif\u001b[39;00m inplace:\n\u001b[32m   4810\u001b[39m     \u001b[38;5;28mself\u001b[39m._update_inplace(obj)\n",
            "\u001b[36mFile \u001b[39m\u001b[32mc:\\Users\\amval\\miniconda3\\Lib\\site-packages\\pandas\\core\\generic.py:4849\u001b[39m, in \u001b[36mNDFrame._drop_axis\u001b[39m\u001b[34m(self, labels, axis, level, errors, only_slice)\u001b[39m\n\u001b[32m   4847\u001b[39m         new_axis = axis.drop(labels, level=level, errors=errors)\n\u001b[32m   4848\u001b[39m     \u001b[38;5;28;01melse\u001b[39;00m:\n\u001b[32m-> \u001b[39m\u001b[32m4849\u001b[39m         new_axis = \u001b[43maxis\u001b[49m\u001b[43m.\u001b[49m\u001b[43mdrop\u001b[49m\u001b[43m(\u001b[49m\u001b[43mlabels\u001b[49m\u001b[43m,\u001b[49m\u001b[43m \u001b[49m\u001b[43merrors\u001b[49m\u001b[43m=\u001b[49m\u001b[43merrors\u001b[49m\u001b[43m)\u001b[49m\n\u001b[32m   4850\u001b[39m     indexer = axis.get_indexer(new_axis)\n\u001b[32m   4852\u001b[39m \u001b[38;5;66;03m# Case for non-unique axis\u001b[39;00m\n\u001b[32m   4853\u001b[39m \u001b[38;5;28;01melse\u001b[39;00m:\n",
            "\u001b[36mFile \u001b[39m\u001b[32mc:\\Users\\amval\\miniconda3\\Lib\\site-packages\\pandas\\core\\indexes\\base.py:7136\u001b[39m, in \u001b[36mIndex.drop\u001b[39m\u001b[34m(self, labels, errors)\u001b[39m\n\u001b[32m   7134\u001b[39m \u001b[38;5;28;01mif\u001b[39;00m mask.any():\n\u001b[32m   7135\u001b[39m     \u001b[38;5;28;01mif\u001b[39;00m errors != \u001b[33m\"\u001b[39m\u001b[33mignore\u001b[39m\u001b[33m\"\u001b[39m:\n\u001b[32m-> \u001b[39m\u001b[32m7136\u001b[39m         \u001b[38;5;28;01mraise\u001b[39;00m \u001b[38;5;167;01mKeyError\u001b[39;00m(\u001b[33mf\u001b[39m\u001b[33m\"\u001b[39m\u001b[38;5;132;01m{\u001b[39;00mlabels[mask].tolist()\u001b[38;5;132;01m}\u001b[39;00m\u001b[33m not found in axis\u001b[39m\u001b[33m\"\u001b[39m)\n\u001b[32m   7137\u001b[39m     indexer = indexer[~mask]\n\u001b[32m   7138\u001b[39m \u001b[38;5;28;01mreturn\u001b[39;00m \u001b[38;5;28mself\u001b[39m.delete(indexer)\n",
            "\u001b[31mKeyError\u001b[39m: \"['New_Column'] not found in axis\""
          ]
        }
      ],
      "source": [
        "# Eliminar una columna\n",
        "df_excel.drop(columns=['New_Column'], inplace=True)\n",
        "df_excel.head()"
      ]
    },
    {
      "cell_type": "code",
      "execution_count": null,
      "metadata": {},
      "outputs": [
        {
          "data": {
            "application/vnd.microsoft.datawrangler.viewer.v0+json": {
              "columns": [
                {
                  "name": "index",
                  "rawType": "int64",
                  "type": "integer"
                },
                {
                  "name": "ISO3 - Country of origin",
                  "rawType": "object",
                  "type": "string"
                },
                {
                  "name": "Date",
                  "rawType": "datetime64[ns]",
                  "type": "datetime"
                },
                {
                  "name": "Month",
                  "rawType": "int64",
                  "type": "integer"
                },
                {
                  "name": "ISO3 - Country of arrival",
                  "rawType": "object",
                  "type": "string"
                },
                {
                  "name": "Route",
                  "rawType": "object",
                  "type": "string"
                },
                {
                  "name": "Arrivals",
                  "rawType": "int64",
                  "type": "integer"
                },
                {
                  "name": "Source",
                  "rawType": "object",
                  "type": "string"
                }
              ],
              "ref": "e11515e8-ff93-4d89-a954-e93054b5507c",
              "rows": [
                [
                  "0",
                  "BGD",
                  "2024-01-31 00:00:00",
                  "1",
                  "MLT",
                  "CMR",
                  "7",
                  "Maltese Minitry of Home Affairs, Security and Employment"
                ],
                [
                  "1",
                  "EGY",
                  "2024-01-31 00:00:00",
                  "1",
                  "MLT",
                  "CMR",
                  "1",
                  "Maltese Minitry of Home Affairs, Security and Employment"
                ],
                [
                  "2",
                  "PAK",
                  "2024-01-31 00:00:00",
                  "1",
                  "MLT",
                  "CMR",
                  "22",
                  "Maltese Minitry of Home Affairs, Security and Employment"
                ],
                [
                  "3",
                  "SDN",
                  "2024-01-31 00:00:00",
                  "1",
                  "MLT",
                  "CMR",
                  "1",
                  "Maltese Minitry of Home Affairs, Security and Employment"
                ],
                [
                  "4",
                  "SYR",
                  "2024-01-31 00:00:00",
                  "1",
                  "MLT",
                  "CMR",
                  "4",
                  "Maltese Minitry of Home Affairs, Security and Employment"
                ]
              ],
              "shape": {
                "columns": 7,
                "rows": 5
              }
            },
            "text/html": [
              "<div>\n",
              "<style scoped>\n",
              "    .dataframe tbody tr th:only-of-type {\n",
              "        vertical-align: middle;\n",
              "    }\n",
              "\n",
              "    .dataframe tbody tr th {\n",
              "        vertical-align: top;\n",
              "    }\n",
              "\n",
              "    .dataframe thead th {\n",
              "        text-align: right;\n",
              "    }\n",
              "</style>\n",
              "<table border=\"1\" class=\"dataframe\">\n",
              "  <thead>\n",
              "    <tr style=\"text-align: right;\">\n",
              "      <th></th>\n",
              "      <th>ISO3 - Country of origin</th>\n",
              "      <th>Date</th>\n",
              "      <th>Month</th>\n",
              "      <th>ISO3 - Country of arrival</th>\n",
              "      <th>Route</th>\n",
              "      <th>Arrivals</th>\n",
              "      <th>Source</th>\n",
              "    </tr>\n",
              "  </thead>\n",
              "  <tbody>\n",
              "    <tr>\n",
              "      <th>0</th>\n",
              "      <td>BGD</td>\n",
              "      <td>2024-01-31</td>\n",
              "      <td>1</td>\n",
              "      <td>MLT</td>\n",
              "      <td>CMR</td>\n",
              "      <td>7</td>\n",
              "      <td>Maltese Minitry of Home Affairs, Security and ...</td>\n",
              "    </tr>\n",
              "    <tr>\n",
              "      <th>1</th>\n",
              "      <td>EGY</td>\n",
              "      <td>2024-01-31</td>\n",
              "      <td>1</td>\n",
              "      <td>MLT</td>\n",
              "      <td>CMR</td>\n",
              "      <td>1</td>\n",
              "      <td>Maltese Minitry of Home Affairs, Security and ...</td>\n",
              "    </tr>\n",
              "    <tr>\n",
              "      <th>2</th>\n",
              "      <td>PAK</td>\n",
              "      <td>2024-01-31</td>\n",
              "      <td>1</td>\n",
              "      <td>MLT</td>\n",
              "      <td>CMR</td>\n",
              "      <td>22</td>\n",
              "      <td>Maltese Minitry of Home Affairs, Security and ...</td>\n",
              "    </tr>\n",
              "    <tr>\n",
              "      <th>3</th>\n",
              "      <td>SDN</td>\n",
              "      <td>2024-01-31</td>\n",
              "      <td>1</td>\n",
              "      <td>MLT</td>\n",
              "      <td>CMR</td>\n",
              "      <td>1</td>\n",
              "      <td>Maltese Minitry of Home Affairs, Security and ...</td>\n",
              "    </tr>\n",
              "    <tr>\n",
              "      <th>4</th>\n",
              "      <td>SYR</td>\n",
              "      <td>2024-01-31</td>\n",
              "      <td>1</td>\n",
              "      <td>MLT</td>\n",
              "      <td>CMR</td>\n",
              "      <td>4</td>\n",
              "      <td>Maltese Minitry of Home Affairs, Security and ...</td>\n",
              "    </tr>\n",
              "  </tbody>\n",
              "</table>\n",
              "</div>"
            ],
            "text/plain": [
              "  ISO3 - Country of origin       Date  Month ISO3 - Country of arrival Route  \\\n",
              "0                      BGD 2024-01-31      1                       MLT   CMR   \n",
              "1                      EGY 2024-01-31      1                       MLT   CMR   \n",
              "2                      PAK 2024-01-31      1                       MLT   CMR   \n",
              "3                      SDN 2024-01-31      1                       MLT   CMR   \n",
              "4                      SYR 2024-01-31      1                       MLT   CMR   \n",
              "\n",
              "   Arrivals                                             Source  \n",
              "0         7  Maltese Minitry of Home Affairs, Security and ...  \n",
              "1         1  Maltese Minitry of Home Affairs, Security and ...  \n",
              "2        22  Maltese Minitry of Home Affairs, Security and ...  \n",
              "3         1  Maltese Minitry of Home Affairs, Security and ...  \n",
              "4         4  Maltese Minitry of Home Affairs, Security and ...  "
            ]
          },
          "execution_count": 82,
          "metadata": {},
          "output_type": "execute_result"
        }
      ],
      "source": [
        "# Eliminar varias columnas a la vez\n",
        "df_excel.drop(columns=['Year_plus_1', 'Year'], inplace=True)\n",
        "df_excel.head()"
      ]
    },
    {
      "cell_type": "code",
      "execution_count": null,
      "metadata": {},
      "outputs": [
        {
          "data": {
            "application/vnd.microsoft.datawrangler.viewer.v0+json": {
              "columns": [
                {
                  "name": "index",
                  "rawType": "int64",
                  "type": "integer"
                },
                {
                  "name": "Country_of_origin",
                  "rawType": "object",
                  "type": "string"
                },
                {
                  "name": "Date",
                  "rawType": "datetime64[ns]",
                  "type": "datetime"
                },
                {
                  "name": "Month",
                  "rawType": "int64",
                  "type": "integer"
                },
                {
                  "name": "Country_of_arrival",
                  "rawType": "object",
                  "type": "string"
                },
                {
                  "name": "Route",
                  "rawType": "object",
                  "type": "string"
                },
                {
                  "name": "Arrivals",
                  "rawType": "int64",
                  "type": "integer"
                },
                {
                  "name": "Source",
                  "rawType": "object",
                  "type": "string"
                }
              ],
              "ref": "77d03eb5-4ab7-4d59-887e-29b5131c1f13",
              "rows": [
                [
                  "0",
                  "BGD",
                  "2024-01-31 00:00:00",
                  "1",
                  "MLT",
                  "CMR",
                  "7",
                  "Maltese Minitry of Home Affairs, Security and Employment"
                ],
                [
                  "1",
                  "EGY",
                  "2024-01-31 00:00:00",
                  "1",
                  "MLT",
                  "CMR",
                  "1",
                  "Maltese Minitry of Home Affairs, Security and Employment"
                ],
                [
                  "2",
                  "PAK",
                  "2024-01-31 00:00:00",
                  "1",
                  "MLT",
                  "CMR",
                  "22",
                  "Maltese Minitry of Home Affairs, Security and Employment"
                ],
                [
                  "3",
                  "SDN",
                  "2024-01-31 00:00:00",
                  "1",
                  "MLT",
                  "CMR",
                  "1",
                  "Maltese Minitry of Home Affairs, Security and Employment"
                ],
                [
                  "4",
                  "SYR",
                  "2024-01-31 00:00:00",
                  "1",
                  "MLT",
                  "CMR",
                  "4",
                  "Maltese Minitry of Home Affairs, Security and Employment"
                ]
              ],
              "shape": {
                "columns": 7,
                "rows": 5
              }
            },
            "text/html": [
              "<div>\n",
              "<style scoped>\n",
              "    .dataframe tbody tr th:only-of-type {\n",
              "        vertical-align: middle;\n",
              "    }\n",
              "\n",
              "    .dataframe tbody tr th {\n",
              "        vertical-align: top;\n",
              "    }\n",
              "\n",
              "    .dataframe thead th {\n",
              "        text-align: right;\n",
              "    }\n",
              "</style>\n",
              "<table border=\"1\" class=\"dataframe\">\n",
              "  <thead>\n",
              "    <tr style=\"text-align: right;\">\n",
              "      <th></th>\n",
              "      <th>Country_of_origin</th>\n",
              "      <th>Date</th>\n",
              "      <th>Month</th>\n",
              "      <th>Country_of_arrival</th>\n",
              "      <th>Route</th>\n",
              "      <th>Arrivals</th>\n",
              "      <th>Source</th>\n",
              "    </tr>\n",
              "  </thead>\n",
              "  <tbody>\n",
              "    <tr>\n",
              "      <th>0</th>\n",
              "      <td>BGD</td>\n",
              "      <td>2024-01-31</td>\n",
              "      <td>1</td>\n",
              "      <td>MLT</td>\n",
              "      <td>CMR</td>\n",
              "      <td>7</td>\n",
              "      <td>Maltese Minitry of Home Affairs, Security and ...</td>\n",
              "    </tr>\n",
              "    <tr>\n",
              "      <th>1</th>\n",
              "      <td>EGY</td>\n",
              "      <td>2024-01-31</td>\n",
              "      <td>1</td>\n",
              "      <td>MLT</td>\n",
              "      <td>CMR</td>\n",
              "      <td>1</td>\n",
              "      <td>Maltese Minitry of Home Affairs, Security and ...</td>\n",
              "    </tr>\n",
              "    <tr>\n",
              "      <th>2</th>\n",
              "      <td>PAK</td>\n",
              "      <td>2024-01-31</td>\n",
              "      <td>1</td>\n",
              "      <td>MLT</td>\n",
              "      <td>CMR</td>\n",
              "      <td>22</td>\n",
              "      <td>Maltese Minitry of Home Affairs, Security and ...</td>\n",
              "    </tr>\n",
              "    <tr>\n",
              "      <th>3</th>\n",
              "      <td>SDN</td>\n",
              "      <td>2024-01-31</td>\n",
              "      <td>1</td>\n",
              "      <td>MLT</td>\n",
              "      <td>CMR</td>\n",
              "      <td>1</td>\n",
              "      <td>Maltese Minitry of Home Affairs, Security and ...</td>\n",
              "    </tr>\n",
              "    <tr>\n",
              "      <th>4</th>\n",
              "      <td>SYR</td>\n",
              "      <td>2024-01-31</td>\n",
              "      <td>1</td>\n",
              "      <td>MLT</td>\n",
              "      <td>CMR</td>\n",
              "      <td>4</td>\n",
              "      <td>Maltese Minitry of Home Affairs, Security and ...</td>\n",
              "    </tr>\n",
              "  </tbody>\n",
              "</table>\n",
              "</div>"
            ],
            "text/plain": [
              "  Country_of_origin       Date  Month Country_of_arrival Route  Arrivals  \\\n",
              "0               BGD 2024-01-31      1                MLT   CMR         7   \n",
              "1               EGY 2024-01-31      1                MLT   CMR         1   \n",
              "2               PAK 2024-01-31      1                MLT   CMR        22   \n",
              "3               SDN 2024-01-31      1                MLT   CMR         1   \n",
              "4               SYR 2024-01-31      1                MLT   CMR         4   \n",
              "\n",
              "                                              Source  \n",
              "0  Maltese Minitry of Home Affairs, Security and ...  \n",
              "1  Maltese Minitry of Home Affairs, Security and ...  \n",
              "2  Maltese Minitry of Home Affairs, Security and ...  \n",
              "3  Maltese Minitry of Home Affairs, Security and ...  \n",
              "4  Maltese Minitry of Home Affairs, Security and ...  "
            ]
          },
          "execution_count": 83,
          "metadata": {},
          "output_type": "execute_result"
        }
      ],
      "source": [
        "# Renombrar columnas\n",
        "df_excel.rename(\n",
        "    columns={\n",
        "        'ISO3 - Country of origin': 'Country_of_origin',\n",
        "        'ISO3 - Country of arrival': 'Country_of_arrival'\n",
        "    },\n",
        "    inplace=True\n",
        ")\n",
        "df_excel.head()"
      ]
    },
    {
      "cell_type": "code",
      "execution_count": null,
      "metadata": {},
      "outputs": [
        {
          "data": {
            "application/vnd.microsoft.datawrangler.viewer.v0+json": {
              "columns": [
                {
                  "name": "index",
                  "rawType": "int64",
                  "type": "integer"
                },
                {
                  "name": "Country_of_origin",
                  "rawType": "object",
                  "type": "string"
                },
                {
                  "name": "Country_of_arrival",
                  "rawType": "object",
                  "type": "string"
                },
                {
                  "name": "Date",
                  "rawType": "datetime64[ns]",
                  "type": "datetime"
                },
                {
                  "name": "Arrivals",
                  "rawType": "int64",
                  "type": "integer"
                },
                {
                  "name": "Month",
                  "rawType": "int64",
                  "type": "integer"
                },
                {
                  "name": "Source",
                  "rawType": "object",
                  "type": "string"
                }
              ],
              "ref": "0b41a2c2-fb4c-4e6b-822d-ca3a88e3960a",
              "rows": [
                [
                  "0",
                  "BGD",
                  "MLT",
                  "2024-01-31 00:00:00",
                  "7",
                  "1",
                  "Maltese Minitry of Home Affairs, Security and Employment"
                ],
                [
                  "1",
                  "EGY",
                  "MLT",
                  "2024-01-31 00:00:00",
                  "1",
                  "1",
                  "Maltese Minitry of Home Affairs, Security and Employment"
                ],
                [
                  "2",
                  "PAK",
                  "MLT",
                  "2024-01-31 00:00:00",
                  "22",
                  "1",
                  "Maltese Minitry of Home Affairs, Security and Employment"
                ],
                [
                  "3",
                  "SDN",
                  "MLT",
                  "2024-01-31 00:00:00",
                  "1",
                  "1",
                  "Maltese Minitry of Home Affairs, Security and Employment"
                ],
                [
                  "4",
                  "SYR",
                  "MLT",
                  "2024-01-31 00:00:00",
                  "4",
                  "1",
                  "Maltese Minitry of Home Affairs, Security and Employment"
                ]
              ],
              "shape": {
                "columns": 6,
                "rows": 5
              }
            },
            "text/html": [
              "<div>\n",
              "<style scoped>\n",
              "    .dataframe tbody tr th:only-of-type {\n",
              "        vertical-align: middle;\n",
              "    }\n",
              "\n",
              "    .dataframe tbody tr th {\n",
              "        vertical-align: top;\n",
              "    }\n",
              "\n",
              "    .dataframe thead th {\n",
              "        text-align: right;\n",
              "    }\n",
              "</style>\n",
              "<table border=\"1\" class=\"dataframe\">\n",
              "  <thead>\n",
              "    <tr style=\"text-align: right;\">\n",
              "      <th></th>\n",
              "      <th>Country_of_origin</th>\n",
              "      <th>Country_of_arrival</th>\n",
              "      <th>Date</th>\n",
              "      <th>Arrivals</th>\n",
              "      <th>Month</th>\n",
              "      <th>Source</th>\n",
              "    </tr>\n",
              "  </thead>\n",
              "  <tbody>\n",
              "    <tr>\n",
              "      <th>0</th>\n",
              "      <td>BGD</td>\n",
              "      <td>MLT</td>\n",
              "      <td>2024-01-31</td>\n",
              "      <td>7</td>\n",
              "      <td>1</td>\n",
              "      <td>Maltese Minitry of Home Affairs, Security and ...</td>\n",
              "    </tr>\n",
              "    <tr>\n",
              "      <th>1</th>\n",
              "      <td>EGY</td>\n",
              "      <td>MLT</td>\n",
              "      <td>2024-01-31</td>\n",
              "      <td>1</td>\n",
              "      <td>1</td>\n",
              "      <td>Maltese Minitry of Home Affairs, Security and ...</td>\n",
              "    </tr>\n",
              "    <tr>\n",
              "      <th>2</th>\n",
              "      <td>PAK</td>\n",
              "      <td>MLT</td>\n",
              "      <td>2024-01-31</td>\n",
              "      <td>22</td>\n",
              "      <td>1</td>\n",
              "      <td>Maltese Minitry of Home Affairs, Security and ...</td>\n",
              "    </tr>\n",
              "    <tr>\n",
              "      <th>3</th>\n",
              "      <td>SDN</td>\n",
              "      <td>MLT</td>\n",
              "      <td>2024-01-31</td>\n",
              "      <td>1</td>\n",
              "      <td>1</td>\n",
              "      <td>Maltese Minitry of Home Affairs, Security and ...</td>\n",
              "    </tr>\n",
              "    <tr>\n",
              "      <th>4</th>\n",
              "      <td>SYR</td>\n",
              "      <td>MLT</td>\n",
              "      <td>2024-01-31</td>\n",
              "      <td>4</td>\n",
              "      <td>1</td>\n",
              "      <td>Maltese Minitry of Home Affairs, Security and ...</td>\n",
              "    </tr>\n",
              "  </tbody>\n",
              "</table>\n",
              "</div>"
            ],
            "text/plain": [
              "  Country_of_origin Country_of_arrival       Date  Arrivals  Month  \\\n",
              "0               BGD                MLT 2024-01-31         7      1   \n",
              "1               EGY                MLT 2024-01-31         1      1   \n",
              "2               PAK                MLT 2024-01-31        22      1   \n",
              "3               SDN                MLT 2024-01-31         1      1   \n",
              "4               SYR                MLT 2024-01-31         4      1   \n",
              "\n",
              "                                              Source  \n",
              "0  Maltese Minitry of Home Affairs, Security and ...  \n",
              "1  Maltese Minitry of Home Affairs, Security and ...  \n",
              "2  Maltese Minitry of Home Affairs, Security and ...  \n",
              "3  Maltese Minitry of Home Affairs, Security and ...  \n",
              "4  Maltese Minitry of Home Affairs, Security and ...  "
            ]
          },
          "execution_count": 85,
          "metadata": {},
          "output_type": "execute_result"
        }
      ],
      "source": [
        "# Reordenar columnas\n",
        "df_excel = df_excel[\n",
        "    ['Country_of_origin', \n",
        "    'Country_of_arrival',\n",
        "    'Date',\n",
        "    'Arrivals',\n",
        "    'Month',\n",
        "    \"Source\"]]\n",
        "df_excel.head()"
      ]
    },
    {
      "cell_type": "markdown",
      "metadata": {},
      "source": [
        "## 📌 Verificación y cambio de tipo de datos\n",
        "### 🏷️ Tabla de métodos para verificación y cambio de tipo de datos\n",
        "| Método               | Descripción                                      |\n",
        "|----------------------|--------------------------------------------------|\n",
        "| `dtypes`            | Muestra el tipo de datos de cada columna.        |\n",
        "| `astype(tipo)`      | Cambia el tipo de datos de una columna.          |\n",
        "\n",
        "Es importante asegurarse de que cada columna tenga el tipo de dato correcto para evitar errores en análisis posteriores.\n",
        "\n",
        "Por ejemplo, si una columna contiene números pero está almacenada como texto (string), no podremos realizar operaciones matemáticas con ella hasta convertirla al tipo numérico adecuado."
      ]
    },
    {
      "cell_type": "code",
      "execution_count": null,
      "metadata": {},
      "outputs": [
        {
          "data": {
            "application/vnd.microsoft.datawrangler.viewer.v0+json": {
              "columns": [
                {
                  "name": "index",
                  "rawType": "object",
                  "type": "string"
                },
                {
                  "name": "0",
                  "rawType": "object",
                  "type": "unknown"
                }
              ],
              "ref": "13b57843-30b9-4384-a980-28c896a84984",
              "rows": [
                [
                  "Date",
                  "object"
                ],
                [
                  "Time",
                  "object"
                ],
                [
                  "Booking ID",
                  "object"
                ],
                [
                  "Booking Status",
                  "object"
                ],
                [
                  "Customer ID",
                  "object"
                ],
                [
                  "Vehicle Type",
                  "object"
                ],
                [
                  "Pickup Location",
                  "object"
                ],
                [
                  "Drop Location",
                  "object"
                ],
                [
                  "Avg VTAT",
                  "float64"
                ],
                [
                  "Avg CTAT",
                  "float64"
                ],
                [
                  "Cancelled Rides by Customer",
                  "float64"
                ],
                [
                  "Reason for cancelling by Customer",
                  "object"
                ],
                [
                  "Cancelled Rides by Driver",
                  "float64"
                ],
                [
                  "Driver Cancellation Reason",
                  "object"
                ],
                [
                  "Incomplete Rides",
                  "float64"
                ],
                [
                  "Incomplete Rides Reason",
                  "object"
                ],
                [
                  "Booking Value",
                  "float64"
                ],
                [
                  "Ride Distance",
                  "float64"
                ],
                [
                  "Driver Ratings",
                  "float64"
                ],
                [
                  "Customer Rating",
                  "float64"
                ],
                [
                  "Payment Method",
                  "object"
                ]
              ],
              "shape": {
                "columns": 1,
                "rows": 21
              }
            },
            "text/plain": [
              "Date                                  object\n",
              "Time                                  object\n",
              "Booking ID                            object\n",
              "Booking Status                        object\n",
              "Customer ID                           object\n",
              "Vehicle Type                          object\n",
              "Pickup Location                       object\n",
              "Drop Location                         object\n",
              "Avg VTAT                             float64\n",
              "Avg CTAT                             float64\n",
              "Cancelled Rides by Customer          float64\n",
              "Reason for cancelling by Customer     object\n",
              "Cancelled Rides by Driver            float64\n",
              "Driver Cancellation Reason            object\n",
              "Incomplete Rides                     float64\n",
              "Incomplete Rides Reason               object\n",
              "Booking Value                        float64\n",
              "Ride Distance                        float64\n",
              "Driver Ratings                       float64\n",
              "Customer Rating                      float64\n",
              "Payment Method                        object\n",
              "dtype: object"
            ]
          },
          "execution_count": 86,
          "metadata": {},
          "output_type": "execute_result"
        }
      ],
      "source": [
        "# ver el tipo de datos de cada columna\n",
        "df_csv.dtypes"
      ]
    },
    {
      "cell_type": "markdown",
      "metadata": {},
      "source": [
        "> El tipo de dato object es el tipo de dato más general en Pandas y puede contener cualquier tipo de dato, pero generalmente se usa para datos de texto (strings) o datos mixtos."
      ]
    },
    {
      "cell_type": "code",
      "execution_count": null,
      "metadata": {},
      "outputs": [
        {
          "data": {
            "application/vnd.microsoft.datawrangler.viewer.v0+json": {
              "columns": [
                {
                  "name": "index",
                  "rawType": "int64",
                  "type": "integer"
                },
                {
                  "name": "Date",
                  "rawType": "object",
                  "type": "string"
                },
                {
                  "name": "Time",
                  "rawType": "object",
                  "type": "string"
                },
                {
                  "name": "Booking ID",
                  "rawType": "object",
                  "type": "string"
                },
                {
                  "name": "Booking Status",
                  "rawType": "object",
                  "type": "string"
                },
                {
                  "name": "Customer ID",
                  "rawType": "object",
                  "type": "string"
                },
                {
                  "name": "Vehicle Type",
                  "rawType": "object",
                  "type": "string"
                },
                {
                  "name": "Pickup Location",
                  "rawType": "object",
                  "type": "string"
                },
                {
                  "name": "Drop Location",
                  "rawType": "object",
                  "type": "string"
                },
                {
                  "name": "Avg VTAT",
                  "rawType": "float64",
                  "type": "float"
                },
                {
                  "name": "Avg CTAT",
                  "rawType": "float64",
                  "type": "float"
                },
                {
                  "name": "Cancelled Rides by Customer",
                  "rawType": "float64",
                  "type": "float"
                },
                {
                  "name": "Reason for cancelling by Customer",
                  "rawType": "object",
                  "type": "unknown"
                },
                {
                  "name": "Cancelled Rides by Driver",
                  "rawType": "float64",
                  "type": "float"
                },
                {
                  "name": "Driver Cancellation Reason",
                  "rawType": "object",
                  "type": "unknown"
                },
                {
                  "name": "Incomplete Rides",
                  "rawType": "float64",
                  "type": "float"
                },
                {
                  "name": "Incomplete Rides Reason",
                  "rawType": "object",
                  "type": "unknown"
                },
                {
                  "name": "Booking Value",
                  "rawType": "float64",
                  "type": "float"
                },
                {
                  "name": "Ride Distance",
                  "rawType": "float64",
                  "type": "float"
                },
                {
                  "name": "Driver Ratings",
                  "rawType": "float64",
                  "type": "float"
                },
                {
                  "name": "Customer Rating",
                  "rawType": "float64",
                  "type": "float"
                },
                {
                  "name": "Payment Method",
                  "rawType": "object",
                  "type": "unknown"
                }
              ],
              "ref": "0b33784f-1bed-4efd-ab70-acd9721e00c4",
              "rows": [
                [
                  "0",
                  "2024-03-23",
                  "12:29:38",
                  "\"CNR5884300\"",
                  "No Driver Found",
                  "\"CID1982111\"",
                  "eBike",
                  "Palam Vihar",
                  "Jhilmil",
                  null,
                  null,
                  null,
                  null,
                  null,
                  null,
                  null,
                  null,
                  null,
                  null,
                  null,
                  null,
                  null
                ],
                [
                  "1",
                  "2024-11-29",
                  "18:01:39",
                  "\"CNR1326809\"",
                  "Incomplete",
                  "\"CID4604802\"",
                  "Go Sedan",
                  "Shastri Nagar",
                  "Gurgaon Sector 56",
                  "4.9",
                  "14.0",
                  null,
                  null,
                  null,
                  null,
                  "1.0",
                  "Vehicle Breakdown",
                  "237.0",
                  "5.73",
                  null,
                  null,
                  "UPI"
                ],
                [
                  "2",
                  "2024-08-23",
                  "08:56:10",
                  "\"CNR8494506\"",
                  "Completed",
                  "\"CID9202816\"",
                  "Auto",
                  "Khandsa",
                  "Malviya Nagar",
                  "13.4",
                  "25.8",
                  null,
                  null,
                  null,
                  null,
                  null,
                  null,
                  "627.0",
                  "13.58",
                  "4.9",
                  "4.9",
                  "Debit Card"
                ],
                [
                  "3",
                  "2024-10-21",
                  "17:17:25",
                  "\"CNR8906825\"",
                  "Completed",
                  "\"CID2610914\"",
                  "Premier Sedan",
                  "Central Secretariat",
                  "Inderlok",
                  "13.1",
                  "28.5",
                  null,
                  null,
                  null,
                  null,
                  null,
                  null,
                  "416.0",
                  "34.02",
                  "4.6",
                  "5.0",
                  "UPI"
                ],
                [
                  "4",
                  "2024-09-16",
                  "22:08:00",
                  "\"CNR1950162\"",
                  "Completed",
                  "\"CID9933542\"",
                  "Bike",
                  "Ghitorni Village",
                  "Khan Market",
                  "5.3",
                  "19.6",
                  null,
                  null,
                  null,
                  null,
                  null,
                  null,
                  "737.0",
                  "48.21",
                  "4.1",
                  "4.3",
                  "UPI"
                ]
              ],
              "shape": {
                "columns": 21,
                "rows": 5
              }
            },
            "text/html": [
              "<div>\n",
              "<style scoped>\n",
              "    .dataframe tbody tr th:only-of-type {\n",
              "        vertical-align: middle;\n",
              "    }\n",
              "\n",
              "    .dataframe tbody tr th {\n",
              "        vertical-align: top;\n",
              "    }\n",
              "\n",
              "    .dataframe thead th {\n",
              "        text-align: right;\n",
              "    }\n",
              "</style>\n",
              "<table border=\"1\" class=\"dataframe\">\n",
              "  <thead>\n",
              "    <tr style=\"text-align: right;\">\n",
              "      <th></th>\n",
              "      <th>Date</th>\n",
              "      <th>Time</th>\n",
              "      <th>Booking ID</th>\n",
              "      <th>Booking Status</th>\n",
              "      <th>Customer ID</th>\n",
              "      <th>Vehicle Type</th>\n",
              "      <th>Pickup Location</th>\n",
              "      <th>Drop Location</th>\n",
              "      <th>Avg VTAT</th>\n",
              "      <th>Avg CTAT</th>\n",
              "      <th>...</th>\n",
              "      <th>Reason for cancelling by Customer</th>\n",
              "      <th>Cancelled Rides by Driver</th>\n",
              "      <th>Driver Cancellation Reason</th>\n",
              "      <th>Incomplete Rides</th>\n",
              "      <th>Incomplete Rides Reason</th>\n",
              "      <th>Booking Value</th>\n",
              "      <th>Ride Distance</th>\n",
              "      <th>Driver Ratings</th>\n",
              "      <th>Customer Rating</th>\n",
              "      <th>Payment Method</th>\n",
              "    </tr>\n",
              "  </thead>\n",
              "  <tbody>\n",
              "    <tr>\n",
              "      <th>0</th>\n",
              "      <td>2024-03-23</td>\n",
              "      <td>12:29:38</td>\n",
              "      <td>\"CNR5884300\"</td>\n",
              "      <td>No Driver Found</td>\n",
              "      <td>\"CID1982111\"</td>\n",
              "      <td>eBike</td>\n",
              "      <td>Palam Vihar</td>\n",
              "      <td>Jhilmil</td>\n",
              "      <td>NaN</td>\n",
              "      <td>NaN</td>\n",
              "      <td>...</td>\n",
              "      <td>NaN</td>\n",
              "      <td>NaN</td>\n",
              "      <td>NaN</td>\n",
              "      <td>NaN</td>\n",
              "      <td>NaN</td>\n",
              "      <td>NaN</td>\n",
              "      <td>NaN</td>\n",
              "      <td>NaN</td>\n",
              "      <td>NaN</td>\n",
              "      <td>NaN</td>\n",
              "    </tr>\n",
              "    <tr>\n",
              "      <th>1</th>\n",
              "      <td>2024-11-29</td>\n",
              "      <td>18:01:39</td>\n",
              "      <td>\"CNR1326809\"</td>\n",
              "      <td>Incomplete</td>\n",
              "      <td>\"CID4604802\"</td>\n",
              "      <td>Go Sedan</td>\n",
              "      <td>Shastri Nagar</td>\n",
              "      <td>Gurgaon Sector 56</td>\n",
              "      <td>4.9</td>\n",
              "      <td>14.0</td>\n",
              "      <td>...</td>\n",
              "      <td>NaN</td>\n",
              "      <td>NaN</td>\n",
              "      <td>NaN</td>\n",
              "      <td>1.0</td>\n",
              "      <td>Vehicle Breakdown</td>\n",
              "      <td>237.0</td>\n",
              "      <td>5.73</td>\n",
              "      <td>NaN</td>\n",
              "      <td>NaN</td>\n",
              "      <td>UPI</td>\n",
              "    </tr>\n",
              "    <tr>\n",
              "      <th>2</th>\n",
              "      <td>2024-08-23</td>\n",
              "      <td>08:56:10</td>\n",
              "      <td>\"CNR8494506\"</td>\n",
              "      <td>Completed</td>\n",
              "      <td>\"CID9202816\"</td>\n",
              "      <td>Auto</td>\n",
              "      <td>Khandsa</td>\n",
              "      <td>Malviya Nagar</td>\n",
              "      <td>13.4</td>\n",
              "      <td>25.8</td>\n",
              "      <td>...</td>\n",
              "      <td>NaN</td>\n",
              "      <td>NaN</td>\n",
              "      <td>NaN</td>\n",
              "      <td>NaN</td>\n",
              "      <td>NaN</td>\n",
              "      <td>627.0</td>\n",
              "      <td>13.58</td>\n",
              "      <td>4.9</td>\n",
              "      <td>4.9</td>\n",
              "      <td>Debit Card</td>\n",
              "    </tr>\n",
              "    <tr>\n",
              "      <th>3</th>\n",
              "      <td>2024-10-21</td>\n",
              "      <td>17:17:25</td>\n",
              "      <td>\"CNR8906825\"</td>\n",
              "      <td>Completed</td>\n",
              "      <td>\"CID2610914\"</td>\n",
              "      <td>Premier Sedan</td>\n",
              "      <td>Central Secretariat</td>\n",
              "      <td>Inderlok</td>\n",
              "      <td>13.1</td>\n",
              "      <td>28.5</td>\n",
              "      <td>...</td>\n",
              "      <td>NaN</td>\n",
              "      <td>NaN</td>\n",
              "      <td>NaN</td>\n",
              "      <td>NaN</td>\n",
              "      <td>NaN</td>\n",
              "      <td>416.0</td>\n",
              "      <td>34.02</td>\n",
              "      <td>4.6</td>\n",
              "      <td>5.0</td>\n",
              "      <td>UPI</td>\n",
              "    </tr>\n",
              "    <tr>\n",
              "      <th>4</th>\n",
              "      <td>2024-09-16</td>\n",
              "      <td>22:08:00</td>\n",
              "      <td>\"CNR1950162\"</td>\n",
              "      <td>Completed</td>\n",
              "      <td>\"CID9933542\"</td>\n",
              "      <td>Bike</td>\n",
              "      <td>Ghitorni Village</td>\n",
              "      <td>Khan Market</td>\n",
              "      <td>5.3</td>\n",
              "      <td>19.6</td>\n",
              "      <td>...</td>\n",
              "      <td>NaN</td>\n",
              "      <td>NaN</td>\n",
              "      <td>NaN</td>\n",
              "      <td>NaN</td>\n",
              "      <td>NaN</td>\n",
              "      <td>737.0</td>\n",
              "      <td>48.21</td>\n",
              "      <td>4.1</td>\n",
              "      <td>4.3</td>\n",
              "      <td>UPI</td>\n",
              "    </tr>\n",
              "  </tbody>\n",
              "</table>\n",
              "<p>5 rows × 21 columns</p>\n",
              "</div>"
            ],
            "text/plain": [
              "         Date      Time    Booking ID   Booking Status   Customer ID  \\\n",
              "0  2024-03-23  12:29:38  \"CNR5884300\"  No Driver Found  \"CID1982111\"   \n",
              "1  2024-11-29  18:01:39  \"CNR1326809\"       Incomplete  \"CID4604802\"   \n",
              "2  2024-08-23  08:56:10  \"CNR8494506\"        Completed  \"CID9202816\"   \n",
              "3  2024-10-21  17:17:25  \"CNR8906825\"        Completed  \"CID2610914\"   \n",
              "4  2024-09-16  22:08:00  \"CNR1950162\"        Completed  \"CID9933542\"   \n",
              "\n",
              "    Vehicle Type      Pickup Location      Drop Location  Avg VTAT  Avg CTAT  \\\n",
              "0          eBike          Palam Vihar            Jhilmil       NaN       NaN   \n",
              "1       Go Sedan        Shastri Nagar  Gurgaon Sector 56       4.9      14.0   \n",
              "2           Auto              Khandsa      Malviya Nagar      13.4      25.8   \n",
              "3  Premier Sedan  Central Secretariat           Inderlok      13.1      28.5   \n",
              "4           Bike     Ghitorni Village        Khan Market       5.3      19.6   \n",
              "\n",
              "   ...  Reason for cancelling by Customer Cancelled Rides by Driver  \\\n",
              "0  ...                                NaN                       NaN   \n",
              "1  ...                                NaN                       NaN   \n",
              "2  ...                                NaN                       NaN   \n",
              "3  ...                                NaN                       NaN   \n",
              "4  ...                                NaN                       NaN   \n",
              "\n",
              "   Driver Cancellation Reason Incomplete Rides  Incomplete Rides Reason  \\\n",
              "0                         NaN              NaN                      NaN   \n",
              "1                         NaN              1.0        Vehicle Breakdown   \n",
              "2                         NaN              NaN                      NaN   \n",
              "3                         NaN              NaN                      NaN   \n",
              "4                         NaN              NaN                      NaN   \n",
              "\n",
              "  Booking Value  Ride Distance  Driver Ratings  Customer Rating  \\\n",
              "0           NaN            NaN             NaN              NaN   \n",
              "1         237.0           5.73             NaN              NaN   \n",
              "2         627.0          13.58             4.9              4.9   \n",
              "3         416.0          34.02             4.6              5.0   \n",
              "4         737.0          48.21             4.1              4.3   \n",
              "\n",
              "   Payment Method  \n",
              "0             NaN  \n",
              "1             UPI  \n",
              "2      Debit Card  \n",
              "3             UPI  \n",
              "4             UPI  \n",
              "\n",
              "[5 rows x 21 columns]"
            ]
          },
          "execution_count": 87,
          "metadata": {},
          "output_type": "execute_result"
        }
      ],
      "source": [
        "df_csv.head()  # Muestra las primeras filas del DataFrame"
      ]
    },
    {
      "cell_type": "code",
      "execution_count": null,
      "metadata": {},
      "outputs": [],
      "source": [
        "# A este conjunto de datos tendríamos que hacerle los siguientes cambios de tipos de datos:\n",
        "\n",
        "# Cambiar columna Date a tipo date \n",
        "df_csv['Date'] = pd.to_datetime(df_csv['Date']).dt.date\n"
      ]
    },
    {
      "cell_type": "code",
      "execution_count": null,
      "metadata": {},
      "outputs": [
        {
          "data": {
            "application/vnd.microsoft.datawrangler.viewer.v0+json": {
              "columns": [
                {
                  "name": "index",
                  "rawType": "int64",
                  "type": "integer"
                },
                {
                  "name": "Date",
                  "rawType": "object",
                  "type": "unknown"
                },
                {
                  "name": "Time",
                  "rawType": "object",
                  "type": "string"
                },
                {
                  "name": "Booking ID",
                  "rawType": "object",
                  "type": "string"
                },
                {
                  "name": "Booking Status",
                  "rawType": "object",
                  "type": "string"
                },
                {
                  "name": "Customer ID",
                  "rawType": "object",
                  "type": "string"
                },
                {
                  "name": "Vehicle Type",
                  "rawType": "object",
                  "type": "string"
                },
                {
                  "name": "Pickup Location",
                  "rawType": "object",
                  "type": "string"
                },
                {
                  "name": "Drop Location",
                  "rawType": "object",
                  "type": "string"
                },
                {
                  "name": "Avg VTAT",
                  "rawType": "float64",
                  "type": "float"
                },
                {
                  "name": "Avg CTAT",
                  "rawType": "float64",
                  "type": "float"
                },
                {
                  "name": "Cancelled Rides by Customer",
                  "rawType": "float64",
                  "type": "float"
                },
                {
                  "name": "Reason for cancelling by Customer",
                  "rawType": "object",
                  "type": "unknown"
                },
                {
                  "name": "Cancelled Rides by Driver",
                  "rawType": "float64",
                  "type": "float"
                },
                {
                  "name": "Driver Cancellation Reason",
                  "rawType": "object",
                  "type": "unknown"
                },
                {
                  "name": "Incomplete Rides",
                  "rawType": "float64",
                  "type": "float"
                },
                {
                  "name": "Incomplete Rides Reason",
                  "rawType": "object",
                  "type": "unknown"
                },
                {
                  "name": "Booking Value",
                  "rawType": "float64",
                  "type": "float"
                },
                {
                  "name": "Ride Distance",
                  "rawType": "float64",
                  "type": "float"
                },
                {
                  "name": "Driver Ratings",
                  "rawType": "float64",
                  "type": "float"
                },
                {
                  "name": "Customer Rating",
                  "rawType": "float64",
                  "type": "float"
                },
                {
                  "name": "Payment Method",
                  "rawType": "object",
                  "type": "unknown"
                }
              ],
              "ref": "616f83d8-0cd5-4faa-ba0d-4b1e05646740",
              "rows": [
                [
                  "0",
                  "2024-03-23",
                  "12:29:38",
                  "\"CNR5884300\"",
                  "No Driver Found",
                  "\"CID1982111\"",
                  "eBike",
                  "Palam Vihar",
                  "Jhilmil",
                  null,
                  null,
                  null,
                  null,
                  null,
                  null,
                  null,
                  null,
                  null,
                  null,
                  null,
                  null,
                  null
                ],
                [
                  "1",
                  "2024-11-29",
                  "18:01:39",
                  "\"CNR1326809\"",
                  "Incomplete",
                  "\"CID4604802\"",
                  "Go Sedan",
                  "Shastri Nagar",
                  "Gurgaon Sector 56",
                  "4.9",
                  "14.0",
                  null,
                  null,
                  null,
                  null,
                  "1.0",
                  "Vehicle Breakdown",
                  "237.0",
                  "5.73",
                  null,
                  null,
                  "UPI"
                ],
                [
                  "2",
                  "2024-08-23",
                  "08:56:10",
                  "\"CNR8494506\"",
                  "Completed",
                  "\"CID9202816\"",
                  "Auto",
                  "Khandsa",
                  "Malviya Nagar",
                  "13.4",
                  "25.8",
                  null,
                  null,
                  null,
                  null,
                  null,
                  null,
                  "627.0",
                  "13.58",
                  "4.9",
                  "4.9",
                  "Debit Card"
                ],
                [
                  "3",
                  "2024-10-21",
                  "17:17:25",
                  "\"CNR8906825\"",
                  "Completed",
                  "\"CID2610914\"",
                  "Premier Sedan",
                  "Central Secretariat",
                  "Inderlok",
                  "13.1",
                  "28.5",
                  null,
                  null,
                  null,
                  null,
                  null,
                  null,
                  "416.0",
                  "34.02",
                  "4.6",
                  "5.0",
                  "UPI"
                ],
                [
                  "4",
                  "2024-09-16",
                  "22:08:00",
                  "\"CNR1950162\"",
                  "Completed",
                  "\"CID9933542\"",
                  "Bike",
                  "Ghitorni Village",
                  "Khan Market",
                  "5.3",
                  "19.6",
                  null,
                  null,
                  null,
                  null,
                  null,
                  null,
                  "737.0",
                  "48.21",
                  "4.1",
                  "4.3",
                  "UPI"
                ],
                [
                  "5",
                  "2024-02-06",
                  "09:44:56",
                  "\"CNR4096693\"",
                  "Completed",
                  "\"CID4670564\"",
                  "Auto",
                  "AIIMS",
                  "Narsinghpur",
                  "5.1",
                  "18.1",
                  null,
                  null,
                  null,
                  null,
                  null,
                  null,
                  "316.0",
                  "4.85",
                  "4.1",
                  "4.6",
                  "UPI"
                ],
                [
                  "6",
                  "2024-06-17",
                  "15:45:58",
                  "\"CNR2002539\"",
                  "Completed",
                  "\"CID6800553\"",
                  "Go Mini",
                  "Vaishali",
                  "Punjabi Bagh",
                  "7.1",
                  "20.4",
                  null,
                  null,
                  null,
                  null,
                  null,
                  null,
                  "640.0",
                  "41.24",
                  "4.0",
                  "4.1",
                  "UPI"
                ],
                [
                  "7",
                  "2024-03-19",
                  "17:37:37",
                  "\"CNR6568000\"",
                  "Completed",
                  "\"CID8610436\"",
                  "Auto",
                  "Mayur Vihar",
                  "Cyber Hub",
                  "12.1",
                  "16.5",
                  null,
                  null,
                  null,
                  null,
                  null,
                  null,
                  "136.0",
                  "6.56",
                  "4.4",
                  "4.2",
                  "UPI"
                ],
                [
                  "8",
                  "2024-09-14",
                  "12:49:09",
                  "\"CNR4510807\"",
                  "No Driver Found",
                  "\"CID7873618\"",
                  "Go Sedan",
                  "Noida Sector 62",
                  "Noida Sector 18",
                  null,
                  null,
                  null,
                  null,
                  null,
                  null,
                  null,
                  null,
                  null,
                  null,
                  null,
                  null,
                  null
                ],
                [
                  "9",
                  "2024-12-16",
                  "19:06:48",
                  "\"CNR7721892\"",
                  "Incomplete",
                  "\"CID5214275\"",
                  "Auto",
                  "Rohini",
                  "Adarsh Nagar",
                  "6.1",
                  "26.0",
                  null,
                  null,
                  null,
                  null,
                  "1.0",
                  "Other Issue",
                  "135.0",
                  "10.36",
                  null,
                  null,
                  "Cash"
                ],
                [
                  "10",
                  "2024-06-14",
                  "16:24:12",
                  "\"CNR9070334\"",
                  "Completed",
                  "\"CID6680340\"",
                  "Auto",
                  "Udyog Bhawan",
                  "Dwarka Sector 21",
                  "7.7",
                  "18.9",
                  null,
                  null,
                  null,
                  null,
                  null,
                  null,
                  "181.0",
                  "19.84",
                  "4.2",
                  "4.9",
                  "Cash"
                ],
                [
                  "11",
                  "2024-09-18",
                  "08:09:38",
                  "\"CNR9551927\"",
                  "No Driver Found",
                  "\"CID7568143\"",
                  "Auto",
                  "Vidhan Sabha",
                  "AIIMS",
                  null,
                  null,
                  null,
                  null,
                  null,
                  null,
                  null,
                  null,
                  null,
                  null,
                  null,
                  null,
                  null
                ],
                [
                  "12",
                  "2024-06-25",
                  "22:44:15",
                  "\"CNR4386945\"",
                  "Cancelled by Driver",
                  "\"CID5543520\"",
                  "eBike",
                  "Patel Chowk",
                  "Kherki Daula Toll",
                  "4.6",
                  null,
                  null,
                  null,
                  "1.0",
                  "Personal & Car related issues",
                  null,
                  null,
                  null,
                  null,
                  null,
                  null,
                  null
                ],
                [
                  "13",
                  "2024-09-11",
                  "19:29:39",
                  "\"CNR2987763\"",
                  "Completed",
                  "\"CID2669710\"",
                  "Go Mini",
                  "Malviya Nagar",
                  "Ghitorni Village",
                  "12.2",
                  "28.2",
                  null,
                  null,
                  null,
                  null,
                  null,
                  null,
                  "394.0",
                  "21.44",
                  "4.1",
                  "4.7",
                  "UPI"
                ],
                [
                  "14",
                  "2024-10-18",
                  "18:28:53",
                  "\"CNR8962232\"",
                  "Completed",
                  "\"CID1789354\"",
                  "Go Mini",
                  "Madipur",
                  "GTB Nagar",
                  "14.0",
                  "30.9",
                  null,
                  null,
                  null,
                  null,
                  null,
                  null,
                  "836.0",
                  "39.55",
                  "4.7",
                  "4.4",
                  "UPI"
                ],
                [
                  "15",
                  "2024-06-07",
                  "15:05:35",
                  "\"CNR2390352\"",
                  "Completed",
                  "\"CID5432215\"",
                  "Auto",
                  "Jama Masjid",
                  "Khan Market",
                  "8.5",
                  "36.9",
                  null,
                  null,
                  null,
                  null,
                  null,
                  null,
                  "410.0",
                  "34.76",
                  "4.0",
                  "4.9",
                  "Uber Wallet"
                ],
                [
                  "16",
                  "2024-07-01",
                  "10:51:16",
                  "\"CNR3221338\"",
                  "Completed",
                  "\"CID2581698\"",
                  "Premier Sedan",
                  "IGI Airport",
                  "Madipur",
                  "5.6",
                  "27.5",
                  null,
                  null,
                  null,
                  null,
                  null,
                  null,
                  "401.0",
                  "21.97",
                  "4.9",
                  "4.3",
                  "UPI"
                ],
                [
                  "17",
                  "2024-12-15",
                  "15:08:25",
                  "\"CNR6739317\"",
                  "Cancelled by Driver",
                  "\"CID8682675\"",
                  "Go Sedan",
                  "Vinobapuri",
                  "GTB Nagar",
                  "6.0",
                  null,
                  null,
                  null,
                  "1.0",
                  "Customer related issue",
                  null,
                  null,
                  null,
                  null,
                  null,
                  null,
                  null
                ],
                [
                  "18",
                  "2024-11-24",
                  "09:07:10",
                  "\"CNR6126048\"",
                  "Cancelled by Customer",
                  "\"CID1060329\"",
                  "eBike",
                  "Kashmere Gate",
                  "Anand Vihar",
                  "12.4",
                  null,
                  "1.0",
                  "Driver is not moving towards pickup location",
                  null,
                  null,
                  null,
                  null,
                  null,
                  null,
                  null,
                  null,
                  null
                ],
                [
                  "19",
                  "2024-05-24",
                  "19:53:57",
                  "\"CNR9465840\"",
                  "Cancelled by Driver",
                  "\"CID9046501\"",
                  "eBike",
                  "Pitampura",
                  "Rajiv Nagar",
                  "10.3",
                  null,
                  null,
                  null,
                  "1.0",
                  "Customer related issue",
                  null,
                  null,
                  null,
                  null,
                  null,
                  null,
                  null
                ],
                [
                  "20",
                  "2024-12-14",
                  "21:27:04",
                  "\"CNR9843229\"",
                  "Completed",
                  "\"CID4929303\"",
                  "Go Sedan",
                  "Punjabi Bagh",
                  "Mansarovar Park",
                  "6.1",
                  "33.7",
                  null,
                  null,
                  null,
                  null,
                  null,
                  null,
                  "264.0",
                  "13.64",
                  "3.8",
                  "4.7",
                  "Uber Wallet"
                ],
                [
                  "21",
                  "2024-07-29",
                  "06:28:22",
                  "\"CNR7911434\"",
                  "Completed",
                  "\"CID8465004\"",
                  "Auto",
                  "Greater Noida",
                  "Botanical Garden",
                  "7.0",
                  "21.3",
                  null,
                  null,
                  null,
                  null,
                  null,
                  null,
                  "183.0",
                  "4.5",
                  "5.0",
                  "4.2",
                  "UPI"
                ],
                [
                  "22",
                  "2024-02-23",
                  "11:02:45",
                  "\"CNR6178330\"",
                  "Completed",
                  "\"CID7719678\"",
                  "Go Mini",
                  "Tis Hazari",
                  "IMT Manesar",
                  "10.4",
                  "25.1",
                  null,
                  null,
                  null,
                  null,
                  null,
                  null,
                  "713.0",
                  "38.03",
                  "3.7",
                  "3.6",
                  "UPI"
                ],
                [
                  "23",
                  "2024-03-09",
                  "20:14:24",
                  "\"CNR5309981\"",
                  "Completed",
                  "\"CID3870048\"",
                  "Go Mini",
                  "Noida Sector 18",
                  "Old Gurgaon",
                  "7.9",
                  "41.1",
                  null,
                  null,
                  null,
                  null,
                  null,
                  null,
                  "113.0",
                  "14.53",
                  "4.6",
                  "4.9",
                  "UPI"
                ],
                [
                  "24",
                  "2024-08-28",
                  "16:30:14",
                  "\"CNR2978950\"",
                  "Completed",
                  "\"CID2977484\"",
                  "Auto",
                  "Kanhaiya Nagar",
                  "Anand Vihar",
                  "13.6",
                  "25.2",
                  null,
                  null,
                  null,
                  null,
                  null,
                  null,
                  "767.0",
                  "7.39",
                  "3.8",
                  "4.6",
                  "Debit Card"
                ],
                [
                  "25",
                  "2024-08-08",
                  "06:34:38",
                  "\"CNR2806943\"",
                  "Completed",
                  "\"CID7550481\"",
                  "Uber XL",
                  "Okhla",
                  "Barakhamba Road",
                  "5.1",
                  "20.7",
                  null,
                  null,
                  null,
                  null,
                  null,
                  null,
                  "495.0",
                  "10.23",
                  "3.8",
                  "4.2",
                  "Credit Card"
                ],
                [
                  "26",
                  "2024-01-26",
                  "09:44:00",
                  "\"CNR3614535\"",
                  "Cancelled by Driver",
                  "\"CID2507102\"",
                  "Auto",
                  "Cyber Hub",
                  "Saket",
                  "11.5",
                  null,
                  null,
                  null,
                  "1.0",
                  "Personal & Car related issues",
                  null,
                  null,
                  null,
                  null,
                  null,
                  null,
                  null
                ],
                [
                  "27",
                  "2024-04-12",
                  "19:42:35",
                  "\"CNR4499383\"",
                  "No Driver Found",
                  "\"CID5717521\"",
                  "Premier Sedan",
                  "Sadar Bazar Gurgaon",
                  "Mehrauli",
                  null,
                  null,
                  null,
                  null,
                  null,
                  null,
                  null,
                  null,
                  null,
                  null,
                  null,
                  null,
                  null
                ],
                [
                  "28",
                  "2024-04-05",
                  "18:57:12",
                  "\"CNR9834201\"",
                  "Incomplete",
                  "\"CID7891331\"",
                  "Bike",
                  "Shastri Park",
                  "Botanical Garden",
                  "3.1",
                  "28.2",
                  null,
                  null,
                  null,
                  null,
                  "1.0",
                  "Vehicle Breakdown",
                  "304.0",
                  "1.98",
                  null,
                  null,
                  "UPI"
                ],
                [
                  "29",
                  "2024-11-03",
                  "12:24:59",
                  "\"CNR8779845\"",
                  "Completed",
                  "\"CID7444351\"",
                  "Auto",
                  "Faridabad Sector 15",
                  "Malviya Nagar",
                  "8.9",
                  "31.1",
                  null,
                  null,
                  null,
                  null,
                  null,
                  null,
                  "2847.0",
                  "39.21",
                  "3.1",
                  "4.6",
                  "Debit Card"
                ],
                [
                  "30",
                  "2024-05-18",
                  "17:37:52",
                  "\"CNR2178654\"",
                  "Cancelled by Driver",
                  "\"CID3631860\"",
                  "Go Mini",
                  "Qutub Minar",
                  "Vishwavidyalaya",
                  "9.2",
                  null,
                  null,
                  null,
                  "1.0",
                  "More than permitted people in there",
                  null,
                  null,
                  null,
                  null,
                  null,
                  null,
                  null
                ],
                [
                  "31",
                  "2024-11-15",
                  "05:53:55",
                  "\"CNR3871541\"",
                  "Completed",
                  "\"CID9849259\"",
                  "Go Mini",
                  "Mundka",
                  "Preet Vihar",
                  "8.9",
                  "41.0",
                  null,
                  null,
                  null,
                  null,
                  null,
                  null,
                  "282.0",
                  "8.36",
                  "3.8",
                  "4.4",
                  "UPI"
                ],
                [
                  "32",
                  "2024-02-04",
                  "18:08:04",
                  "\"CNR2877692\"",
                  "Completed",
                  "\"CID5901711\"",
                  "Premier Sedan",
                  "DLF City Court",
                  "Nehru Place",
                  "11.5",
                  "20.5",
                  null,
                  null,
                  null,
                  null,
                  null,
                  null,
                  "656.0",
                  "6.39",
                  "5.0",
                  "4.9",
                  "Uber Wallet"
                ],
                [
                  "33",
                  "2024-05-29",
                  "14:05:10",
                  "\"CNR9603633\"",
                  "Completed",
                  "\"CID5856503\"",
                  "Auto",
                  "Tis Hazari",
                  "Shahdara",
                  "2.0",
                  "19.4",
                  null,
                  null,
                  null,
                  null,
                  null,
                  null,
                  "134.0",
                  "46.66",
                  "3.8",
                  "4.4",
                  "Credit Card"
                ],
                [
                  "34",
                  "2024-07-13",
                  "19:53:15",
                  "\"CNR8087051\"",
                  "Cancelled by Driver",
                  "\"CID9716528\"",
                  "Go Sedan",
                  "New Colony",
                  "Ghitorni Village",
                  "5.4",
                  null,
                  null,
                  null,
                  "1.0",
                  "Customer related issue",
                  null,
                  null,
                  null,
                  null,
                  null,
                  null,
                  null
                ],
                [
                  "35",
                  "2024-06-07",
                  "19:21:10",
                  "\"CNR7823292\"",
                  "Completed",
                  "\"CID9377721\"",
                  "Go Sedan",
                  "Nirman Vihar",
                  "Malviya Nagar",
                  "14.6",
                  "25.4",
                  null,
                  null,
                  null,
                  null,
                  null,
                  null,
                  "470.0",
                  "27.07",
                  "3.7",
                  "4.2",
                  "Cash"
                ],
                [
                  "36",
                  "2024-05-16",
                  "13:04:31",
                  "\"CNR9918895\"",
                  "Completed",
                  "\"CID9520433\"",
                  "Auto",
                  "New Delhi Railway Station",
                  "Noida Film City",
                  "6.7",
                  "20.5",
                  null,
                  null,
                  null,
                  null,
                  null,
                  null,
                  "187.0",
                  "12.16",
                  "4.9",
                  "4.3",
                  "UPI"
                ],
                [
                  "37",
                  "2024-10-02",
                  "03:10:35",
                  "\"CNR7401001\"",
                  "Completed",
                  "\"CID9958715\"",
                  "Premier Sedan",
                  "Civil Lines Gurgaon",
                  "Mandi House",
                  "6.6",
                  "30.0",
                  null,
                  null,
                  null,
                  null,
                  null,
                  null,
                  "186.0",
                  "10.28",
                  "4.4",
                  "4.6",
                  "UPI"
                ],
                [
                  "38",
                  "2024-02-26",
                  "15:43:16",
                  "\"CNR2631310\"",
                  "Completed",
                  "\"CID4355670\"",
                  "eBike",
                  "Seelampur",
                  "Janakpuri",
                  "10.0",
                  "35.8",
                  null,
                  null,
                  null,
                  null,
                  null,
                  null,
                  "70.0",
                  "44.42",
                  "4.1",
                  "4.4",
                  "UPI"
                ],
                [
                  "39",
                  "2024-09-10",
                  "13:02:42",
                  "\"CNR4218487\"",
                  "Cancelled by Customer",
                  "\"CID3037053\"",
                  "Bike",
                  "Noida Extension",
                  "Udyog Vihar Phase 4",
                  "11.0",
                  null,
                  "1.0",
                  "Driver is not moving towards pickup location",
                  null,
                  null,
                  null,
                  null,
                  null,
                  null,
                  null,
                  null,
                  null
                ],
                [
                  "40",
                  "2024-09-12",
                  "09:14:57",
                  "\"CNR5333099\"",
                  "Cancelled by Driver",
                  "\"CID5112050\"",
                  "Auto",
                  "Adarsh Nagar",
                  "Civil Lines Gurgaon",
                  "8.0",
                  null,
                  null,
                  null,
                  "1.0",
                  "Personal & Car related issues",
                  null,
                  null,
                  null,
                  null,
                  null,
                  null,
                  null
                ],
                [
                  "41",
                  "2024-01-24",
                  "10:47:57",
                  "\"CNR5969954\"",
                  "Completed",
                  "\"CID5558118\"",
                  "Auto",
                  "Vinobapuri",
                  "Karkarduma",
                  "12.8",
                  "18.7",
                  null,
                  null,
                  null,
                  null,
                  null,
                  null,
                  "273.0",
                  "34.64",
                  "4.5",
                  "4.6",
                  "Uber Wallet"
                ],
                [
                  "42",
                  "2024-02-12",
                  "19:42:39",
                  "\"CNR4130953\"",
                  "Incomplete",
                  "\"CID3196782\"",
                  "Premier Sedan",
                  "Panipat",
                  "Tagore Garden",
                  "6.4",
                  "10.5",
                  null,
                  null,
                  null,
                  null,
                  "1.0",
                  "Other Issue",
                  "966.0",
                  "18.3",
                  null,
                  null,
                  "Debit Card"
                ],
                [
                  "43",
                  "2024-10-02",
                  "19:17:00",
                  "\"CNR6693125\"",
                  "Cancelled by Driver",
                  "\"CID7364449\"",
                  "Auto",
                  "Karol Bagh",
                  "Tagore Garden",
                  "5.4",
                  null,
                  null,
                  null,
                  "1.0",
                  "More than permitted people in there",
                  null,
                  null,
                  null,
                  null,
                  null,
                  null,
                  null
                ],
                [
                  "44",
                  "2024-04-01",
                  "21:14:19",
                  "\"CNR9572979\"",
                  "Completed",
                  "\"CID3474992\"",
                  "Go Sedan",
                  "Sultanpur",
                  "Noida Extension",
                  "12.2",
                  "42.3",
                  null,
                  null,
                  null,
                  null,
                  null,
                  null,
                  "251.0",
                  "20.91",
                  "4.2",
                  "3.6",
                  "Debit Card"
                ],
                [
                  "45",
                  "2024-09-18",
                  "21:06:36",
                  "\"CNR6444364\"",
                  "Cancelled by Driver",
                  "\"CID8262635\"",
                  "Go Mini",
                  "Moti Nagar",
                  "Anand Vihar ISBT",
                  "6.6",
                  null,
                  null,
                  null,
                  "1.0",
                  "More than permitted people in there",
                  null,
                  null,
                  null,
                  null,
                  null,
                  null,
                  null
                ],
                [
                  "46",
                  "2024-08-02",
                  "07:17:07",
                  "\"CNR4862806\"",
                  "Cancelled by Customer",
                  "\"CID7875150\"",
                  "Auto",
                  "Shastri Park",
                  "Anand Vihar ISBT",
                  "11.3",
                  null,
                  "1.0",
                  "Driver asked to cancel",
                  null,
                  null,
                  null,
                  null,
                  null,
                  null,
                  null,
                  null,
                  null
                ],
                [
                  "47",
                  "2024-09-30",
                  "13:10:50",
                  "\"CNR4674790\"",
                  "Incomplete",
                  "\"CID4795905\"",
                  "Bike",
                  "Dilshad Garden",
                  "Nehru Place",
                  "2.3",
                  "29.7",
                  null,
                  null,
                  null,
                  null,
                  "1.0",
                  "Vehicle Breakdown",
                  "453.0",
                  "19.24",
                  null,
                  null,
                  "Debit Card"
                ],
                [
                  "48",
                  "2024-06-16",
                  "00:44:47",
                  "\"CNR6866217\"",
                  "Completed",
                  "\"CID7798304\"",
                  "Go Sedan",
                  "Dilshad Garden",
                  "Nehru Place",
                  "7.8",
                  "42.2",
                  null,
                  null,
                  null,
                  null,
                  null,
                  null,
                  "246.0",
                  "8.13",
                  "4.2",
                  "4.5",
                  "UPI"
                ],
                [
                  "49",
                  "2024-09-18",
                  "09:33:55",
                  "\"CNR4932611\"",
                  "Completed",
                  "\"CID8795963\"",
                  "Auto",
                  "Aya Nagar",
                  "Karkarduma",
                  "8.8",
                  "25.2",
                  null,
                  null,
                  null,
                  null,
                  null,
                  null,
                  "237.0",
                  "2.96",
                  "3.9",
                  "3.3",
                  "UPI"
                ]
              ],
              "shape": {
                "columns": 21,
                "rows": 150000
              }
            },
            "text/html": [
              "<div>\n",
              "<style scoped>\n",
              "    .dataframe tbody tr th:only-of-type {\n",
              "        vertical-align: middle;\n",
              "    }\n",
              "\n",
              "    .dataframe tbody tr th {\n",
              "        vertical-align: top;\n",
              "    }\n",
              "\n",
              "    .dataframe thead th {\n",
              "        text-align: right;\n",
              "    }\n",
              "</style>\n",
              "<table border=\"1\" class=\"dataframe\">\n",
              "  <thead>\n",
              "    <tr style=\"text-align: right;\">\n",
              "      <th></th>\n",
              "      <th>Date</th>\n",
              "      <th>Time</th>\n",
              "      <th>Booking ID</th>\n",
              "      <th>Booking Status</th>\n",
              "      <th>Customer ID</th>\n",
              "      <th>Vehicle Type</th>\n",
              "      <th>Pickup Location</th>\n",
              "      <th>Drop Location</th>\n",
              "      <th>Avg VTAT</th>\n",
              "      <th>Avg CTAT</th>\n",
              "      <th>...</th>\n",
              "      <th>Reason for cancelling by Customer</th>\n",
              "      <th>Cancelled Rides by Driver</th>\n",
              "      <th>Driver Cancellation Reason</th>\n",
              "      <th>Incomplete Rides</th>\n",
              "      <th>Incomplete Rides Reason</th>\n",
              "      <th>Booking Value</th>\n",
              "      <th>Ride Distance</th>\n",
              "      <th>Driver Ratings</th>\n",
              "      <th>Customer Rating</th>\n",
              "      <th>Payment Method</th>\n",
              "    </tr>\n",
              "  </thead>\n",
              "  <tbody>\n",
              "    <tr>\n",
              "      <th>0</th>\n",
              "      <td>2024-03-23</td>\n",
              "      <td>12:29:38</td>\n",
              "      <td>\"CNR5884300\"</td>\n",
              "      <td>No Driver Found</td>\n",
              "      <td>\"CID1982111\"</td>\n",
              "      <td>eBike</td>\n",
              "      <td>Palam Vihar</td>\n",
              "      <td>Jhilmil</td>\n",
              "      <td>NaN</td>\n",
              "      <td>NaN</td>\n",
              "      <td>...</td>\n",
              "      <td>NaN</td>\n",
              "      <td>NaN</td>\n",
              "      <td>NaN</td>\n",
              "      <td>NaN</td>\n",
              "      <td>NaN</td>\n",
              "      <td>NaN</td>\n",
              "      <td>NaN</td>\n",
              "      <td>NaN</td>\n",
              "      <td>NaN</td>\n",
              "      <td>NaN</td>\n",
              "    </tr>\n",
              "    <tr>\n",
              "      <th>1</th>\n",
              "      <td>2024-11-29</td>\n",
              "      <td>18:01:39</td>\n",
              "      <td>\"CNR1326809\"</td>\n",
              "      <td>Incomplete</td>\n",
              "      <td>\"CID4604802\"</td>\n",
              "      <td>Go Sedan</td>\n",
              "      <td>Shastri Nagar</td>\n",
              "      <td>Gurgaon Sector 56</td>\n",
              "      <td>4.9</td>\n",
              "      <td>14.0</td>\n",
              "      <td>...</td>\n",
              "      <td>NaN</td>\n",
              "      <td>NaN</td>\n",
              "      <td>NaN</td>\n",
              "      <td>1.0</td>\n",
              "      <td>Vehicle Breakdown</td>\n",
              "      <td>237.0</td>\n",
              "      <td>5.73</td>\n",
              "      <td>NaN</td>\n",
              "      <td>NaN</td>\n",
              "      <td>UPI</td>\n",
              "    </tr>\n",
              "    <tr>\n",
              "      <th>2</th>\n",
              "      <td>2024-08-23</td>\n",
              "      <td>08:56:10</td>\n",
              "      <td>\"CNR8494506\"</td>\n",
              "      <td>Completed</td>\n",
              "      <td>\"CID9202816\"</td>\n",
              "      <td>Auto</td>\n",
              "      <td>Khandsa</td>\n",
              "      <td>Malviya Nagar</td>\n",
              "      <td>13.4</td>\n",
              "      <td>25.8</td>\n",
              "      <td>...</td>\n",
              "      <td>NaN</td>\n",
              "      <td>NaN</td>\n",
              "      <td>NaN</td>\n",
              "      <td>NaN</td>\n",
              "      <td>NaN</td>\n",
              "      <td>627.0</td>\n",
              "      <td>13.58</td>\n",
              "      <td>4.9</td>\n",
              "      <td>4.9</td>\n",
              "      <td>Debit Card</td>\n",
              "    </tr>\n",
              "    <tr>\n",
              "      <th>3</th>\n",
              "      <td>2024-10-21</td>\n",
              "      <td>17:17:25</td>\n",
              "      <td>\"CNR8906825\"</td>\n",
              "      <td>Completed</td>\n",
              "      <td>\"CID2610914\"</td>\n",
              "      <td>Premier Sedan</td>\n",
              "      <td>Central Secretariat</td>\n",
              "      <td>Inderlok</td>\n",
              "      <td>13.1</td>\n",
              "      <td>28.5</td>\n",
              "      <td>...</td>\n",
              "      <td>NaN</td>\n",
              "      <td>NaN</td>\n",
              "      <td>NaN</td>\n",
              "      <td>NaN</td>\n",
              "      <td>NaN</td>\n",
              "      <td>416.0</td>\n",
              "      <td>34.02</td>\n",
              "      <td>4.6</td>\n",
              "      <td>5.0</td>\n",
              "      <td>UPI</td>\n",
              "    </tr>\n",
              "    <tr>\n",
              "      <th>4</th>\n",
              "      <td>2024-09-16</td>\n",
              "      <td>22:08:00</td>\n",
              "      <td>\"CNR1950162\"</td>\n",
              "      <td>Completed</td>\n",
              "      <td>\"CID9933542\"</td>\n",
              "      <td>Bike</td>\n",
              "      <td>Ghitorni Village</td>\n",
              "      <td>Khan Market</td>\n",
              "      <td>5.3</td>\n",
              "      <td>19.6</td>\n",
              "      <td>...</td>\n",
              "      <td>NaN</td>\n",
              "      <td>NaN</td>\n",
              "      <td>NaN</td>\n",
              "      <td>NaN</td>\n",
              "      <td>NaN</td>\n",
              "      <td>737.0</td>\n",
              "      <td>48.21</td>\n",
              "      <td>4.1</td>\n",
              "      <td>4.3</td>\n",
              "      <td>UPI</td>\n",
              "    </tr>\n",
              "    <tr>\n",
              "      <th>...</th>\n",
              "      <td>...</td>\n",
              "      <td>...</td>\n",
              "      <td>...</td>\n",
              "      <td>...</td>\n",
              "      <td>...</td>\n",
              "      <td>...</td>\n",
              "      <td>...</td>\n",
              "      <td>...</td>\n",
              "      <td>...</td>\n",
              "      <td>...</td>\n",
              "      <td>...</td>\n",
              "      <td>...</td>\n",
              "      <td>...</td>\n",
              "      <td>...</td>\n",
              "      <td>...</td>\n",
              "      <td>...</td>\n",
              "      <td>...</td>\n",
              "      <td>...</td>\n",
              "      <td>...</td>\n",
              "      <td>...</td>\n",
              "      <td>...</td>\n",
              "    </tr>\n",
              "    <tr>\n",
              "      <th>149995</th>\n",
              "      <td>2024-11-11</td>\n",
              "      <td>19:34:01</td>\n",
              "      <td>\"CNR6500631\"</td>\n",
              "      <td>Completed</td>\n",
              "      <td>\"CID4337371\"</td>\n",
              "      <td>Go Mini</td>\n",
              "      <td>MG Road</td>\n",
              "      <td>Ghitorni</td>\n",
              "      <td>10.2</td>\n",
              "      <td>44.4</td>\n",
              "      <td>...</td>\n",
              "      <td>NaN</td>\n",
              "      <td>NaN</td>\n",
              "      <td>NaN</td>\n",
              "      <td>NaN</td>\n",
              "      <td>NaN</td>\n",
              "      <td>475.0</td>\n",
              "      <td>40.08</td>\n",
              "      <td>3.7</td>\n",
              "      <td>4.1</td>\n",
              "      <td>Uber Wallet</td>\n",
              "    </tr>\n",
              "    <tr>\n",
              "      <th>149996</th>\n",
              "      <td>2024-11-24</td>\n",
              "      <td>15:55:09</td>\n",
              "      <td>\"CNR2468611\"</td>\n",
              "      <td>Completed</td>\n",
              "      <td>\"CID2325623\"</td>\n",
              "      <td>Go Mini</td>\n",
              "      <td>Golf Course Road</td>\n",
              "      <td>Akshardham</td>\n",
              "      <td>5.1</td>\n",
              "      <td>30.8</td>\n",
              "      <td>...</td>\n",
              "      <td>NaN</td>\n",
              "      <td>NaN</td>\n",
              "      <td>NaN</td>\n",
              "      <td>NaN</td>\n",
              "      <td>NaN</td>\n",
              "      <td>1093.0</td>\n",
              "      <td>21.31</td>\n",
              "      <td>4.8</td>\n",
              "      <td>5.0</td>\n",
              "      <td>UPI</td>\n",
              "    </tr>\n",
              "    <tr>\n",
              "      <th>149997</th>\n",
              "      <td>2024-09-18</td>\n",
              "      <td>10:55:15</td>\n",
              "      <td>\"CNR6358306\"</td>\n",
              "      <td>Completed</td>\n",
              "      <td>\"CID9925486\"</td>\n",
              "      <td>Go Sedan</td>\n",
              "      <td>Satguru Ram Singh Marg</td>\n",
              "      <td>Jor Bagh</td>\n",
              "      <td>2.7</td>\n",
              "      <td>23.4</td>\n",
              "      <td>...</td>\n",
              "      <td>NaN</td>\n",
              "      <td>NaN</td>\n",
              "      <td>NaN</td>\n",
              "      <td>NaN</td>\n",
              "      <td>NaN</td>\n",
              "      <td>852.0</td>\n",
              "      <td>15.93</td>\n",
              "      <td>3.9</td>\n",
              "      <td>4.4</td>\n",
              "      <td>Cash</td>\n",
              "    </tr>\n",
              "    <tr>\n",
              "      <th>149998</th>\n",
              "      <td>2024-10-05</td>\n",
              "      <td>07:53:34</td>\n",
              "      <td>\"CNR3030099\"</td>\n",
              "      <td>Completed</td>\n",
              "      <td>\"CID9415487\"</td>\n",
              "      <td>Auto</td>\n",
              "      <td>Ghaziabad</td>\n",
              "      <td>Saidulajab</td>\n",
              "      <td>6.9</td>\n",
              "      <td>39.6</td>\n",
              "      <td>...</td>\n",
              "      <td>NaN</td>\n",
              "      <td>NaN</td>\n",
              "      <td>NaN</td>\n",
              "      <td>NaN</td>\n",
              "      <td>NaN</td>\n",
              "      <td>333.0</td>\n",
              "      <td>45.54</td>\n",
              "      <td>4.1</td>\n",
              "      <td>3.7</td>\n",
              "      <td>UPI</td>\n",
              "    </tr>\n",
              "    <tr>\n",
              "      <th>149999</th>\n",
              "      <td>2024-03-10</td>\n",
              "      <td>15:38:03</td>\n",
              "      <td>\"CNR3447390\"</td>\n",
              "      <td>Completed</td>\n",
              "      <td>\"CID4108667\"</td>\n",
              "      <td>Premier Sedan</td>\n",
              "      <td>Ashok Park Main</td>\n",
              "      <td>Gurgaon Sector 29</td>\n",
              "      <td>3.5</td>\n",
              "      <td>33.7</td>\n",
              "      <td>...</td>\n",
              "      <td>NaN</td>\n",
              "      <td>NaN</td>\n",
              "      <td>NaN</td>\n",
              "      <td>NaN</td>\n",
              "      <td>NaN</td>\n",
              "      <td>806.0</td>\n",
              "      <td>21.19</td>\n",
              "      <td>4.6</td>\n",
              "      <td>4.9</td>\n",
              "      <td>Credit Card</td>\n",
              "    </tr>\n",
              "  </tbody>\n",
              "</table>\n",
              "<p>150000 rows × 21 columns</p>\n",
              "</div>"
            ],
            "text/plain": [
              "              Date      Time    Booking ID   Booking Status   Customer ID  \\\n",
              "0       2024-03-23  12:29:38  \"CNR5884300\"  No Driver Found  \"CID1982111\"   \n",
              "1       2024-11-29  18:01:39  \"CNR1326809\"       Incomplete  \"CID4604802\"   \n",
              "2       2024-08-23  08:56:10  \"CNR8494506\"        Completed  \"CID9202816\"   \n",
              "3       2024-10-21  17:17:25  \"CNR8906825\"        Completed  \"CID2610914\"   \n",
              "4       2024-09-16  22:08:00  \"CNR1950162\"        Completed  \"CID9933542\"   \n",
              "...            ...       ...           ...              ...           ...   \n",
              "149995  2024-11-11  19:34:01  \"CNR6500631\"        Completed  \"CID4337371\"   \n",
              "149996  2024-11-24  15:55:09  \"CNR2468611\"        Completed  \"CID2325623\"   \n",
              "149997  2024-09-18  10:55:15  \"CNR6358306\"        Completed  \"CID9925486\"   \n",
              "149998  2024-10-05  07:53:34  \"CNR3030099\"        Completed  \"CID9415487\"   \n",
              "149999  2024-03-10  15:38:03  \"CNR3447390\"        Completed  \"CID4108667\"   \n",
              "\n",
              "         Vehicle Type         Pickup Location      Drop Location  Avg VTAT  \\\n",
              "0               eBike             Palam Vihar            Jhilmil       NaN   \n",
              "1            Go Sedan           Shastri Nagar  Gurgaon Sector 56       4.9   \n",
              "2                Auto                 Khandsa      Malviya Nagar      13.4   \n",
              "3       Premier Sedan     Central Secretariat           Inderlok      13.1   \n",
              "4                Bike        Ghitorni Village        Khan Market       5.3   \n",
              "...               ...                     ...                ...       ...   \n",
              "149995        Go Mini                 MG Road           Ghitorni      10.2   \n",
              "149996        Go Mini        Golf Course Road         Akshardham       5.1   \n",
              "149997       Go Sedan  Satguru Ram Singh Marg           Jor Bagh       2.7   \n",
              "149998           Auto               Ghaziabad         Saidulajab       6.9   \n",
              "149999  Premier Sedan         Ashok Park Main  Gurgaon Sector 29       3.5   \n",
              "\n",
              "        Avg CTAT  ...  Reason for cancelling by Customer  \\\n",
              "0            NaN  ...                                NaN   \n",
              "1           14.0  ...                                NaN   \n",
              "2           25.8  ...                                NaN   \n",
              "3           28.5  ...                                NaN   \n",
              "4           19.6  ...                                NaN   \n",
              "...          ...  ...                                ...   \n",
              "149995      44.4  ...                                NaN   \n",
              "149996      30.8  ...                                NaN   \n",
              "149997      23.4  ...                                NaN   \n",
              "149998      39.6  ...                                NaN   \n",
              "149999      33.7  ...                                NaN   \n",
              "\n",
              "       Cancelled Rides by Driver  Driver Cancellation Reason Incomplete Rides  \\\n",
              "0                            NaN                         NaN              NaN   \n",
              "1                            NaN                         NaN              1.0   \n",
              "2                            NaN                         NaN              NaN   \n",
              "3                            NaN                         NaN              NaN   \n",
              "4                            NaN                         NaN              NaN   \n",
              "...                          ...                         ...              ...   \n",
              "149995                       NaN                         NaN              NaN   \n",
              "149996                       NaN                         NaN              NaN   \n",
              "149997                       NaN                         NaN              NaN   \n",
              "149998                       NaN                         NaN              NaN   \n",
              "149999                       NaN                         NaN              NaN   \n",
              "\n",
              "        Incomplete Rides Reason Booking Value  Ride Distance  Driver Ratings  \\\n",
              "0                           NaN           NaN            NaN             NaN   \n",
              "1             Vehicle Breakdown         237.0           5.73             NaN   \n",
              "2                           NaN         627.0          13.58             4.9   \n",
              "3                           NaN         416.0          34.02             4.6   \n",
              "4                           NaN         737.0          48.21             4.1   \n",
              "...                         ...           ...            ...             ...   \n",
              "149995                      NaN         475.0          40.08             3.7   \n",
              "149996                      NaN        1093.0          21.31             4.8   \n",
              "149997                      NaN         852.0          15.93             3.9   \n",
              "149998                      NaN         333.0          45.54             4.1   \n",
              "149999                      NaN         806.0          21.19             4.6   \n",
              "\n",
              "        Customer Rating  Payment Method  \n",
              "0                   NaN             NaN  \n",
              "1                   NaN             UPI  \n",
              "2                   4.9      Debit Card  \n",
              "3                   5.0             UPI  \n",
              "4                   4.3             UPI  \n",
              "...                 ...             ...  \n",
              "149995              4.1     Uber Wallet  \n",
              "149996              5.0             UPI  \n",
              "149997              4.4            Cash  \n",
              "149998              3.7             UPI  \n",
              "149999              4.9     Credit Card  \n",
              "\n",
              "[150000 rows x 21 columns]"
            ]
          },
          "execution_count": 93,
          "metadata": {},
          "output_type": "execute_result"
        }
      ],
      "source": [
        "df_csv"
      ]
    },
    {
      "cell_type": "code",
      "execution_count": null,
      "metadata": {},
      "outputs": [],
      "source": [
        "# - Cambiar 'Vehicle_type' a tipo string\n",
        "df_csv['Vehicle Type'] = df_csv['Vehicle Type'].astype('string')"
      ]
    },
    {
      "cell_type": "code",
      "execution_count": null,
      "metadata": {},
      "outputs": [],
      "source": [
        "# Cambiar varias columnas a tipo string\n",
        "df_csv[\n",
        "    ['Pickup Location',\n",
        "     'Drop Location',\n",
        "     'Incomplete Rides Reason',\n",
        "     'Payment Method']\n",
        "] = df_csv[\n",
        "    ['Pickup Location',\n",
        "     'Drop Location',\n",
        "     'Incomplete Rides Reason',\n",
        "     'Payment Method']\n",
        "].astype('string')"
      ]
    },
    {
      "cell_type": "markdown",
      "metadata": {},
      "source": [
        "## 📌 Manejo de valores nulos\n",
        "\n",
        "En Pandas, los valores nulos o faltantes se representan con `NaN` (Not a Number).\n",
        "Se pueden manejar de varias formas:\n",
        "- **Rellenar valores nulos**: Usando `fillna()`, puedes reemplazar los valores nulos con un valor específico, la media, la mediana, etc.\n",
        "- **Eliminar valores nulos**: Con `dropna()`, puedes eliminar filas o columnas que contengan valores nulos.\n",
        "\n",
        "> Importante! Asegúrate de entender bien el contexto de tus datos antes de decidir cómo manejar los valores nulos, ya que diferentes enfoques pueden afectar significativamente tus análisis posteriores."
      ]
    },
    {
      "cell_type": "code",
      "execution_count": null,
      "metadata": {},
      "outputs": [
        {
          "name": "stdout",
          "output_type": "stream",
          "text": [
            "<class 'pandas.core.frame.DataFrame'>\n",
            "RangeIndex: 150000 entries, 0 to 149999\n",
            "Data columns (total 21 columns):\n",
            " #   Column                             Non-Null Count   Dtype  \n",
            "---  ------                             --------------   -----  \n",
            " 0   Date                               150000 non-null  object \n",
            " 1   Time                               150000 non-null  object \n",
            " 2   Booking ID                         150000 non-null  object \n",
            " 3   Booking Status                     150000 non-null  object \n",
            " 4   Customer ID                        150000 non-null  object \n",
            " 5   Vehicle Type                       150000 non-null  string \n",
            " 6   Pickup Location                    150000 non-null  string \n",
            " 7   Drop Location                      150000 non-null  string \n",
            " 8   Avg VTAT                           139500 non-null  float64\n",
            " 9   Avg CTAT                           102000 non-null  float64\n",
            " 10  Cancelled Rides by Customer        10500 non-null   float64\n",
            " 11  Reason for cancelling by Customer  10500 non-null   object \n",
            " 12  Cancelled Rides by Driver          27000 non-null   float64\n",
            " 13  Driver Cancellation Reason         27000 non-null   object \n",
            " 14  Incomplete Rides                   9000 non-null    float64\n",
            " 15  Incomplete Rides Reason            9000 non-null    string \n",
            " 16  Booking Value                      102000 non-null  float64\n",
            " 17  Ride Distance                      102000 non-null  float64\n",
            " 18  Driver Ratings                     93000 non-null   float64\n",
            " 19  Customer Rating                    93000 non-null   float64\n",
            " 20  Payment Method                     102000 non-null  string \n",
            "dtypes: float64(9), object(7), string(5)\n",
            "memory usage: 24.0+ MB\n"
          ]
        }
      ],
      "source": [
        "# Remplazo de valores nulos\n",
        "df_csv.info()"
      ]
    },
    {
      "cell_type": "code",
      "execution_count": 106,
      "metadata": {},
      "outputs": [
        {
          "data": {
            "application/vnd.microsoft.datawrangler.viewer.v0+json": {
              "columns": [
                {
                  "name": "index",
                  "rawType": "object",
                  "type": "string"
                },
                {
                  "name": "0",
                  "rawType": "float64",
                  "type": "float"
                }
              ],
              "ref": "6aa24c90-706e-4585-8463-aaf62bce9034",
              "rows": [
                [
                  "Date",
                  "0.0"
                ],
                [
                  "Time",
                  "0.0"
                ],
                [
                  "Booking ID",
                  "0.0"
                ],
                [
                  "Booking Status",
                  "0.0"
                ],
                [
                  "Customer ID",
                  "0.0"
                ],
                [
                  "Vehicle Type",
                  "0.0"
                ],
                [
                  "Pickup Location",
                  "0.0"
                ],
                [
                  "Drop Location",
                  "0.0"
                ],
                [
                  "Avg VTAT",
                  "7.000000000000001"
                ],
                [
                  "Avg CTAT",
                  "32.0"
                ],
                [
                  "Cancelled Rides by Customer",
                  "93.0"
                ],
                [
                  "Reason for cancelling by Customer",
                  "93.0"
                ],
                [
                  "Cancelled Rides by Driver",
                  "82.0"
                ],
                [
                  "Driver Cancellation Reason",
                  "82.0"
                ],
                [
                  "Incomplete Rides",
                  "94.0"
                ],
                [
                  "Incomplete Rides Reason",
                  "94.0"
                ],
                [
                  "Booking Value",
                  "32.0"
                ],
                [
                  "Ride Distance",
                  "32.0"
                ],
                [
                  "Driver Ratings",
                  "38.0"
                ],
                [
                  "Customer Rating",
                  "38.0"
                ],
                [
                  "Payment Method",
                  "32.0"
                ]
              ],
              "shape": {
                "columns": 1,
                "rows": 21
              }
            },
            "text/plain": [
              "Date                                  0.0\n",
              "Time                                  0.0\n",
              "Booking ID                            0.0\n",
              "Booking Status                        0.0\n",
              "Customer ID                           0.0\n",
              "Vehicle Type                          0.0\n",
              "Pickup Location                       0.0\n",
              "Drop Location                         0.0\n",
              "Avg VTAT                              7.0\n",
              "Avg CTAT                             32.0\n",
              "Cancelled Rides by Customer          93.0\n",
              "Reason for cancelling by Customer    93.0\n",
              "Cancelled Rides by Driver            82.0\n",
              "Driver Cancellation Reason           82.0\n",
              "Incomplete Rides                     94.0\n",
              "Incomplete Rides Reason              94.0\n",
              "Booking Value                        32.0\n",
              "Ride Distance                        32.0\n",
              "Driver Ratings                       38.0\n",
              "Customer Rating                      38.0\n",
              "Payment Method                       32.0\n",
              "dtype: float64"
            ]
          },
          "execution_count": 106,
          "metadata": {},
          "output_type": "execute_result"
        }
      ],
      "source": [
        "# Porcentaje de nulos por columna. Suma los nulos y lo divide por el total de filas, \n",
        "# multiplicado por 100 para obtener el porcentaje.\n",
        "(df_csv.isnull().sum() / len(df_csv)) * 100"
      ]
    },
    {
      "cell_type": "markdown",
      "metadata": {},
      "source": [
        "**💡 Estrategia para manejar nulos**\n",
        "\n",
        "- Para estadísticas y análisis generales, normalmente se prefieren columnas con menos nulos, por ejemplo:\n",
        "\n",
        "    - Avg VTAT (~7% nulos) → aceptable para análisis general\n",
        "\n",
        "    - Avg CTAT (~32% nulos) → todavía manejable con imputación\n",
        "\n",
        "- Columnas como Cancelled Rides by Customer o Incomplete Rides tienen más del 90% nulos, lo que indica que:\n",
        "\n",
        "    - Solo aplican a un subconjunto específico de datos. Lo mejor es no imputar valores, sino tratarlas como información condicional (por ejemplo, filtrar filas donde hay cancelaciones o rides incompletos).\n",
        "\n",
        "- Columnas como Booking Value, Ride Distance y Payment Method (~32% nulos) pueden imputarse con cuidado, por ejemplo:\n",
        "\n",
        "    - Rellenar valores faltantes con la media, mediana o categoría “Desconocido” si es categórica.\n",
        "\n",
        "✅ Recomendación\n",
        "\n",
        "- Para análisis general: Avg VTAT, Avg CTAT, Driver Ratings, Customer Rating → nulos relativamente bajos/moderados.\n",
        "\n",
        "- Para análisis condicional (eventos específicos): Cancelled Rides by Customer, Cancelled Rides by Driver, Incomplete Rides → tratar nulos como 0 o no aplicable según el contexto.\n",
        "\n",
        "- Columnas categóricas con nulos moderados: Payment Method → imputar con \"Unknown\" si se requiere completar datos."
      ]
    },
    {
      "cell_type": "code",
      "execution_count": 108,
      "metadata": {},
      "outputs": [],
      "source": [
        "# Boking value tiene muchos nulos, se puede imputar con la media con fillna\n",
        "df_csv_not_null = df_csv['Booking Value'].fillna(df_csv['Booking Value'].mean())\n"
      ]
    },
    {
      "cell_type": "code",
      "execution_count": 109,
      "metadata": {},
      "outputs": [
        {
          "data": {
            "application/vnd.microsoft.datawrangler.viewer.v0+json": {
              "columns": [
                {
                  "name": "index",
                  "rawType": "int64",
                  "type": "integer"
                },
                {
                  "name": "Booking Value",
                  "rawType": "float64",
                  "type": "float"
                }
              ],
              "ref": "6cdfe9d6-2cfb-4c48-8c0e-7467bf12fe55",
              "rows": [
                [
                  "0",
                  "508.29591176470586"
                ],
                [
                  "1",
                  "237.0"
                ],
                [
                  "2",
                  "627.0"
                ],
                [
                  "3",
                  "416.0"
                ],
                [
                  "4",
                  "737.0"
                ],
                [
                  "5",
                  "316.0"
                ],
                [
                  "6",
                  "640.0"
                ],
                [
                  "7",
                  "136.0"
                ],
                [
                  "8",
                  "508.29591176470586"
                ],
                [
                  "9",
                  "135.0"
                ],
                [
                  "10",
                  "181.0"
                ],
                [
                  "11",
                  "508.29591176470586"
                ],
                [
                  "12",
                  "508.29591176470586"
                ],
                [
                  "13",
                  "394.0"
                ],
                [
                  "14",
                  "836.0"
                ],
                [
                  "15",
                  "410.0"
                ],
                [
                  "16",
                  "401.0"
                ],
                [
                  "17",
                  "508.29591176470586"
                ],
                [
                  "18",
                  "508.29591176470586"
                ],
                [
                  "19",
                  "508.29591176470586"
                ],
                [
                  "20",
                  "264.0"
                ],
                [
                  "21",
                  "183.0"
                ],
                [
                  "22",
                  "713.0"
                ],
                [
                  "23",
                  "113.0"
                ],
                [
                  "24",
                  "767.0"
                ],
                [
                  "25",
                  "495.0"
                ],
                [
                  "26",
                  "508.29591176470586"
                ],
                [
                  "27",
                  "508.29591176470586"
                ],
                [
                  "28",
                  "304.0"
                ],
                [
                  "29",
                  "2847.0"
                ],
                [
                  "30",
                  "508.29591176470586"
                ],
                [
                  "31",
                  "282.0"
                ],
                [
                  "32",
                  "656.0"
                ],
                [
                  "33",
                  "134.0"
                ],
                [
                  "34",
                  "508.29591176470586"
                ],
                [
                  "35",
                  "470.0"
                ],
                [
                  "36",
                  "187.0"
                ],
                [
                  "37",
                  "186.0"
                ],
                [
                  "38",
                  "70.0"
                ],
                [
                  "39",
                  "508.29591176470586"
                ],
                [
                  "40",
                  "508.29591176470586"
                ],
                [
                  "41",
                  "273.0"
                ],
                [
                  "42",
                  "966.0"
                ],
                [
                  "43",
                  "508.29591176470586"
                ],
                [
                  "44",
                  "251.0"
                ],
                [
                  "45",
                  "508.29591176470586"
                ],
                [
                  "46",
                  "508.29591176470586"
                ],
                [
                  "47",
                  "453.0"
                ],
                [
                  "48",
                  "246.0"
                ],
                [
                  "49",
                  "237.0"
                ]
              ],
              "shape": {
                "columns": 1,
                "rows": 150000
              }
            },
            "text/plain": [
              "0          508.295912\n",
              "1          237.000000\n",
              "2          627.000000\n",
              "3          416.000000\n",
              "4          737.000000\n",
              "             ...     \n",
              "149995     475.000000\n",
              "149996    1093.000000\n",
              "149997     852.000000\n",
              "149998     333.000000\n",
              "149999     806.000000\n",
              "Name: Booking Value, Length: 150000, dtype: float64"
            ]
          },
          "execution_count": 109,
          "metadata": {},
          "output_type": "execute_result"
        }
      ],
      "source": [
        "df_csv_not_null"
      ]
    },
    {
      "cell_type": "code",
      "execution_count": null,
      "metadata": {},
      "outputs": [],
      "source": [
        "# Con dropna podemos eliminar filas con nulos\n",
        "df_csv.dropna(subset=['Booking Value'], inplace=True)"
      ]
    },
    {
      "cell_type": "markdown",
      "metadata": {},
      "source": [
        "## 📌 Remplazo de valores\n",
        "\n",
        "A veces es necesario reemplazar valores específicos en una columna, por ejemplo, para agrupar categorías similares o corregir errores tipográficos.\n",
        "\n",
        "Para tomar decisiones informadas sobre qué valores reemplazar, es útil explorar los valores únicos y sus frecuencias en las columnas.\n",
        "\n",
        "Algunos de los métodos más comunes para conocer los valores de las columnas son:\n",
        "\n",
        "### 🏷️ Tabla de métodos para explorar valores únicos y frecuencias\n",
        "| Método         | Descripción                                                                                                   |\n",
        "|----------------|--------------------------------------------------------------------------------------------------------------|\n",
        "| `unique()`     | Identifica los valores únicos en una columna, útil para entender qué valores pueden necesitar ser reemplazados.|\n",
        "| `value_counts()`| Cuenta la frecuencia de cada valor único en una columna, ayudando a identificar valores atípicos o errores.   |\n",
        "| `nunique()`    | Devuelve el número de valores únicos en una columna, proporcionando una visión rápida de la diversidad de datos.|\n",
        "\n"
      ]
    },
    {
      "cell_type": "code",
      "execution_count": 111,
      "metadata": {},
      "outputs": [
        {
          "data": {
            "text/plain": [
              "array([nan, 'UPI', 'Debit Card', 'Cash', 'Uber Wallet', 'Credit Card'],\n",
              "      dtype=object)"
            ]
          },
          "execution_count": 111,
          "metadata": {},
          "output_type": "execute_result"
        }
      ],
      "source": [
        "# Identificar valores únicos en una columna\n",
        "df_csv['Payment Method'].unique()"
      ]
    },
    {
      "cell_type": "code",
      "execution_count": 112,
      "metadata": {},
      "outputs": [
        {
          "data": {
            "application/vnd.microsoft.datawrangler.viewer.v0+json": {
              "columns": [
                {
                  "name": "Payment Method",
                  "rawType": "object",
                  "type": "string"
                },
                {
                  "name": "count",
                  "rawType": "int64",
                  "type": "integer"
                }
              ],
              "ref": "55ce8506-c8a0-49a6-a217-54abf426acc4",
              "rows": [
                [
                  "UPI",
                  "45909"
                ],
                [
                  "Cash",
                  "25367"
                ],
                [
                  "Uber Wallet",
                  "12276"
                ],
                [
                  "Credit Card",
                  "10209"
                ],
                [
                  "Debit Card",
                  "8239"
                ]
              ],
              "shape": {
                "columns": 1,
                "rows": 5
              }
            },
            "text/plain": [
              "Payment Method\n",
              "UPI            45909\n",
              "Cash           25367\n",
              "Uber Wallet    12276\n",
              "Credit Card    10209\n",
              "Debit Card      8239\n",
              "Name: count, dtype: int64"
            ]
          },
          "execution_count": 112,
          "metadata": {},
          "output_type": "execute_result"
        }
      ],
      "source": [
        "# Identificar los valores y su frecuencia en una columna\n",
        "df_csv['Payment Method'].value_counts()\n"
      ]
    },
    {
      "cell_type": "code",
      "execution_count": 113,
      "metadata": {},
      "outputs": [
        {
          "data": {
            "text/plain": [
              "5"
            ]
          },
          "execution_count": 113,
          "metadata": {},
          "output_type": "execute_result"
        }
      ],
      "source": [
        "# con nunique podemos ver el número de valores únicos en una columna\n",
        "df_csv['Payment Method'].nunique()"
      ]
    },
    {
      "cell_type": "markdown",
      "metadata": {},
      "source": [
        "Una vez que se entienden los valores presentes en una columna, se pueden realizar las transformaciones necesarias, generalmente mediante remplazos.\n",
        "Los métodos más comunes para reemplazar valores en una columna son:\n",
        "- `replace()`: Permite reemplazar valores específicos en una columna o DataFrame.\n",
        "- `map()`: Útil para reemplazar valores basados en un diccionario de mapeo.\n",
        "- `apply()`: Permite aplicar una función personalizada para transformar los valores de una columna.\n"
      ]
    },
    {
      "cell_type": "code",
      "execution_count": 114,
      "metadata": {},
      "outputs": [
        {
          "name": "stderr",
          "output_type": "stream",
          "text": [
            "C:\\Users\\amval\\AppData\\Local\\Temp\\ipykernel_6760\\1757437213.py:2: FutureWarning: A value is trying to be set on a copy of a DataFrame or Series through chained assignment using an inplace method.\n",
            "The behavior will change in pandas 3.0. This inplace method will never work because the intermediate object on which we are setting values always behaves as a copy.\n",
            "\n",
            "For example, when doing 'df[col].method(value, inplace=True)', try using 'df.method({col: value}, inplace=True)' or df[col] = df[col].method(value) instead, to perform the operation inplace on the original object.\n",
            "\n",
            "\n",
            "  df_csv['Payment Method'].replace({'Credit Card': 'Card', 'Debit Card': 'Card'}, inplace=True)\n"
          ]
        }
      ],
      "source": [
        "# Remplazo de valores específicos en una columna con replace\n",
        "df_csv['Payment Method'].replace({'Credit Card': 'Card', 'Debit Card': 'Card'}, inplace=True)\n"
      ]
    },
    {
      "cell_type": "code",
      "execution_count": 122,
      "metadata": {},
      "outputs": [
        {
          "data": {
            "application/vnd.microsoft.datawrangler.viewer.v0+json": {
              "columns": [
                {
                  "name": "Payment Method",
                  "rawType": "object",
                  "type": "string"
                },
                {
                  "name": "count",
                  "rawType": "int64",
                  "type": "integer"
                }
              ],
              "ref": "888c0a1d-37b5-4a65-8cb1-587ea9311e3e",
              "rows": [
                [
                  "Other",
                  "106185"
                ],
                [
                  "Cash",
                  "25367"
                ],
                [
                  "Card",
                  "18448"
                ]
              ],
              "shape": {
                "columns": 1,
                "rows": 3
              }
            },
            "text/plain": [
              "Payment Method\n",
              "Other    106185\n",
              "Cash      25367\n",
              "Card      18448\n",
              "Name: count, dtype: int64"
            ]
          },
          "execution_count": 122,
          "metadata": {},
          "output_type": "execute_result"
        }
      ],
      "source": [
        "df_csv['Payment Method'].value_counts()"
      ]
    },
    {
      "cell_type": "code",
      "execution_count": 118,
      "metadata": {},
      "outputs": [
        {
          "data": {
            "application/vnd.microsoft.datawrangler.viewer.v0+json": {
              "columns": [
                {
                  "name": "index",
                  "rawType": "int64",
                  "type": "integer"
                },
                {
                  "name": "Vehicle Type",
                  "rawType": "object",
                  "type": "unknown"
                }
              ],
              "ref": "17e9725b-83dc-4275-a75e-3cbb5959ca1f",
              "rows": [
                [
                  "0",
                  "Electric Bike"
                ],
                [
                  "1",
                  "Gasoline Sedan"
                ],
                [
                  "2",
                  null
                ],
                [
                  "3",
                  null
                ],
                [
                  "4",
                  null
                ],
                [
                  "5",
                  null
                ],
                [
                  "6",
                  "Gasoline Mini"
                ],
                [
                  "7",
                  null
                ],
                [
                  "8",
                  "Gasoline Sedan"
                ],
                [
                  "9",
                  null
                ],
                [
                  "10",
                  null
                ],
                [
                  "11",
                  null
                ],
                [
                  "12",
                  "Electric Bike"
                ],
                [
                  "13",
                  "Gasoline Mini"
                ],
                [
                  "14",
                  "Gasoline Mini"
                ],
                [
                  "15",
                  null
                ],
                [
                  "16",
                  null
                ],
                [
                  "17",
                  "Gasoline Sedan"
                ],
                [
                  "18",
                  "Electric Bike"
                ],
                [
                  "19",
                  "Electric Bike"
                ],
                [
                  "20",
                  "Gasoline Sedan"
                ],
                [
                  "21",
                  null
                ],
                [
                  "22",
                  "Gasoline Mini"
                ],
                [
                  "23",
                  "Gasoline Mini"
                ],
                [
                  "24",
                  null
                ],
                [
                  "25",
                  null
                ],
                [
                  "26",
                  null
                ],
                [
                  "27",
                  null
                ],
                [
                  "28",
                  null
                ],
                [
                  "29",
                  null
                ],
                [
                  "30",
                  "Gasoline Mini"
                ],
                [
                  "31",
                  "Gasoline Mini"
                ],
                [
                  "32",
                  null
                ],
                [
                  "33",
                  null
                ],
                [
                  "34",
                  "Gasoline Sedan"
                ],
                [
                  "35",
                  "Gasoline Sedan"
                ],
                [
                  "36",
                  null
                ],
                [
                  "37",
                  null
                ],
                [
                  "38",
                  "Electric Bike"
                ],
                [
                  "39",
                  null
                ],
                [
                  "40",
                  null
                ],
                [
                  "41",
                  null
                ],
                [
                  "42",
                  null
                ],
                [
                  "43",
                  null
                ],
                [
                  "44",
                  "Gasoline Sedan"
                ],
                [
                  "45",
                  "Gasoline Mini"
                ],
                [
                  "46",
                  null
                ],
                [
                  "47",
                  null
                ],
                [
                  "48",
                  "Gasoline Sedan"
                ],
                [
                  "49",
                  null
                ]
              ],
              "shape": {
                "columns": 1,
                "rows": 150000
              }
            },
            "text/plain": [
              "0          Electric Bike\n",
              "1         Gasoline Sedan\n",
              "2                    NaN\n",
              "3                    NaN\n",
              "4                    NaN\n",
              "               ...      \n",
              "149995     Gasoline Mini\n",
              "149996     Gasoline Mini\n",
              "149997    Gasoline Sedan\n",
              "149998               NaN\n",
              "149999               NaN\n",
              "Name: Vehicle Type, Length: 150000, dtype: object"
            ]
          },
          "execution_count": 118,
          "metadata": {},
          "output_type": "execute_result"
        }
      ],
      "source": [
        "df_csv['Vehicle Type']"
      ]
    },
    {
      "cell_type": "code",
      "execution_count": 117,
      "metadata": {},
      "outputs": [],
      "source": [
        "# Remplazo de valores con map. \n",
        "# Hay que tener en cuenta que los valores que no estén en el diccionario se convierten en NaN\n",
        "dict_map = {\n",
        "    'eBike': 'Electric Bike',\n",
        "    'Go Sedan': 'Gasoline Sedan',\n",
        "    'Go Mini'   : 'Gasoline Mini'\n",
        "}\n",
        "df_csv['Vehicle Type'] = df_csv['Vehicle Type'].map(dict_map)\n",
        "\n"
      ]
    },
    {
      "cell_type": "code",
      "execution_count": 121,
      "metadata": {},
      "outputs": [],
      "source": [
        "# remplazo de valores con apply y una función personalizada\n",
        "def standardize_payment_method(method):\n",
        "    if method in ['Credit Card', 'Debit Card']:\n",
        "        return 'Card'\n",
        "    elif method in ['Cash', 'Mobile Payment']:\n",
        "        return method #el mismo valor que tenga\n",
        "    else:\n",
        "        return 'Other'\n",
        "    \n",
        "df_csv['Payment Method'] = df_csv['Payment Method'].apply(standardize_payment_method)\n"
      ]
    },
    {
      "cell_type": "markdown",
      "metadata": {},
      "source": [
        "Explicación: Una función personalizada llamada standardize_payment_method se define para estandarizar los métodos de pago.\n",
        "\n",
        "Gracias a los condicionales, los métodos 'Credit Card' y 'Debit Card' se reemplazan por 'Card', mientras que otros métodos se mantienen igual o se etiquetan como 'Other'.\n",
        "\n",
        "Esta función se aplica a cada valor de la columna 'Payment Method' utilizando el método apply, y los resultados se asignan de nuevo a la misma columna."
      ]
    },
    {
      "cell_type": "code",
      "execution_count": 123,
      "metadata": {},
      "outputs": [
        {
          "data": {
            "application/vnd.microsoft.datawrangler.viewer.v0+json": {
              "columns": [
                {
                  "name": "Payment Method",
                  "rawType": "object",
                  "type": "string"
                },
                {
                  "name": "count",
                  "rawType": "int64",
                  "type": "integer"
                }
              ],
              "ref": "171e7985-c0d9-41bb-bb0c-be319fb59b99",
              "rows": [
                [
                  "Other",
                  "106185"
                ],
                [
                  "Cash",
                  "25367"
                ],
                [
                  "Card",
                  "18448"
                ]
              ],
              "shape": {
                "columns": 1,
                "rows": 3
              }
            },
            "text/plain": [
              "Payment Method\n",
              "Other    106185\n",
              "Cash      25367\n",
              "Card      18448\n",
              "Name: count, dtype: int64"
            ]
          },
          "execution_count": 123,
          "metadata": {},
          "output_type": "execute_result"
        }
      ],
      "source": [
        "df_csv['Payment Method'].value_counts()"
      ]
    },
    {
      "cell_type": "markdown",
      "metadata": {},
      "source": [
        "## 📌 Columnas con valores condicionales"
      ]
    },
    {
      "cell_type": "code",
      "execution_count": 124,
      "metadata": {},
      "outputs": [],
      "source": [
        "mapeo = {\n",
        "    \"Auto\": \"Economy\",\n",
        "    \"Go Mini\": \"Economy\",\n",
        "    \"Go Sedan\": \"Standard\",\n",
        "    \"Premier Sedan\": \"Premium\",\n",
        "    \"Uber XL\": \"Large\",\n",
        "    \"Bike\": \"Two-wheeler\",\n",
        "    \"eBike\": \"Two-wheeler\"\n",
        "}"
      ]
    },
    {
      "cell_type": "code",
      "execution_count": 125,
      "metadata": {},
      "outputs": [],
      "source": [
        "df_csv[\"vehicle_category\"] = df_csv[\"Vehicle Type\"].map(mapeo)"
      ]
    },
    {
      "cell_type": "code",
      "execution_count": 126,
      "metadata": {},
      "outputs": [
        {
          "data": {
            "application/vnd.microsoft.datawrangler.viewer.v0+json": {
              "columns": [
                {
                  "name": "index",
                  "rawType": "int64",
                  "type": "integer"
                },
                {
                  "name": "Date",
                  "rawType": "object",
                  "type": "string"
                },
                {
                  "name": "Time",
                  "rawType": "object",
                  "type": "string"
                },
                {
                  "name": "Booking ID",
                  "rawType": "object",
                  "type": "string"
                },
                {
                  "name": "Booking Status",
                  "rawType": "object",
                  "type": "string"
                },
                {
                  "name": "Customer ID",
                  "rawType": "object",
                  "type": "string"
                },
                {
                  "name": "Vehicle Type",
                  "rawType": "object",
                  "type": "string"
                },
                {
                  "name": "Pickup Location",
                  "rawType": "object",
                  "type": "string"
                },
                {
                  "name": "Drop Location",
                  "rawType": "object",
                  "type": "string"
                },
                {
                  "name": "Avg VTAT",
                  "rawType": "float64",
                  "type": "float"
                },
                {
                  "name": "Avg CTAT",
                  "rawType": "float64",
                  "type": "float"
                },
                {
                  "name": "Cancelled Rides by Customer",
                  "rawType": "float64",
                  "type": "float"
                },
                {
                  "name": "Reason for cancelling by Customer",
                  "rawType": "object",
                  "type": "unknown"
                },
                {
                  "name": "Cancelled Rides by Driver",
                  "rawType": "float64",
                  "type": "float"
                },
                {
                  "name": "Driver Cancellation Reason",
                  "rawType": "object",
                  "type": "unknown"
                },
                {
                  "name": "Incomplete Rides",
                  "rawType": "float64",
                  "type": "float"
                },
                {
                  "name": "Incomplete Rides Reason",
                  "rawType": "object",
                  "type": "unknown"
                },
                {
                  "name": "Booking Value",
                  "rawType": "float64",
                  "type": "float"
                },
                {
                  "name": "Ride Distance",
                  "rawType": "float64",
                  "type": "float"
                },
                {
                  "name": "Driver Ratings",
                  "rawType": "float64",
                  "type": "float"
                },
                {
                  "name": "Customer Rating",
                  "rawType": "float64",
                  "type": "float"
                },
                {
                  "name": "Payment Method",
                  "rawType": "object",
                  "type": "string"
                },
                {
                  "name": "vehicle_category",
                  "rawType": "object",
                  "type": "string"
                }
              ],
              "ref": "0f28c4a0-7b2e-4389-a74f-3431cd54feab",
              "rows": [
                [
                  "0",
                  "2024-03-23",
                  "12:29:38",
                  "\"CNR5884300\"",
                  "No Driver Found",
                  "\"CID1982111\"",
                  "eBike",
                  "Palam Vihar",
                  "Jhilmil",
                  null,
                  null,
                  null,
                  null,
                  null,
                  null,
                  null,
                  null,
                  null,
                  null,
                  null,
                  null,
                  "Other",
                  "Two-wheeler"
                ],
                [
                  "1",
                  "2024-11-29",
                  "18:01:39",
                  "\"CNR1326809\"",
                  "Incomplete",
                  "\"CID4604802\"",
                  "Go Sedan",
                  "Shastri Nagar",
                  "Gurgaon Sector 56",
                  "4.9",
                  "14.0",
                  null,
                  null,
                  null,
                  null,
                  "1.0",
                  "Vehicle Breakdown",
                  "237.0",
                  "5.73",
                  null,
                  null,
                  "Other",
                  "Standard"
                ],
                [
                  "2",
                  "2024-08-23",
                  "08:56:10",
                  "\"CNR8494506\"",
                  "Completed",
                  "\"CID9202816\"",
                  "Auto",
                  "Khandsa",
                  "Malviya Nagar",
                  "13.4",
                  "25.8",
                  null,
                  null,
                  null,
                  null,
                  null,
                  null,
                  "627.0",
                  "13.58",
                  "4.9",
                  "4.9",
                  "Card",
                  "Economy"
                ],
                [
                  "3",
                  "2024-10-21",
                  "17:17:25",
                  "\"CNR8906825\"",
                  "Completed",
                  "\"CID2610914\"",
                  "Premier Sedan",
                  "Central Secretariat",
                  "Inderlok",
                  "13.1",
                  "28.5",
                  null,
                  null,
                  null,
                  null,
                  null,
                  null,
                  "416.0",
                  "34.02",
                  "4.6",
                  "5.0",
                  "Other",
                  "Premium"
                ],
                [
                  "4",
                  "2024-09-16",
                  "22:08:00",
                  "\"CNR1950162\"",
                  "Completed",
                  "\"CID9933542\"",
                  "Bike",
                  "Ghitorni Village",
                  "Khan Market",
                  "5.3",
                  "19.6",
                  null,
                  null,
                  null,
                  null,
                  null,
                  null,
                  "737.0",
                  "48.21",
                  "4.1",
                  "4.3",
                  "Other",
                  "Two-wheeler"
                ],
                [
                  "5",
                  "2024-02-06",
                  "09:44:56",
                  "\"CNR4096693\"",
                  "Completed",
                  "\"CID4670564\"",
                  "Auto",
                  "AIIMS",
                  "Narsinghpur",
                  "5.1",
                  "18.1",
                  null,
                  null,
                  null,
                  null,
                  null,
                  null,
                  "316.0",
                  "4.85",
                  "4.1",
                  "4.6",
                  "Other",
                  "Economy"
                ],
                [
                  "6",
                  "2024-06-17",
                  "15:45:58",
                  "\"CNR2002539\"",
                  "Completed",
                  "\"CID6800553\"",
                  "Go Mini",
                  "Vaishali",
                  "Punjabi Bagh",
                  "7.1",
                  "20.4",
                  null,
                  null,
                  null,
                  null,
                  null,
                  null,
                  "640.0",
                  "41.24",
                  "4.0",
                  "4.1",
                  "Other",
                  "Economy"
                ],
                [
                  "7",
                  "2024-03-19",
                  "17:37:37",
                  "\"CNR6568000\"",
                  "Completed",
                  "\"CID8610436\"",
                  "Auto",
                  "Mayur Vihar",
                  "Cyber Hub",
                  "12.1",
                  "16.5",
                  null,
                  null,
                  null,
                  null,
                  null,
                  null,
                  "136.0",
                  "6.56",
                  "4.4",
                  "4.2",
                  "Other",
                  "Economy"
                ],
                [
                  "8",
                  "2024-09-14",
                  "12:49:09",
                  "\"CNR4510807\"",
                  "No Driver Found",
                  "\"CID7873618\"",
                  "Go Sedan",
                  "Noida Sector 62",
                  "Noida Sector 18",
                  null,
                  null,
                  null,
                  null,
                  null,
                  null,
                  null,
                  null,
                  null,
                  null,
                  null,
                  null,
                  "Other",
                  "Standard"
                ],
                [
                  "9",
                  "2024-12-16",
                  "19:06:48",
                  "\"CNR7721892\"",
                  "Incomplete",
                  "\"CID5214275\"",
                  "Auto",
                  "Rohini",
                  "Adarsh Nagar",
                  "6.1",
                  "26.0",
                  null,
                  null,
                  null,
                  null,
                  "1.0",
                  "Other Issue",
                  "135.0",
                  "10.36",
                  null,
                  null,
                  "Cash",
                  "Economy"
                ],
                [
                  "10",
                  "2024-06-14",
                  "16:24:12",
                  "\"CNR9070334\"",
                  "Completed",
                  "\"CID6680340\"",
                  "Auto",
                  "Udyog Bhawan",
                  "Dwarka Sector 21",
                  "7.7",
                  "18.9",
                  null,
                  null,
                  null,
                  null,
                  null,
                  null,
                  "181.0",
                  "19.84",
                  "4.2",
                  "4.9",
                  "Cash",
                  "Economy"
                ],
                [
                  "11",
                  "2024-09-18",
                  "08:09:38",
                  "\"CNR9551927\"",
                  "No Driver Found",
                  "\"CID7568143\"",
                  "Auto",
                  "Vidhan Sabha",
                  "AIIMS",
                  null,
                  null,
                  null,
                  null,
                  null,
                  null,
                  null,
                  null,
                  null,
                  null,
                  null,
                  null,
                  "Other",
                  "Economy"
                ],
                [
                  "12",
                  "2024-06-25",
                  "22:44:15",
                  "\"CNR4386945\"",
                  "Cancelled by Driver",
                  "\"CID5543520\"",
                  "eBike",
                  "Patel Chowk",
                  "Kherki Daula Toll",
                  "4.6",
                  null,
                  null,
                  null,
                  "1.0",
                  "Personal & Car related issues",
                  null,
                  null,
                  null,
                  null,
                  null,
                  null,
                  "Other",
                  "Two-wheeler"
                ],
                [
                  "13",
                  "2024-09-11",
                  "19:29:39",
                  "\"CNR2987763\"",
                  "Completed",
                  "\"CID2669710\"",
                  "Go Mini",
                  "Malviya Nagar",
                  "Ghitorni Village",
                  "12.2",
                  "28.2",
                  null,
                  null,
                  null,
                  null,
                  null,
                  null,
                  "394.0",
                  "21.44",
                  "4.1",
                  "4.7",
                  "Other",
                  "Economy"
                ],
                [
                  "14",
                  "2024-10-18",
                  "18:28:53",
                  "\"CNR8962232\"",
                  "Completed",
                  "\"CID1789354\"",
                  "Go Mini",
                  "Madipur",
                  "GTB Nagar",
                  "14.0",
                  "30.9",
                  null,
                  null,
                  null,
                  null,
                  null,
                  null,
                  "836.0",
                  "39.55",
                  "4.7",
                  "4.4",
                  "Other",
                  "Economy"
                ],
                [
                  "15",
                  "2024-06-07",
                  "15:05:35",
                  "\"CNR2390352\"",
                  "Completed",
                  "\"CID5432215\"",
                  "Auto",
                  "Jama Masjid",
                  "Khan Market",
                  "8.5",
                  "36.9",
                  null,
                  null,
                  null,
                  null,
                  null,
                  null,
                  "410.0",
                  "34.76",
                  "4.0",
                  "4.9",
                  "Other",
                  "Economy"
                ],
                [
                  "16",
                  "2024-07-01",
                  "10:51:16",
                  "\"CNR3221338\"",
                  "Completed",
                  "\"CID2581698\"",
                  "Premier Sedan",
                  "IGI Airport",
                  "Madipur",
                  "5.6",
                  "27.5",
                  null,
                  null,
                  null,
                  null,
                  null,
                  null,
                  "401.0",
                  "21.97",
                  "4.9",
                  "4.3",
                  "Other",
                  "Premium"
                ],
                [
                  "17",
                  "2024-12-15",
                  "15:08:25",
                  "\"CNR6739317\"",
                  "Cancelled by Driver",
                  "\"CID8682675\"",
                  "Go Sedan",
                  "Vinobapuri",
                  "GTB Nagar",
                  "6.0",
                  null,
                  null,
                  null,
                  "1.0",
                  "Customer related issue",
                  null,
                  null,
                  null,
                  null,
                  null,
                  null,
                  "Other",
                  "Standard"
                ],
                [
                  "18",
                  "2024-11-24",
                  "09:07:10",
                  "\"CNR6126048\"",
                  "Cancelled by Customer",
                  "\"CID1060329\"",
                  "eBike",
                  "Kashmere Gate",
                  "Anand Vihar",
                  "12.4",
                  null,
                  "1.0",
                  "Driver is not moving towards pickup location",
                  null,
                  null,
                  null,
                  null,
                  null,
                  null,
                  null,
                  null,
                  "Other",
                  "Two-wheeler"
                ],
                [
                  "19",
                  "2024-05-24",
                  "19:53:57",
                  "\"CNR9465840\"",
                  "Cancelled by Driver",
                  "\"CID9046501\"",
                  "eBike",
                  "Pitampura",
                  "Rajiv Nagar",
                  "10.3",
                  null,
                  null,
                  null,
                  "1.0",
                  "Customer related issue",
                  null,
                  null,
                  null,
                  null,
                  null,
                  null,
                  "Other",
                  "Two-wheeler"
                ],
                [
                  "20",
                  "2024-12-14",
                  "21:27:04",
                  "\"CNR9843229\"",
                  "Completed",
                  "\"CID4929303\"",
                  "Go Sedan",
                  "Punjabi Bagh",
                  "Mansarovar Park",
                  "6.1",
                  "33.7",
                  null,
                  null,
                  null,
                  null,
                  null,
                  null,
                  "264.0",
                  "13.64",
                  "3.8",
                  "4.7",
                  "Other",
                  "Standard"
                ],
                [
                  "21",
                  "2024-07-29",
                  "06:28:22",
                  "\"CNR7911434\"",
                  "Completed",
                  "\"CID8465004\"",
                  "Auto",
                  "Greater Noida",
                  "Botanical Garden",
                  "7.0",
                  "21.3",
                  null,
                  null,
                  null,
                  null,
                  null,
                  null,
                  "183.0",
                  "4.5",
                  "5.0",
                  "4.2",
                  "Other",
                  "Economy"
                ],
                [
                  "22",
                  "2024-02-23",
                  "11:02:45",
                  "\"CNR6178330\"",
                  "Completed",
                  "\"CID7719678\"",
                  "Go Mini",
                  "Tis Hazari",
                  "IMT Manesar",
                  "10.4",
                  "25.1",
                  null,
                  null,
                  null,
                  null,
                  null,
                  null,
                  "713.0",
                  "38.03",
                  "3.7",
                  "3.6",
                  "Other",
                  "Economy"
                ],
                [
                  "23",
                  "2024-03-09",
                  "20:14:24",
                  "\"CNR5309981\"",
                  "Completed",
                  "\"CID3870048\"",
                  "Go Mini",
                  "Noida Sector 18",
                  "Old Gurgaon",
                  "7.9",
                  "41.1",
                  null,
                  null,
                  null,
                  null,
                  null,
                  null,
                  "113.0",
                  "14.53",
                  "4.6",
                  "4.9",
                  "Other",
                  "Economy"
                ],
                [
                  "24",
                  "2024-08-28",
                  "16:30:14",
                  "\"CNR2978950\"",
                  "Completed",
                  "\"CID2977484\"",
                  "Auto",
                  "Kanhaiya Nagar",
                  "Anand Vihar",
                  "13.6",
                  "25.2",
                  null,
                  null,
                  null,
                  null,
                  null,
                  null,
                  "767.0",
                  "7.39",
                  "3.8",
                  "4.6",
                  "Card",
                  "Economy"
                ],
                [
                  "25",
                  "2024-08-08",
                  "06:34:38",
                  "\"CNR2806943\"",
                  "Completed",
                  "\"CID7550481\"",
                  "Uber XL",
                  "Okhla",
                  "Barakhamba Road",
                  "5.1",
                  "20.7",
                  null,
                  null,
                  null,
                  null,
                  null,
                  null,
                  "495.0",
                  "10.23",
                  "3.8",
                  "4.2",
                  "Card",
                  "Large"
                ],
                [
                  "26",
                  "2024-01-26",
                  "09:44:00",
                  "\"CNR3614535\"",
                  "Cancelled by Driver",
                  "\"CID2507102\"",
                  "Auto",
                  "Cyber Hub",
                  "Saket",
                  "11.5",
                  null,
                  null,
                  null,
                  "1.0",
                  "Personal & Car related issues",
                  null,
                  null,
                  null,
                  null,
                  null,
                  null,
                  "Other",
                  "Economy"
                ],
                [
                  "27",
                  "2024-04-12",
                  "19:42:35",
                  "\"CNR4499383\"",
                  "No Driver Found",
                  "\"CID5717521\"",
                  "Premier Sedan",
                  "Sadar Bazar Gurgaon",
                  "Mehrauli",
                  null,
                  null,
                  null,
                  null,
                  null,
                  null,
                  null,
                  null,
                  null,
                  null,
                  null,
                  null,
                  "Other",
                  "Premium"
                ],
                [
                  "28",
                  "2024-04-05",
                  "18:57:12",
                  "\"CNR9834201\"",
                  "Incomplete",
                  "\"CID7891331\"",
                  "Bike",
                  "Shastri Park",
                  "Botanical Garden",
                  "3.1",
                  "28.2",
                  null,
                  null,
                  null,
                  null,
                  "1.0",
                  "Vehicle Breakdown",
                  "304.0",
                  "1.98",
                  null,
                  null,
                  "Other",
                  "Two-wheeler"
                ],
                [
                  "29",
                  "2024-11-03",
                  "12:24:59",
                  "\"CNR8779845\"",
                  "Completed",
                  "\"CID7444351\"",
                  "Auto",
                  "Faridabad Sector 15",
                  "Malviya Nagar",
                  "8.9",
                  "31.1",
                  null,
                  null,
                  null,
                  null,
                  null,
                  null,
                  "2847.0",
                  "39.21",
                  "3.1",
                  "4.6",
                  "Card",
                  "Economy"
                ],
                [
                  "30",
                  "2024-05-18",
                  "17:37:52",
                  "\"CNR2178654\"",
                  "Cancelled by Driver",
                  "\"CID3631860\"",
                  "Go Mini",
                  "Qutub Minar",
                  "Vishwavidyalaya",
                  "9.2",
                  null,
                  null,
                  null,
                  "1.0",
                  "More than permitted people in there",
                  null,
                  null,
                  null,
                  null,
                  null,
                  null,
                  "Other",
                  "Economy"
                ],
                [
                  "31",
                  "2024-11-15",
                  "05:53:55",
                  "\"CNR3871541\"",
                  "Completed",
                  "\"CID9849259\"",
                  "Go Mini",
                  "Mundka",
                  "Preet Vihar",
                  "8.9",
                  "41.0",
                  null,
                  null,
                  null,
                  null,
                  null,
                  null,
                  "282.0",
                  "8.36",
                  "3.8",
                  "4.4",
                  "Other",
                  "Economy"
                ],
                [
                  "32",
                  "2024-02-04",
                  "18:08:04",
                  "\"CNR2877692\"",
                  "Completed",
                  "\"CID5901711\"",
                  "Premier Sedan",
                  "DLF City Court",
                  "Nehru Place",
                  "11.5",
                  "20.5",
                  null,
                  null,
                  null,
                  null,
                  null,
                  null,
                  "656.0",
                  "6.39",
                  "5.0",
                  "4.9",
                  "Other",
                  "Premium"
                ],
                [
                  "33",
                  "2024-05-29",
                  "14:05:10",
                  "\"CNR9603633\"",
                  "Completed",
                  "\"CID5856503\"",
                  "Auto",
                  "Tis Hazari",
                  "Shahdara",
                  "2.0",
                  "19.4",
                  null,
                  null,
                  null,
                  null,
                  null,
                  null,
                  "134.0",
                  "46.66",
                  "3.8",
                  "4.4",
                  "Card",
                  "Economy"
                ],
                [
                  "34",
                  "2024-07-13",
                  "19:53:15",
                  "\"CNR8087051\"",
                  "Cancelled by Driver",
                  "\"CID9716528\"",
                  "Go Sedan",
                  "New Colony",
                  "Ghitorni Village",
                  "5.4",
                  null,
                  null,
                  null,
                  "1.0",
                  "Customer related issue",
                  null,
                  null,
                  null,
                  null,
                  null,
                  null,
                  "Other",
                  "Standard"
                ],
                [
                  "35",
                  "2024-06-07",
                  "19:21:10",
                  "\"CNR7823292\"",
                  "Completed",
                  "\"CID9377721\"",
                  "Go Sedan",
                  "Nirman Vihar",
                  "Malviya Nagar",
                  "14.6",
                  "25.4",
                  null,
                  null,
                  null,
                  null,
                  null,
                  null,
                  "470.0",
                  "27.07",
                  "3.7",
                  "4.2",
                  "Cash",
                  "Standard"
                ],
                [
                  "36",
                  "2024-05-16",
                  "13:04:31",
                  "\"CNR9918895\"",
                  "Completed",
                  "\"CID9520433\"",
                  "Auto",
                  "New Delhi Railway Station",
                  "Noida Film City",
                  "6.7",
                  "20.5",
                  null,
                  null,
                  null,
                  null,
                  null,
                  null,
                  "187.0",
                  "12.16",
                  "4.9",
                  "4.3",
                  "Other",
                  "Economy"
                ],
                [
                  "37",
                  "2024-10-02",
                  "03:10:35",
                  "\"CNR7401001\"",
                  "Completed",
                  "\"CID9958715\"",
                  "Premier Sedan",
                  "Civil Lines Gurgaon",
                  "Mandi House",
                  "6.6",
                  "30.0",
                  null,
                  null,
                  null,
                  null,
                  null,
                  null,
                  "186.0",
                  "10.28",
                  "4.4",
                  "4.6",
                  "Other",
                  "Premium"
                ],
                [
                  "38",
                  "2024-02-26",
                  "15:43:16",
                  "\"CNR2631310\"",
                  "Completed",
                  "\"CID4355670\"",
                  "eBike",
                  "Seelampur",
                  "Janakpuri",
                  "10.0",
                  "35.8",
                  null,
                  null,
                  null,
                  null,
                  null,
                  null,
                  "70.0",
                  "44.42",
                  "4.1",
                  "4.4",
                  "Other",
                  "Two-wheeler"
                ],
                [
                  "39",
                  "2024-09-10",
                  "13:02:42",
                  "\"CNR4218487\"",
                  "Cancelled by Customer",
                  "\"CID3037053\"",
                  "Bike",
                  "Noida Extension",
                  "Udyog Vihar Phase 4",
                  "11.0",
                  null,
                  "1.0",
                  "Driver is not moving towards pickup location",
                  null,
                  null,
                  null,
                  null,
                  null,
                  null,
                  null,
                  null,
                  "Other",
                  "Two-wheeler"
                ],
                [
                  "40",
                  "2024-09-12",
                  "09:14:57",
                  "\"CNR5333099\"",
                  "Cancelled by Driver",
                  "\"CID5112050\"",
                  "Auto",
                  "Adarsh Nagar",
                  "Civil Lines Gurgaon",
                  "8.0",
                  null,
                  null,
                  null,
                  "1.0",
                  "Personal & Car related issues",
                  null,
                  null,
                  null,
                  null,
                  null,
                  null,
                  "Other",
                  "Economy"
                ],
                [
                  "41",
                  "2024-01-24",
                  "10:47:57",
                  "\"CNR5969954\"",
                  "Completed",
                  "\"CID5558118\"",
                  "Auto",
                  "Vinobapuri",
                  "Karkarduma",
                  "12.8",
                  "18.7",
                  null,
                  null,
                  null,
                  null,
                  null,
                  null,
                  "273.0",
                  "34.64",
                  "4.5",
                  "4.6",
                  "Other",
                  "Economy"
                ],
                [
                  "42",
                  "2024-02-12",
                  "19:42:39",
                  "\"CNR4130953\"",
                  "Incomplete",
                  "\"CID3196782\"",
                  "Premier Sedan",
                  "Panipat",
                  "Tagore Garden",
                  "6.4",
                  "10.5",
                  null,
                  null,
                  null,
                  null,
                  "1.0",
                  "Other Issue",
                  "966.0",
                  "18.3",
                  null,
                  null,
                  "Card",
                  "Premium"
                ],
                [
                  "43",
                  "2024-10-02",
                  "19:17:00",
                  "\"CNR6693125\"",
                  "Cancelled by Driver",
                  "\"CID7364449\"",
                  "Auto",
                  "Karol Bagh",
                  "Tagore Garden",
                  "5.4",
                  null,
                  null,
                  null,
                  "1.0",
                  "More than permitted people in there",
                  null,
                  null,
                  null,
                  null,
                  null,
                  null,
                  "Other",
                  "Economy"
                ],
                [
                  "44",
                  "2024-04-01",
                  "21:14:19",
                  "\"CNR9572979\"",
                  "Completed",
                  "\"CID3474992\"",
                  "Go Sedan",
                  "Sultanpur",
                  "Noida Extension",
                  "12.2",
                  "42.3",
                  null,
                  null,
                  null,
                  null,
                  null,
                  null,
                  "251.0",
                  "20.91",
                  "4.2",
                  "3.6",
                  "Card",
                  "Standard"
                ],
                [
                  "45",
                  "2024-09-18",
                  "21:06:36",
                  "\"CNR6444364\"",
                  "Cancelled by Driver",
                  "\"CID8262635\"",
                  "Go Mini",
                  "Moti Nagar",
                  "Anand Vihar ISBT",
                  "6.6",
                  null,
                  null,
                  null,
                  "1.0",
                  "More than permitted people in there",
                  null,
                  null,
                  null,
                  null,
                  null,
                  null,
                  "Other",
                  "Economy"
                ],
                [
                  "46",
                  "2024-08-02",
                  "07:17:07",
                  "\"CNR4862806\"",
                  "Cancelled by Customer",
                  "\"CID7875150\"",
                  "Auto",
                  "Shastri Park",
                  "Anand Vihar ISBT",
                  "11.3",
                  null,
                  "1.0",
                  "Driver asked to cancel",
                  null,
                  null,
                  null,
                  null,
                  null,
                  null,
                  null,
                  null,
                  "Other",
                  "Economy"
                ],
                [
                  "47",
                  "2024-09-30",
                  "13:10:50",
                  "\"CNR4674790\"",
                  "Incomplete",
                  "\"CID4795905\"",
                  "Bike",
                  "Dilshad Garden",
                  "Nehru Place",
                  "2.3",
                  "29.7",
                  null,
                  null,
                  null,
                  null,
                  "1.0",
                  "Vehicle Breakdown",
                  "453.0",
                  "19.24",
                  null,
                  null,
                  "Card",
                  "Two-wheeler"
                ],
                [
                  "48",
                  "2024-06-16",
                  "00:44:47",
                  "\"CNR6866217\"",
                  "Completed",
                  "\"CID7798304\"",
                  "Go Sedan",
                  "Dilshad Garden",
                  "Nehru Place",
                  "7.8",
                  "42.2",
                  null,
                  null,
                  null,
                  null,
                  null,
                  null,
                  "246.0",
                  "8.13",
                  "4.2",
                  "4.5",
                  "Other",
                  "Standard"
                ],
                [
                  "49",
                  "2024-09-18",
                  "09:33:55",
                  "\"CNR4932611\"",
                  "Completed",
                  "\"CID8795963\"",
                  "Auto",
                  "Aya Nagar",
                  "Karkarduma",
                  "8.8",
                  "25.2",
                  null,
                  null,
                  null,
                  null,
                  null,
                  null,
                  "237.0",
                  "2.96",
                  "3.9",
                  "3.3",
                  "Other",
                  "Economy"
                ]
              ],
              "shape": {
                "columns": 22,
                "rows": 150000
              }
            },
            "text/html": [
              "<div>\n",
              "<style scoped>\n",
              "    .dataframe tbody tr th:only-of-type {\n",
              "        vertical-align: middle;\n",
              "    }\n",
              "\n",
              "    .dataframe tbody tr th {\n",
              "        vertical-align: top;\n",
              "    }\n",
              "\n",
              "    .dataframe thead th {\n",
              "        text-align: right;\n",
              "    }\n",
              "</style>\n",
              "<table border=\"1\" class=\"dataframe\">\n",
              "  <thead>\n",
              "    <tr style=\"text-align: right;\">\n",
              "      <th></th>\n",
              "      <th>Date</th>\n",
              "      <th>Time</th>\n",
              "      <th>Booking ID</th>\n",
              "      <th>Booking Status</th>\n",
              "      <th>Customer ID</th>\n",
              "      <th>Vehicle Type</th>\n",
              "      <th>Pickup Location</th>\n",
              "      <th>Drop Location</th>\n",
              "      <th>Avg VTAT</th>\n",
              "      <th>Avg CTAT</th>\n",
              "      <th>...</th>\n",
              "      <th>Cancelled Rides by Driver</th>\n",
              "      <th>Driver Cancellation Reason</th>\n",
              "      <th>Incomplete Rides</th>\n",
              "      <th>Incomplete Rides Reason</th>\n",
              "      <th>Booking Value</th>\n",
              "      <th>Ride Distance</th>\n",
              "      <th>Driver Ratings</th>\n",
              "      <th>Customer Rating</th>\n",
              "      <th>Payment Method</th>\n",
              "      <th>vehicle_category</th>\n",
              "    </tr>\n",
              "  </thead>\n",
              "  <tbody>\n",
              "    <tr>\n",
              "      <th>0</th>\n",
              "      <td>2024-03-23</td>\n",
              "      <td>12:29:38</td>\n",
              "      <td>\"CNR5884300\"</td>\n",
              "      <td>No Driver Found</td>\n",
              "      <td>\"CID1982111\"</td>\n",
              "      <td>eBike</td>\n",
              "      <td>Palam Vihar</td>\n",
              "      <td>Jhilmil</td>\n",
              "      <td>NaN</td>\n",
              "      <td>NaN</td>\n",
              "      <td>...</td>\n",
              "      <td>NaN</td>\n",
              "      <td>NaN</td>\n",
              "      <td>NaN</td>\n",
              "      <td>NaN</td>\n",
              "      <td>NaN</td>\n",
              "      <td>NaN</td>\n",
              "      <td>NaN</td>\n",
              "      <td>NaN</td>\n",
              "      <td>Other</td>\n",
              "      <td>Two-wheeler</td>\n",
              "    </tr>\n",
              "    <tr>\n",
              "      <th>1</th>\n",
              "      <td>2024-11-29</td>\n",
              "      <td>18:01:39</td>\n",
              "      <td>\"CNR1326809\"</td>\n",
              "      <td>Incomplete</td>\n",
              "      <td>\"CID4604802\"</td>\n",
              "      <td>Go Sedan</td>\n",
              "      <td>Shastri Nagar</td>\n",
              "      <td>Gurgaon Sector 56</td>\n",
              "      <td>4.9</td>\n",
              "      <td>14.0</td>\n",
              "      <td>...</td>\n",
              "      <td>NaN</td>\n",
              "      <td>NaN</td>\n",
              "      <td>1.0</td>\n",
              "      <td>Vehicle Breakdown</td>\n",
              "      <td>237.0</td>\n",
              "      <td>5.73</td>\n",
              "      <td>NaN</td>\n",
              "      <td>NaN</td>\n",
              "      <td>Other</td>\n",
              "      <td>Standard</td>\n",
              "    </tr>\n",
              "    <tr>\n",
              "      <th>2</th>\n",
              "      <td>2024-08-23</td>\n",
              "      <td>08:56:10</td>\n",
              "      <td>\"CNR8494506\"</td>\n",
              "      <td>Completed</td>\n",
              "      <td>\"CID9202816\"</td>\n",
              "      <td>Auto</td>\n",
              "      <td>Khandsa</td>\n",
              "      <td>Malviya Nagar</td>\n",
              "      <td>13.4</td>\n",
              "      <td>25.8</td>\n",
              "      <td>...</td>\n",
              "      <td>NaN</td>\n",
              "      <td>NaN</td>\n",
              "      <td>NaN</td>\n",
              "      <td>NaN</td>\n",
              "      <td>627.0</td>\n",
              "      <td>13.58</td>\n",
              "      <td>4.9</td>\n",
              "      <td>4.9</td>\n",
              "      <td>Card</td>\n",
              "      <td>Economy</td>\n",
              "    </tr>\n",
              "    <tr>\n",
              "      <th>3</th>\n",
              "      <td>2024-10-21</td>\n",
              "      <td>17:17:25</td>\n",
              "      <td>\"CNR8906825\"</td>\n",
              "      <td>Completed</td>\n",
              "      <td>\"CID2610914\"</td>\n",
              "      <td>Premier Sedan</td>\n",
              "      <td>Central Secretariat</td>\n",
              "      <td>Inderlok</td>\n",
              "      <td>13.1</td>\n",
              "      <td>28.5</td>\n",
              "      <td>...</td>\n",
              "      <td>NaN</td>\n",
              "      <td>NaN</td>\n",
              "      <td>NaN</td>\n",
              "      <td>NaN</td>\n",
              "      <td>416.0</td>\n",
              "      <td>34.02</td>\n",
              "      <td>4.6</td>\n",
              "      <td>5.0</td>\n",
              "      <td>Other</td>\n",
              "      <td>Premium</td>\n",
              "    </tr>\n",
              "    <tr>\n",
              "      <th>4</th>\n",
              "      <td>2024-09-16</td>\n",
              "      <td>22:08:00</td>\n",
              "      <td>\"CNR1950162\"</td>\n",
              "      <td>Completed</td>\n",
              "      <td>\"CID9933542\"</td>\n",
              "      <td>Bike</td>\n",
              "      <td>Ghitorni Village</td>\n",
              "      <td>Khan Market</td>\n",
              "      <td>5.3</td>\n",
              "      <td>19.6</td>\n",
              "      <td>...</td>\n",
              "      <td>NaN</td>\n",
              "      <td>NaN</td>\n",
              "      <td>NaN</td>\n",
              "      <td>NaN</td>\n",
              "      <td>737.0</td>\n",
              "      <td>48.21</td>\n",
              "      <td>4.1</td>\n",
              "      <td>4.3</td>\n",
              "      <td>Other</td>\n",
              "      <td>Two-wheeler</td>\n",
              "    </tr>\n",
              "    <tr>\n",
              "      <th>...</th>\n",
              "      <td>...</td>\n",
              "      <td>...</td>\n",
              "      <td>...</td>\n",
              "      <td>...</td>\n",
              "      <td>...</td>\n",
              "      <td>...</td>\n",
              "      <td>...</td>\n",
              "      <td>...</td>\n",
              "      <td>...</td>\n",
              "      <td>...</td>\n",
              "      <td>...</td>\n",
              "      <td>...</td>\n",
              "      <td>...</td>\n",
              "      <td>...</td>\n",
              "      <td>...</td>\n",
              "      <td>...</td>\n",
              "      <td>...</td>\n",
              "      <td>...</td>\n",
              "      <td>...</td>\n",
              "      <td>...</td>\n",
              "      <td>...</td>\n",
              "    </tr>\n",
              "    <tr>\n",
              "      <th>149995</th>\n",
              "      <td>2024-11-11</td>\n",
              "      <td>19:34:01</td>\n",
              "      <td>\"CNR6500631\"</td>\n",
              "      <td>Completed</td>\n",
              "      <td>\"CID4337371\"</td>\n",
              "      <td>Go Mini</td>\n",
              "      <td>MG Road</td>\n",
              "      <td>Ghitorni</td>\n",
              "      <td>10.2</td>\n",
              "      <td>44.4</td>\n",
              "      <td>...</td>\n",
              "      <td>NaN</td>\n",
              "      <td>NaN</td>\n",
              "      <td>NaN</td>\n",
              "      <td>NaN</td>\n",
              "      <td>475.0</td>\n",
              "      <td>40.08</td>\n",
              "      <td>3.7</td>\n",
              "      <td>4.1</td>\n",
              "      <td>Other</td>\n",
              "      <td>Economy</td>\n",
              "    </tr>\n",
              "    <tr>\n",
              "      <th>149996</th>\n",
              "      <td>2024-11-24</td>\n",
              "      <td>15:55:09</td>\n",
              "      <td>\"CNR2468611\"</td>\n",
              "      <td>Completed</td>\n",
              "      <td>\"CID2325623\"</td>\n",
              "      <td>Go Mini</td>\n",
              "      <td>Golf Course Road</td>\n",
              "      <td>Akshardham</td>\n",
              "      <td>5.1</td>\n",
              "      <td>30.8</td>\n",
              "      <td>...</td>\n",
              "      <td>NaN</td>\n",
              "      <td>NaN</td>\n",
              "      <td>NaN</td>\n",
              "      <td>NaN</td>\n",
              "      <td>1093.0</td>\n",
              "      <td>21.31</td>\n",
              "      <td>4.8</td>\n",
              "      <td>5.0</td>\n",
              "      <td>Other</td>\n",
              "      <td>Economy</td>\n",
              "    </tr>\n",
              "    <tr>\n",
              "      <th>149997</th>\n",
              "      <td>2024-09-18</td>\n",
              "      <td>10:55:15</td>\n",
              "      <td>\"CNR6358306\"</td>\n",
              "      <td>Completed</td>\n",
              "      <td>\"CID9925486\"</td>\n",
              "      <td>Go Sedan</td>\n",
              "      <td>Satguru Ram Singh Marg</td>\n",
              "      <td>Jor Bagh</td>\n",
              "      <td>2.7</td>\n",
              "      <td>23.4</td>\n",
              "      <td>...</td>\n",
              "      <td>NaN</td>\n",
              "      <td>NaN</td>\n",
              "      <td>NaN</td>\n",
              "      <td>NaN</td>\n",
              "      <td>852.0</td>\n",
              "      <td>15.93</td>\n",
              "      <td>3.9</td>\n",
              "      <td>4.4</td>\n",
              "      <td>Cash</td>\n",
              "      <td>Standard</td>\n",
              "    </tr>\n",
              "    <tr>\n",
              "      <th>149998</th>\n",
              "      <td>2024-10-05</td>\n",
              "      <td>07:53:34</td>\n",
              "      <td>\"CNR3030099\"</td>\n",
              "      <td>Completed</td>\n",
              "      <td>\"CID9415487\"</td>\n",
              "      <td>Auto</td>\n",
              "      <td>Ghaziabad</td>\n",
              "      <td>Saidulajab</td>\n",
              "      <td>6.9</td>\n",
              "      <td>39.6</td>\n",
              "      <td>...</td>\n",
              "      <td>NaN</td>\n",
              "      <td>NaN</td>\n",
              "      <td>NaN</td>\n",
              "      <td>NaN</td>\n",
              "      <td>333.0</td>\n",
              "      <td>45.54</td>\n",
              "      <td>4.1</td>\n",
              "      <td>3.7</td>\n",
              "      <td>Other</td>\n",
              "      <td>Economy</td>\n",
              "    </tr>\n",
              "    <tr>\n",
              "      <th>149999</th>\n",
              "      <td>2024-03-10</td>\n",
              "      <td>15:38:03</td>\n",
              "      <td>\"CNR3447390\"</td>\n",
              "      <td>Completed</td>\n",
              "      <td>\"CID4108667\"</td>\n",
              "      <td>Premier Sedan</td>\n",
              "      <td>Ashok Park Main</td>\n",
              "      <td>Gurgaon Sector 29</td>\n",
              "      <td>3.5</td>\n",
              "      <td>33.7</td>\n",
              "      <td>...</td>\n",
              "      <td>NaN</td>\n",
              "      <td>NaN</td>\n",
              "      <td>NaN</td>\n",
              "      <td>NaN</td>\n",
              "      <td>806.0</td>\n",
              "      <td>21.19</td>\n",
              "      <td>4.6</td>\n",
              "      <td>4.9</td>\n",
              "      <td>Card</td>\n",
              "      <td>Premium</td>\n",
              "    </tr>\n",
              "  </tbody>\n",
              "</table>\n",
              "<p>150000 rows × 22 columns</p>\n",
              "</div>"
            ],
            "text/plain": [
              "              Date      Time    Booking ID   Booking Status   Customer ID  \\\n",
              "0       2024-03-23  12:29:38  \"CNR5884300\"  No Driver Found  \"CID1982111\"   \n",
              "1       2024-11-29  18:01:39  \"CNR1326809\"       Incomplete  \"CID4604802\"   \n",
              "2       2024-08-23  08:56:10  \"CNR8494506\"        Completed  \"CID9202816\"   \n",
              "3       2024-10-21  17:17:25  \"CNR8906825\"        Completed  \"CID2610914\"   \n",
              "4       2024-09-16  22:08:00  \"CNR1950162\"        Completed  \"CID9933542\"   \n",
              "...            ...       ...           ...              ...           ...   \n",
              "149995  2024-11-11  19:34:01  \"CNR6500631\"        Completed  \"CID4337371\"   \n",
              "149996  2024-11-24  15:55:09  \"CNR2468611\"        Completed  \"CID2325623\"   \n",
              "149997  2024-09-18  10:55:15  \"CNR6358306\"        Completed  \"CID9925486\"   \n",
              "149998  2024-10-05  07:53:34  \"CNR3030099\"        Completed  \"CID9415487\"   \n",
              "149999  2024-03-10  15:38:03  \"CNR3447390\"        Completed  \"CID4108667\"   \n",
              "\n",
              "         Vehicle Type         Pickup Location      Drop Location  Avg VTAT  \\\n",
              "0               eBike             Palam Vihar            Jhilmil       NaN   \n",
              "1            Go Sedan           Shastri Nagar  Gurgaon Sector 56       4.9   \n",
              "2                Auto                 Khandsa      Malviya Nagar      13.4   \n",
              "3       Premier Sedan     Central Secretariat           Inderlok      13.1   \n",
              "4                Bike        Ghitorni Village        Khan Market       5.3   \n",
              "...               ...                     ...                ...       ...   \n",
              "149995        Go Mini                 MG Road           Ghitorni      10.2   \n",
              "149996        Go Mini        Golf Course Road         Akshardham       5.1   \n",
              "149997       Go Sedan  Satguru Ram Singh Marg           Jor Bagh       2.7   \n",
              "149998           Auto               Ghaziabad         Saidulajab       6.9   \n",
              "149999  Premier Sedan         Ashok Park Main  Gurgaon Sector 29       3.5   \n",
              "\n",
              "        Avg CTAT  ...  Cancelled Rides by Driver Driver Cancellation Reason  \\\n",
              "0            NaN  ...                        NaN                        NaN   \n",
              "1           14.0  ...                        NaN                        NaN   \n",
              "2           25.8  ...                        NaN                        NaN   \n",
              "3           28.5  ...                        NaN                        NaN   \n",
              "4           19.6  ...                        NaN                        NaN   \n",
              "...          ...  ...                        ...                        ...   \n",
              "149995      44.4  ...                        NaN                        NaN   \n",
              "149996      30.8  ...                        NaN                        NaN   \n",
              "149997      23.4  ...                        NaN                        NaN   \n",
              "149998      39.6  ...                        NaN                        NaN   \n",
              "149999      33.7  ...                        NaN                        NaN   \n",
              "\n",
              "        Incomplete Rides Incomplete Rides Reason  Booking Value Ride Distance  \\\n",
              "0                    NaN                     NaN            NaN           NaN   \n",
              "1                    1.0       Vehicle Breakdown          237.0          5.73   \n",
              "2                    NaN                     NaN          627.0         13.58   \n",
              "3                    NaN                     NaN          416.0         34.02   \n",
              "4                    NaN                     NaN          737.0         48.21   \n",
              "...                  ...                     ...            ...           ...   \n",
              "149995               NaN                     NaN          475.0         40.08   \n",
              "149996               NaN                     NaN         1093.0         21.31   \n",
              "149997               NaN                     NaN          852.0         15.93   \n",
              "149998               NaN                     NaN          333.0         45.54   \n",
              "149999               NaN                     NaN          806.0         21.19   \n",
              "\n",
              "        Driver Ratings  Customer Rating  Payment Method  vehicle_category  \n",
              "0                  NaN              NaN           Other       Two-wheeler  \n",
              "1                  NaN              NaN           Other          Standard  \n",
              "2                  4.9              4.9            Card           Economy  \n",
              "3                  4.6              5.0           Other           Premium  \n",
              "4                  4.1              4.3           Other       Two-wheeler  \n",
              "...                ...              ...             ...               ...  \n",
              "149995             3.7              4.1           Other           Economy  \n",
              "149996             4.8              5.0           Other           Economy  \n",
              "149997             3.9              4.4            Cash          Standard  \n",
              "149998             4.1              3.7           Other           Economy  \n",
              "149999             4.6              4.9            Card           Premium  \n",
              "\n",
              "[150000 rows x 22 columns]"
            ]
          },
          "execution_count": 126,
          "metadata": {},
          "output_type": "execute_result"
        }
      ],
      "source": [
        "df_csv"
      ]
    },
    {
      "cell_type": "code",
      "execution_count": 127,
      "metadata": {},
      "outputs": [],
      "source": [
        "#Creación de una nueva columna con más condiciones\n",
        "def clasificar(row):\n",
        "    if row[\"vehicle_category\"] == \"Economy\" and row[\"Booking Status\"] == \"Completed\":\n",
        "        return \"Éxito\"\n",
        "    elif \"Cancelled\" in row[\"Booking Status\"]:\n",
        "        return \"Cancelado\"\n",
        "    else:\n",
        "        return \"Otro\"\n",
        "\n",
        "df_csv[\"status_simple\"] = df_csv.apply(clasificar, axis=1)"
      ]
    },
    {
      "cell_type": "code",
      "execution_count": 128,
      "metadata": {},
      "outputs": [
        {
          "data": {
            "application/vnd.microsoft.datawrangler.viewer.v0+json": {
              "columns": [
                {
                  "name": "index",
                  "rawType": "int64",
                  "type": "integer"
                },
                {
                  "name": "Date",
                  "rawType": "object",
                  "type": "string"
                },
                {
                  "name": "Time",
                  "rawType": "object",
                  "type": "string"
                },
                {
                  "name": "Booking ID",
                  "rawType": "object",
                  "type": "string"
                },
                {
                  "name": "Booking Status",
                  "rawType": "object",
                  "type": "string"
                },
                {
                  "name": "Customer ID",
                  "rawType": "object",
                  "type": "string"
                },
                {
                  "name": "Vehicle Type",
                  "rawType": "object",
                  "type": "string"
                },
                {
                  "name": "Pickup Location",
                  "rawType": "object",
                  "type": "string"
                },
                {
                  "name": "Drop Location",
                  "rawType": "object",
                  "type": "string"
                },
                {
                  "name": "Avg VTAT",
                  "rawType": "float64",
                  "type": "float"
                },
                {
                  "name": "Avg CTAT",
                  "rawType": "float64",
                  "type": "float"
                },
                {
                  "name": "Cancelled Rides by Customer",
                  "rawType": "float64",
                  "type": "float"
                },
                {
                  "name": "Reason for cancelling by Customer",
                  "rawType": "object",
                  "type": "unknown"
                },
                {
                  "name": "Cancelled Rides by Driver",
                  "rawType": "float64",
                  "type": "float"
                },
                {
                  "name": "Driver Cancellation Reason",
                  "rawType": "object",
                  "type": "unknown"
                },
                {
                  "name": "Incomplete Rides",
                  "rawType": "float64",
                  "type": "float"
                },
                {
                  "name": "Incomplete Rides Reason",
                  "rawType": "object",
                  "type": "unknown"
                },
                {
                  "name": "Booking Value",
                  "rawType": "float64",
                  "type": "float"
                },
                {
                  "name": "Ride Distance",
                  "rawType": "float64",
                  "type": "float"
                },
                {
                  "name": "Driver Ratings",
                  "rawType": "float64",
                  "type": "float"
                },
                {
                  "name": "Customer Rating",
                  "rawType": "float64",
                  "type": "float"
                },
                {
                  "name": "Payment Method",
                  "rawType": "object",
                  "type": "string"
                },
                {
                  "name": "vehicle_category",
                  "rawType": "object",
                  "type": "string"
                },
                {
                  "name": "status_simple",
                  "rawType": "object",
                  "type": "string"
                }
              ],
              "ref": "b547c3f4-517d-4717-b173-5b8af1856d09",
              "rows": [
                [
                  "0",
                  "2024-03-23",
                  "12:29:38",
                  "\"CNR5884300\"",
                  "No Driver Found",
                  "\"CID1982111\"",
                  "eBike",
                  "Palam Vihar",
                  "Jhilmil",
                  null,
                  null,
                  null,
                  null,
                  null,
                  null,
                  null,
                  null,
                  null,
                  null,
                  null,
                  null,
                  "Other",
                  "Two-wheeler",
                  "Otro"
                ],
                [
                  "1",
                  "2024-11-29",
                  "18:01:39",
                  "\"CNR1326809\"",
                  "Incomplete",
                  "\"CID4604802\"",
                  "Go Sedan",
                  "Shastri Nagar",
                  "Gurgaon Sector 56",
                  "4.9",
                  "14.0",
                  null,
                  null,
                  null,
                  null,
                  "1.0",
                  "Vehicle Breakdown",
                  "237.0",
                  "5.73",
                  null,
                  null,
                  "Other",
                  "Standard",
                  "Otro"
                ],
                [
                  "2",
                  "2024-08-23",
                  "08:56:10",
                  "\"CNR8494506\"",
                  "Completed",
                  "\"CID9202816\"",
                  "Auto",
                  "Khandsa",
                  "Malviya Nagar",
                  "13.4",
                  "25.8",
                  null,
                  null,
                  null,
                  null,
                  null,
                  null,
                  "627.0",
                  "13.58",
                  "4.9",
                  "4.9",
                  "Card",
                  "Economy",
                  "Éxito"
                ],
                [
                  "3",
                  "2024-10-21",
                  "17:17:25",
                  "\"CNR8906825\"",
                  "Completed",
                  "\"CID2610914\"",
                  "Premier Sedan",
                  "Central Secretariat",
                  "Inderlok",
                  "13.1",
                  "28.5",
                  null,
                  null,
                  null,
                  null,
                  null,
                  null,
                  "416.0",
                  "34.02",
                  "4.6",
                  "5.0",
                  "Other",
                  "Premium",
                  "Otro"
                ],
                [
                  "4",
                  "2024-09-16",
                  "22:08:00",
                  "\"CNR1950162\"",
                  "Completed",
                  "\"CID9933542\"",
                  "Bike",
                  "Ghitorni Village",
                  "Khan Market",
                  "5.3",
                  "19.6",
                  null,
                  null,
                  null,
                  null,
                  null,
                  null,
                  "737.0",
                  "48.21",
                  "4.1",
                  "4.3",
                  "Other",
                  "Two-wheeler",
                  "Otro"
                ],
                [
                  "5",
                  "2024-02-06",
                  "09:44:56",
                  "\"CNR4096693\"",
                  "Completed",
                  "\"CID4670564\"",
                  "Auto",
                  "AIIMS",
                  "Narsinghpur",
                  "5.1",
                  "18.1",
                  null,
                  null,
                  null,
                  null,
                  null,
                  null,
                  "316.0",
                  "4.85",
                  "4.1",
                  "4.6",
                  "Other",
                  "Economy",
                  "Éxito"
                ],
                [
                  "6",
                  "2024-06-17",
                  "15:45:58",
                  "\"CNR2002539\"",
                  "Completed",
                  "\"CID6800553\"",
                  "Go Mini",
                  "Vaishali",
                  "Punjabi Bagh",
                  "7.1",
                  "20.4",
                  null,
                  null,
                  null,
                  null,
                  null,
                  null,
                  "640.0",
                  "41.24",
                  "4.0",
                  "4.1",
                  "Other",
                  "Economy",
                  "Éxito"
                ],
                [
                  "7",
                  "2024-03-19",
                  "17:37:37",
                  "\"CNR6568000\"",
                  "Completed",
                  "\"CID8610436\"",
                  "Auto",
                  "Mayur Vihar",
                  "Cyber Hub",
                  "12.1",
                  "16.5",
                  null,
                  null,
                  null,
                  null,
                  null,
                  null,
                  "136.0",
                  "6.56",
                  "4.4",
                  "4.2",
                  "Other",
                  "Economy",
                  "Éxito"
                ],
                [
                  "8",
                  "2024-09-14",
                  "12:49:09",
                  "\"CNR4510807\"",
                  "No Driver Found",
                  "\"CID7873618\"",
                  "Go Sedan",
                  "Noida Sector 62",
                  "Noida Sector 18",
                  null,
                  null,
                  null,
                  null,
                  null,
                  null,
                  null,
                  null,
                  null,
                  null,
                  null,
                  null,
                  "Other",
                  "Standard",
                  "Otro"
                ],
                [
                  "9",
                  "2024-12-16",
                  "19:06:48",
                  "\"CNR7721892\"",
                  "Incomplete",
                  "\"CID5214275\"",
                  "Auto",
                  "Rohini",
                  "Adarsh Nagar",
                  "6.1",
                  "26.0",
                  null,
                  null,
                  null,
                  null,
                  "1.0",
                  "Other Issue",
                  "135.0",
                  "10.36",
                  null,
                  null,
                  "Cash",
                  "Economy",
                  "Otro"
                ],
                [
                  "10",
                  "2024-06-14",
                  "16:24:12",
                  "\"CNR9070334\"",
                  "Completed",
                  "\"CID6680340\"",
                  "Auto",
                  "Udyog Bhawan",
                  "Dwarka Sector 21",
                  "7.7",
                  "18.9",
                  null,
                  null,
                  null,
                  null,
                  null,
                  null,
                  "181.0",
                  "19.84",
                  "4.2",
                  "4.9",
                  "Cash",
                  "Economy",
                  "Éxito"
                ],
                [
                  "11",
                  "2024-09-18",
                  "08:09:38",
                  "\"CNR9551927\"",
                  "No Driver Found",
                  "\"CID7568143\"",
                  "Auto",
                  "Vidhan Sabha",
                  "AIIMS",
                  null,
                  null,
                  null,
                  null,
                  null,
                  null,
                  null,
                  null,
                  null,
                  null,
                  null,
                  null,
                  "Other",
                  "Economy",
                  "Otro"
                ],
                [
                  "12",
                  "2024-06-25",
                  "22:44:15",
                  "\"CNR4386945\"",
                  "Cancelled by Driver",
                  "\"CID5543520\"",
                  "eBike",
                  "Patel Chowk",
                  "Kherki Daula Toll",
                  "4.6",
                  null,
                  null,
                  null,
                  "1.0",
                  "Personal & Car related issues",
                  null,
                  null,
                  null,
                  null,
                  null,
                  null,
                  "Other",
                  "Two-wheeler",
                  "Cancelado"
                ],
                [
                  "13",
                  "2024-09-11",
                  "19:29:39",
                  "\"CNR2987763\"",
                  "Completed",
                  "\"CID2669710\"",
                  "Go Mini",
                  "Malviya Nagar",
                  "Ghitorni Village",
                  "12.2",
                  "28.2",
                  null,
                  null,
                  null,
                  null,
                  null,
                  null,
                  "394.0",
                  "21.44",
                  "4.1",
                  "4.7",
                  "Other",
                  "Economy",
                  "Éxito"
                ],
                [
                  "14",
                  "2024-10-18",
                  "18:28:53",
                  "\"CNR8962232\"",
                  "Completed",
                  "\"CID1789354\"",
                  "Go Mini",
                  "Madipur",
                  "GTB Nagar",
                  "14.0",
                  "30.9",
                  null,
                  null,
                  null,
                  null,
                  null,
                  null,
                  "836.0",
                  "39.55",
                  "4.7",
                  "4.4",
                  "Other",
                  "Economy",
                  "Éxito"
                ],
                [
                  "15",
                  "2024-06-07",
                  "15:05:35",
                  "\"CNR2390352\"",
                  "Completed",
                  "\"CID5432215\"",
                  "Auto",
                  "Jama Masjid",
                  "Khan Market",
                  "8.5",
                  "36.9",
                  null,
                  null,
                  null,
                  null,
                  null,
                  null,
                  "410.0",
                  "34.76",
                  "4.0",
                  "4.9",
                  "Other",
                  "Economy",
                  "Éxito"
                ],
                [
                  "16",
                  "2024-07-01",
                  "10:51:16",
                  "\"CNR3221338\"",
                  "Completed",
                  "\"CID2581698\"",
                  "Premier Sedan",
                  "IGI Airport",
                  "Madipur",
                  "5.6",
                  "27.5",
                  null,
                  null,
                  null,
                  null,
                  null,
                  null,
                  "401.0",
                  "21.97",
                  "4.9",
                  "4.3",
                  "Other",
                  "Premium",
                  "Otro"
                ],
                [
                  "17",
                  "2024-12-15",
                  "15:08:25",
                  "\"CNR6739317\"",
                  "Cancelled by Driver",
                  "\"CID8682675\"",
                  "Go Sedan",
                  "Vinobapuri",
                  "GTB Nagar",
                  "6.0",
                  null,
                  null,
                  null,
                  "1.0",
                  "Customer related issue",
                  null,
                  null,
                  null,
                  null,
                  null,
                  null,
                  "Other",
                  "Standard",
                  "Cancelado"
                ],
                [
                  "18",
                  "2024-11-24",
                  "09:07:10",
                  "\"CNR6126048\"",
                  "Cancelled by Customer",
                  "\"CID1060329\"",
                  "eBike",
                  "Kashmere Gate",
                  "Anand Vihar",
                  "12.4",
                  null,
                  "1.0",
                  "Driver is not moving towards pickup location",
                  null,
                  null,
                  null,
                  null,
                  null,
                  null,
                  null,
                  null,
                  "Other",
                  "Two-wheeler",
                  "Cancelado"
                ],
                [
                  "19",
                  "2024-05-24",
                  "19:53:57",
                  "\"CNR9465840\"",
                  "Cancelled by Driver",
                  "\"CID9046501\"",
                  "eBike",
                  "Pitampura",
                  "Rajiv Nagar",
                  "10.3",
                  null,
                  null,
                  null,
                  "1.0",
                  "Customer related issue",
                  null,
                  null,
                  null,
                  null,
                  null,
                  null,
                  "Other",
                  "Two-wheeler",
                  "Cancelado"
                ],
                [
                  "20",
                  "2024-12-14",
                  "21:27:04",
                  "\"CNR9843229\"",
                  "Completed",
                  "\"CID4929303\"",
                  "Go Sedan",
                  "Punjabi Bagh",
                  "Mansarovar Park",
                  "6.1",
                  "33.7",
                  null,
                  null,
                  null,
                  null,
                  null,
                  null,
                  "264.0",
                  "13.64",
                  "3.8",
                  "4.7",
                  "Other",
                  "Standard",
                  "Otro"
                ],
                [
                  "21",
                  "2024-07-29",
                  "06:28:22",
                  "\"CNR7911434\"",
                  "Completed",
                  "\"CID8465004\"",
                  "Auto",
                  "Greater Noida",
                  "Botanical Garden",
                  "7.0",
                  "21.3",
                  null,
                  null,
                  null,
                  null,
                  null,
                  null,
                  "183.0",
                  "4.5",
                  "5.0",
                  "4.2",
                  "Other",
                  "Economy",
                  "Éxito"
                ],
                [
                  "22",
                  "2024-02-23",
                  "11:02:45",
                  "\"CNR6178330\"",
                  "Completed",
                  "\"CID7719678\"",
                  "Go Mini",
                  "Tis Hazari",
                  "IMT Manesar",
                  "10.4",
                  "25.1",
                  null,
                  null,
                  null,
                  null,
                  null,
                  null,
                  "713.0",
                  "38.03",
                  "3.7",
                  "3.6",
                  "Other",
                  "Economy",
                  "Éxito"
                ],
                [
                  "23",
                  "2024-03-09",
                  "20:14:24",
                  "\"CNR5309981\"",
                  "Completed",
                  "\"CID3870048\"",
                  "Go Mini",
                  "Noida Sector 18",
                  "Old Gurgaon",
                  "7.9",
                  "41.1",
                  null,
                  null,
                  null,
                  null,
                  null,
                  null,
                  "113.0",
                  "14.53",
                  "4.6",
                  "4.9",
                  "Other",
                  "Economy",
                  "Éxito"
                ],
                [
                  "24",
                  "2024-08-28",
                  "16:30:14",
                  "\"CNR2978950\"",
                  "Completed",
                  "\"CID2977484\"",
                  "Auto",
                  "Kanhaiya Nagar",
                  "Anand Vihar",
                  "13.6",
                  "25.2",
                  null,
                  null,
                  null,
                  null,
                  null,
                  null,
                  "767.0",
                  "7.39",
                  "3.8",
                  "4.6",
                  "Card",
                  "Economy",
                  "Éxito"
                ],
                [
                  "25",
                  "2024-08-08",
                  "06:34:38",
                  "\"CNR2806943\"",
                  "Completed",
                  "\"CID7550481\"",
                  "Uber XL",
                  "Okhla",
                  "Barakhamba Road",
                  "5.1",
                  "20.7",
                  null,
                  null,
                  null,
                  null,
                  null,
                  null,
                  "495.0",
                  "10.23",
                  "3.8",
                  "4.2",
                  "Card",
                  "Large",
                  "Otro"
                ],
                [
                  "26",
                  "2024-01-26",
                  "09:44:00",
                  "\"CNR3614535\"",
                  "Cancelled by Driver",
                  "\"CID2507102\"",
                  "Auto",
                  "Cyber Hub",
                  "Saket",
                  "11.5",
                  null,
                  null,
                  null,
                  "1.0",
                  "Personal & Car related issues",
                  null,
                  null,
                  null,
                  null,
                  null,
                  null,
                  "Other",
                  "Economy",
                  "Cancelado"
                ],
                [
                  "27",
                  "2024-04-12",
                  "19:42:35",
                  "\"CNR4499383\"",
                  "No Driver Found",
                  "\"CID5717521\"",
                  "Premier Sedan",
                  "Sadar Bazar Gurgaon",
                  "Mehrauli",
                  null,
                  null,
                  null,
                  null,
                  null,
                  null,
                  null,
                  null,
                  null,
                  null,
                  null,
                  null,
                  "Other",
                  "Premium",
                  "Otro"
                ],
                [
                  "28",
                  "2024-04-05",
                  "18:57:12",
                  "\"CNR9834201\"",
                  "Incomplete",
                  "\"CID7891331\"",
                  "Bike",
                  "Shastri Park",
                  "Botanical Garden",
                  "3.1",
                  "28.2",
                  null,
                  null,
                  null,
                  null,
                  "1.0",
                  "Vehicle Breakdown",
                  "304.0",
                  "1.98",
                  null,
                  null,
                  "Other",
                  "Two-wheeler",
                  "Otro"
                ],
                [
                  "29",
                  "2024-11-03",
                  "12:24:59",
                  "\"CNR8779845\"",
                  "Completed",
                  "\"CID7444351\"",
                  "Auto",
                  "Faridabad Sector 15",
                  "Malviya Nagar",
                  "8.9",
                  "31.1",
                  null,
                  null,
                  null,
                  null,
                  null,
                  null,
                  "2847.0",
                  "39.21",
                  "3.1",
                  "4.6",
                  "Card",
                  "Economy",
                  "Éxito"
                ],
                [
                  "30",
                  "2024-05-18",
                  "17:37:52",
                  "\"CNR2178654\"",
                  "Cancelled by Driver",
                  "\"CID3631860\"",
                  "Go Mini",
                  "Qutub Minar",
                  "Vishwavidyalaya",
                  "9.2",
                  null,
                  null,
                  null,
                  "1.0",
                  "More than permitted people in there",
                  null,
                  null,
                  null,
                  null,
                  null,
                  null,
                  "Other",
                  "Economy",
                  "Cancelado"
                ],
                [
                  "31",
                  "2024-11-15",
                  "05:53:55",
                  "\"CNR3871541\"",
                  "Completed",
                  "\"CID9849259\"",
                  "Go Mini",
                  "Mundka",
                  "Preet Vihar",
                  "8.9",
                  "41.0",
                  null,
                  null,
                  null,
                  null,
                  null,
                  null,
                  "282.0",
                  "8.36",
                  "3.8",
                  "4.4",
                  "Other",
                  "Economy",
                  "Éxito"
                ],
                [
                  "32",
                  "2024-02-04",
                  "18:08:04",
                  "\"CNR2877692\"",
                  "Completed",
                  "\"CID5901711\"",
                  "Premier Sedan",
                  "DLF City Court",
                  "Nehru Place",
                  "11.5",
                  "20.5",
                  null,
                  null,
                  null,
                  null,
                  null,
                  null,
                  "656.0",
                  "6.39",
                  "5.0",
                  "4.9",
                  "Other",
                  "Premium",
                  "Otro"
                ],
                [
                  "33",
                  "2024-05-29",
                  "14:05:10",
                  "\"CNR9603633\"",
                  "Completed",
                  "\"CID5856503\"",
                  "Auto",
                  "Tis Hazari",
                  "Shahdara",
                  "2.0",
                  "19.4",
                  null,
                  null,
                  null,
                  null,
                  null,
                  null,
                  "134.0",
                  "46.66",
                  "3.8",
                  "4.4",
                  "Card",
                  "Economy",
                  "Éxito"
                ],
                [
                  "34",
                  "2024-07-13",
                  "19:53:15",
                  "\"CNR8087051\"",
                  "Cancelled by Driver",
                  "\"CID9716528\"",
                  "Go Sedan",
                  "New Colony",
                  "Ghitorni Village",
                  "5.4",
                  null,
                  null,
                  null,
                  "1.0",
                  "Customer related issue",
                  null,
                  null,
                  null,
                  null,
                  null,
                  null,
                  "Other",
                  "Standard",
                  "Cancelado"
                ],
                [
                  "35",
                  "2024-06-07",
                  "19:21:10",
                  "\"CNR7823292\"",
                  "Completed",
                  "\"CID9377721\"",
                  "Go Sedan",
                  "Nirman Vihar",
                  "Malviya Nagar",
                  "14.6",
                  "25.4",
                  null,
                  null,
                  null,
                  null,
                  null,
                  null,
                  "470.0",
                  "27.07",
                  "3.7",
                  "4.2",
                  "Cash",
                  "Standard",
                  "Otro"
                ],
                [
                  "36",
                  "2024-05-16",
                  "13:04:31",
                  "\"CNR9918895\"",
                  "Completed",
                  "\"CID9520433\"",
                  "Auto",
                  "New Delhi Railway Station",
                  "Noida Film City",
                  "6.7",
                  "20.5",
                  null,
                  null,
                  null,
                  null,
                  null,
                  null,
                  "187.0",
                  "12.16",
                  "4.9",
                  "4.3",
                  "Other",
                  "Economy",
                  "Éxito"
                ],
                [
                  "37",
                  "2024-10-02",
                  "03:10:35",
                  "\"CNR7401001\"",
                  "Completed",
                  "\"CID9958715\"",
                  "Premier Sedan",
                  "Civil Lines Gurgaon",
                  "Mandi House",
                  "6.6",
                  "30.0",
                  null,
                  null,
                  null,
                  null,
                  null,
                  null,
                  "186.0",
                  "10.28",
                  "4.4",
                  "4.6",
                  "Other",
                  "Premium",
                  "Otro"
                ],
                [
                  "38",
                  "2024-02-26",
                  "15:43:16",
                  "\"CNR2631310\"",
                  "Completed",
                  "\"CID4355670\"",
                  "eBike",
                  "Seelampur",
                  "Janakpuri",
                  "10.0",
                  "35.8",
                  null,
                  null,
                  null,
                  null,
                  null,
                  null,
                  "70.0",
                  "44.42",
                  "4.1",
                  "4.4",
                  "Other",
                  "Two-wheeler",
                  "Otro"
                ],
                [
                  "39",
                  "2024-09-10",
                  "13:02:42",
                  "\"CNR4218487\"",
                  "Cancelled by Customer",
                  "\"CID3037053\"",
                  "Bike",
                  "Noida Extension",
                  "Udyog Vihar Phase 4",
                  "11.0",
                  null,
                  "1.0",
                  "Driver is not moving towards pickup location",
                  null,
                  null,
                  null,
                  null,
                  null,
                  null,
                  null,
                  null,
                  "Other",
                  "Two-wheeler",
                  "Cancelado"
                ],
                [
                  "40",
                  "2024-09-12",
                  "09:14:57",
                  "\"CNR5333099\"",
                  "Cancelled by Driver",
                  "\"CID5112050\"",
                  "Auto",
                  "Adarsh Nagar",
                  "Civil Lines Gurgaon",
                  "8.0",
                  null,
                  null,
                  null,
                  "1.0",
                  "Personal & Car related issues",
                  null,
                  null,
                  null,
                  null,
                  null,
                  null,
                  "Other",
                  "Economy",
                  "Cancelado"
                ],
                [
                  "41",
                  "2024-01-24",
                  "10:47:57",
                  "\"CNR5969954\"",
                  "Completed",
                  "\"CID5558118\"",
                  "Auto",
                  "Vinobapuri",
                  "Karkarduma",
                  "12.8",
                  "18.7",
                  null,
                  null,
                  null,
                  null,
                  null,
                  null,
                  "273.0",
                  "34.64",
                  "4.5",
                  "4.6",
                  "Other",
                  "Economy",
                  "Éxito"
                ],
                [
                  "42",
                  "2024-02-12",
                  "19:42:39",
                  "\"CNR4130953\"",
                  "Incomplete",
                  "\"CID3196782\"",
                  "Premier Sedan",
                  "Panipat",
                  "Tagore Garden",
                  "6.4",
                  "10.5",
                  null,
                  null,
                  null,
                  null,
                  "1.0",
                  "Other Issue",
                  "966.0",
                  "18.3",
                  null,
                  null,
                  "Card",
                  "Premium",
                  "Otro"
                ],
                [
                  "43",
                  "2024-10-02",
                  "19:17:00",
                  "\"CNR6693125\"",
                  "Cancelled by Driver",
                  "\"CID7364449\"",
                  "Auto",
                  "Karol Bagh",
                  "Tagore Garden",
                  "5.4",
                  null,
                  null,
                  null,
                  "1.0",
                  "More than permitted people in there",
                  null,
                  null,
                  null,
                  null,
                  null,
                  null,
                  "Other",
                  "Economy",
                  "Cancelado"
                ],
                [
                  "44",
                  "2024-04-01",
                  "21:14:19",
                  "\"CNR9572979\"",
                  "Completed",
                  "\"CID3474992\"",
                  "Go Sedan",
                  "Sultanpur",
                  "Noida Extension",
                  "12.2",
                  "42.3",
                  null,
                  null,
                  null,
                  null,
                  null,
                  null,
                  "251.0",
                  "20.91",
                  "4.2",
                  "3.6",
                  "Card",
                  "Standard",
                  "Otro"
                ],
                [
                  "45",
                  "2024-09-18",
                  "21:06:36",
                  "\"CNR6444364\"",
                  "Cancelled by Driver",
                  "\"CID8262635\"",
                  "Go Mini",
                  "Moti Nagar",
                  "Anand Vihar ISBT",
                  "6.6",
                  null,
                  null,
                  null,
                  "1.0",
                  "More than permitted people in there",
                  null,
                  null,
                  null,
                  null,
                  null,
                  null,
                  "Other",
                  "Economy",
                  "Cancelado"
                ],
                [
                  "46",
                  "2024-08-02",
                  "07:17:07",
                  "\"CNR4862806\"",
                  "Cancelled by Customer",
                  "\"CID7875150\"",
                  "Auto",
                  "Shastri Park",
                  "Anand Vihar ISBT",
                  "11.3",
                  null,
                  "1.0",
                  "Driver asked to cancel",
                  null,
                  null,
                  null,
                  null,
                  null,
                  null,
                  null,
                  null,
                  "Other",
                  "Economy",
                  "Cancelado"
                ],
                [
                  "47",
                  "2024-09-30",
                  "13:10:50",
                  "\"CNR4674790\"",
                  "Incomplete",
                  "\"CID4795905\"",
                  "Bike",
                  "Dilshad Garden",
                  "Nehru Place",
                  "2.3",
                  "29.7",
                  null,
                  null,
                  null,
                  null,
                  "1.0",
                  "Vehicle Breakdown",
                  "453.0",
                  "19.24",
                  null,
                  null,
                  "Card",
                  "Two-wheeler",
                  "Otro"
                ],
                [
                  "48",
                  "2024-06-16",
                  "00:44:47",
                  "\"CNR6866217\"",
                  "Completed",
                  "\"CID7798304\"",
                  "Go Sedan",
                  "Dilshad Garden",
                  "Nehru Place",
                  "7.8",
                  "42.2",
                  null,
                  null,
                  null,
                  null,
                  null,
                  null,
                  "246.0",
                  "8.13",
                  "4.2",
                  "4.5",
                  "Other",
                  "Standard",
                  "Otro"
                ],
                [
                  "49",
                  "2024-09-18",
                  "09:33:55",
                  "\"CNR4932611\"",
                  "Completed",
                  "\"CID8795963\"",
                  "Auto",
                  "Aya Nagar",
                  "Karkarduma",
                  "8.8",
                  "25.2",
                  null,
                  null,
                  null,
                  null,
                  null,
                  null,
                  "237.0",
                  "2.96",
                  "3.9",
                  "3.3",
                  "Other",
                  "Economy",
                  "Éxito"
                ]
              ],
              "shape": {
                "columns": 23,
                "rows": 150000
              }
            },
            "text/html": [
              "<div>\n",
              "<style scoped>\n",
              "    .dataframe tbody tr th:only-of-type {\n",
              "        vertical-align: middle;\n",
              "    }\n",
              "\n",
              "    .dataframe tbody tr th {\n",
              "        vertical-align: top;\n",
              "    }\n",
              "\n",
              "    .dataframe thead th {\n",
              "        text-align: right;\n",
              "    }\n",
              "</style>\n",
              "<table border=\"1\" class=\"dataframe\">\n",
              "  <thead>\n",
              "    <tr style=\"text-align: right;\">\n",
              "      <th></th>\n",
              "      <th>Date</th>\n",
              "      <th>Time</th>\n",
              "      <th>Booking ID</th>\n",
              "      <th>Booking Status</th>\n",
              "      <th>Customer ID</th>\n",
              "      <th>Vehicle Type</th>\n",
              "      <th>Pickup Location</th>\n",
              "      <th>Drop Location</th>\n",
              "      <th>Avg VTAT</th>\n",
              "      <th>Avg CTAT</th>\n",
              "      <th>...</th>\n",
              "      <th>Driver Cancellation Reason</th>\n",
              "      <th>Incomplete Rides</th>\n",
              "      <th>Incomplete Rides Reason</th>\n",
              "      <th>Booking Value</th>\n",
              "      <th>Ride Distance</th>\n",
              "      <th>Driver Ratings</th>\n",
              "      <th>Customer Rating</th>\n",
              "      <th>Payment Method</th>\n",
              "      <th>vehicle_category</th>\n",
              "      <th>status_simple</th>\n",
              "    </tr>\n",
              "  </thead>\n",
              "  <tbody>\n",
              "    <tr>\n",
              "      <th>0</th>\n",
              "      <td>2024-03-23</td>\n",
              "      <td>12:29:38</td>\n",
              "      <td>\"CNR5884300\"</td>\n",
              "      <td>No Driver Found</td>\n",
              "      <td>\"CID1982111\"</td>\n",
              "      <td>eBike</td>\n",
              "      <td>Palam Vihar</td>\n",
              "      <td>Jhilmil</td>\n",
              "      <td>NaN</td>\n",
              "      <td>NaN</td>\n",
              "      <td>...</td>\n",
              "      <td>NaN</td>\n",
              "      <td>NaN</td>\n",
              "      <td>NaN</td>\n",
              "      <td>NaN</td>\n",
              "      <td>NaN</td>\n",
              "      <td>NaN</td>\n",
              "      <td>NaN</td>\n",
              "      <td>Other</td>\n",
              "      <td>Two-wheeler</td>\n",
              "      <td>Otro</td>\n",
              "    </tr>\n",
              "    <tr>\n",
              "      <th>1</th>\n",
              "      <td>2024-11-29</td>\n",
              "      <td>18:01:39</td>\n",
              "      <td>\"CNR1326809\"</td>\n",
              "      <td>Incomplete</td>\n",
              "      <td>\"CID4604802\"</td>\n",
              "      <td>Go Sedan</td>\n",
              "      <td>Shastri Nagar</td>\n",
              "      <td>Gurgaon Sector 56</td>\n",
              "      <td>4.9</td>\n",
              "      <td>14.0</td>\n",
              "      <td>...</td>\n",
              "      <td>NaN</td>\n",
              "      <td>1.0</td>\n",
              "      <td>Vehicle Breakdown</td>\n",
              "      <td>237.0</td>\n",
              "      <td>5.73</td>\n",
              "      <td>NaN</td>\n",
              "      <td>NaN</td>\n",
              "      <td>Other</td>\n",
              "      <td>Standard</td>\n",
              "      <td>Otro</td>\n",
              "    </tr>\n",
              "    <tr>\n",
              "      <th>2</th>\n",
              "      <td>2024-08-23</td>\n",
              "      <td>08:56:10</td>\n",
              "      <td>\"CNR8494506\"</td>\n",
              "      <td>Completed</td>\n",
              "      <td>\"CID9202816\"</td>\n",
              "      <td>Auto</td>\n",
              "      <td>Khandsa</td>\n",
              "      <td>Malviya Nagar</td>\n",
              "      <td>13.4</td>\n",
              "      <td>25.8</td>\n",
              "      <td>...</td>\n",
              "      <td>NaN</td>\n",
              "      <td>NaN</td>\n",
              "      <td>NaN</td>\n",
              "      <td>627.0</td>\n",
              "      <td>13.58</td>\n",
              "      <td>4.9</td>\n",
              "      <td>4.9</td>\n",
              "      <td>Card</td>\n",
              "      <td>Economy</td>\n",
              "      <td>Éxito</td>\n",
              "    </tr>\n",
              "    <tr>\n",
              "      <th>3</th>\n",
              "      <td>2024-10-21</td>\n",
              "      <td>17:17:25</td>\n",
              "      <td>\"CNR8906825\"</td>\n",
              "      <td>Completed</td>\n",
              "      <td>\"CID2610914\"</td>\n",
              "      <td>Premier Sedan</td>\n",
              "      <td>Central Secretariat</td>\n",
              "      <td>Inderlok</td>\n",
              "      <td>13.1</td>\n",
              "      <td>28.5</td>\n",
              "      <td>...</td>\n",
              "      <td>NaN</td>\n",
              "      <td>NaN</td>\n",
              "      <td>NaN</td>\n",
              "      <td>416.0</td>\n",
              "      <td>34.02</td>\n",
              "      <td>4.6</td>\n",
              "      <td>5.0</td>\n",
              "      <td>Other</td>\n",
              "      <td>Premium</td>\n",
              "      <td>Otro</td>\n",
              "    </tr>\n",
              "    <tr>\n",
              "      <th>4</th>\n",
              "      <td>2024-09-16</td>\n",
              "      <td>22:08:00</td>\n",
              "      <td>\"CNR1950162\"</td>\n",
              "      <td>Completed</td>\n",
              "      <td>\"CID9933542\"</td>\n",
              "      <td>Bike</td>\n",
              "      <td>Ghitorni Village</td>\n",
              "      <td>Khan Market</td>\n",
              "      <td>5.3</td>\n",
              "      <td>19.6</td>\n",
              "      <td>...</td>\n",
              "      <td>NaN</td>\n",
              "      <td>NaN</td>\n",
              "      <td>NaN</td>\n",
              "      <td>737.0</td>\n",
              "      <td>48.21</td>\n",
              "      <td>4.1</td>\n",
              "      <td>4.3</td>\n",
              "      <td>Other</td>\n",
              "      <td>Two-wheeler</td>\n",
              "      <td>Otro</td>\n",
              "    </tr>\n",
              "    <tr>\n",
              "      <th>...</th>\n",
              "      <td>...</td>\n",
              "      <td>...</td>\n",
              "      <td>...</td>\n",
              "      <td>...</td>\n",
              "      <td>...</td>\n",
              "      <td>...</td>\n",
              "      <td>...</td>\n",
              "      <td>...</td>\n",
              "      <td>...</td>\n",
              "      <td>...</td>\n",
              "      <td>...</td>\n",
              "      <td>...</td>\n",
              "      <td>...</td>\n",
              "      <td>...</td>\n",
              "      <td>...</td>\n",
              "      <td>...</td>\n",
              "      <td>...</td>\n",
              "      <td>...</td>\n",
              "      <td>...</td>\n",
              "      <td>...</td>\n",
              "      <td>...</td>\n",
              "    </tr>\n",
              "    <tr>\n",
              "      <th>149995</th>\n",
              "      <td>2024-11-11</td>\n",
              "      <td>19:34:01</td>\n",
              "      <td>\"CNR6500631\"</td>\n",
              "      <td>Completed</td>\n",
              "      <td>\"CID4337371\"</td>\n",
              "      <td>Go Mini</td>\n",
              "      <td>MG Road</td>\n",
              "      <td>Ghitorni</td>\n",
              "      <td>10.2</td>\n",
              "      <td>44.4</td>\n",
              "      <td>...</td>\n",
              "      <td>NaN</td>\n",
              "      <td>NaN</td>\n",
              "      <td>NaN</td>\n",
              "      <td>475.0</td>\n",
              "      <td>40.08</td>\n",
              "      <td>3.7</td>\n",
              "      <td>4.1</td>\n",
              "      <td>Other</td>\n",
              "      <td>Economy</td>\n",
              "      <td>Éxito</td>\n",
              "    </tr>\n",
              "    <tr>\n",
              "      <th>149996</th>\n",
              "      <td>2024-11-24</td>\n",
              "      <td>15:55:09</td>\n",
              "      <td>\"CNR2468611\"</td>\n",
              "      <td>Completed</td>\n",
              "      <td>\"CID2325623\"</td>\n",
              "      <td>Go Mini</td>\n",
              "      <td>Golf Course Road</td>\n",
              "      <td>Akshardham</td>\n",
              "      <td>5.1</td>\n",
              "      <td>30.8</td>\n",
              "      <td>...</td>\n",
              "      <td>NaN</td>\n",
              "      <td>NaN</td>\n",
              "      <td>NaN</td>\n",
              "      <td>1093.0</td>\n",
              "      <td>21.31</td>\n",
              "      <td>4.8</td>\n",
              "      <td>5.0</td>\n",
              "      <td>Other</td>\n",
              "      <td>Economy</td>\n",
              "      <td>Éxito</td>\n",
              "    </tr>\n",
              "    <tr>\n",
              "      <th>149997</th>\n",
              "      <td>2024-09-18</td>\n",
              "      <td>10:55:15</td>\n",
              "      <td>\"CNR6358306\"</td>\n",
              "      <td>Completed</td>\n",
              "      <td>\"CID9925486\"</td>\n",
              "      <td>Go Sedan</td>\n",
              "      <td>Satguru Ram Singh Marg</td>\n",
              "      <td>Jor Bagh</td>\n",
              "      <td>2.7</td>\n",
              "      <td>23.4</td>\n",
              "      <td>...</td>\n",
              "      <td>NaN</td>\n",
              "      <td>NaN</td>\n",
              "      <td>NaN</td>\n",
              "      <td>852.0</td>\n",
              "      <td>15.93</td>\n",
              "      <td>3.9</td>\n",
              "      <td>4.4</td>\n",
              "      <td>Cash</td>\n",
              "      <td>Standard</td>\n",
              "      <td>Otro</td>\n",
              "    </tr>\n",
              "    <tr>\n",
              "      <th>149998</th>\n",
              "      <td>2024-10-05</td>\n",
              "      <td>07:53:34</td>\n",
              "      <td>\"CNR3030099\"</td>\n",
              "      <td>Completed</td>\n",
              "      <td>\"CID9415487\"</td>\n",
              "      <td>Auto</td>\n",
              "      <td>Ghaziabad</td>\n",
              "      <td>Saidulajab</td>\n",
              "      <td>6.9</td>\n",
              "      <td>39.6</td>\n",
              "      <td>...</td>\n",
              "      <td>NaN</td>\n",
              "      <td>NaN</td>\n",
              "      <td>NaN</td>\n",
              "      <td>333.0</td>\n",
              "      <td>45.54</td>\n",
              "      <td>4.1</td>\n",
              "      <td>3.7</td>\n",
              "      <td>Other</td>\n",
              "      <td>Economy</td>\n",
              "      <td>Éxito</td>\n",
              "    </tr>\n",
              "    <tr>\n",
              "      <th>149999</th>\n",
              "      <td>2024-03-10</td>\n",
              "      <td>15:38:03</td>\n",
              "      <td>\"CNR3447390\"</td>\n",
              "      <td>Completed</td>\n",
              "      <td>\"CID4108667\"</td>\n",
              "      <td>Premier Sedan</td>\n",
              "      <td>Ashok Park Main</td>\n",
              "      <td>Gurgaon Sector 29</td>\n",
              "      <td>3.5</td>\n",
              "      <td>33.7</td>\n",
              "      <td>...</td>\n",
              "      <td>NaN</td>\n",
              "      <td>NaN</td>\n",
              "      <td>NaN</td>\n",
              "      <td>806.0</td>\n",
              "      <td>21.19</td>\n",
              "      <td>4.6</td>\n",
              "      <td>4.9</td>\n",
              "      <td>Card</td>\n",
              "      <td>Premium</td>\n",
              "      <td>Otro</td>\n",
              "    </tr>\n",
              "  </tbody>\n",
              "</table>\n",
              "<p>150000 rows × 23 columns</p>\n",
              "</div>"
            ],
            "text/plain": [
              "              Date      Time    Booking ID   Booking Status   Customer ID  \\\n",
              "0       2024-03-23  12:29:38  \"CNR5884300\"  No Driver Found  \"CID1982111\"   \n",
              "1       2024-11-29  18:01:39  \"CNR1326809\"       Incomplete  \"CID4604802\"   \n",
              "2       2024-08-23  08:56:10  \"CNR8494506\"        Completed  \"CID9202816\"   \n",
              "3       2024-10-21  17:17:25  \"CNR8906825\"        Completed  \"CID2610914\"   \n",
              "4       2024-09-16  22:08:00  \"CNR1950162\"        Completed  \"CID9933542\"   \n",
              "...            ...       ...           ...              ...           ...   \n",
              "149995  2024-11-11  19:34:01  \"CNR6500631\"        Completed  \"CID4337371\"   \n",
              "149996  2024-11-24  15:55:09  \"CNR2468611\"        Completed  \"CID2325623\"   \n",
              "149997  2024-09-18  10:55:15  \"CNR6358306\"        Completed  \"CID9925486\"   \n",
              "149998  2024-10-05  07:53:34  \"CNR3030099\"        Completed  \"CID9415487\"   \n",
              "149999  2024-03-10  15:38:03  \"CNR3447390\"        Completed  \"CID4108667\"   \n",
              "\n",
              "         Vehicle Type         Pickup Location      Drop Location  Avg VTAT  \\\n",
              "0               eBike             Palam Vihar            Jhilmil       NaN   \n",
              "1            Go Sedan           Shastri Nagar  Gurgaon Sector 56       4.9   \n",
              "2                Auto                 Khandsa      Malviya Nagar      13.4   \n",
              "3       Premier Sedan     Central Secretariat           Inderlok      13.1   \n",
              "4                Bike        Ghitorni Village        Khan Market       5.3   \n",
              "...               ...                     ...                ...       ...   \n",
              "149995        Go Mini                 MG Road           Ghitorni      10.2   \n",
              "149996        Go Mini        Golf Course Road         Akshardham       5.1   \n",
              "149997       Go Sedan  Satguru Ram Singh Marg           Jor Bagh       2.7   \n",
              "149998           Auto               Ghaziabad         Saidulajab       6.9   \n",
              "149999  Premier Sedan         Ashok Park Main  Gurgaon Sector 29       3.5   \n",
              "\n",
              "        Avg CTAT  ...  Driver Cancellation Reason Incomplete Rides  \\\n",
              "0            NaN  ...                         NaN              NaN   \n",
              "1           14.0  ...                         NaN              1.0   \n",
              "2           25.8  ...                         NaN              NaN   \n",
              "3           28.5  ...                         NaN              NaN   \n",
              "4           19.6  ...                         NaN              NaN   \n",
              "...          ...  ...                         ...              ...   \n",
              "149995      44.4  ...                         NaN              NaN   \n",
              "149996      30.8  ...                         NaN              NaN   \n",
              "149997      23.4  ...                         NaN              NaN   \n",
              "149998      39.6  ...                         NaN              NaN   \n",
              "149999      33.7  ...                         NaN              NaN   \n",
              "\n",
              "        Incomplete Rides Reason Booking Value  Ride Distance Driver Ratings  \\\n",
              "0                           NaN           NaN            NaN            NaN   \n",
              "1             Vehicle Breakdown         237.0           5.73            NaN   \n",
              "2                           NaN         627.0          13.58            4.9   \n",
              "3                           NaN         416.0          34.02            4.6   \n",
              "4                           NaN         737.0          48.21            4.1   \n",
              "...                         ...           ...            ...            ...   \n",
              "149995                      NaN         475.0          40.08            3.7   \n",
              "149996                      NaN        1093.0          21.31            4.8   \n",
              "149997                      NaN         852.0          15.93            3.9   \n",
              "149998                      NaN         333.0          45.54            4.1   \n",
              "149999                      NaN         806.0          21.19            4.6   \n",
              "\n",
              "        Customer Rating  Payment Method  vehicle_category  status_simple  \n",
              "0                   NaN           Other       Two-wheeler           Otro  \n",
              "1                   NaN           Other          Standard           Otro  \n",
              "2                   4.9            Card           Economy          Éxito  \n",
              "3                   5.0           Other           Premium           Otro  \n",
              "4                   4.3           Other       Two-wheeler           Otro  \n",
              "...                 ...             ...               ...            ...  \n",
              "149995              4.1           Other           Economy          Éxito  \n",
              "149996              5.0           Other           Economy          Éxito  \n",
              "149997              4.4            Cash          Standard           Otro  \n",
              "149998              3.7           Other           Economy          Éxito  \n",
              "149999              4.9            Card           Premium           Otro  \n",
              "\n",
              "[150000 rows x 23 columns]"
            ]
          },
          "execution_count": 128,
          "metadata": {},
          "output_type": "execute_result"
        }
      ],
      "source": [
        "df_csv"
      ]
    },
    {
      "cell_type": "markdown",
      "metadata": {},
      "source": [
        "> A cada fila se le pasa la función clasificar, esta devuelve un valor (por ejemplo \"Cancelado\" o \"Completado\"), y ese valor se guarda en la columna status_simple."
      ]
    },
    {
      "cell_type": "markdown",
      "metadata": {
        "collapsed": true,
        "id": "Q33IyPxJT_ak"
      },
      "source": [
        "____\n",
        "#Transpose \n",
        "#Merging, Joining, y Concatenating\n",
        "\n",
        "Hay tres principales formas de combinar `pd.DataFrame`: *merge*, *join* y *concatenate*. Iremos sobre cada uno de ellos."
      ]
    },
    {
      "cell_type": "markdown",
      "metadata": {
        "id": "Xh2Z6cveT_ak"
      },
      "source": [
        "### DataFrames de muestra"
      ]
    },
    {
      "cell_type": "code",
      "execution_count": null,
      "metadata": {
        "id": "LL-iCHlzT_al"
      },
      "outputs": [],
      "source": [
        "df1 = pd.DataFrame({'A': ['A0', 'A1', 'A2', 'A3'],\n",
        "                        'B': ['B0', 'B1', 'B2', 'B3'],\n",
        "                        'C': ['C0', 'C1', 'C2', 'C3'],\n",
        "                        'D': ['D0', 'D1', 'D2', 'D3']},\n",
        "                        index=[0, 1, 2, 3])"
      ]
    },
    {
      "cell_type": "code",
      "execution_count": null,
      "metadata": {
        "id": "UmDsGKh_T_am"
      },
      "outputs": [],
      "source": [
        "df2 = pd.DataFrame({'A': ['A4', 'A5', 'A6', 'A7'],\n",
        "                        'B': ['B4', 'B5', 'B6', 'B7'],\n",
        "                        'C': ['C4', 'C5', 'C6', 'C7'],\n",
        "                        'D': ['D4', 'D5', 'D6', 'D7']},\n",
        "                         index=[4, 5, 6, 7]) "
      ]
    },
    {
      "cell_type": "code",
      "execution_count": null,
      "metadata": {
        "collapsed": true,
        "id": "_1i4fKW8T_am"
      },
      "outputs": [],
      "source": [
        "df3 = pd.DataFrame({'A': ['A8', 'A9', 'A10', 'A11'],\n",
        "                        'B': ['B8', 'B9', 'B10', 'B11'],\n",
        "                        'C': ['C8', 'C9', 'C10', 'C11'],\n",
        "                        'D': ['D8', 'D9', 'D10', 'D11']},\n",
        "                        index=[8, 9, 10, 11])"
      ]
    },
    {
      "cell_type": "markdown",
      "metadata": {
        "id": "4xgc_R7qT_ao"
      },
      "source": [
        "## Concatenación\n",
        "\n",
        "Esta operación únicamente pega los datos. Por tanto, las dimensiones de los objetos que intervienen en la operación deben de encajar sobre el eje que se realice la misma."
      ]
    },
    {
      "cell_type": "code",
      "execution_count": null,
      "metadata": {
        "colab": {
          "base_uri": "https://localhost:8080/",
          "height": 421
        },
        "id": "_yUTqQp5T_ao",
        "outputId": "af7bc13b-e479-4a5e-c2f3-6ae33a1dd8f7"
      },
      "outputs": [],
      "source": [
        "pd.concat([df1,df2,df3])"
      ]
    },
    {
      "cell_type": "code",
      "execution_count": null,
      "metadata": {
        "colab": {
          "base_uri": "https://localhost:8080/",
          "height": 421
        },
        "id": "WJyFls1zT_ao",
        "outputId": "e3bcae55-ff88-42dd-dfa4-37c43eafadb9"
      },
      "outputs": [],
      "source": [
        "pd.concat([df1,df2,df3],axis=1)"
      ]
    },
    {
      "cell_type": "markdown",
      "metadata": {
        "id": "yZZNUAwJT_aq"
      },
      "source": [
        "___"
      ]
    },
    {
      "cell_type": "markdown",
      "metadata": {
        "id": "sO4TWFf_T_aq"
      },
      "source": [
        "## Merging\n",
        "\n",
        "La función **merge** permite combinar DataFrames usando una lógica similar a la de las tablas SQL."
      ]
    },
    {
      "cell_type": "code",
      "execution_count": null,
      "metadata": {
        "id": "PuzZvlflAvMB"
      },
      "outputs": [],
      "source": [
        "left = pd.DataFrame({'key': ['K0', 'K1', 'K2', 'K3'],\n",
        "                     'A': ['A0', 'A1', 'A2', 'A3'],\n",
        "                     'B': ['B0', 'B1', 'B2', 'B3']})\n",
        "   \n",
        "right = pd.DataFrame({'key': ['K0', 'K1', 'K2', 'K3'],\n",
        "                          'C': ['C0', 'C1', 'C2', 'C3'],\n",
        "                          'D': ['D0', 'D1', 'D2', 'D3']})    "
      ]
    },
    {
      "cell_type": "code",
      "execution_count": null,
      "metadata": {
        "colab": {
          "base_uri": "https://localhost:8080/",
          "height": 173
        },
        "id": "RMejpsV1T_aq",
        "outputId": "5a4b073e-deb2-4080-b831-1589ed12346f"
      },
      "outputs": [
        {
          "data": {
            "application/vnd.microsoft.datawrangler.viewer.v0+json": {
              "columns": [
                {
                  "name": "index",
                  "rawType": "int64",
                  "type": "integer"
                },
                {
                  "name": "key",
                  "rawType": "object",
                  "type": "string"
                },
                {
                  "name": "A",
                  "rawType": "object",
                  "type": "string"
                },
                {
                  "name": "B",
                  "rawType": "object",
                  "type": "string"
                },
                {
                  "name": "C",
                  "rawType": "object",
                  "type": "string"
                },
                {
                  "name": "D",
                  "rawType": "object",
                  "type": "string"
                }
              ],
              "ref": "67c261d8-90cd-4142-83a8-9cd23368db76",
              "rows": [
                [
                  "0",
                  "K0",
                  "A0",
                  "B0",
                  "C0",
                  "D0"
                ],
                [
                  "1",
                  "K1",
                  "A1",
                  "B1",
                  "C1",
                  "D1"
                ],
                [
                  "2",
                  "K2",
                  "A2",
                  "B2",
                  "C2",
                  "D2"
                ],
                [
                  "3",
                  "K3",
                  "A3",
                  "B3",
                  "C3",
                  "D3"
                ]
              ],
              "shape": {
                "columns": 5,
                "rows": 4
              }
            },
            "text/html": [
              "<div>\n",
              "<style scoped>\n",
              "    .dataframe tbody tr th:only-of-type {\n",
              "        vertical-align: middle;\n",
              "    }\n",
              "\n",
              "    .dataframe tbody tr th {\n",
              "        vertical-align: top;\n",
              "    }\n",
              "\n",
              "    .dataframe thead th {\n",
              "        text-align: right;\n",
              "    }\n",
              "</style>\n",
              "<table border=\"1\" class=\"dataframe\">\n",
              "  <thead>\n",
              "    <tr style=\"text-align: right;\">\n",
              "      <th></th>\n",
              "      <th>key</th>\n",
              "      <th>A</th>\n",
              "      <th>B</th>\n",
              "      <th>C</th>\n",
              "      <th>D</th>\n",
              "    </tr>\n",
              "  </thead>\n",
              "  <tbody>\n",
              "    <tr>\n",
              "      <th>0</th>\n",
              "      <td>K0</td>\n",
              "      <td>A0</td>\n",
              "      <td>B0</td>\n",
              "      <td>C0</td>\n",
              "      <td>D0</td>\n",
              "    </tr>\n",
              "    <tr>\n",
              "      <th>1</th>\n",
              "      <td>K1</td>\n",
              "      <td>A1</td>\n",
              "      <td>B1</td>\n",
              "      <td>C1</td>\n",
              "      <td>D1</td>\n",
              "    </tr>\n",
              "    <tr>\n",
              "      <th>2</th>\n",
              "      <td>K2</td>\n",
              "      <td>A2</td>\n",
              "      <td>B2</td>\n",
              "      <td>C2</td>\n",
              "      <td>D2</td>\n",
              "    </tr>\n",
              "    <tr>\n",
              "      <th>3</th>\n",
              "      <td>K3</td>\n",
              "      <td>A3</td>\n",
              "      <td>B3</td>\n",
              "      <td>C3</td>\n",
              "      <td>D3</td>\n",
              "    </tr>\n",
              "  </tbody>\n",
              "</table>\n",
              "</div>"
            ],
            "text/plain": [
              "  key   A   B   C   D\n",
              "0  K0  A0  B0  C0  D0\n",
              "1  K1  A1  B1  C1  D1\n",
              "2  K2  A2  B2  C2  D2\n",
              "3  K3  A3  B3  C3  D3"
            ]
          },
          "execution_count": 77,
          "metadata": {},
          "output_type": "execute_result"
        }
      ],
      "source": [
        "pd.merge(left,right,how='inner',on='key')"
      ]
    },
    {
      "cell_type": "markdown",
      "metadata": {
        "id": "D2Dg2sXGT_aq"
      },
      "source": [
        "Un ejemplo algo más elaborado"
      ]
    },
    {
      "cell_type": "code",
      "execution_count": null,
      "metadata": {
        "collapsed": true,
        "id": "wmmHx-9ET_aq"
      },
      "outputs": [],
      "source": [
        "left = pd.DataFrame({'key1': ['K0', 'K0', 'K1', 'K2'],\n",
        "                     'key2': ['K0', 'K1', 'K0', 'K1'],\n",
        "                     'A': ['A0', 'A1', 'A2', 'A3'],\n",
        "                     'B': ['B0', 'B1', 'B2', 'B3']})\n",
        "    \n",
        "right = pd.DataFrame({'key1': ['K0', 'K1', 'K1', 'K2'],\n",
        "                      'key2': ['K0', 'K0', 'K0', 'K0'],\n",
        "                      'C': ['C0', 'C1', 'C2', 'C3'],\n",
        "                      'D': ['D0', 'D1', 'D2', 'D3']})"
      ]
    },
    {
      "cell_type": "code",
      "execution_count": null,
      "metadata": {
        "colab": {
          "base_uri": "https://localhost:8080/",
          "height": 142
        },
        "id": "Q4AtAKKDT_ar",
        "outputId": "37683d53-22aa-4422-8be5-1704520d9286"
      },
      "outputs": [],
      "source": [
        "pd.merge(left, right, on=['key1', 'key2']) #how = 'inner'"
      ]
    },
    {
      "cell_type": "code",
      "execution_count": null,
      "metadata": {
        "colab": {
          "base_uri": "https://localhost:8080/",
          "height": 235
        },
        "id": "L8aLeui_T_ar",
        "outputId": "2fb140cb-fb20-4934-f840-5d1868038781"
      },
      "outputs": [],
      "source": [
        "pd.merge(left, right, how='outer', on=['key1', 'key2'])"
      ]
    },
    {
      "cell_type": "code",
      "execution_count": null,
      "metadata": {
        "colab": {
          "base_uri": "https://localhost:8080/",
          "height": 173
        },
        "id": "jIdssSANT_ar",
        "outputId": "9b9a5e94-3610-4784-fb70-346340b04373"
      },
      "outputs": [],
      "source": [
        "pd.merge(left, right, how='right', on=['key1', 'key2'])"
      ]
    },
    {
      "cell_type": "code",
      "execution_count": null,
      "metadata": {
        "colab": {
          "base_uri": "https://localhost:8080/",
          "height": 204
        },
        "id": "2HvsZVrFT_ar",
        "outputId": "90c4b5d3-7862-42a9-d1da-872b9335e99a"
      },
      "outputs": [],
      "source": [
        "pd.merge(left, right, how='left', on=['key1', 'key2'])"
      ]
    },
    {
      "cell_type": "markdown",
      "metadata": {
        "id": "8RJuDf2xT_as"
      },
      "source": [
        "## Joining\n",
        "\n",
        "La operación *join* es un método muy adecuado para combinar columnas de DataFrames cuyos índices sean potencialmente distintos."
      ]
    },
    {
      "cell_type": "code",
      "execution_count": null,
      "metadata": {
        "collapsed": true,
        "id": "SEXyw6G8T_as"
      },
      "outputs": [],
      "source": [
        "left = pd.DataFrame({'A': ['A0', 'A1', 'A2'],\n",
        "                     'B': ['B0', 'B1', 'B2']},\n",
        "                      index=['K0', 'K1', 'K2']) \n",
        "\n",
        "right = pd.DataFrame({'C': ['C0', 'C2', 'C3'],\n",
        "                    'D': ['D0', 'D2', 'D3']},\n",
        "                      index=['K0', 'K2', 'K3'])"
      ]
    },
    {
      "cell_type": "code",
      "execution_count": null,
      "metadata": {
        "colab": {
          "base_uri": "https://localhost:8080/",
          "height": 142
        },
        "id": "KmwaKUZCT_as",
        "outputId": "205fe3b3-690c-47fa-fb0d-623e45e10123"
      },
      "outputs": [],
      "source": [
        "left.join(right)"
      ]
    },
    {
      "cell_type": "code",
      "execution_count": null,
      "metadata": {
        "colab": {
          "base_uri": "https://localhost:8080/",
          "height": 173
        },
        "id": "mMSAL7cUT_as",
        "outputId": "d1488fb8-44be-45ae-87d0-d0115348cb14"
      },
      "outputs": [],
      "source": [
        "left.join(right, how='outer')"
      ]
    },
    {
      "cell_type": "markdown",
      "metadata": {
        "id": "5FjneR9yD86O"
      },
      "source": [
        "**Pivotar tablas**"
      ]
    },
    {
      "cell_type": "code",
      "execution_count": null,
      "metadata": {
        "colab": {
          "base_uri": "https://localhost:8080/"
        },
        "collapsed": true,
        "id": "Bp9BZ4ySUMo8",
        "outputId": "37185709-f996-416f-e126-c18169c68ede"
      },
      "outputs": [
        {
          "name": "stdout",
          "output_type": "stream",
          "text": [
            "     A    B  C  D\n",
            "0  foo  one  x  1\n",
            "1  foo  one  y  3\n",
            "2  foo  two  x  2\n",
            "3  bar  two  y  5\n",
            "4  bar  one  x  4\n",
            "5  bar  one  y  1\n"
          ]
        }
      ],
      "source": [
        "data = {'A':['foo','foo','foo','bar','bar','bar'],\n",
        "     'B':['one','one','two','two','one','one'],\n",
        "       'C':['x','y','x','y','x','y'],\n",
        "       'D':[1,3,2,5,4,1]}\n",
        "\n",
        "df = pd.DataFrame(data)\n",
        "print(df)"
      ]
    },
    {
      "cell_type": "code",
      "execution_count": null,
      "metadata": {
        "colab": {
          "base_uri": "https://localhost:8080/",
          "height": 204
        },
        "id": "M95SPOUCUMo8",
        "outputId": "b0be4643-2d65-4bce-d06d-ae6c2f6d2836"
      },
      "outputs": [
        {
          "data": {
            "application/vnd.microsoft.datawrangler.viewer.v0+json": {
              "columns": [
                {
                  "name": "('A', 'B')",
                  "rawType": "object",
                  "type": "unknown"
                },
                {
                  "name": "x",
                  "rawType": "float64",
                  "type": "float"
                },
                {
                  "name": "y",
                  "rawType": "float64",
                  "type": "float"
                }
              ],
              "ref": "9f84eacc-a784-48f2-a8ea-5afe245e97b9",
              "rows": [
                [
                  "('bar', 'one')",
                  "4.0",
                  "1.0"
                ],
                [
                  "('bar', 'two')",
                  null,
                  "5.0"
                ],
                [
                  "('foo', 'one')",
                  "1.0",
                  "3.0"
                ],
                [
                  "('foo', 'two')",
                  "2.0",
                  null
                ]
              ],
              "shape": {
                "columns": 2,
                "rows": 4
              }
            },
            "text/html": [
              "<div>\n",
              "<style scoped>\n",
              "    .dataframe tbody tr th:only-of-type {\n",
              "        vertical-align: middle;\n",
              "    }\n",
              "\n",
              "    .dataframe tbody tr th {\n",
              "        vertical-align: top;\n",
              "    }\n",
              "\n",
              "    .dataframe thead th {\n",
              "        text-align: right;\n",
              "    }\n",
              "</style>\n",
              "<table border=\"1\" class=\"dataframe\">\n",
              "  <thead>\n",
              "    <tr style=\"text-align: right;\">\n",
              "      <th></th>\n",
              "      <th>C</th>\n",
              "      <th>x</th>\n",
              "      <th>y</th>\n",
              "    </tr>\n",
              "    <tr>\n",
              "      <th>A</th>\n",
              "      <th>B</th>\n",
              "      <th></th>\n",
              "      <th></th>\n",
              "    </tr>\n",
              "  </thead>\n",
              "  <tbody>\n",
              "    <tr>\n",
              "      <th rowspan=\"2\" valign=\"top\">bar</th>\n",
              "      <th>one</th>\n",
              "      <td>4.0</td>\n",
              "      <td>1.0</td>\n",
              "    </tr>\n",
              "    <tr>\n",
              "      <th>two</th>\n",
              "      <td>NaN</td>\n",
              "      <td>5.0</td>\n",
              "    </tr>\n",
              "    <tr>\n",
              "      <th rowspan=\"2\" valign=\"top\">foo</th>\n",
              "      <th>one</th>\n",
              "      <td>1.0</td>\n",
              "      <td>3.0</td>\n",
              "    </tr>\n",
              "    <tr>\n",
              "      <th>two</th>\n",
              "      <td>2.0</td>\n",
              "      <td>NaN</td>\n",
              "    </tr>\n",
              "  </tbody>\n",
              "</table>\n",
              "</div>"
            ],
            "text/plain": [
              "C          x    y\n",
              "A   B            \n",
              "bar one  4.0  1.0\n",
              "    two  NaN  5.0\n",
              "foo one  1.0  3.0\n",
              "    two  2.0  NaN"
            ]
          },
          "execution_count": 75,
          "metadata": {},
          "output_type": "execute_result"
        }
      ],
      "source": [
        "df.pivot_table(values='D',index=['A', 'B'],columns=['C'])"
      ]
    }
  ],
  "metadata": {
    "colab": {
      "collapsed_sections": [],
      "name": "03-Introducción a Pandas.ipynb",
      "provenance": [],
      "toc_visible": true
    },
    "kernelspec": {
      "display_name": "base",
      "language": "python",
      "name": "python3"
    },
    "language_info": {
      "codemirror_mode": {
        "name": "ipython",
        "version": 3
      },
      "file_extension": ".py",
      "mimetype": "text/x-python",
      "name": "python",
      "nbconvert_exporter": "python",
      "pygments_lexer": "ipython3",
      "version": "3.13.5"
    }
  },
  "nbformat": 4,
  "nbformat_minor": 0
}
