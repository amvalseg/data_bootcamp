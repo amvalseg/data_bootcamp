{
  "cells": [
    {
      "cell_type": "markdown",
      "metadata": {},
      "source": [
        "<div style=\"\n",
        "    background: linear-gradient(135deg, #667eea 0%, #764ba2 50%, #f093fb 100%);\n",
        "    padding: 4rem 2rem;\n",
        "    border-radius: 20px;\n",
        "    text-align: center;\n",
        "    position: relative;\n",
        "    overflow: hidden;\n",
        "    margin: 2rem 0;\n",
        "    box-shadow: 0 20px 40px rgba(0,0,0,0.2);\n",
        "    font-family: 'Segoe UI', Tahoma, Geneva, Verdana, sans-serif;\n",
        "    max-width: 1200px;\n",
        "\">\n",
        "  <img src=\"\\data_bootcamp\\numpy_pandas\\img\\up.png\" width=\"200\"/>\n",
        "  \n",
        "  <h1 style=\"font-size: 2.5em; margin: 10px 0;\"><strong>Bootcamp de Análisis de Datos & IA</strong></h1>\n",
        "<div style=\"\n",
        "    position: absolute;\n",
        "    top: 0;\n",
        "    left: 0;\n",
        "    right: 0;\n",
        "    bottom: 0;\n",
        "    background: url('data:image/svg+xml,<svg xmlns=\\\"http://www.w3.org/2000/svg\\\" viewBox=\\\"0 0 100 100\\\"><defs><pattern id=\\\"grid\\\" width=\\\"10\\\" height=\\\"10\\\" patternUnits=\\\"userSpaceOnUse\\\"><path d=\\\"M 10 0 L 0 0 0 10\\\" fill=\\\"none\\\" stroke=\\\"rgba(255,255,255,0.1)\\\" stroke-width=\\\"0.5\\\"/></pattern></defs><rect width=\\\"100\\\" height=\\\"100\\\" fill=\\\"url(%23grid)\\\"/></svg>\n",
        "</div>\n",
        "<div style=\"position: relative; z-index: 10;\">\n",
        "\n",
        "<h1 style=\"\n",
        "    font-size: 3.5rem;\n",
        "    font-weight: 900;\n",
        "    color: #ffffff;\n",
        "    margin: 1rem 0;\n",
        "    text-shadow: 0 0 30px rgba(255,255,255,0.8);\n",
        "    letter-spacing: 2px;\n",
        "    font-family: 'Arial Black', sans-serif;\n",
        "\">INTRODUCCIÓN A PANDAS</h1>\n",
        "\n",
        "<div style=\"\n",
        "    background: rgba(0,0,0,0.4);\n",
        "    border-radius: 15px;\n",
        "    padding: 1.5rem;\n",
        "    margin: 2rem auto;\n",
        "    max-width: 1000px;\n",
        "    border: 1px solid rgba(255,255,255,0.2);\n",
        "    backdrop-filter: blur(10px);\n",
        "\">\n",
        "    <div style=\"\n",
        "        color: #50fa7b;\n",
        "        font-family: 'Courier New', monospace;\n",
        "        font-size: 1.2rem;\n",
        "        text-align: left;\n",
        "    \">\n",
        "        <span style=\"color: #ff79c6;\">>>> </span>import pandas as pd<br>\n",
        "        <span style=\"color: #50fa7b;\">¡Listo para explorar datos!</span><br>\n",
        "        <span style=\"color: #ff79c6;\">>>> </span>ready_to_code = <span style=\"color: #bd93f9;\">True</span> ✨\n",
        "    </div>\n",
        "</div>\n",
        "\n",
        "<div style=\"\n",
        "    padding: 1.5rem;\n",
        "    background: rgba(193, 239, 67, 0.99);\n",
        "    border-radius: 15px;\n",
        "    border: 1px solid rgba(255,255,255,0.1);\n",
        "    max-width: 1000px;\n",
        "    gap: 1.5rem;\n",
        "    margin: 2rem auto;\n",
        "\">\n",
        "<h4 style=\"color: rgba(0, 0, 0, 1); margin-bottom: 1rem;\">\n",
        "    🎓 Contenidos de la clase:\n",
        "</h4>\n",
        "\n",
        "<div style=\"\n",
        "    display: grid;\n",
        "    grid-template-columns: repeat(auto-fit, minmax(200px, 1fr));\n",
        "    gap: 1rem;\n",
        "    justify-items: center;\n",
        "    text-align: center;\n",
        "    margin: 2rem auto;\n",
        "    max-width: 900px;\n",
        "\">\n",
        "    <div style=\"color: rgba(0, 0, 0, 1); font-size: 1rem;\">✅ ¿Qué es Pandas y por qué es útil?</div>\n",
        "    <div style=\"color: rgba(0, 0, 0, 1); font-size: 1rem;\">✅ Instalación e importación</div>\n",
        "    <div style=\"color: rgba(0, 0, 0, 1); font-size: 1rem;\">✅ Series y DataFrames</div>\n",
        "    <div style=\"color: rgba(0, 0, 0, 1); font-size: 1rem;\">✅ Creación de datos (Series, DataFrames, CSV/Excel)</div>\n",
        "    <div style=\"color: rgba(0, 0, 0, 1); font-size: 1rem;\">✅ Primer vistazo a los datos (head, tail, info, describe)</div>\n",
        "    <div style=\"color: rgba(0, 0, 0, 1); font-size: 1rem;\">✅ Acceso y filtrado de datos</div>\n",
        "    <div style=\"color: rgba(0, 0, 0, 1); font-size: 1rem;\">✅ Manipulación: añadir, eliminar, renombrar, fillna/dropna</div>\n",
        "    <div style=\"color: rgba(0, 0, 0, 1); font-size: 1rem;\">✅ Operaciones y agrupación</div>\n",
        "    <div style=\"color: rgba(0, 0, 0, 1); font-size: 1rem;\">✅ Trabajo con archivos externos</div>\n",
        "    <div style=\"color: rgba(0, 0, 0, 1); font-size: 1rem;\">✅ Visualización básica y mini proyecto final</div>\n",
        "</div>\n",
        "</div>\n",
        "\n",
        "<div style=\"\n",
        "    background: linear-gradient(45deg, #ff6b6b, #ee5a24, #ff6b6b);\n",
        "    color: white;\n",
        "    padding: 1rem 2.5rem;\n",
        "    border-radius: 50px;\n",
        "    font-size: 1.2rem;\n",
        "    font-weight: 700;\n",
        "    text-transform: uppercase;\n",
        "    letter-spacing: 2px;\n",
        "    box-shadow: 0 10px 30px rgba(255,107,107,0.4);\n",
        "    display: inline-block;\n",
        "    margin-top: 2rem;\n",
        "    cursor: pointer;\n",
        "    text-decoration: none;\n",
        "    transition: transform 0.3s ease, box-shadow 0.3s ease;\n",
        "    max-width: 1000px;\n",
        "\">\n",
        "🚀 COMENZAR CLASE 🚀\n",
        "</div>\n",
        "\n",
        "</div>\n",
        "</div>\n",
        "\n"
      ]
    },
    {
      "cell_type": "markdown",
      "metadata": {
        "collapsed": true,
        "id": "1UQZlrXiS9DU"
      },
      "source": [
        "# 📚 1. Introducción a Pandas\n",
        "\n",
        "## 1.1. ¿Qué es Pandas y por qué es útil?\n",
        "**Pandas** es una librería de Python diseñada para la **manipulación y análisis de datos**.  \n",
        "Permite trabajar con estructuras de datos **flexibles y rápidas**, facilitando tareas como:\n",
        "\n",
        "- Lectura y escritura de archivos (CSV, Excel, SQL, etc.)  \n",
        "- Limpieza y transformación de datos  \n",
        "- Cálculos estadísticos y agregaciones  \n",
        "- Visualización básica de datos  \n",
        "\n",
        "👉 Es una de las librerías más utilizadas en **ciencia de datos, análisis empresarial y machine learning**, ya que simplifica mucho el trabajo con datos tabulares.\n",
        "\n",
        "---\n",
        "\n",
        "## ⚙️ 1.2. Instalación e importación\n",
        "Para instalar Pandas, ejecuta en la terminal o consola de Python:"
      ]
    },
    {
      "cell_type": "code",
      "execution_count": null,
      "metadata": {},
      "outputs": [],
      "source": [
        "#pip install pandas"
      ]
    },
    {
      "cell_type": "markdown",
      "metadata": {},
      "source": [
        "Para importar Pandas en tu script o notebook, usa:"
      ]
    },
    {
      "cell_type": "code",
      "execution_count": 1,
      "metadata": {},
      "outputs": [],
      "source": [
        "import pandas as pd"
      ]
    },
    {
      "cell_type": "markdown",
      "metadata": {},
      "source": [
        "## 🔎 1.3. Tipos de datos en Pandas: Series y DataFrames\n",
        "\n",
        "Pandas trabaja principalmente con **dos estructuras de datos**: Series y Dataframes.\n",
        "\n",
        "---\n",
        "\n",
        "### 1️⃣ Series\n",
        "Una **Serie** es un **array unidimensional con etiquetas** (índices).  \n",
        "Se puede imaginar como una columna de Excel con un índice asociado.\n",
        "\n"
      ]
    },
    {
      "cell_type": "markdown",
      "metadata": {},
      "source": [
        "\n",
        "### 2️⃣ DataFrame\n",
        "\n",
        "Un DataFrame es una estructura bidimensional en forma de tabla, con filas y columnas.\n",
        "Cada columna es en realidad una Serie."
      ]
    },
    {
      "cell_type": "markdown",
      "metadata": {},
      "source": [
        "\n",
        "> 📌 Tip: piensa en un DataFrame como una hoja de cálculo y en una Serie como una sola columna de esa hoja."
      ]
    },
    {
      "cell_type": "markdown",
      "metadata": {},
      "source": [
        "# ✨ 2. Creación de datos en Pandas\n",
        "\n",
        "En este apartado aprenderemos a crear datos en Pandas y a dar un **primer vistazo** a ellos."
      ]
    },
    {
      "cell_type": "markdown",
      "metadata": {},
      "source": [
        "### 2.1. Crear Series"
      ]
    },
    {
      "cell_type": "code",
      "execution_count": 5,
      "metadata": {},
      "outputs": [
        {
          "name": "stdout",
          "output_type": "stream",
          "text": [
            "0    10\n",
            "1    20\n",
            "2    30\n",
            "3    40\n",
            "Name: Edades, dtype: int64\n"
          ]
        }
      ],
      "source": [
        "# Crear una Serie a partir de una lista\n",
        "serie = pd.Series([10, 20, 30, 40], name=\"Edades\")\n",
        "print(serie)"
      ]
    },
    {
      "cell_type": "markdown",
      "metadata": {},
      "source": [
        "### 2.2. Crear DataFrames"
      ]
    },
    {
      "cell_type": "markdown",
      "metadata": {},
      "source": [
        "#### Desde un diccionario"
      ]
    },
    {
      "cell_type": "code",
      "execution_count": null,
      "metadata": {},
      "outputs": [
        {
          "name": "stdout",
          "output_type": "stream",
          "text": [
            "  Nombre  Edad    Ciudad\n",
            "0    Ana    23    Madrid\n",
            "1   Luis    35   Sevilla\n",
            "2  María    29  Valencia\n"
          ]
        }
      ],
      "source": [
        "datos = {\n",
        "    \"Nombre\": [\"Ana\", \"Luis\", \"María\"],\n",
        "    \"Edad\": [23, 35, 29],\n",
        "    \"Ciudad\": [\"Madrid\", \"Sevilla\", \"Valencia\"]\n",
        "}\n",
        "\n",
        "df = pd.DataFrame(datos)\n",
        "print(df)"
      ]
    },
    {
      "cell_type": "markdown",
      "metadata": {},
      "source": [
        "#### Desde una lista de listas"
      ]
    },
    {
      "cell_type": "code",
      "execution_count": 8,
      "metadata": {},
      "outputs": [
        {
          "name": "stdout",
          "output_type": "stream",
          "text": [
            "  Nombre  Edad\n",
            "0    Ana    23\n",
            "1   Luis    35\n",
            "2  María    29\n"
          ]
        }
      ],
      "source": [
        "#Desde una lista de listas\n",
        "df_lista = pd.DataFrame(\n",
        "    [[\"Ana\", 23], [\"Luis\", 35], [\"María\", 29]],\n",
        "    columns=[\"Nombre\", \"Edad\"]\n",
        ")\n",
        "print(df_lista)"
      ]
    },
    {
      "cell_type": "markdown",
      "metadata": {},
      "source": [
        "#### Desde arcvhivos CSV/Excel"
      ]
    },
    {
      "cell_type": "code",
      "execution_count": 17,
      "metadata": {},
      "outputs": [
        {
          "name": "stdout",
          "output_type": "stream",
          "text": [
            "Current working directory: c:\\Users\\amval\\Documents\\bootcamp_ug\\data_bootcamp\\numpy_pandas\\teoría\\03-Pandas\n"
          ]
        }
      ],
      "source": [
        "import os\n",
        "print(\"Current working directory:\", os.getcwd())"
      ]
    },
    {
      "cell_type": "code",
      "execution_count": 112,
      "metadata": {},
      "outputs": [],
      "source": [
        "# Leer CSV\n",
        "df_csv = pd.read_csv(\"../../data/ncr_ride_bookings.csv\")"
      ]
    },
    {
      "cell_type": "code",
      "execution_count": 66,
      "metadata": {},
      "outputs": [],
      "source": [
        "\n",
        "#Leer Excel\n",
        "df_excel = pd.read_excel(r\"..\\..\\data\\DTM_Mixed Migration Flows to Europe_Yearly_2024_1.xlsx\", sheet_name = \"First_Arrival_Countries_CoO\")"
      ]
    },
    {
      "cell_type": "markdown",
      "metadata": {},
      "source": [
        "### 2.3. Una primera mirada a los datos"
      ]
    },
    {
      "cell_type": "markdown",
      "metadata": {},
      "source": [
        "Existen varios métodos para obtener una visión rápida de los datos en un DataFrame. Algunos de los más útiles son:"
      ]
    },
    {
      "cell_type": "markdown",
      "metadata": {},
      "source": [
        "## Métodos para la primera exploración de un DataFrame\n",
        "\n",
        "| Método         | Descripción                                      |\n",
        "|----------------|--------------------------------------------------|\n",
        "| `head(n)`      | Muestra las primeras `n` filas del DataFrame.    |\n",
        "| `tail(n)`      | Muestra las últimas `n` filas del DataFrame.     |\n",
        "| `info()`       | Proporciona un resumen conciso del DataFrame.    |\n",
        "| `describe()`   | Genera estadísticas descriptivas del DataFrame.  |\n",
        "| `shape`        | Devuelve una tupla con el número de filas y columnas. |\n",
        "| `columns`      | Lista los nombres de las columnas del DataFrame. |\n",
        "| `dtypes`       | Muestra el tipo de datos de cada columna.        |\n"
      ]
    },
    {
      "cell_type": "code",
      "execution_count": 11,
      "metadata": {},
      "outputs": [
        {
          "data": {
            "application/vnd.microsoft.datawrangler.viewer.v0+json": {
              "columns": [
                {
                  "name": "index",
                  "rawType": "int64",
                  "type": "integer"
                },
                {
                  "name": "Date",
                  "rawType": "datetime64[ns]",
                  "type": "datetime"
                },
                {
                  "name": "Year",
                  "rawType": "int64",
                  "type": "integer"
                },
                {
                  "name": "Month",
                  "rawType": "int64",
                  "type": "integer"
                },
                {
                  "name": "ISO3 - Country of origin",
                  "rawType": "object",
                  "type": "string"
                },
                {
                  "name": "ISO3 - Country of arrival",
                  "rawType": "object",
                  "type": "string"
                },
                {
                  "name": "Route",
                  "rawType": "object",
                  "type": "string"
                },
                {
                  "name": "Arrivals",
                  "rawType": "int64",
                  "type": "integer"
                },
                {
                  "name": "Source",
                  "rawType": "object",
                  "type": "string"
                }
              ],
              "ref": "767262f1-9b19-4954-80f0-c7c2c1dd2c92",
              "rows": [
                [
                  "0",
                  "2024-01-31 00:00:00",
                  "2024",
                  "1",
                  "BGD",
                  "MLT",
                  "CMR",
                  "7",
                  "Maltese Minitry of Home Affairs, Security and Employment"
                ],
                [
                  "1",
                  "2024-01-31 00:00:00",
                  "2024",
                  "1",
                  "EGY",
                  "MLT",
                  "CMR",
                  "1",
                  "Maltese Minitry of Home Affairs, Security and Employment"
                ],
                [
                  "2",
                  "2024-01-31 00:00:00",
                  "2024",
                  "1",
                  "PAK",
                  "MLT",
                  "CMR",
                  "22",
                  "Maltese Minitry of Home Affairs, Security and Employment"
                ],
                [
                  "3",
                  "2024-01-31 00:00:00",
                  "2024",
                  "1",
                  "SDN",
                  "MLT",
                  "CMR",
                  "1",
                  "Maltese Minitry of Home Affairs, Security and Employment"
                ],
                [
                  "4",
                  "2024-01-31 00:00:00",
                  "2024",
                  "1",
                  "SYR",
                  "MLT",
                  "CMR",
                  "4",
                  "Maltese Minitry of Home Affairs, Security and Employment"
                ]
              ],
              "shape": {
                "columns": 8,
                "rows": 5
              }
            },
            "text/html": [
              "<div>\n",
              "<style scoped>\n",
              "    .dataframe tbody tr th:only-of-type {\n",
              "        vertical-align: middle;\n",
              "    }\n",
              "\n",
              "    .dataframe tbody tr th {\n",
              "        vertical-align: top;\n",
              "    }\n",
              "\n",
              "    .dataframe thead th {\n",
              "        text-align: right;\n",
              "    }\n",
              "</style>\n",
              "<table border=\"1\" class=\"dataframe\">\n",
              "  <thead>\n",
              "    <tr style=\"text-align: right;\">\n",
              "      <th></th>\n",
              "      <th>Date</th>\n",
              "      <th>Year</th>\n",
              "      <th>Month</th>\n",
              "      <th>ISO3 - Country of origin</th>\n",
              "      <th>ISO3 - Country of arrival</th>\n",
              "      <th>Route</th>\n",
              "      <th>Arrivals</th>\n",
              "      <th>Source</th>\n",
              "    </tr>\n",
              "  </thead>\n",
              "  <tbody>\n",
              "    <tr>\n",
              "      <th>0</th>\n",
              "      <td>2024-01-31</td>\n",
              "      <td>2024</td>\n",
              "      <td>1</td>\n",
              "      <td>BGD</td>\n",
              "      <td>MLT</td>\n",
              "      <td>CMR</td>\n",
              "      <td>7</td>\n",
              "      <td>Maltese Minitry of Home Affairs, Security and ...</td>\n",
              "    </tr>\n",
              "    <tr>\n",
              "      <th>1</th>\n",
              "      <td>2024-01-31</td>\n",
              "      <td>2024</td>\n",
              "      <td>1</td>\n",
              "      <td>EGY</td>\n",
              "      <td>MLT</td>\n",
              "      <td>CMR</td>\n",
              "      <td>1</td>\n",
              "      <td>Maltese Minitry of Home Affairs, Security and ...</td>\n",
              "    </tr>\n",
              "    <tr>\n",
              "      <th>2</th>\n",
              "      <td>2024-01-31</td>\n",
              "      <td>2024</td>\n",
              "      <td>1</td>\n",
              "      <td>PAK</td>\n",
              "      <td>MLT</td>\n",
              "      <td>CMR</td>\n",
              "      <td>22</td>\n",
              "      <td>Maltese Minitry of Home Affairs, Security and ...</td>\n",
              "    </tr>\n",
              "    <tr>\n",
              "      <th>3</th>\n",
              "      <td>2024-01-31</td>\n",
              "      <td>2024</td>\n",
              "      <td>1</td>\n",
              "      <td>SDN</td>\n",
              "      <td>MLT</td>\n",
              "      <td>CMR</td>\n",
              "      <td>1</td>\n",
              "      <td>Maltese Minitry of Home Affairs, Security and ...</td>\n",
              "    </tr>\n",
              "    <tr>\n",
              "      <th>4</th>\n",
              "      <td>2024-01-31</td>\n",
              "      <td>2024</td>\n",
              "      <td>1</td>\n",
              "      <td>SYR</td>\n",
              "      <td>MLT</td>\n",
              "      <td>CMR</td>\n",
              "      <td>4</td>\n",
              "      <td>Maltese Minitry of Home Affairs, Security and ...</td>\n",
              "    </tr>\n",
              "  </tbody>\n",
              "</table>\n",
              "</div>"
            ],
            "text/plain": [
              "        Date  Year  Month ISO3 - Country of origin ISO3 - Country of arrival  \\\n",
              "0 2024-01-31  2024      1                      BGD                       MLT   \n",
              "1 2024-01-31  2024      1                      EGY                       MLT   \n",
              "2 2024-01-31  2024      1                      PAK                       MLT   \n",
              "3 2024-01-31  2024      1                      SDN                       MLT   \n",
              "4 2024-01-31  2024      1                      SYR                       MLT   \n",
              "\n",
              "  Route  Arrivals                                             Source  \n",
              "0   CMR         7  Maltese Minitry of Home Affairs, Security and ...  \n",
              "1   CMR         1  Maltese Minitry of Home Affairs, Security and ...  \n",
              "2   CMR        22  Maltese Minitry of Home Affairs, Security and ...  \n",
              "3   CMR         1  Maltese Minitry of Home Affairs, Security and ...  \n",
              "4   CMR         4  Maltese Minitry of Home Affairs, Security and ...  "
            ]
          },
          "execution_count": 11,
          "metadata": {},
          "output_type": "execute_result"
        }
      ],
      "source": [
        "#Ver las primeras filas del DataFrame. Entre paréntesis se puede indicar el número de filas a mostrar. Por defecto son 5.\n",
        "df_excel.head()"
      ]
    },
    {
      "cell_type": "code",
      "execution_count": 12,
      "metadata": {},
      "outputs": [
        {
          "data": {
            "application/vnd.microsoft.datawrangler.viewer.v0+json": {
              "columns": [
                {
                  "name": "index",
                  "rawType": "int64",
                  "type": "integer"
                },
                {
                  "name": "Date",
                  "rawType": "datetime64[ns]",
                  "type": "datetime"
                },
                {
                  "name": "Year",
                  "rawType": "int64",
                  "type": "integer"
                },
                {
                  "name": "Month",
                  "rawType": "int64",
                  "type": "integer"
                },
                {
                  "name": "ISO3 - Country of origin",
                  "rawType": "object",
                  "type": "string"
                },
                {
                  "name": "ISO3 - Country of arrival",
                  "rawType": "object",
                  "type": "string"
                },
                {
                  "name": "Route",
                  "rawType": "object",
                  "type": "string"
                },
                {
                  "name": "Arrivals",
                  "rawType": "int64",
                  "type": "integer"
                },
                {
                  "name": "Source",
                  "rawType": "object",
                  "type": "string"
                }
              ],
              "ref": "38eb9f87-b5c5-4b43-98b0-f4b29368426d",
              "rows": [
                [
                  "1684",
                  "2024-12-31 00:00:00",
                  "2024",
                  "12",
                  "EGY",
                  "BGR",
                  "EMR",
                  "12",
                  "Bulgarian Ministry of Interior"
                ],
                [
                  "1685",
                  "2024-12-31 00:00:00",
                  "2024",
                  "12",
                  "IRQ",
                  "BGR",
                  "EMR",
                  "12",
                  "Bulgarian Ministry of Interior"
                ],
                [
                  "1686",
                  "2024-12-31 00:00:00",
                  "2024",
                  "12",
                  "MAR",
                  "BGR",
                  "EMR",
                  "33",
                  "Bulgarian Ministry of Interior"
                ],
                [
                  "1687",
                  "2024-12-31 00:00:00",
                  "2024",
                  "12",
                  "OOO",
                  "BGR",
                  "EMR",
                  "36",
                  "Bulgarian Ministry of Interior"
                ],
                [
                  "1688",
                  "2024-12-31 00:00:00",
                  "2024",
                  "12",
                  "SYR",
                  "BGR",
                  "EMR",
                  "61",
                  "Bulgarian Ministry of Interior"
                ]
              ],
              "shape": {
                "columns": 8,
                "rows": 5
              }
            },
            "text/html": [
              "<div>\n",
              "<style scoped>\n",
              "    .dataframe tbody tr th:only-of-type {\n",
              "        vertical-align: middle;\n",
              "    }\n",
              "\n",
              "    .dataframe tbody tr th {\n",
              "        vertical-align: top;\n",
              "    }\n",
              "\n",
              "    .dataframe thead th {\n",
              "        text-align: right;\n",
              "    }\n",
              "</style>\n",
              "<table border=\"1\" class=\"dataframe\">\n",
              "  <thead>\n",
              "    <tr style=\"text-align: right;\">\n",
              "      <th></th>\n",
              "      <th>Date</th>\n",
              "      <th>Year</th>\n",
              "      <th>Month</th>\n",
              "      <th>ISO3 - Country of origin</th>\n",
              "      <th>ISO3 - Country of arrival</th>\n",
              "      <th>Route</th>\n",
              "      <th>Arrivals</th>\n",
              "      <th>Source</th>\n",
              "    </tr>\n",
              "  </thead>\n",
              "  <tbody>\n",
              "    <tr>\n",
              "      <th>1684</th>\n",
              "      <td>2024-12-31</td>\n",
              "      <td>2024</td>\n",
              "      <td>12</td>\n",
              "      <td>EGY</td>\n",
              "      <td>BGR</td>\n",
              "      <td>EMR</td>\n",
              "      <td>12</td>\n",
              "      <td>Bulgarian Ministry of Interior</td>\n",
              "    </tr>\n",
              "    <tr>\n",
              "      <th>1685</th>\n",
              "      <td>2024-12-31</td>\n",
              "      <td>2024</td>\n",
              "      <td>12</td>\n",
              "      <td>IRQ</td>\n",
              "      <td>BGR</td>\n",
              "      <td>EMR</td>\n",
              "      <td>12</td>\n",
              "      <td>Bulgarian Ministry of Interior</td>\n",
              "    </tr>\n",
              "    <tr>\n",
              "      <th>1686</th>\n",
              "      <td>2024-12-31</td>\n",
              "      <td>2024</td>\n",
              "      <td>12</td>\n",
              "      <td>MAR</td>\n",
              "      <td>BGR</td>\n",
              "      <td>EMR</td>\n",
              "      <td>33</td>\n",
              "      <td>Bulgarian Ministry of Interior</td>\n",
              "    </tr>\n",
              "    <tr>\n",
              "      <th>1687</th>\n",
              "      <td>2024-12-31</td>\n",
              "      <td>2024</td>\n",
              "      <td>12</td>\n",
              "      <td>OOO</td>\n",
              "      <td>BGR</td>\n",
              "      <td>EMR</td>\n",
              "      <td>36</td>\n",
              "      <td>Bulgarian Ministry of Interior</td>\n",
              "    </tr>\n",
              "    <tr>\n",
              "      <th>1688</th>\n",
              "      <td>2024-12-31</td>\n",
              "      <td>2024</td>\n",
              "      <td>12</td>\n",
              "      <td>SYR</td>\n",
              "      <td>BGR</td>\n",
              "      <td>EMR</td>\n",
              "      <td>61</td>\n",
              "      <td>Bulgarian Ministry of Interior</td>\n",
              "    </tr>\n",
              "  </tbody>\n",
              "</table>\n",
              "</div>"
            ],
            "text/plain": [
              "           Date  Year  Month ISO3 - Country of origin  \\\n",
              "1684 2024-12-31  2024     12                      EGY   \n",
              "1685 2024-12-31  2024     12                      IRQ   \n",
              "1686 2024-12-31  2024     12                      MAR   \n",
              "1687 2024-12-31  2024     12                      OOO   \n",
              "1688 2024-12-31  2024     12                      SYR   \n",
              "\n",
              "     ISO3 - Country of arrival Route  Arrivals                          Source  \n",
              "1684                       BGR   EMR        12  Bulgarian Ministry of Interior  \n",
              "1685                       BGR   EMR        12  Bulgarian Ministry of Interior  \n",
              "1686                       BGR   EMR        33  Bulgarian Ministry of Interior  \n",
              "1687                       BGR   EMR        36  Bulgarian Ministry of Interior  \n",
              "1688                       BGR   EMR        61  Bulgarian Ministry of Interior  "
            ]
          },
          "execution_count": 12,
          "metadata": {},
          "output_type": "execute_result"
        }
      ],
      "source": [
        "#Ver las últimas filas del DataFrame. Entre paréntesis se puede indicar el número de filas a mostrar. Por defecto son 5.\n",
        "df_excel.tail(5)"
      ]
    },
    {
      "cell_type": "code",
      "execution_count": 14,
      "metadata": {},
      "outputs": [
        {
          "name": "stdout",
          "output_type": "stream",
          "text": [
            "<class 'pandas.core.frame.DataFrame'>\n",
            "RangeIndex: 1689 entries, 0 to 1688\n",
            "Data columns (total 8 columns):\n",
            " #   Column                     Non-Null Count  Dtype         \n",
            "---  ------                     --------------  -----         \n",
            " 0   Date                       1689 non-null   datetime64[ns]\n",
            " 1   Year                       1689 non-null   int64         \n",
            " 2   Month                      1689 non-null   int64         \n",
            " 3   ISO3 - Country of origin   1689 non-null   object        \n",
            " 4   ISO3 - Country of arrival  1689 non-null   object        \n",
            " 5   Route                      1689 non-null   object        \n",
            " 6   Arrivals                   1689 non-null   int64         \n",
            " 7   Source                     1689 non-null   object        \n",
            "dtypes: datetime64[ns](1), int64(3), object(4)\n",
            "memory usage: 105.7+ KB\n"
          ]
        }
      ],
      "source": [
        "#Con info podemos ver un resumen del DataFrame, incluyendo el número de entradas, el número de columnas, los nombres de las columnas, \n",
        "#el tipo de datos de cada columna y la cantidad de memoria utilizada.\n",
        "df_excel.info()"
      ]
    },
    {
      "cell_type": "code",
      "execution_count": 16,
      "metadata": {},
      "outputs": [
        {
          "data": {
            "application/vnd.microsoft.datawrangler.viewer.v0+json": {
              "columns": [
                {
                  "name": "index",
                  "rawType": "object",
                  "type": "string"
                },
                {
                  "name": "Date",
                  "rawType": "object",
                  "type": "unknown"
                },
                {
                  "name": "Year",
                  "rawType": "float64",
                  "type": "float"
                },
                {
                  "name": "Month",
                  "rawType": "float64",
                  "type": "float"
                },
                {
                  "name": "Arrivals",
                  "rawType": "float64",
                  "type": "float"
                }
              ],
              "ref": "66ca38e5-a1bd-4bac-908c-233d7fdbae02",
              "rows": [
                [
                  "count",
                  "1689",
                  "1689.0",
                  "1689.0",
                  "1689.0"
                ],
                [
                  "mean",
                  "2024-07-20 12:46:27.921847296",
                  "2024.0",
                  "6.653641207815276",
                  "123.68798105387803"
                ],
                [
                  "min",
                  "2024-01-31 00:00:00",
                  "2024.0",
                  "1.0",
                  "-341.0"
                ],
                [
                  "25%",
                  "2024-04-30 00:00:00",
                  "2024.0",
                  "4.0",
                  "3.0"
                ],
                [
                  "50%",
                  "2024-07-31 00:00:00",
                  "2024.0",
                  "7.0",
                  "11.0"
                ],
                [
                  "75%",
                  "2024-10-31 00:00:00",
                  "2024.0",
                  "10.0",
                  "79.0"
                ],
                [
                  "max",
                  "2024-12-31 00:00:00",
                  "2024.0",
                  "12.0",
                  "4232.0"
                ],
                [
                  "std",
                  null,
                  "0.0",
                  "3.4665274929450023",
                  "343.43610663419844"
                ]
              ],
              "shape": {
                "columns": 4,
                "rows": 8
              }
            },
            "text/html": [
              "<div>\n",
              "<style scoped>\n",
              "    .dataframe tbody tr th:only-of-type {\n",
              "        vertical-align: middle;\n",
              "    }\n",
              "\n",
              "    .dataframe tbody tr th {\n",
              "        vertical-align: top;\n",
              "    }\n",
              "\n",
              "    .dataframe thead th {\n",
              "        text-align: right;\n",
              "    }\n",
              "</style>\n",
              "<table border=\"1\" class=\"dataframe\">\n",
              "  <thead>\n",
              "    <tr style=\"text-align: right;\">\n",
              "      <th></th>\n",
              "      <th>Date</th>\n",
              "      <th>Year</th>\n",
              "      <th>Month</th>\n",
              "      <th>Arrivals</th>\n",
              "    </tr>\n",
              "  </thead>\n",
              "  <tbody>\n",
              "    <tr>\n",
              "      <th>count</th>\n",
              "      <td>1689</td>\n",
              "      <td>1689.0</td>\n",
              "      <td>1689.000000</td>\n",
              "      <td>1689.000000</td>\n",
              "    </tr>\n",
              "    <tr>\n",
              "      <th>mean</th>\n",
              "      <td>2024-07-20 12:46:27.921847296</td>\n",
              "      <td>2024.0</td>\n",
              "      <td>6.653641</td>\n",
              "      <td>123.687981</td>\n",
              "    </tr>\n",
              "    <tr>\n",
              "      <th>min</th>\n",
              "      <td>2024-01-31 00:00:00</td>\n",
              "      <td>2024.0</td>\n",
              "      <td>1.000000</td>\n",
              "      <td>-341.000000</td>\n",
              "    </tr>\n",
              "    <tr>\n",
              "      <th>25%</th>\n",
              "      <td>2024-04-30 00:00:00</td>\n",
              "      <td>2024.0</td>\n",
              "      <td>4.000000</td>\n",
              "      <td>3.000000</td>\n",
              "    </tr>\n",
              "    <tr>\n",
              "      <th>50%</th>\n",
              "      <td>2024-07-31 00:00:00</td>\n",
              "      <td>2024.0</td>\n",
              "      <td>7.000000</td>\n",
              "      <td>11.000000</td>\n",
              "    </tr>\n",
              "    <tr>\n",
              "      <th>75%</th>\n",
              "      <td>2024-10-31 00:00:00</td>\n",
              "      <td>2024.0</td>\n",
              "      <td>10.000000</td>\n",
              "      <td>79.000000</td>\n",
              "    </tr>\n",
              "    <tr>\n",
              "      <th>max</th>\n",
              "      <td>2024-12-31 00:00:00</td>\n",
              "      <td>2024.0</td>\n",
              "      <td>12.000000</td>\n",
              "      <td>4232.000000</td>\n",
              "    </tr>\n",
              "    <tr>\n",
              "      <th>std</th>\n",
              "      <td>NaN</td>\n",
              "      <td>0.0</td>\n",
              "      <td>3.466527</td>\n",
              "      <td>343.436107</td>\n",
              "    </tr>\n",
              "  </tbody>\n",
              "</table>\n",
              "</div>"
            ],
            "text/plain": [
              "                                Date    Year        Month     Arrivals\n",
              "count                           1689  1689.0  1689.000000  1689.000000\n",
              "mean   2024-07-20 12:46:27.921847296  2024.0     6.653641   123.687981\n",
              "min              2024-01-31 00:00:00  2024.0     1.000000  -341.000000\n",
              "25%              2024-04-30 00:00:00  2024.0     4.000000     3.000000\n",
              "50%              2024-07-31 00:00:00  2024.0     7.000000    11.000000\n",
              "75%              2024-10-31 00:00:00  2024.0    10.000000    79.000000\n",
              "max              2024-12-31 00:00:00  2024.0    12.000000  4232.000000\n",
              "std                              NaN     0.0     3.466527   343.436107"
            ]
          },
          "execution_count": 16,
          "metadata": {},
          "output_type": "execute_result"
        }
      ],
      "source": [
        "# describe devuelve estadísticas básicas de las columnas numéricas del DataFrame, como la media, la desviación estándar, los valores mínimo y máximo, y los percentiles.\n",
        "df_excel.describe()"
      ]
    },
    {
      "cell_type": "code",
      "execution_count": 19,
      "metadata": {},
      "outputs": [
        {
          "data": {
            "text/plain": [
              "(1689, 8)"
            ]
          },
          "execution_count": 19,
          "metadata": {},
          "output_type": "execute_result"
        }
      ],
      "source": [
        "#Saber el número de filas y columnas del DataFrame. Devuelve una tupla (número de filas, número de columnas).\n",
        "df_excel.shape"
      ]
    },
    {
      "cell_type": "code",
      "execution_count": 20,
      "metadata": {},
      "outputs": [
        {
          "data": {
            "text/plain": [
              "Index(['Date', 'Year', 'Month', 'ISO3 - Country of origin',\n",
              "       'ISO3 - Country of arrival', 'Route', 'Arrivals', 'Source'],\n",
              "      dtype='object')"
            ]
          },
          "execution_count": 20,
          "metadata": {},
          "output_type": "execute_result"
        }
      ],
      "source": [
        "# Saber los nombres de las columnas del DataFrame\n",
        "df_excel.columns"
      ]
    },
    {
      "cell_type": "code",
      "execution_count": 21,
      "metadata": {},
      "outputs": [
        {
          "data": {
            "application/vnd.microsoft.datawrangler.viewer.v0+json": {
              "columns": [
                {
                  "name": "index",
                  "rawType": "object",
                  "type": "string"
                },
                {
                  "name": "0",
                  "rawType": "object",
                  "type": "unknown"
                }
              ],
              "ref": "ab59d9dd-0487-4c3f-8555-2c972a3bdd89",
              "rows": [
                [
                  "Date",
                  "datetime64[ns]"
                ],
                [
                  "Year",
                  "int64"
                ],
                [
                  "Month",
                  "int64"
                ],
                [
                  "ISO3 - Country of origin",
                  "object"
                ],
                [
                  "ISO3 - Country of arrival",
                  "object"
                ],
                [
                  "Route",
                  "object"
                ],
                [
                  "Arrivals",
                  "int64"
                ],
                [
                  "Source",
                  "object"
                ]
              ],
              "shape": {
                "columns": 1,
                "rows": 8
              }
            },
            "text/plain": [
              "Date                         datetime64[ns]\n",
              "Year                                  int64\n",
              "Month                                 int64\n",
              "ISO3 - Country of origin             object\n",
              "ISO3 - Country of arrival            object\n",
              "Route                                object\n",
              "Arrivals                              int64\n",
              "Source                               object\n",
              "dtype: object"
            ]
          },
          "execution_count": 21,
          "metadata": {},
          "output_type": "execute_result"
        }
      ],
      "source": [
        "# Saber el tipo de datos de cada columna\n",
        "df_excel.dtypes"
      ]
    },
    {
      "cell_type": "markdown",
      "metadata": {},
      "source": [
        "# 🕵️‍♂️ 3. Exploración básica de datos con Pandas"
      ]
    },
    {
      "cell_type": "markdown",
      "metadata": {},
      "source": [
        "Una vez que tenemos nuestro **DataFrame**, necesitamos aprender a **explorar y seleccionar datos**.  \n",
        "En este bloque veremos cómo acceder a **columnas y filas**, aplicar **filtros con condiciones** y **ordenar los datos**.\n"
      ]
    },
    {
      "cell_type": "markdown",
      "metadata": {},
      "source": [
        "## 📌 Manipulación de índices\n",
        "\n",
        "El **índice** en Pandas identifica cada fila de un DataFrame o Serie.  \n",
        "Saber cómo manipularlo es clave para **seleccionar, ordenar y alinear datos** correctamente.\n"
      ]
    },
    {
      "cell_type": "code",
      "execution_count": null,
      "metadata": {},
      "outputs": [
        {
          "data": {
            "text/plain": [
              "RangeIndex(start=0, stop=1689, step=1)"
            ]
          },
          "execution_count": 55,
          "metadata": {},
          "output_type": "execute_result"
        }
      ],
      "source": [
        "# Revisar el índice del DataFrame\n",
        "df_excel.index"
      ]
    },
    {
      "cell_type": "code",
      "execution_count": 69,
      "metadata": {},
      "outputs": [
        {
          "data": {
            "application/vnd.microsoft.datawrangler.viewer.v0+json": {
              "columns": [
                {
                  "name": "Row_ID",
                  "rawType": "int64",
                  "type": "integer"
                },
                {
                  "name": "Date",
                  "rawType": "datetime64[ns]",
                  "type": "datetime"
                },
                {
                  "name": "Year",
                  "rawType": "int64",
                  "type": "integer"
                },
                {
                  "name": "Month",
                  "rawType": "int64",
                  "type": "integer"
                },
                {
                  "name": "ISO3 - Country of origin",
                  "rawType": "object",
                  "type": "string"
                },
                {
                  "name": "ISO3 - Country of arrival",
                  "rawType": "object",
                  "type": "string"
                },
                {
                  "name": "Route",
                  "rawType": "object",
                  "type": "string"
                },
                {
                  "name": "Arrivals",
                  "rawType": "int64",
                  "type": "integer"
                },
                {
                  "name": "Source",
                  "rawType": "object",
                  "type": "string"
                }
              ],
              "ref": "e11464ba-32bf-449e-9989-072c1bb07945",
              "rows": [
                [
                  "0",
                  "2024-01-31 00:00:00",
                  "2024",
                  "1",
                  "BGD",
                  "MLT",
                  "CMR",
                  "7",
                  "Maltese Minitry of Home Affairs, Security and Employment"
                ],
                [
                  "1",
                  "2024-01-31 00:00:00",
                  "2024",
                  "1",
                  "EGY",
                  "MLT",
                  "CMR",
                  "1",
                  "Maltese Minitry of Home Affairs, Security and Employment"
                ],
                [
                  "2",
                  "2024-01-31 00:00:00",
                  "2024",
                  "1",
                  "PAK",
                  "MLT",
                  "CMR",
                  "22",
                  "Maltese Minitry of Home Affairs, Security and Employment"
                ],
                [
                  "3",
                  "2024-01-31 00:00:00",
                  "2024",
                  "1",
                  "SDN",
                  "MLT",
                  "CMR",
                  "1",
                  "Maltese Minitry of Home Affairs, Security and Employment"
                ],
                [
                  "4",
                  "2024-01-31 00:00:00",
                  "2024",
                  "1",
                  "SYR",
                  "MLT",
                  "CMR",
                  "4",
                  "Maltese Minitry of Home Affairs, Security and Employment"
                ]
              ],
              "shape": {
                "columns": 8,
                "rows": 5
              }
            },
            "text/html": [
              "<div>\n",
              "<style scoped>\n",
              "    .dataframe tbody tr th:only-of-type {\n",
              "        vertical-align: middle;\n",
              "    }\n",
              "\n",
              "    .dataframe tbody tr th {\n",
              "        vertical-align: top;\n",
              "    }\n",
              "\n",
              "    .dataframe thead th {\n",
              "        text-align: right;\n",
              "    }\n",
              "</style>\n",
              "<table border=\"1\" class=\"dataframe\">\n",
              "  <thead>\n",
              "    <tr style=\"text-align: right;\">\n",
              "      <th></th>\n",
              "      <th>Date</th>\n",
              "      <th>Year</th>\n",
              "      <th>Month</th>\n",
              "      <th>ISO3 - Country of origin</th>\n",
              "      <th>ISO3 - Country of arrival</th>\n",
              "      <th>Route</th>\n",
              "      <th>Arrivals</th>\n",
              "      <th>Source</th>\n",
              "    </tr>\n",
              "    <tr>\n",
              "      <th>Row_ID</th>\n",
              "      <th></th>\n",
              "      <th></th>\n",
              "      <th></th>\n",
              "      <th></th>\n",
              "      <th></th>\n",
              "      <th></th>\n",
              "      <th></th>\n",
              "      <th></th>\n",
              "    </tr>\n",
              "  </thead>\n",
              "  <tbody>\n",
              "    <tr>\n",
              "      <th>0</th>\n",
              "      <td>2024-01-31</td>\n",
              "      <td>2024</td>\n",
              "      <td>1</td>\n",
              "      <td>BGD</td>\n",
              "      <td>MLT</td>\n",
              "      <td>CMR</td>\n",
              "      <td>7</td>\n",
              "      <td>Maltese Minitry of Home Affairs, Security and ...</td>\n",
              "    </tr>\n",
              "    <tr>\n",
              "      <th>1</th>\n",
              "      <td>2024-01-31</td>\n",
              "      <td>2024</td>\n",
              "      <td>1</td>\n",
              "      <td>EGY</td>\n",
              "      <td>MLT</td>\n",
              "      <td>CMR</td>\n",
              "      <td>1</td>\n",
              "      <td>Maltese Minitry of Home Affairs, Security and ...</td>\n",
              "    </tr>\n",
              "    <tr>\n",
              "      <th>2</th>\n",
              "      <td>2024-01-31</td>\n",
              "      <td>2024</td>\n",
              "      <td>1</td>\n",
              "      <td>PAK</td>\n",
              "      <td>MLT</td>\n",
              "      <td>CMR</td>\n",
              "      <td>22</td>\n",
              "      <td>Maltese Minitry of Home Affairs, Security and ...</td>\n",
              "    </tr>\n",
              "    <tr>\n",
              "      <th>3</th>\n",
              "      <td>2024-01-31</td>\n",
              "      <td>2024</td>\n",
              "      <td>1</td>\n",
              "      <td>SDN</td>\n",
              "      <td>MLT</td>\n",
              "      <td>CMR</td>\n",
              "      <td>1</td>\n",
              "      <td>Maltese Minitry of Home Affairs, Security and ...</td>\n",
              "    </tr>\n",
              "    <tr>\n",
              "      <th>4</th>\n",
              "      <td>2024-01-31</td>\n",
              "      <td>2024</td>\n",
              "      <td>1</td>\n",
              "      <td>SYR</td>\n",
              "      <td>MLT</td>\n",
              "      <td>CMR</td>\n",
              "      <td>4</td>\n",
              "      <td>Maltese Minitry of Home Affairs, Security and ...</td>\n",
              "    </tr>\n",
              "  </tbody>\n",
              "</table>\n",
              "</div>"
            ],
            "text/plain": [
              "             Date  Year  Month ISO3 - Country of origin  \\\n",
              "Row_ID                                                    \n",
              "0      2024-01-31  2024      1                      BGD   \n",
              "1      2024-01-31  2024      1                      EGY   \n",
              "2      2024-01-31  2024      1                      PAK   \n",
              "3      2024-01-31  2024      1                      SDN   \n",
              "4      2024-01-31  2024      1                      SYR   \n",
              "\n",
              "       ISO3 - Country of arrival Route  Arrivals  \\\n",
              "Row_ID                                             \n",
              "0                            MLT   CMR         7   \n",
              "1                            MLT   CMR         1   \n",
              "2                            MLT   CMR        22   \n",
              "3                            MLT   CMR         1   \n",
              "4                            MLT   CMR         4   \n",
              "\n",
              "                                                   Source  \n",
              "Row_ID                                                     \n",
              "0       Maltese Minitry of Home Affairs, Security and ...  \n",
              "1       Maltese Minitry of Home Affairs, Security and ...  \n",
              "2       Maltese Minitry of Home Affairs, Security and ...  \n",
              "3       Maltese Minitry of Home Affairs, Security and ...  \n",
              "4       Maltese Minitry of Home Affairs, Security and ...  "
            ]
          },
          "execution_count": 69,
          "metadata": {},
          "output_type": "execute_result"
        }
      ],
      "source": [
        "# Renombrar el índice\n",
        "df_excel.index.name = 'Row_ID'\n",
        "df_excel.head()"
      ]
    },
    {
      "cell_type": "code",
      "execution_count": 67,
      "metadata": {},
      "outputs": [
        {
          "data": {
            "application/vnd.microsoft.datawrangler.viewer.v0+json": {
              "columns": [
                {
                  "name": "index",
                  "rawType": "int64",
                  "type": "integer"
                },
                {
                  "name": "Date",
                  "rawType": "datetime64[ns]",
                  "type": "datetime"
                },
                {
                  "name": "Year",
                  "rawType": "int64",
                  "type": "integer"
                },
                {
                  "name": "Month",
                  "rawType": "int64",
                  "type": "integer"
                },
                {
                  "name": "ISO3 - Country of origin",
                  "rawType": "object",
                  "type": "string"
                },
                {
                  "name": "ISO3 - Country of arrival",
                  "rawType": "object",
                  "type": "string"
                },
                {
                  "name": "Route",
                  "rawType": "object",
                  "type": "string"
                },
                {
                  "name": "Arrivals",
                  "rawType": "int64",
                  "type": "integer"
                },
                {
                  "name": "Source",
                  "rawType": "object",
                  "type": "string"
                }
              ],
              "ref": "a48a1174-84da-43cc-bca0-f0a8d1a311f0",
              "rows": [
                [
                  "0",
                  "2024-01-31 00:00:00",
                  "2024",
                  "1",
                  "BGD",
                  "MLT",
                  "CMR",
                  "7",
                  "Maltese Minitry of Home Affairs, Security and Employment"
                ],
                [
                  "1",
                  "2024-01-31 00:00:00",
                  "2024",
                  "1",
                  "EGY",
                  "MLT",
                  "CMR",
                  "1",
                  "Maltese Minitry of Home Affairs, Security and Employment"
                ],
                [
                  "2",
                  "2024-01-31 00:00:00",
                  "2024",
                  "1",
                  "PAK",
                  "MLT",
                  "CMR",
                  "22",
                  "Maltese Minitry of Home Affairs, Security and Employment"
                ],
                [
                  "3",
                  "2024-01-31 00:00:00",
                  "2024",
                  "1",
                  "SDN",
                  "MLT",
                  "CMR",
                  "1",
                  "Maltese Minitry of Home Affairs, Security and Employment"
                ],
                [
                  "4",
                  "2024-01-31 00:00:00",
                  "2024",
                  "1",
                  "SYR",
                  "MLT",
                  "CMR",
                  "4",
                  "Maltese Minitry of Home Affairs, Security and Employment"
                ]
              ],
              "shape": {
                "columns": 8,
                "rows": 5
              }
            },
            "text/html": [
              "<div>\n",
              "<style scoped>\n",
              "    .dataframe tbody tr th:only-of-type {\n",
              "        vertical-align: middle;\n",
              "    }\n",
              "\n",
              "    .dataframe tbody tr th {\n",
              "        vertical-align: top;\n",
              "    }\n",
              "\n",
              "    .dataframe thead th {\n",
              "        text-align: right;\n",
              "    }\n",
              "</style>\n",
              "<table border=\"1\" class=\"dataframe\">\n",
              "  <thead>\n",
              "    <tr style=\"text-align: right;\">\n",
              "      <th></th>\n",
              "      <th>Date</th>\n",
              "      <th>Year</th>\n",
              "      <th>Month</th>\n",
              "      <th>ISO3 - Country of origin</th>\n",
              "      <th>ISO3 - Country of arrival</th>\n",
              "      <th>Route</th>\n",
              "      <th>Arrivals</th>\n",
              "      <th>Source</th>\n",
              "    </tr>\n",
              "  </thead>\n",
              "  <tbody>\n",
              "    <tr>\n",
              "      <th>0</th>\n",
              "      <td>2024-01-31</td>\n",
              "      <td>2024</td>\n",
              "      <td>1</td>\n",
              "      <td>BGD</td>\n",
              "      <td>MLT</td>\n",
              "      <td>CMR</td>\n",
              "      <td>7</td>\n",
              "      <td>Maltese Minitry of Home Affairs, Security and ...</td>\n",
              "    </tr>\n",
              "    <tr>\n",
              "      <th>1</th>\n",
              "      <td>2024-01-31</td>\n",
              "      <td>2024</td>\n",
              "      <td>1</td>\n",
              "      <td>EGY</td>\n",
              "      <td>MLT</td>\n",
              "      <td>CMR</td>\n",
              "      <td>1</td>\n",
              "      <td>Maltese Minitry of Home Affairs, Security and ...</td>\n",
              "    </tr>\n",
              "    <tr>\n",
              "      <th>2</th>\n",
              "      <td>2024-01-31</td>\n",
              "      <td>2024</td>\n",
              "      <td>1</td>\n",
              "      <td>PAK</td>\n",
              "      <td>MLT</td>\n",
              "      <td>CMR</td>\n",
              "      <td>22</td>\n",
              "      <td>Maltese Minitry of Home Affairs, Security and ...</td>\n",
              "    </tr>\n",
              "    <tr>\n",
              "      <th>3</th>\n",
              "      <td>2024-01-31</td>\n",
              "      <td>2024</td>\n",
              "      <td>1</td>\n",
              "      <td>SDN</td>\n",
              "      <td>MLT</td>\n",
              "      <td>CMR</td>\n",
              "      <td>1</td>\n",
              "      <td>Maltese Minitry of Home Affairs, Security and ...</td>\n",
              "    </tr>\n",
              "    <tr>\n",
              "      <th>4</th>\n",
              "      <td>2024-01-31</td>\n",
              "      <td>2024</td>\n",
              "      <td>1</td>\n",
              "      <td>SYR</td>\n",
              "      <td>MLT</td>\n",
              "      <td>CMR</td>\n",
              "      <td>4</td>\n",
              "      <td>Maltese Minitry of Home Affairs, Security and ...</td>\n",
              "    </tr>\n",
              "  </tbody>\n",
              "</table>\n",
              "</div>"
            ],
            "text/plain": [
              "        Date  Year  Month ISO3 - Country of origin ISO3 - Country of arrival  \\\n",
              "0 2024-01-31  2024      1                      BGD                       MLT   \n",
              "1 2024-01-31  2024      1                      EGY                       MLT   \n",
              "2 2024-01-31  2024      1                      PAK                       MLT   \n",
              "3 2024-01-31  2024      1                      SDN                       MLT   \n",
              "4 2024-01-31  2024      1                      SYR                       MLT   \n",
              "\n",
              "  Route  Arrivals                                             Source  \n",
              "0   CMR         7  Maltese Minitry of Home Affairs, Security and ...  \n",
              "1   CMR         1  Maltese Minitry of Home Affairs, Security and ...  \n",
              "2   CMR        22  Maltese Minitry of Home Affairs, Security and ...  \n",
              "3   CMR         1  Maltese Minitry of Home Affairs, Security and ...  \n",
              "4   CMR         4  Maltese Minitry of Home Affairs, Security and ...  "
            ]
          },
          "execution_count": 67,
          "metadata": {},
          "output_type": "execute_result"
        }
      ],
      "source": [
        "# Resetear el índice a los valores por defecto (0, 1, 2, ...)\n",
        "df_excel.reset_index(drop=True, inplace=True)\n",
        "df_excel.head()"
      ]
    },
    {
      "cell_type": "code",
      "execution_count": 70,
      "metadata": {},
      "outputs": [
        {
          "data": {
            "application/vnd.microsoft.datawrangler.viewer.v0+json": {
              "columns": [
                {
                  "name": "ISO3 - Country of origin",
                  "rawType": "object",
                  "type": "string"
                },
                {
                  "name": "Date",
                  "rawType": "datetime64[ns]",
                  "type": "datetime"
                },
                {
                  "name": "Year",
                  "rawType": "int64",
                  "type": "integer"
                },
                {
                  "name": "Month",
                  "rawType": "int64",
                  "type": "integer"
                },
                {
                  "name": "ISO3 - Country of arrival",
                  "rawType": "object",
                  "type": "string"
                },
                {
                  "name": "Route",
                  "rawType": "object",
                  "type": "string"
                },
                {
                  "name": "Arrivals",
                  "rawType": "int64",
                  "type": "integer"
                },
                {
                  "name": "Source",
                  "rawType": "object",
                  "type": "string"
                }
              ],
              "ref": "5f0853b3-1755-416a-8583-bba47fa23e4d",
              "rows": [
                [
                  "BGD",
                  "2024-01-31 00:00:00",
                  "2024",
                  "1",
                  "MLT",
                  "CMR",
                  "7",
                  "Maltese Minitry of Home Affairs, Security and Employment"
                ],
                [
                  "EGY",
                  "2024-01-31 00:00:00",
                  "2024",
                  "1",
                  "MLT",
                  "CMR",
                  "1",
                  "Maltese Minitry of Home Affairs, Security and Employment"
                ],
                [
                  "PAK",
                  "2024-01-31 00:00:00",
                  "2024",
                  "1",
                  "MLT",
                  "CMR",
                  "22",
                  "Maltese Minitry of Home Affairs, Security and Employment"
                ],
                [
                  "SDN",
                  "2024-01-31 00:00:00",
                  "2024",
                  "1",
                  "MLT",
                  "CMR",
                  "1",
                  "Maltese Minitry of Home Affairs, Security and Employment"
                ],
                [
                  "SYR",
                  "2024-01-31 00:00:00",
                  "2024",
                  "1",
                  "MLT",
                  "CMR",
                  "4",
                  "Maltese Minitry of Home Affairs, Security and Employment"
                ]
              ],
              "shape": {
                "columns": 7,
                "rows": 5
              }
            },
            "text/html": [
              "<div>\n",
              "<style scoped>\n",
              "    .dataframe tbody tr th:only-of-type {\n",
              "        vertical-align: middle;\n",
              "    }\n",
              "\n",
              "    .dataframe tbody tr th {\n",
              "        vertical-align: top;\n",
              "    }\n",
              "\n",
              "    .dataframe thead th {\n",
              "        text-align: right;\n",
              "    }\n",
              "</style>\n",
              "<table border=\"1\" class=\"dataframe\">\n",
              "  <thead>\n",
              "    <tr style=\"text-align: right;\">\n",
              "      <th></th>\n",
              "      <th>Date</th>\n",
              "      <th>Year</th>\n",
              "      <th>Month</th>\n",
              "      <th>ISO3 - Country of arrival</th>\n",
              "      <th>Route</th>\n",
              "      <th>Arrivals</th>\n",
              "      <th>Source</th>\n",
              "    </tr>\n",
              "    <tr>\n",
              "      <th>ISO3 - Country of origin</th>\n",
              "      <th></th>\n",
              "      <th></th>\n",
              "      <th></th>\n",
              "      <th></th>\n",
              "      <th></th>\n",
              "      <th></th>\n",
              "      <th></th>\n",
              "    </tr>\n",
              "  </thead>\n",
              "  <tbody>\n",
              "    <tr>\n",
              "      <th>BGD</th>\n",
              "      <td>2024-01-31</td>\n",
              "      <td>2024</td>\n",
              "      <td>1</td>\n",
              "      <td>MLT</td>\n",
              "      <td>CMR</td>\n",
              "      <td>7</td>\n",
              "      <td>Maltese Minitry of Home Affairs, Security and ...</td>\n",
              "    </tr>\n",
              "    <tr>\n",
              "      <th>EGY</th>\n",
              "      <td>2024-01-31</td>\n",
              "      <td>2024</td>\n",
              "      <td>1</td>\n",
              "      <td>MLT</td>\n",
              "      <td>CMR</td>\n",
              "      <td>1</td>\n",
              "      <td>Maltese Minitry of Home Affairs, Security and ...</td>\n",
              "    </tr>\n",
              "    <tr>\n",
              "      <th>PAK</th>\n",
              "      <td>2024-01-31</td>\n",
              "      <td>2024</td>\n",
              "      <td>1</td>\n",
              "      <td>MLT</td>\n",
              "      <td>CMR</td>\n",
              "      <td>22</td>\n",
              "      <td>Maltese Minitry of Home Affairs, Security and ...</td>\n",
              "    </tr>\n",
              "    <tr>\n",
              "      <th>SDN</th>\n",
              "      <td>2024-01-31</td>\n",
              "      <td>2024</td>\n",
              "      <td>1</td>\n",
              "      <td>MLT</td>\n",
              "      <td>CMR</td>\n",
              "      <td>1</td>\n",
              "      <td>Maltese Minitry of Home Affairs, Security and ...</td>\n",
              "    </tr>\n",
              "    <tr>\n",
              "      <th>SYR</th>\n",
              "      <td>2024-01-31</td>\n",
              "      <td>2024</td>\n",
              "      <td>1</td>\n",
              "      <td>MLT</td>\n",
              "      <td>CMR</td>\n",
              "      <td>4</td>\n",
              "      <td>Maltese Minitry of Home Affairs, Security and ...</td>\n",
              "    </tr>\n",
              "  </tbody>\n",
              "</table>\n",
              "</div>"
            ],
            "text/plain": [
              "                               Date  Year  Month ISO3 - Country of arrival  \\\n",
              "ISO3 - Country of origin                                                     \n",
              "BGD                      2024-01-31  2024      1                       MLT   \n",
              "EGY                      2024-01-31  2024      1                       MLT   \n",
              "PAK                      2024-01-31  2024      1                       MLT   \n",
              "SDN                      2024-01-31  2024      1                       MLT   \n",
              "SYR                      2024-01-31  2024      1                       MLT   \n",
              "\n",
              "                         Route  Arrivals  \\\n",
              "ISO3 - Country of origin                   \n",
              "BGD                        CMR         7   \n",
              "EGY                        CMR         1   \n",
              "PAK                        CMR        22   \n",
              "SDN                        CMR         1   \n",
              "SYR                        CMR         4   \n",
              "\n",
              "                                                                     Source  \n",
              "ISO3 - Country of origin                                                     \n",
              "BGD                       Maltese Minitry of Home Affairs, Security and ...  \n",
              "EGY                       Maltese Minitry of Home Affairs, Security and ...  \n",
              "PAK                       Maltese Minitry of Home Affairs, Security and ...  \n",
              "SDN                       Maltese Minitry of Home Affairs, Security and ...  \n",
              "SYR                       Maltese Minitry of Home Affairs, Security and ...  "
            ]
          },
          "execution_count": 70,
          "metadata": {},
          "output_type": "execute_result"
        }
      ],
      "source": [
        "# Establecer una columna como índice. Sirve para identificar filas de forma única. Se aplica si la columna tiene valores únicos.\n",
        "df_excel.set_index('ISO3 - Country of origin', inplace=True)\n",
        "df_excel.head()"
      ]
    },
    {
      "cell_type": "code",
      "execution_count": 72,
      "metadata": {},
      "outputs": [
        {
          "data": {
            "application/vnd.microsoft.datawrangler.viewer.v0+json": {
              "columns": [
                {
                  "name": "index",
                  "rawType": "int64",
                  "type": "integer"
                },
                {
                  "name": "index",
                  "rawType": "int64",
                  "type": "integer"
                },
                {
                  "name": "ISO3 - Country of origin",
                  "rawType": "object",
                  "type": "string"
                },
                {
                  "name": "Date",
                  "rawType": "datetime64[ns]",
                  "type": "datetime"
                },
                {
                  "name": "Year",
                  "rawType": "int64",
                  "type": "integer"
                },
                {
                  "name": "Month",
                  "rawType": "int64",
                  "type": "integer"
                },
                {
                  "name": "ISO3 - Country of arrival",
                  "rawType": "object",
                  "type": "string"
                },
                {
                  "name": "Route",
                  "rawType": "object",
                  "type": "string"
                },
                {
                  "name": "Arrivals",
                  "rawType": "int64",
                  "type": "integer"
                },
                {
                  "name": "Source",
                  "rawType": "object",
                  "type": "string"
                }
              ],
              "ref": "4c9920b5-b1dd-4b4e-8666-ca62e7e07d21",
              "rows": [
                [
                  "0",
                  "0",
                  "BGD",
                  "2024-01-31 00:00:00",
                  "2024",
                  "1",
                  "MLT",
                  "CMR",
                  "7",
                  "Maltese Minitry of Home Affairs, Security and Employment"
                ],
                [
                  "1",
                  "1",
                  "EGY",
                  "2024-01-31 00:00:00",
                  "2024",
                  "1",
                  "MLT",
                  "CMR",
                  "1",
                  "Maltese Minitry of Home Affairs, Security and Employment"
                ],
                [
                  "2",
                  "2",
                  "PAK",
                  "2024-01-31 00:00:00",
                  "2024",
                  "1",
                  "MLT",
                  "CMR",
                  "22",
                  "Maltese Minitry of Home Affairs, Security and Employment"
                ],
                [
                  "3",
                  "3",
                  "SDN",
                  "2024-01-31 00:00:00",
                  "2024",
                  "1",
                  "MLT",
                  "CMR",
                  "1",
                  "Maltese Minitry of Home Affairs, Security and Employment"
                ],
                [
                  "4",
                  "4",
                  "SYR",
                  "2024-01-31 00:00:00",
                  "2024",
                  "1",
                  "MLT",
                  "CMR",
                  "4",
                  "Maltese Minitry of Home Affairs, Security and Employment"
                ]
              ],
              "shape": {
                "columns": 9,
                "rows": 5
              }
            },
            "text/html": [
              "<div>\n",
              "<style scoped>\n",
              "    .dataframe tbody tr th:only-of-type {\n",
              "        vertical-align: middle;\n",
              "    }\n",
              "\n",
              "    .dataframe tbody tr th {\n",
              "        vertical-align: top;\n",
              "    }\n",
              "\n",
              "    .dataframe thead th {\n",
              "        text-align: right;\n",
              "    }\n",
              "</style>\n",
              "<table border=\"1\" class=\"dataframe\">\n",
              "  <thead>\n",
              "    <tr style=\"text-align: right;\">\n",
              "      <th></th>\n",
              "      <th>index</th>\n",
              "      <th>ISO3 - Country of origin</th>\n",
              "      <th>Date</th>\n",
              "      <th>Year</th>\n",
              "      <th>Month</th>\n",
              "      <th>ISO3 - Country of arrival</th>\n",
              "      <th>Route</th>\n",
              "      <th>Arrivals</th>\n",
              "      <th>Source</th>\n",
              "    </tr>\n",
              "  </thead>\n",
              "  <tbody>\n",
              "    <tr>\n",
              "      <th>0</th>\n",
              "      <td>0</td>\n",
              "      <td>BGD</td>\n",
              "      <td>2024-01-31</td>\n",
              "      <td>2024</td>\n",
              "      <td>1</td>\n",
              "      <td>MLT</td>\n",
              "      <td>CMR</td>\n",
              "      <td>7</td>\n",
              "      <td>Maltese Minitry of Home Affairs, Security and ...</td>\n",
              "    </tr>\n",
              "    <tr>\n",
              "      <th>1</th>\n",
              "      <td>1</td>\n",
              "      <td>EGY</td>\n",
              "      <td>2024-01-31</td>\n",
              "      <td>2024</td>\n",
              "      <td>1</td>\n",
              "      <td>MLT</td>\n",
              "      <td>CMR</td>\n",
              "      <td>1</td>\n",
              "      <td>Maltese Minitry of Home Affairs, Security and ...</td>\n",
              "    </tr>\n",
              "    <tr>\n",
              "      <th>2</th>\n",
              "      <td>2</td>\n",
              "      <td>PAK</td>\n",
              "      <td>2024-01-31</td>\n",
              "      <td>2024</td>\n",
              "      <td>1</td>\n",
              "      <td>MLT</td>\n",
              "      <td>CMR</td>\n",
              "      <td>22</td>\n",
              "      <td>Maltese Minitry of Home Affairs, Security and ...</td>\n",
              "    </tr>\n",
              "    <tr>\n",
              "      <th>3</th>\n",
              "      <td>3</td>\n",
              "      <td>SDN</td>\n",
              "      <td>2024-01-31</td>\n",
              "      <td>2024</td>\n",
              "      <td>1</td>\n",
              "      <td>MLT</td>\n",
              "      <td>CMR</td>\n",
              "      <td>1</td>\n",
              "      <td>Maltese Minitry of Home Affairs, Security and ...</td>\n",
              "    </tr>\n",
              "    <tr>\n",
              "      <th>4</th>\n",
              "      <td>4</td>\n",
              "      <td>SYR</td>\n",
              "      <td>2024-01-31</td>\n",
              "      <td>2024</td>\n",
              "      <td>1</td>\n",
              "      <td>MLT</td>\n",
              "      <td>CMR</td>\n",
              "      <td>4</td>\n",
              "      <td>Maltese Minitry of Home Affairs, Security and ...</td>\n",
              "    </tr>\n",
              "  </tbody>\n",
              "</table>\n",
              "</div>"
            ],
            "text/plain": [
              "   index ISO3 - Country of origin       Date  Year  Month  \\\n",
              "0      0                      BGD 2024-01-31  2024      1   \n",
              "1      1                      EGY 2024-01-31  2024      1   \n",
              "2      2                      PAK 2024-01-31  2024      1   \n",
              "3      3                      SDN 2024-01-31  2024      1   \n",
              "4      4                      SYR 2024-01-31  2024      1   \n",
              "\n",
              "  ISO3 - Country of arrival Route  Arrivals  \\\n",
              "0                       MLT   CMR         7   \n",
              "1                       MLT   CMR         1   \n",
              "2                       MLT   CMR        22   \n",
              "3                       MLT   CMR         1   \n",
              "4                       MLT   CMR         4   \n",
              "\n",
              "                                              Source  \n",
              "0  Maltese Minitry of Home Affairs, Security and ...  \n",
              "1  Maltese Minitry of Home Affairs, Security and ...  \n",
              "2  Maltese Minitry of Home Affairs, Security and ...  \n",
              "3  Maltese Minitry of Home Affairs, Security and ...  \n",
              "4  Maltese Minitry of Home Affairs, Security and ...  "
            ]
          },
          "execution_count": 72,
          "metadata": {},
          "output_type": "execute_result"
        }
      ],
      "source": [
        "# Volver al índice por defecto\n",
        "df_excel.reset_index(inplace=True)\n",
        "df_excel.head()"
      ]
    },
    {
      "cell_type": "markdown",
      "metadata": {},
      "source": [
        "## 📌 Acceso a columnas y filas"
      ]
    },
    {
      "cell_type": "code",
      "execution_count": 73,
      "metadata": {},
      "outputs": [
        {
          "data": {
            "application/vnd.microsoft.datawrangler.viewer.v0+json": {
              "columns": [
                {
                  "name": "index",
                  "rawType": "int64",
                  "type": "integer"
                },
                {
                  "name": "ISO3 - Country of origin",
                  "rawType": "object",
                  "type": "string"
                }
              ],
              "ref": "10f8164a-fadf-4067-90a2-a5a3f46d9ea0",
              "rows": [
                [
                  "0",
                  "BGD"
                ],
                [
                  "1",
                  "EGY"
                ],
                [
                  "2",
                  "PAK"
                ],
                [
                  "3",
                  "SDN"
                ],
                [
                  "4",
                  "SYR"
                ],
                [
                  "5",
                  "BGD"
                ],
                [
                  "6",
                  "EGY"
                ],
                [
                  "7",
                  "ERI"
                ],
                [
                  "8",
                  "ETH"
                ],
                [
                  "9",
                  "GHA"
                ],
                [
                  "10",
                  "SYR"
                ],
                [
                  "11",
                  "SYR"
                ],
                [
                  "12",
                  "EGY"
                ],
                [
                  "13",
                  "PSE"
                ],
                [
                  "14",
                  "SYR"
                ],
                [
                  "15",
                  "SYR"
                ],
                [
                  "16",
                  "EGY"
                ],
                [
                  "17",
                  "SDN"
                ],
                [
                  "18",
                  "BGD"
                ],
                [
                  "19",
                  "EGY"
                ],
                [
                  "20",
                  "PAK"
                ],
                [
                  "21",
                  "SYR"
                ],
                [
                  "22",
                  "BGD"
                ],
                [
                  "23",
                  "EGY"
                ],
                [
                  "24",
                  "ERI"
                ],
                [
                  "25",
                  "PAK"
                ],
                [
                  "26",
                  "BEN"
                ],
                [
                  "27",
                  "BFA"
                ],
                [
                  "28",
                  "BGD"
                ],
                [
                  "29",
                  "CAF"
                ],
                [
                  "30",
                  "CIV"
                ],
                [
                  "31",
                  "CMR"
                ],
                [
                  "32",
                  "DZA"
                ],
                [
                  "33",
                  "EGY"
                ],
                [
                  "34",
                  "ERI"
                ],
                [
                  "35",
                  "ETH"
                ],
                [
                  "36",
                  "GHA"
                ],
                [
                  "37",
                  "GIN"
                ],
                [
                  "38",
                  "GMB"
                ],
                [
                  "39",
                  "IND"
                ],
                [
                  "40",
                  "LBN"
                ],
                [
                  "41",
                  "LBR"
                ],
                [
                  "42",
                  "LBY"
                ],
                [
                  "43",
                  "MAR"
                ],
                [
                  "44",
                  "MLI"
                ],
                [
                  "45",
                  "NGA"
                ],
                [
                  "46",
                  "OOO"
                ],
                [
                  "47",
                  "PAK"
                ],
                [
                  "48",
                  "PSE"
                ],
                [
                  "49",
                  "SDN"
                ]
              ],
              "shape": {
                "columns": 1,
                "rows": 1689
              }
            },
            "text/plain": [
              "0       BGD\n",
              "1       EGY\n",
              "2       PAK\n",
              "3       SDN\n",
              "4       SYR\n",
              "       ... \n",
              "1684    EGY\n",
              "1685    IRQ\n",
              "1686    MAR\n",
              "1687    OOO\n",
              "1688    SYR\n",
              "Name: ISO3 - Country of origin, Length: 1689, dtype: object"
            ]
          },
          "execution_count": 73,
          "metadata": {},
          "output_type": "execute_result"
        }
      ],
      "source": [
        "# Acceso a una columna específica\n",
        "df_excel['ISO3 - Country of origin']"
      ]
    },
    {
      "cell_type": "code",
      "execution_count": 74,
      "metadata": {},
      "outputs": [
        {
          "data": {
            "application/vnd.microsoft.datawrangler.viewer.v0+json": {
              "columns": [
                {
                  "name": "index",
                  "rawType": "int64",
                  "type": "integer"
                },
                {
                  "name": "ISO3 - Country of origin",
                  "rawType": "object",
                  "type": "string"
                },
                {
                  "name": "Year",
                  "rawType": "int64",
                  "type": "integer"
                }
              ],
              "ref": "f9d160f7-f972-47fa-9fa4-970b80660494",
              "rows": [
                [
                  "0",
                  "BGD",
                  "2024"
                ],
                [
                  "1",
                  "EGY",
                  "2024"
                ],
                [
                  "2",
                  "PAK",
                  "2024"
                ],
                [
                  "3",
                  "SDN",
                  "2024"
                ],
                [
                  "4",
                  "SYR",
                  "2024"
                ],
                [
                  "5",
                  "BGD",
                  "2024"
                ],
                [
                  "6",
                  "EGY",
                  "2024"
                ],
                [
                  "7",
                  "ERI",
                  "2024"
                ],
                [
                  "8",
                  "ETH",
                  "2024"
                ],
                [
                  "9",
                  "GHA",
                  "2024"
                ],
                [
                  "10",
                  "SYR",
                  "2024"
                ],
                [
                  "11",
                  "SYR",
                  "2024"
                ],
                [
                  "12",
                  "EGY",
                  "2024"
                ],
                [
                  "13",
                  "PSE",
                  "2024"
                ],
                [
                  "14",
                  "SYR",
                  "2024"
                ],
                [
                  "15",
                  "SYR",
                  "2024"
                ],
                [
                  "16",
                  "EGY",
                  "2024"
                ],
                [
                  "17",
                  "SDN",
                  "2024"
                ],
                [
                  "18",
                  "BGD",
                  "2024"
                ],
                [
                  "19",
                  "EGY",
                  "2024"
                ],
                [
                  "20",
                  "PAK",
                  "2024"
                ],
                [
                  "21",
                  "SYR",
                  "2024"
                ],
                [
                  "22",
                  "BGD",
                  "2024"
                ],
                [
                  "23",
                  "EGY",
                  "2024"
                ],
                [
                  "24",
                  "ERI",
                  "2024"
                ],
                [
                  "25",
                  "PAK",
                  "2024"
                ],
                [
                  "26",
                  "BEN",
                  "2024"
                ],
                [
                  "27",
                  "BFA",
                  "2024"
                ],
                [
                  "28",
                  "BGD",
                  "2024"
                ],
                [
                  "29",
                  "CAF",
                  "2024"
                ],
                [
                  "30",
                  "CIV",
                  "2024"
                ],
                [
                  "31",
                  "CMR",
                  "2024"
                ],
                [
                  "32",
                  "DZA",
                  "2024"
                ],
                [
                  "33",
                  "EGY",
                  "2024"
                ],
                [
                  "34",
                  "ERI",
                  "2024"
                ],
                [
                  "35",
                  "ETH",
                  "2024"
                ],
                [
                  "36",
                  "GHA",
                  "2024"
                ],
                [
                  "37",
                  "GIN",
                  "2024"
                ],
                [
                  "38",
                  "GMB",
                  "2024"
                ],
                [
                  "39",
                  "IND",
                  "2024"
                ],
                [
                  "40",
                  "LBN",
                  "2024"
                ],
                [
                  "41",
                  "LBR",
                  "2024"
                ],
                [
                  "42",
                  "LBY",
                  "2024"
                ],
                [
                  "43",
                  "MAR",
                  "2024"
                ],
                [
                  "44",
                  "MLI",
                  "2024"
                ],
                [
                  "45",
                  "NGA",
                  "2024"
                ],
                [
                  "46",
                  "OOO",
                  "2024"
                ],
                [
                  "47",
                  "PAK",
                  "2024"
                ],
                [
                  "48",
                  "PSE",
                  "2024"
                ],
                [
                  "49",
                  "SDN",
                  "2024"
                ]
              ],
              "shape": {
                "columns": 2,
                "rows": 1689
              }
            },
            "text/html": [
              "<div>\n",
              "<style scoped>\n",
              "    .dataframe tbody tr th:only-of-type {\n",
              "        vertical-align: middle;\n",
              "    }\n",
              "\n",
              "    .dataframe tbody tr th {\n",
              "        vertical-align: top;\n",
              "    }\n",
              "\n",
              "    .dataframe thead th {\n",
              "        text-align: right;\n",
              "    }\n",
              "</style>\n",
              "<table border=\"1\" class=\"dataframe\">\n",
              "  <thead>\n",
              "    <tr style=\"text-align: right;\">\n",
              "      <th></th>\n",
              "      <th>ISO3 - Country of origin</th>\n",
              "      <th>Year</th>\n",
              "    </tr>\n",
              "  </thead>\n",
              "  <tbody>\n",
              "    <tr>\n",
              "      <th>0</th>\n",
              "      <td>BGD</td>\n",
              "      <td>2024</td>\n",
              "    </tr>\n",
              "    <tr>\n",
              "      <th>1</th>\n",
              "      <td>EGY</td>\n",
              "      <td>2024</td>\n",
              "    </tr>\n",
              "    <tr>\n",
              "      <th>2</th>\n",
              "      <td>PAK</td>\n",
              "      <td>2024</td>\n",
              "    </tr>\n",
              "    <tr>\n",
              "      <th>3</th>\n",
              "      <td>SDN</td>\n",
              "      <td>2024</td>\n",
              "    </tr>\n",
              "    <tr>\n",
              "      <th>4</th>\n",
              "      <td>SYR</td>\n",
              "      <td>2024</td>\n",
              "    </tr>\n",
              "    <tr>\n",
              "      <th>...</th>\n",
              "      <td>...</td>\n",
              "      <td>...</td>\n",
              "    </tr>\n",
              "    <tr>\n",
              "      <th>1684</th>\n",
              "      <td>EGY</td>\n",
              "      <td>2024</td>\n",
              "    </tr>\n",
              "    <tr>\n",
              "      <th>1685</th>\n",
              "      <td>IRQ</td>\n",
              "      <td>2024</td>\n",
              "    </tr>\n",
              "    <tr>\n",
              "      <th>1686</th>\n",
              "      <td>MAR</td>\n",
              "      <td>2024</td>\n",
              "    </tr>\n",
              "    <tr>\n",
              "      <th>1687</th>\n",
              "      <td>OOO</td>\n",
              "      <td>2024</td>\n",
              "    </tr>\n",
              "    <tr>\n",
              "      <th>1688</th>\n",
              "      <td>SYR</td>\n",
              "      <td>2024</td>\n",
              "    </tr>\n",
              "  </tbody>\n",
              "</table>\n",
              "<p>1689 rows × 2 columns</p>\n",
              "</div>"
            ],
            "text/plain": [
              "     ISO3 - Country of origin  Year\n",
              "0                         BGD  2024\n",
              "1                         EGY  2024\n",
              "2                         PAK  2024\n",
              "3                         SDN  2024\n",
              "4                         SYR  2024\n",
              "...                       ...   ...\n",
              "1684                      EGY  2024\n",
              "1685                      IRQ  2024\n",
              "1686                      MAR  2024\n",
              "1687                      OOO  2024\n",
              "1688                      SYR  2024\n",
              "\n",
              "[1689 rows x 2 columns]"
            ]
          },
          "execution_count": 74,
          "metadata": {},
          "output_type": "execute_result"
        }
      ],
      "source": [
        "# Acceder a varias columnas\n",
        "df_excel[['ISO3 - Country of origin', 'Year']]"
      ]
    },
    {
      "cell_type": "code",
      "execution_count": 75,
      "metadata": {},
      "outputs": [
        {
          "data": {
            "application/vnd.microsoft.datawrangler.viewer.v0+json": {
              "columns": [
                {
                  "name": "index",
                  "rawType": "object",
                  "type": "string"
                },
                {
                  "name": "0",
                  "rawType": "object",
                  "type": "unknown"
                }
              ],
              "ref": "d2d2c8ce-d748-4e19-be54-33a2a842a5dc",
              "rows": [
                [
                  "index",
                  "0"
                ],
                [
                  "ISO3 - Country of origin",
                  "BGD"
                ],
                [
                  "Date",
                  "2024-01-31 00:00:00"
                ],
                [
                  "Year",
                  "2024"
                ],
                [
                  "Month",
                  "1"
                ],
                [
                  "ISO3 - Country of arrival",
                  "MLT"
                ],
                [
                  "Route",
                  "CMR"
                ],
                [
                  "Arrivals",
                  "7"
                ],
                [
                  "Source",
                  "Maltese Minitry of Home Affairs, Security and Employment"
                ]
              ],
              "shape": {
                "columns": 1,
                "rows": 9
              }
            },
            "text/plain": [
              "index                                                                        0\n",
              "ISO3 - Country of origin                                                   BGD\n",
              "Date                                                       2024-01-31 00:00:00\n",
              "Year                                                                      2024\n",
              "Month                                                                        1\n",
              "ISO3 - Country of arrival                                                  MLT\n",
              "Route                                                                      CMR\n",
              "Arrivals                                                                     7\n",
              "Source                       Maltese Minitry of Home Affairs, Security and ...\n",
              "Name: 0, dtype: object"
            ]
          },
          "execution_count": 75,
          "metadata": {},
          "output_type": "execute_result"
        }
      ],
      "source": [
        "# Acceso a filas por posición (iloc)\n",
        "df_excel.iloc[0]  # Primera fila"
      ]
    },
    {
      "cell_type": "code",
      "execution_count": 76,
      "metadata": {},
      "outputs": [
        {
          "data": {
            "application/vnd.microsoft.datawrangler.viewer.v0+json": {
              "columns": [
                {
                  "name": "index",
                  "rawType": "object",
                  "type": "string"
                },
                {
                  "name": "0",
                  "rawType": "object",
                  "type": "unknown"
                }
              ],
              "ref": "671c2e7b-22f6-48b9-87ec-e67cf99ca13c",
              "rows": [
                [
                  "index",
                  "0"
                ],
                [
                  "ISO3 - Country of origin",
                  "BGD"
                ],
                [
                  "Date",
                  "2024-01-31 00:00:00"
                ],
                [
                  "Year",
                  "2024"
                ],
                [
                  "Month",
                  "1"
                ],
                [
                  "ISO3 - Country of arrival",
                  "MLT"
                ],
                [
                  "Route",
                  "CMR"
                ],
                [
                  "Arrivals",
                  "7"
                ],
                [
                  "Source",
                  "Maltese Minitry of Home Affairs, Security and Employment"
                ]
              ],
              "shape": {
                "columns": 1,
                "rows": 9
              }
            },
            "text/plain": [
              "index                                                                        0\n",
              "ISO3 - Country of origin                                                   BGD\n",
              "Date                                                       2024-01-31 00:00:00\n",
              "Year                                                                      2024\n",
              "Month                                                                        1\n",
              "ISO3 - Country of arrival                                                  MLT\n",
              "Route                                                                      CMR\n",
              "Arrivals                                                                     7\n",
              "Source                       Maltese Minitry of Home Affairs, Security and ...\n",
              "Name: 0, dtype: object"
            ]
          },
          "execution_count": 76,
          "metadata": {},
          "output_type": "execute_result"
        }
      ],
      "source": [
        "#Acceso a filas por etiqueta (loc)\n",
        "df_excel.loc[0]  # Fila con etiqueta 0"
      ]
    },
    {
      "cell_type": "code",
      "execution_count": 77,
      "metadata": {},
      "outputs": [
        {
          "data": {
            "application/vnd.microsoft.datawrangler.viewer.v0+json": {
              "columns": [
                {
                  "name": "index",
                  "rawType": "int64",
                  "type": "integer"
                },
                {
                  "name": "ISO3 - Country of origin",
                  "rawType": "object",
                  "type": "string"
                },
                {
                  "name": "Year",
                  "rawType": "int64",
                  "type": "integer"
                }
              ],
              "ref": "9aed317c-b04a-4a3c-8710-4f6b06951a8a",
              "rows": [
                [
                  "0",
                  "BGD",
                  "2024"
                ],
                [
                  "1",
                  "EGY",
                  "2024"
                ],
                [
                  "2",
                  "PAK",
                  "2024"
                ],
                [
                  "3",
                  "SDN",
                  "2024"
                ],
                [
                  "4",
                  "SYR",
                  "2024"
                ],
                [
                  "5",
                  "BGD",
                  "2024"
                ]
              ],
              "shape": {
                "columns": 2,
                "rows": 6
              }
            },
            "text/html": [
              "<div>\n",
              "<style scoped>\n",
              "    .dataframe tbody tr th:only-of-type {\n",
              "        vertical-align: middle;\n",
              "    }\n",
              "\n",
              "    .dataframe tbody tr th {\n",
              "        vertical-align: top;\n",
              "    }\n",
              "\n",
              "    .dataframe thead th {\n",
              "        text-align: right;\n",
              "    }\n",
              "</style>\n",
              "<table border=\"1\" class=\"dataframe\">\n",
              "  <thead>\n",
              "    <tr style=\"text-align: right;\">\n",
              "      <th></th>\n",
              "      <th>ISO3 - Country of origin</th>\n",
              "      <th>Year</th>\n",
              "    </tr>\n",
              "  </thead>\n",
              "  <tbody>\n",
              "    <tr>\n",
              "      <th>0</th>\n",
              "      <td>BGD</td>\n",
              "      <td>2024</td>\n",
              "    </tr>\n",
              "    <tr>\n",
              "      <th>1</th>\n",
              "      <td>EGY</td>\n",
              "      <td>2024</td>\n",
              "    </tr>\n",
              "    <tr>\n",
              "      <th>2</th>\n",
              "      <td>PAK</td>\n",
              "      <td>2024</td>\n",
              "    </tr>\n",
              "    <tr>\n",
              "      <th>3</th>\n",
              "      <td>SDN</td>\n",
              "      <td>2024</td>\n",
              "    </tr>\n",
              "    <tr>\n",
              "      <th>4</th>\n",
              "      <td>SYR</td>\n",
              "      <td>2024</td>\n",
              "    </tr>\n",
              "    <tr>\n",
              "      <th>5</th>\n",
              "      <td>BGD</td>\n",
              "      <td>2024</td>\n",
              "    </tr>\n",
              "  </tbody>\n",
              "</table>\n",
              "</div>"
            ],
            "text/plain": [
              "  ISO3 - Country of origin  Year\n",
              "0                      BGD  2024\n",
              "1                      EGY  2024\n",
              "2                      PAK  2024\n",
              "3                      SDN  2024\n",
              "4                      SYR  2024\n",
              "5                      BGD  2024"
            ]
          },
          "execution_count": 77,
          "metadata": {},
          "output_type": "execute_result"
        }
      ],
      "source": [
        "# Acceder a varias filas y varias columnas con loc.\n",
        "df_excel.loc[0:5, ['ISO3 - Country of origin', 'Year']]"
      ]
    },
    {
      "cell_type": "markdown",
      "metadata": {},
      "source": [
        "## 📌 Filtrado de datos con condiciones"
      ]
    },
    {
      "cell_type": "code",
      "execution_count": 78,
      "metadata": {},
      "outputs": [
        {
          "data": {
            "application/vnd.microsoft.datawrangler.viewer.v0+json": {
              "columns": [
                {
                  "name": "index",
                  "rawType": "int64",
                  "type": "integer"
                },
                {
                  "name": "index",
                  "rawType": "int64",
                  "type": "integer"
                },
                {
                  "name": "ISO3 - Country of origin",
                  "rawType": "object",
                  "type": "string"
                },
                {
                  "name": "Date",
                  "rawType": "datetime64[ns]",
                  "type": "datetime"
                },
                {
                  "name": "Year",
                  "rawType": "int64",
                  "type": "integer"
                },
                {
                  "name": "Month",
                  "rawType": "int64",
                  "type": "integer"
                },
                {
                  "name": "ISO3 - Country of arrival",
                  "rawType": "object",
                  "type": "string"
                },
                {
                  "name": "Route",
                  "rawType": "object",
                  "type": "string"
                },
                {
                  "name": "Arrivals",
                  "rawType": "int64",
                  "type": "integer"
                },
                {
                  "name": "Source",
                  "rawType": "object",
                  "type": "string"
                }
              ],
              "ref": "f3372aad-842d-470a-87af-c3510ec1238d",
              "rows": [
                [
                  "4",
                  "4",
                  "SYR",
                  "2024-01-31 00:00:00",
                  "2024",
                  "1",
                  "MLT",
                  "CMR",
                  "4",
                  "Maltese Minitry of Home Affairs, Security and Employment"
                ],
                [
                  "10",
                  "10",
                  "SYR",
                  "2024-02-29 00:00:00",
                  "2024",
                  "2",
                  "MLT",
                  "CMR",
                  "11",
                  "Maltese Minitry of Home Affairs, Security and Employment"
                ],
                [
                  "11",
                  "11",
                  "SYR",
                  "2024-03-31 00:00:00",
                  "2024",
                  "3",
                  "MLT",
                  "CMR",
                  "1",
                  "Maltese Minitry of Home Affairs, Security and Employment"
                ],
                [
                  "14",
                  "14",
                  "SYR",
                  "2024-07-31 00:00:00",
                  "2024",
                  "7",
                  "MLT",
                  "CMR",
                  "25",
                  "Maltese Minitry of Home Affairs, Security and Employment"
                ],
                [
                  "15",
                  "15",
                  "SYR",
                  "2024-08-31 00:00:00",
                  "2024",
                  "8",
                  "MLT",
                  "CMR",
                  "1",
                  "Maltese Minitry of Home Affairs, Security and Employment"
                ],
                [
                  "21",
                  "21",
                  "SYR",
                  "2024-10-31 00:00:00",
                  "2024",
                  "10",
                  "MLT",
                  "CMR",
                  "5",
                  "Maltese Minitry of Home Affairs, Security and Employment"
                ],
                [
                  "52",
                  "52",
                  "SYR",
                  "2024-01-31 00:00:00",
                  "2024",
                  "1",
                  "ITA",
                  "CMR",
                  "411",
                  "Italian Ministry of the Interior"
                ],
                [
                  "81",
                  "81",
                  "SYR",
                  "2024-02-29 00:00:00",
                  "2024",
                  "2",
                  "ITA",
                  "CMR",
                  "353",
                  "Italian Ministry of the Interior"
                ],
                [
                  "119",
                  "119",
                  "SYR",
                  "2024-03-31 00:00:00",
                  "2024",
                  "3",
                  "ITA",
                  "CMR",
                  "1320",
                  "Italian Ministry of the Interior"
                ],
                [
                  "156",
                  "156",
                  "SYR",
                  "2024-04-30 00:00:00",
                  "2024",
                  "4",
                  "ITA",
                  "CMR",
                  "376",
                  "Italian Ministry of the Interior"
                ],
                [
                  "197",
                  "197",
                  "SYR",
                  "2024-05-31 00:00:00",
                  "2024",
                  "5",
                  "ITA",
                  "CMR",
                  "660",
                  "Italian Ministry of the Interior"
                ],
                [
                  "236",
                  "236",
                  "SYR",
                  "2024-06-30 00:00:00",
                  "2024",
                  "6",
                  "ITA",
                  "CMR",
                  "715",
                  "Italian Ministry of the Interior"
                ],
                [
                  "274",
                  "274",
                  "SYR",
                  "2024-07-31 00:00:00",
                  "2024",
                  "7",
                  "ITA",
                  "CMR",
                  "1619",
                  "Italian Ministry of the Interior"
                ],
                [
                  "318",
                  "318",
                  "SYR",
                  "2024-08-31 00:00:00",
                  "2024",
                  "8",
                  "ITA",
                  "CMR",
                  "1856",
                  "Italian Ministry of the Interior"
                ],
                [
                  "360",
                  "360",
                  "SYR",
                  "2024-09-30 00:00:00",
                  "2024",
                  "9",
                  "ITA",
                  "CMR",
                  "2076",
                  "Italian Ministry of the Interior"
                ],
                [
                  "398",
                  "398",
                  "SYR",
                  "2024-10-31 00:00:00",
                  "2024",
                  "10",
                  "ITA",
                  "CMR",
                  "1173",
                  "Italian Ministry of the Interior"
                ],
                [
                  "440",
                  "440",
                  "SYR",
                  "2024-11-30 00:00:00",
                  "2024",
                  "11",
                  "ITA",
                  "CMR",
                  "1515",
                  "Italian Ministry of the Interior"
                ],
                [
                  "475",
                  "475",
                  "SYR",
                  "2024-12-31 00:00:00",
                  "2024",
                  "12",
                  "ITA",
                  "CMR",
                  "476",
                  "Italian Ministry of the Interior"
                ],
                [
                  "508",
                  "508",
                  "SYR",
                  "2024-01-31 00:00:00",
                  "2024",
                  "1",
                  "GRC",
                  "EMR",
                  "510",
                  "Hellenic Coast Guard, Greek Ministry of Interior"
                ],
                [
                  "540",
                  "540",
                  "SYR",
                  "2024-02-29 00:00:00",
                  "2024",
                  "2",
                  "GRC",
                  "EMR",
                  "645",
                  "Hellenic Coast Guard, Greek Ministry of Interior"
                ],
                [
                  "569",
                  "569",
                  "SYR",
                  "2024-03-31 00:00:00",
                  "2024",
                  "3",
                  "GRC",
                  "EMR",
                  "696",
                  "Hellenic Coast Guard, Greek Ministry of Interior"
                ],
                [
                  "595",
                  "595",
                  "SYR",
                  "2024-04-30 00:00:00",
                  "2024",
                  "4",
                  "GRC",
                  "EMR",
                  "632",
                  "Hellenic Coast Guard, Greek Ministry of Interior"
                ],
                [
                  "628",
                  "628",
                  "SYR",
                  "2024-05-31 00:00:00",
                  "2024",
                  "5",
                  "GRC",
                  "EMR",
                  "1720",
                  "Hellenic Coast Guard, Greek Ministry of Interior"
                ],
                [
                  "658",
                  "658",
                  "SYR",
                  "2024-06-30 00:00:00",
                  "2024",
                  "6",
                  "GRC",
                  "EMR",
                  "1287",
                  "Hellenic Coast Guard, Greek Ministry of Interior"
                ],
                [
                  "693",
                  "693",
                  "SYR",
                  "2024-07-31 00:00:00",
                  "2024",
                  "7",
                  "GRC",
                  "EMR",
                  "2522",
                  "Hellenic Coast Guard, Greek Ministry of Interior"
                ],
                [
                  "727",
                  "727",
                  "SYR",
                  "2024-08-31 00:00:00",
                  "2024",
                  "8",
                  "GRC",
                  "EMR",
                  "3366",
                  "Hellenic Coast Guard, Greek Ministry of Interior"
                ],
                [
                  "764",
                  "764",
                  "SYR",
                  "2024-09-30 00:00:00",
                  "2024",
                  "9",
                  "GRC",
                  "EMR",
                  "4097",
                  "Hellenic Coast Guard, Greek Ministry of Interior"
                ],
                [
                  "797",
                  "797",
                  "SYR",
                  "2024-10-31 00:00:00",
                  "2024",
                  "10",
                  "GRC",
                  "EMR",
                  "2998",
                  "Hellenic Coast Guard, Greek Ministry of Interior"
                ],
                [
                  "839",
                  "839",
                  "SYR",
                  "2024-11-30 00:00:00",
                  "2024",
                  "11",
                  "GRC",
                  "EMR",
                  "2201",
                  "Hellenic Coast Guard, Greek Ministry of Interior"
                ],
                [
                  "876",
                  "876",
                  "SYR",
                  "2024-12-31 00:00:00",
                  "2024",
                  "12",
                  "GRC",
                  "EMR",
                  "604",
                  "Hellenic Coast Guard, Greek Ministry of Interior"
                ],
                [
                  "918",
                  "918",
                  "SYR",
                  "2024-01-31 00:00:00",
                  "2024",
                  "1",
                  "ESP",
                  "WMR",
                  "7",
                  "European Border and Coast Guard Agency"
                ],
                [
                  "958",
                  "958",
                  "SYR",
                  "2024-02-29 00:00:00",
                  "2024",
                  "2",
                  "ESP",
                  "WMR",
                  "15",
                  "European Border and Coast Guard Agency"
                ],
                [
                  "994",
                  "994",
                  "SYR",
                  "2024-03-31 00:00:00",
                  "2024",
                  "3",
                  "ESP",
                  "WMR",
                  "21",
                  "European Border and Coast Guard Agency"
                ],
                [
                  "1034",
                  "1034",
                  "SYR",
                  "2024-04-30 00:00:00",
                  "2024",
                  "4",
                  "ESP",
                  "WAAR",
                  "1",
                  "European Border and Coast Guard Agency"
                ],
                [
                  "1035",
                  "1035",
                  "SYR",
                  "2024-04-30 00:00:00",
                  "2024",
                  "4",
                  "ESP",
                  "WMR",
                  "21",
                  "European Border and Coast Guard Agency"
                ],
                [
                  "1078",
                  "1078",
                  "SYR",
                  "2024-05-31 00:00:00",
                  "2024",
                  "5",
                  "ESP",
                  "WMR",
                  "16",
                  "European Border and Coast Guard Agency"
                ],
                [
                  "1119",
                  "1119",
                  "SYR",
                  "2024-06-30 00:00:00",
                  "2024",
                  "6",
                  "ESP",
                  "WMR",
                  "24",
                  "European Border and Coast Guard Agency"
                ],
                [
                  "1164",
                  "1164",
                  "SYR",
                  "2024-07-31 00:00:00",
                  "2024",
                  "7",
                  "ESP",
                  "WAAR",
                  "7",
                  "European Border and Coast Guard Agency"
                ],
                [
                  "1165",
                  "1165",
                  "SYR",
                  "2024-07-31 00:00:00",
                  "2024",
                  "7",
                  "ESP",
                  "WMR",
                  "14",
                  "European Border and Coast Guard Agency"
                ],
                [
                  "1205",
                  "1205",
                  "SYR",
                  "2024-08-31 00:00:00",
                  "2024",
                  "8",
                  "ESP",
                  "WAAR",
                  "2",
                  "European Border and Coast Guard Agency"
                ],
                [
                  "1206",
                  "1206",
                  "SYR",
                  "2024-08-31 00:00:00",
                  "2024",
                  "8",
                  "ESP",
                  "WMR",
                  "36",
                  "European Border and Coast Guard Agency"
                ],
                [
                  "1253",
                  "1253",
                  "SYR",
                  "2024-09-30 00:00:00",
                  "2024",
                  "9",
                  "ESP",
                  "WAAR",
                  "3",
                  "European Border and Coast Guard Agency"
                ],
                [
                  "1254",
                  "1254",
                  "SYR",
                  "2024-09-30 00:00:00",
                  "2024",
                  "9",
                  "ESP",
                  "WMR",
                  "16",
                  "European Border and Coast Guard Agency"
                ],
                [
                  "1301",
                  "1301",
                  "SYR",
                  "2024-10-31 00:00:00",
                  "2024",
                  "10",
                  "ESP",
                  "WMR",
                  "28",
                  "European Border and Coast Guard Agency"
                ],
                [
                  "1351",
                  "1351",
                  "SYR",
                  "2024-11-30 00:00:00",
                  "2024",
                  "11",
                  "ESP",
                  "WAAR",
                  "1",
                  "European Border and Coast Guard Agency"
                ],
                [
                  "1352",
                  "1352",
                  "SYR",
                  "2024-11-30 00:00:00",
                  "2024",
                  "11",
                  "ESP",
                  "WMR",
                  "26",
                  "European Border and Coast Guard Agency"
                ],
                [
                  "1400",
                  "1400",
                  "SYR",
                  "2024-12-31 00:00:00",
                  "2024",
                  "12",
                  "ESP",
                  "WMR",
                  "39",
                  "European Border and Coast Guard Agency"
                ],
                [
                  "1423",
                  "1423",
                  "SYR",
                  "2024-01-31 00:00:00",
                  "2024",
                  "1",
                  "CYP",
                  "EMR",
                  "820",
                  "Cypriot Deputy Ministry of Migration and International Protection "
                ],
                [
                  "1443",
                  "1443",
                  "SYR",
                  "2024-02-29 00:00:00",
                  "2024",
                  "2",
                  "CYP",
                  "EMR",
                  "585",
                  "Cypriot Deputy Ministry of Migration and International Protection "
                ],
                [
                  "1460",
                  "1460",
                  "SYR",
                  "2024-03-31 00:00:00",
                  "2024",
                  "3",
                  "CYP",
                  "EMR",
                  "960",
                  "Cypriot Deputy Ministry of Migration and International Protection "
                ]
              ],
              "shape": {
                "columns": 9,
                "rows": 71
              }
            },
            "text/html": [
              "<div>\n",
              "<style scoped>\n",
              "    .dataframe tbody tr th:only-of-type {\n",
              "        vertical-align: middle;\n",
              "    }\n",
              "\n",
              "    .dataframe tbody tr th {\n",
              "        vertical-align: top;\n",
              "    }\n",
              "\n",
              "    .dataframe thead th {\n",
              "        text-align: right;\n",
              "    }\n",
              "</style>\n",
              "<table border=\"1\" class=\"dataframe\">\n",
              "  <thead>\n",
              "    <tr style=\"text-align: right;\">\n",
              "      <th></th>\n",
              "      <th>index</th>\n",
              "      <th>ISO3 - Country of origin</th>\n",
              "      <th>Date</th>\n",
              "      <th>Year</th>\n",
              "      <th>Month</th>\n",
              "      <th>ISO3 - Country of arrival</th>\n",
              "      <th>Route</th>\n",
              "      <th>Arrivals</th>\n",
              "      <th>Source</th>\n",
              "    </tr>\n",
              "  </thead>\n",
              "  <tbody>\n",
              "    <tr>\n",
              "      <th>4</th>\n",
              "      <td>4</td>\n",
              "      <td>SYR</td>\n",
              "      <td>2024-01-31</td>\n",
              "      <td>2024</td>\n",
              "      <td>1</td>\n",
              "      <td>MLT</td>\n",
              "      <td>CMR</td>\n",
              "      <td>4</td>\n",
              "      <td>Maltese Minitry of Home Affairs, Security and ...</td>\n",
              "    </tr>\n",
              "    <tr>\n",
              "      <th>10</th>\n",
              "      <td>10</td>\n",
              "      <td>SYR</td>\n",
              "      <td>2024-02-29</td>\n",
              "      <td>2024</td>\n",
              "      <td>2</td>\n",
              "      <td>MLT</td>\n",
              "      <td>CMR</td>\n",
              "      <td>11</td>\n",
              "      <td>Maltese Minitry of Home Affairs, Security and ...</td>\n",
              "    </tr>\n",
              "    <tr>\n",
              "      <th>11</th>\n",
              "      <td>11</td>\n",
              "      <td>SYR</td>\n",
              "      <td>2024-03-31</td>\n",
              "      <td>2024</td>\n",
              "      <td>3</td>\n",
              "      <td>MLT</td>\n",
              "      <td>CMR</td>\n",
              "      <td>1</td>\n",
              "      <td>Maltese Minitry of Home Affairs, Security and ...</td>\n",
              "    </tr>\n",
              "    <tr>\n",
              "      <th>14</th>\n",
              "      <td>14</td>\n",
              "      <td>SYR</td>\n",
              "      <td>2024-07-31</td>\n",
              "      <td>2024</td>\n",
              "      <td>7</td>\n",
              "      <td>MLT</td>\n",
              "      <td>CMR</td>\n",
              "      <td>25</td>\n",
              "      <td>Maltese Minitry of Home Affairs, Security and ...</td>\n",
              "    </tr>\n",
              "    <tr>\n",
              "      <th>15</th>\n",
              "      <td>15</td>\n",
              "      <td>SYR</td>\n",
              "      <td>2024-08-31</td>\n",
              "      <td>2024</td>\n",
              "      <td>8</td>\n",
              "      <td>MLT</td>\n",
              "      <td>CMR</td>\n",
              "      <td>1</td>\n",
              "      <td>Maltese Minitry of Home Affairs, Security and ...</td>\n",
              "    </tr>\n",
              "    <tr>\n",
              "      <th>...</th>\n",
              "      <td>...</td>\n",
              "      <td>...</td>\n",
              "      <td>...</td>\n",
              "      <td>...</td>\n",
              "      <td>...</td>\n",
              "      <td>...</td>\n",
              "      <td>...</td>\n",
              "      <td>...</td>\n",
              "      <td>...</td>\n",
              "    </tr>\n",
              "    <tr>\n",
              "      <th>1664</th>\n",
              "      <td>1664</td>\n",
              "      <td>SYR</td>\n",
              "      <td>2024-08-31</td>\n",
              "      <td>2024</td>\n",
              "      <td>8</td>\n",
              "      <td>BGR</td>\n",
              "      <td>EMR</td>\n",
              "      <td>1154</td>\n",
              "      <td>Bulgarian Ministry of Interior</td>\n",
              "    </tr>\n",
              "    <tr>\n",
              "      <th>1670</th>\n",
              "      <td>1670</td>\n",
              "      <td>SYR</td>\n",
              "      <td>2024-09-30</td>\n",
              "      <td>2024</td>\n",
              "      <td>9</td>\n",
              "      <td>BGR</td>\n",
              "      <td>EMR</td>\n",
              "      <td>762</td>\n",
              "      <td>Bulgarian Ministry of Interior</td>\n",
              "    </tr>\n",
              "    <tr>\n",
              "      <th>1676</th>\n",
              "      <td>1676</td>\n",
              "      <td>SYR</td>\n",
              "      <td>2024-10-31</td>\n",
              "      <td>2024</td>\n",
              "      <td>10</td>\n",
              "      <td>BGR</td>\n",
              "      <td>EMR</td>\n",
              "      <td>365</td>\n",
              "      <td>Bulgarian Ministry of Interior</td>\n",
              "    </tr>\n",
              "    <tr>\n",
              "      <th>1682</th>\n",
              "      <td>1682</td>\n",
              "      <td>SYR</td>\n",
              "      <td>2024-11-30</td>\n",
              "      <td>2024</td>\n",
              "      <td>11</td>\n",
              "      <td>BGR</td>\n",
              "      <td>EMR</td>\n",
              "      <td>263</td>\n",
              "      <td>Bulgarian Ministry of Interior</td>\n",
              "    </tr>\n",
              "    <tr>\n",
              "      <th>1688</th>\n",
              "      <td>1688</td>\n",
              "      <td>SYR</td>\n",
              "      <td>2024-12-31</td>\n",
              "      <td>2024</td>\n",
              "      <td>12</td>\n",
              "      <td>BGR</td>\n",
              "      <td>EMR</td>\n",
              "      <td>61</td>\n",
              "      <td>Bulgarian Ministry of Interior</td>\n",
              "    </tr>\n",
              "  </tbody>\n",
              "</table>\n",
              "<p>71 rows × 9 columns</p>\n",
              "</div>"
            ],
            "text/plain": [
              "      index ISO3 - Country of origin       Date  Year  Month  \\\n",
              "4         4                      SYR 2024-01-31  2024      1   \n",
              "10       10                      SYR 2024-02-29  2024      2   \n",
              "11       11                      SYR 2024-03-31  2024      3   \n",
              "14       14                      SYR 2024-07-31  2024      7   \n",
              "15       15                      SYR 2024-08-31  2024      8   \n",
              "...     ...                      ...        ...   ...    ...   \n",
              "1664   1664                      SYR 2024-08-31  2024      8   \n",
              "1670   1670                      SYR 2024-09-30  2024      9   \n",
              "1676   1676                      SYR 2024-10-31  2024     10   \n",
              "1682   1682                      SYR 2024-11-30  2024     11   \n",
              "1688   1688                      SYR 2024-12-31  2024     12   \n",
              "\n",
              "     ISO3 - Country of arrival Route  Arrivals  \\\n",
              "4                          MLT   CMR         4   \n",
              "10                         MLT   CMR        11   \n",
              "11                         MLT   CMR         1   \n",
              "14                         MLT   CMR        25   \n",
              "15                         MLT   CMR         1   \n",
              "...                        ...   ...       ...   \n",
              "1664                       BGR   EMR      1154   \n",
              "1670                       BGR   EMR       762   \n",
              "1676                       BGR   EMR       365   \n",
              "1682                       BGR   EMR       263   \n",
              "1688                       BGR   EMR        61   \n",
              "\n",
              "                                                 Source  \n",
              "4     Maltese Minitry of Home Affairs, Security and ...  \n",
              "10    Maltese Minitry of Home Affairs, Security and ...  \n",
              "11    Maltese Minitry of Home Affairs, Security and ...  \n",
              "14    Maltese Minitry of Home Affairs, Security and ...  \n",
              "15    Maltese Minitry of Home Affairs, Security and ...  \n",
              "...                                                 ...  \n",
              "1664                     Bulgarian Ministry of Interior  \n",
              "1670                     Bulgarian Ministry of Interior  \n",
              "1676                     Bulgarian Ministry of Interior  \n",
              "1682                     Bulgarian Ministry of Interior  \n",
              "1688                     Bulgarian Ministry of Interior  \n",
              "\n",
              "[71 rows x 9 columns]"
            ]
          },
          "execution_count": 78,
          "metadata": {},
          "output_type": "execute_result"
        }
      ],
      "source": [
        "# Filtrar filas donde el Country of origin es 'SYR'\n",
        "df_excel[df_excel['ISO3 - Country of origin'] == 'SYR']"
      ]
    },
    {
      "cell_type": "code",
      "execution_count": 79,
      "metadata": {},
      "outputs": [
        {
          "data": {
            "application/vnd.microsoft.datawrangler.viewer.v0+json": {
              "columns": [
                {
                  "name": "index",
                  "rawType": "int64",
                  "type": "integer"
                },
                {
                  "name": "index",
                  "rawType": "int64",
                  "type": "integer"
                },
                {
                  "name": "ISO3 - Country of origin",
                  "rawType": "object",
                  "type": "string"
                },
                {
                  "name": "Date",
                  "rawType": "datetime64[ns]",
                  "type": "datetime"
                },
                {
                  "name": "Year",
                  "rawType": "int64",
                  "type": "integer"
                },
                {
                  "name": "Month",
                  "rawType": "int64",
                  "type": "integer"
                },
                {
                  "name": "ISO3 - Country of arrival",
                  "rawType": "object",
                  "type": "string"
                },
                {
                  "name": "Route",
                  "rawType": "object",
                  "type": "string"
                },
                {
                  "name": "Arrivals",
                  "rawType": "int64",
                  "type": "integer"
                },
                {
                  "name": "Source",
                  "rawType": "object",
                  "type": "string"
                }
              ],
              "ref": "a32a1d61-dd87-4875-88b3-58fb8508fc63",
              "rows": [
                [
                  "508",
                  "508",
                  "SYR",
                  "2024-01-31 00:00:00",
                  "2024",
                  "1",
                  "GRC",
                  "EMR",
                  "510",
                  "Hellenic Coast Guard, Greek Ministry of Interior"
                ],
                [
                  "540",
                  "540",
                  "SYR",
                  "2024-02-29 00:00:00",
                  "2024",
                  "2",
                  "GRC",
                  "EMR",
                  "645",
                  "Hellenic Coast Guard, Greek Ministry of Interior"
                ],
                [
                  "569",
                  "569",
                  "SYR",
                  "2024-03-31 00:00:00",
                  "2024",
                  "3",
                  "GRC",
                  "EMR",
                  "696",
                  "Hellenic Coast Guard, Greek Ministry of Interior"
                ],
                [
                  "595",
                  "595",
                  "SYR",
                  "2024-04-30 00:00:00",
                  "2024",
                  "4",
                  "GRC",
                  "EMR",
                  "632",
                  "Hellenic Coast Guard, Greek Ministry of Interior"
                ],
                [
                  "628",
                  "628",
                  "SYR",
                  "2024-05-31 00:00:00",
                  "2024",
                  "5",
                  "GRC",
                  "EMR",
                  "1720",
                  "Hellenic Coast Guard, Greek Ministry of Interior"
                ],
                [
                  "658",
                  "658",
                  "SYR",
                  "2024-06-30 00:00:00",
                  "2024",
                  "6",
                  "GRC",
                  "EMR",
                  "1287",
                  "Hellenic Coast Guard, Greek Ministry of Interior"
                ],
                [
                  "693",
                  "693",
                  "SYR",
                  "2024-07-31 00:00:00",
                  "2024",
                  "7",
                  "GRC",
                  "EMR",
                  "2522",
                  "Hellenic Coast Guard, Greek Ministry of Interior"
                ],
                [
                  "727",
                  "727",
                  "SYR",
                  "2024-08-31 00:00:00",
                  "2024",
                  "8",
                  "GRC",
                  "EMR",
                  "3366",
                  "Hellenic Coast Guard, Greek Ministry of Interior"
                ],
                [
                  "764",
                  "764",
                  "SYR",
                  "2024-09-30 00:00:00",
                  "2024",
                  "9",
                  "GRC",
                  "EMR",
                  "4097",
                  "Hellenic Coast Guard, Greek Ministry of Interior"
                ],
                [
                  "797",
                  "797",
                  "SYR",
                  "2024-10-31 00:00:00",
                  "2024",
                  "10",
                  "GRC",
                  "EMR",
                  "2998",
                  "Hellenic Coast Guard, Greek Ministry of Interior"
                ],
                [
                  "839",
                  "839",
                  "SYR",
                  "2024-11-30 00:00:00",
                  "2024",
                  "11",
                  "GRC",
                  "EMR",
                  "2201",
                  "Hellenic Coast Guard, Greek Ministry of Interior"
                ],
                [
                  "876",
                  "876",
                  "SYR",
                  "2024-12-31 00:00:00",
                  "2024",
                  "12",
                  "GRC",
                  "EMR",
                  "604",
                  "Hellenic Coast Guard, Greek Ministry of Interior"
                ]
              ],
              "shape": {
                "columns": 9,
                "rows": 12
              }
            },
            "text/html": [
              "<div>\n",
              "<style scoped>\n",
              "    .dataframe tbody tr th:only-of-type {\n",
              "        vertical-align: middle;\n",
              "    }\n",
              "\n",
              "    .dataframe tbody tr th {\n",
              "        vertical-align: top;\n",
              "    }\n",
              "\n",
              "    .dataframe thead th {\n",
              "        text-align: right;\n",
              "    }\n",
              "</style>\n",
              "<table border=\"1\" class=\"dataframe\">\n",
              "  <thead>\n",
              "    <tr style=\"text-align: right;\">\n",
              "      <th></th>\n",
              "      <th>index</th>\n",
              "      <th>ISO3 - Country of origin</th>\n",
              "      <th>Date</th>\n",
              "      <th>Year</th>\n",
              "      <th>Month</th>\n",
              "      <th>ISO3 - Country of arrival</th>\n",
              "      <th>Route</th>\n",
              "      <th>Arrivals</th>\n",
              "      <th>Source</th>\n",
              "    </tr>\n",
              "  </thead>\n",
              "  <tbody>\n",
              "    <tr>\n",
              "      <th>508</th>\n",
              "      <td>508</td>\n",
              "      <td>SYR</td>\n",
              "      <td>2024-01-31</td>\n",
              "      <td>2024</td>\n",
              "      <td>1</td>\n",
              "      <td>GRC</td>\n",
              "      <td>EMR</td>\n",
              "      <td>510</td>\n",
              "      <td>Hellenic Coast Guard, Greek Ministry of Interior</td>\n",
              "    </tr>\n",
              "    <tr>\n",
              "      <th>540</th>\n",
              "      <td>540</td>\n",
              "      <td>SYR</td>\n",
              "      <td>2024-02-29</td>\n",
              "      <td>2024</td>\n",
              "      <td>2</td>\n",
              "      <td>GRC</td>\n",
              "      <td>EMR</td>\n",
              "      <td>645</td>\n",
              "      <td>Hellenic Coast Guard, Greek Ministry of Interior</td>\n",
              "    </tr>\n",
              "    <tr>\n",
              "      <th>569</th>\n",
              "      <td>569</td>\n",
              "      <td>SYR</td>\n",
              "      <td>2024-03-31</td>\n",
              "      <td>2024</td>\n",
              "      <td>3</td>\n",
              "      <td>GRC</td>\n",
              "      <td>EMR</td>\n",
              "      <td>696</td>\n",
              "      <td>Hellenic Coast Guard, Greek Ministry of Interior</td>\n",
              "    </tr>\n",
              "    <tr>\n",
              "      <th>595</th>\n",
              "      <td>595</td>\n",
              "      <td>SYR</td>\n",
              "      <td>2024-04-30</td>\n",
              "      <td>2024</td>\n",
              "      <td>4</td>\n",
              "      <td>GRC</td>\n",
              "      <td>EMR</td>\n",
              "      <td>632</td>\n",
              "      <td>Hellenic Coast Guard, Greek Ministry of Interior</td>\n",
              "    </tr>\n",
              "    <tr>\n",
              "      <th>628</th>\n",
              "      <td>628</td>\n",
              "      <td>SYR</td>\n",
              "      <td>2024-05-31</td>\n",
              "      <td>2024</td>\n",
              "      <td>5</td>\n",
              "      <td>GRC</td>\n",
              "      <td>EMR</td>\n",
              "      <td>1720</td>\n",
              "      <td>Hellenic Coast Guard, Greek Ministry of Interior</td>\n",
              "    </tr>\n",
              "    <tr>\n",
              "      <th>658</th>\n",
              "      <td>658</td>\n",
              "      <td>SYR</td>\n",
              "      <td>2024-06-30</td>\n",
              "      <td>2024</td>\n",
              "      <td>6</td>\n",
              "      <td>GRC</td>\n",
              "      <td>EMR</td>\n",
              "      <td>1287</td>\n",
              "      <td>Hellenic Coast Guard, Greek Ministry of Interior</td>\n",
              "    </tr>\n",
              "    <tr>\n",
              "      <th>693</th>\n",
              "      <td>693</td>\n",
              "      <td>SYR</td>\n",
              "      <td>2024-07-31</td>\n",
              "      <td>2024</td>\n",
              "      <td>7</td>\n",
              "      <td>GRC</td>\n",
              "      <td>EMR</td>\n",
              "      <td>2522</td>\n",
              "      <td>Hellenic Coast Guard, Greek Ministry of Interior</td>\n",
              "    </tr>\n",
              "    <tr>\n",
              "      <th>727</th>\n",
              "      <td>727</td>\n",
              "      <td>SYR</td>\n",
              "      <td>2024-08-31</td>\n",
              "      <td>2024</td>\n",
              "      <td>8</td>\n",
              "      <td>GRC</td>\n",
              "      <td>EMR</td>\n",
              "      <td>3366</td>\n",
              "      <td>Hellenic Coast Guard, Greek Ministry of Interior</td>\n",
              "    </tr>\n",
              "    <tr>\n",
              "      <th>764</th>\n",
              "      <td>764</td>\n",
              "      <td>SYR</td>\n",
              "      <td>2024-09-30</td>\n",
              "      <td>2024</td>\n",
              "      <td>9</td>\n",
              "      <td>GRC</td>\n",
              "      <td>EMR</td>\n",
              "      <td>4097</td>\n",
              "      <td>Hellenic Coast Guard, Greek Ministry of Interior</td>\n",
              "    </tr>\n",
              "    <tr>\n",
              "      <th>797</th>\n",
              "      <td>797</td>\n",
              "      <td>SYR</td>\n",
              "      <td>2024-10-31</td>\n",
              "      <td>2024</td>\n",
              "      <td>10</td>\n",
              "      <td>GRC</td>\n",
              "      <td>EMR</td>\n",
              "      <td>2998</td>\n",
              "      <td>Hellenic Coast Guard, Greek Ministry of Interior</td>\n",
              "    </tr>\n",
              "    <tr>\n",
              "      <th>839</th>\n",
              "      <td>839</td>\n",
              "      <td>SYR</td>\n",
              "      <td>2024-11-30</td>\n",
              "      <td>2024</td>\n",
              "      <td>11</td>\n",
              "      <td>GRC</td>\n",
              "      <td>EMR</td>\n",
              "      <td>2201</td>\n",
              "      <td>Hellenic Coast Guard, Greek Ministry of Interior</td>\n",
              "    </tr>\n",
              "    <tr>\n",
              "      <th>876</th>\n",
              "      <td>876</td>\n",
              "      <td>SYR</td>\n",
              "      <td>2024-12-31</td>\n",
              "      <td>2024</td>\n",
              "      <td>12</td>\n",
              "      <td>GRC</td>\n",
              "      <td>EMR</td>\n",
              "      <td>604</td>\n",
              "      <td>Hellenic Coast Guard, Greek Ministry of Interior</td>\n",
              "    </tr>\n",
              "  </tbody>\n",
              "</table>\n",
              "</div>"
            ],
            "text/plain": [
              "     index ISO3 - Country of origin       Date  Year  Month  \\\n",
              "508    508                      SYR 2024-01-31  2024      1   \n",
              "540    540                      SYR 2024-02-29  2024      2   \n",
              "569    569                      SYR 2024-03-31  2024      3   \n",
              "595    595                      SYR 2024-04-30  2024      4   \n",
              "628    628                      SYR 2024-05-31  2024      5   \n",
              "658    658                      SYR 2024-06-30  2024      6   \n",
              "693    693                      SYR 2024-07-31  2024      7   \n",
              "727    727                      SYR 2024-08-31  2024      8   \n",
              "764    764                      SYR 2024-09-30  2024      9   \n",
              "797    797                      SYR 2024-10-31  2024     10   \n",
              "839    839                      SYR 2024-11-30  2024     11   \n",
              "876    876                      SYR 2024-12-31  2024     12   \n",
              "\n",
              "    ISO3 - Country of arrival Route  Arrivals  \\\n",
              "508                       GRC   EMR       510   \n",
              "540                       GRC   EMR       645   \n",
              "569                       GRC   EMR       696   \n",
              "595                       GRC   EMR       632   \n",
              "628                       GRC   EMR      1720   \n",
              "658                       GRC   EMR      1287   \n",
              "693                       GRC   EMR      2522   \n",
              "727                       GRC   EMR      3366   \n",
              "764                       GRC   EMR      4097   \n",
              "797                       GRC   EMR      2998   \n",
              "839                       GRC   EMR      2201   \n",
              "876                       GRC   EMR       604   \n",
              "\n",
              "                                               Source  \n",
              "508  Hellenic Coast Guard, Greek Ministry of Interior  \n",
              "540  Hellenic Coast Guard, Greek Ministry of Interior  \n",
              "569  Hellenic Coast Guard, Greek Ministry of Interior  \n",
              "595  Hellenic Coast Guard, Greek Ministry of Interior  \n",
              "628  Hellenic Coast Guard, Greek Ministry of Interior  \n",
              "658  Hellenic Coast Guard, Greek Ministry of Interior  \n",
              "693  Hellenic Coast Guard, Greek Ministry of Interior  \n",
              "727  Hellenic Coast Guard, Greek Ministry of Interior  \n",
              "764  Hellenic Coast Guard, Greek Ministry of Interior  \n",
              "797  Hellenic Coast Guard, Greek Ministry of Interior  \n",
              "839  Hellenic Coast Guard, Greek Ministry of Interior  \n",
              "876  Hellenic Coast Guard, Greek Ministry of Interior  "
            ]
          },
          "execution_count": 79,
          "metadata": {},
          "output_type": "execute_result"
        }
      ],
      "source": [
        "# Filtrar por varias condiciones: Country of origin es 'SYR' y Country of first arrival es 'GRC'\n",
        "df_excel[(df_excel['ISO3 - Country of origin'] == 'SYR') & (df_excel['ISO3 - Country of arrival'] == 'GRC')]"
      ]
    },
    {
      "cell_type": "markdown",
      "metadata": {},
      "source": [
        "## 📌 Ordenar y seleccionar datos"
      ]
    },
    {
      "cell_type": "code",
      "execution_count": 80,
      "metadata": {},
      "outputs": [
        {
          "data": {
            "application/vnd.microsoft.datawrangler.viewer.v0+json": {
              "columns": [
                {
                  "name": "index",
                  "rawType": "int64",
                  "type": "integer"
                },
                {
                  "name": "index",
                  "rawType": "int64",
                  "type": "integer"
                },
                {
                  "name": "ISO3 - Country of origin",
                  "rawType": "object",
                  "type": "string"
                },
                {
                  "name": "Date",
                  "rawType": "datetime64[ns]",
                  "type": "datetime"
                },
                {
                  "name": "Year",
                  "rawType": "int64",
                  "type": "integer"
                },
                {
                  "name": "Month",
                  "rawType": "int64",
                  "type": "integer"
                },
                {
                  "name": "ISO3 - Country of arrival",
                  "rawType": "object",
                  "type": "string"
                },
                {
                  "name": "Route",
                  "rawType": "object",
                  "type": "string"
                },
                {
                  "name": "Arrivals",
                  "rawType": "int64",
                  "type": "integer"
                },
                {
                  "name": "Source",
                  "rawType": "object",
                  "type": "string"
                }
              ],
              "ref": "12e20c48-11b7-4541-b1b3-075f5724f431",
              "rows": [
                [
                  "0",
                  "0",
                  "BGD",
                  "2024-01-31 00:00:00",
                  "2024",
                  "1",
                  "MLT",
                  "CMR",
                  "7",
                  "Maltese Minitry of Home Affairs, Security and Employment"
                ],
                [
                  "499",
                  "499",
                  "MAR",
                  "2024-01-31 00:00:00",
                  "2024",
                  "1",
                  "GRC",
                  "EMR",
                  "2",
                  "Hellenic Coast Guard, Greek Ministry of Interior"
                ],
                [
                  "500",
                  "500",
                  "MLI",
                  "2024-01-31 00:00:00",
                  "2024",
                  "1",
                  "GRC",
                  "EMR",
                  "2",
                  "Hellenic Coast Guard, Greek Ministry of Interior"
                ],
                [
                  "501",
                  "501",
                  "NGA",
                  "2024-01-31 00:00:00",
                  "2024",
                  "1",
                  "GRC",
                  "EMR",
                  "4",
                  "Hellenic Coast Guard, Greek Ministry of Interior"
                ],
                [
                  "502",
                  "502",
                  "OOO",
                  "2024-01-31 00:00:00",
                  "2024",
                  "1",
                  "GRC",
                  "EMR",
                  "16",
                  "Hellenic Coast Guard, Greek Ministry of Interior"
                ]
              ],
              "shape": {
                "columns": 9,
                "rows": 5
              }
            },
            "text/html": [
              "<div>\n",
              "<style scoped>\n",
              "    .dataframe tbody tr th:only-of-type {\n",
              "        vertical-align: middle;\n",
              "    }\n",
              "\n",
              "    .dataframe tbody tr th {\n",
              "        vertical-align: top;\n",
              "    }\n",
              "\n",
              "    .dataframe thead th {\n",
              "        text-align: right;\n",
              "    }\n",
              "</style>\n",
              "<table border=\"1\" class=\"dataframe\">\n",
              "  <thead>\n",
              "    <tr style=\"text-align: right;\">\n",
              "      <th></th>\n",
              "      <th>index</th>\n",
              "      <th>ISO3 - Country of origin</th>\n",
              "      <th>Date</th>\n",
              "      <th>Year</th>\n",
              "      <th>Month</th>\n",
              "      <th>ISO3 - Country of arrival</th>\n",
              "      <th>Route</th>\n",
              "      <th>Arrivals</th>\n",
              "      <th>Source</th>\n",
              "    </tr>\n",
              "  </thead>\n",
              "  <tbody>\n",
              "    <tr>\n",
              "      <th>0</th>\n",
              "      <td>0</td>\n",
              "      <td>BGD</td>\n",
              "      <td>2024-01-31</td>\n",
              "      <td>2024</td>\n",
              "      <td>1</td>\n",
              "      <td>MLT</td>\n",
              "      <td>CMR</td>\n",
              "      <td>7</td>\n",
              "      <td>Maltese Minitry of Home Affairs, Security and ...</td>\n",
              "    </tr>\n",
              "    <tr>\n",
              "      <th>499</th>\n",
              "      <td>499</td>\n",
              "      <td>MAR</td>\n",
              "      <td>2024-01-31</td>\n",
              "      <td>2024</td>\n",
              "      <td>1</td>\n",
              "      <td>GRC</td>\n",
              "      <td>EMR</td>\n",
              "      <td>2</td>\n",
              "      <td>Hellenic Coast Guard, Greek Ministry of Interior</td>\n",
              "    </tr>\n",
              "    <tr>\n",
              "      <th>500</th>\n",
              "      <td>500</td>\n",
              "      <td>MLI</td>\n",
              "      <td>2024-01-31</td>\n",
              "      <td>2024</td>\n",
              "      <td>1</td>\n",
              "      <td>GRC</td>\n",
              "      <td>EMR</td>\n",
              "      <td>2</td>\n",
              "      <td>Hellenic Coast Guard, Greek Ministry of Interior</td>\n",
              "    </tr>\n",
              "    <tr>\n",
              "      <th>501</th>\n",
              "      <td>501</td>\n",
              "      <td>NGA</td>\n",
              "      <td>2024-01-31</td>\n",
              "      <td>2024</td>\n",
              "      <td>1</td>\n",
              "      <td>GRC</td>\n",
              "      <td>EMR</td>\n",
              "      <td>4</td>\n",
              "      <td>Hellenic Coast Guard, Greek Ministry of Interior</td>\n",
              "    </tr>\n",
              "    <tr>\n",
              "      <th>502</th>\n",
              "      <td>502</td>\n",
              "      <td>OOO</td>\n",
              "      <td>2024-01-31</td>\n",
              "      <td>2024</td>\n",
              "      <td>1</td>\n",
              "      <td>GRC</td>\n",
              "      <td>EMR</td>\n",
              "      <td>16</td>\n",
              "      <td>Hellenic Coast Guard, Greek Ministry of Interior</td>\n",
              "    </tr>\n",
              "  </tbody>\n",
              "</table>\n",
              "</div>"
            ],
            "text/plain": [
              "     index ISO3 - Country of origin       Date  Year  Month  \\\n",
              "0        0                      BGD 2024-01-31  2024      1   \n",
              "499    499                      MAR 2024-01-31  2024      1   \n",
              "500    500                      MLI 2024-01-31  2024      1   \n",
              "501    501                      NGA 2024-01-31  2024      1   \n",
              "502    502                      OOO 2024-01-31  2024      1   \n",
              "\n",
              "    ISO3 - Country of arrival Route  Arrivals  \\\n",
              "0                         MLT   CMR         7   \n",
              "499                       GRC   EMR         2   \n",
              "500                       GRC   EMR         2   \n",
              "501                       GRC   EMR         4   \n",
              "502                       GRC   EMR        16   \n",
              "\n",
              "                                                Source  \n",
              "0    Maltese Minitry of Home Affairs, Security and ...  \n",
              "499   Hellenic Coast Guard, Greek Ministry of Interior  \n",
              "500   Hellenic Coast Guard, Greek Ministry of Interior  \n",
              "501   Hellenic Coast Guard, Greek Ministry of Interior  \n",
              "502   Hellenic Coast Guard, Greek Ministry of Interior  "
            ]
          },
          "execution_count": 80,
          "metadata": {},
          "output_type": "execute_result"
        }
      ],
      "source": [
        "\n",
        "df_excel.sort_values(by='Date', ascending=True).head()  # Ordenar por la columna 'Date' en orden ascendente"
      ]
    },
    {
      "cell_type": "code",
      "execution_count": 81,
      "metadata": {},
      "outputs": [
        {
          "data": {
            "application/vnd.microsoft.datawrangler.viewer.v0+json": {
              "columns": [
                {
                  "name": "index",
                  "rawType": "int64",
                  "type": "integer"
                },
                {
                  "name": "index",
                  "rawType": "int64",
                  "type": "integer"
                },
                {
                  "name": "ISO3 - Country of origin",
                  "rawType": "object",
                  "type": "string"
                },
                {
                  "name": "Date",
                  "rawType": "datetime64[ns]",
                  "type": "datetime"
                },
                {
                  "name": "Year",
                  "rawType": "int64",
                  "type": "integer"
                },
                {
                  "name": "Month",
                  "rawType": "int64",
                  "type": "integer"
                },
                {
                  "name": "ISO3 - Country of arrival",
                  "rawType": "object",
                  "type": "string"
                },
                {
                  "name": "Route",
                  "rawType": "object",
                  "type": "string"
                },
                {
                  "name": "Arrivals",
                  "rawType": "int64",
                  "type": "integer"
                },
                {
                  "name": "Source",
                  "rawType": "object",
                  "type": "string"
                }
              ],
              "ref": "fb42d3fe-c238-47b0-82fd-4187fab72d81",
              "rows": [
                [
                  "1688",
                  "1688",
                  "SYR",
                  "2024-12-31 00:00:00",
                  "2024",
                  "12",
                  "BGR",
                  "EMR",
                  "61",
                  "Bulgarian Ministry of Interior"
                ],
                [
                  "1687",
                  "1687",
                  "OOO",
                  "2024-12-31 00:00:00",
                  "2024",
                  "12",
                  "BGR",
                  "EMR",
                  "36",
                  "Bulgarian Ministry of Interior"
                ],
                [
                  "1686",
                  "1686",
                  "MAR",
                  "2024-12-31 00:00:00",
                  "2024",
                  "12",
                  "BGR",
                  "EMR",
                  "33",
                  "Bulgarian Ministry of Interior"
                ],
                [
                  "1685",
                  "1685",
                  "IRQ",
                  "2024-12-31 00:00:00",
                  "2024",
                  "12",
                  "BGR",
                  "EMR",
                  "12",
                  "Bulgarian Ministry of Interior"
                ],
                [
                  "1684",
                  "1684",
                  "EGY",
                  "2024-12-31 00:00:00",
                  "2024",
                  "12",
                  "BGR",
                  "EMR",
                  "12",
                  "Bulgarian Ministry of Interior"
                ]
              ],
              "shape": {
                "columns": 9,
                "rows": 5
              }
            },
            "text/html": [
              "<div>\n",
              "<style scoped>\n",
              "    .dataframe tbody tr th:only-of-type {\n",
              "        vertical-align: middle;\n",
              "    }\n",
              "\n",
              "    .dataframe tbody tr th {\n",
              "        vertical-align: top;\n",
              "    }\n",
              "\n",
              "    .dataframe thead th {\n",
              "        text-align: right;\n",
              "    }\n",
              "</style>\n",
              "<table border=\"1\" class=\"dataframe\">\n",
              "  <thead>\n",
              "    <tr style=\"text-align: right;\">\n",
              "      <th></th>\n",
              "      <th>index</th>\n",
              "      <th>ISO3 - Country of origin</th>\n",
              "      <th>Date</th>\n",
              "      <th>Year</th>\n",
              "      <th>Month</th>\n",
              "      <th>ISO3 - Country of arrival</th>\n",
              "      <th>Route</th>\n",
              "      <th>Arrivals</th>\n",
              "      <th>Source</th>\n",
              "    </tr>\n",
              "  </thead>\n",
              "  <tbody>\n",
              "    <tr>\n",
              "      <th>1688</th>\n",
              "      <td>1688</td>\n",
              "      <td>SYR</td>\n",
              "      <td>2024-12-31</td>\n",
              "      <td>2024</td>\n",
              "      <td>12</td>\n",
              "      <td>BGR</td>\n",
              "      <td>EMR</td>\n",
              "      <td>61</td>\n",
              "      <td>Bulgarian Ministry of Interior</td>\n",
              "    </tr>\n",
              "    <tr>\n",
              "      <th>1687</th>\n",
              "      <td>1687</td>\n",
              "      <td>OOO</td>\n",
              "      <td>2024-12-31</td>\n",
              "      <td>2024</td>\n",
              "      <td>12</td>\n",
              "      <td>BGR</td>\n",
              "      <td>EMR</td>\n",
              "      <td>36</td>\n",
              "      <td>Bulgarian Ministry of Interior</td>\n",
              "    </tr>\n",
              "    <tr>\n",
              "      <th>1686</th>\n",
              "      <td>1686</td>\n",
              "      <td>MAR</td>\n",
              "      <td>2024-12-31</td>\n",
              "      <td>2024</td>\n",
              "      <td>12</td>\n",
              "      <td>BGR</td>\n",
              "      <td>EMR</td>\n",
              "      <td>33</td>\n",
              "      <td>Bulgarian Ministry of Interior</td>\n",
              "    </tr>\n",
              "    <tr>\n",
              "      <th>1685</th>\n",
              "      <td>1685</td>\n",
              "      <td>IRQ</td>\n",
              "      <td>2024-12-31</td>\n",
              "      <td>2024</td>\n",
              "      <td>12</td>\n",
              "      <td>BGR</td>\n",
              "      <td>EMR</td>\n",
              "      <td>12</td>\n",
              "      <td>Bulgarian Ministry of Interior</td>\n",
              "    </tr>\n",
              "    <tr>\n",
              "      <th>1684</th>\n",
              "      <td>1684</td>\n",
              "      <td>EGY</td>\n",
              "      <td>2024-12-31</td>\n",
              "      <td>2024</td>\n",
              "      <td>12</td>\n",
              "      <td>BGR</td>\n",
              "      <td>EMR</td>\n",
              "      <td>12</td>\n",
              "      <td>Bulgarian Ministry of Interior</td>\n",
              "    </tr>\n",
              "  </tbody>\n",
              "</table>\n",
              "</div>"
            ],
            "text/plain": [
              "      index ISO3 - Country of origin       Date  Year  Month  \\\n",
              "1688   1688                      SYR 2024-12-31  2024     12   \n",
              "1687   1687                      OOO 2024-12-31  2024     12   \n",
              "1686   1686                      MAR 2024-12-31  2024     12   \n",
              "1685   1685                      IRQ 2024-12-31  2024     12   \n",
              "1684   1684                      EGY 2024-12-31  2024     12   \n",
              "\n",
              "     ISO3 - Country of arrival Route  Arrivals                          Source  \n",
              "1688                       BGR   EMR        61  Bulgarian Ministry of Interior  \n",
              "1687                       BGR   EMR        36  Bulgarian Ministry of Interior  \n",
              "1686                       BGR   EMR        33  Bulgarian Ministry of Interior  \n",
              "1685                       BGR   EMR        12  Bulgarian Ministry of Interior  \n",
              "1684                       BGR   EMR        12  Bulgarian Ministry of Interior  "
            ]
          },
          "execution_count": 81,
          "metadata": {},
          "output_type": "execute_result"
        }
      ],
      "source": [
        "# Ordenar por el índice en orden descendente\n",
        "df_excel.sort_index(ascending=False).head()  "
      ]
    },
    {
      "cell_type": "markdown",
      "metadata": {},
      "source": [
        "# 🔄 4. Transformaciones de datos\n",
        "En este bloque aprenderemos a **manipular y transformar** nuestros datos en Pandas. \n",
        "\n",
        "Veremos cómo **añadir, eliminar y renombrar columnas**, así como manejar los valores faltantes con **fillna** y **dropna**.\n",
        "\n",
        "Tabla de resumen de métodos para transformar datos en Pandas:\n",
        "| Método               | Descripción                                      |\n",
        "|----------------------|--------------------------------------------------|\n",
        "| `assign()`           | Añade nuevas columnas al DataFrame.              |\n",
        "| `drop()`             | Elimina filas o columnas del DataFrame.          |\n",
        "| `rename()`           | Cambia los nombres de las columnas o índices.    |\n",
        "| `fillna()`           | Rellena los valores faltantes con un valor específico o método. |\n",
        "| `dropna()`           | Elimina filas o columnas con valores faltantes.   |"
      ]
    },
    {
      "cell_type": "markdown",
      "metadata": {},
      "source": [
        "## 📌 Añadir, eliminar y renombrar columnas"
      ]
    },
    {
      "cell_type": "code",
      "execution_count": 48,
      "metadata": {},
      "outputs": [
        {
          "data": {
            "application/vnd.microsoft.datawrangler.viewer.v0+json": {
              "columns": [
                {
                  "name": "index",
                  "rawType": "int64",
                  "type": "integer"
                },
                {
                  "name": "ISO3 - Country of origin",
                  "rawType": "object",
                  "type": "string"
                },
                {
                  "name": "Date",
                  "rawType": "datetime64[ns]",
                  "type": "datetime"
                },
                {
                  "name": "Year",
                  "rawType": "int64",
                  "type": "integer"
                },
                {
                  "name": "Month",
                  "rawType": "int64",
                  "type": "integer"
                },
                {
                  "name": "ISO3 - Country of arrival",
                  "rawType": "object",
                  "type": "string"
                },
                {
                  "name": "Route",
                  "rawType": "object",
                  "type": "string"
                },
                {
                  "name": "Arrivals",
                  "rawType": "int64",
                  "type": "integer"
                },
                {
                  "name": "Source",
                  "rawType": "object",
                  "type": "string"
                },
                {
                  "name": "New_Column",
                  "rawType": "object",
                  "type": "string"
                }
              ],
              "ref": "acddfcda-8b22-464f-8412-632513fa3362",
              "rows": [
                [
                  "0",
                  "BGD",
                  "2024-01-31 00:00:00",
                  "2024",
                  "1",
                  "MLT",
                  "CMR",
                  "7",
                  "Maltese Minitry of Home Affairs, Security and Employment",
                  "Default_Value"
                ],
                [
                  "1",
                  "EGY",
                  "2024-01-31 00:00:00",
                  "2024",
                  "1",
                  "MLT",
                  "CMR",
                  "1",
                  "Maltese Minitry of Home Affairs, Security and Employment",
                  "Default_Value"
                ],
                [
                  "2",
                  "PAK",
                  "2024-01-31 00:00:00",
                  "2024",
                  "1",
                  "MLT",
                  "CMR",
                  "22",
                  "Maltese Minitry of Home Affairs, Security and Employment",
                  "Default_Value"
                ],
                [
                  "3",
                  "SDN",
                  "2024-01-31 00:00:00",
                  "2024",
                  "1",
                  "MLT",
                  "CMR",
                  "1",
                  "Maltese Minitry of Home Affairs, Security and Employment",
                  "Default_Value"
                ],
                [
                  "4",
                  "SYR",
                  "2024-01-31 00:00:00",
                  "2024",
                  "1",
                  "MLT",
                  "CMR",
                  "4",
                  "Maltese Minitry of Home Affairs, Security and Employment",
                  "Default_Value"
                ]
              ],
              "shape": {
                "columns": 9,
                "rows": 5
              }
            },
            "text/html": [
              "<div>\n",
              "<style scoped>\n",
              "    .dataframe tbody tr th:only-of-type {\n",
              "        vertical-align: middle;\n",
              "    }\n",
              "\n",
              "    .dataframe tbody tr th {\n",
              "        vertical-align: top;\n",
              "    }\n",
              "\n",
              "    .dataframe thead th {\n",
              "        text-align: right;\n",
              "    }\n",
              "</style>\n",
              "<table border=\"1\" class=\"dataframe\">\n",
              "  <thead>\n",
              "    <tr style=\"text-align: right;\">\n",
              "      <th></th>\n",
              "      <th>ISO3 - Country of origin</th>\n",
              "      <th>Date</th>\n",
              "      <th>Year</th>\n",
              "      <th>Month</th>\n",
              "      <th>ISO3 - Country of arrival</th>\n",
              "      <th>Route</th>\n",
              "      <th>Arrivals</th>\n",
              "      <th>Source</th>\n",
              "      <th>New_Column</th>\n",
              "    </tr>\n",
              "  </thead>\n",
              "  <tbody>\n",
              "    <tr>\n",
              "      <th>0</th>\n",
              "      <td>BGD</td>\n",
              "      <td>2024-01-31</td>\n",
              "      <td>2024</td>\n",
              "      <td>1</td>\n",
              "      <td>MLT</td>\n",
              "      <td>CMR</td>\n",
              "      <td>7</td>\n",
              "      <td>Maltese Minitry of Home Affairs, Security and ...</td>\n",
              "      <td>Default_Value</td>\n",
              "    </tr>\n",
              "    <tr>\n",
              "      <th>1</th>\n",
              "      <td>EGY</td>\n",
              "      <td>2024-01-31</td>\n",
              "      <td>2024</td>\n",
              "      <td>1</td>\n",
              "      <td>MLT</td>\n",
              "      <td>CMR</td>\n",
              "      <td>1</td>\n",
              "      <td>Maltese Minitry of Home Affairs, Security and ...</td>\n",
              "      <td>Default_Value</td>\n",
              "    </tr>\n",
              "    <tr>\n",
              "      <th>2</th>\n",
              "      <td>PAK</td>\n",
              "      <td>2024-01-31</td>\n",
              "      <td>2024</td>\n",
              "      <td>1</td>\n",
              "      <td>MLT</td>\n",
              "      <td>CMR</td>\n",
              "      <td>22</td>\n",
              "      <td>Maltese Minitry of Home Affairs, Security and ...</td>\n",
              "      <td>Default_Value</td>\n",
              "    </tr>\n",
              "    <tr>\n",
              "      <th>3</th>\n",
              "      <td>SDN</td>\n",
              "      <td>2024-01-31</td>\n",
              "      <td>2024</td>\n",
              "      <td>1</td>\n",
              "      <td>MLT</td>\n",
              "      <td>CMR</td>\n",
              "      <td>1</td>\n",
              "      <td>Maltese Minitry of Home Affairs, Security and ...</td>\n",
              "      <td>Default_Value</td>\n",
              "    </tr>\n",
              "    <tr>\n",
              "      <th>4</th>\n",
              "      <td>SYR</td>\n",
              "      <td>2024-01-31</td>\n",
              "      <td>2024</td>\n",
              "      <td>1</td>\n",
              "      <td>MLT</td>\n",
              "      <td>CMR</td>\n",
              "      <td>4</td>\n",
              "      <td>Maltese Minitry of Home Affairs, Security and ...</td>\n",
              "      <td>Default_Value</td>\n",
              "    </tr>\n",
              "  </tbody>\n",
              "</table>\n",
              "</div>"
            ],
            "text/plain": [
              "  ISO3 - Country of origin       Date  Year  Month ISO3 - Country of arrival  \\\n",
              "0                      BGD 2024-01-31  2024      1                       MLT   \n",
              "1                      EGY 2024-01-31  2024      1                       MLT   \n",
              "2                      PAK 2024-01-31  2024      1                       MLT   \n",
              "3                      SDN 2024-01-31  2024      1                       MLT   \n",
              "4                      SYR 2024-01-31  2024      1                       MLT   \n",
              "\n",
              "  Route  Arrivals                                             Source  \\\n",
              "0   CMR         7  Maltese Minitry of Home Affairs, Security and ...   \n",
              "1   CMR         1  Maltese Minitry of Home Affairs, Security and ...   \n",
              "2   CMR        22  Maltese Minitry of Home Affairs, Security and ...   \n",
              "3   CMR         1  Maltese Minitry of Home Affairs, Security and ...   \n",
              "4   CMR         4  Maltese Minitry of Home Affairs, Security and ...   \n",
              "\n",
              "      New_Column  \n",
              "0  Default_Value  \n",
              "1  Default_Value  \n",
              "2  Default_Value  \n",
              "3  Default_Value  \n",
              "4  Default_Value  "
            ]
          },
          "execution_count": 48,
          "metadata": {},
          "output_type": "execute_result"
        }
      ],
      "source": [
        "# Añadir una nueva columna\n",
        "df_excel['New_Column'] = 'Default_Value'\n",
        "df_excel.head()"
      ]
    },
    {
      "cell_type": "code",
      "execution_count": 49,
      "metadata": {},
      "outputs": [
        {
          "data": {
            "application/vnd.microsoft.datawrangler.viewer.v0+json": {
              "columns": [
                {
                  "name": "index",
                  "rawType": "int64",
                  "type": "integer"
                },
                {
                  "name": "ISO3 - Country of origin",
                  "rawType": "object",
                  "type": "string"
                },
                {
                  "name": "Date",
                  "rawType": "datetime64[ns]",
                  "type": "datetime"
                },
                {
                  "name": "Year",
                  "rawType": "int64",
                  "type": "integer"
                },
                {
                  "name": "Month",
                  "rawType": "int64",
                  "type": "integer"
                },
                {
                  "name": "ISO3 - Country of arrival",
                  "rawType": "object",
                  "type": "string"
                },
                {
                  "name": "Route",
                  "rawType": "object",
                  "type": "string"
                },
                {
                  "name": "Arrivals",
                  "rawType": "int64",
                  "type": "integer"
                },
                {
                  "name": "Source",
                  "rawType": "object",
                  "type": "string"
                },
                {
                  "name": "New_Column",
                  "rawType": "object",
                  "type": "string"
                },
                {
                  "name": "Year_plus_1",
                  "rawType": "int64",
                  "type": "integer"
                }
              ],
              "ref": "185cb9ea-fb7f-4dd6-bc93-293dfe9c16e4",
              "rows": [
                [
                  "0",
                  "BGD",
                  "2024-01-31 00:00:00",
                  "2024",
                  "1",
                  "MLT",
                  "CMR",
                  "7",
                  "Maltese Minitry of Home Affairs, Security and Employment",
                  "Default_Value",
                  "2025"
                ],
                [
                  "1",
                  "EGY",
                  "2024-01-31 00:00:00",
                  "2024",
                  "1",
                  "MLT",
                  "CMR",
                  "1",
                  "Maltese Minitry of Home Affairs, Security and Employment",
                  "Default_Value",
                  "2025"
                ],
                [
                  "2",
                  "PAK",
                  "2024-01-31 00:00:00",
                  "2024",
                  "1",
                  "MLT",
                  "CMR",
                  "22",
                  "Maltese Minitry of Home Affairs, Security and Employment",
                  "Default_Value",
                  "2025"
                ],
                [
                  "3",
                  "SDN",
                  "2024-01-31 00:00:00",
                  "2024",
                  "1",
                  "MLT",
                  "CMR",
                  "1",
                  "Maltese Minitry of Home Affairs, Security and Employment",
                  "Default_Value",
                  "2025"
                ],
                [
                  "4",
                  "SYR",
                  "2024-01-31 00:00:00",
                  "2024",
                  "1",
                  "MLT",
                  "CMR",
                  "4",
                  "Maltese Minitry of Home Affairs, Security and Employment",
                  "Default_Value",
                  "2025"
                ]
              ],
              "shape": {
                "columns": 10,
                "rows": 5
              }
            },
            "text/html": [
              "<div>\n",
              "<style scoped>\n",
              "    .dataframe tbody tr th:only-of-type {\n",
              "        vertical-align: middle;\n",
              "    }\n",
              "\n",
              "    .dataframe tbody tr th {\n",
              "        vertical-align: top;\n",
              "    }\n",
              "\n",
              "    .dataframe thead th {\n",
              "        text-align: right;\n",
              "    }\n",
              "</style>\n",
              "<table border=\"1\" class=\"dataframe\">\n",
              "  <thead>\n",
              "    <tr style=\"text-align: right;\">\n",
              "      <th></th>\n",
              "      <th>ISO3 - Country of origin</th>\n",
              "      <th>Date</th>\n",
              "      <th>Year</th>\n",
              "      <th>Month</th>\n",
              "      <th>ISO3 - Country of arrival</th>\n",
              "      <th>Route</th>\n",
              "      <th>Arrivals</th>\n",
              "      <th>Source</th>\n",
              "      <th>New_Column</th>\n",
              "      <th>Year_plus_1</th>\n",
              "    </tr>\n",
              "  </thead>\n",
              "  <tbody>\n",
              "    <tr>\n",
              "      <th>0</th>\n",
              "      <td>BGD</td>\n",
              "      <td>2024-01-31</td>\n",
              "      <td>2024</td>\n",
              "      <td>1</td>\n",
              "      <td>MLT</td>\n",
              "      <td>CMR</td>\n",
              "      <td>7</td>\n",
              "      <td>Maltese Minitry of Home Affairs, Security and ...</td>\n",
              "      <td>Default_Value</td>\n",
              "      <td>2025</td>\n",
              "    </tr>\n",
              "    <tr>\n",
              "      <th>1</th>\n",
              "      <td>EGY</td>\n",
              "      <td>2024-01-31</td>\n",
              "      <td>2024</td>\n",
              "      <td>1</td>\n",
              "      <td>MLT</td>\n",
              "      <td>CMR</td>\n",
              "      <td>1</td>\n",
              "      <td>Maltese Minitry of Home Affairs, Security and ...</td>\n",
              "      <td>Default_Value</td>\n",
              "      <td>2025</td>\n",
              "    </tr>\n",
              "    <tr>\n",
              "      <th>2</th>\n",
              "      <td>PAK</td>\n",
              "      <td>2024-01-31</td>\n",
              "      <td>2024</td>\n",
              "      <td>1</td>\n",
              "      <td>MLT</td>\n",
              "      <td>CMR</td>\n",
              "      <td>22</td>\n",
              "      <td>Maltese Minitry of Home Affairs, Security and ...</td>\n",
              "      <td>Default_Value</td>\n",
              "      <td>2025</td>\n",
              "    </tr>\n",
              "    <tr>\n",
              "      <th>3</th>\n",
              "      <td>SDN</td>\n",
              "      <td>2024-01-31</td>\n",
              "      <td>2024</td>\n",
              "      <td>1</td>\n",
              "      <td>MLT</td>\n",
              "      <td>CMR</td>\n",
              "      <td>1</td>\n",
              "      <td>Maltese Minitry of Home Affairs, Security and ...</td>\n",
              "      <td>Default_Value</td>\n",
              "      <td>2025</td>\n",
              "    </tr>\n",
              "    <tr>\n",
              "      <th>4</th>\n",
              "      <td>SYR</td>\n",
              "      <td>2024-01-31</td>\n",
              "      <td>2024</td>\n",
              "      <td>1</td>\n",
              "      <td>MLT</td>\n",
              "      <td>CMR</td>\n",
              "      <td>4</td>\n",
              "      <td>Maltese Minitry of Home Affairs, Security and ...</td>\n",
              "      <td>Default_Value</td>\n",
              "      <td>2025</td>\n",
              "    </tr>\n",
              "  </tbody>\n",
              "</table>\n",
              "</div>"
            ],
            "text/plain": [
              "  ISO3 - Country of origin       Date  Year  Month ISO3 - Country of arrival  \\\n",
              "0                      BGD 2024-01-31  2024      1                       MLT   \n",
              "1                      EGY 2024-01-31  2024      1                       MLT   \n",
              "2                      PAK 2024-01-31  2024      1                       MLT   \n",
              "3                      SDN 2024-01-31  2024      1                       MLT   \n",
              "4                      SYR 2024-01-31  2024      1                       MLT   \n",
              "\n",
              "  Route  Arrivals                                             Source  \\\n",
              "0   CMR         7  Maltese Minitry of Home Affairs, Security and ...   \n",
              "1   CMR         1  Maltese Minitry of Home Affairs, Security and ...   \n",
              "2   CMR        22  Maltese Minitry of Home Affairs, Security and ...   \n",
              "3   CMR         1  Maltese Minitry of Home Affairs, Security and ...   \n",
              "4   CMR         4  Maltese Minitry of Home Affairs, Security and ...   \n",
              "\n",
              "      New_Column  Year_plus_1  \n",
              "0  Default_Value         2025  \n",
              "1  Default_Value         2025  \n",
              "2  Default_Value         2025  \n",
              "3  Default_Value         2025  \n",
              "4  Default_Value         2025  "
            ]
          },
          "execution_count": 49,
          "metadata": {},
          "output_type": "execute_result"
        }
      ],
      "source": [
        "#Esto se puede utilizar para crear columnas basadas en cálculos o transformaciones de otras columnas. Por ejemplo:\n",
        "df_excel['Year_plus_1'] = df_excel['Year'] + 1\n",
        "df_excel.head()"
      ]
    },
    {
      "cell_type": "code",
      "execution_count": 50,
      "metadata": {},
      "outputs": [
        {
          "data": {
            "application/vnd.microsoft.datawrangler.viewer.v0+json": {
              "columns": [
                {
                  "name": "index",
                  "rawType": "int64",
                  "type": "integer"
                },
                {
                  "name": "ISO3 - Country of origin",
                  "rawType": "object",
                  "type": "string"
                },
                {
                  "name": "Date",
                  "rawType": "datetime64[ns]",
                  "type": "datetime"
                },
                {
                  "name": "Year",
                  "rawType": "int64",
                  "type": "integer"
                },
                {
                  "name": "Month",
                  "rawType": "int64",
                  "type": "integer"
                },
                {
                  "name": "ISO3 - Country of arrival",
                  "rawType": "object",
                  "type": "string"
                },
                {
                  "name": "Route",
                  "rawType": "object",
                  "type": "string"
                },
                {
                  "name": "Arrivals",
                  "rawType": "int64",
                  "type": "integer"
                },
                {
                  "name": "Source",
                  "rawType": "object",
                  "type": "string"
                },
                {
                  "name": "Year_plus_1",
                  "rawType": "int64",
                  "type": "integer"
                }
              ],
              "ref": "ead97efb-e103-4697-91d5-e85d0bc44add",
              "rows": [
                [
                  "0",
                  "BGD",
                  "2024-01-31 00:00:00",
                  "2024",
                  "1",
                  "MLT",
                  "CMR",
                  "7",
                  "Maltese Minitry of Home Affairs, Security and Employment",
                  "2025"
                ],
                [
                  "1",
                  "EGY",
                  "2024-01-31 00:00:00",
                  "2024",
                  "1",
                  "MLT",
                  "CMR",
                  "1",
                  "Maltese Minitry of Home Affairs, Security and Employment",
                  "2025"
                ],
                [
                  "2",
                  "PAK",
                  "2024-01-31 00:00:00",
                  "2024",
                  "1",
                  "MLT",
                  "CMR",
                  "22",
                  "Maltese Minitry of Home Affairs, Security and Employment",
                  "2025"
                ],
                [
                  "3",
                  "SDN",
                  "2024-01-31 00:00:00",
                  "2024",
                  "1",
                  "MLT",
                  "CMR",
                  "1",
                  "Maltese Minitry of Home Affairs, Security and Employment",
                  "2025"
                ],
                [
                  "4",
                  "SYR",
                  "2024-01-31 00:00:00",
                  "2024",
                  "1",
                  "MLT",
                  "CMR",
                  "4",
                  "Maltese Minitry of Home Affairs, Security and Employment",
                  "2025"
                ]
              ],
              "shape": {
                "columns": 9,
                "rows": 5
              }
            },
            "text/html": [
              "<div>\n",
              "<style scoped>\n",
              "    .dataframe tbody tr th:only-of-type {\n",
              "        vertical-align: middle;\n",
              "    }\n",
              "\n",
              "    .dataframe tbody tr th {\n",
              "        vertical-align: top;\n",
              "    }\n",
              "\n",
              "    .dataframe thead th {\n",
              "        text-align: right;\n",
              "    }\n",
              "</style>\n",
              "<table border=\"1\" class=\"dataframe\">\n",
              "  <thead>\n",
              "    <tr style=\"text-align: right;\">\n",
              "      <th></th>\n",
              "      <th>ISO3 - Country of origin</th>\n",
              "      <th>Date</th>\n",
              "      <th>Year</th>\n",
              "      <th>Month</th>\n",
              "      <th>ISO3 - Country of arrival</th>\n",
              "      <th>Route</th>\n",
              "      <th>Arrivals</th>\n",
              "      <th>Source</th>\n",
              "      <th>Year_plus_1</th>\n",
              "    </tr>\n",
              "  </thead>\n",
              "  <tbody>\n",
              "    <tr>\n",
              "      <th>0</th>\n",
              "      <td>BGD</td>\n",
              "      <td>2024-01-31</td>\n",
              "      <td>2024</td>\n",
              "      <td>1</td>\n",
              "      <td>MLT</td>\n",
              "      <td>CMR</td>\n",
              "      <td>7</td>\n",
              "      <td>Maltese Minitry of Home Affairs, Security and ...</td>\n",
              "      <td>2025</td>\n",
              "    </tr>\n",
              "    <tr>\n",
              "      <th>1</th>\n",
              "      <td>EGY</td>\n",
              "      <td>2024-01-31</td>\n",
              "      <td>2024</td>\n",
              "      <td>1</td>\n",
              "      <td>MLT</td>\n",
              "      <td>CMR</td>\n",
              "      <td>1</td>\n",
              "      <td>Maltese Minitry of Home Affairs, Security and ...</td>\n",
              "      <td>2025</td>\n",
              "    </tr>\n",
              "    <tr>\n",
              "      <th>2</th>\n",
              "      <td>PAK</td>\n",
              "      <td>2024-01-31</td>\n",
              "      <td>2024</td>\n",
              "      <td>1</td>\n",
              "      <td>MLT</td>\n",
              "      <td>CMR</td>\n",
              "      <td>22</td>\n",
              "      <td>Maltese Minitry of Home Affairs, Security and ...</td>\n",
              "      <td>2025</td>\n",
              "    </tr>\n",
              "    <tr>\n",
              "      <th>3</th>\n",
              "      <td>SDN</td>\n",
              "      <td>2024-01-31</td>\n",
              "      <td>2024</td>\n",
              "      <td>1</td>\n",
              "      <td>MLT</td>\n",
              "      <td>CMR</td>\n",
              "      <td>1</td>\n",
              "      <td>Maltese Minitry of Home Affairs, Security and ...</td>\n",
              "      <td>2025</td>\n",
              "    </tr>\n",
              "    <tr>\n",
              "      <th>4</th>\n",
              "      <td>SYR</td>\n",
              "      <td>2024-01-31</td>\n",
              "      <td>2024</td>\n",
              "      <td>1</td>\n",
              "      <td>MLT</td>\n",
              "      <td>CMR</td>\n",
              "      <td>4</td>\n",
              "      <td>Maltese Minitry of Home Affairs, Security and ...</td>\n",
              "      <td>2025</td>\n",
              "    </tr>\n",
              "  </tbody>\n",
              "</table>\n",
              "</div>"
            ],
            "text/plain": [
              "  ISO3 - Country of origin       Date  Year  Month ISO3 - Country of arrival  \\\n",
              "0                      BGD 2024-01-31  2024      1                       MLT   \n",
              "1                      EGY 2024-01-31  2024      1                       MLT   \n",
              "2                      PAK 2024-01-31  2024      1                       MLT   \n",
              "3                      SDN 2024-01-31  2024      1                       MLT   \n",
              "4                      SYR 2024-01-31  2024      1                       MLT   \n",
              "\n",
              "  Route  Arrivals                                             Source  \\\n",
              "0   CMR         7  Maltese Minitry of Home Affairs, Security and ...   \n",
              "1   CMR         1  Maltese Minitry of Home Affairs, Security and ...   \n",
              "2   CMR        22  Maltese Minitry of Home Affairs, Security and ...   \n",
              "3   CMR         1  Maltese Minitry of Home Affairs, Security and ...   \n",
              "4   CMR         4  Maltese Minitry of Home Affairs, Security and ...   \n",
              "\n",
              "   Year_plus_1  \n",
              "0         2025  \n",
              "1         2025  \n",
              "2         2025  \n",
              "3         2025  \n",
              "4         2025  "
            ]
          },
          "execution_count": 50,
          "metadata": {},
          "output_type": "execute_result"
        }
      ],
      "source": [
        "# Eliminar una columna\n",
        "df_excel.drop(columns=['New_Column'], inplace=True)\n",
        "df_excel.head()"
      ]
    },
    {
      "cell_type": "code",
      "execution_count": 51,
      "metadata": {},
      "outputs": [
        {
          "data": {
            "application/vnd.microsoft.datawrangler.viewer.v0+json": {
              "columns": [
                {
                  "name": "index",
                  "rawType": "int64",
                  "type": "integer"
                },
                {
                  "name": "ISO3 - Country of origin",
                  "rawType": "object",
                  "type": "string"
                },
                {
                  "name": "Date",
                  "rawType": "datetime64[ns]",
                  "type": "datetime"
                },
                {
                  "name": "Month",
                  "rawType": "int64",
                  "type": "integer"
                },
                {
                  "name": "ISO3 - Country of arrival",
                  "rawType": "object",
                  "type": "string"
                },
                {
                  "name": "Route",
                  "rawType": "object",
                  "type": "string"
                },
                {
                  "name": "Arrivals",
                  "rawType": "int64",
                  "type": "integer"
                },
                {
                  "name": "Source",
                  "rawType": "object",
                  "type": "string"
                }
              ],
              "ref": "8b3ac523-d6b0-46c7-aa71-1b71f78e2a8f",
              "rows": [
                [
                  "0",
                  "BGD",
                  "2024-01-31 00:00:00",
                  "1",
                  "MLT",
                  "CMR",
                  "7",
                  "Maltese Minitry of Home Affairs, Security and Employment"
                ],
                [
                  "1",
                  "EGY",
                  "2024-01-31 00:00:00",
                  "1",
                  "MLT",
                  "CMR",
                  "1",
                  "Maltese Minitry of Home Affairs, Security and Employment"
                ],
                [
                  "2",
                  "PAK",
                  "2024-01-31 00:00:00",
                  "1",
                  "MLT",
                  "CMR",
                  "22",
                  "Maltese Minitry of Home Affairs, Security and Employment"
                ],
                [
                  "3",
                  "SDN",
                  "2024-01-31 00:00:00",
                  "1",
                  "MLT",
                  "CMR",
                  "1",
                  "Maltese Minitry of Home Affairs, Security and Employment"
                ],
                [
                  "4",
                  "SYR",
                  "2024-01-31 00:00:00",
                  "1",
                  "MLT",
                  "CMR",
                  "4",
                  "Maltese Minitry of Home Affairs, Security and Employment"
                ]
              ],
              "shape": {
                "columns": 7,
                "rows": 5
              }
            },
            "text/html": [
              "<div>\n",
              "<style scoped>\n",
              "    .dataframe tbody tr th:only-of-type {\n",
              "        vertical-align: middle;\n",
              "    }\n",
              "\n",
              "    .dataframe tbody tr th {\n",
              "        vertical-align: top;\n",
              "    }\n",
              "\n",
              "    .dataframe thead th {\n",
              "        text-align: right;\n",
              "    }\n",
              "</style>\n",
              "<table border=\"1\" class=\"dataframe\">\n",
              "  <thead>\n",
              "    <tr style=\"text-align: right;\">\n",
              "      <th></th>\n",
              "      <th>ISO3 - Country of origin</th>\n",
              "      <th>Date</th>\n",
              "      <th>Month</th>\n",
              "      <th>ISO3 - Country of arrival</th>\n",
              "      <th>Route</th>\n",
              "      <th>Arrivals</th>\n",
              "      <th>Source</th>\n",
              "    </tr>\n",
              "  </thead>\n",
              "  <tbody>\n",
              "    <tr>\n",
              "      <th>0</th>\n",
              "      <td>BGD</td>\n",
              "      <td>2024-01-31</td>\n",
              "      <td>1</td>\n",
              "      <td>MLT</td>\n",
              "      <td>CMR</td>\n",
              "      <td>7</td>\n",
              "      <td>Maltese Minitry of Home Affairs, Security and ...</td>\n",
              "    </tr>\n",
              "    <tr>\n",
              "      <th>1</th>\n",
              "      <td>EGY</td>\n",
              "      <td>2024-01-31</td>\n",
              "      <td>1</td>\n",
              "      <td>MLT</td>\n",
              "      <td>CMR</td>\n",
              "      <td>1</td>\n",
              "      <td>Maltese Minitry of Home Affairs, Security and ...</td>\n",
              "    </tr>\n",
              "    <tr>\n",
              "      <th>2</th>\n",
              "      <td>PAK</td>\n",
              "      <td>2024-01-31</td>\n",
              "      <td>1</td>\n",
              "      <td>MLT</td>\n",
              "      <td>CMR</td>\n",
              "      <td>22</td>\n",
              "      <td>Maltese Minitry of Home Affairs, Security and ...</td>\n",
              "    </tr>\n",
              "    <tr>\n",
              "      <th>3</th>\n",
              "      <td>SDN</td>\n",
              "      <td>2024-01-31</td>\n",
              "      <td>1</td>\n",
              "      <td>MLT</td>\n",
              "      <td>CMR</td>\n",
              "      <td>1</td>\n",
              "      <td>Maltese Minitry of Home Affairs, Security and ...</td>\n",
              "    </tr>\n",
              "    <tr>\n",
              "      <th>4</th>\n",
              "      <td>SYR</td>\n",
              "      <td>2024-01-31</td>\n",
              "      <td>1</td>\n",
              "      <td>MLT</td>\n",
              "      <td>CMR</td>\n",
              "      <td>4</td>\n",
              "      <td>Maltese Minitry of Home Affairs, Security and ...</td>\n",
              "    </tr>\n",
              "  </tbody>\n",
              "</table>\n",
              "</div>"
            ],
            "text/plain": [
              "  ISO3 - Country of origin       Date  Month ISO3 - Country of arrival Route  \\\n",
              "0                      BGD 2024-01-31      1                       MLT   CMR   \n",
              "1                      EGY 2024-01-31      1                       MLT   CMR   \n",
              "2                      PAK 2024-01-31      1                       MLT   CMR   \n",
              "3                      SDN 2024-01-31      1                       MLT   CMR   \n",
              "4                      SYR 2024-01-31      1                       MLT   CMR   \n",
              "\n",
              "   Arrivals                                             Source  \n",
              "0         7  Maltese Minitry of Home Affairs, Security and ...  \n",
              "1         1  Maltese Minitry of Home Affairs, Security and ...  \n",
              "2        22  Maltese Minitry of Home Affairs, Security and ...  \n",
              "3         1  Maltese Minitry of Home Affairs, Security and ...  \n",
              "4         4  Maltese Minitry of Home Affairs, Security and ...  "
            ]
          },
          "execution_count": 51,
          "metadata": {},
          "output_type": "execute_result"
        }
      ],
      "source": [
        "# Eliminar varias columnas a la vez\n",
        "df_excel.drop(columns=['Year_plus_1', 'Year'], inplace=True)\n",
        "df_excel.head()"
      ]
    },
    {
      "cell_type": "code",
      "execution_count": 52,
      "metadata": {},
      "outputs": [
        {
          "data": {
            "application/vnd.microsoft.datawrangler.viewer.v0+json": {
              "columns": [
                {
                  "name": "index",
                  "rawType": "int64",
                  "type": "integer"
                },
                {
                  "name": "Country_of_origin",
                  "rawType": "object",
                  "type": "string"
                },
                {
                  "name": "Date",
                  "rawType": "datetime64[ns]",
                  "type": "datetime"
                },
                {
                  "name": "Month",
                  "rawType": "int64",
                  "type": "integer"
                },
                {
                  "name": "Country_of_arrival",
                  "rawType": "object",
                  "type": "string"
                },
                {
                  "name": "Route",
                  "rawType": "object",
                  "type": "string"
                },
                {
                  "name": "Arrivals",
                  "rawType": "int64",
                  "type": "integer"
                },
                {
                  "name": "Source",
                  "rawType": "object",
                  "type": "string"
                }
              ],
              "ref": "faa180b7-99ee-48d6-863e-8f6482b1f8b1",
              "rows": [
                [
                  "0",
                  "BGD",
                  "2024-01-31 00:00:00",
                  "1",
                  "MLT",
                  "CMR",
                  "7",
                  "Maltese Minitry of Home Affairs, Security and Employment"
                ],
                [
                  "1",
                  "EGY",
                  "2024-01-31 00:00:00",
                  "1",
                  "MLT",
                  "CMR",
                  "1",
                  "Maltese Minitry of Home Affairs, Security and Employment"
                ],
                [
                  "2",
                  "PAK",
                  "2024-01-31 00:00:00",
                  "1",
                  "MLT",
                  "CMR",
                  "22",
                  "Maltese Minitry of Home Affairs, Security and Employment"
                ],
                [
                  "3",
                  "SDN",
                  "2024-01-31 00:00:00",
                  "1",
                  "MLT",
                  "CMR",
                  "1",
                  "Maltese Minitry of Home Affairs, Security and Employment"
                ],
                [
                  "4",
                  "SYR",
                  "2024-01-31 00:00:00",
                  "1",
                  "MLT",
                  "CMR",
                  "4",
                  "Maltese Minitry of Home Affairs, Security and Employment"
                ]
              ],
              "shape": {
                "columns": 7,
                "rows": 5
              }
            },
            "text/html": [
              "<div>\n",
              "<style scoped>\n",
              "    .dataframe tbody tr th:only-of-type {\n",
              "        vertical-align: middle;\n",
              "    }\n",
              "\n",
              "    .dataframe tbody tr th {\n",
              "        vertical-align: top;\n",
              "    }\n",
              "\n",
              "    .dataframe thead th {\n",
              "        text-align: right;\n",
              "    }\n",
              "</style>\n",
              "<table border=\"1\" class=\"dataframe\">\n",
              "  <thead>\n",
              "    <tr style=\"text-align: right;\">\n",
              "      <th></th>\n",
              "      <th>Country_of_origin</th>\n",
              "      <th>Date</th>\n",
              "      <th>Month</th>\n",
              "      <th>Country_of_arrival</th>\n",
              "      <th>Route</th>\n",
              "      <th>Arrivals</th>\n",
              "      <th>Source</th>\n",
              "    </tr>\n",
              "  </thead>\n",
              "  <tbody>\n",
              "    <tr>\n",
              "      <th>0</th>\n",
              "      <td>BGD</td>\n",
              "      <td>2024-01-31</td>\n",
              "      <td>1</td>\n",
              "      <td>MLT</td>\n",
              "      <td>CMR</td>\n",
              "      <td>7</td>\n",
              "      <td>Maltese Minitry of Home Affairs, Security and ...</td>\n",
              "    </tr>\n",
              "    <tr>\n",
              "      <th>1</th>\n",
              "      <td>EGY</td>\n",
              "      <td>2024-01-31</td>\n",
              "      <td>1</td>\n",
              "      <td>MLT</td>\n",
              "      <td>CMR</td>\n",
              "      <td>1</td>\n",
              "      <td>Maltese Minitry of Home Affairs, Security and ...</td>\n",
              "    </tr>\n",
              "    <tr>\n",
              "      <th>2</th>\n",
              "      <td>PAK</td>\n",
              "      <td>2024-01-31</td>\n",
              "      <td>1</td>\n",
              "      <td>MLT</td>\n",
              "      <td>CMR</td>\n",
              "      <td>22</td>\n",
              "      <td>Maltese Minitry of Home Affairs, Security and ...</td>\n",
              "    </tr>\n",
              "    <tr>\n",
              "      <th>3</th>\n",
              "      <td>SDN</td>\n",
              "      <td>2024-01-31</td>\n",
              "      <td>1</td>\n",
              "      <td>MLT</td>\n",
              "      <td>CMR</td>\n",
              "      <td>1</td>\n",
              "      <td>Maltese Minitry of Home Affairs, Security and ...</td>\n",
              "    </tr>\n",
              "    <tr>\n",
              "      <th>4</th>\n",
              "      <td>SYR</td>\n",
              "      <td>2024-01-31</td>\n",
              "      <td>1</td>\n",
              "      <td>MLT</td>\n",
              "      <td>CMR</td>\n",
              "      <td>4</td>\n",
              "      <td>Maltese Minitry of Home Affairs, Security and ...</td>\n",
              "    </tr>\n",
              "  </tbody>\n",
              "</table>\n",
              "</div>"
            ],
            "text/plain": [
              "  Country_of_origin       Date  Month Country_of_arrival Route  Arrivals  \\\n",
              "0               BGD 2024-01-31      1                MLT   CMR         7   \n",
              "1               EGY 2024-01-31      1                MLT   CMR         1   \n",
              "2               PAK 2024-01-31      1                MLT   CMR        22   \n",
              "3               SDN 2024-01-31      1                MLT   CMR         1   \n",
              "4               SYR 2024-01-31      1                MLT   CMR         4   \n",
              "\n",
              "                                              Source  \n",
              "0  Maltese Minitry of Home Affairs, Security and ...  \n",
              "1  Maltese Minitry of Home Affairs, Security and ...  \n",
              "2  Maltese Minitry of Home Affairs, Security and ...  \n",
              "3  Maltese Minitry of Home Affairs, Security and ...  \n",
              "4  Maltese Minitry of Home Affairs, Security and ...  "
            ]
          },
          "execution_count": 52,
          "metadata": {},
          "output_type": "execute_result"
        }
      ],
      "source": [
        "# Renombrar columnas\n",
        "df_excel.rename(\n",
        "    columns={\n",
        "        'ISO3 - Country of origin': 'Country_of_origin',\n",
        "        'ISO3 - Country of arrival': 'Country_of_arrival'\n",
        "    },\n",
        "    inplace=True\n",
        ")\n",
        "df_excel.head()"
      ]
    },
    {
      "cell_type": "code",
      "execution_count": 54,
      "metadata": {},
      "outputs": [
        {
          "data": {
            "application/vnd.microsoft.datawrangler.viewer.v0+json": {
              "columns": [
                {
                  "name": "index",
                  "rawType": "int64",
                  "type": "integer"
                },
                {
                  "name": "Country_of_origin",
                  "rawType": "object",
                  "type": "string"
                },
                {
                  "name": "Country_of_arrival",
                  "rawType": "object",
                  "type": "string"
                },
                {
                  "name": "Date",
                  "rawType": "datetime64[ns]",
                  "type": "datetime"
                },
                {
                  "name": "Arrivals",
                  "rawType": "int64",
                  "type": "integer"
                },
                {
                  "name": "Month",
                  "rawType": "int64",
                  "type": "integer"
                },
                {
                  "name": "Source",
                  "rawType": "object",
                  "type": "string"
                }
              ],
              "ref": "63f2c946-77ce-4d80-b37b-169466d1273e",
              "rows": [
                [
                  "0",
                  "BGD",
                  "MLT",
                  "2024-01-31 00:00:00",
                  "7",
                  "1",
                  "Maltese Minitry of Home Affairs, Security and Employment"
                ],
                [
                  "1",
                  "EGY",
                  "MLT",
                  "2024-01-31 00:00:00",
                  "1",
                  "1",
                  "Maltese Minitry of Home Affairs, Security and Employment"
                ],
                [
                  "2",
                  "PAK",
                  "MLT",
                  "2024-01-31 00:00:00",
                  "22",
                  "1",
                  "Maltese Minitry of Home Affairs, Security and Employment"
                ],
                [
                  "3",
                  "SDN",
                  "MLT",
                  "2024-01-31 00:00:00",
                  "1",
                  "1",
                  "Maltese Minitry of Home Affairs, Security and Employment"
                ],
                [
                  "4",
                  "SYR",
                  "MLT",
                  "2024-01-31 00:00:00",
                  "4",
                  "1",
                  "Maltese Minitry of Home Affairs, Security and Employment"
                ]
              ],
              "shape": {
                "columns": 6,
                "rows": 5
              }
            },
            "text/html": [
              "<div>\n",
              "<style scoped>\n",
              "    .dataframe tbody tr th:only-of-type {\n",
              "        vertical-align: middle;\n",
              "    }\n",
              "\n",
              "    .dataframe tbody tr th {\n",
              "        vertical-align: top;\n",
              "    }\n",
              "\n",
              "    .dataframe thead th {\n",
              "        text-align: right;\n",
              "    }\n",
              "</style>\n",
              "<table border=\"1\" class=\"dataframe\">\n",
              "  <thead>\n",
              "    <tr style=\"text-align: right;\">\n",
              "      <th></th>\n",
              "      <th>Country_of_origin</th>\n",
              "      <th>Country_of_arrival</th>\n",
              "      <th>Date</th>\n",
              "      <th>Arrivals</th>\n",
              "      <th>Month</th>\n",
              "      <th>Source</th>\n",
              "    </tr>\n",
              "  </thead>\n",
              "  <tbody>\n",
              "    <tr>\n",
              "      <th>0</th>\n",
              "      <td>BGD</td>\n",
              "      <td>MLT</td>\n",
              "      <td>2024-01-31</td>\n",
              "      <td>7</td>\n",
              "      <td>1</td>\n",
              "      <td>Maltese Minitry of Home Affairs, Security and ...</td>\n",
              "    </tr>\n",
              "    <tr>\n",
              "      <th>1</th>\n",
              "      <td>EGY</td>\n",
              "      <td>MLT</td>\n",
              "      <td>2024-01-31</td>\n",
              "      <td>1</td>\n",
              "      <td>1</td>\n",
              "      <td>Maltese Minitry of Home Affairs, Security and ...</td>\n",
              "    </tr>\n",
              "    <tr>\n",
              "      <th>2</th>\n",
              "      <td>PAK</td>\n",
              "      <td>MLT</td>\n",
              "      <td>2024-01-31</td>\n",
              "      <td>22</td>\n",
              "      <td>1</td>\n",
              "      <td>Maltese Minitry of Home Affairs, Security and ...</td>\n",
              "    </tr>\n",
              "    <tr>\n",
              "      <th>3</th>\n",
              "      <td>SDN</td>\n",
              "      <td>MLT</td>\n",
              "      <td>2024-01-31</td>\n",
              "      <td>1</td>\n",
              "      <td>1</td>\n",
              "      <td>Maltese Minitry of Home Affairs, Security and ...</td>\n",
              "    </tr>\n",
              "    <tr>\n",
              "      <th>4</th>\n",
              "      <td>SYR</td>\n",
              "      <td>MLT</td>\n",
              "      <td>2024-01-31</td>\n",
              "      <td>4</td>\n",
              "      <td>1</td>\n",
              "      <td>Maltese Minitry of Home Affairs, Security and ...</td>\n",
              "    </tr>\n",
              "  </tbody>\n",
              "</table>\n",
              "</div>"
            ],
            "text/plain": [
              "  Country_of_origin Country_of_arrival       Date  Arrivals  Month  \\\n",
              "0               BGD                MLT 2024-01-31         7      1   \n",
              "1               EGY                MLT 2024-01-31         1      1   \n",
              "2               PAK                MLT 2024-01-31        22      1   \n",
              "3               SDN                MLT 2024-01-31         1      1   \n",
              "4               SYR                MLT 2024-01-31         4      1   \n",
              "\n",
              "                                              Source  \n",
              "0  Maltese Minitry of Home Affairs, Security and ...  \n",
              "1  Maltese Minitry of Home Affairs, Security and ...  \n",
              "2  Maltese Minitry of Home Affairs, Security and ...  \n",
              "3  Maltese Minitry of Home Affairs, Security and ...  \n",
              "4  Maltese Minitry of Home Affairs, Security and ...  "
            ]
          },
          "execution_count": 54,
          "metadata": {},
          "output_type": "execute_result"
        }
      ],
      "source": [
        "# Reordenar columnas\n",
        "df_excel = df_excel[['Country_of_origin', 'Country_of_arrival', 'Date', 'Arrivals', 'Month', \"Source\"]]\n",
        "df_excel.head()"
      ]
    },
    {
      "cell_type": "markdown",
      "metadata": {},
      "source": [
        "## 📌 Manejo de valores nulos\n",
        "\n",
        "En Pandas, los valores nulos o faltantes se representan con `NaN` (Not a Number).\n",
        "Se pueden manejar de varias formas:\n",
        "- **Rellenar valores nulos**: Usando `fillna()`, puedes reemplazar los valores nulos con un valor específico, la media, la mediana, etc.\n",
        "- **Eliminar valores nulos**: Con `dropna()`, puedes eliminar filas o columnas que contengan valores nulos.\n",
        "\n",
        "> Importante! Asegúrate de entender bien el contexto de tus datos antes de decidir cómo manejar los valores nulos, ya que diferentes enfoques pueden afectar significativamente tus análisis posteriores."
      ]
    },
    {
      "cell_type": "code",
      "execution_count": 113,
      "metadata": {},
      "outputs": [
        {
          "name": "stdout",
          "output_type": "stream",
          "text": [
            "<class 'pandas.core.frame.DataFrame'>\n",
            "RangeIndex: 150000 entries, 0 to 149999\n",
            "Data columns (total 21 columns):\n",
            " #   Column                             Non-Null Count   Dtype  \n",
            "---  ------                             --------------   -----  \n",
            " 0   Date                               150000 non-null  object \n",
            " 1   Time                               150000 non-null  object \n",
            " 2   Booking ID                         150000 non-null  object \n",
            " 3   Booking Status                     150000 non-null  object \n",
            " 4   Customer ID                        150000 non-null  object \n",
            " 5   Vehicle Type                       150000 non-null  object \n",
            " 6   Pickup Location                    150000 non-null  object \n",
            " 7   Drop Location                      150000 non-null  object \n",
            " 8   Avg VTAT                           139500 non-null  float64\n",
            " 9   Avg CTAT                           102000 non-null  float64\n",
            " 10  Cancelled Rides by Customer        10500 non-null   float64\n",
            " 11  Reason for cancelling by Customer  10500 non-null   object \n",
            " 12  Cancelled Rides by Driver          27000 non-null   float64\n",
            " 13  Driver Cancellation Reason         27000 non-null   object \n",
            " 14  Incomplete Rides                   9000 non-null    float64\n",
            " 15  Incomplete Rides Reason            9000 non-null    object \n",
            " 16  Booking Value                      102000 non-null  float64\n",
            " 17  Ride Distance                      102000 non-null  float64\n",
            " 18  Driver Ratings                     93000 non-null   float64\n",
            " 19  Customer Rating                    93000 non-null   float64\n",
            " 20  Payment Method                     102000 non-null  object \n",
            "dtypes: float64(9), object(12)\n",
            "memory usage: 24.0+ MB\n"
          ]
        }
      ],
      "source": [
        "# Remplazo de valores nulos\n",
        "df_csv.info()"
      ]
    },
    {
      "cell_type": "code",
      "execution_count": 92,
      "metadata": {},
      "outputs": [
        {
          "data": {
            "application/vnd.microsoft.datawrangler.viewer.v0+json": {
              "columns": [
                {
                  "name": "index",
                  "rawType": "object",
                  "type": "string"
                },
                {
                  "name": "0",
                  "rawType": "float64",
                  "type": "float"
                }
              ],
              "ref": "f9188d8c-fb10-4c8c-8774-6cbe358a6f76",
              "rows": [
                [
                  "Date",
                  "0.0"
                ],
                [
                  "Time",
                  "0.0"
                ],
                [
                  "Booking ID",
                  "0.0"
                ],
                [
                  "Booking Status",
                  "0.0"
                ],
                [
                  "Customer ID",
                  "0.0"
                ],
                [
                  "Vehicle Type",
                  "0.0"
                ],
                [
                  "Pickup Location",
                  "0.0"
                ],
                [
                  "Drop Location",
                  "0.0"
                ],
                [
                  "Avg VTAT",
                  "7.000000000000001"
                ],
                [
                  "Avg CTAT",
                  "32.0"
                ],
                [
                  "Cancelled Rides by Customer",
                  "93.0"
                ],
                [
                  "Reason for cancelling by Customer",
                  "93.0"
                ],
                [
                  "Cancelled Rides by Driver",
                  "82.0"
                ],
                [
                  "Driver Cancellation Reason",
                  "82.0"
                ],
                [
                  "Incomplete Rides",
                  "94.0"
                ],
                [
                  "Incomplete Rides Reason",
                  "94.0"
                ],
                [
                  "Booking Value",
                  "32.0"
                ],
                [
                  "Ride Distance",
                  "32.0"
                ],
                [
                  "Driver Ratings",
                  "0.0"
                ],
                [
                  "Customer Rating",
                  "38.0"
                ],
                [
                  "Payment Method",
                  "32.0"
                ]
              ],
              "shape": {
                "columns": 1,
                "rows": 21
              }
            },
            "text/plain": [
              "Date                                  0.0\n",
              "Time                                  0.0\n",
              "Booking ID                            0.0\n",
              "Booking Status                        0.0\n",
              "Customer ID                           0.0\n",
              "Vehicle Type                          0.0\n",
              "Pickup Location                       0.0\n",
              "Drop Location                         0.0\n",
              "Avg VTAT                              7.0\n",
              "Avg CTAT                             32.0\n",
              "Cancelled Rides by Customer          93.0\n",
              "Reason for cancelling by Customer    93.0\n",
              "Cancelled Rides by Driver            82.0\n",
              "Driver Cancellation Reason           82.0\n",
              "Incomplete Rides                     94.0\n",
              "Incomplete Rides Reason              94.0\n",
              "Booking Value                        32.0\n",
              "Ride Distance                        32.0\n",
              "Driver Ratings                        0.0\n",
              "Customer Rating                      38.0\n",
              "Payment Method                       32.0\n",
              "dtype: float64"
            ]
          },
          "execution_count": 92,
          "metadata": {},
          "output_type": "execute_result"
        }
      ],
      "source": [
        "# Porcentaje de nulos por columna\n",
        "(df_csv.isnull().sum() / len(df_csv)) * 100"
      ]
    },
    {
      "cell_type": "markdown",
      "metadata": {},
      "source": [
        "**💡 Estrategia para manejar nulos**\n",
        "\n",
        "- Para estadísticas y análisis generales, normalmente se prefieren columnas con menos nulos, por ejemplo:\n",
        "\n",
        "    - Avg VTAT (~7% nulos)\n",
        "\n",
        "    - Avg CTAT (~32% nulos) → todavía manejable con imputación\n",
        "\n",
        "- Columnas como Cancelled Rides by Customer o Incomplete Rides tienen más del 90% nulos, lo que indica que:\n",
        "\n",
        "    - Solo aplican a un subconjunto específico de datos. Lo mejor es no imputar valores, sino tratarlas como información condicional (por ejemplo, filtrar filas donde hay cancelaciones o rides incompletos).\n",
        "\n",
        "- Columnas como Booking Value, Ride Distance y Payment Method (~32% nulos) pueden imputarse con cuidado, por ejemplo:\n",
        "\n",
        "    - Rellenar valores faltantes con la media, mediana o categoría “Desconocido” si es categórica.\n",
        "\n",
        "✅ Recomendación\n",
        "\n",
        "- Para análisis general: Avg VTAT, Avg CTAT, Driver Ratings, Customer Rating → nulos relativamente bajos/moderados.\n",
        "\n",
        "- Para análisis condicional (eventos específicos): Cancelled Rides by Customer, Cancelled Rides by Driver, Incomplete Rides → tratar nulos como 0 o no aplicable según el contexto.\n",
        "\n",
        "- Columnas categóricas con nulos moderados: Payment Method → imputar con \"Unknown\" si se requiere completar datos."
      ]
    },
    {
      "cell_type": "code",
      "execution_count": null,
      "metadata": {},
      "outputs": [
        {
          "name": "stderr",
          "output_type": "stream",
          "text": [
            "C:\\Users\\amval\\AppData\\Local\\Temp\\ipykernel_22680\\813565267.py:2: FutureWarning: A value is trying to be set on a copy of a DataFrame or Series through chained assignment using an inplace method.\n",
            "The behavior will change in pandas 3.0. This inplace method will never work because the intermediate object on which we are setting values always behaves as a copy.\n",
            "\n",
            "For example, when doing 'df[col].method(value, inplace=True)', try using 'df.method({col: value}, inplace=True)' or df[col] = df[col].method(value) instead, to perform the operation inplace on the original object.\n",
            "\n",
            "\n",
            "  df_csv['Booking Value'].fillna(df_csv['Booking Value'].mean(), inplace=True)\n"
          ]
        }
      ],
      "source": [
        "# Boking value tiene muchos nulos, se puede imputar con la media con fillna\n",
        "df_csv['Booking Value'].fillna(df_csv['Booking Value'].mean(), inplace=True)"
      ]
    },
    {
      "cell_type": "code",
      "execution_count": null,
      "metadata": {},
      "outputs": [],
      "source": [
        "# Con dropna podemos eliminar filas con nulos\n",
        "df_csv.dropna(subset=['Booking Value'], inplace=True)"
      ]
    },
    {
      "cell_type": "markdown",
      "metadata": {},
      "source": [
        "## 📌 Manejo y adecuación de los tipos de datos"
      ]
    },
    {
      "cell_type": "code",
      "execution_count": null,
      "metadata": {},
      "outputs": [],
      "source": [
        "# "
      ]
    },
    {
      "cell_type": "markdown",
      "metadata": {},
      "source": [
        "## 📌 Remplazo de valores\n",
        "\n",
        "A veces es necesario reemplazar valores específicos en una columna, por ejemplo, para agrupar categorías similares o corregir errores tipográficos.\n",
        "Antes de tomar una decisión sobre cómo manejar los valores nulos, es importante analizar la naturaleza de los datos y el contexto del análisis.\n",
        "\n",
        "Por eso, se aplican métodos previos para explorar los datos y entender su distribución antes de decidir cómo proceder con el reemplazo o imputación de valores.\n",
        "\n",
        "Algunos de los métodos más comunes para conocer los valores de las columnas son:\n",
        "- `unique()`: Identifica los valores únicos en una columna, útil para entender qué valores pueden necesitar ser reemplazados.\n",
        "- `value_counts()`: Cuenta la frecuencia de cada valor único en una columna, ayudando a identificar valores atípicos o errores.\n",
        "- `nunique()`: Devuelve el número de valores únicos en una columna, proporcionando una visión rápida de la diversidad de datos.\n",
        "\n"
      ]
    },
    {
      "cell_type": "code",
      "execution_count": 94,
      "metadata": {},
      "outputs": [
        {
          "data": {
            "text/plain": [
              "array([nan, 'UPI', 'Debit Card', 'Cash', 'Uber Wallet', 'Credit Card'],\n",
              "      dtype=object)"
            ]
          },
          "execution_count": 94,
          "metadata": {},
          "output_type": "execute_result"
        }
      ],
      "source": [
        "# Identificar valores únicos en una columna\n",
        "df_csv['Payment Method'].unique()"
      ]
    },
    {
      "cell_type": "code",
      "execution_count": 95,
      "metadata": {},
      "outputs": [
        {
          "data": {
            "application/vnd.microsoft.datawrangler.viewer.v0+json": {
              "columns": [
                {
                  "name": "Payment Method",
                  "rawType": "object",
                  "type": "string"
                },
                {
                  "name": "count",
                  "rawType": "int64",
                  "type": "integer"
                }
              ],
              "ref": "5f557a6b-daf2-483b-b36e-aab760a93da8",
              "rows": [
                [
                  "UPI",
                  "45909"
                ],
                [
                  "Cash",
                  "25367"
                ],
                [
                  "Uber Wallet",
                  "12276"
                ],
                [
                  "Credit Card",
                  "10209"
                ],
                [
                  "Debit Card",
                  "8239"
                ]
              ],
              "shape": {
                "columns": 1,
                "rows": 5
              }
            },
            "text/plain": [
              "Payment Method\n",
              "UPI            45909\n",
              "Cash           25367\n",
              "Uber Wallet    12276\n",
              "Credit Card    10209\n",
              "Debit Card      8239\n",
              "Name: count, dtype: int64"
            ]
          },
          "execution_count": 95,
          "metadata": {},
          "output_type": "execute_result"
        }
      ],
      "source": [
        "# Identificar los valores y su frecuencia en una columna\n",
        "df_csv['Payment Method'].value_counts()\n"
      ]
    },
    {
      "cell_type": "code",
      "execution_count": 96,
      "metadata": {},
      "outputs": [
        {
          "data": {
            "text/plain": [
              "5"
            ]
          },
          "execution_count": 96,
          "metadata": {},
          "output_type": "execute_result"
        }
      ],
      "source": [
        "# con nunique podemos ver el número de valores únicos en una columna\n",
        "df_csv['Payment Method'].nunique()"
      ]
    },
    {
      "cell_type": "markdown",
      "metadata": {},
      "source": [
        "Una vez que se entienden los valores presentes en una columna, se pueden realizar las transformaciones necesarias, generalmente mediante remplazos.\n",
        "Los métodos más comunes para reemplazar valores en una columna son:\n",
        "- `replace()`: Permite reemplazar valores específicos en una columna o DataFrame.\n",
        "- `map()`: Útil para reemplazar valores basados en un diccionario de mapeo.\n",
        "- `apply()`: Permite aplicar una función personalizada para transformar los valores de una columna.\n"
      ]
    },
    {
      "cell_type": "code",
      "execution_count": null,
      "metadata": {},
      "outputs": [
        {
          "name": "stderr",
          "output_type": "stream",
          "text": [
            "C:\\Users\\amval\\AppData\\Local\\Temp\\ipykernel_22680\\439573507.py:2: FutureWarning: A value is trying to be set on a copy of a DataFrame or Series through chained assignment using an inplace method.\n",
            "The behavior will change in pandas 3.0. This inplace method will never work because the intermediate object on which we are setting values always behaves as a copy.\n",
            "\n",
            "For example, when doing 'df[col].method(value, inplace=True)', try using 'df.method({col: value}, inplace=True)' or df[col] = df[col].method(value) instead, to perform the operation inplace on the original object.\n",
            "\n",
            "\n",
            "  df_csv['Payment Method'].replace({'Credit Card': 'Card', 'Debit Card': 'Card'}, inplace=True)\n"
          ]
        }
      ],
      "source": [
        "# Remplazo de valores específicos en una columna con replace\n",
        "df_csv['Payment Method'].replace({'Credit Card': 'Card', 'Debit Card': 'Card'}, inplace=True)\n"
      ]
    },
    {
      "cell_type": "code",
      "execution_count": 99,
      "metadata": {},
      "outputs": [
        {
          "data": {
            "application/vnd.microsoft.datawrangler.viewer.v0+json": {
              "columns": [
                {
                  "name": "Payment Method",
                  "rawType": "object",
                  "type": "string"
                },
                {
                  "name": "count",
                  "rawType": "int64",
                  "type": "integer"
                }
              ],
              "ref": "1a3d3319-c5d8-466d-af52-2b234da86ab1",
              "rows": [
                [
                  "UPI",
                  "45909"
                ],
                [
                  "Cash",
                  "25367"
                ],
                [
                  "Card",
                  "18448"
                ],
                [
                  "Uber Wallet",
                  "12276"
                ]
              ],
              "shape": {
                "columns": 1,
                "rows": 4
              }
            },
            "text/plain": [
              "Payment Method\n",
              "UPI            45909\n",
              "Cash           25367\n",
              "Card           18448\n",
              "Uber Wallet    12276\n",
              "Name: count, dtype: int64"
            ]
          },
          "execution_count": 99,
          "metadata": {},
          "output_type": "execute_result"
        }
      ],
      "source": [
        "df_csv['Payment Method'].value_counts()"
      ]
    },
    {
      "cell_type": "code",
      "execution_count": null,
      "metadata": {},
      "outputs": [],
      "source": [
        "# Remplazo de valores con map. Hay que tener en cuenta que los valores que no estén en el diccionario se convierten en NaN\n",
        "dict_map = {\n",
        "    'eBike': 'Electric Bike',\n",
        "    'Go Sedan': 'Gasoline Sedan',\n",
        "    'Go Mini'   : 'Gasoline Mini'\n",
        "}\n",
        "df_csv['Vehicle Type'] = df_csv['Vehicle Type'].map(dict_map)\n",
        "\n"
      ]
    },
    {
      "cell_type": "code",
      "execution_count": null,
      "metadata": {},
      "outputs": [],
      "source": [
        "# remplazo de valores con apply y una función personalizada\n",
        "def standardize_payment_method(method):\n",
        "    if method in ['Credit Card', 'Debit Card']:\n",
        "        return 'Card'\n",
        "    elif method in ['Cash', 'Mobile Payment']:\n",
        "        return method\n",
        "    else:\n",
        "        return 'Other'\n",
        "df_csv['Payment Method'] = df_csv['Payment Method'].apply(standardize_payment_method)\n",
        "#Explicación: Una función personalizada llamada standardize_payment_method se define para estandarizar los métodos de pago.\n",
        "#Gracias a los condicionales, los métodos 'Credit Card' y 'Debit Card' se reemplazan por 'Card', mientras que otros métodos se mantienen igual o se etiquetan como 'Other'.\n",
        "#Esta función se aplica a cada valor de la columna 'Payment Method' utilizando el método apply, y los resultados se asignan de nuevo a la misma columna."
      ]
    },
    {
      "cell_type": "code",
      "execution_count": 116,
      "metadata": {},
      "outputs": [
        {
          "data": {
            "application/vnd.microsoft.datawrangler.viewer.v0+json": {
              "columns": [
                {
                  "name": "Payment Method",
                  "rawType": "object",
                  "type": "string"
                },
                {
                  "name": "count",
                  "rawType": "int64",
                  "type": "integer"
                }
              ],
              "ref": "504e6fc8-c2be-4bb5-8487-4ac59149dbb8",
              "rows": [
                [
                  "Other",
                  "106185"
                ],
                [
                  "Cash",
                  "25367"
                ],
                [
                  "Card",
                  "18448"
                ]
              ],
              "shape": {
                "columns": 1,
                "rows": 3
              }
            },
            "text/plain": [
              "Payment Method\n",
              "Other    106185\n",
              "Cash      25367\n",
              "Card      18448\n",
              "Name: count, dtype: int64"
            ]
          },
          "execution_count": 116,
          "metadata": {},
          "output_type": "execute_result"
        }
      ],
      "source": [
        "df_csv['Payment Method'].value_counts()"
      ]
    },
    {
      "cell_type": "markdown",
      "metadata": {},
      "source": [
        "## 📌 Columnas con valores condicionales"
      ]
    },
    {
      "cell_type": "markdown",
      "metadata": {},
      "source": [
        "\n",
        "\n",
        "5. Operaciones con datos\n",
        "\n",
        "Operaciones aritméticas y estadísticas básicas (sum(), mean(), median())\n",
        "\n",
        "Agrupación y resumen (groupby)\n",
        "\n",
        "Aplicación de funciones (apply, map, lambda)\n",
        "\n",
        "6. Trabajo con datos externos\n",
        "\n",
        "Leer y guardar CSV/Excel (read_csv, to_csv, read_excel, to_excel)\n",
        "\n",
        "Exploración de datasets reales\n",
        "\n",
        "7. Visualización básica con Pandas\n",
        "\n",
        "plot() para gráficos rápidos\n",
        "\n",
        "Histogramas, líneas y barras\n",
        "\n",
        "8. Ejercicio práctico final\n",
        "\n",
        "Mini proyecto de análisis exploratorio: limpieza, resumen y visualización de un dataset real\n",
        "\n",
        "Conclusiones y siguientes pasos\n",
        "\n",
        "Buenas prácticas con Pandas\n",
        "\n",
        "Recursos para profundizar"
      ]
    },
    {
      "cell_type": "markdown",
      "metadata": {
        "id": "kS_SlnroTVfY"
      },
      "source": [
        "## Multi-Índice\n"
      ]
    },
    {
      "cell_type": "code",
      "execution_count": null,
      "metadata": {
        "id": "BGtivikVTVfY"
      },
      "outputs": [],
      "source": [
        "# Index Levels\n",
        "outside = ['G1','G1','G1','G2','G2','G2']\n",
        "inside = [1,2,3,1,2,3]\n",
        "hier_index = list(zip(outside,inside))\n",
        "hier_index = pd.MultiIndex.from_tuples(hier_index)"
      ]
    },
    {
      "cell_type": "code",
      "execution_count": null,
      "metadata": {
        "colab": {
          "base_uri": "https://localhost:8080/"
        },
        "id": "u1DpHtIpTVfY",
        "outputId": "620bf3d6-c551-4cd7-8ca8-e2c9b3456993"
      },
      "outputs": [
        {
          "data": {
            "text/plain": [
              "MultiIndex([('G1', 1),\n",
              "            ('G1', 2),\n",
              "            ('G1', 3),\n",
              "            ('G2', 1),\n",
              "            ('G2', 2),\n",
              "            ('G2', 3)],\n",
              "           )"
            ]
          },
          "execution_count": 24,
          "metadata": {
            "tags": []
          },
          "output_type": "execute_result"
        }
      ],
      "source": [
        "hier_index"
      ]
    },
    {
      "cell_type": "code",
      "execution_count": null,
      "metadata": {
        "colab": {
          "base_uri": "https://localhost:8080/",
          "height": 235
        },
        "id": "6ahnddnsTVfY",
        "outputId": "85044b06-b2e5-415a-cdea-8930d7a32ee0"
      },
      "outputs": [
        {
          "data": {
            "text/html": [
              "<div>\n",
              "<style scoped>\n",
              "    .dataframe tbody tr th:only-of-type {\n",
              "        vertical-align: middle;\n",
              "    }\n",
              "\n",
              "    .dataframe tbody tr th {\n",
              "        vertical-align: top;\n",
              "    }\n",
              "\n",
              "    .dataframe thead th {\n",
              "        text-align: right;\n",
              "    }\n",
              "</style>\n",
              "<table border=\"1\" class=\"dataframe\">\n",
              "  <thead>\n",
              "    <tr style=\"text-align: right;\">\n",
              "      <th></th>\n",
              "      <th></th>\n",
              "      <th>A</th>\n",
              "      <th>B</th>\n",
              "    </tr>\n",
              "  </thead>\n",
              "  <tbody>\n",
              "    <tr>\n",
              "      <th rowspan=\"3\" valign=\"top\">G1</th>\n",
              "      <th>1</th>\n",
              "      <td>0.302665</td>\n",
              "      <td>1.693723</td>\n",
              "    </tr>\n",
              "    <tr>\n",
              "      <th>2</th>\n",
              "      <td>-1.706086</td>\n",
              "      <td>-1.159119</td>\n",
              "    </tr>\n",
              "    <tr>\n",
              "      <th>3</th>\n",
              "      <td>-0.134841</td>\n",
              "      <td>0.390528</td>\n",
              "    </tr>\n",
              "    <tr>\n",
              "      <th rowspan=\"3\" valign=\"top\">G2</th>\n",
              "      <th>1</th>\n",
              "      <td>0.166905</td>\n",
              "      <td>0.184502</td>\n",
              "    </tr>\n",
              "    <tr>\n",
              "      <th>2</th>\n",
              "      <td>0.807706</td>\n",
              "      <td>0.072960</td>\n",
              "    </tr>\n",
              "    <tr>\n",
              "      <th>3</th>\n",
              "      <td>0.638787</td>\n",
              "      <td>0.329646</td>\n",
              "    </tr>\n",
              "  </tbody>\n",
              "</table>\n",
              "</div>"
            ],
            "text/plain": [
              "             A         B\n",
              "G1 1  0.302665  1.693723\n",
              "   2 -1.706086 -1.159119\n",
              "   3 -0.134841  0.390528\n",
              "G2 1  0.166905  0.184502\n",
              "   2  0.807706  0.072960\n",
              "   3  0.638787  0.329646"
            ]
          },
          "execution_count": 25,
          "metadata": {
            "tags": []
          },
          "output_type": "execute_result"
        }
      ],
      "source": [
        "df = pd.DataFrame(np.random.randn(6,2), index=hier_index, columns=['A','B'])\n",
        "df"
      ]
    },
    {
      "cell_type": "markdown",
      "metadata": {
        "id": "FeZSn2igTVfY"
      },
      "source": [
        "Comprobemos cómo acceder a los elementos de estos objetos. En primer lugar, para acceder a la capa *superior* de un multiíndice, basta con usar la hasta ahora conocida notación `df.loc[]`:"
      ]
    },
    {
      "cell_type": "code",
      "execution_count": null,
      "metadata": {
        "colab": {
          "base_uri": "https://localhost:8080/",
          "height": 142
        },
        "id": "TA3_EjvvTVfZ",
        "outputId": "2d0e5ed1-7557-462a-a3f3-c3803bf4d6f9"
      },
      "outputs": [
        {
          "data": {
            "text/html": [
              "<div>\n",
              "<style scoped>\n",
              "    .dataframe tbody tr th:only-of-type {\n",
              "        vertical-align: middle;\n",
              "    }\n",
              "\n",
              "    .dataframe tbody tr th {\n",
              "        vertical-align: top;\n",
              "    }\n",
              "\n",
              "    .dataframe thead th {\n",
              "        text-align: right;\n",
              "    }\n",
              "</style>\n",
              "<table border=\"1\" class=\"dataframe\">\n",
              "  <thead>\n",
              "    <tr style=\"text-align: right;\">\n",
              "      <th></th>\n",
              "      <th>A</th>\n",
              "      <th>B</th>\n",
              "    </tr>\n",
              "  </thead>\n",
              "  <tbody>\n",
              "    <tr>\n",
              "      <th>1</th>\n",
              "      <td>0.302665</td>\n",
              "      <td>1.693723</td>\n",
              "    </tr>\n",
              "    <tr>\n",
              "      <th>2</th>\n",
              "      <td>-1.706086</td>\n",
              "      <td>-1.159119</td>\n",
              "    </tr>\n",
              "    <tr>\n",
              "      <th>3</th>\n",
              "      <td>-0.134841</td>\n",
              "      <td>0.390528</td>\n",
              "    </tr>\n",
              "  </tbody>\n",
              "</table>\n",
              "</div>"
            ],
            "text/plain": [
              "          A         B\n",
              "1  0.302665  1.693723\n",
              "2 -1.706086 -1.159119\n",
              "3 -0.134841  0.390528"
            ]
          },
          "execution_count": 27,
          "metadata": {
            "tags": []
          },
          "output_type": "execute_result"
        }
      ],
      "source": [
        "df.loc['G1',:]"
      ]
    },
    {
      "cell_type": "markdown",
      "metadata": {
        "id": "6huPjzVr5wpN"
      },
      "source": [
        "Podemos asignar nombres a las distintas capas de índices:"
      ]
    },
    {
      "cell_type": "code",
      "execution_count": null,
      "metadata": {
        "id": "fK3tQjJETVfZ",
        "outputId": "9dc80b9b-c4f7-4f71-d40b-3c64b42cea7a"
      },
      "outputs": [
        {
          "data": {
            "text/plain": [
              "FrozenList([None, None])"
            ]
          },
          "execution_count": 265,
          "metadata": {
            "tags": []
          },
          "output_type": "execute_result"
        }
      ],
      "source": [
        "df.index.names"
      ]
    },
    {
      "cell_type": "code",
      "execution_count": null,
      "metadata": {
        "collapsed": true,
        "id": "oDGcf0WDTVfZ"
      },
      "outputs": [],
      "source": [
        "df.index.names = ['Group','Num']"
      ]
    },
    {
      "cell_type": "code",
      "execution_count": null,
      "metadata": {
        "colab": {
          "base_uri": "https://localhost:8080/",
          "height": 266
        },
        "id": "nIhOejnqTVfZ",
        "outputId": "22a5a809-6e35-45c4-818d-5c0db36976cf"
      },
      "outputs": [
        {
          "data": {
            "text/html": [
              "<div>\n",
              "<style scoped>\n",
              "    .dataframe tbody tr th:only-of-type {\n",
              "        vertical-align: middle;\n",
              "    }\n",
              "\n",
              "    .dataframe tbody tr th {\n",
              "        vertical-align: top;\n",
              "    }\n",
              "\n",
              "    .dataframe thead th {\n",
              "        text-align: right;\n",
              "    }\n",
              "</style>\n",
              "<table border=\"1\" class=\"dataframe\">\n",
              "  <thead>\n",
              "    <tr style=\"text-align: right;\">\n",
              "      <th></th>\n",
              "      <th></th>\n",
              "      <th>A</th>\n",
              "      <th>B</th>\n",
              "    </tr>\n",
              "    <tr>\n",
              "      <th>Group</th>\n",
              "      <th>Num</th>\n",
              "      <th></th>\n",
              "      <th></th>\n",
              "    </tr>\n",
              "  </thead>\n",
              "  <tbody>\n",
              "    <tr>\n",
              "      <th rowspan=\"3\" valign=\"top\">G1</th>\n",
              "      <th>1</th>\n",
              "      <td>0.302665</td>\n",
              "      <td>1.693723</td>\n",
              "    </tr>\n",
              "    <tr>\n",
              "      <th>2</th>\n",
              "      <td>-1.706086</td>\n",
              "      <td>-1.159119</td>\n",
              "    </tr>\n",
              "    <tr>\n",
              "      <th>3</th>\n",
              "      <td>-0.134841</td>\n",
              "      <td>0.390528</td>\n",
              "    </tr>\n",
              "    <tr>\n",
              "      <th rowspan=\"3\" valign=\"top\">G2</th>\n",
              "      <th>1</th>\n",
              "      <td>0.166905</td>\n",
              "      <td>0.184502</td>\n",
              "    </tr>\n",
              "    <tr>\n",
              "      <th>2</th>\n",
              "      <td>0.807706</td>\n",
              "      <td>0.072960</td>\n",
              "    </tr>\n",
              "    <tr>\n",
              "      <th>3</th>\n",
              "      <td>0.638787</td>\n",
              "      <td>0.329646</td>\n",
              "    </tr>\n",
              "  </tbody>\n",
              "</table>\n",
              "</div>"
            ],
            "text/plain": [
              "                  A         B\n",
              "Group Num                    \n",
              "G1    1    0.302665  1.693723\n",
              "      2   -1.706086 -1.159119\n",
              "      3   -0.134841  0.390528\n",
              "G2    1    0.166905  0.184502\n",
              "      2    0.807706  0.072960\n",
              "      3    0.638787  0.329646"
            ]
          },
          "execution_count": 30,
          "metadata": {
            "tags": []
          },
          "output_type": "execute_result"
        }
      ],
      "source": [
        "df"
      ]
    },
    {
      "cell_type": "markdown",
      "metadata": {
        "id": "jdkuPBNH55py"
      },
      "source": [
        "Emplearemos ahora la función `.xs()` (*cross-section*) para acceder a las distintas capas de un índice múltiple:"
      ]
    },
    {
      "cell_type": "code",
      "execution_count": null,
      "metadata": {
        "colab": {
          "base_uri": "https://localhost:8080/",
          "height": 173
        },
        "id": "SOu9e3zGTVfa",
        "outputId": "e0f56cef-0356-4db5-fd9d-7ab818758a8a"
      },
      "outputs": [
        {
          "data": {
            "text/html": [
              "<div>\n",
              "<style scoped>\n",
              "    .dataframe tbody tr th:only-of-type {\n",
              "        vertical-align: middle;\n",
              "    }\n",
              "\n",
              "    .dataframe tbody tr th {\n",
              "        vertical-align: top;\n",
              "    }\n",
              "\n",
              "    .dataframe thead th {\n",
              "        text-align: right;\n",
              "    }\n",
              "</style>\n",
              "<table border=\"1\" class=\"dataframe\">\n",
              "  <thead>\n",
              "    <tr style=\"text-align: right;\">\n",
              "      <th></th>\n",
              "      <th>A</th>\n",
              "      <th>B</th>\n",
              "    </tr>\n",
              "    <tr>\n",
              "      <th>Num</th>\n",
              "      <th></th>\n",
              "      <th></th>\n",
              "    </tr>\n",
              "  </thead>\n",
              "  <tbody>\n",
              "    <tr>\n",
              "      <th>1</th>\n",
              "      <td>0.302665</td>\n",
              "      <td>1.693723</td>\n",
              "    </tr>\n",
              "    <tr>\n",
              "      <th>2</th>\n",
              "      <td>-1.706086</td>\n",
              "      <td>-1.159119</td>\n",
              "    </tr>\n",
              "    <tr>\n",
              "      <th>3</th>\n",
              "      <td>-0.134841</td>\n",
              "      <td>0.390528</td>\n",
              "    </tr>\n",
              "  </tbody>\n",
              "</table>\n",
              "</div>"
            ],
            "text/plain": [
              "            A         B\n",
              "Num                    \n",
              "1    0.302665  1.693723\n",
              "2   -1.706086 -1.159119\n",
              "3   -0.134841  0.390528"
            ]
          },
          "execution_count": 31,
          "metadata": {
            "tags": []
          },
          "output_type": "execute_result"
        }
      ],
      "source": [
        "df.xs('G1', axis = 0)"
      ]
    },
    {
      "cell_type": "code",
      "execution_count": null,
      "metadata": {
        "colab": {
          "base_uri": "https://localhost:8080/"
        },
        "id": "VXIpEUTMTVfa",
        "outputId": "962773d8-f13a-4550-cca4-c94a37e25113"
      },
      "outputs": [
        {
          "data": {
            "text/plain": [
              "A    0.302665\n",
              "B    1.693723\n",
              "Name: (G1, 1), dtype: float64"
            ]
          },
          "execution_count": 32,
          "metadata": {
            "tags": []
          },
          "output_type": "execute_result"
        }
      ],
      "source": [
        "df.xs(['G1',1], axis = 0)"
      ]
    },
    {
      "cell_type": "code",
      "execution_count": null,
      "metadata": {
        "colab": {
          "base_uri": "https://localhost:8080/",
          "height": 142
        },
        "id": "Gq3ygGY2TVfa",
        "outputId": "7b6942ad-21f2-4f82-b43c-f89b9567a6de"
      },
      "outputs": [
        {
          "data": {
            "text/html": [
              "<div>\n",
              "<style scoped>\n",
              "    .dataframe tbody tr th:only-of-type {\n",
              "        vertical-align: middle;\n",
              "    }\n",
              "\n",
              "    .dataframe tbody tr th {\n",
              "        vertical-align: top;\n",
              "    }\n",
              "\n",
              "    .dataframe thead th {\n",
              "        text-align: right;\n",
              "    }\n",
              "</style>\n",
              "<table border=\"1\" class=\"dataframe\">\n",
              "  <thead>\n",
              "    <tr style=\"text-align: right;\">\n",
              "      <th></th>\n",
              "      <th>A</th>\n",
              "      <th>B</th>\n",
              "    </tr>\n",
              "    <tr>\n",
              "      <th>Group</th>\n",
              "      <th></th>\n",
              "      <th></th>\n",
              "    </tr>\n",
              "  </thead>\n",
              "  <tbody>\n",
              "    <tr>\n",
              "      <th>G1</th>\n",
              "      <td>0.302665</td>\n",
              "      <td>1.693723</td>\n",
              "    </tr>\n",
              "    <tr>\n",
              "      <th>G2</th>\n",
              "      <td>0.166905</td>\n",
              "      <td>0.184502</td>\n",
              "    </tr>\n",
              "  </tbody>\n",
              "</table>\n",
              "</div>"
            ],
            "text/plain": [
              "              A         B\n",
              "Group                    \n",
              "G1     0.302665  1.693723\n",
              "G2     0.166905  0.184502"
            ]
          },
          "execution_count": 33,
          "metadata": {
            "tags": []
          },
          "output_type": "execute_result"
        }
      ],
      "source": [
        "df.xs(1,level='Num', axis = 0)"
      ]
    },
    {
      "cell_type": "markdown",
      "metadata": {
        "id": "Z1j4HvBITr1X"
      },
      "source": [
        "---\n",
        "# Información faltante\n",
        "\n",
        "Estudiaremos ahora algunas formas de lidiar con la información faltante:"
      ]
    },
    {
      "cell_type": "code",
      "execution_count": null,
      "metadata": {
        "collapsed": true,
        "id": "Qsi86vD1Tr1Z"
      },
      "outputs": [],
      "source": [
        "df = pd.DataFrame({'A':[1,2,np.nan],\n",
        "                  'B':[5,np.nan,np.nan],\n",
        "                  'C':[1,2,3]})"
      ]
    },
    {
      "cell_type": "code",
      "execution_count": null,
      "metadata": {
        "colab": {
          "base_uri": "https://localhost:8080/",
          "height": 142
        },
        "id": "r4tYIeNcTr1Z",
        "outputId": "4e3f3a49-ad0d-4f9e-cf70-f13f7753ed3a"
      },
      "outputs": [
        {
          "data": {
            "text/html": [
              "<div>\n",
              "<style scoped>\n",
              "    .dataframe tbody tr th:only-of-type {\n",
              "        vertical-align: middle;\n",
              "    }\n",
              "\n",
              "    .dataframe tbody tr th {\n",
              "        vertical-align: top;\n",
              "    }\n",
              "\n",
              "    .dataframe thead th {\n",
              "        text-align: right;\n",
              "    }\n",
              "</style>\n",
              "<table border=\"1\" class=\"dataframe\">\n",
              "  <thead>\n",
              "    <tr style=\"text-align: right;\">\n",
              "      <th></th>\n",
              "      <th>A</th>\n",
              "      <th>B</th>\n",
              "      <th>C</th>\n",
              "    </tr>\n",
              "  </thead>\n",
              "  <tbody>\n",
              "    <tr>\n",
              "      <th>0</th>\n",
              "      <td>1.0</td>\n",
              "      <td>5.0</td>\n",
              "      <td>1</td>\n",
              "    </tr>\n",
              "    <tr>\n",
              "      <th>1</th>\n",
              "      <td>2.0</td>\n",
              "      <td>NaN</td>\n",
              "      <td>2</td>\n",
              "    </tr>\n",
              "    <tr>\n",
              "      <th>2</th>\n",
              "      <td>NaN</td>\n",
              "      <td>NaN</td>\n",
              "      <td>3</td>\n",
              "    </tr>\n",
              "  </tbody>\n",
              "</table>\n",
              "</div>"
            ],
            "text/plain": [
              "     A    B  C\n",
              "0  1.0  5.0  1\n",
              "1  2.0  NaN  2\n",
              "2  NaN  NaN  3"
            ]
          },
          "execution_count": 35,
          "metadata": {
            "tags": []
          },
          "output_type": "execute_result"
        }
      ],
      "source": [
        "df"
      ]
    },
    {
      "cell_type": "code",
      "execution_count": null,
      "metadata": {
        "colab": {
          "base_uri": "https://localhost:8080/",
          "height": 80
        },
        "id": "ZgQ1mXeSTr1a",
        "outputId": "f74f7a1b-3bdf-43c9-d071-04b3b272c3ba"
      },
      "outputs": [
        {
          "data": {
            "text/html": [
              "<div>\n",
              "<style scoped>\n",
              "    .dataframe tbody tr th:only-of-type {\n",
              "        vertical-align: middle;\n",
              "    }\n",
              "\n",
              "    .dataframe tbody tr th {\n",
              "        vertical-align: top;\n",
              "    }\n",
              "\n",
              "    .dataframe thead th {\n",
              "        text-align: right;\n",
              "    }\n",
              "</style>\n",
              "<table border=\"1\" class=\"dataframe\">\n",
              "  <thead>\n",
              "    <tr style=\"text-align: right;\">\n",
              "      <th></th>\n",
              "      <th>A</th>\n",
              "      <th>B</th>\n",
              "      <th>C</th>\n",
              "    </tr>\n",
              "  </thead>\n",
              "  <tbody>\n",
              "    <tr>\n",
              "      <th>0</th>\n",
              "      <td>1.0</td>\n",
              "      <td>5.0</td>\n",
              "      <td>1</td>\n",
              "    </tr>\n",
              "  </tbody>\n",
              "</table>\n",
              "</div>"
            ],
            "text/plain": [
              "     A    B  C\n",
              "0  1.0  5.0  1"
            ]
          },
          "execution_count": 36,
          "metadata": {
            "tags": []
          },
          "output_type": "execute_result"
        }
      ],
      "source": [
        "#Eliminamos filas con valores nulos\n",
        "df.dropna()"
      ]
    },
    {
      "cell_type": "code",
      "execution_count": null,
      "metadata": {
        "id": "N1PhJJBiTr1a",
        "outputId": "0a39599b-9678-4498-91ff-f8549e4f3fe0"
      },
      "outputs": [
        {
          "data": {
            "text/html": [
              "<div>\n",
              "<table border=\"1\" class=\"dataframe\">\n",
              "  <thead>\n",
              "    <tr style=\"text-align: right;\">\n",
              "      <th></th>\n",
              "      <th>C</th>\n",
              "    </tr>\n",
              "  </thead>\n",
              "  <tbody>\n",
              "    <tr>\n",
              "      <th>0</th>\n",
              "      <td>1</td>\n",
              "    </tr>\n",
              "    <tr>\n",
              "      <th>1</th>\n",
              "      <td>2</td>\n",
              "    </tr>\n",
              "    <tr>\n",
              "      <th>2</th>\n",
              "      <td>3</td>\n",
              "    </tr>\n",
              "  </tbody>\n",
              "</table>\n",
              "</div>"
            ],
            "text/plain": [
              "   C\n",
              "0  1\n",
              "1  2\n",
              "2  3"
            ]
          },
          "execution_count": 13,
          "metadata": {
            "tags": []
          },
          "output_type": "execute_result"
        }
      ],
      "source": [
        "#Eliminamos columnas con valores nulos\n",
        "df.dropna(axis=1)"
      ]
    },
    {
      "cell_type": "code",
      "execution_count": null,
      "metadata": {
        "id": "8E_az8alTr1a",
        "outputId": "37ba7e09-00f0-4af3-f686-ba091b7ab4a1"
      },
      "outputs": [
        {
          "data": {
            "text/html": [
              "<div>\n",
              "<table border=\"1\" class=\"dataframe\">\n",
              "  <thead>\n",
              "    <tr style=\"text-align: right;\">\n",
              "      <th></th>\n",
              "      <th>A</th>\n",
              "      <th>B</th>\n",
              "      <th>C</th>\n",
              "    </tr>\n",
              "  </thead>\n",
              "  <tbody>\n",
              "    <tr>\n",
              "      <th>0</th>\n",
              "      <td>1.0</td>\n",
              "      <td>5.0</td>\n",
              "      <td>1</td>\n",
              "    </tr>\n",
              "    <tr>\n",
              "      <th>1</th>\n",
              "      <td>2.0</td>\n",
              "      <td>NaN</td>\n",
              "      <td>2</td>\n",
              "    </tr>\n",
              "  </tbody>\n",
              "</table>\n",
              "</div>"
            ],
            "text/plain": [
              "     A    B  C\n",
              "0  1.0  5.0  1\n",
              "1  2.0  NaN  2"
            ]
          },
          "execution_count": 14,
          "metadata": {
            "tags": []
          },
          "output_type": "execute_result"
        }
      ],
      "source": [
        "#Eliminamos filas con un número de nulos mayor o igual que dos\n",
        "df.dropna(thresh=2)"
      ]
    },
    {
      "cell_type": "code",
      "execution_count": null,
      "metadata": {
        "id": "QxfYak6DTr1b",
        "outputId": "54442726-7fd3-4cf6-b4d9-3b3451424a1c"
      },
      "outputs": [
        {
          "data": {
            "text/html": [
              "<div>\n",
              "<table border=\"1\" class=\"dataframe\">\n",
              "  <thead>\n",
              "    <tr style=\"text-align: right;\">\n",
              "      <th></th>\n",
              "      <th>A</th>\n",
              "      <th>B</th>\n",
              "      <th>C</th>\n",
              "    </tr>\n",
              "  </thead>\n",
              "  <tbody>\n",
              "    <tr>\n",
              "      <th>0</th>\n",
              "      <td>1</td>\n",
              "      <td>5</td>\n",
              "      <td>1</td>\n",
              "    </tr>\n",
              "    <tr>\n",
              "      <th>1</th>\n",
              "      <td>2</td>\n",
              "      <td>FILL VALUE</td>\n",
              "      <td>2</td>\n",
              "    </tr>\n",
              "    <tr>\n",
              "      <th>2</th>\n",
              "      <td>FILL VALUE</td>\n",
              "      <td>FILL VALUE</td>\n",
              "      <td>3</td>\n",
              "    </tr>\n",
              "  </tbody>\n",
              "</table>\n",
              "</div>"
            ],
            "text/plain": [
              "            A           B  C\n",
              "0           1           5  1\n",
              "1           2  FILL VALUE  2\n",
              "2  FILL VALUE  FILL VALUE  3"
            ]
          },
          "execution_count": 15,
          "metadata": {
            "tags": []
          },
          "output_type": "execute_result"
        }
      ],
      "source": [
        "#Rellenamos los valores nulos con cualesquiera datos\n",
        "df.fillna(value='FILL VALUE')"
      ]
    },
    {
      "cell_type": "code",
      "execution_count": null,
      "metadata": {
        "colab": {
          "base_uri": "https://localhost:8080/"
        },
        "id": "zfCMKrPcTr1b",
        "outputId": "69769a9b-97be-4558-bf94-5b4dffbcd239"
      },
      "outputs": [
        {
          "data": {
            "text/plain": [
              "0    1.0\n",
              "1    2.0\n",
              "2    1.5\n",
              "Name: A, dtype: float64"
            ]
          },
          "execution_count": 37,
          "metadata": {
            "tags": []
          },
          "output_type": "execute_result"
        }
      ],
      "source": [
        "# También podemos emplear funciones para agregar información faltante\n",
        "df['A'].fillna(value=df['A'].mean())"
      ]
    },
    {
      "cell_type": "markdown",
      "metadata": {
        "collapsed": true,
        "id": "JCA8nJ1bTyrS"
      },
      "source": [
        "---\n",
        "# Groupby\n",
        "\n",
        "En numerosas aplicaciones, estaremos interesados en agrupar información "
      ]
    },
    {
      "cell_type": "code",
      "execution_count": null,
      "metadata": {
        "collapsed": true,
        "id": "1QrHJ1ODTyrT"
      },
      "outputs": [],
      "source": [
        "# Create dataframe\n",
        "data = {'Company':['GOOG','GOOG','MSFT','MSFT','FB','FB'],\n",
        "       'Person':['Sam','Charlie','Amy','Vanessa','Carl','Sarah'],\n",
        "       'Sales':[200,120,340,124,243,350]}"
      ]
    },
    {
      "cell_type": "code",
      "execution_count": null,
      "metadata": {
        "id": "a1UjzMMhTyrT"
      },
      "outputs": [],
      "source": [
        "df = pd.DataFrame(data)"
      ]
    },
    {
      "cell_type": "code",
      "execution_count": null,
      "metadata": {
        "colab": {
          "base_uri": "https://localhost:8080/",
          "height": 235
        },
        "id": "Pe1mF_0QTyrU",
        "outputId": "495a70d9-319c-4c0e-8f73-51d861486498"
      },
      "outputs": [
        {
          "data": {
            "text/html": [
              "<div>\n",
              "<style scoped>\n",
              "    .dataframe tbody tr th:only-of-type {\n",
              "        vertical-align: middle;\n",
              "    }\n",
              "\n",
              "    .dataframe tbody tr th {\n",
              "        vertical-align: top;\n",
              "    }\n",
              "\n",
              "    .dataframe thead th {\n",
              "        text-align: right;\n",
              "    }\n",
              "</style>\n",
              "<table border=\"1\" class=\"dataframe\">\n",
              "  <thead>\n",
              "    <tr style=\"text-align: right;\">\n",
              "      <th></th>\n",
              "      <th>Company</th>\n",
              "      <th>Person</th>\n",
              "      <th>Sales</th>\n",
              "    </tr>\n",
              "  </thead>\n",
              "  <tbody>\n",
              "    <tr>\n",
              "      <th>0</th>\n",
              "      <td>GOOG</td>\n",
              "      <td>Sam</td>\n",
              "      <td>200</td>\n",
              "    </tr>\n",
              "    <tr>\n",
              "      <th>1</th>\n",
              "      <td>GOOG</td>\n",
              "      <td>Charlie</td>\n",
              "      <td>120</td>\n",
              "    </tr>\n",
              "    <tr>\n",
              "      <th>2</th>\n",
              "      <td>MSFT</td>\n",
              "      <td>Amy</td>\n",
              "      <td>340</td>\n",
              "    </tr>\n",
              "    <tr>\n",
              "      <th>3</th>\n",
              "      <td>MSFT</td>\n",
              "      <td>Vanessa</td>\n",
              "      <td>124</td>\n",
              "    </tr>\n",
              "    <tr>\n",
              "      <th>4</th>\n",
              "      <td>FB</td>\n",
              "      <td>Carl</td>\n",
              "      <td>243</td>\n",
              "    </tr>\n",
              "    <tr>\n",
              "      <th>5</th>\n",
              "      <td>FB</td>\n",
              "      <td>Sarah</td>\n",
              "      <td>350</td>\n",
              "    </tr>\n",
              "  </tbody>\n",
              "</table>\n",
              "</div>"
            ],
            "text/plain": [
              "  Company   Person  Sales\n",
              "0    GOOG      Sam    200\n",
              "1    GOOG  Charlie    120\n",
              "2    MSFT      Amy    340\n",
              "3    MSFT  Vanessa    124\n",
              "4      FB     Carl    243\n",
              "5      FB    Sarah    350"
            ]
          },
          "execution_count": 133,
          "metadata": {
            "tags": []
          },
          "output_type": "execute_result"
        }
      ],
      "source": [
        "df"
      ]
    },
    {
      "cell_type": "markdown",
      "metadata": {
        "id": "LxSHtGn8TyrV"
      },
      "source": [
        "Ahora, podemos usar el método `.groupby()` para agregar filas basadas en su información de una columna (o más). Por ejemplo, veamos lo que podemos hacer con esta información de empresas populares:"
      ]
    },
    {
      "cell_type": "code",
      "execution_count": null,
      "metadata": {
        "colab": {
          "base_uri": "https://localhost:8080/"
        },
        "id": "cRAFVpOxEeuO",
        "outputId": "7f7253ae-e757-4410-88a4-6b0a4a3ff74c"
      },
      "outputs": [
        {
          "data": {
            "text/plain": [
              "<pandas.core.groupby.generic.DataFrameGroupBy object at 0x7fd8409ae950>"
            ]
          },
          "execution_count": 137,
          "metadata": {
            "tags": []
          },
          "output_type": "execute_result"
        }
      ],
      "source": [
        "df.groupby('Company')"
      ]
    },
    {
      "cell_type": "markdown",
      "metadata": {
        "id": "K7EPBeHTTyrW"
      },
      "source": [
        "Sobre este objeto, podemos agregar métodos para obtener información:"
      ]
    },
    {
      "cell_type": "code",
      "execution_count": null,
      "metadata": {
        "colab": {
          "base_uri": "https://localhost:8080/"
        },
        "id": "tQN1h0rHTyrW",
        "outputId": "ef22648a-fa86-4140-c0a8-7fb5aaf89637"
      },
      "outputs": [
        {
          "name": "stdout",
          "output_type": "stream",
          "text": [
            "Información de la media:\n",
            "         Sales\n",
            "Company       \n",
            "FB       296.5\n",
            "GOOG     160.0\n",
            "MSFT     232.0\n",
            "\n",
            "Información de la desviación típica:\n",
            "              Sales\n",
            "Company            \n",
            "FB        75.660426\n",
            "GOOG      56.568542\n",
            "MSFT     152.735065\n",
            "\n",
            "Información del mínimo:\n",
            "          Person  Sales\n",
            "Company                \n",
            "FB          Carl    243\n",
            "GOOG     Charlie    120\n",
            "MSFT         Amy    124\n",
            "\n",
            "Información del máximo:\n",
            "          Person  Sales\n",
            "Company                \n",
            "FB         Sarah    350\n",
            "GOOG         Sam    200\n",
            "MSFT     Vanessa    340\n",
            "\n",
            "Información de conteo:\n",
            "         Person  Sales\n",
            "Company               \n",
            "FB            2      2\n",
            "GOOG          2      2\n",
            "MSFT          2      2\n"
          ]
        }
      ],
      "source": [
        "print('Información de la media:\\n{}'.format(df.groupby('Company').mean()))\n",
        "print('\\nInformación de la desviación típica:\\n{}'.format(df.groupby('Company').std()))\n",
        "print('\\nInformación del mínimo:\\n{}'.format(df.groupby('Company').min()))\n",
        "print('\\nInformación del máximo:\\n{}'.format(df.groupby('Company').max()))\n",
        "print('\\nInformación de conteo:\\n{}'.format(df.groupby('Company').count()))"
      ]
    },
    {
      "cell_type": "markdown",
      "metadata": {
        "id": "Sne1AoGC9jlk"
      },
      "source": [
        "Toda esta información podemos recogerla con la función `.describe()`:"
      ]
    },
    {
      "cell_type": "code",
      "execution_count": null,
      "metadata": {
        "id": "ddtAzYG3TyrY",
        "outputId": "fdd78f08-f065-43e3-bc05-c7838ac1d095"
      },
      "outputs": [
        {
          "data": {
            "text/html": [
              "<div>\n",
              "<table border=\"1\" class=\"dataframe\">\n",
              "  <thead>\n",
              "    <tr style=\"text-align: right;\">\n",
              "      <th></th>\n",
              "      <th></th>\n",
              "      <th>Sales</th>\n",
              "    </tr>\n",
              "    <tr>\n",
              "      <th>Company</th>\n",
              "      <th></th>\n",
              "      <th></th>\n",
              "    </tr>\n",
              "  </thead>\n",
              "  <tbody>\n",
              "    <tr>\n",
              "      <th rowspan=\"8\" valign=\"top\">FB</th>\n",
              "      <th>count</th>\n",
              "      <td>2.000000</td>\n",
              "    </tr>\n",
              "    <tr>\n",
              "      <th>mean</th>\n",
              "      <td>296.500000</td>\n",
              "    </tr>\n",
              "    <tr>\n",
              "      <th>std</th>\n",
              "      <td>75.660426</td>\n",
              "    </tr>\n",
              "    <tr>\n",
              "      <th>min</th>\n",
              "      <td>243.000000</td>\n",
              "    </tr>\n",
              "    <tr>\n",
              "      <th>25%</th>\n",
              "      <td>269.750000</td>\n",
              "    </tr>\n",
              "    <tr>\n",
              "      <th>50%</th>\n",
              "      <td>296.500000</td>\n",
              "    </tr>\n",
              "    <tr>\n",
              "      <th>75%</th>\n",
              "      <td>323.250000</td>\n",
              "    </tr>\n",
              "    <tr>\n",
              "      <th>max</th>\n",
              "      <td>350.000000</td>\n",
              "    </tr>\n",
              "    <tr>\n",
              "      <th rowspan=\"8\" valign=\"top\">GOOG</th>\n",
              "      <th>count</th>\n",
              "      <td>2.000000</td>\n",
              "    </tr>\n",
              "    <tr>\n",
              "      <th>mean</th>\n",
              "      <td>160.000000</td>\n",
              "    </tr>\n",
              "    <tr>\n",
              "      <th>std</th>\n",
              "      <td>56.568542</td>\n",
              "    </tr>\n",
              "    <tr>\n",
              "      <th>min</th>\n",
              "      <td>120.000000</td>\n",
              "    </tr>\n",
              "    <tr>\n",
              "      <th>25%</th>\n",
              "      <td>140.000000</td>\n",
              "    </tr>\n",
              "    <tr>\n",
              "      <th>50%</th>\n",
              "      <td>160.000000</td>\n",
              "    </tr>\n",
              "    <tr>\n",
              "      <th>75%</th>\n",
              "      <td>180.000000</td>\n",
              "    </tr>\n",
              "    <tr>\n",
              "      <th>max</th>\n",
              "      <td>200.000000</td>\n",
              "    </tr>\n",
              "    <tr>\n",
              "      <th rowspan=\"8\" valign=\"top\">MSFT</th>\n",
              "      <th>count</th>\n",
              "      <td>2.000000</td>\n",
              "    </tr>\n",
              "    <tr>\n",
              "      <th>mean</th>\n",
              "      <td>232.000000</td>\n",
              "    </tr>\n",
              "    <tr>\n",
              "      <th>std</th>\n",
              "      <td>152.735065</td>\n",
              "    </tr>\n",
              "    <tr>\n",
              "      <th>min</th>\n",
              "      <td>124.000000</td>\n",
              "    </tr>\n",
              "    <tr>\n",
              "      <th>25%</th>\n",
              "      <td>178.000000</td>\n",
              "    </tr>\n",
              "    <tr>\n",
              "      <th>50%</th>\n",
              "      <td>232.000000</td>\n",
              "    </tr>\n",
              "    <tr>\n",
              "      <th>75%</th>\n",
              "      <td>286.000000</td>\n",
              "    </tr>\n",
              "    <tr>\n",
              "      <th>max</th>\n",
              "      <td>340.000000</td>\n",
              "    </tr>\n",
              "  </tbody>\n",
              "</table>\n",
              "</div>"
            ],
            "text/plain": [
              "                    Sales\n",
              "Company                  \n",
              "FB      count    2.000000\n",
              "        mean   296.500000\n",
              "        std     75.660426\n",
              "        min    243.000000\n",
              "        25%    269.750000\n",
              "        50%    296.500000\n",
              "        75%    323.250000\n",
              "        max    350.000000\n",
              "GOOG    count    2.000000\n",
              "        mean   160.000000\n",
              "        std     56.568542\n",
              "        min    120.000000\n",
              "        25%    140.000000\n",
              "        50%    160.000000\n",
              "        75%    180.000000\n",
              "        max    200.000000\n",
              "MSFT    count    2.000000\n",
              "        mean   232.000000\n",
              "        std    152.735065\n",
              "        min    124.000000\n",
              "        25%    178.000000\n",
              "        50%    232.000000\n",
              "        75%    286.000000\n",
              "        max    340.000000"
            ]
          },
          "execution_count": 42,
          "metadata": {
            "tags": []
          },
          "output_type": "execute_result"
        }
      ],
      "source": [
        "df.groupby('Company').describe()"
      ]
    },
    {
      "cell_type": "markdown",
      "metadata": {
        "id": "dWaqQ2GN9pvs"
      },
      "source": [
        "Para tener una vista más agradable, trasponemos los datos"
      ]
    },
    {
      "cell_type": "code",
      "execution_count": null,
      "metadata": {
        "id": "ooaIZzSATyrY",
        "outputId": "1f49e08d-e2f3-47f2-b6ee-2cbaf74264d3"
      },
      "outputs": [
        {
          "data": {
            "text/html": [
              "<div>\n",
              "<table border=\"1\" class=\"dataframe\">\n",
              "  <thead>\n",
              "    <tr>\n",
              "      <th>Company</th>\n",
              "      <th colspan=\"8\" halign=\"left\">FB</th>\n",
              "      <th colspan=\"5\" halign=\"left\">GOOG</th>\n",
              "      <th colspan=\"8\" halign=\"left\">MSFT</th>\n",
              "    </tr>\n",
              "    <tr>\n",
              "      <th></th>\n",
              "      <th>count</th>\n",
              "      <th>mean</th>\n",
              "      <th>std</th>\n",
              "      <th>min</th>\n",
              "      <th>25%</th>\n",
              "      <th>50%</th>\n",
              "      <th>75%</th>\n",
              "      <th>max</th>\n",
              "      <th>count</th>\n",
              "      <th>mean</th>\n",
              "      <th>...</th>\n",
              "      <th>75%</th>\n",
              "      <th>max</th>\n",
              "      <th>count</th>\n",
              "      <th>mean</th>\n",
              "      <th>std</th>\n",
              "      <th>min</th>\n",
              "      <th>25%</th>\n",
              "      <th>50%</th>\n",
              "      <th>75%</th>\n",
              "      <th>max</th>\n",
              "    </tr>\n",
              "  </thead>\n",
              "  <tbody>\n",
              "    <tr>\n",
              "      <th>Sales</th>\n",
              "      <td>2.0</td>\n",
              "      <td>296.5</td>\n",
              "      <td>75.660426</td>\n",
              "      <td>243.0</td>\n",
              "      <td>269.75</td>\n",
              "      <td>296.5</td>\n",
              "      <td>323.25</td>\n",
              "      <td>350.0</td>\n",
              "      <td>2.0</td>\n",
              "      <td>160.0</td>\n",
              "      <td>...</td>\n",
              "      <td>180.0</td>\n",
              "      <td>200.0</td>\n",
              "      <td>2.0</td>\n",
              "      <td>232.0</td>\n",
              "      <td>152.735065</td>\n",
              "      <td>124.0</td>\n",
              "      <td>178.0</td>\n",
              "      <td>232.0</td>\n",
              "      <td>286.0</td>\n",
              "      <td>340.0</td>\n",
              "    </tr>\n",
              "  </tbody>\n",
              "</table>\n",
              "<p>1 rows × 24 columns</p>\n",
              "</div>"
            ],
            "text/plain": [
              "Company    FB                                                         GOOG  \\\n",
              "        count   mean        std    min     25%    50%     75%    max count   \n",
              "Sales     2.0  296.5  75.660426  243.0  269.75  296.5  323.25  350.0   2.0   \n",
              "\n",
              "Company         ...                  MSFT                                   \\\n",
              "          mean  ...      75%    max count   mean         std    min    25%   \n",
              "Sales    160.0  ...    180.0  200.0   2.0  232.0  152.735065  124.0  178.0   \n",
              "\n",
              "Company                       \n",
              "           50%    75%    max  \n",
              "Sales    232.0  286.0  340.0  \n",
              "\n",
              "[1 rows x 24 columns]"
            ]
          },
          "execution_count": 43,
          "metadata": {
            "tags": []
          },
          "output_type": "execute_result"
        }
      ],
      "source": [
        "df.groupby('Company').describe().transpose()"
      ]
    },
    {
      "cell_type": "markdown",
      "metadata": {
        "id": "xW7BFRvB9s46"
      },
      "source": [
        "Podemos filtrar por un valor concreto:"
      ]
    },
    {
      "cell_type": "code",
      "execution_count": null,
      "metadata": {
        "id": "f05myUZATyrY",
        "outputId": "5392f65a-4bf1-4ff3-9ebd-826978c00b88"
      },
      "outputs": [
        {
          "data": {
            "text/html": [
              "<div>\n",
              "<table border=\"1\" class=\"dataframe\">\n",
              "  <thead>\n",
              "    <tr style=\"text-align: right;\">\n",
              "      <th></th>\n",
              "      <th>count</th>\n",
              "      <th>mean</th>\n",
              "      <th>std</th>\n",
              "      <th>min</th>\n",
              "      <th>25%</th>\n",
              "      <th>50%</th>\n",
              "      <th>75%</th>\n",
              "      <th>max</th>\n",
              "    </tr>\n",
              "  </thead>\n",
              "  <tbody>\n",
              "    <tr>\n",
              "      <th>Sales</th>\n",
              "      <td>2.0</td>\n",
              "      <td>160.0</td>\n",
              "      <td>56.568542</td>\n",
              "      <td>120.0</td>\n",
              "      <td>140.0</td>\n",
              "      <td>160.0</td>\n",
              "      <td>180.0</td>\n",
              "      <td>200.0</td>\n",
              "    </tr>\n",
              "  </tbody>\n",
              "</table>\n",
              "</div>"
            ],
            "text/plain": [
              "       count   mean        std    min    25%    50%    75%    max\n",
              "Sales    2.0  160.0  56.568542  120.0  140.0  160.0  180.0  200.0"
            ]
          },
          "execution_count": 44,
          "metadata": {
            "tags": []
          },
          "output_type": "execute_result"
        }
      ],
      "source": [
        "df.groupby('Company').describe().transpose()['GOOG']"
      ]
    },
    {
      "cell_type": "markdown",
      "metadata": {
        "id": "UEBcJUbPEguP"
      },
      "source": [
        "Finalmente, podemos introducir cualquier operación que nos parezca más oportuna:"
      ]
    },
    {
      "cell_type": "code",
      "execution_count": null,
      "metadata": {
        "colab": {
          "base_uri": "https://localhost:8080/"
        },
        "id": "xbZw4Vi6Ej7H",
        "outputId": "4dde0b62-3fb8-4ca7-d70e-d9f9167a3419"
      },
      "outputs": [
        {
          "data": {
            "text/plain": [
              "0    4.816117\n",
              "1    3.981610\n",
              "2    5.072214\n",
              "3    4.921090\n",
              "4    5.953111\n",
              "5    6.144420\n",
              "Name: Sales, dtype: float64"
            ]
          },
          "execution_count": 140,
          "metadata": {
            "tags": []
          },
          "output_type": "execute_result"
        }
      ],
      "source": [
        "df.groupby('Company')['Sales'].apply(lambda x: np.log1p(x)-np.cos(x))"
      ]
    },
    {
      "cell_type": "markdown",
      "metadata": {
        "collapsed": true,
        "id": "Q33IyPxJT_ak"
      },
      "source": [
        "____\n",
        "# Merging, Joining, y Concatenating\n",
        "\n",
        "Hay tres principales formas de combinar `pd.DataFrame`: *merge*, *join* y *concatenate*. Iremos sobre cada uno de ellos."
      ]
    },
    {
      "cell_type": "markdown",
      "metadata": {
        "id": "Xh2Z6cveT_ak"
      },
      "source": [
        "### DataFrames de muestra"
      ]
    },
    {
      "cell_type": "code",
      "execution_count": null,
      "metadata": {
        "id": "LL-iCHlzT_al"
      },
      "outputs": [],
      "source": [
        "df1 = pd.DataFrame({'A': ['A0', 'A1', 'A2', 'A3'],\n",
        "                        'B': ['B0', 'B1', 'B2', 'B3'],\n",
        "                        'C': ['C0', 'C1', 'C2', 'C3'],\n",
        "                        'D': ['D0', 'D1', 'D2', 'D3']},\n",
        "                        index=[0, 1, 2, 3])"
      ]
    },
    {
      "cell_type": "code",
      "execution_count": null,
      "metadata": {
        "id": "UmDsGKh_T_am"
      },
      "outputs": [],
      "source": [
        "df2 = pd.DataFrame({'A': ['A4', 'A5', 'A6', 'A7'],\n",
        "                        'B': ['B4', 'B5', 'B6', 'B7'],\n",
        "                        'C': ['C4', 'C5', 'C6', 'C7'],\n",
        "                        'D': ['D4', 'D5', 'D6', 'D7']},\n",
        "                         index=[4, 5, 6, 7]) "
      ]
    },
    {
      "cell_type": "code",
      "execution_count": null,
      "metadata": {
        "collapsed": true,
        "id": "_1i4fKW8T_am"
      },
      "outputs": [],
      "source": [
        "df3 = pd.DataFrame({'A': ['A8', 'A9', 'A10', 'A11'],\n",
        "                        'B': ['B8', 'B9', 'B10', 'B11'],\n",
        "                        'C': ['C8', 'C9', 'C10', 'C11'],\n",
        "                        'D': ['D8', 'D9', 'D10', 'D11']},\n",
        "                        index=[8, 9, 10, 11])"
      ]
    },
    {
      "cell_type": "markdown",
      "metadata": {
        "id": "4xgc_R7qT_ao"
      },
      "source": [
        "## Concatenación\n",
        "\n",
        "Esta operación únicamente pega los datos. Por tanto, las dimensiones de los objetos que intervienen en la operación deben de encajar sobre el eje que se realice la misma."
      ]
    },
    {
      "cell_type": "code",
      "execution_count": null,
      "metadata": {
        "colab": {
          "base_uri": "https://localhost:8080/",
          "height": 421
        },
        "id": "_yUTqQp5T_ao",
        "outputId": "af7bc13b-e479-4a5e-c2f3-6ae33a1dd8f7"
      },
      "outputs": [
        {
          "data": {
            "text/html": [
              "<div>\n",
              "<style scoped>\n",
              "    .dataframe tbody tr th:only-of-type {\n",
              "        vertical-align: middle;\n",
              "    }\n",
              "\n",
              "    .dataframe tbody tr th {\n",
              "        vertical-align: top;\n",
              "    }\n",
              "\n",
              "    .dataframe thead th {\n",
              "        text-align: right;\n",
              "    }\n",
              "</style>\n",
              "<table border=\"1\" class=\"dataframe\">\n",
              "  <thead>\n",
              "    <tr style=\"text-align: right;\">\n",
              "      <th></th>\n",
              "      <th>A</th>\n",
              "      <th>B</th>\n",
              "      <th>C</th>\n",
              "      <th>D</th>\n",
              "    </tr>\n",
              "  </thead>\n",
              "  <tbody>\n",
              "    <tr>\n",
              "      <th>0</th>\n",
              "      <td>A0</td>\n",
              "      <td>B0</td>\n",
              "      <td>C0</td>\n",
              "      <td>D0</td>\n",
              "    </tr>\n",
              "    <tr>\n",
              "      <th>1</th>\n",
              "      <td>A1</td>\n",
              "      <td>B1</td>\n",
              "      <td>C1</td>\n",
              "      <td>D1</td>\n",
              "    </tr>\n",
              "    <tr>\n",
              "      <th>2</th>\n",
              "      <td>A2</td>\n",
              "      <td>B2</td>\n",
              "      <td>C2</td>\n",
              "      <td>D2</td>\n",
              "    </tr>\n",
              "    <tr>\n",
              "      <th>3</th>\n",
              "      <td>A3</td>\n",
              "      <td>B3</td>\n",
              "      <td>C3</td>\n",
              "      <td>D3</td>\n",
              "    </tr>\n",
              "    <tr>\n",
              "      <th>4</th>\n",
              "      <td>A4</td>\n",
              "      <td>B4</td>\n",
              "      <td>C4</td>\n",
              "      <td>D4</td>\n",
              "    </tr>\n",
              "    <tr>\n",
              "      <th>5</th>\n",
              "      <td>A5</td>\n",
              "      <td>B5</td>\n",
              "      <td>C5</td>\n",
              "      <td>D5</td>\n",
              "    </tr>\n",
              "    <tr>\n",
              "      <th>6</th>\n",
              "      <td>A6</td>\n",
              "      <td>B6</td>\n",
              "      <td>C6</td>\n",
              "      <td>D6</td>\n",
              "    </tr>\n",
              "    <tr>\n",
              "      <th>7</th>\n",
              "      <td>A7</td>\n",
              "      <td>B7</td>\n",
              "      <td>C7</td>\n",
              "      <td>D7</td>\n",
              "    </tr>\n",
              "    <tr>\n",
              "      <th>8</th>\n",
              "      <td>A8</td>\n",
              "      <td>B8</td>\n",
              "      <td>C8</td>\n",
              "      <td>D8</td>\n",
              "    </tr>\n",
              "    <tr>\n",
              "      <th>9</th>\n",
              "      <td>A9</td>\n",
              "      <td>B9</td>\n",
              "      <td>C9</td>\n",
              "      <td>D9</td>\n",
              "    </tr>\n",
              "    <tr>\n",
              "      <th>10</th>\n",
              "      <td>A10</td>\n",
              "      <td>B10</td>\n",
              "      <td>C10</td>\n",
              "      <td>D10</td>\n",
              "    </tr>\n",
              "    <tr>\n",
              "      <th>11</th>\n",
              "      <td>A11</td>\n",
              "      <td>B11</td>\n",
              "      <td>C11</td>\n",
              "      <td>D11</td>\n",
              "    </tr>\n",
              "  </tbody>\n",
              "</table>\n",
              "</div>"
            ],
            "text/plain": [
              "      A    B    C    D\n",
              "0    A0   B0   C0   D0\n",
              "1    A1   B1   C1   D1\n",
              "2    A2   B2   C2   D2\n",
              "3    A3   B3   C3   D3\n",
              "4    A4   B4   C4   D4\n",
              "5    A5   B5   C5   D5\n",
              "6    A6   B6   C6   D6\n",
              "7    A7   B7   C7   D7\n",
              "8    A8   B8   C8   D8\n",
              "9    A9   B9   C9   D9\n",
              "10  A10  B10  C10  D10\n",
              "11  A11  B11  C11  D11"
            ]
          },
          "execution_count": 91,
          "metadata": {
            "tags": []
          },
          "output_type": "execute_result"
        }
      ],
      "source": [
        "pd.concat([df1,df2,df3])"
      ]
    },
    {
      "cell_type": "code",
      "execution_count": null,
      "metadata": {
        "colab": {
          "base_uri": "https://localhost:8080/",
          "height": 421
        },
        "id": "WJyFls1zT_ao",
        "outputId": "e3bcae55-ff88-42dd-dfa4-37c43eafadb9"
      },
      "outputs": [
        {
          "data": {
            "text/html": [
              "<div>\n",
              "<style scoped>\n",
              "    .dataframe tbody tr th:only-of-type {\n",
              "        vertical-align: middle;\n",
              "    }\n",
              "\n",
              "    .dataframe tbody tr th {\n",
              "        vertical-align: top;\n",
              "    }\n",
              "\n",
              "    .dataframe thead th {\n",
              "        text-align: right;\n",
              "    }\n",
              "</style>\n",
              "<table border=\"1\" class=\"dataframe\">\n",
              "  <thead>\n",
              "    <tr style=\"text-align: right;\">\n",
              "      <th></th>\n",
              "      <th>A</th>\n",
              "      <th>B</th>\n",
              "      <th>C</th>\n",
              "      <th>D</th>\n",
              "      <th>A</th>\n",
              "      <th>B</th>\n",
              "      <th>C</th>\n",
              "      <th>D</th>\n",
              "      <th>A</th>\n",
              "      <th>B</th>\n",
              "      <th>C</th>\n",
              "      <th>D</th>\n",
              "    </tr>\n",
              "  </thead>\n",
              "  <tbody>\n",
              "    <tr>\n",
              "      <th>0</th>\n",
              "      <td>A0</td>\n",
              "      <td>B0</td>\n",
              "      <td>C0</td>\n",
              "      <td>D0</td>\n",
              "      <td>NaN</td>\n",
              "      <td>NaN</td>\n",
              "      <td>NaN</td>\n",
              "      <td>NaN</td>\n",
              "      <td>NaN</td>\n",
              "      <td>NaN</td>\n",
              "      <td>NaN</td>\n",
              "      <td>NaN</td>\n",
              "    </tr>\n",
              "    <tr>\n",
              "      <th>1</th>\n",
              "      <td>A1</td>\n",
              "      <td>B1</td>\n",
              "      <td>C1</td>\n",
              "      <td>D1</td>\n",
              "      <td>NaN</td>\n",
              "      <td>NaN</td>\n",
              "      <td>NaN</td>\n",
              "      <td>NaN</td>\n",
              "      <td>NaN</td>\n",
              "      <td>NaN</td>\n",
              "      <td>NaN</td>\n",
              "      <td>NaN</td>\n",
              "    </tr>\n",
              "    <tr>\n",
              "      <th>2</th>\n",
              "      <td>A2</td>\n",
              "      <td>B2</td>\n",
              "      <td>C2</td>\n",
              "      <td>D2</td>\n",
              "      <td>NaN</td>\n",
              "      <td>NaN</td>\n",
              "      <td>NaN</td>\n",
              "      <td>NaN</td>\n",
              "      <td>NaN</td>\n",
              "      <td>NaN</td>\n",
              "      <td>NaN</td>\n",
              "      <td>NaN</td>\n",
              "    </tr>\n",
              "    <tr>\n",
              "      <th>3</th>\n",
              "      <td>A3</td>\n",
              "      <td>B3</td>\n",
              "      <td>C3</td>\n",
              "      <td>D3</td>\n",
              "      <td>NaN</td>\n",
              "      <td>NaN</td>\n",
              "      <td>NaN</td>\n",
              "      <td>NaN</td>\n",
              "      <td>NaN</td>\n",
              "      <td>NaN</td>\n",
              "      <td>NaN</td>\n",
              "      <td>NaN</td>\n",
              "    </tr>\n",
              "    <tr>\n",
              "      <th>4</th>\n",
              "      <td>NaN</td>\n",
              "      <td>NaN</td>\n",
              "      <td>NaN</td>\n",
              "      <td>NaN</td>\n",
              "      <td>A4</td>\n",
              "      <td>B4</td>\n",
              "      <td>C4</td>\n",
              "      <td>D4</td>\n",
              "      <td>NaN</td>\n",
              "      <td>NaN</td>\n",
              "      <td>NaN</td>\n",
              "      <td>NaN</td>\n",
              "    </tr>\n",
              "    <tr>\n",
              "      <th>5</th>\n",
              "      <td>NaN</td>\n",
              "      <td>NaN</td>\n",
              "      <td>NaN</td>\n",
              "      <td>NaN</td>\n",
              "      <td>A5</td>\n",
              "      <td>B5</td>\n",
              "      <td>C5</td>\n",
              "      <td>D5</td>\n",
              "      <td>NaN</td>\n",
              "      <td>NaN</td>\n",
              "      <td>NaN</td>\n",
              "      <td>NaN</td>\n",
              "    </tr>\n",
              "    <tr>\n",
              "      <th>6</th>\n",
              "      <td>NaN</td>\n",
              "      <td>NaN</td>\n",
              "      <td>NaN</td>\n",
              "      <td>NaN</td>\n",
              "      <td>A6</td>\n",
              "      <td>B6</td>\n",
              "      <td>C6</td>\n",
              "      <td>D6</td>\n",
              "      <td>NaN</td>\n",
              "      <td>NaN</td>\n",
              "      <td>NaN</td>\n",
              "      <td>NaN</td>\n",
              "    </tr>\n",
              "    <tr>\n",
              "      <th>7</th>\n",
              "      <td>NaN</td>\n",
              "      <td>NaN</td>\n",
              "      <td>NaN</td>\n",
              "      <td>NaN</td>\n",
              "      <td>A7</td>\n",
              "      <td>B7</td>\n",
              "      <td>C7</td>\n",
              "      <td>D7</td>\n",
              "      <td>NaN</td>\n",
              "      <td>NaN</td>\n",
              "      <td>NaN</td>\n",
              "      <td>NaN</td>\n",
              "    </tr>\n",
              "    <tr>\n",
              "      <th>8</th>\n",
              "      <td>NaN</td>\n",
              "      <td>NaN</td>\n",
              "      <td>NaN</td>\n",
              "      <td>NaN</td>\n",
              "      <td>NaN</td>\n",
              "      <td>NaN</td>\n",
              "      <td>NaN</td>\n",
              "      <td>NaN</td>\n",
              "      <td>A8</td>\n",
              "      <td>B8</td>\n",
              "      <td>C8</td>\n",
              "      <td>D8</td>\n",
              "    </tr>\n",
              "    <tr>\n",
              "      <th>9</th>\n",
              "      <td>NaN</td>\n",
              "      <td>NaN</td>\n",
              "      <td>NaN</td>\n",
              "      <td>NaN</td>\n",
              "      <td>NaN</td>\n",
              "      <td>NaN</td>\n",
              "      <td>NaN</td>\n",
              "      <td>NaN</td>\n",
              "      <td>A9</td>\n",
              "      <td>B9</td>\n",
              "      <td>C9</td>\n",
              "      <td>D9</td>\n",
              "    </tr>\n",
              "    <tr>\n",
              "      <th>10</th>\n",
              "      <td>NaN</td>\n",
              "      <td>NaN</td>\n",
              "      <td>NaN</td>\n",
              "      <td>NaN</td>\n",
              "      <td>NaN</td>\n",
              "      <td>NaN</td>\n",
              "      <td>NaN</td>\n",
              "      <td>NaN</td>\n",
              "      <td>A10</td>\n",
              "      <td>B10</td>\n",
              "      <td>C10</td>\n",
              "      <td>D10</td>\n",
              "    </tr>\n",
              "    <tr>\n",
              "      <th>11</th>\n",
              "      <td>NaN</td>\n",
              "      <td>NaN</td>\n",
              "      <td>NaN</td>\n",
              "      <td>NaN</td>\n",
              "      <td>NaN</td>\n",
              "      <td>NaN</td>\n",
              "      <td>NaN</td>\n",
              "      <td>NaN</td>\n",
              "      <td>A11</td>\n",
              "      <td>B11</td>\n",
              "      <td>C11</td>\n",
              "      <td>D11</td>\n",
              "    </tr>\n",
              "  </tbody>\n",
              "</table>\n",
              "</div>"
            ],
            "text/plain": [
              "      A    B    C    D    A    B    C    D    A    B    C    D\n",
              "0    A0   B0   C0   D0  NaN  NaN  NaN  NaN  NaN  NaN  NaN  NaN\n",
              "1    A1   B1   C1   D1  NaN  NaN  NaN  NaN  NaN  NaN  NaN  NaN\n",
              "2    A2   B2   C2   D2  NaN  NaN  NaN  NaN  NaN  NaN  NaN  NaN\n",
              "3    A3   B3   C3   D3  NaN  NaN  NaN  NaN  NaN  NaN  NaN  NaN\n",
              "4   NaN  NaN  NaN  NaN   A4   B4   C4   D4  NaN  NaN  NaN  NaN\n",
              "5   NaN  NaN  NaN  NaN   A5   B5   C5   D5  NaN  NaN  NaN  NaN\n",
              "6   NaN  NaN  NaN  NaN   A6   B6   C6   D6  NaN  NaN  NaN  NaN\n",
              "7   NaN  NaN  NaN  NaN   A7   B7   C7   D7  NaN  NaN  NaN  NaN\n",
              "8   NaN  NaN  NaN  NaN  NaN  NaN  NaN  NaN   A8   B8   C8   D8\n",
              "9   NaN  NaN  NaN  NaN  NaN  NaN  NaN  NaN   A9   B9   C9   D9\n",
              "10  NaN  NaN  NaN  NaN  NaN  NaN  NaN  NaN  A10  B10  C10  D10\n",
              "11  NaN  NaN  NaN  NaN  NaN  NaN  NaN  NaN  A11  B11  C11  D11"
            ]
          },
          "execution_count": 92,
          "metadata": {
            "tags": []
          },
          "output_type": "execute_result"
        }
      ],
      "source": [
        "pd.concat([df1,df2,df3],axis=1)"
      ]
    },
    {
      "cell_type": "markdown",
      "metadata": {
        "id": "yZZNUAwJT_aq"
      },
      "source": [
        "___"
      ]
    },
    {
      "cell_type": "markdown",
      "metadata": {
        "id": "sO4TWFf_T_aq"
      },
      "source": [
        "## Merging\n",
        "\n",
        "La función **merge** permite combinar DataFrames usando una lógica similar a la de las tablas SQL."
      ]
    },
    {
      "cell_type": "code",
      "execution_count": null,
      "metadata": {
        "id": "PuzZvlflAvMB"
      },
      "outputs": [],
      "source": [
        "left = pd.DataFrame({'key': ['K0', 'K1', 'K2', 'K3'],\n",
        "                     'A': ['A0', 'A1', 'A2', 'A3'],\n",
        "                     'B': ['B0', 'B1', 'B2', 'B3']})\n",
        "   \n",
        "right = pd.DataFrame({'key': ['K0', 'K1', 'K2', 'K3'],\n",
        "                          'C': ['C0', 'C1', 'C2', 'C3'],\n",
        "                          'D': ['D0', 'D1', 'D2', 'D3']})    "
      ]
    },
    {
      "cell_type": "code",
      "execution_count": null,
      "metadata": {
        "colab": {
          "base_uri": "https://localhost:8080/",
          "height": 173
        },
        "id": "RMejpsV1T_aq",
        "outputId": "5a4b073e-deb2-4080-b831-1589ed12346f"
      },
      "outputs": [
        {
          "data": {
            "text/html": [
              "<div>\n",
              "<style scoped>\n",
              "    .dataframe tbody tr th:only-of-type {\n",
              "        vertical-align: middle;\n",
              "    }\n",
              "\n",
              "    .dataframe tbody tr th {\n",
              "        vertical-align: top;\n",
              "    }\n",
              "\n",
              "    .dataframe thead th {\n",
              "        text-align: right;\n",
              "    }\n",
              "</style>\n",
              "<table border=\"1\" class=\"dataframe\">\n",
              "  <thead>\n",
              "    <tr style=\"text-align: right;\">\n",
              "      <th></th>\n",
              "      <th>key</th>\n",
              "      <th>A</th>\n",
              "      <th>B</th>\n",
              "      <th>C</th>\n",
              "      <th>D</th>\n",
              "    </tr>\n",
              "  </thead>\n",
              "  <tbody>\n",
              "    <tr>\n",
              "      <th>0</th>\n",
              "      <td>K0</td>\n",
              "      <td>A0</td>\n",
              "      <td>B0</td>\n",
              "      <td>C0</td>\n",
              "      <td>D0</td>\n",
              "    </tr>\n",
              "    <tr>\n",
              "      <th>1</th>\n",
              "      <td>K1</td>\n",
              "      <td>A1</td>\n",
              "      <td>B1</td>\n",
              "      <td>C1</td>\n",
              "      <td>D1</td>\n",
              "    </tr>\n",
              "    <tr>\n",
              "      <th>2</th>\n",
              "      <td>K2</td>\n",
              "      <td>A2</td>\n",
              "      <td>B2</td>\n",
              "      <td>C2</td>\n",
              "      <td>D2</td>\n",
              "    </tr>\n",
              "    <tr>\n",
              "      <th>3</th>\n",
              "      <td>K3</td>\n",
              "      <td>A3</td>\n",
              "      <td>B3</td>\n",
              "      <td>C3</td>\n",
              "      <td>D3</td>\n",
              "    </tr>\n",
              "  </tbody>\n",
              "</table>\n",
              "</div>"
            ],
            "text/plain": [
              "  key   A   B   C   D\n",
              "0  K0  A0  B0  C0  D0\n",
              "1  K1  A1  B1  C1  D1\n",
              "2  K2  A2  B2  C2  D2\n",
              "3  K3  A3  B3  C3  D3"
            ]
          },
          "execution_count": 97,
          "metadata": {
            "tags": []
          },
          "output_type": "execute_result"
        }
      ],
      "source": [
        "pd.merge(left,right,how='inner',on='key')"
      ]
    },
    {
      "cell_type": "markdown",
      "metadata": {
        "id": "D2Dg2sXGT_aq"
      },
      "source": [
        "Un ejemplo algo más elaborado"
      ]
    },
    {
      "cell_type": "code",
      "execution_count": null,
      "metadata": {
        "collapsed": true,
        "id": "wmmHx-9ET_aq"
      },
      "outputs": [],
      "source": [
        "left = pd.DataFrame({'key1': ['K0', 'K0', 'K1', 'K2'],\n",
        "                     'key2': ['K0', 'K1', 'K0', 'K1'],\n",
        "                     'A': ['A0', 'A1', 'A2', 'A3'],\n",
        "                     'B': ['B0', 'B1', 'B2', 'B3']})\n",
        "    \n",
        "right = pd.DataFrame({'key1': ['K0', 'K1', 'K1', 'K2'],\n",
        "                      'key2': ['K0', 'K0', 'K0', 'K0'],\n",
        "                      'C': ['C0', 'C1', 'C2', 'C3'],\n",
        "                      'D': ['D0', 'D1', 'D2', 'D3']})"
      ]
    },
    {
      "cell_type": "code",
      "execution_count": null,
      "metadata": {
        "colab": {
          "base_uri": "https://localhost:8080/",
          "height": 142
        },
        "id": "Q4AtAKKDT_ar",
        "outputId": "37683d53-22aa-4422-8be5-1704520d9286"
      },
      "outputs": [
        {
          "data": {
            "text/html": [
              "<div>\n",
              "<style scoped>\n",
              "    .dataframe tbody tr th:only-of-type {\n",
              "        vertical-align: middle;\n",
              "    }\n",
              "\n",
              "    .dataframe tbody tr th {\n",
              "        vertical-align: top;\n",
              "    }\n",
              "\n",
              "    .dataframe thead th {\n",
              "        text-align: right;\n",
              "    }\n",
              "</style>\n",
              "<table border=\"1\" class=\"dataframe\">\n",
              "  <thead>\n",
              "    <tr style=\"text-align: right;\">\n",
              "      <th></th>\n",
              "      <th>key1</th>\n",
              "      <th>key2</th>\n",
              "      <th>A</th>\n",
              "      <th>B</th>\n",
              "      <th>C</th>\n",
              "      <th>D</th>\n",
              "    </tr>\n",
              "  </thead>\n",
              "  <tbody>\n",
              "    <tr>\n",
              "      <th>0</th>\n",
              "      <td>K0</td>\n",
              "      <td>K0</td>\n",
              "      <td>A0</td>\n",
              "      <td>B0</td>\n",
              "      <td>C0</td>\n",
              "      <td>D0</td>\n",
              "    </tr>\n",
              "    <tr>\n",
              "      <th>1</th>\n",
              "      <td>K1</td>\n",
              "      <td>K0</td>\n",
              "      <td>A2</td>\n",
              "      <td>B2</td>\n",
              "      <td>C1</td>\n",
              "      <td>D1</td>\n",
              "    </tr>\n",
              "    <tr>\n",
              "      <th>2</th>\n",
              "      <td>K1</td>\n",
              "      <td>K0</td>\n",
              "      <td>A2</td>\n",
              "      <td>B2</td>\n",
              "      <td>C2</td>\n",
              "      <td>D2</td>\n",
              "    </tr>\n",
              "  </tbody>\n",
              "</table>\n",
              "</div>"
            ],
            "text/plain": [
              "  key1 key2   A   B   C   D\n",
              "0   K0   K0  A0  B0  C0  D0\n",
              "1   K1   K0  A2  B2  C1  D1\n",
              "2   K1   K0  A2  B2  C2  D2"
            ]
          },
          "execution_count": 101,
          "metadata": {
            "tags": []
          },
          "output_type": "execute_result"
        }
      ],
      "source": [
        "pd.merge(left, right, on=['key1', 'key2']) #how = 'inner'"
      ]
    },
    {
      "cell_type": "code",
      "execution_count": null,
      "metadata": {
        "colab": {
          "base_uri": "https://localhost:8080/",
          "height": 235
        },
        "id": "L8aLeui_T_ar",
        "outputId": "2fb140cb-fb20-4934-f840-5d1868038781"
      },
      "outputs": [
        {
          "data": {
            "text/html": [
              "<div>\n",
              "<style scoped>\n",
              "    .dataframe tbody tr th:only-of-type {\n",
              "        vertical-align: middle;\n",
              "    }\n",
              "\n",
              "    .dataframe tbody tr th {\n",
              "        vertical-align: top;\n",
              "    }\n",
              "\n",
              "    .dataframe thead th {\n",
              "        text-align: right;\n",
              "    }\n",
              "</style>\n",
              "<table border=\"1\" class=\"dataframe\">\n",
              "  <thead>\n",
              "    <tr style=\"text-align: right;\">\n",
              "      <th></th>\n",
              "      <th>key1</th>\n",
              "      <th>key2</th>\n",
              "      <th>A</th>\n",
              "      <th>B</th>\n",
              "      <th>C</th>\n",
              "      <th>D</th>\n",
              "    </tr>\n",
              "  </thead>\n",
              "  <tbody>\n",
              "    <tr>\n",
              "      <th>0</th>\n",
              "      <td>K0</td>\n",
              "      <td>K0</td>\n",
              "      <td>A0</td>\n",
              "      <td>B0</td>\n",
              "      <td>C0</td>\n",
              "      <td>D0</td>\n",
              "    </tr>\n",
              "    <tr>\n",
              "      <th>1</th>\n",
              "      <td>K0</td>\n",
              "      <td>K1</td>\n",
              "      <td>A1</td>\n",
              "      <td>B1</td>\n",
              "      <td>NaN</td>\n",
              "      <td>NaN</td>\n",
              "    </tr>\n",
              "    <tr>\n",
              "      <th>2</th>\n",
              "      <td>K1</td>\n",
              "      <td>K0</td>\n",
              "      <td>A2</td>\n",
              "      <td>B2</td>\n",
              "      <td>C1</td>\n",
              "      <td>D1</td>\n",
              "    </tr>\n",
              "    <tr>\n",
              "      <th>3</th>\n",
              "      <td>K1</td>\n",
              "      <td>K0</td>\n",
              "      <td>A2</td>\n",
              "      <td>B2</td>\n",
              "      <td>C2</td>\n",
              "      <td>D2</td>\n",
              "    </tr>\n",
              "    <tr>\n",
              "      <th>4</th>\n",
              "      <td>K2</td>\n",
              "      <td>K1</td>\n",
              "      <td>A3</td>\n",
              "      <td>B3</td>\n",
              "      <td>NaN</td>\n",
              "      <td>NaN</td>\n",
              "    </tr>\n",
              "    <tr>\n",
              "      <th>5</th>\n",
              "      <td>K2</td>\n",
              "      <td>K0</td>\n",
              "      <td>NaN</td>\n",
              "      <td>NaN</td>\n",
              "      <td>C3</td>\n",
              "      <td>D3</td>\n",
              "    </tr>\n",
              "  </tbody>\n",
              "</table>\n",
              "</div>"
            ],
            "text/plain": [
              "  key1 key2    A    B    C    D\n",
              "0   K0   K0   A0   B0   C0   D0\n",
              "1   K0   K1   A1   B1  NaN  NaN\n",
              "2   K1   K0   A2   B2   C1   D1\n",
              "3   K1   K0   A2   B2   C2   D2\n",
              "4   K2   K1   A3   B3  NaN  NaN\n",
              "5   K2   K0  NaN  NaN   C3   D3"
            ]
          },
          "execution_count": 102,
          "metadata": {
            "tags": []
          },
          "output_type": "execute_result"
        }
      ],
      "source": [
        "pd.merge(left, right, how='outer', on=['key1', 'key2'])"
      ]
    },
    {
      "cell_type": "code",
      "execution_count": null,
      "metadata": {
        "colab": {
          "base_uri": "https://localhost:8080/",
          "height": 173
        },
        "id": "jIdssSANT_ar",
        "outputId": "9b9a5e94-3610-4784-fb70-346340b04373"
      },
      "outputs": [
        {
          "data": {
            "text/html": [
              "<div>\n",
              "<style scoped>\n",
              "    .dataframe tbody tr th:only-of-type {\n",
              "        vertical-align: middle;\n",
              "    }\n",
              "\n",
              "    .dataframe tbody tr th {\n",
              "        vertical-align: top;\n",
              "    }\n",
              "\n",
              "    .dataframe thead th {\n",
              "        text-align: right;\n",
              "    }\n",
              "</style>\n",
              "<table border=\"1\" class=\"dataframe\">\n",
              "  <thead>\n",
              "    <tr style=\"text-align: right;\">\n",
              "      <th></th>\n",
              "      <th>key1</th>\n",
              "      <th>key2</th>\n",
              "      <th>A</th>\n",
              "      <th>B</th>\n",
              "      <th>C</th>\n",
              "      <th>D</th>\n",
              "    </tr>\n",
              "  </thead>\n",
              "  <tbody>\n",
              "    <tr>\n",
              "      <th>0</th>\n",
              "      <td>K0</td>\n",
              "      <td>K0</td>\n",
              "      <td>A0</td>\n",
              "      <td>B0</td>\n",
              "      <td>C0</td>\n",
              "      <td>D0</td>\n",
              "    </tr>\n",
              "    <tr>\n",
              "      <th>1</th>\n",
              "      <td>K1</td>\n",
              "      <td>K0</td>\n",
              "      <td>A2</td>\n",
              "      <td>B2</td>\n",
              "      <td>C1</td>\n",
              "      <td>D1</td>\n",
              "    </tr>\n",
              "    <tr>\n",
              "      <th>2</th>\n",
              "      <td>K1</td>\n",
              "      <td>K0</td>\n",
              "      <td>A2</td>\n",
              "      <td>B2</td>\n",
              "      <td>C2</td>\n",
              "      <td>D2</td>\n",
              "    </tr>\n",
              "    <tr>\n",
              "      <th>3</th>\n",
              "      <td>K2</td>\n",
              "      <td>K0</td>\n",
              "      <td>NaN</td>\n",
              "      <td>NaN</td>\n",
              "      <td>C3</td>\n",
              "      <td>D3</td>\n",
              "    </tr>\n",
              "  </tbody>\n",
              "</table>\n",
              "</div>"
            ],
            "text/plain": [
              "  key1 key2    A    B   C   D\n",
              "0   K0   K0   A0   B0  C0  D0\n",
              "1   K1   K0   A2   B2  C1  D1\n",
              "2   K1   K0   A2   B2  C2  D2\n",
              "3   K2   K0  NaN  NaN  C3  D3"
            ]
          },
          "execution_count": 103,
          "metadata": {
            "tags": []
          },
          "output_type": "execute_result"
        }
      ],
      "source": [
        "pd.merge(left, right, how='right', on=['key1', 'key2'])"
      ]
    },
    {
      "cell_type": "code",
      "execution_count": null,
      "metadata": {
        "colab": {
          "base_uri": "https://localhost:8080/",
          "height": 204
        },
        "id": "2HvsZVrFT_ar",
        "outputId": "90c4b5d3-7862-42a9-d1da-872b9335e99a"
      },
      "outputs": [
        {
          "data": {
            "text/html": [
              "<div>\n",
              "<style scoped>\n",
              "    .dataframe tbody tr th:only-of-type {\n",
              "        vertical-align: middle;\n",
              "    }\n",
              "\n",
              "    .dataframe tbody tr th {\n",
              "        vertical-align: top;\n",
              "    }\n",
              "\n",
              "    .dataframe thead th {\n",
              "        text-align: right;\n",
              "    }\n",
              "</style>\n",
              "<table border=\"1\" class=\"dataframe\">\n",
              "  <thead>\n",
              "    <tr style=\"text-align: right;\">\n",
              "      <th></th>\n",
              "      <th>key1</th>\n",
              "      <th>key2</th>\n",
              "      <th>A</th>\n",
              "      <th>B</th>\n",
              "      <th>C</th>\n",
              "      <th>D</th>\n",
              "    </tr>\n",
              "  </thead>\n",
              "  <tbody>\n",
              "    <tr>\n",
              "      <th>0</th>\n",
              "      <td>K0</td>\n",
              "      <td>K0</td>\n",
              "      <td>A0</td>\n",
              "      <td>B0</td>\n",
              "      <td>C0</td>\n",
              "      <td>D0</td>\n",
              "    </tr>\n",
              "    <tr>\n",
              "      <th>1</th>\n",
              "      <td>K0</td>\n",
              "      <td>K1</td>\n",
              "      <td>A1</td>\n",
              "      <td>B1</td>\n",
              "      <td>NaN</td>\n",
              "      <td>NaN</td>\n",
              "    </tr>\n",
              "    <tr>\n",
              "      <th>2</th>\n",
              "      <td>K1</td>\n",
              "      <td>K0</td>\n",
              "      <td>A2</td>\n",
              "      <td>B2</td>\n",
              "      <td>C1</td>\n",
              "      <td>D1</td>\n",
              "    </tr>\n",
              "    <tr>\n",
              "      <th>3</th>\n",
              "      <td>K1</td>\n",
              "      <td>K0</td>\n",
              "      <td>A2</td>\n",
              "      <td>B2</td>\n",
              "      <td>C2</td>\n",
              "      <td>D2</td>\n",
              "    </tr>\n",
              "    <tr>\n",
              "      <th>4</th>\n",
              "      <td>K2</td>\n",
              "      <td>K1</td>\n",
              "      <td>A3</td>\n",
              "      <td>B3</td>\n",
              "      <td>NaN</td>\n",
              "      <td>NaN</td>\n",
              "    </tr>\n",
              "  </tbody>\n",
              "</table>\n",
              "</div>"
            ],
            "text/plain": [
              "  key1 key2   A   B    C    D\n",
              "0   K0   K0  A0  B0   C0   D0\n",
              "1   K0   K1  A1  B1  NaN  NaN\n",
              "2   K1   K0  A2  B2   C1   D1\n",
              "3   K1   K0  A2  B2   C2   D2\n",
              "4   K2   K1  A3  B3  NaN  NaN"
            ]
          },
          "execution_count": 104,
          "metadata": {
            "tags": []
          },
          "output_type": "execute_result"
        }
      ],
      "source": [
        "pd.merge(left, right, how='left', on=['key1', 'key2'])"
      ]
    },
    {
      "cell_type": "markdown",
      "metadata": {
        "id": "8RJuDf2xT_as"
      },
      "source": [
        "## Joining\n",
        "\n",
        "La operación *join* es un método muy adecuado para combinar columnas de DataFrames cuyos índices sean potencialmente distintos."
      ]
    },
    {
      "cell_type": "code",
      "execution_count": null,
      "metadata": {
        "collapsed": true,
        "id": "SEXyw6G8T_as"
      },
      "outputs": [],
      "source": [
        "left = pd.DataFrame({'A': ['A0', 'A1', 'A2'],\n",
        "                     'B': ['B0', 'B1', 'B2']},\n",
        "                      index=['K0', 'K1', 'K2']) \n",
        "\n",
        "right = pd.DataFrame({'C': ['C0', 'C2', 'C3'],\n",
        "                    'D': ['D0', 'D2', 'D3']},\n",
        "                      index=['K0', 'K2', 'K3'])"
      ]
    },
    {
      "cell_type": "code",
      "execution_count": null,
      "metadata": {
        "colab": {
          "base_uri": "https://localhost:8080/",
          "height": 142
        },
        "id": "KmwaKUZCT_as",
        "outputId": "205fe3b3-690c-47fa-fb0d-623e45e10123"
      },
      "outputs": [
        {
          "data": {
            "text/html": [
              "<div>\n",
              "<style scoped>\n",
              "    .dataframe tbody tr th:only-of-type {\n",
              "        vertical-align: middle;\n",
              "    }\n",
              "\n",
              "    .dataframe tbody tr th {\n",
              "        vertical-align: top;\n",
              "    }\n",
              "\n",
              "    .dataframe thead th {\n",
              "        text-align: right;\n",
              "    }\n",
              "</style>\n",
              "<table border=\"1\" class=\"dataframe\">\n",
              "  <thead>\n",
              "    <tr style=\"text-align: right;\">\n",
              "      <th></th>\n",
              "      <th>A</th>\n",
              "      <th>B</th>\n",
              "      <th>C</th>\n",
              "      <th>D</th>\n",
              "    </tr>\n",
              "  </thead>\n",
              "  <tbody>\n",
              "    <tr>\n",
              "      <th>K0</th>\n",
              "      <td>A0</td>\n",
              "      <td>B0</td>\n",
              "      <td>C0</td>\n",
              "      <td>D0</td>\n",
              "    </tr>\n",
              "    <tr>\n",
              "      <th>K1</th>\n",
              "      <td>A1</td>\n",
              "      <td>B1</td>\n",
              "      <td>NaN</td>\n",
              "      <td>NaN</td>\n",
              "    </tr>\n",
              "    <tr>\n",
              "      <th>K2</th>\n",
              "      <td>A2</td>\n",
              "      <td>B2</td>\n",
              "      <td>C2</td>\n",
              "      <td>D2</td>\n",
              "    </tr>\n",
              "  </tbody>\n",
              "</table>\n",
              "</div>"
            ],
            "text/plain": [
              "     A   B    C    D\n",
              "K0  A0  B0   C0   D0\n",
              "K1  A1  B1  NaN  NaN\n",
              "K2  A2  B2   C2   D2"
            ]
          },
          "execution_count": 107,
          "metadata": {
            "tags": []
          },
          "output_type": "execute_result"
        }
      ],
      "source": [
        "left.join(right)"
      ]
    },
    {
      "cell_type": "code",
      "execution_count": null,
      "metadata": {
        "colab": {
          "base_uri": "https://localhost:8080/",
          "height": 173
        },
        "id": "mMSAL7cUT_as",
        "outputId": "d1488fb8-44be-45ae-87d0-d0115348cb14"
      },
      "outputs": [
        {
          "data": {
            "text/html": [
              "<div>\n",
              "<style scoped>\n",
              "    .dataframe tbody tr th:only-of-type {\n",
              "        vertical-align: middle;\n",
              "    }\n",
              "\n",
              "    .dataframe tbody tr th {\n",
              "        vertical-align: top;\n",
              "    }\n",
              "\n",
              "    .dataframe thead th {\n",
              "        text-align: right;\n",
              "    }\n",
              "</style>\n",
              "<table border=\"1\" class=\"dataframe\">\n",
              "  <thead>\n",
              "    <tr style=\"text-align: right;\">\n",
              "      <th></th>\n",
              "      <th>A</th>\n",
              "      <th>B</th>\n",
              "      <th>C</th>\n",
              "      <th>D</th>\n",
              "    </tr>\n",
              "  </thead>\n",
              "  <tbody>\n",
              "    <tr>\n",
              "      <th>K0</th>\n",
              "      <td>A0</td>\n",
              "      <td>B0</td>\n",
              "      <td>C0</td>\n",
              "      <td>D0</td>\n",
              "    </tr>\n",
              "    <tr>\n",
              "      <th>K1</th>\n",
              "      <td>A1</td>\n",
              "      <td>B1</td>\n",
              "      <td>NaN</td>\n",
              "      <td>NaN</td>\n",
              "    </tr>\n",
              "    <tr>\n",
              "      <th>K2</th>\n",
              "      <td>A2</td>\n",
              "      <td>B2</td>\n",
              "      <td>C2</td>\n",
              "      <td>D2</td>\n",
              "    </tr>\n",
              "    <tr>\n",
              "      <th>K3</th>\n",
              "      <td>NaN</td>\n",
              "      <td>NaN</td>\n",
              "      <td>C3</td>\n",
              "      <td>D3</td>\n",
              "    </tr>\n",
              "  </tbody>\n",
              "</table>\n",
              "</div>"
            ],
            "text/plain": [
              "      A    B    C    D\n",
              "K0   A0   B0   C0   D0\n",
              "K1   A1   B1  NaN  NaN\n",
              "K2   A2   B2   C2   D2\n",
              "K3  NaN  NaN   C3   D3"
            ]
          },
          "execution_count": 110,
          "metadata": {
            "tags": []
          },
          "output_type": "execute_result"
        }
      ],
      "source": [
        "left.join(right, how='outer')"
      ]
    },
    {
      "cell_type": "markdown",
      "metadata": {
        "collapsed": true,
        "id": "IyRJsc4GUMo0"
      },
      "source": [
        "___\n",
        "# Operaciones\n",
        "\n",
        "A continuación exploraremos algunos de los métodos más frecuentes para analizar datos con esta librería:"
      ]
    },
    {
      "cell_type": "code",
      "execution_count": null,
      "metadata": {
        "colab": {
          "base_uri": "https://localhost:8080/",
          "height": 173
        },
        "id": "mTpuKYNCUMo0",
        "outputId": "7d20824f-679e-4e91-e6c1-30cbb4d780e7"
      },
      "outputs": [
        {
          "data": {
            "text/html": [
              "<div>\n",
              "<style scoped>\n",
              "    .dataframe tbody tr th:only-of-type {\n",
              "        vertical-align: middle;\n",
              "    }\n",
              "\n",
              "    .dataframe tbody tr th {\n",
              "        vertical-align: top;\n",
              "    }\n",
              "\n",
              "    .dataframe thead th {\n",
              "        text-align: right;\n",
              "    }\n",
              "</style>\n",
              "<table border=\"1\" class=\"dataframe\">\n",
              "  <thead>\n",
              "    <tr style=\"text-align: right;\">\n",
              "      <th></th>\n",
              "      <th>col1</th>\n",
              "      <th>col2</th>\n",
              "      <th>col3</th>\n",
              "    </tr>\n",
              "  </thead>\n",
              "  <tbody>\n",
              "    <tr>\n",
              "      <th>0</th>\n",
              "      <td>1</td>\n",
              "      <td>444</td>\n",
              "      <td>abc</td>\n",
              "    </tr>\n",
              "    <tr>\n",
              "      <th>1</th>\n",
              "      <td>2</td>\n",
              "      <td>555</td>\n",
              "      <td>def</td>\n",
              "    </tr>\n",
              "    <tr>\n",
              "      <th>2</th>\n",
              "      <td>3</td>\n",
              "      <td>666</td>\n",
              "      <td>ghi</td>\n",
              "    </tr>\n",
              "    <tr>\n",
              "      <th>3</th>\n",
              "      <td>4</td>\n",
              "      <td>444</td>\n",
              "      <td>xyz</td>\n",
              "    </tr>\n",
              "  </tbody>\n",
              "</table>\n",
              "</div>"
            ],
            "text/plain": [
              "   col1  col2 col3\n",
              "0     1   444  abc\n",
              "1     2   555  def\n",
              "2     3   666  ghi\n",
              "3     4   444  xyz"
            ]
          },
          "execution_count": 111,
          "metadata": {
            "tags": []
          },
          "output_type": "execute_result"
        }
      ],
      "source": [
        "df = pd.DataFrame({'col1':[1,2,3,4],'col2':[444,555,666,444],'col3':['abc','def','ghi','xyz']})\n",
        "df.head()"
      ]
    },
    {
      "cell_type": "markdown",
      "metadata": {
        "id": "qFlmgX7GUMo1"
      },
      "source": [
        "### Info sobre valores únicos"
      ]
    },
    {
      "cell_type": "code",
      "execution_count": null,
      "metadata": {
        "colab": {
          "base_uri": "https://localhost:8080/"
        },
        "id": "1fidMQ9MUMo1",
        "outputId": "f1ed2a07-c62c-4321-aa96-15fa3c3787a1"
      },
      "outputs": [
        {
          "data": {
            "text/plain": [
              "array([444, 555, 666])"
            ]
          },
          "execution_count": 112,
          "metadata": {
            "tags": []
          },
          "output_type": "execute_result"
        }
      ],
      "source": [
        "#Valores distintos de una columna\n",
        "df['col2'].unique()"
      ]
    },
    {
      "cell_type": "code",
      "execution_count": null,
      "metadata": {
        "colab": {
          "base_uri": "https://localhost:8080/"
        },
        "id": "ef8pCpQ0UMo2",
        "outputId": "2f90219b-697e-488e-ccf2-ffaea79d400b"
      },
      "outputs": [
        {
          "data": {
            "text/plain": [
              "3"
            ]
          },
          "execution_count": 113,
          "metadata": {
            "tags": []
          },
          "output_type": "execute_result"
        }
      ],
      "source": [
        "#Número de valores distintos en una columna\n",
        "df['col2'].nunique()"
      ]
    },
    {
      "cell_type": "code",
      "execution_count": null,
      "metadata": {
        "colab": {
          "base_uri": "https://localhost:8080/"
        },
        "id": "1hl4y6zPUMo2",
        "outputId": "ed432cca-6014-4a92-9345-5345e795427b"
      },
      "outputs": [
        {
          "data": {
            "text/plain": [
              "444    2\n",
              "555    1\n",
              "666    1\n",
              "Name: col2, dtype: int64"
            ]
          },
          "execution_count": 114,
          "metadata": {
            "tags": []
          },
          "output_type": "execute_result"
        }
      ],
      "source": [
        "#Número de veces que se toma cada valor de una columna\n",
        "df['col2'].value_counts()"
      ]
    },
    {
      "cell_type": "markdown",
      "metadata": {
        "id": "8YEj9JCDUMo2"
      },
      "source": [
        "### Filtrando datos"
      ]
    },
    {
      "cell_type": "code",
      "execution_count": null,
      "metadata": {
        "id": "UTQy1Ix7UMo3"
      },
      "outputs": [],
      "source": [
        "#Podemos filtrar haciendo uso de condiciones en múltiples columnas\n",
        "newdf = df[(df['col1']>2) & (df['col2']==444)]"
      ]
    },
    {
      "cell_type": "code",
      "execution_count": null,
      "metadata": {
        "colab": {
          "base_uri": "https://localhost:8080/",
          "height": 80
        },
        "id": "eMNPpR1UUMo3",
        "outputId": "aa3c1d92-989a-447f-dcc4-a18ec279461a"
      },
      "outputs": [
        {
          "data": {
            "text/html": [
              "<div>\n",
              "<style scoped>\n",
              "    .dataframe tbody tr th:only-of-type {\n",
              "        vertical-align: middle;\n",
              "    }\n",
              "\n",
              "    .dataframe tbody tr th {\n",
              "        vertical-align: top;\n",
              "    }\n",
              "\n",
              "    .dataframe thead th {\n",
              "        text-align: right;\n",
              "    }\n",
              "</style>\n",
              "<table border=\"1\" class=\"dataframe\">\n",
              "  <thead>\n",
              "    <tr style=\"text-align: right;\">\n",
              "      <th></th>\n",
              "      <th>col1</th>\n",
              "      <th>col2</th>\n",
              "      <th>col3</th>\n",
              "    </tr>\n",
              "  </thead>\n",
              "  <tbody>\n",
              "    <tr>\n",
              "      <th>3</th>\n",
              "      <td>4</td>\n",
              "      <td>444</td>\n",
              "      <td>xyz</td>\n",
              "    </tr>\n",
              "  </tbody>\n",
              "</table>\n",
              "</div>"
            ],
            "text/plain": [
              "   col1  col2 col3\n",
              "3     4   444  xyz"
            ]
          },
          "execution_count": 116,
          "metadata": {
            "tags": []
          },
          "output_type": "execute_result"
        }
      ],
      "source": [
        "newdf"
      ]
    },
    {
      "cell_type": "markdown",
      "metadata": {
        "id": "A2JyXUm6UMo3"
      },
      "source": [
        "### Aplicar funciones"
      ]
    },
    {
      "cell_type": "code",
      "execution_count": null,
      "metadata": {
        "collapsed": true,
        "id": "unWs3AmmUMo3"
      },
      "outputs": [],
      "source": [
        "def times2(x):\n",
        "    return x*2"
      ]
    },
    {
      "cell_type": "code",
      "execution_count": null,
      "metadata": {
        "colab": {
          "base_uri": "https://localhost:8080/"
        },
        "id": "NnPl2IiNUMo4",
        "outputId": "32291480-5f63-448b-8c28-27dff726f9c8"
      },
      "outputs": [
        {
          "data": {
            "text/plain": [
              "0    2\n",
              "1    4\n",
              "2    6\n",
              "3    8\n",
              "Name: col1, dtype: int64"
            ]
          },
          "execution_count": 118,
          "metadata": {
            "tags": []
          },
          "output_type": "execute_result"
        }
      ],
      "source": [
        "df['col1'].apply(times2)"
      ]
    },
    {
      "cell_type": "code",
      "execution_count": null,
      "metadata": {
        "colab": {
          "base_uri": "https://localhost:8080/"
        },
        "id": "687YYFtaUMo4",
        "outputId": "75e940ba-30c1-4610-90e4-c9d3891b7431"
      },
      "outputs": [
        {
          "data": {
            "text/plain": [
              "0    3\n",
              "1    3\n",
              "2    3\n",
              "3    3\n",
              "Name: col3, dtype: int64"
            ]
          },
          "execution_count": 119,
          "metadata": {
            "tags": []
          },
          "output_type": "execute_result"
        }
      ],
      "source": [
        "df['col3'].apply(len)"
      ]
    },
    {
      "cell_type": "code",
      "execution_count": null,
      "metadata": {
        "colab": {
          "base_uri": "https://localhost:8080/"
        },
        "id": "Ofu_Y2DhUMo4",
        "outputId": "47d92c09-f697-4d8d-a58a-c17b9aa1f412"
      },
      "outputs": [
        {
          "data": {
            "text/plain": [
              "10"
            ]
          },
          "execution_count": 120,
          "metadata": {
            "tags": []
          },
          "output_type": "execute_result"
        }
      ],
      "source": [
        "df['col1'].sum()"
      ]
    },
    {
      "cell_type": "markdown",
      "metadata": {
        "id": "qVcwNeTjUMo4"
      },
      "source": [
        "**Eliminar una columna de forma irreversible**"
      ]
    },
    {
      "cell_type": "code",
      "execution_count": null,
      "metadata": {
        "id": "JbITtePvUMo5"
      },
      "outputs": [],
      "source": [
        "del df['col1']"
      ]
    },
    {
      "cell_type": "code",
      "execution_count": null,
      "metadata": {
        "colab": {
          "base_uri": "https://localhost:8080/",
          "height": 173
        },
        "id": "G3xfSVPVUMo5",
        "outputId": "a8a2b194-e10f-4536-c753-9b618ae3a67b"
      },
      "outputs": [
        {
          "data": {
            "text/html": [
              "<div>\n",
              "<style scoped>\n",
              "    .dataframe tbody tr th:only-of-type {\n",
              "        vertical-align: middle;\n",
              "    }\n",
              "\n",
              "    .dataframe tbody tr th {\n",
              "        vertical-align: top;\n",
              "    }\n",
              "\n",
              "    .dataframe thead th {\n",
              "        text-align: right;\n",
              "    }\n",
              "</style>\n",
              "<table border=\"1\" class=\"dataframe\">\n",
              "  <thead>\n",
              "    <tr style=\"text-align: right;\">\n",
              "      <th></th>\n",
              "      <th>col2</th>\n",
              "      <th>col3</th>\n",
              "    </tr>\n",
              "  </thead>\n",
              "  <tbody>\n",
              "    <tr>\n",
              "      <th>0</th>\n",
              "      <td>444</td>\n",
              "      <td>abc</td>\n",
              "    </tr>\n",
              "    <tr>\n",
              "      <th>1</th>\n",
              "      <td>555</td>\n",
              "      <td>def</td>\n",
              "    </tr>\n",
              "    <tr>\n",
              "      <th>2</th>\n",
              "      <td>666</td>\n",
              "      <td>ghi</td>\n",
              "    </tr>\n",
              "    <tr>\n",
              "      <th>3</th>\n",
              "      <td>444</td>\n",
              "      <td>xyz</td>\n",
              "    </tr>\n",
              "  </tbody>\n",
              "</table>\n",
              "</div>"
            ],
            "text/plain": [
              "   col2 col3\n",
              "0   444  abc\n",
              "1   555  def\n",
              "2   666  ghi\n",
              "3   444  xyz"
            ]
          },
          "execution_count": 122,
          "metadata": {
            "tags": []
          },
          "output_type": "execute_result"
        }
      ],
      "source": [
        "df"
      ]
    },
    {
      "cell_type": "markdown",
      "metadata": {
        "id": "kGmFGRS5UMo5"
      },
      "source": [
        "**Obtener nombre de columnas e índices**"
      ]
    },
    {
      "cell_type": "code",
      "execution_count": null,
      "metadata": {
        "id": "_2--UaDFUMo5",
        "outputId": "5d535f05-4ab8-4b7a-d7af-d3fc3af12c74"
      },
      "outputs": [
        {
          "data": {
            "text/plain": [
              "Index(['col2', 'col3'], dtype='object')"
            ]
          },
          "execution_count": 64,
          "metadata": {
            "tags": []
          },
          "output_type": "execute_result"
        }
      ],
      "source": [
        "df.columns"
      ]
    },
    {
      "cell_type": "code",
      "execution_count": null,
      "metadata": {
        "id": "6ylILd5VUMo5",
        "outputId": "20f51d71-e9ab-499b-b0a6-473bfe8b0e0d"
      },
      "outputs": [
        {
          "data": {
            "text/plain": [
              "RangeIndex(start=0, stop=4, step=1)"
            ]
          },
          "execution_count": 65,
          "metadata": {
            "tags": []
          },
          "output_type": "execute_result"
        }
      ],
      "source": [
        "df.index"
      ]
    },
    {
      "cell_type": "markdown",
      "metadata": {
        "id": "xJ8OpST4UMo6"
      },
      "source": [
        "**Ordenando la información**"
      ]
    },
    {
      "cell_type": "code",
      "execution_count": null,
      "metadata": {
        "id": "rtJyO6M9UMo6",
        "outputId": "a878ca1f-927e-43dc-a220-d82eb6bc48ba"
      },
      "outputs": [
        {
          "data": {
            "text/html": [
              "<div>\n",
              "<table border=\"1\" class=\"dataframe\">\n",
              "  <thead>\n",
              "    <tr style=\"text-align: right;\">\n",
              "      <th></th>\n",
              "      <th>col2</th>\n",
              "      <th>col3</th>\n",
              "    </tr>\n",
              "  </thead>\n",
              "  <tbody>\n",
              "    <tr>\n",
              "      <th>0</th>\n",
              "      <td>444</td>\n",
              "      <td>abc</td>\n",
              "    </tr>\n",
              "    <tr>\n",
              "      <th>1</th>\n",
              "      <td>555</td>\n",
              "      <td>def</td>\n",
              "    </tr>\n",
              "    <tr>\n",
              "      <th>2</th>\n",
              "      <td>666</td>\n",
              "      <td>ghi</td>\n",
              "    </tr>\n",
              "    <tr>\n",
              "      <th>3</th>\n",
              "      <td>444</td>\n",
              "      <td>xyz</td>\n",
              "    </tr>\n",
              "  </tbody>\n",
              "</table>\n",
              "</div>"
            ],
            "text/plain": [
              "   col2 col3\n",
              "0   444  abc\n",
              "1   555  def\n",
              "2   666  ghi\n",
              "3   444  xyz"
            ]
          },
          "execution_count": 66,
          "metadata": {
            "tags": []
          },
          "output_type": "execute_result"
        }
      ],
      "source": [
        "df"
      ]
    },
    {
      "cell_type": "code",
      "execution_count": null,
      "metadata": {
        "id": "wir6vAzqUMo6",
        "outputId": "f8a0093d-8b1d-4e49-cc73-68f2feef263f"
      },
      "outputs": [
        {
          "data": {
            "text/html": [
              "<div>\n",
              "<table border=\"1\" class=\"dataframe\">\n",
              "  <thead>\n",
              "    <tr style=\"text-align: right;\">\n",
              "      <th></th>\n",
              "      <th>col2</th>\n",
              "      <th>col3</th>\n",
              "    </tr>\n",
              "  </thead>\n",
              "  <tbody>\n",
              "    <tr>\n",
              "      <th>0</th>\n",
              "      <td>444</td>\n",
              "      <td>abc</td>\n",
              "    </tr>\n",
              "    <tr>\n",
              "      <th>3</th>\n",
              "      <td>444</td>\n",
              "      <td>xyz</td>\n",
              "    </tr>\n",
              "    <tr>\n",
              "      <th>1</th>\n",
              "      <td>555</td>\n",
              "      <td>def</td>\n",
              "    </tr>\n",
              "    <tr>\n",
              "      <th>2</th>\n",
              "      <td>666</td>\n",
              "      <td>ghi</td>\n",
              "    </tr>\n",
              "  </tbody>\n",
              "</table>\n",
              "</div>"
            ],
            "text/plain": [
              "   col2 col3\n",
              "0   444  abc\n",
              "3   444  xyz\n",
              "1   555  def\n",
              "2   666  ghi"
            ]
          },
          "execution_count": 67,
          "metadata": {
            "tags": []
          },
          "output_type": "execute_result"
        }
      ],
      "source": [
        "df.sort_values(by='col2') #inplace=False por defecto"
      ]
    },
    {
      "cell_type": "markdown",
      "metadata": {
        "id": "w14ht0PyUMo6"
      },
      "source": [
        "**Buscar valores nulos y reemplazarlos**"
      ]
    },
    {
      "cell_type": "code",
      "execution_count": null,
      "metadata": {
        "colab": {
          "base_uri": "https://localhost:8080/",
          "height": 173
        },
        "id": "WABaO4FyUMo6",
        "outputId": "ff9039e0-5863-4079-d440-c823b58e0b85"
      },
      "outputs": [
        {
          "data": {
            "text/html": [
              "<div>\n",
              "<style scoped>\n",
              "    .dataframe tbody tr th:only-of-type {\n",
              "        vertical-align: middle;\n",
              "    }\n",
              "\n",
              "    .dataframe tbody tr th {\n",
              "        vertical-align: top;\n",
              "    }\n",
              "\n",
              "    .dataframe thead th {\n",
              "        text-align: right;\n",
              "    }\n",
              "</style>\n",
              "<table border=\"1\" class=\"dataframe\">\n",
              "  <thead>\n",
              "    <tr style=\"text-align: right;\">\n",
              "      <th></th>\n",
              "      <th>col2</th>\n",
              "      <th>col3</th>\n",
              "    </tr>\n",
              "  </thead>\n",
              "  <tbody>\n",
              "    <tr>\n",
              "      <th>0</th>\n",
              "      <td>False</td>\n",
              "      <td>False</td>\n",
              "    </tr>\n",
              "    <tr>\n",
              "      <th>1</th>\n",
              "      <td>False</td>\n",
              "      <td>False</td>\n",
              "    </tr>\n",
              "    <tr>\n",
              "      <th>2</th>\n",
              "      <td>False</td>\n",
              "      <td>False</td>\n",
              "    </tr>\n",
              "    <tr>\n",
              "      <th>3</th>\n",
              "      <td>False</td>\n",
              "      <td>False</td>\n",
              "    </tr>\n",
              "  </tbody>\n",
              "</table>\n",
              "</div>"
            ],
            "text/plain": [
              "    col2   col3\n",
              "0  False  False\n",
              "1  False  False\n",
              "2  False  False\n",
              "3  False  False"
            ]
          },
          "execution_count": 123,
          "metadata": {
            "tags": []
          },
          "output_type": "execute_result"
        }
      ],
      "source": [
        "df.isnull()"
      ]
    },
    {
      "cell_type": "code",
      "execution_count": null,
      "metadata": {
        "colab": {
          "base_uri": "https://localhost:8080/",
          "height": 173
        },
        "id": "XG6lTTPrUMo7",
        "outputId": "5558ffc0-b317-4d72-cb0f-e7c73ee5f8b3"
      },
      "outputs": [
        {
          "data": {
            "text/html": [
              "<div>\n",
              "<style scoped>\n",
              "    .dataframe tbody tr th:only-of-type {\n",
              "        vertical-align: middle;\n",
              "    }\n",
              "\n",
              "    .dataframe tbody tr th {\n",
              "        vertical-align: top;\n",
              "    }\n",
              "\n",
              "    .dataframe thead th {\n",
              "        text-align: right;\n",
              "    }\n",
              "</style>\n",
              "<table border=\"1\" class=\"dataframe\">\n",
              "  <thead>\n",
              "    <tr style=\"text-align: right;\">\n",
              "      <th></th>\n",
              "      <th>col2</th>\n",
              "      <th>col3</th>\n",
              "    </tr>\n",
              "  </thead>\n",
              "  <tbody>\n",
              "    <tr>\n",
              "      <th>0</th>\n",
              "      <td>444</td>\n",
              "      <td>abc</td>\n",
              "    </tr>\n",
              "    <tr>\n",
              "      <th>1</th>\n",
              "      <td>555</td>\n",
              "      <td>def</td>\n",
              "    </tr>\n",
              "    <tr>\n",
              "      <th>2</th>\n",
              "      <td>666</td>\n",
              "      <td>ghi</td>\n",
              "    </tr>\n",
              "    <tr>\n",
              "      <th>3</th>\n",
              "      <td>444</td>\n",
              "      <td>xyz</td>\n",
              "    </tr>\n",
              "  </tbody>\n",
              "</table>\n",
              "</div>"
            ],
            "text/plain": [
              "   col2 col3\n",
              "0   444  abc\n",
              "1   555  def\n",
              "2   666  ghi\n",
              "3   444  xyz"
            ]
          },
          "execution_count": 124,
          "metadata": {
            "tags": []
          },
          "output_type": "execute_result"
        }
      ],
      "source": [
        "# Drop rows with NaN Values\n",
        "df.dropna()"
      ]
    },
    {
      "cell_type": "markdown",
      "metadata": {
        "id": "qwAJaJASUMo7"
      },
      "source": [
        "**Rellenar valores nulos con otra información**"
      ]
    },
    {
      "cell_type": "code",
      "execution_count": null,
      "metadata": {
        "colab": {
          "base_uri": "https://localhost:8080/",
          "height": 173
        },
        "id": "uGmEqgXsUMo7",
        "outputId": "5439654c-5120-492c-d4bd-509926316080"
      },
      "outputs": [
        {
          "data": {
            "text/html": [
              "<div>\n",
              "<style scoped>\n",
              "    .dataframe tbody tr th:only-of-type {\n",
              "        vertical-align: middle;\n",
              "    }\n",
              "\n",
              "    .dataframe tbody tr th {\n",
              "        vertical-align: top;\n",
              "    }\n",
              "\n",
              "    .dataframe thead th {\n",
              "        text-align: right;\n",
              "    }\n",
              "</style>\n",
              "<table border=\"1\" class=\"dataframe\">\n",
              "  <thead>\n",
              "    <tr style=\"text-align: right;\">\n",
              "      <th></th>\n",
              "      <th>col1</th>\n",
              "      <th>col2</th>\n",
              "      <th>col3</th>\n",
              "    </tr>\n",
              "  </thead>\n",
              "  <tbody>\n",
              "    <tr>\n",
              "      <th>0</th>\n",
              "      <td>1.0</td>\n",
              "      <td>NaN</td>\n",
              "      <td>abc</td>\n",
              "    </tr>\n",
              "    <tr>\n",
              "      <th>1</th>\n",
              "      <td>2.0</td>\n",
              "      <td>555.0</td>\n",
              "      <td>def</td>\n",
              "    </tr>\n",
              "    <tr>\n",
              "      <th>2</th>\n",
              "      <td>3.0</td>\n",
              "      <td>666.0</td>\n",
              "      <td>ghi</td>\n",
              "    </tr>\n",
              "    <tr>\n",
              "      <th>3</th>\n",
              "      <td>NaN</td>\n",
              "      <td>444.0</td>\n",
              "      <td>xyz</td>\n",
              "    </tr>\n",
              "  </tbody>\n",
              "</table>\n",
              "</div>"
            ],
            "text/plain": [
              "   col1   col2 col3\n",
              "0   1.0    NaN  abc\n",
              "1   2.0  555.0  def\n",
              "2   3.0  666.0  ghi\n",
              "3   NaN  444.0  xyz"
            ]
          },
          "execution_count": 125,
          "metadata": {
            "tags": []
          },
          "output_type": "execute_result"
        }
      ],
      "source": [
        "df = pd.DataFrame({'col1':[1,2,3,np.nan],\n",
        "                   'col2':[np.nan,555,666,444],\n",
        "                   'col3':['abc','def','ghi','xyz']})\n",
        "df.head()"
      ]
    },
    {
      "cell_type": "code",
      "execution_count": null,
      "metadata": {
        "colab": {
          "base_uri": "https://localhost:8080/",
          "height": 173
        },
        "id": "MPODc369UMo7",
        "outputId": "95ec27bb-a825-434c-ba99-fa266329bd4b"
      },
      "outputs": [
        {
          "data": {
            "text/html": [
              "<div>\n",
              "<style scoped>\n",
              "    .dataframe tbody tr th:only-of-type {\n",
              "        vertical-align: middle;\n",
              "    }\n",
              "\n",
              "    .dataframe tbody tr th {\n",
              "        vertical-align: top;\n",
              "    }\n",
              "\n",
              "    .dataframe thead th {\n",
              "        text-align: right;\n",
              "    }\n",
              "</style>\n",
              "<table border=\"1\" class=\"dataframe\">\n",
              "  <thead>\n",
              "    <tr style=\"text-align: right;\">\n",
              "      <th></th>\n",
              "      <th>col1</th>\n",
              "      <th>col2</th>\n",
              "      <th>col3</th>\n",
              "    </tr>\n",
              "  </thead>\n",
              "  <tbody>\n",
              "    <tr>\n",
              "      <th>0</th>\n",
              "      <td>1</td>\n",
              "      <td>FILL</td>\n",
              "      <td>abc</td>\n",
              "    </tr>\n",
              "    <tr>\n",
              "      <th>1</th>\n",
              "      <td>2</td>\n",
              "      <td>555</td>\n",
              "      <td>def</td>\n",
              "    </tr>\n",
              "    <tr>\n",
              "      <th>2</th>\n",
              "      <td>3</td>\n",
              "      <td>666</td>\n",
              "      <td>ghi</td>\n",
              "    </tr>\n",
              "    <tr>\n",
              "      <th>3</th>\n",
              "      <td>FILL</td>\n",
              "      <td>444</td>\n",
              "      <td>xyz</td>\n",
              "    </tr>\n",
              "  </tbody>\n",
              "</table>\n",
              "</div>"
            ],
            "text/plain": [
              "   col1  col2 col3\n",
              "0     1  FILL  abc\n",
              "1     2   555  def\n",
              "2     3   666  ghi\n",
              "3  FILL   444  xyz"
            ]
          },
          "execution_count": 126,
          "metadata": {
            "tags": []
          },
          "output_type": "execute_result"
        }
      ],
      "source": [
        "df.fillna('FILL')"
      ]
    },
    {
      "cell_type": "markdown",
      "metadata": {
        "id": "5FjneR9yD86O"
      },
      "source": [
        "**Pivotar tablas**"
      ]
    },
    {
      "cell_type": "code",
      "execution_count": null,
      "metadata": {
        "colab": {
          "base_uri": "https://localhost:8080/"
        },
        "collapsed": true,
        "id": "Bp9BZ4ySUMo8",
        "outputId": "37185709-f996-416f-e126-c18169c68ede"
      },
      "outputs": [
        {
          "name": "stdout",
          "output_type": "stream",
          "text": [
            "     A    B  C  D\n",
            "0  foo  one  x  1\n",
            "1  foo  one  y  3\n",
            "2  foo  two  x  2\n",
            "3  bar  two  y  5\n",
            "4  bar  one  x  4\n",
            "5  bar  one  y  1\n"
          ]
        }
      ],
      "source": [
        "data = {'A':['foo','foo','foo','bar','bar','bar'],\n",
        "     'B':['one','one','two','two','one','one'],\n",
        "       'C':['x','y','x','y','x','y'],\n",
        "       'D':[1,3,2,5,4,1]}\n",
        "\n",
        "df = pd.DataFrame(data)\n",
        "print(df)"
      ]
    },
    {
      "cell_type": "code",
      "execution_count": null,
      "metadata": {
        "colab": {
          "base_uri": "https://localhost:8080/",
          "height": 204
        },
        "id": "M95SPOUCUMo8",
        "outputId": "b0be4643-2d65-4bce-d06d-ae6c2f6d2836"
      },
      "outputs": [
        {
          "data": {
            "text/html": [
              "<div>\n",
              "<style scoped>\n",
              "    .dataframe tbody tr th:only-of-type {\n",
              "        vertical-align: middle;\n",
              "    }\n",
              "\n",
              "    .dataframe tbody tr th {\n",
              "        vertical-align: top;\n",
              "    }\n",
              "\n",
              "    .dataframe thead th {\n",
              "        text-align: right;\n",
              "    }\n",
              "</style>\n",
              "<table border=\"1\" class=\"dataframe\">\n",
              "  <thead>\n",
              "    <tr style=\"text-align: right;\">\n",
              "      <th></th>\n",
              "      <th>C</th>\n",
              "      <th>x</th>\n",
              "      <th>y</th>\n",
              "    </tr>\n",
              "    <tr>\n",
              "      <th>A</th>\n",
              "      <th>B</th>\n",
              "      <th></th>\n",
              "      <th></th>\n",
              "    </tr>\n",
              "  </thead>\n",
              "  <tbody>\n",
              "    <tr>\n",
              "      <th rowspan=\"2\" valign=\"top\">bar</th>\n",
              "      <th>one</th>\n",
              "      <td>4.0</td>\n",
              "      <td>1.0</td>\n",
              "    </tr>\n",
              "    <tr>\n",
              "      <th>two</th>\n",
              "      <td>NaN</td>\n",
              "      <td>5.0</td>\n",
              "    </tr>\n",
              "    <tr>\n",
              "      <th rowspan=\"2\" valign=\"top\">foo</th>\n",
              "      <th>one</th>\n",
              "      <td>1.0</td>\n",
              "      <td>3.0</td>\n",
              "    </tr>\n",
              "    <tr>\n",
              "      <th>two</th>\n",
              "      <td>2.0</td>\n",
              "      <td>NaN</td>\n",
              "    </tr>\n",
              "  </tbody>\n",
              "</table>\n",
              "</div>"
            ],
            "text/plain": [
              "C          x    y\n",
              "A   B            \n",
              "bar one  4.0  1.0\n",
              "    two  NaN  5.0\n",
              "foo one  1.0  3.0\n",
              "    two  2.0  NaN"
            ]
          },
          "execution_count": 129,
          "metadata": {
            "tags": []
          },
          "output_type": "execute_result"
        }
      ],
      "source": [
        "df.pivot_table(values='D',index=['A', 'B'],columns=['C'])"
      ]
    }
  ],
  "metadata": {
    "colab": {
      "collapsed_sections": [],
      "name": "03-Introducción a Pandas.ipynb",
      "provenance": [],
      "toc_visible": true
    },
    "kernelspec": {
      "display_name": "base",
      "language": "python",
      "name": "python3"
    },
    "language_info": {
      "codemirror_mode": {
        "name": "ipython",
        "version": 3
      },
      "file_extension": ".py",
      "mimetype": "text/x-python",
      "name": "python",
      "nbconvert_exporter": "python",
      "pygments_lexer": "ipython3",
      "version": "3.13.5"
    }
  },
  "nbformat": 4,
  "nbformat_minor": 0
}
