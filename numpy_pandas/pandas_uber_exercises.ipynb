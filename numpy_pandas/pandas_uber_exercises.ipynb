{
  "cells": [
    {
      "cell_type": "markdown",
      "metadata": {},
      "source": [
        "# 📝 Ejercicios Prácticos - Pandas\n",
        "\n",
        "## Dataset: Reservas de Viajes en Uber/Taxi\n",
        "\n",
        "Este cuaderno contiene ejercicios para practicar los conceptos de Pandas.\n",
        "Trabajarás con un dataset de reservas de viajes similar al usado en las clases.\n",
        "\n",
        "**Instrucciones generales:**\n",
        "- Lee cada ejercicio cuidadosamente\n",
        "- Escribe tu código en las celdas indicadas\n",
        "- Verifica tus resultados\n",
        "- Consulta la documentación cuando lo necesites"
      ]
    },
    {
      "cell_type": "markdown",
      "metadata": {},
      "source": [
        "## Indice de contenidos navegable\n",
        "\n",
        "\n"
      ]
    },
    {
      "cell_type": "markdown",
      "metadata": {},
      "source": [
        "## 📑 Índice de Contenidos Navegable\n",
        "\n",
        "- [📥 Parte 1: Carga y Exploración Inicial](#-Parte-1:-Carga-y-Exploración-Inicial)\n",
        "  - [Ejercicio 1.1: Carga de datos](#Ejercicio-1.1)\n",
        "  - [Ejercicio 1.2: Exploración inicial](#Ejercicio-1.2)\n",
        "  - [Ejercicio 1.3: Estadísticas descriptivas](#Ejercicio-1.3)\n",
        "  - [Ejercicio 1.4: Análisis de valores nulos](#Ejercicio-1.4)\n",
        "\n",
        "- [🔍 Parte 2: Filtrado y Selección](#-Parte-2:-Filtrado-y-Selección)\n",
        "  - [Ejercicio 2.1: Selección de columnas](#Ejercicio-2.1)\n",
        "  - [Ejercicio 2.2: Filtrado múltiple](#Ejercicio-2.2)\n",
        "  - [Ejercicio 2.3: Conversión de fechas](#Ejercicio-2.3)\n",
        "  - [Ejercicio 2.4: Filtrado y ordenamiento](#Ejercicio-2.4)\n",
        "\n",
        "- [📊 Parte 3: Análisis con value_counts y unique](#-Parte-3:-Análisis-con-value_counts-y-unique)\n",
        "  - [Ejercicio 3.1: Tipos de vehículos](#Ejercicio-3.1)\n",
        "  - [Ejercicio 3.2: Métodos de pago](#Ejercicio-3.2)\n",
        "  - [Ejercicio 3.3: Estados de reserva](#Ejercicio-3.3)\n",
        "\n",
        "- [📐 Parte 4: Estadísticas y Operaciones](#-Parte-4:-Estadísticas-y-Operaciones)\n",
        "  - [Ejercicio 4.1: Estadísticas de valor](#Ejercicio-4.1)\n",
        "  - [Ejercicio 4.2: Precio por kilómetro](#Ejercicio-4.2)\n",
        "  - [Ejercicio 4.3: Viajes más largos](#Ejercicio-4.3)\n",
        "  - [Ejercicio 4.4: Valor por método de pago](#Ejercicio-4.4)\n",
        "\n",
        "- [🔄 Parte 5: Transformación de Datos](#-Parte-5:-Transformación-de-Datos)\n",
        "  - [Ejercicio 5.1: Manejo de valores nulos](#Ejercicio-5.1)\n",
        "  - [Ejercicio 5.2: Renombrar columnas](#Ejercicio-5.2)\n",
        "  - [Ejercicio 5.3: Categorización de ratings](#Ejercicio-5.3)\n",
        "  - [Ejercicio 5.4: Reemplazo de valores](#Ejercicio-5.4)\n",
        "\n",
        "- [📈 Parte 6: Agrupación y Análisis Avanzado](#-Parte-6:-Agrupación-y-Análisis-Avanzado)\n",
        "  - [Ejercicio 6.1: Agrupación por vehículo](#Ejercicio-6.1)\n",
        "  - [Ejercicio 6.2: Tabla pivote](#Ejercicio-6.2)\n",
        "  - [Ejercicio 6.3: Agrupación por mes y vehículo](#Ejercicio-6.3)\n",
        "  - [Ejercicio 6.4: Top 5 ubicaciones](#Ejercicio-6.4)\n",
        "\n",
        "- [🎯 Parte 7: Caso Práctico Final](#-Parte-7:-Caso-Práctico-Final)\n",
        "  - [Ejercicio Final: Reporte completo](#Ejercicio-Final)"
      ]
    },
    {
      "cell_type": "code",
      "execution_count": null,
      "metadata": {},
      "outputs": [],
      "source": [
        "# Importar librerías necesarias\n",
        "import pandas as pd"
      ]
    },
    {
      "cell_type": "markdown",
      "metadata": {},
      "source": [
        "## 📥 Parte 1: Carga y Exploración Inicial\n",
        "### Ejercicio 1.1 \n",
        "Carga el archivo CSV 'ncr_ride_bookings.csv' en un DataFrame llamado `df_rides`"
      ]
    },
    {
      "cell_type": "code",
      "execution_count": null,
      "metadata": {},
      "outputs": [],
      "source": [
        "# Tu código aquí\n",
        "df_rides = "
      ]
    },
    {
      "cell_type": "markdown",
      "metadata": {},
      "source": [
        "### Ejercicio 1.2\n",
        "Realiza una exploración inicial:\n",
        "- Muestra las primeras 10 filas\n",
        "- Obtén información general del DataFrame (tipos de datos, valores nulos)\n",
        "- Muestra las dimensiones (número de filas y columnas)"
      ]
    },
    {
      "cell_type": "code",
      "execution_count": null,
      "metadata": {},
      "outputs": [],
      "source": [
        "# Primeras 10 filas\n",
        "\n",
        "# Información general\n",
        "\n",
        "# Dimensiones\n"
      ]
    },
    {
      "cell_type": "markdown",
      "metadata": {},
      "source": [
        "### Ejercicio 1.3\n",
        "Obtén estadísticas descriptivas de las columnas numéricas"
      ]
    },
    {
      "cell_type": "code",
      "execution_count": null,
      "metadata": {},
      "outputs": [],
      "source": [
        "# Tu código aquí\n"
      ]
    },
    {
      "cell_type": "markdown",
      "metadata": {},
      "source": [
        "### Ejercicio 1.4\n",
        "Calcula el porcentaje de valores nulos por columna y muestra solo las columnas que tienen más del 5% de nulos"
      ]
    },
    {
      "cell_type": "code",
      "execution_count": null,
      "metadata": {},
      "outputs": [],
      "source": [
        "# Tu código aquí\n"
      ]
    },
    {
      "cell_type": "markdown",
      "metadata": {},
      "source": [
        "## 🔍 Parte 2: Filtrado y Selección\n",
        "\n",
        "### Ejercicio 2.1\n",
        "Construye un nuevo df solo con las columnas: 'Booking ID', 'Vehicle Type', 'Booking Status', 'Booking Value', 'Ride Distance'"
      ]
    },
    {
      "cell_type": "code",
      "execution_count": null,
      "metadata": {},
      "outputs": [],
      "source": [
        "# Tu código aquí\n",
        "df_selected = "
      ]
    },
    {
      "cell_type": "markdown",
      "metadata": {},
      "source": [
        "### Ejercicio 2.2\n",
        "Filtra el DataFrame para mostrar solo:\n",
        "- Viajes completados ('Completed')\n",
        "- Con un valor de reserva (Booking Value) mayor a 500\n",
        "- Tipo de vehículo 'Auto' o 'Go Mini'"
      ]
    },
    {
      "cell_type": "code",
      "execution_count": null,
      "metadata": {},
      "outputs": [],
      "source": [
        "# Tu código aquí\n",
        "df_filtered = "
      ]
    },
    {
      "cell_type": "markdown",
      "metadata": {},
      "source": [
        "### Ejercicio 2.3\n",
        "Convierte la columna 'Date' a tipo datetime y crea una nueva columna 'Month_Name' con el nombre del mes en español"
      ]
    },
    {
      "cell_type": "code",
      "execution_count": null,
      "metadata": {},
      "outputs": [],
      "source": [
        "# Tu código aquí\n"
      ]
    },
    {
      "cell_type": "markdown",
      "metadata": {},
      "source": [
        "### Ejercicio 2.4\n",
        "Filtra los viajes del mes de agosto (Month = 8) y ordénalos por 'Booking Value' de mayor a menor"
      ]
    },
    {
      "cell_type": "code",
      "execution_count": null,
      "metadata": {},
      "outputs": [],
      "source": [
        "# Tu código aquí\n"
      ]
    },
    {
      "cell_type": "markdown",
      "metadata": {},
      "source": [
        "## 📊 Parte 3: Análisis con value_counts y unique\n",
        "### Ejercicio 3.1 \n",
        "¿Cuántos tipos de vehículos únicos hay? Muestra la frecuencia de cada tipo"
      ]
    },
    {
      "cell_type": "code",
      "execution_count": null,
      "metadata": {},
      "outputs": [],
      "source": [
        "# Tu código aquí\n"
      ]
    },
    {
      "cell_type": "markdown",
      "metadata": {},
      "source": [
        "### Ejercicio 3.2 \n",
        "¿Cuál es el método de pago más utilizado? Muestra los 3 primeros"
      ]
    },
    {
      "cell_type": "code",
      "execution_count": null,
      "metadata": {},
      "outputs": [],
      "source": [
        "# Tu código aquí\n"
      ]
    },
    {
      "cell_type": "markdown",
      "metadata": {},
      "source": [
        "### Ejercicio 3.3\n",
        "Calcula el porcentaje de cada 'Booking Status' sobre el total de viajes"
      ]
    },
    {
      "cell_type": "code",
      "execution_count": null,
      "metadata": {},
      "outputs": [],
      "source": [
        "# Tu código aquí\n"
      ]
    },
    {
      "cell_type": "markdown",
      "metadata": {},
      "source": [
        "## 📐 Parte 4: Estadísticas y Operaciones\n",
        "\n",
        "### Ejercicio 4.1\n",
        "Calcula la media, mediana y desviación estándar de 'Booking Value' para viajes completados"
      ]
    },
    {
      "cell_type": "code",
      "execution_count": null,
      "metadata": {},
      "outputs": [],
      "source": [
        "# Tu código aquí\n"
      ]
    },
    {
      "cell_type": "markdown",
      "metadata": {},
      "source": [
        "### Ejercicio 4.2\n",
        "Crea una nueva columna 'Price_Per_Km' que calcule el precio por kilómetro (Booking Value / Ride Distance)"
      ]
    },
    {
      "cell_type": "code",
      "execution_count": null,
      "metadata": {},
      "outputs": [],
      "source": [
        "# Tu código aquí\n"
      ]
    },
    {
      "cell_type": "markdown",
      "metadata": {},
      "source": [
        "### Ejercicio 4.3\n",
        "Identifica los 5 viajes más largos (Ride Distance) y muestra: Customer ID, Vehicle Type, Ride Distance, Booking Value"
      ]
    },
    {
      "cell_type": "code",
      "execution_count": null,
      "metadata": {},
      "outputs": [],
      "source": [
        "# Tu código aquí\n"
      ]
    },
    {
      "cell_type": "markdown",
      "metadata": {},
      "source": [
        "### Ejercicio 4.4\n",
        "Calcula el valor total de reservas (sum) por cada método de pago"
      ]
    },
    {
      "cell_type": "code",
      "execution_count": null,
      "metadata": {},
      "outputs": [],
      "source": [
        "# Tu código aquí\n"
      ]
    },
    {
      "cell_type": "markdown",
      "metadata": {},
      "source": [
        "## 🔄 Parte 5: Transformación de Datos\n",
        "\n",
        "### Ejercicio 5.1\n",
        "Manejo de valores nulos:\n",
        "- Rellena los valores nulos de 'Booking Value' con la mediana\n",
        "- Rellena los valores nulos de 'Payment Method' con 'Unknown'\n",
        "- Elimina las filas donde 'Vehicle Type' sea nulo"
      ]
    },
    {
      "cell_type": "code",
      "execution_count": null,
      "metadata": {},
      "outputs": [],
      "source": [
        "# Tu código aquí\n"
      ]
    },
    {
      "cell_type": "markdown",
      "metadata": {},
      "source": [
        "### Ejercicio 5.2\n",
        "Renombra las siguientes columnas:\n",
        "- 'Booking ID' → 'ID_Reserva'\n",
        "- 'Vehicle Type' → 'Tipo_Vehiculo'\n",
        "- 'Booking Value' → 'Valor_Reserva'"
      ]
    },
    {
      "cell_type": "code",
      "execution_count": null,
      "metadata": {},
      "outputs": [],
      "source": [
        "# Tu código aquí\n"
      ]
    },
    {
      "cell_type": "markdown",
      "metadata": {},
      "source": [
        "### Ejercicio 5.3\n",
        "Crea una nueva columna 'Rating_Category' que clasifique los viajes según Driver Ratings:\n",
        "- 'Excelente': >= 4.5\n",
        "- 'Bueno': >= 4.0 y < 4.5\n",
        "- 'Regular': >= 3.5 y < 4.0\n",
        "- 'Malo': < 3.5\n",
        "- 'Sin valorar': valores nulos"
      ]
    },
    {
      "cell_type": "code",
      "execution_count": null,
      "metadata": {},
      "outputs": [],
      "source": [
        "# Tu código aquí\n"
      ]
    },
    {
      "cell_type": "markdown",
      "metadata": {},
      "source": [
        "### Ejercicio 5.4\n",
        "Reemplaza los valores de 'Vehicle Type':\n",
        "- Todos los que contengan 'Sedan' → 'Sedan'\n",
        "- 'eBike' → 'Moto Eléctrica'\n",
        "- 'Bike' → 'Moto'"
      ]
    },
    {
      "cell_type": "code",
      "execution_count": null,
      "metadata": {},
      "outputs": [],
      "source": [
        "# Tu código aquí\n"
      ]
    },
    {
      "cell_type": "markdown",
      "metadata": {},
      "source": [
        "## 📈 Parte 6: Agrupación y Análisis Avanzado \n",
        "\n",
        "### Ejercicio 6.1 \n",
        "Agrupa por 'Vehicle Type' y calcula:\n",
        "- Promedio de Booking Value\n",
        "- Número total de viajes\n",
        "- Distancia total recorrida"
      ]
    },
    {
      "cell_type": "code",
      "execution_count": null,
      "metadata": {},
      "outputs": [],
      "source": [
        "# Tu código aquí\n"
      ]
    },
    {
      "cell_type": "markdown",
      "metadata": {},
      "source": [
        "### Ejercicio 6.2\n",
        "Crea una tabla pivote que muestre:\n",
        "- Filas: Vehicle Type\n",
        "- Columnas: Booking Status\n",
        "- Valores: promedio de Booking Value"
      ]
    },
    {
      "cell_type": "code",
      "execution_count": null,
      "metadata": {},
      "outputs": [],
      "source": [
        "# Tu código aquí\n"
      ]
    },
    {
      "cell_type": "markdown",
      "metadata": {},
      "source": [
        "### Ejercicio 6.3\n",
        "Agrupa por mes (usando la columna Date) y tipo de vehículo, luego calcula:\n",
        "- Valor total de reservas\n",
        "- Número de viajes\n",
        "- Valor promedio por viaje"
      ]
    },
    {
      "cell_type": "code",
      "execution_count": null,
      "metadata": {},
      "outputs": [],
      "source": [
        "# Tu código aquí\n"
      ]
    },
    {
      "cell_type": "markdown",
      "metadata": {},
      "source": [
        "### Ejercicio 6.4\n",
        "Identifica el Top 5 de ubicaciones (Pickup Location) con:\n",
        "- Mayor número de viajes completados\n",
        "- Mayor valor promedio de reserva\n",
        "- Mejor rating promedio"
      ]
    },
    {
      "cell_type": "code",
      "execution_count": null,
      "metadata": {},
      "outputs": [],
      "source": [
        "# Tu código aquí\n"
      ]
    },
    {
      "cell_type": "markdown",
      "metadata": {},
      "source": [
        "## 🎯 Parte 7: Caso Práctico Final\n",
        "\n",
        "### Ejercicio Final\n",
        "Genera un reporte completo que responda:\n",
        "\n",
        "1. ¿Qué tipo de vehículo es más rentable (mayor Booking Value promedio)?\n",
        "2. ¿Qué porcentaje de viajes se cancelan y cuál es la razón principal?\n",
        "3. ¿Cuál es la distancia promedio por tipo de vehículo?\n",
        "4. ¿Qué método de pago prefieren los usuarios?\n",
        "5. ¿Hay diferencias significativas en el rating según el tipo de vehículo?\n",
        "\n",
        "Presenta tus resultados de forma clara con títulos y comentarios explicativos."
      ]
    },
    {
      "cell_type": "code",
      "execution_count": null,
      "metadata": {},
      "outputs": [],
      "source": [
        "# Tu análisis completo aquí\n",
        "\n",
        "print(\"=\" * 60)\n",
        "print(\"REPORTE DE ANÁLISIS DE VIAJES\")\n",
        "print(\"=\" * 60)\n",
        "\n",
        "# 1. Vehículo más rentable\n",
        "print(\"\\n1. ANÁLISIS DE RENTABILIDAD POR TIPO DE VEHÍCULO\")\n",
        "print(\"-\" * 60)\n",
        "\n",
        "# 2. Análisis de cancelaciones\n",
        "print(\"\\n2. ANÁLISIS DE CANCELACIONES\")\n",
        "print(\"-\" * 60)\n",
        "\n",
        "# 3. Distancia promedio\n",
        "print(\"\\n3. DISTANCIA PROMEDIO POR VEHÍCULO\")\n",
        "print(\"-\" * 60)\n",
        "\n",
        "# 4. Método de pago preferido\n",
        "print(\"\\n4. MÉTODOS DE PAGO MÁS UTILIZADOS\")\n",
        "print(\"-\" * 60)\n",
        "\n",
        "# 5. Ratings por vehículo\n",
        "print(\"\\n5. RATINGS PROMEDIO POR TIPO DE VEHÍCULO\")\n",
        "print(\"-\" * 60)\n"
      ]
    }
  ],
  "metadata": {
    "kernelspec": {
      "display_name": "base",
      "language": "python",
      "name": "python3"
    },
    "language_info": {
      "codemirror_mode": {
        "name": "ipython",
        "version": 3
      },
      "file_extension": ".py",
      "mimetype": "text/x-python",
      "name": "python",
      "nbconvert_exporter": "python",
      "pygments_lexer": "ipython3",
      "version": "3.13.5"
    }
  },
  "nbformat": 4,
  "nbformat_minor": 4
}
