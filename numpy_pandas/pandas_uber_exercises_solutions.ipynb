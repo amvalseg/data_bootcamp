{
  "cells": [
    {
      "cell_type": "markdown",
      "metadata": {},
      "source": [
        "# 📝 Ejercicios Prácticos - Pandas\n",
        "\n",
        "## Dataset: Reservas de Viajes en Uber/Taxi\n",
        "Este cuaderno contiene ejercicios resueltos para practicar Pandas."
      ]
    },
    {
      "cell_type": "code",
      "execution_count": null,
      "metadata": {},
      "outputs": [],
      "source": [
        "import pandas as pd"
      ]
    },
    {
      "cell_type": "markdown",
      "metadata": {},
      "source": [
        "## 📥 Parte 1: Carga y Exploración Inicial"
      ]
    },
    {
      "cell_type": "code",
      "execution_count": null,
      "metadata": {},
      "outputs": [],
      "source": [
        "df_rides = pd.read_csv('ncr_ride_bookings.csv')\n",
        "df_rides.head()"
      ]
    },
    {
      "cell_type": "code",
      "execution_count": null,
      "metadata": {},
      "outputs": [],
      "source": [
        "df_rides.head(10)"
      ]
    },
    {
      "cell_type": "code",
      "execution_count": null,
      "metadata": {},
      "outputs": [],
      "source": [
        "df_rides.info()"
      ]
    },
    {
      "cell_type": "code",
      "execution_count": null,
      "metadata": {},
      "outputs": [],
      "source": [
        "df_rides.shape"
      ]
    },
    {
      "cell_type": "code",
      "execution_count": null,
      "metadata": {},
      "outputs": [],
      "source": [
        "df_rides.describe()"
      ]
    },
    {
      "cell_type": "code",
      "execution_count": null,
      "metadata": {},
      "outputs": [],
      "source": [
        "(df_rides.isnull().mean() * 100)[lambda x: x > 5]"
      ]
    },
    {
      "cell_type": "markdown",
      "metadata": {},
      "source": [
        "## 🔍 Parte 2: Filtrado y Selección"
      ]
    },
    {
      "cell_type": "code",
      "execution_count": null,
      "metadata": {},
      "outputs": [],
      "source": [
        "df_selected = df_rides[['Booking ID','Vehicle Type','Booking Status','Booking Value','Ride Distance']]\n",
        "df_selected.head()"
      ]
    },
    {
      "cell_type": "code",
      "execution_count": null,
      "metadata": {},
      "outputs": [],
      "source": [
        "df_filtered = df_rides[\n",
        "    (df_rides['Booking Status']=='Completed') &\n",
        "    (df_rides['Booking Value']>500) &\n",
        "    (df_rides['Vehicle Type'].isin(['Auto','Go Mini']))\n",
        "]\n",
        "df_filtered.head()"
      ]
    },
    {
      "cell_type": "code",
      "execution_count": null,
      "metadata": {},
      "outputs": [],
      "source": [
        "df_rides['Date'] = pd.to_datetime(df_rides['Date'], errors='coerce')\n",
        "df_rides['Month_Name'] = df_rides['Date'].dt.month_name(locale='es_ES')\n",
        "df_rides[['Date','Month_Name']].head()"
      ]
    },
    {
      "cell_type": "code",
      "execution_count": null,
      "metadata": {},
      "outputs": [],
      "source": [
        "df_rides[df_rides['Date'].dt.month==8].sort_values('Booking Value',ascending=False).head()"
      ]
    },
    {
      "cell_type": "markdown",
      "metadata": {},
      "source": [
        "## 📊 Parte 3: value_counts y unique"
      ]
    },
    {
      "cell_type": "code",
      "execution_count": null,
      "metadata": {},
      "outputs": [],
      "source": [
        "df_rides['Vehicle Type'].value_counts()"
      ]
    },
    {
      "cell_type": "code",
      "execution_count": null,
      "metadata": {},
      "outputs": [],
      "source": [
        "df_rides['Payment Method'].value_counts().head(3)"
      ]
    },
    {
      "cell_type": "code",
      "execution_count": null,
      "metadata": {},
      "outputs": [],
      "source": [
        "(df_rides['Booking Status'].value_counts(normalize=True)*100)"
      ]
    },
    {
      "cell_type": "markdown",
      "metadata": {},
      "source": [
        "## 📐 Parte 4: Estadísticas y Operaciones"
      ]
    },
    {
      "cell_type": "code",
      "execution_count": null,
      "metadata": {},
      "outputs": [],
      "source": [
        "completed = df_rides[df_rides['Booking Status']=='Completed']\n",
        "completed['Booking Value'].agg(['mean','median','std'])"
      ]
    },
    {
      "cell_type": "code",
      "execution_count": null,
      "metadata": {},
      "outputs": [],
      "source": [
        "df_rides['Price_Per_Km'] = df_rides['Booking Value']/df_rides['Ride Distance']\n",
        "df_rides[['Booking Value','Ride Distance','Price_Per_Km']].head()"
      ]
    },
    {
      "cell_type": "code",
      "execution_count": null,
      "metadata": {},
      "outputs": [],
      "source": [
        "df_rides.nlargest(5,'Ride Distance')[['Customer ID','Vehicle Type','Ride Distance','Booking Value']]"
      ]
    },
    {
      "cell_type": "code",
      "execution_count": null,
      "metadata": {},
      "outputs": [],
      "source": [
        "df_rides.groupby('Payment Method')['Booking Value'].sum()"
      ]
    },
    {
      "cell_type": "markdown",
      "metadata": {},
      "source": [
        "## 🔄 Parte 5: Transformación de Datos"
      ]
    },
    {
      "cell_type": "code",
      "execution_count": null,
      "metadata": {},
      "outputs": [],
      "source": [
        "df_rides['Booking Value'].fillna(df_rides['Booking Value'].median(), inplace=True)\n",
        "df_rides['Payment Method'].fillna('Unknown', inplace=True)\n",
        "df_rides.dropna(subset=['Vehicle Type'], inplace=True)"
      ]
    },
    {
      "cell_type": "code",
      "execution_count": null,
      "metadata": {},
      "outputs": [],
      "source": [
        "df_rides.rename(columns={'Booking ID':'ID_Reserva','Vehicle Type':'Tipo_Vehiculo','Booking Value':'Valor_Reserva'}, inplace=True)\n",
        "df_rides.head()"
      ]
    },
    {
      "cell_type": "code",
      "execution_count": null,
      "metadata": {},
      "outputs": [],
      "source": [
        "def cat_rating(x):\n",
        "    if pd.isna(x): return 'Sin valorar'\n",
        "    if x>=4.5: return 'Excelente'\n",
        "    if x>=4.0: return 'Bueno'\n",
        "    if x>=3.5: return 'Regular'\n",
        "    return 'Malo'\n",
        "df_rides['Rating_Category'] = df_rides['Driver Ratings'].apply(cat_rating)\n",
        "df_rides[['Driver Ratings','Rating_Category']].head()"
      ]
    },
    {
      "cell_type": "code",
      "execution_count": null,
      "metadata": {},
      "outputs": [],
      "source": [
        "df_rides['Tipo_Vehiculo'] = df_rides['Tipo_Vehiculo'].replace({\n",
        "    'eBike':'Moto Eléctrica',\n",
        "    'Bike':'Moto'\n",
        "})\n",
        "df_rides['Tipo_Vehiculo'] = df_rides['Tipo_Vehiculo'].str.replace('Sedan','Sedan',regex=False)\n",
        "df_rides['Tipo_Vehiculo'].unique()"
      ]
    },
    {
      "cell_type": "markdown",
      "metadata": {},
      "source": [
        "## 📈 Parte 6: Agrupación y Análisis Avanzado"
      ]
    },
    {
      "cell_type": "code",
      "execution_count": null,
      "metadata": {},
      "outputs": [],
      "source": [
        "df_rides.groupby('Tipo_Vehiculo').agg({\n",
        "    'Valor_Reserva':'mean',\n",
        "    'ID_Reserva':'count',\n",
        "    'Ride Distance':'sum'\n",
        "})"
      ]
    },
    {
      "cell_type": "code",
      "execution_count": null,
      "metadata": {},
      "outputs": [],
      "source": [
        "pd.pivot_table(df_rides, index='Tipo_Vehiculo', columns='Booking Status', values='Valor_Reserva', aggfunc='mean')"
      ]
    },
    {
      "cell_type": "code",
      "execution_count": null,
      "metadata": {},
      "outputs": [],
      "source": [
        "df_rides.groupby([df_rides['Date'].dt.month,'Tipo_Vehiculo']).agg(\n",
        "    total_reservas=('Valor_Reserva','sum'),\n",
        "    num_viajes=('ID_Reserva','count'),\n",
        "    valor_promedio=('Valor_Reserva','mean')\n",
        ")"
      ]
    },
    {
      "cell_type": "code",
      "execution_count": null,
      "metadata": {},
      "outputs": [],
      "source": [
        "df_rides.groupby('Pickup Location').agg(\n",
        "    num_viajes=('ID_Reserva',lambda x:(df_rides.loc[x.index,'Booking Status']=='Completed').sum()),\n",
        "    valor_promedio=('Valor_Reserva','mean'),\n",
        "    rating_promedio=('Driver Ratings','mean')\n",
        ").nlargest(5,'num_viajes')"
      ]
    },
    {
      "cell_type": "markdown",
      "metadata": {},
      "source": [
        "## 🎯 Parte 7: Caso Práctico Final"
      ]
    },
    {
      "cell_type": "code",
      "execution_count": null,
      "metadata": {},
      "outputs": [],
      "source": [
        "print('='*60)\n",
        "print('REPORTE DE ANÁLISIS DE VIAJES')\n",
        "print('='*60)\n",
        "\n",
        "print('\\n1. Vehículo más rentable')\n",
        "print(df_rides.groupby('Tipo_Vehiculo')['Valor_Reserva'].mean().sort_values(ascending=False).head(1))\n",
        "\n",
        "print('\\n2. Cancelaciones')\n",
        "print(df_rides['Booking Status'].value_counts(normalize=True)*100)\n",
        "\n",
        "print('\\n3. Distancia promedio por vehículo')\n",
        "print(df_rides.groupby('Tipo_Vehiculo')['Ride Distance'].mean())\n",
        "\n",
        "print('\\n4. Método de pago preferido')\n",
        "print(df_rides['Payment Method'].value_counts().head(1))\n",
        "\n",
        "print('\\n5. Ratings por vehículo')\n",
        "print(df_rides.groupby('Tipo_Vehiculo')['Driver Ratings'].mean())"
      ]
    }
  ],
  "metadata": {
    "kernelspec": {
      "display_name": "Python 3",
      "language": "python",
      "name": "python3"
    },
    "language_info": {
      "codemirror_mode": {
        "name": "ipython",
        "version": 3
      },
      "file_extension": ".py",
      "mimetype": "text/x-python",
      "name": "python",
      "nbconvert_exporter": "python",
      "pygments_lexer": "ipython3",
      "version": "3.8.0"
    }
  },
  "nbformat": 4,
  "nbformat_minor": 4
}
