{
 "cells": [
  {
   "cell_type": "markdown",
   "metadata": {},
   "source": [
    "<div style=\"max-width: 1000px; margin: 0 auto; padding: 20px; text-align: center;\">\n",
    "\n",
    "  <img src=\"img/up.png\" alt=\"Universidad Logo\" width=\"200\"/>\n",
    "  \n",
    "  <h1 style=\"font-size: 2.5em; margin: 10px 0;\">🐍 <strong> Ejercicios de Python de 0 a avanzado</strong></h1>\n",
    "  Estos ejercicios te llevarán paso a paso desde cero hasta convertirte en un verdadero manipulador de datos mediante código.\n",
    "  \n",
    "  <div style=\"background-color: #f8f9fa; padding: 20px; border-radius: 10px; margin: 20px 0;\">\n",
    "    <p style=\"font-size: 1.2em; margin: 10px 0; color: black;\">\n",
    "      Recuerda que cada ejercicio es una oportunidad de aprender algo nuevo. \n",
    "      No te preocupes por los errores: ¡son parte del proceso de aprendizaje!\n",
    "    </p>\n",
    "  </div>\n",
    "\n",
    "  <h3>🧙 <strong>Consejos del Sensei</strong></h3>\n",
    "  <div style=\"background: linear-gradient(135deg, #ff9a9e 0%, #fad0c4 100%); color: black; padding: 20px; border-radius: 15px; margin: 20px 0;\">\n",
    "    <ul style=\"list-style: none; padding-left: 0; margin: 0; text-align: left; font-size: 1.1em;\">\n",
    "      <li style=\"margin: 10px 0;\">1️⃣ <strong>Practica diariamente:</strong> Incluso 15 minutos al día marcan la diferencia</li>\n",
    "      <li style=\"margin: 10px 0;\">2️⃣ <strong>Experimenta libremente:</strong> Modifica los ejercicios y ve qué pasa</li>\n",
    "      <li style=\"margin: 10px 0;\">3️⃣ <strong>Lee el error:</strong> Los mensajes de error son tus amigos, te dicen qué arreglar</li>\n",
    "      <li style=\"margin: 10px 0;\">4️⃣ <strong>Pide ayuda:</strong> La comunidad Python es increíblemente útil</li>\n",
    "      <li style=\"margin: 10px 0;\">5️⃣ <strong>Enseña lo que aprendes:</strong> Explicar conceptos refuerza tu conocimiento</li>\n",
    "    </ul>\n",
    "  </div>\n",
    "\n",
    "  <h3 style=\"margin-top: 30px;\">🎊 <strong>¡El código no es solo lógica, es creatividad pura!</strong> 🎊</h3>\n",
    "\n",
    "  <hr style=\"margin: 30px;\"/>\n",
    "\n",
    "</div>\n"
   ]
  },
  {
   "cell_type": "markdown",
   "metadata": {},
   "source": [
    "## 🎯 **Misión 1: El Laboratorio de Variables**\n",
    "*Donde aprenderás a crear y almacenar información como un científico de datos*"
   ]
  },
  {
   "cell_type": "markdown",
   "metadata": {},
   "source": [
    "### 🧪 **Experimento 1.1: Creando tu Identidad Digital**\n",
    "\n",
    "🎭 Crea tu avatar digital con estas variables:\n",
    "- 🏷️ nombre: ¿Cómo te llamas? (string)\n",
    "- 🎂 edad: ¿Cuántos años tienes? (integer)  \n",
    "- 📏 altura: ¿Cuánto mides en metros? (float)\n",
    "- 🎓 es_estudiante: ¿Estás estudiando? (boolean)\n",
    "- 📚 materias_favoritas: 3 materias que te gustan (list)\n",
    "- 🗂️ mi_perfil: toda tu info en un diccionario (dict)"
   ]
  },
  {
   "cell_type": "code",
   "execution_count": null,
   "metadata": {},
   "outputs": [],
   "source": [
    "# ✨ Tu código mágico aquí:\n"
   ]
  },
  {
   "cell_type": "markdown",
   "metadata": {},
   "source": [
    "### 🔍 **Experimento 1.2: Detective de Tipos**\n",
    "\n",
    "🕵️ Usa type() para descubrir la identidad secreta de cada variable\n",
    "¿Será un string disfrazado de número? ¡Averígualo!"
   ]
  },
  {
   "cell_type": "code",
   "execution_count": null,
   "metadata": {},
   "outputs": [],
   "source": [
    "# 🔎 Tu investigación aquí:\n"
   ]
  },
  {
   "cell_type": "markdown",
   "metadata": {},
   "source": [
    "### ⚡ **Experimento 1.3: La Máquina Transformadora**"
   ]
  },
  {
   "cell_type": "code",
   "execution_count": null,
   "metadata": {},
   "outputs": [],
   "source": [
    "# 🎭 Transforma estos valores usando tu magia de conversión:\n",
    "super_numero = \"456\"      # 🎯 Conviértelo a entero\n",
    "precio_secreto = \"78.99\"  # 💰 Conviértelo a float  \n",
    "años_exactos = 30.0       # 🔢 Conviértelo a entero\n",
    "codigo_agente = 007       # 🕴️ Conviértelo a string"
   ]
  },
  {
   "cell_type": "code",
   "execution_count": null,
   "metadata": {},
   "outputs": [],
   "source": [
    "# 🪄 Tu magia transformadora aquí:\n"
   ]
  },
  {
   "cell_type": "markdown",
   "metadata": {},
   "source": [
    "---\n",
    "## 🎨 **Misión 2: El Arte de las Palabras**\n",
    "*Conviértete en un maestro manipulador de texto*"
   ]
  },
  {
   "cell_type": "markdown",
   "metadata": {},
   "source": [
    "### 🎪 **Desafío 2.1: El Gran Espectáculo de Concatenación**"
   ]
  },
  {
   "cell_type": "code",
   "execution_count": null,
   "metadata": {},
   "outputs": [],
   "source": [
    "# 🎭 Los protagonistas de nuestro show:\n",
    "nombre = \"Alex\"\n",
    "apellido = \"Coder\"\n",
    "edad = 25\n",
    "\n",
    "# 🎬 Crea estos espectáculos:\n",
    "# 1. 🤝 Une nombre y apellido con un abrazo (espacio)\n",
    "# 2. 📢 Crea un anuncio: \"¡Hola mundo! Soy [nombre completo] y tengo [edad] años\"\n",
    "# 3. 🚀 Usa f-strings para crear el mismo anuncio, ¡u otro!, de forma más elegante!\n"
   ]
  },
  {
   "cell_type": "code",
   "execution_count": null,
   "metadata": {},
   "outputs": [],
   "source": [
    "# 🎨 Tu obra maestra aquí:"
   ]
  },
  {
   "cell_type": "markdown",
   "metadata": {},
   "source": [
    "### 🎭 **Desafío 2.2: La Transformación Mágica de Textos**"
   ]
  },
  {
   "cell_type": "code",
   "execution_count": null,
   "metadata": {},
   "outputs": [],
   "source": [
    "mensaje_loco = \"PyThOn Es EL LeNgUaJe MáS GenIaL DeL UnIvErSo\"\n",
    "\n",
    "# 🎯 Realiza estas transformaciones espectaculares:\n",
    "# 1. 📢 ¡TODO EN MAYÚSCULAS COMO SI GRITARAS!\n",
    "# 2. 🤫 todo en minúsculas como un susurro\n",
    "# 3. 👑 Formato Título Como Un Rey\n",
    "# 4. 📖 Solo la primera letra mayúscula\n",
    "# 5. 🔄 Intercambio mayús-minus (¡efecto espejo!)"
   ]
  },
  {
   "cell_type": "code",
   "execution_count": null,
   "metadata": {},
   "outputs": [],
   "source": [
    "\n",
    "# 🪄 Tu laboratorio de transformaciones:"
   ]
  },
  {
   "cell_type": "markdown",
   "metadata": {},
   "source": [
    "### 🕵️ **Desafío 2.3: El Detective de Palabras**"
   ]
  },
  {
   "cell_type": "code",
   "execution_count": null,
   "metadata": {},
   "outputs": [],
   "source": [
    "misterio = \"El dragón dorado vuela sobre el castillo, el dragón regresa al amanecer\"\n",
    "\n",
    "# 🔍 Resuelve este misterio:\n",
    "# 1. 🐉 ¿El \"dragón\" está en esta historia?\n",
    "# 2. 🔢 ¿Cuántas veces aparece \"dragón\"?\n",
    "# 3. 🏰 ¿En qué posición aparece \"castillo\" por primera vez?\n",
    "# 4. 🐉 ¿Cuál es la última posición de \"dragón\"?\n",
    "# 5. 🌅 ¿La historia comienza con \"El\"?\n",
    "# 6. 🌅 ¿La historia termina con \"amanecer\"?\n"
   ]
  },
  {
   "cell_type": "code",
   "execution_count": null,
   "metadata": {},
   "outputs": [],
   "source": [
    "# 🕵️ Tu investigación detectivesca:"
   ]
  },
  {
   "cell_type": "markdown",
   "metadata": {},
   "source": [
    "### ✂️ **Desafío 2.4: El Cirujano de Strings**"
   ]
  },
  {
   "cell_type": "code",
   "execution_count": null,
   "metadata": {},
   "outputs": [],
   "source": [
    "email_misterioso = \"hackerpro@codingninja.com\"\n",
    "telefono_secreto = \"555-123-4567\"\n",
    "\n",
    "# 🔬 Extrae con precisión quirúrgica:\n",
    "# 1. 👤 El nombre de usuario del email (antes del @)\n",
    "# 2. 🌐 El dominio del email (después del @) \n",
    "# 3. 📱 El código de área del teléfono (primeros 3 números)\n",
    "# 4. 🎯 Los primeros 5 caracteres del email\n",
    "# 5. 🎯 Los últimos 4 caracteres del email"
   ]
  },
  {
   "cell_type": "code",
   "execution_count": null,
   "metadata": {},
   "outputs": [],
   "source": [
    "# ⚔️ Tu precisión ninja aquí:"
   ]
  },
  {
   "cell_type": "markdown",
   "metadata": {},
   "source": [
    "### 🛠️ **Desafío 2.5: El Taller de Cadenas Avanzado**"
   ]
  },
  {
   "cell_type": "code",
   "execution_count": null,
   "metadata": {},
   "outputs": [],
   "source": [
    "texto_desprolijo = \"   Programar es súper divertido   \"\n",
    "palabras_sueltas = [\"Código\", \"limpio\", \"es\", \"arte\"]\n",
    "\n",
    "# 🔧 Usa tus herramientas profesionales:\n",
    "# 1. ✨ Limpia los espacios molestos del texto\n",
    "# 2. 🔪 Corta el texto en palabras individuales  \n",
    "# 3. 🔗 Une las palabras sueltas con guiones elegantes\n",
    "# 4. 🔄 Cambia \"divertido\" por \"INCREÍBLE\""
   ]
  },
  {
   "cell_type": "code",
   "execution_count": null,
   "metadata": {},
   "outputs": [],
   "source": [
    "# 🛠️ Tu taller profesional:"
   ]
  },
  {
   "cell_type": "markdown",
   "metadata": {},
   "source": [
    "---\n",
    "## 🧮 **Misión 3: Los Poderes de los Operadores**\n",
    "*Desbloquea los superpoderes matemáticos y lógicos*"
   ]
  },
  {
   "cell_type": "markdown",
   "metadata": {},
   "source": [
    "### ➕ **Batalla 3.1: Arena Matemática**"
   ]
  },
  {
   "cell_type": "code",
   "execution_count": null,
   "metadata": {},
   "outputs": [],
   "source": [
    "guerrero_a = 42\n",
    "guerrero_b = 7\n",
    "\n",
    "# ⚔️ ¡Que comience la batalla matemática!\n",
    "# 1. ➕ Suma de fuerzas\n",
    "# 2. ➖ Diferencia de poder  \n",
    "# 3. ✖️ Multiplicación de energía\n",
    "# 4. ➗ División de recursos (con decimales)\n",
    "# 5. 🏴 División entera (sin decimales)\n",
    "# 6. 🎯 El resto de la división (módulo)\n",
    "# 7. 🚀 Potencia explosiva (a^b)\n"
   ]
  },
  {
   "cell_type": "code",
   "execution_count": null,
   "metadata": {},
   "outputs": [],
   "source": [
    "# ⚔️ Tu campo de batalla:"
   ]
  },
  {
   "cell_type": "markdown",
   "metadata": {},
   "source": [
    "### ⚖️ **Batalla 3.2: El Tribunal de Comparaciones**"
   ]
  },
  {
   "cell_type": "code",
   "execution_count": null,
   "metadata": {},
   "outputs": [],
   "source": [
    "heroe = 50\n",
    "villano = 80  \n",
    "sidekick = 50\n",
    "\n",
    "# 👨‍⚖️ Emite tu veredicto (True/False):\n",
    "# 1. ⚡ ¿El héroe es igual de fuerte que el villano?\n",
    "# 2. ❌ ¿El héroe es diferente del villano?\n",
    "# 3. 📉 ¿El héroe es más débil que el villano?\n",
    "# 4. 📈 ¿El héroe es más fuerte que el villano?\n",
    "# 5. 🤝 ¿El héroe tiene al menos la fuerza del sidekick?\n",
    "# 6. 💪 ¿El villano es al menos tan fuerte como el héroe?\n"
   ]
  },
  {
   "cell_type": "code",
   "execution_count": null,
   "metadata": {},
   "outputs": [],
   "source": [
    "# ⚖️ Tu sala del juicio:"
   ]
  },
  {
   "cell_type": "markdown",
   "metadata": {},
   "source": [
    "### 🧠 **Batalla 3.3: La Matrix Lógica**"
   ]
  },
  {
   "cell_type": "code",
   "execution_count": null,
   "metadata": {},
   "outputs": [],
   "source": [
    "poder_fuego = True\n",
    "poder_hielo = False  \n",
    "poder_rayo = True\n",
    "\n",
    "# 🤖 Descifra la matrix lógica:\n",
    "# 1. 🔥❄️ poder_fuego AND poder_hielo\n",
    "# 2. 🔥❄️ poder_fuego OR poder_hielo  \n",
    "# 3. 🚫 NOT poder_fuego\n",
    "# 4. 🌪️ (poder_fuego AND poder_rayo) OR poder_hielo\n",
    "# 5. 🔄 NOT (poder_fuego OR poder_hielo)\n",
    "# 6. ⚡ (poder_fuego AND poder_hielo) OR (poder_rayo AND NOT poder_hielo)\n"
   ]
  },
  {
   "cell_type": "code",
   "execution_count": null,
   "metadata": {},
   "outputs": [],
   "source": [
    "# 🧠 Tu decodificador mental:"
   ]
  },
  {
   "cell_type": "markdown",
   "metadata": {},
   "source": [
    "### 🔄 **Batalla 3.4: Transformaciones de Asignación**"
   ]
  },
  {
   "cell_type": "code",
   "execution_count": null,
   "metadata": {},
   "outputs": [],
   "source": [
    "puntos = 100\n",
    "\n",
    "# 🎮 Aplica estos power-ups secuenciales:\n",
    "# 1. 🆙 Gana 25 puntos extra\n",
    "# 2. 💥 Duplica tus puntos  \n",
    "# 3. 😵 Pierdes un tercio por una trampa\n",
    "# 4. 🚀 Eleva tus puntos al cuadrado\n",
    "# ¡Muestra tu progreso después de cada transformación!"
   ]
  },
  {
   "cell_type": "code",
   "execution_count": null,
   "metadata": {},
   "outputs": [],
   "source": [
    "# 🎮 Tu consola de juego:\n"
   ]
  },
  {
   "cell_type": "markdown",
   "metadata": {},
   "source": [
    "### 🔍 **Batalla 3.5: Los Detectores Especiales**"
   ]
  },
  {
   "cell_type": "code",
   "execution_count": null,
   "metadata": {},
   "outputs": [],
   "source": [
    "arsenal_1 = [10, 20, 30]\n",
    "arsenal_2 = [10, 20, 30]  \n",
    "arsenal_gemelo = arsenal_1\n",
    "palabra_clave = \"PYTHON\"\n",
    "numeros_magicos = [1, 3, 5, 7, 9]\n",
    "\n",
    "# 🔍 Usa tus detectores especiales:\n",
    "# 1. 👯 ¿arsenal_1 ES EXACTAMENTE arsenal_2? (identidad)\n",
    "# 2. 🪞 ¿arsenal_1 ES EXACTAMENTE arsenal_gemelo?\n",
    "# 3. ❌ ¿arsenal_1 NO ES arsenal_2?\n",
    "# 4. 📝 ¿La letra \"P\" está EN palabra_clave?\n",
    "# 5. ❓ ¿La letra \"Z\" está EN palabra_clave?  \n",
    "# 6. 🎯 ¿El número 5 está EN numeros_magicos?\n",
    "# 7. 🚫 ¿El número 8 NO está EN numeros_magicos?"
   ]
  },
  {
   "cell_type": "code",
   "execution_count": null,
   "metadata": {},
   "outputs": [],
   "source": [
    "# 🕵️ Tu laboratorio de detección:"
   ]
  },
  {
   "cell_type": "markdown",
   "metadata": {},
   "source": [
    "## 🗂️ **Misión 4: Maestro de Estructuras de Datos**\n",
    "*Domina las colecciones de información*\n",
    "\n",
    "### 📋 **Desafío 4.1: El Comandante de Listas**\n"
   ]
  },
  {
   "cell_type": "code",
   "execution_count": null,
   "metadata": {},
   "outputs": [],
   "source": [
    "# 🎯 Tu misión con listas:\n",
    "# 1. Crea una lista de 5 nombres de superhéroes\n",
    "# 2. Añade un villano al final\n",
    "# 3. Inserta un antihéroe en la posición 2\n",
    "# 4. Elimina el primer superhéroe (¡se retiró!)\n",
    "# 5. Encuentra la posición de tu superhéroe favorito\n",
    "# 6. Crea una nueva lista con los 3 últimos personajes"
   ]
  },
  {
   "cell_type": "code",
   "execution_count": null,
   "metadata": {},
   "outputs": [],
   "source": [
    "# 💪 Tu escuadrón épico aquí:"
   ]
  },
  {
   "cell_type": "markdown",
   "metadata": {},
   "source": [
    "### 🎭 **Desafío 4.2: El Coleccionista de Sets**"
   ]
  },
  {
   "cell_type": "code",
   "execution_count": null,
   "metadata": {},
   "outputs": [],
   "source": [
    "# 🎯 Misión de conjuntos únicos:\n",
    "# 1. Crea dos sets de colores: \"colores_primarios\" y \"colores_secundarios\"\n",
    "# 2. Encuentra los colores que están en ambos sets\n",
    "# 3. Encuentra colores que solo están en primarios\n",
    "# 4. Crea un set con TODOS los colores\n",
    "# 5. ¿Cuántos colores únicos tienes en total?"
   ]
  },
  {
   "cell_type": "code",
   "execution_count": null,
   "metadata": {},
   "outputs": [],
   "source": [
    "# 🎨 Tu paleta de colores aquí:"
   ]
  },
  {
   "cell_type": "markdown",
   "metadata": {},
   "source": [
    "### 🔒 **Desafío 4.3: El Guardián de Tuplas**\n"
   ]
  },
  {
   "cell_type": "code",
   "execution_count": null,
   "metadata": {},
   "outputs": [],
   "source": [
    "# 🎯 Trabaja con datos inmutables:\n",
    "# 1. Crea una tupla con coordenadas (latitud, longitud) de tu ciudad\n",
    "# 2. Crea tuplas de 3 ciudades diferentes\n",
    "# 3. Combina todas las tuplas en una sola\n",
    "# 4. Cuenta cuántas veces aparece un número específico\n",
    "# 5. Encuentra el índice de una coordenada específica\n"
   ]
  },
  {
   "cell_type": "code",
   "execution_count": null,
   "metadata": {},
   "outputs": [],
   "source": [
    "\n",
    "# 🗺️ Tu atlas de coordenadas:"
   ]
  },
  {
   "cell_type": "markdown",
   "metadata": {},
   "source": [
    "### 📚 **Desafío 4.4: El Arquitecto de Diccionarios**"
   ]
  },
  {
   "cell_type": "code",
   "execution_count": null,
   "metadata": {},
   "outputs": [],
   "source": [
    "# 🎯 Construye estructuras complejas:\n",
    "# 1. Crea un diccionario \"estudiante\" con: nombre, edad, materias, notas\n",
    "# 2. Añade una nueva materia con su nota\n",
    "# 3. Actualiza la edad del estudiante\n",
    "# 4. Crea un diccionario \"clase\" con 3 estudiantes\n",
    "# 5. Calcula el promedio de notas de cada estudiante"
   ]
  },
  {
   "cell_type": "code",
   "execution_count": null,
   "metadata": {},
   "outputs": [],
   "source": [
    "# 🏗️ Tu academia digital aquí:"
   ]
  },
  {
   "cell_type": "markdown",
   "metadata": {},
   "source": [
    "## 🔀 **Misión 5: El Controlador del Flujo**\n",
    "*Domina las decisiones y repeticiones*\n",
    "\n",
    "### ⚡ **Desafío 5.1: El Juez de Decisiones**"
   ]
  },
  {
   "cell_type": "code",
   "execution_count": null,
   "metadata": {},
   "outputs": [],
   "source": [
    "# 🎯 Sistema de evaluación inteligente:\n",
    "# Crea un programa que evalúe estudiantes con estas reglas:\n",
    "# - Si nota >= 90: \"Excelente\"\n",
    "# - Si nota >= 80: \"Muy Bueno\"  \n",
    "# - Si nota >= 70: \"Bueno\"\n",
    "# - Si nota >= 60: \"Suficiente\"\n",
    "# - Si nota < 60: \"Insuficiente\"\n",
    "# - Además, si es mayor de edad Y tiene nota >= 70: \"Puede ser mentor\"\n",
    "\n",
    "notas_estudiantes = [95, 67, 84, 45, 92, 73]\n",
    "edades_estudiantes = [17, 19, 20, 16, 18, 21]"
   ]
  },
  {
   "cell_type": "code",
   "execution_count": null,
   "metadata": {},
   "outputs": [],
   "source": [
    "# ⚖️ Tu sistema de evaluación:"
   ]
  },
  {
   "cell_type": "markdown",
   "metadata": {},
   "source": [
    "### 🔄 **Desafío 5.2: El Maestro de Bucles FOR**"
   ]
  },
  {
   "cell_type": "code",
   "execution_count": null,
   "metadata": {},
   "outputs": [],
   "source": [
    "# 🎯 Procesamiento masivo de datos:\n",
    "empleados = [\n",
    "    {\"nombre\": \"Ana\", \"salario\": 2500, \"departamento\": \"IT\"},\n",
    "    {\"nombre\": \"Luis\", \"salario\": 3000, \"departamento\": \"Ventas\"},\n",
    "    {\"nombre\": \"María\", \"salario\": 2800, \"departamento\": \"IT\"},\n",
    "    {\"nombre\": \"Carlos\", \"salario\": 3200, \"departamento\": \"Marketing\"}\n",
    "]\n",
    "\n",
    "# Tu misión con FOR:\n",
    "# 1. Imprime solo empleados del departamento IT\n",
    "# 2. Calcula el salario promedio\n",
    "# 3. Encuentra el empleado con mayor salario\n",
    "# 4. Crea una lista de nombres en mayúsculas\n",
    "# 5. Cuenta empleados por departamento\n"
   ]
  },
  {
   "cell_type": "code",
   "execution_count": null,
   "metadata": {},
   "outputs": [],
   "source": [
    "# 🏢 Tu procesadora de nóminas:\n"
   ]
  },
  {
   "cell_type": "markdown",
   "metadata": {},
   "source": [
    "### ♾️ **Desafío 5.3: El Domador de Bucles WHILE**"
   ]
  },
  {
   "cell_type": "code",
   "execution_count": null,
   "metadata": {},
   "outputs": [],
   "source": [
    "# 🎯 Simulación de crecimiento:\n",
    "# Simula el crecimiento de una cuenta de ahorros\n",
    "# - Inversión inicial: 1000€\n",
    "# - Interés anual: 5%\n",
    "# - Meta: alcanzar 2000€\n",
    "# - Muestra el progreso año por año\n",
    "\n",
    "inversion_inicial = 1000\n",
    "interes_anual = 0.05\n",
    "meta = 2000"
   ]
  },
  {
   "cell_type": "code",
   "execution_count": null,
   "metadata": {},
   "outputs": [],
   "source": [
    "# 💰 Tu simulador financiero:"
   ]
  },
  {
   "cell_type": "markdown",
   "metadata": {},
   "source": [
    "## ⚙️ **Misión 6: El Arquitecto de Funciones**\n",
    "*Construye bloques de código reutilizables*\n",
    "\n",
    "### 🏗️ **Desafío 6.1: Constructor de Funciones Básicas**"
   ]
  },
  {
   "cell_type": "code",
   "execution_count": null,
   "metadata": {},
   "outputs": [],
   "source": [
    "# 🎯 Crea estas funciones esenciales:\n",
    "# 1. saludar_usuario(nombre, hora) - saluda según la hora del día\n",
    "# 2. calcular_imc(peso, altura) - calcula índice de masa corporal\n",
    "# 3. es_palindromo(palabra) - verifica si una palabra se lee igual al revés\n",
    "# 4. contar_vocales(texto) - cuenta las vocales en un texto\n",
    "# 5. generar_email(nombre, apellido, dominio) - crea un email"
   ]
  },
  {
   "cell_type": "code",
   "execution_count": null,
   "metadata": {},
   "outputs": [],
   "source": [
    "# 🔧 Tu caja de herramientas:"
   ]
  },
  {
   "cell_type": "markdown",
   "metadata": {},
   "source": [
    "### 📊 **Desafío 6.2: Analizador de Datos Avanzado**"
   ]
  },
  {
   "cell_type": "code",
   "execution_count": null,
   "metadata": {},
   "outputs": [],
   "source": [
    "# 🎯 Crea un sistema de análisis completo:\n",
    "def analizar_ventas(ventas_mensuales):\n",
    "    \"\"\"\n",
    "    Analiza datos de ventas y devuelve estadísticas completas\n",
    "    \n",
    "    Args:\n",
    "        ventas_mensuales (list): Lista de ventas por mes\n",
    "    \n",
    "    Returns:\n",
    "        dict: Estadísticas completas\n",
    "    \"\"\"\n",
    "    # Tu función debe calcular:\n",
    "    # - Ventas totales\n",
    "    # - Promedio mensual\n",
    "    # - Mes con mayores ventas\n",
    "    # - Mes con menores ventas\n",
    "    # - Tendencia (creciente/decreciente)\n",
    "    pass\n",
    "\n",
    "# Datos de prueba\n",
    "ventas_2024 = [15000, 18000, 22000, 19000, 25000, 23000, 28000, 30000, 27000, 32000, 35000, 40000]"
   ]
  },
  {
   "cell_type": "code",
   "execution_count": null,
   "metadata": {},
   "outputs": [],
   "source": [
    "# 📈 Tu analizador empresarial:"
   ]
  },
  {
   "cell_type": "markdown",
   "metadata": {},
   "source": [
    "### 🎮 **Desafío 6.3: Mini Juego con Funciones**"
   ]
  },
  {
   "cell_type": "code",
   "execution_count": null,
   "metadata": {},
   "outputs": [],
   "source": [
    "# 🎯 Crea un juego de adivinanza numérica:\n",
    "# - El programa piensa un número del 1 al 100\n",
    "# - El usuario tiene 7 intentos\n",
    "# - Debe dar pistas: \"muy alto\", \"alto\", \"cerca\", \"muy cerca\", \"¡exacto!\"\n",
    "# - Lleva registro de intentos y mejor puntuación\n",
    "\n",
    "# Funciones necesarias:\n",
    "# - generar_numero_secreto()\n",
    "# - dar_pista(numero_secreto, intento)\n",
    "# - jugar_partida()\n",
    "# - mostrar_estadisticas(intentos, ganado)\n"
   ]
  },
  {
   "cell_type": "code",
   "execution_count": 1,
   "metadata": {},
   "outputs": [],
   "source": [
    "# 🎲 Tu casino digital:"
   ]
  }
 ],
 "metadata": {
  "kernelspec": {
   "display_name": "base",
   "language": "python",
   "name": "python3"
  },
  "language_info": {
   "codemirror_mode": {
    "name": "ipython",
    "version": 3
   },
   "file_extension": ".py",
   "mimetype": "text/x-python",
   "name": "python",
   "nbconvert_exporter": "python",
   "pygments_lexer": "ipython3",
   "version": "3.13.5"
  }
 },
 "nbformat": 4,
 "nbformat_minor": 4
}
