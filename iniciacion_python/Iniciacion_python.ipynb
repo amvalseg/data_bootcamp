{
 "cells": [
  {
   "cell_type": "markdown",
   "id": "41ef46c8",
   "metadata": {},
   "source": [
    "<div style=\"\n",
    "    background: linear-gradient(135deg, #667eea 0%, #764ba2 50%, #f093fb 100%);\n",
    "    padding: 4rem 2rem;\n",
    "    border-radius: 20px;\n",
    "    text-align: center;\n",
    "    position: relative;\n",
    "    overflow: hidden;\n",
    "    margin: 2rem 0;\n",
    "    box-shadow: 0 20px 40px rgba(0,0,0,0.2);\n",
    "    font-family: 'Segoe UI', Tahoma, Geneva, Verdana, sans-serif;\n",
    "    max-width: 1200px;\n",
    "\">\n",
    "  <img src=\"img/up.png\" alt=\"Universidad Logo\" width=\"200\"/>\n",
    "  \n",
    "  <h1 style=\"font-size: 2.5em; margin: 10px 0;\"><strong>Bootcamp de Análisis de Datos & IA</strong></h1>\n",
    "<div style=\"\n",
    "    position: absolute;\n",
    "    top: 0;\n",
    "    left: 0;\n",
    "    right: 0;\n",
    "    bottom: 0;\n",
    "    background: url('data:image/svg+xml,<svg xmlns=\\\"http://www.w3.org/2000/svg\\\" viewBox=\\\"0 0 100 100\\\"><defs><pattern id=\\\"grid\\\" width=\\\"10\\\" height=\\\"10\\\" patternUnits=\\\"userSpaceOnUse\\\"><path d=\\\"M 10 0 L 0 0 0 10\\\" fill=\\\"none\\\" stroke=\\\"rgba(255,255,255,0.1)\\\" stroke-width=\\\"0.5\\\"/></pattern></defs><rect width=\\\"100\\\" height=\\\"100\\\" fill=\\\"url(%23grid)\\\"/></svg>\n",
    "</div>\n",
    "\n",
    "<div style=\"position: relative; z-index: 10;\">\n",
    "\n",
    "<div style=\"\n",
    "    font-size: 5rem;\n",
    "    margin-bottom: 1rem;\n",
    "    animation: bounce 2s ease-in-out infinite;\n",
    "    filter: drop-shadow(0 10px 20px rgba(0,0,0,0.3));\n",
    "\"></div>\n",
    "\n",
    "<h1 style=\"\n",
    "    font-size: 3.5rem;\n",
    "    font-weight: 900;\n",
    "    color: #ffffff;\n",
    "    margin: 1rem 0;\n",
    "    text-shadow: 0 0 30px rgba(255,255,255,0.8);\n",
    "    letter-spacing: 2px;\n",
    "    font-family: 'Arial Black', sans-serif;\n",
    "\">CLASE 1: LAS BASES DE PYTHON</h1>\n",
    "\n",
    "\n",
    "<div style=\"\n",
    "    background: rgba(0,0,0,0.4);\n",
    "    border-radius: 15px;\n",
    "    padding: 1.5rem;\n",
    "    margin: 2rem auto;\n",
    "    max-width: 1000px;\n",
    "    border: 1px solid rgba(255,255,255,0.2);\n",
    "    backdrop-filter: blur(10px);\n",
    "\">\n",
    "    <div style=\"\n",
    "        color: #50fa7b;\n",
    "        font-family: 'Courier New', monospace;\n",
    "        font-size: 1.2rem;\n",
    "        text-align: left;\n",
    "    \">\n",
    "        <span style=\"color: #ff79c6;\">>>> </span>print(<span style=\"color: #f1fa8c;\">\"¡Hola, futur@ Analista de Datos!\"</span>)<br>\n",
    "        <span style=\"color: #50fa7b;\">¡Hola, futur@ Analista!</span><br>\n",
    "        <span style=\"color: #ff79c6;\">>>> </span>ready_to_code = <span style=\"color: #bd93f9;\">True</span> ✨\n",
    "    </div>\n",
    "</div>\n",
    "\n",
    "\n",
    "</div>\n",
    "\n",
    "<div style=\"\n",
    "    padding: 1.5rem;\n",
    "    background: rgba(193, 239, 67, 0.99);\n",
    "    border-radius: 15px;\n",
    "    border: 1px solid rgba(255,255,255,0.1);\n",
    "    max-width: 1000px;\n",
    "    gap: 1.5rem;\n",
    "    margin: 2rem auto;\n",
    "    max-width: 1000px;\n",
    "\">\n",
    "<h4 style=\"color: rgba(0, 0, 0, 1); margin-bottom: 1rem;\">\n",
    "    🎓 Objetivos de aprendizaje:\n",
    "</h4>\n",
    "\n",
    "<div style=\"\n",
    "    display: grid;\n",
    "    grid-template-columns: repeat(auto-fit, minmax(200px, 1fr));\n",
    "    gap: 1rem;\n",
    "    justify-items: center;   /* centra el contenido en su celda */\n",
    "    text-align: center;      /* centra el texto */\n",
    "    margin: 2rem auto;\n",
    "    max-width: 900px;        /* ancho máximo del contenedor */\n",
    "\">\n",
    "    <div style=\"color: rgba(0, 0, 0, 1); font-size: 1rem;\">\n",
    "        ✅ Comprender la lógica básica de Python\n",
    "    </div>\n",
    "    <div style=\"color: rgba(0, 0, 0, 1); font-size: 1rem;\">\n",
    "        ✅ Desarrollar habilidades prácticas\n",
    "    </div>\n",
    "    <div style=\"color: rgba(0, 0, 0, 1); font-size: 1rem;\">\n",
    "        ✅ Fomentar el pensamiento lógico\n",
    "    </div>\n",
    "    <div style=\"color: rgba(0, 0, 0, 1); font-size: 1rem;\">\n",
    "        ✅ Tomar contacto con buenas prácticas\n",
    "    </div>\n",
    "</div>\n",
    "</div>\n",
    "\n",
    "<div style=\"\n",
    "    display: grid;\n",
    "    grid-template-columns: repeat(auto-fit, minmax(225px, 1fr));\n",
    "    gap: 1.5rem;\n",
    "    padding: 1.5rem;\n",
    "    margin: 2rem auto;\n",
    "    max-width: 1000px;\n",
    "\">\n",
    "\n",
    "<div style=\"\n",
    "    background: rgba(255,255,255,0.15);\n",
    "    backdrop-filter: blur(10px);\n",
    "    border: 1px solid rgba(255,255,255,0.2);\n",
    "    border-radius: 15px;\n",
    "    transition: transform 0.3s ease;\n",
    "    box-shadow: 0 8px 25px rgba(0,0,0,0.1);\n",
    "    height: fit-content;\n",
    "\">\n",
    "    <div style=\"font-size: 2.5rem; margin-bottom: 0.5rem;\">🎯</div>\n",
    "    <h3 style=\"\n",
    "        font-size: 1.1rem;\n",
    "        font-weight: 700;\n",
    "        color: #ffffff;\n",
    "        margin-bottom: 0.5rem;\n",
    "        margin-top: 0;\n",
    "    \">Variables & Tipos de datos</h3>\n",
    "    <p style=\"\n",
    "        font-size: 0.9rem;\n",
    "        color: rgba(255,255,255,0.8);\n",
    "        line-height: 1.4;\n",
    "        margin-bottom: 0;\n",
    "    \">Domina las bases imprescindibles del analista</p>\n",
    "</div>\n",
    "\n",
    "<div style=\"\n",
    "    background: rgba(255,255,255,0.15);\n",
    "    backdrop-filter: blur(10px);\n",
    "    border: 1px solid rgba(255,255,255,0.2);\n",
    "    border-radius: 15px;\n",
    "    transition: transform 0.3s ease;\n",
    "    box-shadow: 0 8px 25px rgba(0,0,0,0.1);\n",
    "    height: fit-content;\n",
    "\">\n",
    "    <div style=\"font-size: 2.5rem; margin-bottom: 0.5rem;\">🎨</div>\n",
    "    <h3 style=\"\n",
    "        font-size: 1.1rem;\n",
    "        font-weight: 700;\n",
    "        color: #ffffff;\n",
    "        margin-bottom: 0.5rem;\n",
    "        margin-top: 0;\n",
    "    \">Strings</h3>\n",
    "    <p style=\"\n",
    "        font-size: 0.9rem;\n",
    "        color: rgba(255,255,255,0.8);\n",
    "        line-height: 1.4;\n",
    "        margin-bottom: 0;\n",
    "        padding: 0 0.5rem;\n",
    "    \">Manipula cadenas de texto como un verdadero artista</p>\n",
    "</div>\n",
    "\n",
    "<div style=\"\n",
    "    background: rgba(255,255,255,0.15);\n",
    "    backdrop-filter: blur(10px);\n",
    "    border: 1px solid rgba(255,255,255,0.2);\n",
    "    border-radius: 15px;\n",
    "    transition: transform 0.3s ease;\n",
    "    box-shadow: 0 8px 25px rgba(0,0,0,0.1);\n",
    "    height: fit-content;\n",
    "\">\n",
    "    <div style=\"font-size: 2.5rem; margin-bottom: 0.5rem;\">🧮</div>\n",
    "    <h3 style=\"\n",
    "        font-size: 1.1rem;\n",
    "        font-weight: 700;\n",
    "        color: #ffffff;\n",
    "        margin-bottom: 0.5rem;\n",
    "        margin-top: 0;\n",
    "    \">Operadores</h3>\n",
    "    <p style=\"\n",
    "        font-size: 0.9rem;\n",
    "        color: rgba(255,255,255,0.8);\n",
    "        line-height: 1.4;\n",
    "        margin-bottom: 0;\n",
    "    \">Desbloquea poderes matemáticos épicos</p>\n",
    "</div>\n",
    "\n",
    "<div style=\"\n",
    "    background: rgba(255,255,255,0.15);\n",
    "    backdrop-filter: blur(10px);\n",
    "    border: 1px solid rgba(255,255,255,0.2);\n",
    "    border-radius: 15px;\n",
    "    transition: transform 0.3s ease;\n",
    "    box-shadow: 0 8px 25px rgba(0,0,0,0.1);\n",
    "    height: fit-content;\n",
    "\">\n",
    "    <div style=\"font-size: 2.5rem; margin-bottom: 0.5rem;\">🏆</div>\n",
    "    <h3 style=\"\n",
    "        font-size: 1.1rem;\n",
    "        font-weight: 700;\n",
    "        color: #ffffff;\n",
    "        margin-bottom: 0.5rem;\n",
    "        margin-top: 0;\n",
    "    \">Estructuras de Datos</h3>\n",
    "    <p style=\"\n",
    "        font-size: 0.9rem;\n",
    "        color: rgba(255,255,255,0.8);\n",
    "        line-height: 1.4;\n",
    "        margin-bottom: 0;\n",
    "    \">Ready para transformar conjuntos de datos</p>\n",
    "</div>\n",
    "\n",
    "</div>\n",
    "<div style=\"\n",
    "    background: linear-gradient(45deg, #ff6b6b, #ee5a24, #ff6b6b);\n",
    "    color: white;\n",
    "    padding: 1rem 2.5rem;\n",
    "    border: none;\n",
    "    border-radius: 50px;\n",
    "    font-size: 1.2rem;\n",
    "    font-weight: 700;\n",
    "    text-transform: uppercase;\n",
    "    letter-spacing: 2px;\n",
    "    box-shadow: 0 10px 30px rgba(255,107,107,0.4);\n",
    "    display: inline-block;\n",
    "    margin-top: 2rem;\n",
    "    cursor: pointer;\n",
    "    text-decoration: none;\n",
    "    transition: transform 0.3s ease, box-shadow 0.3s ease;\n",
    "    max-width: 1000px;\n",
    "\">\n",
    "🚀 COMENZAR AVENTURA 🚀\n",
    "</div>\n",
    "\n",
    "</div>\n",
    "\n",
    "\n",
    "</div>\n",
    "\n",
    "---"
   ]
  },
  {
   "cell_type": "code",
   "execution_count": null,
   "id": "1864e240",
   "metadata": {},
   "outputs": [],
   "source": [
    "import this"
   ]
  },
  {
   "cell_type": "markdown",
   "id": "7d06a688",
   "metadata": {},
   "source": [
    "# 📊1. VARIABLES\n",
    "\n",
    "## 🎯 1.1. Definición\n",
    "\n",
    "Una **variable** es un nombre que se usa para guardar un valor en memoria y poder usarlo después. Piensa en ella como una **caja con etiqueta** donde puedes guardar información.\n",
    "\n",
    "> 💡 **¿Por qué son importantes?**  \n",
    "> Las variables son fundamentales en Python porque nos permiten almacenar y manipular datos de manera eficiente, haciendo nuestro código más legible y reutilizable.\n",
    "\n",
    "---\n",
    "\n",
    "## 🏷️ 1.2. Tipos de Variables\n",
    "\n",
    "| Tipo | Ejemplo | Descripción |\n",
    "|------|---------|-------------|\n",
    "| **`int`** | `edad = 32` | Números enteros |\n",
    "| **`float`** | `altura = 1.68` | Números con decimales |\n",
    "| **`str`** | `nombre = \"Ángela\"` | Cadenas de texto |\n",
    "| **`bool`** | `registrado = True` | Verdadero o falso |\n",
    "| **`list`** | `colores = [\"rojo\", \"azul\", \"verde\"]` | Lista de elementos |\n",
    "| **`dict`** | `persona = {\"nombre\": \"Ángela\", \"edad\": 32}` | Diccionario: pares clave-valor |\n",
    "\n",
    "---\n",
    "\n",
    "## 📝 1.3. Reglas de Nomenclatura\n",
    "\n",
    "### ✅ **Permitido:**\n",
    "- Letras, números y guiones bajos `_`\n",
    "- Comenzar con letra o guión bajo\n",
    "- Nombres descriptivos: `nombre_usuario`\n",
    "\n",
    "### ❌ **No Permitido:**\n",
    "- Espacios en blanco\n",
    "- Comenzar con números\n",
    "- Palabras reservadas (`for`, `if`, `True`, `None`, `and`, `print`, `else`, `elif`, `from`)\n",
    "    📚 [Palabras Reservadas en Python](https://learndataworld.com/reserved-words-in-python/)\n",
    "\n",
    "\n",
    "### 📋 **Convenciones de Estilo:**\n",
    "- **Snake_case**: `nombre_completo`, `edad_usuario`\n",
    "- **Nombres descriptivos**: `precio_producto` ✅ vs `p` ❌\n",
    "- **Sustantivos singulares**: `student` ✅ vs `students` ❌\n",
    "\n",
    "### ⚡ **Características Importantes:**\n",
    "- **Case-sensitive**: `Variable` ≠ `variable` ≠ `VARIABLE`\n",
    "- **Tipado dinámico**: El tipo puede cambiar durante la ejecución\n",
    "- **Consistencia**: Mantén el mismo estilo en todo tu código\n",
    "\n",
    "---\n",
    "\n",
    "## 🚀 Empezamos a ejecutar código!!\n",
    "### Declaramos Variables e imprimimos su valor"
   ]
  },
  {
   "cell_type": "code",
   "execution_count": 2,
   "id": "b7736565",
   "metadata": {},
   "outputs": [],
   "source": [
    "#Declaramos las variables con distintos tipos de datos\n",
    "nombre = \"Ana\"                 # texto\n",
    "edad = 30                      # número entero\n",
    "altura = 1.65                  # número decimal\n",
    "fecha_nacimiento = \"1995-06-15\"  # texto\n",
    "registrado = True              # booleano (sí/no)\n",
    "seleccion_color = [\"azul\", \"violeta\", \"naranja\"]       # lista\n",
    "email = \"ana@email.com\"        # texto)\n"
   ]
  },
  {
   "cell_type": "code",
   "execution_count": null,
   "id": "d792107d",
   "metadata": {},
   "outputs": [],
   "source": [
    "# Mostramos toda la información\n",
    "print(nombre, edad, altura, fecha_nacimiento, registrado, seleccion_color, email)"
   ]
  },
  {
   "cell_type": "markdown",
   "id": "47c3901e",
   "metadata": {},
   "source": [
    "### Comprendemos los tipos de datos y aprendemos a identificarlos\n",
    "\n"
   ]
  },
  {
   "cell_type": "code",
   "execution_count": null,
   "id": "a991a6cf",
   "metadata": {},
   "outputs": [],
   "source": [
    "#Visualizamos los tipos de datos * en python no es necesario declarar el tipo de dato\n",
    "print(type(nombre))           # str -> texto\n",
    "print(type(edad))             # int -> número entero\n",
    "print(type(altura))           # float -> número decimal\n",
    "print(type(registrado))       # bool -> verdadero/falso"
   ]
  },
  {
   "cell_type": "markdown",
   "id": "cc67a02a",
   "metadata": {},
   "source": [
    "> 💡 **Los tipos de datos condicionan las operaciones que se pueden realizar, como cálculos, modificaciones o representación visual**  "
   ]
  },
  {
   "cell_type": "code",
   "execution_count": null,
   "id": "d73aee3c",
   "metadata": {},
   "outputs": [],
   "source": [
    "#Creación de una variable nueva a partir de otra cambiando el tipo de dato\n",
    "edad_str = str(edad)\n",
    "print(\"Edad como string:\", edad_str)\n"
   ]
  },
  {
   "cell_type": "code",
   "execution_count": null,
   "id": "eb2495a8",
   "metadata": {},
   "outputs": [],
   "source": [
    "print(type(edad_str))"
   ]
  },
  {
   "cell_type": "markdown",
   "id": "84837f68",
   "metadata": {},
   "source": [
    "## 🔤 1.4. Manipulación de cadenas de caracteres (string):\n",
    "\n",
    "### 📝 **Operaciones Básicas:**\n",
    "\n",
    "💾 **`Asignación`** Es el proceso de guardar una cadena de texto en una variable.\n"
   ]
  },
  {
   "cell_type": "code",
   "execution_count": null,
   "id": "c9989cf6",
   "metadata": {},
   "outputs": [],
   "source": [
    "#Ejemplo de asignación\n",
    "nombre = \"Ana\"\n",
    "print(nombre) "
   ]
  },
  {
   "cell_type": "code",
   "execution_count": null,
   "id": "c49d060b",
   "metadata": {},
   "outputs": [],
   "source": [
    "nombre += \" María\"\n",
    "nombre += \" López\"\n",
    "print(nombre) "
   ]
  },
  {
   "cell_type": "markdown",
   "id": "1c7e78c5",
   "metadata": {},
   "source": [
    "📊 **`Información`** Obtener datos sobre la cadena como su longitud con `len()` o contar ocurrencias con `count()`."
   ]
  },
  {
   "cell_type": "code",
   "execution_count": null,
   "id": "299f4a51",
   "metadata": {},
   "outputs": [],
   "source": [
    "#Ejemplo de información\n",
    "mensaje = \"Hola, Ana María López. Tienes un nuevo mensaje\"\n",
    "print(\"Longitud del mensaje:\", len(mensaje))\n",
    "print(\"Número de veces que aparece 'a':\", mensaje.count(\"a\"))"
   ]
  },
  {
   "cell_type": "markdown",
   "id": "84c792b5",
   "metadata": {},
   "source": [
    "\n",
    "🔗 **`Concatenación`** Consiste en unir dos o más cadenas para formar una sola."
   ]
  },
  {
   "cell_type": "code",
   "execution_count": null,
   "id": "ad2dfdfa",
   "metadata": {},
   "outputs": [],
   "source": [
    "#Ejemplo de concatenación\n",
    "saludo = \"Hola\"\n",
    "mensaje = \"Tienes un nuevo mensaje\"\n",
    "print(saludo + \", \" + nombre + \". \" + mensaje) #Atención a los espacios y signos de puntuación"
   ]
  },
  {
   "cell_type": "code",
   "execution_count": null,
   "id": "beeae0cd",
   "metadata": {},
   "outputs": [],
   "source": [
    "#Concatenación con f-strings (forma recomendada)\n",
    "print(f\"{saludo}, {nombre}. {mensaje}\") #Atención a los espacios y signos de puntuación"
   ]
  },
  {
   "cell_type": "markdown",
   "id": "22654111",
   "metadata": {},
   "source": [
    "🔍 **`Búsqueda`** Permite localizar un carácter o una subcadena dentro de una cadena."
   ]
  },
  {
   "cell_type": "code",
   "execution_count": null,
   "id": "6730bf1f",
   "metadata": {},
   "outputs": [],
   "source": [
    "#Ejemplo de búsqueda\n",
    "mensaje = \"Hola, Ana María López. Tienes un nuevo mensaje\"\n",
    "posición_subcadena = mensaje.find(\"María\")\n",
    "print(\"La subcadena 'María' empieza en la posición:\", posición_subcadena)"
   ]
  },
  {
   "cell_type": "markdown",
   "id": "c709227f",
   "metadata": {},
   "source": [
    "> 💡 **Las posiciones se cuentan desde 0**"
   ]
  },
  {
   "cell_type": "markdown",
   "id": "4b386658",
   "metadata": {},
   "source": [
    "✂️ **`Extracción`** Consiste en obtener una parte (subcadena) de una cadena principal."
   ]
  },
  {
   "cell_type": "code",
   "execution_count": null,
   "id": "dba1073f",
   "metadata": {},
   "outputs": [],
   "source": [
    "#Ejemplo de extracción\n",
    "subcadena = mensaje[6:11]  # Extrae desde la posición 6 hasta la 10 (11 no incluido)\n",
    "print(\"Subcadena extraída:\", subcadena)"
   ]
  },
  {
   "cell_type": "markdown",
   "id": "a7685fc9",
   "metadata": {},
   "source": [
    "\n",
    "\n",
    "⚖️ **`Comparación`** Permite verificar si dos cadenas son iguales o determinar cuál es mayor según el orden lexicográfico."
   ]
  },
  {
   "cell_type": "code",
   "execution_count": null,
   "id": "5346d07b",
   "metadata": {},
   "outputs": [],
   "source": [
    "#Comparar si las cadenas son iguales\n",
    "mensaje_1 = \"Hola, Ana\"\n",
    "mensaje_2 = \"Hola, Ana María\"\n",
    "mensaje_1 == mensaje_2  # Devuelve False porque son diferentes"
   ]
  },
  {
   "cell_type": "code",
   "execution_count": null,
   "id": "611e0b90",
   "metadata": {},
   "outputs": [],
   "source": [
    "#Comparar si las cadenas son diferentes\n",
    "mensaje_1 != mensaje_2  # Devuelve True porque son diferentes\n"
   ]
  },
  {
   "cell_type": "markdown",
   "id": "ce34bf94",
   "metadata": {},
   "source": [
    "### 🛠️ **Transformaciones Avanzadas:**\n",
    "\n",
    "🎨 **`Transformación de formato`** Cambiar entre mayúsculas y minúsculas usando métodos como `upper()`, `lower()`, `title()` y `capitalize()`."
   ]
  },
  {
   "cell_type": "code",
   "execution_count": null,
   "id": "cc0feb1e",
   "metadata": {},
   "outputs": [],
   "source": [
    "#Ejemplo de método upper\n",
    "nombre_mayusculas = nombre.upper()\n",
    "print(\"Nombre en mayúsculas:\", nombre_mayusculas)"
   ]
  },
  {
   "cell_type": "code",
   "execution_count": null,
   "id": "3ae9449e",
   "metadata": {},
   "outputs": [],
   "source": [
    "#Ejemplo de método lower\n",
    "nombre_minusculas = nombre.lower()\n",
    "print(\"Nombre en minúsculas:\", nombre_minusculas)"
   ]
  },
  {
   "cell_type": "code",
   "execution_count": null,
   "id": "c2055463",
   "metadata": {},
   "outputs": [],
   "source": [
    "#Ejemplo de title\n",
    "nombre_title = nombre.title() # Cada palabra empieza con mayúscula\n",
    "print(\"Nombre en formato title:\", nombre_title)"
   ]
  },
  {
   "cell_type": "code",
   "execution_count": null,
   "id": "70920732",
   "metadata": {},
   "outputs": [],
   "source": [
    "#Ejemplo de capitalize\n",
    "nombre_capitalize = nombre.capitalize() # Solo la primera letra de la primera palabra en mayúscula\n",
    "print(\"Nombre en formato capitalize:\", nombre_capitalize)"
   ]
  },
  {
   "cell_type": "markdown",
   "id": "45296c47",
   "metadata": {},
   "source": [
    "🧹 **`Limpieza de espacios`** Eliminar espacios en blanco al inicio y final de una cadena con `strip()`, `lstrip()` y `rstrip()`.\n"
   ]
  },
  {
   "cell_type": "code",
   "execution_count": null,
   "id": "11dc3238",
   "metadata": {},
   "outputs": [],
   "source": [
    "#Ejemplo con strip para eliminar espacios en blanco al inicio y final\n",
    "texto_con_espacios = \"   Hola, Ana María López.   \"\n",
    "texto_limpio = texto_con_espacios.strip()\n",
    "print(\"Texto original:\", repr(texto_con_espacios)) # repr() se utiliza para mostrar los espacios\n",
    "print(\"Texto limpio:\", repr(texto_limpio))"
   ]
  },
  {
   "cell_type": "code",
   "execution_count": null,
   "id": "f96cd8bf",
   "metadata": {},
   "outputs": [],
   "source": [
    "#Ejemplo con lstrip para eliminar espacios en blanco al inicio\n",
    "texto_limpio_inicio = texto_con_espacios.lstrip()\n",
    "print(\"Texto limpio al inicio:\", repr(texto_limpio_inicio))"
   ]
  },
  {
   "cell_type": "code",
   "execution_count": null,
   "id": "699f88c8",
   "metadata": {},
   "outputs": [],
   "source": [
    "#Ejemplo de rstrip para eliminar espacios en blanco al final\n",
    "texto_limpio_final = texto_con_espacios.rstrip()\n",
    "print(\"Texto limpio al final:\", repr(texto_limpio_final))"
   ]
  },
  {
   "cell_type": "markdown",
   "id": "bf151ad5",
   "metadata": {},
   "source": [
    "\n",
    "🔄 **`Reemplazo`** Sustituir partes del texto por otras usando el método `replace()`.\n"
   ]
  },
  {
   "cell_type": "code",
   "execution_count": null,
   "id": "a8400fc8",
   "metadata": {},
   "outputs": [],
   "source": [
    "#Ejemplo de método replace\n",
    "mensaje_nuevo = mensaje.replace(\"nuevo\", \"importante\")\n",
    "print(\"Mensaje original:\", mensaje)\n",
    "print(\"Mensaje modificado:\", mensaje_nuevo)"
   ]
  },
  {
   "cell_type": "markdown",
   "id": "b358769a",
   "metadata": {},
   "source": [
    "\n",
    "📋 **`División`** Separar una cadena en una lista de subcadenas utilizando `split()`."
   ]
  },
  {
   "cell_type": "code",
   "execution_count": null,
   "id": "9c132a4a",
   "metadata": {},
   "outputs": [],
   "source": [
    "#Ejemplo de split para dividir una cadena en una lista\n",
    "partes = mensaje.split(\" \")  # Divide el mensaje en palabras usando el espacio como separador\n",
    "print(\"Mensaje dividido en palabras:\", partes)"
   ]
  },
  {
   "cell_type": "markdown",
   "id": "7347850a",
   "metadata": {},
   "source": [
    "## 1.5. 🏷️ Tablas de Resumen: Métodos de Variables y Manipulación de Cadenas de Caracteres\n",
    "\n",
    "### Variables y Tipos de Datos\n",
    "\n",
    "| Función | Descripción | Ejemplo | Resultado |\n",
    "|---------|-------------|---------|-----------|\n",
    "| `type()` | Devuelve el tipo de dato de una variable | `type(30)` | `<class 'int'>` |\n",
    "| `str()` | Convierte un valor a string | `str(30)` | `\"30\"` |\n",
    "| `int()` | Convierte un valor a entero | `int(\"456\")` | `456` |\n",
    "| `float()` | Convierte un valor a decimal | `float(\"78.99\")` | `78.99` |\n",
    "\n",
    "### Operaciones Básicas con Strings\n",
    "\n",
    "| Operación | Descripción | Ejemplo | Resultado |\n",
    "|-----------|-------------|---------|-----------|\n",
    "| **Asignación** | Guardar una cadena en una variable | `nombre = \"Ana\"` | `\"Ana\"` |\n",
    "| **Concatenación** | Unir cadenas con `+` | `\"Hola\" + \" \" + \"Ana\"` | `\"Hola Ana\"` |\n",
    "| **f-strings** | Formato moderno de cadenas | `f\"{saludo}, {nombre}\"` | `\"Hola, Ana\"` |\n",
    "| `len()` | Obtener la longitud de una cadena | `len(\"Hola Ana\")` | `8` |\n",
    "| `count()` | Contar ocurrencias de un carácter/subcadena | `\"Hola Ana\".count(\"a\")` | `2` |\n",
    "\n",
    "## Métodos de Búsqueda y Localización\n",
    "\n",
    "| Método | Descripción | Ejemplo | Resultado |\n",
    "|--------|-------------|---------|-----------|\n",
    "| `find()` | Busca la posición de una subcadena | `\"Hola Ana María\".find(\"María\")` | `10` |\n",
    "| `index()` | Igual que find(), pero da error si no encuentra | `\"Python\".index(\"th\")` | `2` |\n",
    "| `startswith()` | Verifica si comienza con una subcadena | `\"Hola\".startswith(\"Ho\")` | `True` |\n",
    "| `endswith()` | Verifica si termina con una subcadena | `\"Python\".endswith(\"on\")` | `True` |\n",
    "\n",
    "## Métodos de Transformación de Formato\n",
    "\n",
    "| Método | Descripción | Ejemplo | Resultado |\n",
    "|--------|-------------|---------|-----------|\n",
    "| `upper()` | Convierte a mayúsculas | `\"ana maría\".upper()` | `\"ANA MARÍA\"` |\n",
    "| `lower()` | Convierte a minúsculas | `\"ANA MARÍA\".lower()` | `\"ana maría\"` |\n",
    "| `title()` | Primera letra de cada palabra en mayúscula | `\"ana maría lópez\".title()` | `\"Ana María López\"` |\n",
    "| `capitalize()` | Solo la primera letra en mayúscula | `\"ana maría\".capitalize()` | `\"Ana maría\"` |\n",
    "| `swapcase()` | Intercambia mayúsculas y minúsculas | `\"AnA\".swapcase()` | `\"aNa\"` |\n",
    "\n",
    "## Métodos de Limpieza y Espacios\n",
    "\n",
    "| Método | Descripción | Ejemplo | Resultado |\n",
    "|--------|-------------|---------|-----------|\n",
    "| `strip()` | Elimina espacios al inicio y final | `\"  Hola  \".strip()` | `\"Hola\"` |\n",
    "| `lstrip()` | Elimina espacios solo al inicio | `\"  Hola  \".lstrip()` | `\"Hola  \"` |\n",
    "| `rstrip()` | Elimina espacios solo al final | `\"  Hola  \".rstrip()` | `\"  Hola\"` |\n",
    "\n",
    "## Métodos de Reemplazo y División\n",
    "\n",
    "| Método | Descripción | Ejemplo | Resultado |\n",
    "|--------|-------------|---------|-----------|\n",
    "| `replace()` | Reemplaza una subcadena por otra | `\"Hola mundo\".replace(\"mundo\", \"Ana\")` | `\"Hola Ana\"` |\n",
    "| `split()` | Divide la cadena en una lista | `\"Hola Ana María\".split(\" \")` | `[\"Hola\", \"Ana\", \"María\"]` |\n",
    "| `join()` | Une elementos de una lista con un separador | `\"-\".join([\"Hola\", \"Ana\"])` | `\"Hola-Ana\"` |\n",
    "\n",
    "\n",
    "## Operadores de Comparación con Strings\n",
    "\n",
    "| Operador | Descripción | Ejemplo | Resultado |\n",
    "|----------|-------------|---------|-----------|\n",
    "| `==` | Igualdad | `\"Ana\" == \"Ana\"` | `True` |\n",
    "| `!=` | Diferencia | `\"Ana\" != \"Luis\"` | `True` |\n",
    "| `in` | Pertenencia | `\"A\" in \"Ana\"` | `True` |\n",
    "| `not in` | No pertenencia | `\"Z\" not in \"Ana\"` | `True` |\n",
    "\n",
    "## Funciones Útiles Adicionales\n",
    "\n",
    "| Función | Descripción | Ejemplo | Resultado |\n",
    "|---------|-------------|---------|-----------|\n",
    "| `repr()` | Representación literal (muestra espacios) | `repr(\"  Ana  \")` | `\"'  Ana  '\"` |\n"
   ]
  },
  {
   "cell_type": "markdown",
   "id": "7c4187d3",
   "metadata": {},
   "source": [
    "# ⚙️ 2. OPERADORES\n",
    "## 🎯2.1. Definición\n",
    "Un **operador** es un símbolo especial que indica a Python que debe realizar una operación sobre uno o varios **valores** (operandos).\n",
    "\n",
    "> 💡Los operadores permiten hacer cálculos, comparaciones, comprobaciones lógicas y manipulaciones de datos.  \n",
    "\n",
    "\n",
    "## 🏷️ 2.2. Tipos principales de operadores\n",
    "| Tipo de Operador       | Símbolos Comunes         | Descripción                                      | Ejemplo                      |\n",
    "|-----------------------|--------------------------|--------------------------------------------------|------------------------------|\n",
    "| **Aritméticos**       | `+`, `-`, `*`, `/`, `%`, `**`, `//` | Realizan operaciones matemáticas básicas         | `a = 5 + 3` (suma)            |\n",
    "| **De Comparación**   | `==`, `!=`, `>`, `<`, `>=`, `<=` | Comparan dos valores y devuelven un booleano | `a == b` (igualdad)        |\n",
    "| **Lógicos**           | `and`, `or`, `not` | Combinan expresiones booleanas                   | `a and b` (y lógico)          |\n",
    "| **De Asignación**     | `=`, `+=`, `-=`, `*=`, `/=` | Asignan valores a variables                       | `a += 2` (incremento)          |\n",
    "| **De Identidad**      | `is`, `is not` | Verifican si dos variables apuntan al mismo objeto | `a is b` (misma identidad) |\n",
    "| **De Pertenencia**    | `in`, `not in` | Verifican si un valor está en una secuencia       | `'a' in 'abc'` (pertenencia)   |\n"
   ]
  },
  {
   "cell_type": "code",
   "execution_count": null,
   "id": "4731c4bd",
   "metadata": {},
   "outputs": [],
   "source": [
    "#Declaramos las variables con distintos tipos de datos\n",
    "\n",
    "nombre = \"Ana\"                 # texto\n",
    "edad = 30                      # número entero\n",
    "altura = 1.65                  # número decimal\n",
    "fecha_nacimiento = \"1995-06-15\"  # texto\n",
    "registrado = True              # booleano (sí/no)\n",
    "seleccion_color = [\"azul\", \"violeta\", \"naranja\"]       # lista\n",
    "email = \"ana@email.com\"        # texto)\n"
   ]
  },
  {
   "cell_type": "markdown",
   "id": "8fb7cf0b",
   "metadata": {},
   "source": [
    "### 2.2.1 Operadores aritméticos:"
   ]
  },
  {
   "cell_type": "code",
   "execution_count": 17,
   "id": "3c19a6fb",
   "metadata": {},
   "outputs": [
    {
     "data": {
      "text/plain": [
       "31"
      ]
     },
     "execution_count": 17,
     "metadata": {},
     "output_type": "execute_result"
    }
   ],
   "source": [
    "# EJEMPLOS OPERADORES ARITMËTICOS\n",
    "\n",
    "edad_siguiente = edad + 1             # Sumar -> edad el próximo año\n",
    "edad_siguiente"
   ]
  },
  {
   "cell_type": "code",
   "execution_count": 4,
   "id": "9dc99c9c",
   "metadata": {},
   "outputs": [
    {
     "data": {
      "text/plain": [
       "165.0"
      ]
     },
     "execution_count": 4,
     "metadata": {},
     "output_type": "execute_result"
    }
   ],
   "source": [
    "altura_cm = altura * 100              # Multiplicar -> convertir a centímetros\n",
    "altura_cm"
   ]
  },
  {
   "cell_type": "code",
   "execution_count": 6,
   "id": "bce43983",
   "metadata": {},
   "outputs": [
    {
     "data": {
      "text/plain": [
       "35"
      ]
     },
     "execution_count": 6,
     "metadata": {},
     "output_type": "execute_result"
    }
   ],
   "source": [
    "años_hasta_jubilacion = 65 - edad     # Restar -> cuántos años faltan\n",
    "años_hasta_jubilacion"
   ]
  },
  {
   "cell_type": "code",
   "execution_count": 18,
   "id": "c79b5986",
   "metadata": {},
   "outputs": [
    {
     "data": {
      "text/plain": [
       "5.166666666666667"
      ]
     },
     "execution_count": 18,
     "metadata": {},
     "output_type": "execute_result"
    }
   ],
   "source": [
    "mitad_edad = edad_siguiente / 6                 # División con decimales\n",
    "mitad_edad"
   ]
  },
  {
   "cell_type": "code",
   "execution_count": 19,
   "id": "f60ca91a",
   "metadata": {},
   "outputs": [],
   "source": [
    "decada = edad_siguiente // 10                   # División entera -> número de décadas\n"
   ]
  },
  {
   "cell_type": "code",
   "execution_count": 20,
   "id": "8c9ed284",
   "metadata": {},
   "outputs": [
    {
     "data": {
      "text/plain": [
       "3"
      ]
     },
     "execution_count": 20,
     "metadata": {},
     "output_type": "execute_result"
    }
   ],
   "source": [
    "decada"
   ]
  },
  {
   "cell_type": "code",
   "execution_count": 21,
   "id": "51cd39c9",
   "metadata": {},
   "outputs": [],
   "source": [
    "resto_division = edad % 2             # Módulo -> comprobar si la edad es par\n"
   ]
  },
  {
   "cell_type": "markdown",
   "id": "6a76345c",
   "metadata": {},
   "source": [
    "> 💡 Concepto matemático:\n",
    "\n",
    ">Cuando divides un número entre otro, puedes obtener un cociente y un resto. \n",
    "El operador % te da solo el resto. Si es 0 el número es par, si es 1 es impar.\n",
    "\n",
    "> ¿Por qué funciona para detectar números pares?\n",
    "\n",
    ">Número par: Es divisible entre 2 (resto = 0)\n",
    "\n",
    ">Número impar: No es divisible entre 2 (resto = 1)"
   ]
  },
  {
   "cell_type": "code",
   "execution_count": 22,
   "id": "0d6c2acc",
   "metadata": {},
   "outputs": [],
   "source": [
    "edad_al_cuadrado = edad ** 2          # Potencia -> edad al cuadrado\n"
   ]
  },
  {
   "cell_type": "code",
   "execution_count": 23,
   "id": "4ed07457",
   "metadata": {},
   "outputs": [
    {
     "name": "stdout",
     "output_type": "stream",
     "text": [
      "Década: 3 ; Par: 0 ; Edad al cuadrado: 900\n"
     ]
    }
   ],
   "source": [
    "\n",
    "print(\"Década:\", decada, \"; Par:\", resto_division, \"; Edad al cuadrado:\", edad_al_cuadrado)"
   ]
  },
  {
   "cell_type": "markdown",
   "id": "f9b0ba6a",
   "metadata": {},
   "source": [
    "### 2.2.2 Operadores relacionales o de comparación:"
   ]
  },
  {
   "cell_type": "code",
   "execution_count": null,
   "id": "439bd368",
   "metadata": {},
   "outputs": [],
   "source": [
    "# EJEMPLOS OPERADORES RELACIONALES O DE COMPARACIÓN. Obtenemos valores booleanos (True/False)\n",
    "es_mayor_de_edad =  edad >= 18\n",
    "es_menor_de_30 = edad < 30\n",
    "edad_exacta = edad == 30\n",
    "edad_diferente = edad != 25"
   ]
  },
  {
   "cell_type": "code",
   "execution_count": 26,
   "id": "9c8c123f",
   "metadata": {},
   "outputs": [
    {
     "name": "stdout",
     "output_type": "stream",
     "text": [
      "True False True True\n"
     ]
    }
   ],
   "source": [
    "print(es_mayor_de_edad, es_menor_de_30, edad_exacta, edad_diferente)"
   ]
  },
  {
   "cell_type": "code",
   "execution_count": 24,
   "id": "b49611b3",
   "metadata": {},
   "outputs": [
    {
     "data": {
      "text/plain": [
       "True"
      ]
     },
     "execution_count": 24,
     "metadata": {},
     "output_type": "execute_result"
    }
   ],
   "source": [
    "edad >= 18"
   ]
  },
  {
   "cell_type": "markdown",
   "id": "a7c0d51b",
   "metadata": {},
   "source": [
    "### 2.2.3 Operadores lógicos:"
   ]
  },
  {
   "cell_type": "code",
   "execution_count": 27,
   "id": "1dab0b4b",
   "metadata": {},
   "outputs": [
    {
     "name": "stdout",
     "output_type": "stream",
     "text": [
      "False True False\n"
     ]
    }
   ],
   "source": [
    "# EJEMPLOS DE OPERADORES LÓGICOS\n",
    "es_joven_y_registrado = (edad < 30) and registrado\n",
    "es_joven_o_registrado = (edad < 30) or registrado\n",
    "no_registrado = not registrado\n",
    "\n",
    "print(es_joven_y_registrado, es_joven_o_registrado, no_registrado)"
   ]
  },
  {
   "cell_type": "code",
   "execution_count": 30,
   "id": "3435f2b8",
   "metadata": {},
   "outputs": [
    {
     "name": "stdout",
     "output_type": "stream",
     "text": [
      "True False True\n"
     ]
    }
   ],
   "source": [
    "# Otros ejemplos de operadores lógicos\n",
    "tiene_email = email != \"\"\n",
    "es_adulto_no_registrado = (edad >= 18) and (not registrado)\n",
    "puede_recibir_ofertas = registrado or tiene_email\n",
    "\n",
    "print(tiene_email, es_adulto_no_registrado, puede_recibir_ofertas)"
   ]
  },
  {
   "cell_type": "markdown",
   "id": "5c707a8f",
   "metadata": {},
   "source": [
    "### 2.2.4 Operadores de pertenencia:"
   ]
  },
  {
   "cell_type": "code",
   "execution_count": 31,
   "id": "ed9cdaed",
   "metadata": {},
   "outputs": [
    {
     "name": "stdout",
     "output_type": "stream",
     "text": [
      "True False True\n"
     ]
    }
   ],
   "source": [
    "# EJEMPLOS OPERADORES DE PERTENENCIA\n",
    "tiene_color_azul = \"azul\" in seleccion_color\n",
    "tiene_color_verde = \"verde\" in seleccion_color\n",
    "tiene_color_rojo = \"rojo\" not in seleccion_color\n",
    "print(tiene_color_azul, tiene_color_verde, tiene_color_rojo)\n"
   ]
  },
  {
   "cell_type": "markdown",
   "id": "35ca5a2d",
   "metadata": {},
   "source": [
    "### 2.2.5 Operadores de identidad:"
   ]
  },
  {
   "cell_type": "code",
   "execution_count": null,
   "id": "fbff0774",
   "metadata": {},
   "outputs": [],
   "source": [
    "# EJEMPLOS DE OPERADORES DE IDENTIDAD\n",
    "\n",
    "es_mismo_objeto1 = (edad is edad)               # True, mismo objeto\n",
    "es_mismo_objeto2 = (edad is not edad_str)\n",
    "es_mismo_objeto3 = (edad is edad_str)       # True, distinto objeto\n",
    "print(es_mismo_objeto1, es_mismo_objeto2, es_mismo_objeto3)"
   ]
  },
  {
   "cell_type": "markdown",
   "id": "827752a2",
   "metadata": {},
   "source": [
    "# 🗂️ 3. ESTRUCTURAS DE DATOS\n",
    "## 🎯3.1. Definición\n",
    "En programación, las estructuras de datos son formas de organizar y almacenar información en la memoria del ordenador para que podamos acceder y manipularla de manera eficiente.\n",
    "\n",
    "En Python, las principales son: listas, sets, tuplas y diccionarios.\n",
    "\n",
    "### 3.1. Listas `(list)`:\n",
    "\n",
    "Una lista es una colección ordenada y modificable de elementos.\n",
    "\n",
    "Características:\n",
    "\n",
    "- Pueden contener diferentes tipos de datos.\n",
    "- Permiten elementos duplicados.\n",
    "- Se accede a sus elementos por índices.\n"
   ]
  },
  {
   "cell_type": "markdown",
   "id": "9c8617f9",
   "metadata": {},
   "source": [
    "#### 3.1.1 Creación de listas:"
   ]
  },
  {
   "cell_type": "code",
   "execution_count": null,
   "id": "e1ccc62a",
   "metadata": {},
   "outputs": [],
   "source": [
    "# 1. Lista vacía\n",
    "personas = []       # Creamos una lista sin elementos\n",
    "personas = list()   # Otra forma equivalente\n"
   ]
  },
  {
   "cell_type": "code",
   "execution_count": 32,
   "id": "31bbd345",
   "metadata": {},
   "outputs": [
    {
     "name": "stdout",
     "output_type": "stream",
     "text": [
      "Lista de personas: ['Ana', 'Luis', 'María', 'Carlos', 'Ana']\n"
     ]
    }
   ],
   "source": [
    "# 2. Lista con elementos (simulamos varios registros de personas)\n",
    "personas = [\n",
    "    \"Ana\",\n",
    "    \"Luis\",\n",
    "    \"María\",\n",
    "    \"Carlos\",\n",
    "    \"Ana\"  # Nota: las listas permiten duplicados\n",
    "]\n",
    "print(\"Lista de personas:\", personas)"
   ]
  },
  {
   "cell_type": "markdown",
   "id": "b7eb6ac0",
   "metadata": {},
   "source": [
    "#### 3.1.2 Inserción y actualización:"
   ]
  },
  {
   "cell_type": "code",
   "execution_count": null,
   "id": "2b6fe307",
   "metadata": {},
   "outputs": [],
   "source": [
    "# Añadir un nuevo registro de persona al final\n",
    "personas.append(\"Lucía\")\n",
    "print(\"Después de append:\", personas)"
   ]
  },
  {
   "cell_type": "code",
   "execution_count": null,
   "id": "c31eb56c",
   "metadata": {},
   "outputs": [],
   "source": [
    "# Insertar un registro en una posición concreta (ejemplo: al inicio)\n",
    "personas.insert(0, \"Pedro\")\n",
    "print(\"Después de insert:\", personas)"
   ]
  },
  {
   "cell_type": "code",
   "execution_count": null,
   "id": "e80a8c3d",
   "metadata": {},
   "outputs": [],
   "source": [
    "# Actualizar un valor de la lista (ejemplo: cambiar \"Luis\" por \"Luis Alberto\")\n",
    "personas[2] = \"Luis Alberto\"\n",
    "print(\"Después de update:\", personas)"
   ]
  },
  {
   "cell_type": "markdown",
   "id": "fc3cefe6",
   "metadata": {},
   "source": [
    "#### 3.1.3 Borrados:"
   ]
  },
  {
   "cell_type": "code",
   "execution_count": 34,
   "id": "5526458e",
   "metadata": {},
   "outputs": [
    {
     "name": "stdout",
     "output_type": "stream",
     "text": [
      "Luis\n",
      "['María', 'Carlos', 'Ana']\n"
     ]
    }
   ],
   "source": [
    "# Borrar y recuperar el elemento que está en una posición concreta (ejemplo: el primer registro)\n",
    "persona_borrada = personas.pop(0)\n",
    "print(persona_borrada)\n",
    "print(personas)"
   ]
  },
  {
   "cell_type": "code",
   "execution_count": 40,
   "id": "0d22abf8",
   "metadata": {},
   "outputs": [],
   "source": [
    "#clear\n",
    "personas.clear()"
   ]
  },
  {
   "cell_type": "code",
   "execution_count": 41,
   "id": "7f5a9839",
   "metadata": {},
   "outputs": [
    {
     "data": {
      "text/plain": [
       "[]"
      ]
     },
     "execution_count": 41,
     "metadata": {},
     "output_type": "execute_result"
    }
   ],
   "source": [
    "personas"
   ]
  },
  {
   "cell_type": "markdown",
   "id": "2a533889",
   "metadata": {},
   "source": [
    "#### 3.1.4 Acceso a las listas:"
   ]
  },
  {
   "cell_type": "code",
   "execution_count": 42,
   "id": "556c6945",
   "metadata": {},
   "outputs": [],
   "source": [
    "# Creamos de nuevo una lista de personas para mostrar los accesos\n",
    "personas = [\"Ana\", \"Luis\", \"María\", \"Carlos\", \"Lucía\"]"
   ]
  },
  {
   "cell_type": "code",
   "execution_count": null,
   "id": "310537f4",
   "metadata": {},
   "outputs": [],
   "source": [
    "# Acceso por índice\n",
    "primera_persona = personas[0]        \n",
    "print(primera_persona)"
   ]
  },
  {
   "cell_type": "code",
   "execution_count": 38,
   "id": "d6ad2a08",
   "metadata": {},
   "outputs": [
    {
     "name": "stdout",
     "output_type": "stream",
     "text": [
      "['Ana', 'Luis', 'María', 'Carlos']\n"
     ]
    }
   ],
   "source": [
    "dos_primeras_personas = personas[0:4]\n",
    "print(dos_primeras_personas)"
   ]
  },
  {
   "cell_type": "code",
   "execution_count": null,
   "id": "7293421f",
   "metadata": {},
   "outputs": [],
   "source": [
    "# Acceso al final de la lista con índices negativos\n",
    "ultima_persona = personas[-1]         \n",
    "dos_ultimas_personas = personas[-2:]\n",
    "print(\"ultima persona: \", ultima_persona, \". Dos últimas personas: \", dos_ultimas_personas)"
   ]
  },
  {
   "cell_type": "markdown",
   "id": "1104a9fb",
   "metadata": {},
   "source": [
    "#### 3.1.5 Otros médotos con las listas:"
   ]
  },
  {
   "cell_type": "code",
   "execution_count": null,
   "id": "a73f89dd",
   "metadata": {},
   "outputs": [],
   "source": [
    "#sort\n",
    "personas.sort()\n",
    "print(\"Lista ordenada:\", personas)"
   ]
  },
  {
   "cell_type": "code",
   "execution_count": null,
   "id": "8213f333",
   "metadata": {},
   "outputs": [],
   "source": [
    "#reverse\n",
    "personas.reverse()\n",
    "print(\"Lista en orden inverso:\", personas)"
   ]
  },
  {
   "cell_type": "code",
   "execution_count": 39,
   "id": "ec79c0e2",
   "metadata": {},
   "outputs": [
    {
     "name": "stdout",
     "output_type": "stream",
     "text": [
      "Copia de la lista: ['Ana', 'Luis', 'María', 'Carlos', 'Lucía']\n"
     ]
    }
   ],
   "source": [
    "#copy\n",
    "personas_copia = personas.copy()\n",
    "print(\"Copia de la lista:\", personas_copia)"
   ]
  },
  {
   "cell_type": "markdown",
   "id": "653ea4d2",
   "metadata": {},
   "source": [
    "#### 3.1.6. Métodos de list\n",
    "\n",
    "| Método             | Explicación                                                                 | Ejemplo                                              |\n",
    "| ------------------ | --------------------------------------------------------------------------- | ---------------------------------------------------- |\n",
    "| `append(x)`        | Añade un elemento al final.                                                 | `nombres.append(\"Ana\")` → `[\"Luis\", \"María\", \"Ana\"]` |\n",
    "| `extend(iterable)` | Añade varios elementos de otro iterable (lista, set, tupla…).               | `nombres.extend([\"Pedro\", \"Lucía\"])`                 |\n",
    "| `insert(i, x)`     | Inserta un elemento en la posición `i`.                                     | `nombres.insert(1, \"Sofía\")`                         |\n",
    "| `remove(x)`        | Elimina la primera ocurrencia de `x`.                                       | `nombres.remove(\"María\")`                            |\n",
    "| `pop(i)`           | Elimina y devuelve el elemento en la posición `i` (último si no se indica). | `nombres.pop()`                                      |\n",
    "| `clear()`          | Borra todos los elementos.                                                  | `nombres.clear()`                                    |\n",
    "| `index(x)`         | Devuelve la posición de la primera ocurrencia de `x`.                       | `nombres.index(\"Luis\")`                              |\n",
    "| `count(x)`         | Cuenta cuántas veces aparece `x`.                                           | `nombres.count(\"Ana\")`                               |\n",
    "| `sort()`           | Ordena la lista (in place).                                                 | `numeros.sort()`                                     |\n",
    "| `reverse()`        | Invierte el orden de la lista.                                              | `numeros.reverse()`                                  |\n",
    "| `copy()`           | Devuelve una copia superficial.                                             | `lista2 = nombres.copy()`                            |\n"
   ]
  },
  {
   "cell_type": "markdown",
   "id": "7fc3705f",
   "metadata": {},
   "source": [
    "### 3.2. Conjuntos `(sets)`:\n",
    "\n",
    "Un conjunto es una colección desordenada de elementos únicos.\n",
    "\n",
    "Características:\n",
    "\n",
    "- No permite duplicados.\n",
    "- No garantiza el orden.\n",
    "- Muy útiles para comprobar pertenencia o eliminar repeticiones."
   ]
  },
  {
   "cell_type": "markdown",
   "id": "4a20e4c0",
   "metadata": {},
   "source": [
    "#### 3.2.1. Creación de sets:"
   ]
  },
  {
   "cell_type": "code",
   "execution_count": null,
   "id": "67431e61",
   "metadata": {},
   "outputs": [],
   "source": [
    "# 1. Set vacío\n",
    "personas = set()\n",
    "\n",
    "# 2. Inicializar un set con elementos (nombres de personas)\n",
    "personas = {\"Ana\", \"Luis\", \"María\", \"Ana\"}  # El duplicado de \"Ana\" no se guarda\n",
    "print(personas)  # {'Luis', 'Ana', 'María'}"
   ]
  },
  {
   "cell_type": "markdown",
   "id": "f2560fa9",
   "metadata": {},
   "source": [
    "#### 3.2.2. Inserción y actualización:"
   ]
  },
  {
   "cell_type": "code",
   "execution_count": 47,
   "id": "5564f142",
   "metadata": {},
   "outputs": [
    {
     "name": "stdout",
     "output_type": "stream",
     "text": [
      "Personas: {'Ana', 'María', 'Carmen', 'Luis'}\n"
     ]
    }
   ],
   "source": [
    "# Añadir una persona\n",
    "personas.add(\"Carmen\")  \n",
    "print(\"Personas:\", personas)"
   ]
  },
  {
   "cell_type": "code",
   "execution_count": 48,
   "id": "95f291aa",
   "metadata": {},
   "outputs": [
    {
     "name": "stdout",
     "output_type": "stream",
     "text": [
      "Personas: {'Carmen', 'Pedro', 'Lucía', 'Ana', 'María', 'Luis'}\n"
     ]
    }
   ],
   "source": [
    "# Actualizar un set con varias personas nuevas\n",
    "personas.update({\"Pedro\", \"Lucía\"})  \n",
    "print(\"Personas:\", personas)"
   ]
  },
  {
   "cell_type": "code",
   "execution_count": 49,
   "id": "0e7146ff",
   "metadata": {},
   "outputs": [
    {
     "name": "stdout",
     "output_type": "stream",
     "text": [
      "Personas: {'Carmen', 'Pedro', 'Lucía', 'Ana', 'María', 'Luis'}\n"
     ]
    }
   ],
   "source": [
    "# Copiar un set (ejemplo: guardar una versión original antes de modificaciones)\n",
    "copia_personas = personas.copy()\n",
    "print(\"Personas:\", personas)"
   ]
  },
  {
   "cell_type": "markdown",
   "id": "1afc0cbc",
   "metadata": {},
   "source": [
    "#### 3.2.3. Borrados:"
   ]
  },
  {
   "cell_type": "code",
   "execution_count": null,
   "id": "a068e039",
   "metadata": {},
   "outputs": [],
   "source": [
    "# Eliminar una persona, si existe (no da error si no está)\n",
    "personas.discard(\"Luis\")"
   ]
  },
  {
   "cell_type": "code",
   "execution_count": null,
   "id": "2ee1d1e6",
   "metadata": {},
   "outputs": [],
   "source": [
    "# Eliminar una persona que no está en el set\n",
    "personas.remove(\"Juan\")  "
   ]
  },
  {
   "cell_type": "code",
   "execution_count": null,
   "id": "cb6fb708",
   "metadata": {},
   "outputs": [],
   "source": [
    "print(\"Después de borrados:\", personas)"
   ]
  },
  {
   "cell_type": "code",
   "execution_count": null,
   "id": "7c9675a5",
   "metadata": {},
   "outputs": [],
   "source": [
    "# Borrar todo el set\n",
    "#!!!!personas.clear()"
   ]
  },
  {
   "cell_type": "markdown",
   "id": "73e32dc6",
   "metadata": {},
   "source": [
    "#### 3.2.4. Operaciones con sets:"
   ]
  },
  {
   "cell_type": "code",
   "execution_count": 52,
   "id": "b02a3ff6",
   "metadata": {},
   "outputs": [],
   "source": [
    "# Supongamos que tenemos dos grupos de personas:\n",
    "grupo_1 = {\"Ana\", \"Luis\", \"María\", \"Pedro\"}\n",
    "grupo_2 = {\"Pedro\", \"Lucía\", \"María\", \"Javier\"}"
   ]
  },
  {
   "cell_type": "code",
   "execution_count": null,
   "id": "f323cecb",
   "metadata": {},
   "outputs": [],
   "source": [
    "print(grupo_1)"
   ]
  },
  {
   "cell_type": "code",
   "execution_count": 53,
   "id": "0a0f778f",
   "metadata": {},
   "outputs": [],
   "source": [
    "# Personas que están en grupo_1 pero no en grupo_2\n",
    "solo_grupo_1 = grupo_1.difference(grupo_2)  \n"
   ]
  },
  {
   "cell_type": "code",
   "execution_count": null,
   "id": "a5024051",
   "metadata": {},
   "outputs": [],
   "source": [
    "print(\"Solo en grupo 1:\", solo_grupo_1)\n"
   ]
  },
  {
   "cell_type": "code",
   "execution_count": 54,
   "id": "f495db0a",
   "metadata": {},
   "outputs": [
    {
     "name": "stdout",
     "output_type": "stream",
     "text": [
      "En ambos grupos: {'Pedro', 'María'}\n"
     ]
    }
   ],
   "source": [
    "# Personas en ambos grupos\n",
    "en_ambos = grupo_1.intersection(grupo_2)  \n",
    "print(\"En ambos grupos:\", en_ambos)\n"
   ]
  },
  {
   "cell_type": "code",
   "execution_count": 55,
   "id": "47ae8dab",
   "metadata": {},
   "outputs": [
    {
     "name": "stdout",
     "output_type": "stream",
     "text": [
      "Todos los nombres: {'Ana', 'María', 'Javier', 'Lucía', 'Pedro', 'Luis'}\n"
     ]
    }
   ],
   "source": [
    "# Unión de todos los nombres de ambos grupos\n",
    "todos = grupo_1.union(grupo_2)  \n",
    "print(\"Todos los nombres:\", todos)"
   ]
  },
  {
   "cell_type": "code",
   "execution_count": null,
   "id": "6feed23d",
   "metadata": {},
   "outputs": [
    {
     "name": "stdout",
     "output_type": "stream",
     "text": [
      "Solo en uno de los grupos: {'Ana', 'Javier', 'Lucía', 'Luis'}\n"
     ]
    }
   ],
   "source": [
    "#diferencia simétrica: personas que están en un grupo o en otro, pero no en ambos\n",
    "solo_en_uno = grupo_1.symmetric_difference(grupo_2)\n",
    "print(\"Solo en uno de los grupos:\", solo_en_uno)"
   ]
  },
  {
   "cell_type": "markdown",
   "id": "a88c6dac",
   "metadata": {},
   "source": [
    "#### 3.2.5. Acceso a los sets:"
   ]
  },
  {
   "cell_type": "code",
   "execution_count": null,
   "id": "7f4b8945",
   "metadata": {},
   "outputs": [],
   "source": [
    "# No podemos acceder por índice (como en listas), \n",
    "# pero podemos recorrerlos en un bucle. Los vemos más adelante\n",
    "print(\"Listado de personas en el set:\")\n",
    "for persona in personas:\n",
    "    print(persona)"
   ]
  },
  {
   "cell_type": "markdown",
   "id": "9b6c4ab5",
   "metadata": {},
   "source": [
    "#### 3.2.6. Métodos de sets\n",
    "\n",
    "| Método                    | Explicación                                    | Ejemplo                              |\n",
    "| ------------------------- | ---------------------------------------------- | ------------------------------------ |\n",
    "| `add(x)`                  | Añade un elemento al conjunto.                 | `personas.add(\"Ana\")`                |\n",
    "| `update(iterable)`        | Añade varios elementos desde un iterable.      | `personas.update([\"Luis\", \"María\"])` |\n",
    "| `remove(x)`               | Elimina `x`. Da error si no existe.            | `personas.remove(\"Ana\")`             |\n",
    "| `discard(x)`              | Elimina `x` si existe, sin error si no está.   | `personas.discard(\"Ana\")`            |\n",
    "| `pop()`                   | Elimina y devuelve un elemento aleatorio.      | `personas.pop()`                     |\n",
    "| `clear()`                 | Elimina todos los elementos.                   | `personas.clear()`                   |\n",
    "| `copy()`                  | Devuelve una copia del set.                    | `grupo2 = personas.copy()`           |\n",
    "| `union(s)`                | Devuelve la unión con otro set.                | `set1.union(set2)`                   |\n",
    "| `intersection(s)`         | Devuelve la intersección con otro set.         | `set1.intersection(set2)`            |\n",
    "| `difference(s)`           | Elementos en el primero pero no en el segundo. | `set1.difference(set2)`              |\n",
    "| `symmetric_difference(s)` | Elementos en uno u otro pero no en ambos.      | `set1.symmetric_difference(set2)`    |\n"
   ]
  },
  {
   "cell_type": "markdown",
   "id": "3762e5ae",
   "metadata": {},
   "source": [
    "### 3.3. Tuplas:\n",
    "\n",
    "Una tupla es una estructura de datos inmutable en Python.\n",
    "Esto significa que, una vez creada, no se puede modificar:\n",
    "\n",
    "- No puedes cambiar sus valores, ni añadir elementos, ni eliminarlos.\n",
    "- Se utilizan cuando queremos guardar información fija, que no debería cambiar a lo largo del programa.\n",
    "\n",
    "Son muy útiles para representar información fija, por ejemplo:\n",
    "\n",
    "- datos personales básicos (nombre, apellidos),\n",
    "\n",
    "- coordenadas geográficas,"
   ]
  },
  {
   "cell_type": "markdown",
   "id": "d509b2c9",
   "metadata": {},
   "source": [
    "#### 3.3.1. Creación de tuplas:"
   ]
  },
  {
   "cell_type": "code",
   "execution_count": null,
   "id": "871d5932",
   "metadata": {},
   "outputs": [],
   "source": [
    "# Tupla vacía\n",
    "tupla_vacia = ()"
   ]
  },
  {
   "cell_type": "code",
   "execution_count": 2,
   "id": "706e42ee",
   "metadata": {},
   "outputs": [],
   "source": [
    "# Tupla con varios elementos\n",
    "tupla_uno = ('Arturo', 'Lorenzo', 'Hernandez')\n",
    "tupla_dos = ('R2D2', 'Coder')\n"
   ]
  },
  {
   "cell_type": "code",
   "execution_count": 3,
   "id": "24a020f8",
   "metadata": {},
   "outputs": [],
   "source": [
    "# Tupla con un único elemento (OJO: hay que poner la coma)\n",
    "tupla_un_solo = ('Arturo',)"
   ]
  },
  {
   "cell_type": "markdown",
   "id": "1a19eace",
   "metadata": {},
   "source": [
    "#### 3.3.2. Inserción y actualización:"
   ]
  },
  {
   "cell_type": "code",
   "execution_count": 4,
   "id": "c6273554",
   "metadata": {},
   "outputs": [],
   "source": [
    "# ⚠️ Las tuplas son inmutables → no tienen métodos como append, insert ni update.\n",
    "# Una vez creadas, NO se pueden cambiar.\n",
    "\n",
    "# Si quieres \"actualizar\" una tupla, en realidad estás creando una nueva:\n",
    "tupla_actualizada = tupla_uno + ('Nuevo',)\n"
   ]
  },
  {
   "cell_type": "code",
   "execution_count": 5,
   "id": "f5fd6642",
   "metadata": {},
   "outputs": [
    {
     "name": "stdout",
     "output_type": "stream",
     "text": [
      "('Arturo', 'Lorenzo', 'Hernandez', 'Nuevo')\n"
     ]
    }
   ],
   "source": [
    "print(tupla_actualizada)  \n",
    "# ('Arturo', 'Lorenzo', 'Hernandez', 'Nuevo')"
   ]
  },
  {
   "cell_type": "markdown",
   "id": "605727ec",
   "metadata": {},
   "source": [
    "#### 3.3.3. Borrados:"
   ]
  },
  {
   "cell_type": "code",
   "execution_count": null,
   "id": "2f661627",
   "metadata": {},
   "outputs": [],
   "source": [
    "# No se pueden borrar elementos individuales de una tupla.\n",
    "# Lo único posible es borrar la tupla completa de memoria:\n",
    "\n",
    "del tupla_vacia"
   ]
  },
  {
   "cell_type": "markdown",
   "id": "03c43647",
   "metadata": {},
   "source": [
    "3.3.4. Operaciones con tuplas:"
   ]
  },
  {
   "cell_type": "code",
   "execution_count": 6,
   "id": "43150fe6",
   "metadata": {},
   "outputs": [
    {
     "name": "stdout",
     "output_type": "stream",
     "text": [
      "('Arturo', 'Lorenzo', 'Hernandez', 'R2D2', 'Coder')\n"
     ]
    }
   ],
   "source": [
    "\n",
    "# Unión de tuplas (concatenación)\n",
    "tupla_tres = tupla_uno + tupla_dos  \n",
    "print(tupla_tres)  "
   ]
  },
  {
   "cell_type": "code",
   "execution_count": null,
   "id": "b11e1297",
   "metadata": {},
   "outputs": [
    {
     "name": "stdout",
     "output_type": "stream",
     "text": [
      "('R2D2', 'Coder', 'R2D2', 'Coder')\n"
     ]
    }
   ],
   "source": [
    "# Repetición. Poedemos aplicar el operador de multiplicación\n",
    "tupla_repetida = tupla_dos * 2  \n",
    "print(tupla_repetida)  "
   ]
  },
  {
   "cell_type": "code",
   "execution_count": null,
   "id": "6d7b0bd8",
   "metadata": {},
   "outputs": [],
   "source": [
    "# Métodos disponibles: # Devuelve el índice → 0\n",
    "index_arturo = tupla_uno.index('Arturo')  \n",
    "print(index_arturo)  "
   ]
  },
  {
   "cell_type": "code",
   "execution_count": null,
   "id": "78fd6fa7",
   "metadata": {},
   "outputs": [],
   "source": [
    "# Devuelve cuántas veces aparece → 1\n",
    "count_coder = tupla_tres.count('Coder')  \n",
    "print(count_coder)  \n"
   ]
  },
  {
   "cell_type": "markdown",
   "id": "9abec640",
   "metadata": {},
   "source": [
    "#### 3.3.3. Acceso a las tuplas:"
   ]
  },
  {
   "cell_type": "code",
   "execution_count": 8,
   "id": "29e8970e",
   "metadata": {},
   "outputs": [
    {
     "name": "stdout",
     "output_type": "stream",
     "text": [
      "Arturo\n"
     ]
    }
   ],
   "source": [
    "# Acceso por índice\n",
    "print(tupla_uno[0])  \n"
   ]
  },
  {
   "cell_type": "code",
   "execution_count": 9,
   "id": "1fbf8d66",
   "metadata": {},
   "outputs": [
    {
     "name": "stdout",
     "output_type": "stream",
     "text": [
      "('Lorenzo', 'Hernandez')\n"
     ]
    }
   ],
   "source": [
    "# Acceso por intervalo (slicing)\n",
    "print(tupla_uno[1:3])  \n",
    "# ('Lorenzo', 'Hernandez')"
   ]
  },
  {
   "cell_type": "code",
   "execution_count": null,
   "id": "45875314",
   "metadata": {},
   "outputs": [
    {
     "name": "stdout",
     "output_type": "stream",
     "text": [
      "Arturo\n",
      "Lorenzo\n",
      "Hernandez\n",
      "R2D2\n",
      "Coder\n"
     ]
    }
   ],
   "source": [
    "# Recorrer con bucle. Lo veremos más adelante\n",
    "for elemento in tupla_tres:\n",
    "    print(elemento)"
   ]
  },
  {
   "cell_type": "markdown",
   "id": "4e8203fd",
   "metadata": {},
   "source": [
    "#### 3.3.1. Métodos para trabajar con tuplas\n",
    "\n",
    "| Método     | Explicación                                           | Ejemplo                    |\n",
    "| ---------- | ----------------------------------------------------- | -------------------------- |\n",
    "| `count(x)` | Cuenta cuántas veces aparece `x`.                     | `(1,2,2,3).count(2)` → `2` |\n",
    "| `index(x)` | Devuelve la posición de la primera ocurrencia de `x`. | `(1,2,3).index(2)` → `1`   |\n"
   ]
  },
  {
   "cell_type": "markdown",
   "id": "d8bcf050",
   "metadata": {},
   "source": [
    "### 3.4. Diccionarios `(dict)`:\n",
    "\n",
    "Un diccionario es una estructura de datos mutable en Python.\n",
    "Esto significa que podemos añadir, modificar y eliminar elementos en cualquier momento:\n",
    "\n",
    "- Cada elemento del diccionario se compone de una clave única y un valor asociado.\n",
    "\n",
    "- Las claves deben ser únicas e inmutables (strings, números, tuplas, etc.), mientras que los valores pueden ser de cualquier tipo, incluso listas, tuplas, sets o incluso otros diccionarios.\n",
    "\n",
    "- Permiten acceder a los valores de forma rápida usando la clave.\n",
    "\n",
    "Son muy útiles para representar información estructurada de forma clara, por ejemplo:\n",
    "\n",
    "- datos completos de una persona (nombre, edad, altura, email, color preferido, registrado o no),\n",
    "- información de un registro de base de datos,\n",
    "- parámetros de configuración de un programa,\n",
    "- estructuras complejas con datos anidados, como varias personas en un mismo diccionario."
   ]
  },
  {
   "cell_type": "markdown",
   "id": "84dfbecc",
   "metadata": {},
   "source": [
    "#### 3.4.1. Creación de diccionarios:"
   ]
  },
  {
   "cell_type": "code",
   "execution_count": 12,
   "id": "123a30e1",
   "metadata": {},
   "outputs": [],
   "source": [
    "# Diccionario vacío inicializado con dict()\n",
    "personas = dict()\n"
   ]
  },
  {
   "cell_type": "code",
   "execution_count": 13,
   "id": "85095e84",
   "metadata": {},
   "outputs": [],
   "source": [
    "# Diccionario definido con tuplas (clave, valor)\n",
    "personas = dict([\n",
    "    (\"persona1\", {\"nombre\": \"Laura\", \"edad\": 32}),\n",
    "    (\"persona2\", {\"nombre\": \"Carlos\", \"edad\": 28})\n",
    "])\n"
   ]
  },
  {
   "cell_type": "code",
   "execution_count": 14,
   "id": "b3d0d428",
   "metadata": {},
   "outputs": [
    {
     "name": "stdout",
     "output_type": "stream",
     "text": [
      "{'persona1': {'nombre': 'Laura', 'edad': 32}, 'persona2': {'nombre': 'Carlos', 'edad': 28}}\n"
     ]
    }
   ],
   "source": [
    "print(personas)"
   ]
  },
  {
   "cell_type": "code",
   "execution_count": 15,
   "id": "8b6c9e11",
   "metadata": {},
   "outputs": [],
   "source": [
    "# Diccionario con información más completa\n",
    "personas = {\n",
    "    \"persona1\": {\n",
    "        \"nombre\": \"Laura\",\n",
    "        \"edad\": 32,\n",
    "        \"altura\": 1.68,\n",
    "        \"color_preferido\": \"azul\"\n",
    "    },\n",
    "    \"persona2\": {\n",
    "        \"nombre\": \"Carlos\",\n",
    "        \"edad\": 28,\n",
    "        \"altura\": 1.75,\n",
    "        \"color_preferido\": \"rojo\"\n",
    "    }\n",
    "}"
   ]
  },
  {
   "cell_type": "code",
   "execution_count": 16,
   "id": "0c43da28",
   "metadata": {},
   "outputs": [
    {
     "name": "stdout",
     "output_type": "stream",
     "text": [
      "Laura\n"
     ]
    }
   ],
   "source": [
    "# Acceso directo\n",
    "print(personas[\"persona1\"][\"nombre\"])  # \"Laura\"\n"
   ]
  },
  {
   "cell_type": "markdown",
   "id": "b19af6ce",
   "metadata": {},
   "source": [
    "#### 3.4.2. Inserción y actualización:"
   ]
  },
  {
   "cell_type": "code",
   "execution_count": 17,
   "id": "5eefe202",
   "metadata": {},
   "outputs": [],
   "source": [
    "# Añadir una nueva persona\n",
    "personas[\"persona3\"] = {\n",
    "    \"nombre\": \"Ana\",\n",
    "    \"edad\": 25,\n",
    "    \"altura\": 1.62,\n",
    "    \"color_preferido\": \"verde\"\n",
    "}"
   ]
  },
  {
   "cell_type": "code",
   "execution_count": 18,
   "id": "8699ff07",
   "metadata": {},
   "outputs": [
    {
     "name": "stdout",
     "output_type": "stream",
     "text": [
      "{'persona1': {'nombre': 'Laura', 'edad': 32, 'altura': 1.68, 'color_preferido': 'azul'}, 'persona2': {'nombre': 'Carlos', 'edad': 28, 'altura': 1.75, 'color_preferido': 'rojo'}, 'persona3': {'nombre': 'Ana', 'edad': 25, 'altura': 1.62, 'color_preferido': 'verde'}}\n"
     ]
    }
   ],
   "source": [
    "print(personas)"
   ]
  },
  {
   "cell_type": "code",
   "execution_count": 19,
   "id": "314771b8",
   "metadata": {},
   "outputs": [],
   "source": [
    "# Actualizar información existente con update()\n",
    "personas[\"persona1\"].update({\"color_preferido\": \"verde\", \"registrado\": True})"
   ]
  },
  {
   "cell_type": "code",
   "execution_count": 20,
   "id": "ade429d2",
   "metadata": {},
   "outputs": [
    {
     "name": "stdout",
     "output_type": "stream",
     "text": [
      "{'persona1': {'nombre': 'Laura', 'edad': 32, 'altura': 1.68, 'color_preferido': 'verde', 'registrado': True}, 'persona2': {'nombre': 'Carlos', 'edad': 28, 'altura': 1.75, 'color_preferido': 'rojo'}, 'persona3': {'nombre': 'Ana', 'edad': 25, 'altura': 1.62, 'color_preferido': 'verde'}}\n"
     ]
    }
   ],
   "source": [
    "print(personas)"
   ]
  },
  {
   "cell_type": "code",
   "execution_count": 21,
   "id": "09fd35f4",
   "metadata": {},
   "outputs": [],
   "source": [
    "# Actualizar un valor dentro de una subestructura mutable (lista dentro del diccionario)\n",
    "personas[\"persona1\"][\"colores_favoritos\"] = [\"azul\", \"amarillo\"]"
   ]
  },
  {
   "cell_type": "code",
   "execution_count": 22,
   "id": "67a2b067",
   "metadata": {},
   "outputs": [
    {
     "name": "stdout",
     "output_type": "stream",
     "text": [
      "{'persona1': {'nombre': 'Laura', 'edad': 32, 'altura': 1.68, 'color_preferido': 'verde', 'registrado': True, 'colores_favoritos': ['azul', 'amarillo']}, 'persona2': {'nombre': 'Carlos', 'edad': 28, 'altura': 1.75, 'color_preferido': 'rojo'}, 'persona3': {'nombre': 'Ana', 'edad': 25, 'altura': 1.62, 'color_preferido': 'verde'}}\n"
     ]
    }
   ],
   "source": [
    "print(personas)"
   ]
  },
  {
   "cell_type": "code",
   "execution_count": 23,
   "id": "574ba1b6",
   "metadata": {},
   "outputs": [],
   "source": [
    "# Añadir un nuevo color favorito a la lista de colores favoritos\n",
    "personas[\"persona1\"][\"colores_favoritos\"].append(\"rojo\")"
   ]
  },
  {
   "cell_type": "code",
   "execution_count": 24,
   "id": "e115699d",
   "metadata": {},
   "outputs": [
    {
     "name": "stdout",
     "output_type": "stream",
     "text": [
      "{'persona1': {'nombre': 'Laura', 'edad': 32, 'altura': 1.68, 'color_preferido': 'verde', 'registrado': True, 'colores_favoritos': ['azul', 'amarillo', 'rojo']}, 'persona2': {'nombre': 'Carlos', 'edad': 28, 'altura': 1.75, 'color_preferido': 'rojo'}, 'persona3': {'nombre': 'Ana', 'edad': 25, 'altura': 1.62, 'color_preferido': 'verde'}}\n"
     ]
    }
   ],
   "source": [
    "print(personas)"
   ]
  },
  {
   "cell_type": "code",
   "execution_count": 25,
   "id": "f3c1f965",
   "metadata": {},
   "outputs": [
    {
     "name": "stdout",
     "output_type": "stream",
     "text": [
      "{'persona1': {'nombre': 'Laura', 'edad': 32, 'altura': 1.68, 'color_preferido': 'verde', 'registrado': True, 'colores_favoritos': ['azul', 'amarillo', 'rojo']}, 'persona2': {'nombre': 'Carlos', 'edad': 28, 'altura': 1.76, 'color_preferido': 'rojo'}, 'persona3': {'nombre': 'Ana', 'edad': 25, 'altura': 1.62, 'color_preferido': 'verde'}}\n"
     ]
    }
   ],
   "source": [
    "# Sustituir completamente un valor\n",
    "personas[\"persona2\"][\"altura\"] = 1.76\n",
    "print(personas)\n"
   ]
  },
  {
   "cell_type": "markdown",
   "id": "1af3df91",
   "metadata": {},
   "source": [
    "#### 3.4.3. Borrados:"
   ]
  },
  {
   "cell_type": "code",
   "execution_count": 26,
   "id": "e495b6b9",
   "metadata": {},
   "outputs": [
    {
     "name": "stdout",
     "output_type": "stream",
     "text": [
      "{'nombre': 'Ana', 'edad': 25, 'altura': 1.62, 'color_preferido': 'verde'}\n"
     ]
    }
   ],
   "source": [
    "# Borra un elemento indicando la clave y devuelve el valor eliminado\n",
    "persona_eliminada = personas.pop(\"persona3\")  \n",
    "print(persona_eliminada)"
   ]
  },
  {
   "cell_type": "code",
   "execution_count": null,
   "id": "504ec34c",
   "metadata": {},
   "outputs": [],
   "source": [
    "# Borra todos los elementos del diccionario\n",
    "# personas.clear()\n"
   ]
  },
  {
   "cell_type": "markdown",
   "id": "399a3b08",
   "metadata": {},
   "source": [
    "#### 3.4.4. Acceso a los diccionarios:"
   ]
  },
  {
   "cell_type": "code",
   "execution_count": null,
   "id": "2efbf582",
   "metadata": {},
   "outputs": [],
   "source": [
    "# get() devuelve el valor asociado a una clave; si no existe, devuelve un valor por defecto\n",
    "nombre_persona1 = personas.get(\"persona1\", \"No existe la persona\")\n",
    "nombre_persona4 = personas.get(\"persona4\", \"No existe la persona\")\n"
   ]
  },
  {
   "cell_type": "code",
   "execution_count": 27,
   "id": "7a94d323",
   "metadata": {},
   "outputs": [],
   "source": [
    "nombre_persona1 = personas.get(\"persona1\")"
   ]
  },
  {
   "cell_type": "code",
   "execution_count": 30,
   "id": "9da5d2db",
   "metadata": {},
   "outputs": [
    {
     "data": {
      "text/plain": [
       "{'nombre': 'Laura',\n",
       " 'edad': 32,\n",
       " 'altura': 1.68,\n",
       " 'color_preferido': 'verde',\n",
       " 'registrado': True,\n",
       " 'colores_favoritos': ['azul', 'amarillo', 'rojo']}"
      ]
     },
     "execution_count": 30,
     "metadata": {},
     "output_type": "execute_result"
    }
   ],
   "source": [
    "nombre_persona1"
   ]
  },
  {
   "cell_type": "code",
   "execution_count": 28,
   "id": "fe3edb3e",
   "metadata": {},
   "outputs": [],
   "source": [
    "# items() devuelve pares clave-valor\n",
    "personas_items = personas.items()"
   ]
  },
  {
   "cell_type": "code",
   "execution_count": 29,
   "id": "ac00f6b2",
   "metadata": {},
   "outputs": [
    {
     "data": {
      "text/plain": [
       "dict_items([('persona1', {'nombre': 'Laura', 'edad': 32, 'altura': 1.68, 'color_preferido': 'verde', 'registrado': True, 'colores_favoritos': ['azul', 'amarillo', 'rojo']}), ('persona2', {'nombre': 'Carlos', 'edad': 28, 'altura': 1.76, 'color_preferido': 'rojo'})])"
      ]
     },
     "execution_count": 29,
     "metadata": {},
     "output_type": "execute_result"
    }
   ],
   "source": [
    "personas_items"
   ]
  },
  {
   "cell_type": "markdown",
   "id": "14eb43d9",
   "metadata": {},
   "source": [
    "\n",
    "#### 🎯 **Diferencia Principal**\n",
    "\n",
    "| Método | Propósito | Devuelve | Uso |\n",
    "|--------|-----------|----------|-----|\n",
    "| `.get()` | Obtener UN valor específico | Valor individual o None | Acceso seguro a una clave |\n",
    "| `.items()` | Obtener TODOS los pares | Pares (clave, valor) | Recorrer todo el diccionario |\n"
   ]
  },
  {
   "cell_type": "code",
   "execution_count": 31,
   "id": "b18a9ae3",
   "metadata": {},
   "outputs": [],
   "source": [
    "\n",
    "# keys() devuelve solo las claves\n",
    "personas_keys = personas.keys()\n"
   ]
  },
  {
   "cell_type": "code",
   "execution_count": 33,
   "id": "a9a65e3b",
   "metadata": {},
   "outputs": [
    {
     "data": {
      "text/plain": [
       "dict_keys(['persona1', 'persona2'])"
      ]
     },
     "execution_count": 33,
     "metadata": {},
     "output_type": "execute_result"
    }
   ],
   "source": [
    "personas_keys"
   ]
  },
  {
   "cell_type": "markdown",
   "id": "fffc5b39",
   "metadata": {},
   "source": [
    "#### 3.4.1. Métodos de dict:\n",
    "\n",
    "| Método             | Explicación                                                       | Ejemplo                                  |\n",
    "| ------------------ | ----------------------------------------------------------------- | ---------------------------------------- |\n",
    "| `get(k)`           | Devuelve el valor de `k`, o `None` si no existe.                  | `persona.get(\"edad\")`                    |\n",
    "| `keys()`           | Devuelve una vista con todas las claves.                          | `persona.keys()`                         |\n",
    "| `values()`         | Devuelve una vista con todos los valores.                         | `persona.values()`                       |\n",
    "| `items()`          | Devuelve pares `(clave, valor)`.                                  | `persona.items()`                        |\n",
    "| `update(d)`        | Añade o actualiza elementos desde otro diccionario.               | `persona.update({\"edad\": 31})`           |\n",
    "| `pop(k)`           | Elimina y devuelve el valor asociado a `k`.                       | `persona.pop(\"edad\")`                    |\n",
    "| `popitem()`        | Elimina y devuelve el último par `(clave, valor)`.                | `persona.popitem()`                      |\n",
    "| `clear()`          | Elimina todos los pares.                                          | `persona.clear()`                        |\n",
    "| `copy()`           | Devuelve una copia superficial.                                   | `copia = persona.copy()`                 |\n",
    "| `setdefault(k, v)` | Devuelve el valor de `k`. Si no existe, lo inserta con valor `v`. | `persona.setdefault(\"ciudad\", \"Madrid\")` |\n"
   ]
  },
  {
   "cell_type": "markdown",
   "id": "df09439e",
   "metadata": {},
   "source": [
    "# 4. CONDICIONALES `(if, elif, else)`\n",
    "\n",
    "## 🎯4.1. Definición\n",
    "\n",
    "Los **condicionales** son estructuras de control de flujo que permiten la ejecución selectiva de bloques de código basada en la evaluación de expresiones booleanas (True/False)\n",
    "\n",
    "> 💡Los condicionales permiten que nuestro programa tome decisiones según ciertas condiciones.  \n",
    "\n",
    "> 💡 **¿Por qué son importantes?**  \n",
    "> Los condicionales son fundamentales para filtrar datos, validar información y tomar decisiones automáticamente en análisis de datos."
   ]
  },
  {
   "cell_type": "markdown",
   "id": "bf1f982d",
   "metadata": {},
   "source": [
    "## 🏗️ 4.2. Estructura de los Condicionales\n",
    "\n",
    "| Palabra Clave | Función | Ejemplo |\n",
    "|---------------|---------|---------|\n",
    "| **`if`** | Se ejecuta si la condición es verdadera | `if edad >= 18:` |\n",
    "| **`elif`** | Se ejecuta si las condiciones anteriores no se cumplieron y esta sí | `elif edad >= 13:` |\n",
    "| **`else`** | Se ejecuta si ninguna condición anterior se cumple | `else:` |\n",
    "\n",
    "---"
   ]
  },
  {
   "cell_type": "markdown",
   "id": "01cfdd03",
   "metadata": {},
   "source": [
    "## 🔍 4.3. Ejemplos Prácticos\n",
    "\n",
    "### 4.3.1 Condicional Simple\n"
   ]
  },
  {
   "cell_type": "code",
   "execution_count": 57,
   "id": "d49aec98",
   "metadata": {},
   "outputs": [
    {
     "name": "stdout",
     "output_type": "stream",
     "text": [
      "La persona de 30 años es mayor de edad\n",
      "Categoría: Adulto\n"
     ]
    }
   ],
   "source": [
    "# Ejemplo: Verificar si una persona es mayor de edad\n",
    "edad = 30\n",
    "\n",
    "if edad >= 18:\n",
    "    print(f\"La persona de {edad} años es mayor de edad\")\n",
    "    categoria = \"Adulto\"\n",
    "else:\n",
    "    print(f\"La persona de {edad} años es menor de edad\")\n",
    "    categoria = \"Menor\"\n",
    "\n",
    "print(f\"Categoría: {categoria}\")\n"
   ]
  },
  {
   "cell_type": "markdown",
   "id": "f75c7cda",
   "metadata": {},
   "source": [
    "### 4.3.2 Condicional Múltiple\n"
   ]
  },
  {
   "cell_type": "code",
   "execution_count": 39,
   "id": "4d26085b",
   "metadata": {},
   "outputs": [
    {
     "name": "stdout",
     "output_type": "stream",
     "text": [
      "Una persona de 25 años es: Adulto\n"
     ]
    }
   ],
   "source": [
    "# Ejemplo: Categorizar personas por edad\n",
    "edad = 25\n",
    "\n",
    "if edad < 13: #si es menor de 13\n",
    "    categoria = \"Niño\"\n",
    "elif edad < 18: #si no es menor de 13 pero si es menor de 18\n",
    "    categoria = \"Adolescente\"\n",
    "elif edad < 65: #si no es menor de 18 pero si es menor de 65\n",
    "    categoria = \"Adulto\"\n",
    "else:\n",
    "    categoria = \"Adulto Mayor\" #si no es ninguna de las anteriores\n",
    "\n",
    "print(f\"Una persona de {edad} años es: {categoria}\")"
   ]
  },
  {
   "cell_type": "code",
   "execution_count": 40,
   "id": "bbb13f8b",
   "metadata": {},
   "outputs": [
    {
     "name": "stdout",
     "output_type": "stream",
     "text": [
      "✅ Acceso permitido: Usuario adulto y registrado\n",
      "Nivel de acceso: Completo\n"
     ]
    }
   ],
   "source": [
    "# Ejemplo: Verificar acceso a una plataforma\n",
    "edad = 20\n",
    "registrado = True\n",
    "\n",
    "if edad >= 18:\n",
    "    if registrado:\n",
    "        print(\"✅ Acceso permitido: Usuario adulto y registrado\")\n",
    "        acceso = \"Completo\"\n",
    "    else:\n",
    "        print(\"⚠️ Debe registrarse primero\")\n",
    "        acceso = \"Limitado\"\n",
    "else:\n",
    "    print(\"❌ Acceso denegado: Menor de edad\")\n",
    "    acceso = \"Denegado\"\n",
    "\n",
    "print(f\"Nivel de acceso: {acceso}\")"
   ]
  },
  {
   "cell_type": "markdown",
   "id": "2ba27afe",
   "metadata": {},
   "source": [
    "### 4.3.4 Operadores Lógicos en Condicionales"
   ]
  },
  {
   "cell_type": "code",
   "execution_count": 45,
   "id": "0151ee25",
   "metadata": {},
   "outputs": [
    {
     "name": "stdout",
     "output_type": "stream",
     "text": [
      "✅ Puede recibir newsletters\n"
     ]
    }
   ],
   "source": [
    "# Ejemplo: Múltiples condiciones\n",
    "nombre = \"Ana\"\n",
    "edad = 30\n",
    "email = \"ana@gmail.com\"\n",
    "\n",
    "# Usando AND para verificar dos condiciones\n",
    "if edad >= 18 and len(email) > 0: #longitud del email mayor que 0 para verificar que no está vacío\n",
    "    print(\"✅ Puede recibir newsletters\")\n",
    "\n",
    "# Usando OR verificar al menos una condición\n",
    "if edad < 18 or not email: #uso de not para verificar que el email está vacío\n",
    "    print(\"⚠️ Verificar datos antes de proceder\")\n"
   ]
  },
  {
   "cell_type": "code",
   "execution_count": 49,
   "id": "fe2fb58d",
   "metadata": {},
   "outputs": [
    {
     "name": "stdout",
     "output_type": "stream",
     "text": [
      "✅ azul está en los favoritos\n"
     ]
    }
   ],
   "source": [
    "# Operador IN para listas para comprobar pertenencia\n",
    "colores_favoritos = [\"azul\", \"verde\", \"rojo\"]\n",
    "color_seleccionado = \"azul\"\n",
    "\n",
    "if color_seleccionado in colores_favoritos:\n",
    "    print(f\"✅ {color_seleccionado} está en los favoritos\")\n",
    "else:\n",
    "    print(f\"❌ {color_seleccionado} no está en los favoritos\")"
   ]
  },
  {
   "cell_type": "markdown",
   "id": "cae9e590",
   "metadata": {},
   "source": [
    "# 🔄 5. BUCLES\n",
    "\n",
    "## 🎯 5.1. Definición\n",
    "\n",
    "Los **bucles** (loops) nos permiten repetir un bloque de código múltiples veces de forma automática. En Python tenemos dos tipos principales: `for` y `while`.\n",
    "\n",
    "> 💡 **¿Para qué sirven?**  \n",
    "> Son esenciales para procesar listas de datos, realizar cálculos repetitivos y automatizar tareas en análisis de datos."
   ]
  },
  {
   "cell_type": "markdown",
   "id": "89e7efd1",
   "metadata": {},
   "source": [
    "## 🏗️ 5.2. Tipos de Bucles\n",
    "\n",
    "| Tipo | Uso Principal | Cuándo Usarlo |\n",
    "|------|---------------|---------------|\n",
    "| **`for`** | Iterar sobre secuencias (listas, tuplas, diccionarios) | Cuando sabes cuántas veces repetir |\n",
    "| **`while`** | Repetir mientras una condición sea verdadera | Cuando no sabes cuántas iteraciones necesitas |\n"
   ]
  },
  {
   "cell_type": "markdown",
   "id": "7b711d8a",
   "metadata": {},
   "source": [
    "## 🔍 5.3. Bucles FOR"
   ]
  },
  {
   "cell_type": "markdown",
   "id": "a863ee07",
   "metadata": {},
   "source": [
    "### 5.3.1 Iterar sobre Listas"
   ]
  },
  {
   "cell_type": "code",
   "execution_count": 75,
   "id": "a5fb2088",
   "metadata": {},
   "outputs": [
    {
     "name": "stdout",
     "output_type": "stream",
     "text": [
      "📋 Lista de personas registradas:\n",
      "- Ana\n",
      "- Luis\n",
      "- María\n",
      "- Carlos\n"
     ]
    }
   ],
   "source": [
    "# Ejemplo: Procesar lista de nombres\n",
    "personas = [\"Ana\", \"Luis\", \"María\", \"Carlos\"]\n",
    "\n",
    "print(\"📋 Lista de personas registradas:\")\n",
    "for persona in personas: \n",
    "    print(f\"- {persona}\")\n",
    "\n",
    "#lo que va justo después del for es la variable que toma cada valor de la lista en cada iteración. generalmente se usa el singular del nombre de la lista, pero no es obligatorio"
   ]
  },
  {
   "cell_type": "code",
   "execution_count": 76,
   "id": "0b97da30",
   "metadata": {},
   "outputs": [
    {
     "name": "stdout",
     "output_type": "stream",
     "text": [
      "\n",
      "📋 Lista numerada:\n",
      "1: Ana\n",
      "2: Luis\n",
      "3: María\n",
      "4: Carlos\n"
     ]
    }
   ],
   "source": [
    "# Con índices usando enumerate(). enumerate es una función que añade un contador a un iterable y lo devuelve en forma de objeto enumerado\n",
    "print(\"\\n📋 Lista numerada:\")\n",
    "for indice, persona in enumerate(personas, 1): #con el 1 indicamos que el índice empieza en 1 en lugar de 0\n",
    "    print(f\"{indice}: {persona}\")"
   ]
  },
  {
   "cell_type": "markdown",
   "id": "fd6e96f6",
   "metadata": {},
   "source": [
    "### 5.3.2 Iterar sobre Diccionarios"
   ]
  },
  {
   "cell_type": "code",
   "execution_count": 78,
   "id": "a0992f5f",
   "metadata": {},
   "outputs": [],
   "source": [
    "# Ejemplo: Procesar información de una persona\n",
    "# Creamos un diccionario (como una ficha personal)\n",
    "# Un diccionario tiene \"claves\" y \"valores\"\n",
    "# Formato: \"clave\": \"valor\"\n",
    "personas = {\n",
    "    \"persona 1\": {\n",
    "        \"nombre\": \"ana\",\n",
    "        \"edad\": 30,\n",
    "        \"altura\": 1.65,\n",
    "        \"ciudad\": \"Madrid\"\n",
    "    },\n",
    "    \"persona 2\": {\n",
    "        \"nombre\": \"luis\",\n",
    "        \"edad\": 28,\n",
    "        \"altura\": 1.80,\n",
    "        \"ciudad\": \"Barcelona\"\n",
    "    }\n",
    "}\n",
    "\n"
   ]
  },
  {
   "cell_type": "code",
   "execution_count": 79,
   "id": "32f638f5",
   "metadata": {},
   "outputs": [
    {
     "name": "stdout",
     "output_type": "stream",
     "text": [
      "👤 Información personal:\n",
      "Persona 1: {'nombre': 'ana', 'edad': 30, 'altura': 1.65, 'ciudad': 'Madrid'}\n",
      "Persona 2: {'nombre': 'luis', 'edad': 28, 'altura': 1.8, 'ciudad': 'Barcelona'}\n"
     ]
    }
   ],
   "source": [
    "# .items() nos da TANTO la clave COMO el valor de cada elemento\n",
    "# Es como decir: \"dame cada etiqueta y su contenido\"\n",
    "print(\"👤 Información personal:\")\n",
    "for clave, valor in personas.items(): #clave y valor son variables que toman cada par clave-valor en cada iteración\n",
    "    print(f\"{clave.capitalize()}: {valor}\") #capitalize pone la primera letra en mayúscula\n",
    "\n"
   ]
  },
  {
   "cell_type": "code",
   "execution_count": 67,
   "id": "1f02ed3d",
   "metadata": {},
   "outputs": [
    {
     "name": "stdout",
     "output_type": "stream",
     "text": [
      "\n",
      "🗂️ Campos disponibles:\n",
      "- persona 1\n",
      "- persona 2\n"
     ]
    }
   ],
   "source": [
    "# Solo las claves\n",
    "print(\"\\n🗂️ Campos disponibles:\")\n",
    "for campo in personas.keys():\n",
    "    print(f\"- {campo}\")"
   ]
  },
  {
   "cell_type": "markdown",
   "id": "c18a8e3b",
   "metadata": {},
   "source": [
    "### 5.3.3 Bucles con Range"
   ]
  },
  {
   "cell_type": "markdown",
   "id": "d69f6979",
   "metadata": {},
   "source": [
    "> Con los bucles con range(), recorremos listas usando sus posiciones. Esto es muy útil para mostrar o trabajar con cada elemento uno por uno."
   ]
  },
  {
   "cell_type": "code",
   "execution_count": null,
   "id": "d67ff733",
   "metadata": {},
   "outputs": [
    {
     "name": "stdout",
     "output_type": "stream",
     "text": [
      "📊 Reporte de edades:\n",
      "Persona 1: 25 años\n",
      "Persona 2: 30 años\n",
      "Persona 3: 35 años\n",
      "Persona 4: 40 años\n",
      "Persona 5: 45 años\n"
     ]
    }
   ],
   "source": [
    "# Ejemplo: Generar reportes numerados\n",
    "print(\"📊 Reporte de edades:\")\n",
    "edades = [25, 30, 35, 40, 45]\n",
    "\n",
    "for i in range(len(edades)): # i va tomando los valores de posición de la lista; len indica cuántos elementos hay en la lista; len(edades) = 5, entonces range(5)\n",
    "    print(f\"Persona {i+1}: {edades[i]} años\") \n",
    "\n"
   ]
  },
  {
   "cell_type": "markdown",
   "id": "eee42cb8",
   "metadata": {},
   "source": [
    "🧩 Explicación paso a paso\n",
    "\n",
    "Para cada elemento de la lista edades, Python genera un número que representa su lugar en la lista: lo obtenemos con range(len(edades)).\n",
    "\n",
    "La variable i es el índice, es decir, va almacenando el número de posición de cada elemento en la lista.\n",
    "\n",
    "En este caso, i tomará los valores: 0, 1, 2, 3, 4 (porque hay 5 elementos).\n",
    "\n",
    "En cada vuelta del bucle, Python hace lo siguiente:\n",
    "\n",
    "Usa i para acceder a la posición correspondiente de la lista: edades[i].\n",
    "\n",
    "Crea un texto con el número de persona: usamos i+1 para que empiece desde 1, no desde 0.\n",
    "\n",
    "Imprime ese texto con print().\n",
    "\n",
    "Repite el proceso con el siguiente valor de i.\n",
    "\n",
    "✅ Esto se repite automáticamente hasta que no quedan más elementos por revisar en la lista."
   ]
  },
  {
   "cell_type": "code",
   "execution_count": null,
   "id": "8b6ec598",
   "metadata": {},
   "outputs": [],
   "source": [
    "# Rango específico\n",
    "print(\"\\n🎯 Edades en rango de interés:\")\n",
    "for edad in range(25, 46, 5):  # de 25 a 45, de 5 en 5\n",
    "    print(f\"Grupo de {edad} años\")"
   ]
  },
  {
   "cell_type": "markdown",
   "id": "a6910359",
   "metadata": {},
   "source": [
    "## 🔄 5.4. Bucles WHILE\n",
    "\n",
    "### 5.4.1 Bucle While Básico\n",
    "\n",
    "> 💡 **¿Cuándo usar `while`?** \n",
    "> Cuando no sabes cuántas veces necesitas repetir una acción, pero sí la condición que debe cumplirse para continuar."
   ]
  },
  {
   "cell_type": "code",
   "execution_count": 84,
   "id": "b4f9e6e3",
   "metadata": {},
   "outputs": [
    {
     "name": "stdout",
     "output_type": "stream",
     "text": [
      "✅ Encontrada edad 40 en posición 4\n"
     ]
    }
   ],
   "source": [
    "# Ejemplo: Contar hasta encontrar una edad específica\n",
    "edades = [20, 25, 30, 35, 40]\n",
    "edad_buscada = 40\n",
    "contador = 0 #variable que se va a utilizar como contador del indice de la lista y empezará en 0\n",
    "\n",
    "while contador < len(edades): #mientras que el contador sea menor que la longitud de la lista, porque no puede llegar a 6 si solo hay 5 elementos\n",
    "    if edades[contador] == edad_buscada: #si el elemento de la lista en la posición contador es igual a la edad buscada\n",
    "        print(f\"✅ Encontrada edad {edad_buscada} en posición {contador}\") #se imprimirá esto en pantalla\n",
    "        break\n",
    "    contador += 1\n",
    "else:\n",
    "    print(f\"❌ No se encontró la edad {edad_buscada}\")"
   ]
  },
  {
   "cell_type": "markdown",
   "id": "45771f65",
   "metadata": {},
   "source": [
    "### 5.4.2 Control de Bucles"
   ]
  },
  {
   "cell_type": "markdown",
   "id": "aa0e9c2a",
   "metadata": {},
   "source": [
    "Control de bucles: `continue` y `break`\n",
    "\n",
    "En Python, cuando usamos bucles (for o while) a veces necesitamos modificar el flujo normal del bucle. Estos comandos permiten controlar mejor cómo se ejecuta un bucle, evitando procesar datos innecesarios o saliendo del bucle cuando se cumple cierta condición.\n",
    "\n",
    "- `continue`: sirve para saltar la vuelta actual del bucle y pasar a la siguiente.\n",
    "\n",
    "Útil cuando quieres ignorar ciertos elementos sin salir del bucle completo.\n",
    "\n",
    "- `break`: sirve para detener completamente el bucle, sin mirar los elementos restantes.\n",
    "\n",
    "Útil cuando has encontrado lo que buscabas o hay una condición que hace que no tenga sentido seguir.\n",
    "\n"
   ]
  },
  {
   "cell_type": "code",
   "execution_count": 94,
   "id": "dc09d1da",
   "metadata": {},
   "outputs": [],
   "source": [
    "# Ejemplo: Procesamiento selectivo con continue y break\n",
    "personas_datos = [\n",
    "    {\"nombre\": \"Ana\", \"edad\": 17},\n",
    "    {\"nombre\": \"Luis\", \"edad\": 25},\n",
    "    {\"nombre\": \"María\", \"edad\": 46},\n",
    "    {\"nombre\": \"Carlos\", \"edad\": 16}\n",
    "]"
   ]
  },
  {
   "cell_type": "code",
   "execution_count": 97,
   "id": "4c911033",
   "metadata": {},
   "outputs": [
    {
     "name": "stdout",
     "output_type": "stream",
     "text": [
      "🔍 Procesando solo adultos:\n",
      "⏩ Saltando Ana (menor de edad)\n",
      "✅ Procesando Luis: 25 años\n",
      "✅ Procesando María: 46 años\n",
      "⏩ Saltando Carlos (menor de edad)\n"
     ]
    }
   ],
   "source": [
    "print(\"🔍 Procesando solo adultos:\")\n",
    "for persona in personas_datos:\n",
    "    if persona[\"edad\"] < 18:\n",
    "        print(f\"⏩ Saltando {persona['nombre']} (menor de edad)\")\n",
    "        continue\n",
    "    \n",
    "    if persona[\"edad\"] > 60:\n",
    "        print(\"🛑 Procesamiento detenido (edad muy alta)\")\n",
    "        break\n",
    "    \n",
    "    print(f\"✅ Procesando {persona['nombre']}: {persona['edad']} años\")"
   ]
  },
  {
   "cell_type": "markdown",
   "id": "1e244ed7",
   "metadata": {},
   "source": [
    "Recorremos cada persona de la lista una por una.\n",
    "\n",
    "Ana, 17 → menor de edad → continue → pasamos a la siguiente.\n",
    "\n",
    "Luis, 25 → adulto → procesamos → imprime ✅ Luis.\n",
    "\n",
    "María, 30 → adulto → procesamos → imprime ✅ María.\n",
    "\n",
    "Carlos, 16 → menor de edad → continue → termina el bucle (última persona).\n",
    "\n",
    "Nota: en este ejemplo no hay nadie mayor de 60, así que break no se activa."
   ]
  },
  {
   "cell_type": "markdown",
   "id": "e91985f9",
   "metadata": {},
   "source": [
    "## 📊 5.5. Tabla Comparativa: FOR vs FOR con RANGE vs FOR con ENUMERATE vs WHILE\n",
    "\n",
    "| **Aspecto** | **FOR Simple** | **FOR con RANGE** | **FOR con ENUMERATE** | **WHILE** |\n",
    "|-------------|----------------|-------------------|-----------------------|-----------|\n",
    "| **📝 Sintaxis** | `for item in lista:` | `for i in range(n):` | `for i, item in enumerate(lista):` | `while condicion:` |\n",
    "| **🎯 Uso Principal** | Recorrer elementos directamente | Trabajar con índices/posiciones | Obtener índice Y elemento | Repetir hasta que se cumpla condición |\n",
    "| **📍 Control de Posición** | ❌ No tienes el índice | ✅ Tienes el índice (i) | ✅ Tienes índice e item | ⚠️ Debes manejarlo manualmente |\n",
    "| **🔗 Acceso al Elemento** | ✅ Directo (item) | ⚠️ Indirecto (lista[i]) | ✅ Directo (item) | ⚠️ Indirecto (lista[i]) |\n",
    "| **🔢 Número de Iteraciones** | ✅ Automático (tamaño de lista) | ✅ Definido por range() | ✅ Automático (tamaño de lista) | ⚠️ Depende de la condición |\n",
    "| **🛡️ Seguridad** | ✅ Muy seguro | ✅ Seguro | ✅ Muy seguro | ⚠️ Riesgo de bucle infinito |\n",
    "| **📖 Legibilidad** | ✅ Muy fácil de leer | ✅ Fácil de leer | ✅ Muy fácil de leer | ⚠️ Más complejo |\n",
    "| **⚡ Flexibilidad** | ⚠️ Limitada | ✅ Alta | ✅ Alta | ✅ Muy alta |\n"
   ]
  },
  {
   "cell_type": "markdown",
   "id": "5a7137ac",
   "metadata": {},
   "source": [
    "# ⚙️ 6. FUNCIONES (Avanzado)\n",
    "\n",
    "## 🎯 6.1. Definición\n",
    "\n",
    "Una **función** es un bloque de código reutilizable que realiza una tarea específica. Las funciones nos ayudan a organizar nuestro código y evitar repeticiones.\n",
    "\n",
    "> 💡 **¿Por qué usar funciones?**  \n",
    "> - Reutilización de código\n",
    "> - Organización y claridad\n",
    "> - Facilitan el testing y mantenimiento\n",
    "> - Permiten trabajar en equipo más eficientemente"
   ]
  },
  {
   "cell_type": "markdown",
   "id": "fb58dbbc",
   "metadata": {},
   "source": [
    "## 🏗️ 6.2. Estructura de una Función"
   ]
  },
  {
   "cell_type": "code",
   "execution_count": null,
   "id": "dee8f9f2",
   "metadata": {},
   "outputs": [],
   "source": [
    "def nombre_funcion(parametros):\n",
    "    \"\"\"\n",
    "    Docstring: Descripción de qué hace la función\n",
    "    \"\"\"\n",
    "    # Cuerpo de la función\n",
    "    resultado = # alguna operación\n",
    "    return resultado  "
   ]
  },
  {
   "cell_type": "markdown",
   "id": "3fcb8530",
   "metadata": {},
   "source": [
    "## 🔍 6.3. Ejemplos Prácticos\n",
    "\n",
    "### 6.3.1 Función Simple sin Parámetros"
   ]
  },
  {
   "cell_type": "code",
   "execution_count": null,
   "id": "886794e2",
   "metadata": {},
   "outputs": [
    {
     "name": "stdout",
     "output_type": "stream",
     "text": [
      "¡Hola! Bienvenido al análisis de datos\n"
     ]
    }
   ],
   "source": [
    "def saludar():\n",
    "    \"\"\"Función que imprime un saludo\"\"\"\n",
    "    print(\"¡Hola! Bienvenido al análisis de datos\")\n",
    "\n",
    "# Llamada a la función\n",
    "saludar()\n",
    "\n",
    "#la función saludar no tiene parámetros, por eso los paréntesis están vacíos"
   ]
  },
  {
   "cell_type": "markdown",
   "id": "e7bd3599",
   "metadata": {},
   "source": [
    "### 6.3.2 Función con Parámetros"
   ]
  },
  {
   "cell_type": "code",
   "execution_count": 100,
   "id": "122e70a0",
   "metadata": {},
   "outputs": [],
   "source": [
    "def presentar_persona(nombre, edad): #a la función presentar_persona se le deben indicar dos parámetros: nombre y edad\n",
    "    \"\"\"\n",
    "    Función que presenta a una persona\n",
    "    \n",
    "    Args:\n",
    "        nombre (str): Nombre de la persona\n",
    "        edad (int): Edad de la persona\n",
    "    \"\"\"\n",
    "    print(f\"👤 Nombre: {nombre}\")\n",
    "    print(f\"🎂 Edad: {edad} años\")\n",
    "    \n",
    "    if edad >= 18:\n",
    "        print(\"✅ Mayor de edad\")\n",
    "    else:\n",
    "        print(\"⚠️ Menor de edad\")\n"
   ]
  },
  {
   "cell_type": "code",
   "execution_count": 105,
   "id": "cd06e0be",
   "metadata": {},
   "outputs": [
    {
     "name": "stdout",
     "output_type": "stream",
     "text": [
      "👤 Nombre: Ana\n",
      "🎂 Edad: 25 años\n",
      "✅ Mayor de edad\n",
      "--------------------\n",
      "👤 Nombre: Luis\n",
      "🎂 Edad: 16 años\n",
      "⚠️ Menor de edad\n"
     ]
    }
   ],
   "source": [
    "# Llamadas a la función\n",
    "presentar_persona(\"Ana\", 25)\n",
    "print(\"-\" * 20)\n",
    "presentar_persona(\"Luis\", 16)\n"
   ]
  },
  {
   "cell_type": "markdown",
   "id": "55df8499",
   "metadata": {},
   "source": [
    "### 6.3.3 Función con Valor de Retorno"
   ]
  },
  {
   "cell_type": "code",
   "execution_count": 106,
   "id": "ce9bbd5d",
   "metadata": {},
   "outputs": [],
   "source": [
    "def calcular_categoria_edad(edad):\n",
    "    \"\"\"\n",
    "    Determina la categoría de una persona según su edad\n",
    "    \n",
    "    Args:\n",
    "        edad (int): Edad de la persona\n",
    "    \n",
    "    Returns:\n",
    "        str: Categoría correspondiente\n",
    "    \"\"\"\n",
    "    if edad < 13:\n",
    "        return \"Niño\"\n",
    "    elif edad < 18:\n",
    "        return \"Adolescente\"\n",
    "    elif edad < 65:\n",
    "        return \"Adulto\"\n",
    "    else:\n",
    "        return \"Adulto Mayor\""
   ]
  },
  {
   "cell_type": "code",
   "execution_count": 108,
   "id": "23498c13",
   "metadata": {},
   "outputs": [
    {
     "name": "stdout",
     "output_type": "stream",
     "text": [
      "Edad 10: Niño\n",
      "Edad 16: Adolescente\n",
      "Edad 25: Adulto\n",
      "Edad 70: Adulto Mayor\n"
     ]
    }
   ],
   "source": [
    "# Usando la función\n",
    "edades_test = [10, 16, 25, 70]\n",
    "\n",
    "for edad in edades_test: #con el bucle recorremos la lista de edades\n",
    "    categoria = calcular_categoria_edad(edad) #para cada edad llamamos a la función calcular_categoria_edad y guardamos el resultado en la variable categoria\n",
    "    print(f\"Edad {edad}: {categoria}\") #imprimimos la edad y su categoría correspondiente"
   ]
  },
  {
   "cell_type": "markdown",
   "id": "aeecd5e5",
   "metadata": {},
   "source": [
    "### 6.3.4 Función con Parámetros por Defecto"
   ]
  },
  {
   "cell_type": "code",
   "execution_count": 110,
   "id": "0417c146",
   "metadata": {},
   "outputs": [
    {
     "name": "stdout",
     "output_type": "stream",
     "text": [
      "👥 Perfiles creados:\n",
      "\n",
      "Usuario 1: {'nombre': 'Ana', 'edad': 25, 'ciudad': 'Madrid', 'registrado': True, 'categoria': 'Adulto'}\n",
      "\n",
      "Usuario 2: {'nombre': 'Luis', 'edad': 30, 'ciudad': 'Barcelona', 'registrado': True, 'categoria': 'Adulto'}\n",
      "\n",
      "Usuario 3: {'nombre': 'María', 'edad': 22, 'ciudad': 'Valencia', 'registrado': False, 'categoria': 'Adulto'}\n"
     ]
    }
   ],
   "source": [
    "def crear_perfil_usuario(nombre, edad, ciudad=\"Madrid\", registrado=True):\n",
    "    \"\"\"\n",
    "    Crea un perfil de usuario con valores por defecto en caso de no proporcionarlos.\n",
    "    \n",
    "    Args:\n",
    "        nombre (str): Nombre del usuario\n",
    "        edad (int): Edad del usuario\n",
    "        ciudad (str): Ciudad (por defecto Madrid)\n",
    "        registrado (bool): Estado de registro (por defecto True)\n",
    "    \n",
    "    Returns:\n",
    "        dict: Diccionario con el perfil del usuario\n",
    "    \"\"\"\n",
    "    perfil = {\n",
    "        \"nombre\": nombre,\n",
    "        \"edad\": edad,\n",
    "        \"ciudad\": ciudad,\n",
    "        \"registrado\": registrado,\n",
    "        \"categoria\": calcular_categoria_edad(edad)\n",
    "    }\n",
    "    \n",
    "    return perfil\n",
    "\n",
    "# Diferentes formas de llamar la función\n",
    "usuario1 = crear_perfil_usuario(\"Ana\", 25) # ciudad y registrado toman valores por defecto\n",
    "usuario2 = crear_perfil_usuario(\"Luis\", 30, \"Barcelona\") #ciudad se indica, registrado toma valor por defecto\n",
    "usuario3 = crear_perfil_usuario(\"María\", 22, \"Valencia\", False) #todos los parámetros se indican\n",
    "\n",
    "print(\"👥 Perfiles creados:\")\n",
    "for i, usuario in enumerate([usuario1, usuario2, usuario3], 1): #para cada usuario en la lista de usuarios, con índice empezando en 1 \n",
    "    print(f\"\\nUsuario {i}: {usuario}\") #imprimimos el índice y el perfil del usuario"
   ]
  },
  {
   "cell_type": "markdown",
   "id": "25d14dc8",
   "metadata": {},
   "source": [
    "### 6.3.5 Función que Procesa Listas"
   ]
  },
  {
   "cell_type": "code",
   "execution_count": 111,
   "id": "4bb5e6b4",
   "metadata": {},
   "outputs": [],
   "source": [
    "def analizar_edades(lista_edades):\n",
    "    \"\"\"\n",
    "    Analiza una lista de edades y devuelve estadísticas básicas\n",
    "    \n",
    "    Args:\n",
    "        lista_edades (list): Lista de edades\n",
    "    \n",
    "    Returns:\n",
    "        dict: Diccionario con estadísticas\n",
    "    \"\"\"\n",
    "    if not lista_edades:\n",
    "        return {\"error\": \"Lista vacía\"}\n",
    "    \n",
    "    estadisticas = {\n",
    "        \"total_personas\": len(lista_edades),\n",
    "        \"edad_minima\": min(lista_edades),\n",
    "        \"edad_maxima\": max(lista_edades),\n",
    "        \"edad_promedio\": sum(lista_edades) / len(lista_edades),\n",
    "        \"mayores_edad\": len([edad for edad in lista_edades if edad >= 18]),\n",
    "        \"menores_edad\": len([edad for edad in lista_edades if edad < 18])\n",
    "    }\n",
    "    \n",
    "    return estadisticas\n",
    "\n"
   ]
  },
  {
   "cell_type": "code",
   "execution_count": 115,
   "id": "0b6ed8a7",
   "metadata": {},
   "outputs": [
    {
     "data": {
      "text/plain": [
       "{'total_personas': 8,\n",
       " 'edad_minima': 16,\n",
       " 'edad_maxima': 45,\n",
       " 'edad_promedio': 26.125,\n",
       " 'mayores_edad': 6,\n",
       " 'menores_edad': 2}"
      ]
     },
     "execution_count": 115,
     "metadata": {},
     "output_type": "execute_result"
    }
   ],
   "source": [
    "# Ejemplo de uso\n",
    "edades_grupo = [16, 25, 30, 17, 45, 22, 19, 35]\n",
    "resultado = analizar_edades(edades_grupo) #almacena el resultado de la función en la variable resultado como un diccionario\n",
    "\n",
    "resultado"
   ]
  },
  {
   "cell_type": "code",
   "execution_count": 117,
   "id": "b1d1df9d",
   "metadata": {},
   "outputs": [
    {
     "name": "stdout",
     "output_type": "stream",
     "text": [
      "📊 Análisis del grupo:\n",
      "Total Personas: 8\n",
      "Edad Minima: 16\n",
      "Edad Maxima: 45\n",
      "Edad Promedio: 26.1\n",
      "Mayores Edad: 6\n",
      "Menores Edad: 2\n"
     ]
    }
   ],
   "source": [
    "#Podemos hacer un print para mostrar el resultado de forma formateada\n",
    "print(\"📊 Análisis del grupo:\")\n",
    "for clave, valor in resultado.items(): #recorremos el diccionario resultado con un bucle for para obtener cada par clave-valor\n",
    "    if clave == \"edad_promedio\": #se establece un formato especial para la edad promedio\n",
    "        print(f\"{clave.replace('_', ' ').title()}: {valor:.1f}\") #se reemplazan los guiones bajos por espacios y se pone la primera letra de cada palabra en mayúscula; el valor se muestra con un decimal\n",
    "    else:\n",
    "        print(f\"{clave.replace('_', ' ').title()}: {valor}\") #en caso de que sea la edad promerio, se formatean solo los guiones bajos y las mayúsculas"
   ]
  },
  {
   "cell_type": "markdown",
   "id": "64e8d06c",
   "metadata": {},
   "source": [
    "## 🎯 6.4. Funciones Lambda\n",
    "\n",
    "Las funciones lambda son funciones anónimas de una sola línea, útiles para operaciones simples:\n",
    "\n",
    "Estructura:\n",
    "\n",
    "lambda → palabra clave que indica que vamos a crear una función pequeña.\n",
    "\n",
    "argumentos → los valores que recibe la función (puede ser uno o varios, separados por comas).\n",
    "\n",
    "expresión → lo que la función devuelve automáticamente (no se usa return)."
   ]
  },
  {
   "cell_type": "code",
   "execution_count": 123,
   "id": "f7162364",
   "metadata": {},
   "outputs": [],
   "source": [
    "# Función lambda para calcular el cuadrado\n",
    "cuadrado = lambda x: x ** 2"
   ]
  },
  {
   "cell_type": "code",
   "execution_count": 125,
   "id": "fa500b6e",
   "metadata": {},
   "outputs": [
    {
     "name": "stdout",
     "output_type": "stream",
     "text": [
      "El cuadrado de 2 es: 4\n"
     ]
    }
   ],
   "source": [
    "cuadrado_de_2 = cuadrado(2)\n",
    "print(\"El cuadrado de 2 es:\", cuadrado_de_2)"
   ]
  },
  {
   "cell_type": "code",
   "execution_count": 126,
   "id": "e3eb6840",
   "metadata": {},
   "outputs": [
    {
     "name": "stdout",
     "output_type": "stream",
     "text": [
      "Cuadrados: [1, 4, 9, 16, 25]\n"
     ]
    }
   ],
   "source": [
    "# Ejemplo de uso en lista\n",
    "numeros = [1, 2, 3, 4, 5]\n",
    "print(\"Cuadrados:\", [cuadrado(n) for n in numeros]) #aplicamos for in para recorrer la lista de números y aplicar la función cuadrado a cada uno"
   ]
  },
  {
   "cell_type": "code",
   "execution_count": 127,
   "id": "77e21391",
   "metadata": {},
   "outputs": [
    {
     "name": "stdout",
     "output_type": "stream",
     "text": [
      "Mayores de edad: [False, True, True, True]\n"
     ]
    }
   ],
   "source": [
    "# Función lambda para verificar mayoría de edad\n",
    "es_mayor = lambda edad: edad >= 18\n",
    "\n",
    "edades = [16, 18, 25, 30]\n",
    "\n",
    "print(\"Mayores de edad:\", [es_mayor(edad) for edad in edades])"
   ]
  }
 ],
 "metadata": {
  "kernelspec": {
   "display_name": "base",
   "language": "python",
   "name": "python3"
  },
  "language_info": {
   "codemirror_mode": {
    "name": "ipython",
    "version": 3
   },
   "file_extension": ".py",
   "mimetype": "text/x-python",
   "name": "python",
   "nbconvert_exporter": "python",
   "pygments_lexer": "ipython3",
   "version": "3.13.5"
  }
 },
 "nbformat": 4,
 "nbformat_minor": 5
}
