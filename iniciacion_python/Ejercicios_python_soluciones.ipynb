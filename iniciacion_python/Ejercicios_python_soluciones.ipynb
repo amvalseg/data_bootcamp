{
 "cells": [
  {
   "cell_type": "markdown",
   "metadata": {},
   "source": [
    "<div style=\"max-width: 1000px; margin: 0 auto; padding: 20px; text-align: center;\">\n",
    "\n",
    "  <img src=\"img/up.png\" alt=\"Universidad Logo\" width=\"200\"/>\n",
    "  \n",
    "  <h1 style=\"font-size: 2.5em; margin: 10px 0;\">🐍 <strong> Ejercicios de Python de 0 a avanzado</strong></h1>\n",
    "  Estos ejercicios te llevarán paso a paso desde cero hasta convertirte en un verdadero manipulador de datos mediante código.\n",
    "  \n",
    "  <div style=\"background-color: #f8f9fa; padding: 20px; border-radius: 10px; margin: 20px 0;\">\n",
    "    <p style=\"font-size: 1.2em; margin: 10px 0; color: black;\">\n",
    "      Recuerda que cada ejercicio es una oportunidad de aprender algo nuevo. \n",
    "      No te preocupes por los errores: ¡son parte del proceso de aprendizaje!\n",
    "    </p>\n",
    "  </div>\n",
    "\n",
    "  <h3>🧙 <strong>Consejos del Sensei</strong></h3>\n",
    "  <div style=\"background: linear-gradient(135deg, #ff9a9e 0%, #fad0c4 100%); color: black; padding: 20px; border-radius: 15px; margin: 20px 0;\">\n",
    "    <ul style=\"list-style: none; padding-left: 0; margin: 0; text-align: left; font-size: 1.1em;\">\n",
    "      <li style=\"margin: 10px 0;\">1️⃣ <strong>Practica diariamente:</strong> Incluso 15 minutos al día marcan la diferencia</li>\n",
    "      <li style=\"margin: 10px 0;\">2️⃣ <strong>Experimenta libremente:</strong> Modifica los ejercicios y ve qué pasa</li>\n",
    "      <li style=\"margin: 10px 0;\">3️⃣ <strong>Lee el error:</strong> Los mensajes de error son tus amigos, te dicen qué arreglar</li>\n",
    "      <li style=\"margin: 10px 0;\">4️⃣ <strong>Pide ayuda:</strong> La comunidad Python es increíblemente útil</li>\n",
    "      <li style=\"margin: 10px 0;\">5️⃣ <strong>Enseña lo que aprendes:</strong> Explicar conceptos refuerza tu conocimiento</li>\n",
    "    </ul>\n",
    "  </div>\n",
    "\n",
    "  <h3 style=\"margin-top: 30px;\">🎊 <strong>¡El código no es solo lógica, es creatividad pura!</strong> 🎊</h3>\n",
    "\n",
    "  <hr style=\"margin: 30px;\"/>\n",
    "\n",
    "</div>\n"
   ]
  },
  {
   "cell_type": "markdown",
   "metadata": {},
   "source": [
    "## 🎯 **Misión 1: El Laboratorio de Variables**\n",
    "*Donde aprenderás a crear y almacenar información como un científico de datos*"
   ]
  },
  {
   "cell_type": "markdown",
   "metadata": {},
   "source": [
    "### 🧪 **Experimento 1.1: Creando tu Identidad Digital**\n",
    "\n",
    "🎭 Crea tu avatar digital con estas variables:\n",
    "- 🏷️ nombre: ¿Cómo te llamas? (string)\n",
    "- 🎂 edad: ¿Cuántos años tienes? (integer)  \n",
    "- 📏 altura: ¿Cuánto mides en metros? (float)\n",
    "- 🎓 es_estudiante: ¿Estás estudiando? (boolean)\n",
    "- 📚 materias_favoritas: 3 materias que te gustan (list)\n",
    "- 🗂️ mi_perfil: toda tu info en un diccionario (dict)"
   ]
  },
  {
   "cell_type": "code",
   "execution_count": 1,
   "metadata": {},
   "outputs": [],
   "source": [
    "# ✨ Tu código mágico aquí:\n",
    "nombre = \"Ángela\"\n",
    "edad = 30\n",
    "altura = 1.65\n",
    "es_estudiante = True\n",
    "materias_favoritas = [\"Literatura\", \"Física\", \"Programación\"]\n",
    "mi_perfil = {\n",
    "    \"nombre\": nombre,\n",
    "    \"edad\": edad,\n",
    "    \"altura\": altura,\n",
    "    \"es_estudiante\": es_estudiante,\n",
    "    \"materias_favoritas\": materias_favoritas\n",
    "}\n",
    "\n"
   ]
  },
  {
   "cell_type": "code",
   "execution_count": 2,
   "metadata": {},
   "outputs": [
    {
     "name": "stdout",
     "output_type": "stream",
     "text": [
      "{'nombre': 'Ángela', 'edad': 30, 'altura': 1.65, 'es_estudiante': True, 'materias_favoritas': ['Literatura', 'Física', 'Programación']}\n"
     ]
    }
   ],
   "source": [
    "print(mi_perfil)"
   ]
  },
  {
   "cell_type": "markdown",
   "metadata": {},
   "source": [
    "### 🔍 **Experimento 1.2: Detective de Tipos**\n",
    "\n",
    "🕵️ Usa type() para descubrir la identidad secreta de cada variable\n",
    "¿Será un string disfrazado de número? ¡Averígualo!"
   ]
  },
  {
   "cell_type": "code",
   "execution_count": null,
   "metadata": {},
   "outputs": [
    {
     "data": {
      "text/plain": [
       "int"
      ]
     },
     "execution_count": 6,
     "metadata": {},
     "output_type": "execute_result"
    }
   ],
   "source": [
    "#Opción 1\n",
    "type(mi_perfil)\n",
    "type(materias_favoritas)\n",
    "type(es_estudiante)\n",
    "type(altura)\n",
    "type(edad)"
   ]
  },
  {
   "cell_type": "code",
   "execution_count": null,
   "metadata": {},
   "outputs": [],
   "source": [
    "#Opción 2\n",
    "print(f\"Tipo de 'nombre': {type(nombre)}\")\n",
    "print(f\"Tipo de 'edad': {type(edad)}\")\n",
    "print(f\"Tipo de 'altura': {type(altura)}\")\n",
    "print(f\"Tipo de 'es_estudiante': {type(es_estudiante)}\")\n",
    "print(f\"Tipo de 'materias_favoritas': {type(materias_favoritas)}\")\n",
    "print(f\"Tipo de 'mi_perfil': {type(mi_perfil)}\")"
   ]
  },
  {
   "cell_type": "markdown",
   "metadata": {},
   "source": [
    "### ⚡ **Experimento 1.3: La Máquina Transformadora**"
   ]
  },
  {
   "cell_type": "code",
   "execution_count": 10,
   "metadata": {},
   "outputs": [],
   "source": [
    "# 🎭 Transforma estos valores usando tu magia de conversión:\n",
    "super_numero = \"456\"      # 🎯 Conviértelo a entero\n",
    "precio_secreto = \"78.99\"  # 💰 Conviértelo a float  \n",
    "años_exactos = 30.0       # 🔢 Conviértelo a entero\n",
    "codigo_agente = 0o7       # 🕴️ Conviértelo a string"
   ]
  },
  {
   "cell_type": "code",
   "execution_count": null,
   "metadata": {},
   "outputs": [],
   "source": [
    "#Opción 1: declararlos de nuevo. Por ejemplo:\n",
    "precio_secreto = 78.99"
   ]
  },
  {
   "cell_type": "code",
   "execution_count": null,
   "metadata": {},
   "outputs": [],
   "source": [
    "# Opción 2\n",
    "super_numero_int = int(super_numero)\n",
    "precio_secreto_float = float(precio_secreto)\n",
    "años_exactos_int = int(años_exactos)\n",
    "codigo_agente_str = str(codigo_agente)"
   ]
  },
  {
   "cell_type": "markdown",
   "metadata": {},
   "source": [
    "---\n",
    "## 🎨 **Misión 2: El Arte de las Palabras**\n",
    "*Conviértete en un maestro manipulador de texto*"
   ]
  },
  {
   "cell_type": "markdown",
   "metadata": {},
   "source": [
    "### 🎪 **Desafío 2.1: El Gran Espectáculo de Concatenación**"
   ]
  },
  {
   "cell_type": "code",
   "execution_count": 19,
   "metadata": {},
   "outputs": [],
   "source": [
    "# 🎭 Los protagonistas de nuestro show:\n",
    "nombre = \"Alex\"\n",
    "apellido = \"Coder\"\n",
    "edad = 25\n",
    "\n",
    "# 🎬 Crea estos espectáculos:\n",
    "# 1. 🤝 Une nombre y apellido con un abrazo (espacio)\n",
    "# 2. 📢 Crea un anuncio: \"¡Hola mundo! Soy [nombre completo] y tengo [edad] años\"\n",
    "# 3. 🚀 Usa f-strings para crear el mismo anuncio, ¡u otro!, de forma más elegante!\n"
   ]
  },
  {
   "cell_type": "code",
   "execution_count": 20,
   "metadata": {},
   "outputs": [
    {
     "name": "stdout",
     "output_type": "stream",
     "text": [
      "🤝 Nombre completo: Alex Coder\n"
     ]
    }
   ],
   "source": [
    "# 🎨 Tu obra maestra aquí:\n",
    "\n",
    "# 1. 🤝 Une nombre y apellido con un abrazo (espacio)\n",
    "nombre_completo = nombre + \" \" + apellido\n",
    "print(f\"🤝 Nombre completo: {nombre_completo}\")\n"
   ]
  },
  {
   "cell_type": "code",
   "execution_count": 21,
   "metadata": {},
   "outputs": [
    {
     "name": "stdout",
     "output_type": "stream",
     "text": [
      "📢 Anuncio tradicional: ¡Hola mundo! Soy Alex Coder y tengo 25 años\n"
     ]
    }
   ],
   "source": [
    "# 2. 📢 Crea un anuncio: \"¡Hola mundo! Soy [nombre completo] y tengo [edad] años\"\n",
    "anuncio_tradicional = \"¡Hola mundo! Soy \" + nombre_completo + \" y tengo \" + str(edad) + \" años\"\n",
    "print(f\"📢 Anuncio tradicional: {anuncio_tradicional}\")\n",
    "\n"
   ]
  },
  {
   "cell_type": "code",
   "execution_count": 22,
   "metadata": {},
   "outputs": [
    {
     "name": "stdout",
     "output_type": "stream",
     "text": [
      "🚀 Anuncio con f-strings: ¡Hola mundo! Soy Alex Coder y tengo 25 años\n"
     ]
    }
   ],
   "source": [
    "# 3. 🚀 Usa f-strings para crear el mismo anuncio de forma más elegante\n",
    "anuncio_elegante = f\"¡Hola mundo! Soy {nombre_completo} y tengo {edad} años\"\n",
    "print(f\"🚀 Anuncio con f-strings: {anuncio_elegante}\")\n",
    "\n"
   ]
  },
  {
   "cell_type": "code",
   "execution_count": 23,
   "metadata": {},
   "outputs": [
    {
     "name": "stdout",
     "output_type": "stream",
     "text": [
      "✨ Anuncio creativo: 👋 ¡Saludos! Soy Alex Coder, tengo 25 años y amo programar\n",
      "💼 Anuncio profesional: Hola, mi nombre es ALEX CODER, 25 años, desarrollador Python\n"
     ]
    }
   ],
   "source": [
    "# Bonus: Más opciones creativas con f-strings\n",
    "anuncio_creativo = f\"👋 ¡Saludos! Soy {nombre} {apellido}, tengo {edad} años y amo programar\"\n",
    "anuncio_profesional = f\"Hola, mi nombre es {nombre.upper()} {apellido.upper()}, {edad} años, desarrollador Python\"\n",
    "print(f\"✨ Anuncio creativo: {anuncio_creativo}\")\n",
    "print(f\"💼 Anuncio profesional: {anuncio_profesional}\")"
   ]
  },
  {
   "cell_type": "markdown",
   "metadata": {},
   "source": [
    "### 🎭 **Desafío 2.2: La Transformación Mágica de Textos**"
   ]
  },
  {
   "cell_type": "code",
   "execution_count": null,
   "metadata": {},
   "outputs": [],
   "source": [
    "mensaje_loco = \"PyThOn Es EL LeNgUaJe MáS GenIaL DeL UnIvErSo\"\n",
    "\n",
    "# 🎯 Realiza estas transformaciones espectaculares:\n",
    "# 1. 📢 ¡TODO EN MAYÚSCULAS COMO SI GRITARAS!\n",
    "# 2. 🤫 todo en minúsculas como un susurro\n",
    "# 3. 👑 Formato Título Como Un Rey\n",
    "# 4. 📖 Solo la primera letra mayúscula\n",
    "# 5. 🔄 Intercambio mayús-minus (¡efecto espejo!)"
   ]
  },
  {
   "cell_type": "code",
   "execution_count": null,
   "metadata": {},
   "outputs": [],
   "source": [
    "\n",
    "# 🪄 Tu laboratorio de transformaciones:\n",
    "print(f\"Original: {mensaje_loco}\")\n",
    "print(f\"📢 MAYÚSCULAS: {mensaje_loco.upper()}\")\n",
    "print(f\"🤫 minúsculas: {mensaje_loco.lower()}\")\n",
    "print(f\"👑 Formato Título: {mensaje_loco.title()}\")\n",
    "print(f\"📖 Primera mayúscula: {mensaje_loco.capitalize()}\")\n",
    "print(f\"🔄 Intercambio: {mensaje_loco.swapcase()}\")"
   ]
  },
  {
   "cell_type": "markdown",
   "metadata": {},
   "source": [
    "### 🕵️ **Desafío 2.3: El Detective de Palabras**"
   ]
  },
  {
   "cell_type": "code",
   "execution_count": 25,
   "metadata": {},
   "outputs": [],
   "source": [
    "misterio = \"El dragón dorado vuela sobre el castillo, el dragón regresa al amanecer\"\n",
    "\n",
    "# 🔍 Resuelve este misterio:\n",
    "# 1. 🐉 ¿El \"dragón\" está en esta historia?\n",
    "# 2. 🔢 ¿Cuántas veces aparece \"dragón\"?\n",
    "# 3. 🏰 ¿En qué posición aparece \"castillo\" por primera vez?\n",
    "# 4. 🐉 ¿Cuál es la última posición de \"dragón\"?\n",
    "# 5. 🌅 ¿La historia comienza con \"El\"?\n",
    "# 6. 🌅 ¿La historia termina con \"amanecer\"?\n"
   ]
  },
  {
   "cell_type": "code",
   "execution_count": 29,
   "metadata": {},
   "outputs": [
    {
     "data": {
      "text/plain": [
       "True"
      ]
     },
     "execution_count": 29,
     "metadata": {},
     "output_type": "execute_result"
    }
   ],
   "source": [
    "#Opción simple\n",
    "'dragón' in misterio\n",
    "misterio.count('dragón')\n",
    "misterio.find('castillo')\n",
    "misterio.rfind('dragón')\n",
    "misterio.startswith('El')\n",
    "misterio.endswith('amanecer')"
   ]
  },
  {
   "cell_type": "code",
   "execution_count": 26,
   "metadata": {},
   "outputs": [
    {
     "name": "stdout",
     "output_type": "stream",
     "text": [
      "1. ¿'dragón' está en la historia? True\n",
      "2. ¿Cuántas veces aparece 'dragón'? 2\n",
      "3. ¿En qué posición aparece 'castillo' por primera vez? 32\n",
      "4. ¿Cuál es la última posición de 'dragón'? 45\n",
      "5. ¿La historia comienza con 'El'? True\n",
      "6. ¿La historia termina con 'amanecer'? True\n"
     ]
    }
   ],
   "source": [
    "# 🕵️ Tu investigación detectivesca:\n",
    "print(f\"1. ¿'dragón' está en la historia? {'dragón' in misterio}\")\n",
    "print(f\"2. ¿Cuántas veces aparece 'dragón'? {misterio.count('dragón')}\")\n",
    "print(f\"3. ¿En qué posición aparece 'castillo' por primera vez? {misterio.find('castillo')}\")\n",
    "print(f\"4. ¿Cuál es la última posición de 'dragón'? {misterio.rfind('dragón')}\")\n",
    "print(f\"5. ¿La historia comienza con 'El'? {misterio.startswith('El')}\")\n",
    "print(f\"6. ¿La historia termina con 'amanecer'? {misterio.endswith('amanecer')}\")"
   ]
  },
  {
   "cell_type": "markdown",
   "metadata": {},
   "source": [
    "### ✂️ **Desafío 2.4: El Cirujano de Strings**"
   ]
  },
  {
   "cell_type": "code",
   "execution_count": 31,
   "metadata": {},
   "outputs": [],
   "source": [
    "email_misterioso = \"hackerpro@codingninja.com\"\n",
    "telefono_secreto = \"555-123-4567\"\n",
    "\n",
    "# 🔬 Extrae con precisión quirúrgica:\n",
    "# 1. 👤 El nombre de usuario del email (antes del @)\n",
    "# 2. 🌐 El dominio del email (después del @) \n",
    "# 3. 📱 El código de área del teléfono (primeros 3 números)\n",
    "# 4. 🎯 Los primeros 5 caracteres del email\n",
    "# 5. 🎯 Los últimos 4 caracteres del email"
   ]
  },
  {
   "cell_type": "code",
   "execution_count": 32,
   "metadata": {},
   "outputs": [
    {
     "name": "stdout",
     "output_type": "stream",
     "text": [
      "Usuario del email: hackerpro\n",
      "Dominio del email: codingninja.com\n",
      "Código de área del teléfono: 555\n",
      "Primeros 5 caracteres del email: hacke\n",
      "Últimos 4 caracteres del email: .com\n"
     ]
    }
   ],
   "source": [
    "# ⚔️ Tu precisión ninja aquí:\n",
    "usuario_email = email_misterioso.split('@')[0]\n",
    "dominio_email = email_misterioso.split('@')[1]\n",
    "codigo_area_telefono = telefono_secreto.split('-')[0]\n",
    "primeros_5_email = email_misterioso[:5]\n",
    "ultimos_4_email = email_misterioso[-4:]\n",
    "\n",
    "# ⚔️ Tu precisión ninja aquí:\n",
    "print(f\"Usuario del email: {usuario_email}\")\n",
    "print(f\"Dominio del email: {dominio_email}\")\n",
    "print(f\"Código de área del teléfono: {codigo_area_telefono}\")\n",
    "print(f\"Primeros 5 caracteres del email: {primeros_5_email}\")\n",
    "print(f\"Últimos 4 caracteres del email: {ultimos_4_email}\")"
   ]
  },
  {
   "cell_type": "markdown",
   "metadata": {},
   "source": [
    "### 🛠️ **Desafío 2.5: El Taller de Cadenas Avanzado**"
   ]
  },
  {
   "cell_type": "code",
   "execution_count": 34,
   "metadata": {},
   "outputs": [],
   "source": [
    "texto_desprolijo = \"   Programar es súper divertido   \"\n",
    "palabras_sueltas = [\"Código\", \"limpio\", \"es\", \"arte\"]\n",
    "\n",
    "# 🔧 Usa tus herramientas profesionales:\n",
    "# 1. ✨ Limpia los espacios molestos del texto\n",
    "# 2. 🔪 Corta el texto en palabras individuales  \n",
    "# 3. 🔗 Une las palabras sueltas con guiones elegantes\n",
    "# 4. 🔄 Cambia \"divertido\" por \"INCREÍBLE\""
   ]
  },
  {
   "cell_type": "code",
   "execution_count": 35,
   "metadata": {},
   "outputs": [
    {
     "name": "stdout",
     "output_type": "stream",
     "text": [
      "Texto limpio: 'Programar es súper divertido'\n",
      "Palabras sueltas: ['Programar', 'es', 'súper', 'divertido']\n",
      "Texto unido: Código-limpio-es-arte\n",
      "Texto mejorado: 'Programar es súper INCREÍBLE'\n"
     ]
    }
   ],
   "source": [
    "# 🛠️ Tu taller profesional:\n",
    "texto_limpio = texto_desprolijo.strip()\n",
    "palabras_texto = texto_limpio.split()\n",
    "texto_unido = \"-\".join(palabras_sueltas)\n",
    "texto_mejorado = texto_limpio.replace(\"divertido\", \"INCREÍBLE\")\n",
    "print(f\"Texto limpio: '{texto_limpio}'\")\n",
    "print(f\"Palabras sueltas: {palabras_texto}\")\n",
    "print(f\"Texto unido: {texto_unido}\")\n",
    "print(f\"Texto mejorado: '{texto_mejorado}'\")\n"
   ]
  },
  {
   "cell_type": "markdown",
   "metadata": {},
   "source": [
    "---\n",
    "## 🧮 **Misión 3: Los Poderes de los Operadores**\n",
    "*Desbloquea los superpoderes matemáticos y lógicos*"
   ]
  },
  {
   "cell_type": "markdown",
   "metadata": {},
   "source": [
    "### ➕ **Batalla 3.1: Arena Matemática**"
   ]
  },
  {
   "cell_type": "code",
   "execution_count": 37,
   "metadata": {},
   "outputs": [],
   "source": [
    "guerrero_a = 42\n",
    "guerrero_b = 7\n",
    "\n",
    "# ⚔️ ¡Que comience la batalla matemática!\n",
    "# 1. ➕ Suma de fuerzas\n",
    "# 2. ➖ Diferencia de poder  \n",
    "# 3. ✖️ Multiplicación de energía\n",
    "# 4. ➗ División de recursos (con decimales)\n",
    "# 5. 🏴 División entera (sin decimales)\n",
    "# 6. 🎯 El resto de la división (módulo)\n",
    "# 7. 🚀 Potencia explosiva (a^b)\n"
   ]
  },
  {
   "cell_type": "code",
   "execution_count": 39,
   "metadata": {},
   "outputs": [
    {
     "name": "stdout",
     "output_type": "stream",
     "text": [
      "Suma: 49, Resta: 35, Multiplicación: 294, División: 6.0, División entera: 6, Resto: 0\n"
     ]
    }
   ],
   "source": [
    "# ⚔️ Tu campo de batalla:\n",
    "suma_fuerzas = guerrero_a + guerrero_b\n",
    "diferencia_poder = guerrero_a - guerrero_b\n",
    "multiplicacion_energia = guerrero_a * guerrero_b\n",
    "division_recursos = guerrero_a / guerrero_b\n",
    "division_entera = guerrero_a // guerrero_b\n",
    "resto_division = guerrero_a % guerrero_b\n",
    "\n",
    "print(\n",
    "    f\"Suma: {suma_fuerzas}, Resta: {diferencia_poder}, Multiplicación: {multiplicacion_energia}, \"\n",
    "    f\"División: {division_recursos}, División entera: {division_entera}, Resto: {resto_division}\"\n",
    ")"
   ]
  },
  {
   "cell_type": "markdown",
   "metadata": {},
   "source": [
    "### ⚖️ **Batalla 3.2: El Tribunal de Comparaciones**"
   ]
  },
  {
   "cell_type": "code",
   "execution_count": 41,
   "metadata": {},
   "outputs": [],
   "source": [
    "heroe = 50\n",
    "villano = 80  \n",
    "sidekick = 50\n",
    "\n",
    "# 👨‍⚖️ Emite tu veredicto (True/False):\n",
    "# 1. ⚡ ¿El héroe es igual de fuerte que el villano?\n",
    "# 2. ❌ ¿El héroe es diferente del villano?\n",
    "# 3. 📉 ¿El héroe es más débil que el villano?\n",
    "# 4. 📈 ¿El héroe es más fuerte que el villano?\n",
    "# 5. 🤝 ¿El héroe tiene al menos la fuerza del sidekick?\n",
    "# 6. 💪 ¿El villano es al menos tan fuerte como el héroe?\n"
   ]
  },
  {
   "cell_type": "code",
   "execution_count": 42,
   "metadata": {},
   "outputs": [
    {
     "name": "stdout",
     "output_type": "stream",
     "text": [
      "1. ¿Héroe igual a villano? False\n",
      "2. ¿Héroe diferente a villano? True\n",
      "3. ¿Héroe más débil que villano? True\n",
      "4. ¿Héroe más fuerte que villano? False\n",
      "5. ¿Héroe tiene al menos la fuerza del sidekick? True\n",
      "6. ¿Villano es al menos tan fuerte como el héroe? True\n"
     ]
    }
   ],
   "source": [
    "# ⚖️ Tu sala del juicio:\n",
    "print(f\"1. ¿Héroe igual a villano? {heroe == villano}\")\n",
    "print(f\"2. ¿Héroe diferente a villano? {heroe != villano}\")\n",
    "print(f\"3. ¿Héroe más débil que villano? {heroe < villano}\")\n",
    "print(f\"4. ¿Héroe más fuerte que villano? {heroe > villano}\")\n",
    "print(f\"5. ¿Héroe tiene al menos la fuerza del sidekick? {heroe >= sidekick}\")\n",
    "print(f\"6. ¿Villano es al menos tan fuerte como el héroe? {villano >= heroe}\")\n"
   ]
  },
  {
   "cell_type": "markdown",
   "metadata": {},
   "source": [
    "### 🧠 **Batalla 3.3: La Matrix Lógica**"
   ]
  },
  {
   "cell_type": "code",
   "execution_count": 44,
   "metadata": {},
   "outputs": [],
   "source": [
    "poder_fuego = True\n",
    "poder_hielo = False  \n",
    "poder_rayo = True\n",
    "\n",
    "# 🤖 Descifra la matrix lógica:\n",
    "# 1. 🔥❄️ poder_fuego AND poder_hielo\n",
    "# 2. 🔥❄️ poder_fuego OR poder_hielo  \n",
    "# 3. 🚫 NOT poder_fuego\n",
    "# 4. 🌪️ (poder_fuego AND poder_rayo) OR poder_hielo\n",
    "# 5. 🔄 NOT (poder_fuego OR poder_hielo)\n",
    "# 6. ⚡ (poder_fuego AND poder_hielo) OR (poder_rayo AND NOT poder_hielo)\n"
   ]
  },
  {
   "cell_type": "code",
   "execution_count": null,
   "metadata": {},
   "outputs": [
    {
     "name": "stdout",
     "output_type": "stream",
     "text": [
      "1. 🔥❄️ poder_fuego AND poder_hielo: False\n",
      "2. 🔥❄️ poder_fuego OR poder_hielo: True\n",
      "3. 🚫 NOT poder_fuego: False\n",
      "4. 🌪️ (poder_fuego AND poder_rayo) OR poder_hielo: True\n",
      "5. 🔄 NOT (poder_fuego OR poder_hielo): False\n"
     ]
    }
   ],
   "source": [
    "# 🧠 Tu decodificador mental:\n",
    "print(f\"1. 🔥❄️ poder_fuego AND poder_hielo: {poder_fuego and poder_hielo}\")\n",
    "print(f\"2. 🔥❄️ poder_fuego OR poder_hielo: {poder_fuego or poder_hielo}\")\n",
    "print(f\"3. 🚫 NOT poder_fuego: {not poder_fuego}\")\n",
    "print(f\"4. 🌪️ (poder_fuego AND poder_rayo) OR poder_hielo: {(poder_fuego and poder_rayo) or poder_hielo}\")\n",
    "print(f\"5. 🔄 NOT (poder_fuego OR poder_hielo): {not (poder_fuego or poder_hielo)}\")\n"
   ]
  },
  {
   "cell_type": "markdown",
   "metadata": {},
   "source": [
    "🔥❄️ poder_fuego AND poder_hielo → False\n",
    "(solo es True si ambos lo son)\n",
    "\n",
    "🔥❄️ poder_fuego OR poder_hielo → True\n",
    "(basta con que uno sea True)\n",
    "\n",
    "🚫 NOT poder_fuego → False\n",
    "(invierte el valor)\n",
    "\n",
    "🌪️ (poder_fuego AND poder_rayo) OR poder_hielo → True\n",
    "(True AND True → True; True OR False → True)\n",
    "\n",
    "🔄 NOT (poder_fuego OR poder_hielo) → False\n",
    "(True OR False → True; NOT True → False)\n",
    "\n",
    "⚡ (poder_fuego AND poder_hielo) OR (poder_rayo AND NOT poder_hielo) → True\n",
    "(True AND False → False; NOT False → True; True AND True → True; False OR True → True)"
   ]
  },
  {
   "cell_type": "markdown",
   "metadata": {},
   "source": [
    "### 🔄 **Batalla 3.4: Transformaciones de Asignación**"
   ]
  },
  {
   "cell_type": "code",
   "execution_count": 49,
   "metadata": {},
   "outputs": [],
   "source": [
    "puntos = 100\n",
    "\n",
    "# 🎮 Aplica estos power-ups secuenciales:\n",
    "# 1. 🆙 Gana 25 puntos extra\n",
    "# 2. 💥 Duplica tus puntos  \n",
    "# 3. 😵 Pierdes un tercio por una trampa\n",
    "# 4. 🚀 Eleva tus puntos al cuadrado\n",
    "# ¡Muestra tu progreso después de cada transformación!"
   ]
  },
  {
   "cell_type": "code",
   "execution_count": null,
   "metadata": {},
   "outputs": [],
   "source": [
    "# 🎮 Tu consola de juego:\n",
    "puntos += 25\n",
    "print(f\"Después de ganar 25 puntos: {puntos}\")\n"
   ]
  },
  {
   "cell_type": "code",
   "execution_count": null,
   "metadata": {},
   "outputs": [],
   "source": [
    "puntos *= 2\n",
    "print(f\"Después de duplicar puntos: {puntos}\")"
   ]
  },
  {
   "cell_type": "code",
   "execution_count": 50,
   "metadata": {},
   "outputs": [
    {
     "name": "stdout",
     "output_type": "stream",
     "text": [
      "Después de perder un tercio: 67\n"
     ]
    }
   ],
   "source": [
    "#perder un tercio\n",
    "puntos = puntos - (puntos // 3)\n",
    "print(f\"Después de perder un tercio: {puntos}\") "
   ]
  },
  {
   "cell_type": "code",
   "execution_count": 51,
   "metadata": {},
   "outputs": [
    {
     "name": "stdout",
     "output_type": "stream",
     "text": [
      "Después de elevar puntos al cuadrado: 4489\n"
     ]
    }
   ],
   "source": [
    "#puntos al cuadrado\n",
    "puntos **= 2\n",
    "print(f\"Después de elevar puntos al cuadrado: {puntos}\")"
   ]
  },
  {
   "cell_type": "markdown",
   "metadata": {},
   "source": [
    "### 🔍 **Batalla 3.5: Los Detectores Especiales**"
   ]
  },
  {
   "cell_type": "code",
   "execution_count": 53,
   "metadata": {},
   "outputs": [],
   "source": [
    "arsenal_1 = [10, 20, 30]\n",
    "arsenal_2 = [10, 20, 30]  \n",
    "arsenal_gemelo = arsenal_1\n",
    "palabra_clave = \"PYTHON\"\n",
    "numeros_magicos = [1, 3, 5, 7, 9]\n",
    "\n",
    "# 🔍 Usa tus detectores especiales:\n",
    "# 1. 👯 ¿arsenal_1 ES EXACTAMENTE arsenal_2? (identidad)\n",
    "# 2. 🪞 ¿arsenal_1 ES EXACTAMENTE arsenal_gemelo?\n",
    "# 3. ❌ ¿arsenal_1 NO ES arsenal_2?\n",
    "# 4. 📝 ¿La letra \"P\" está EN palabra_clave?\n",
    "# 5. ❓ ¿La letra \"Z\" está EN palabra_clave?  \n",
    "# 6. 🎯 ¿El número 5 está EN numeros_magicos?\n",
    "# 7. 🚫 ¿El número 8 NO está EN numeros_magicos?"
   ]
  },
  {
   "cell_type": "code",
   "execution_count": 54,
   "metadata": {},
   "outputs": [
    {
     "name": "stdout",
     "output_type": "stream",
     "text": [
      "1. ¿arsenal_1 ES EXACTAMENTE arsenal_2? False\n",
      "2. ¿arsenal_1 ES EXACTAMENTE arsenal_gemelo? True\n",
      "3. ¿arsenal_1 NO ES arsenal_2? True\n",
      "4. ¿La letra 'P' está EN palabra_clave? True\n",
      "5. ¿La letra 'Z' está EN palabra_clave? False\n",
      "6. ¿El número 5 está EN numeros_magicos? True\n",
      "7. ¿El número 8 NO está EN numeros_magicos? True\n"
     ]
    }
   ],
   "source": [
    "# 🕵️ Tu laboratorio de detección:\n",
    "print(f\"1. ¿arsenal_1 ES EXACTAMENTE arsenal_2? {arsenal_1 is arsenal_2}\")\n",
    "print(f\"2. ¿arsenal_1 ES EXACTAMENTE arsenal_gemelo? {arsenal_1 is arsenal_gemelo}\")\n",
    "print(f\"3. ¿arsenal_1 NO ES arsenal_2? {arsenal_1 is not arsenal_2}\")\n",
    "print(f\"4. ¿La letra 'P' está EN palabra_clave? {'P' in palabra_clave}\")\n",
    "print(f\"5. ¿La letra 'Z' está EN palabra_clave? {'Z' in palabra_clave}\")\n",
    "print(f\"6. ¿El número 5 está EN numeros_magicos? {5 in numeros_magicos}\")\n",
    "print(f\"7. ¿El número 8 NO está EN numeros_magicos? {8 not in numeros_magicos}\")"
   ]
  },
  {
   "cell_type": "code",
   "execution_count": null,
   "metadata": {},
   "outputs": [],
   "source": [
    "#Version básica de la solución - hay que ejecutar los resultados uno a uno\n",
    "arsenal_1 is arsenal_2\n",
    "arsenal_1 is arsenal_gemelo\n",
    "arsenal_1 is not arsenal_2\n",
    "'P' in palabra_clave\n",
    "'Z' in palabra_clave\n",
    "5 in numeros_magicos\n",
    "8 not in numeros_magicos\n"
   ]
  },
  {
   "cell_type": "markdown",
   "metadata": {},
   "source": [
    "## 🗂️ **Misión 4: Maestro de Estructuras de Datos**\n",
    "*Domina las colecciones de información*\n",
    "\n",
    "### 📋 **Desafío 4.1: El Comandante de Listas**\n"
   ]
  },
  {
   "cell_type": "code",
   "execution_count": null,
   "metadata": {},
   "outputs": [],
   "source": [
    "# 🎯 Tu misión con listas:\n",
    "# 1. Crea una lista de 5 nombres de superhéroes\n",
    "# 2. Añade un villano al final\n",
    "# 3. Inserta un antihéroe en la posición 2\n",
    "# 4. Elimina el primer superhéroe (¡se retiró!)\n",
    "# 5. Encuentra la posición de tu superhéroe favorito\n",
    "# 6. Crea una nueva lista con los 3 últimos personajes"
   ]
  },
  {
   "cell_type": "code",
   "execution_count": 58,
   "metadata": {},
   "outputs": [],
   "source": [
    "# 💪 Tu escuadrón épico aquí:\n",
    "superheroes = [\"Spiderman\", \"Wonder\", \"Batman\", \"Ironman\", \"Hulk\"]\n",
    "superheroes.append(\"Thanos\")\n",
    "superheroes.insert(1, \"Deadpool\")\n",
    "superheroes.remove(\"Spiderman\")  # Opción alternativa: del superheroes[0]\n"
   ]
  },
  {
   "cell_type": "code",
   "execution_count": 59,
   "metadata": {},
   "outputs": [],
   "source": [
    "#superheroes.pop(0)  # Otra opción para eliminar el primer superhéroe\n",
    "posicion_favorito = superheroes.index(\"Batman\")  # Cambia \"Batman\" por tu favorito\n"
   ]
  },
  {
   "cell_type": "code",
   "execution_count": 60,
   "metadata": {},
   "outputs": [
    {
     "name": "stdout",
     "output_type": "stream",
     "text": [
      "Lista de superhéroes actualizada: ['Deadpool', 'Wonder', 'Batman', 'Ironman', 'Hulk', 'Thanos']\n"
     ]
    }
   ],
   "source": [
    "# Nueva lista con los 3 últimos personajes\n",
    "ultimos_tres = superheroes[-3:]\n",
    "print(f\"Lista de superhéroes actualizada: {superheroes}\")"
   ]
  },
  {
   "cell_type": "markdown",
   "metadata": {},
   "source": [
    "### 🎭 **Desafío 4.2: El Coleccionista de Sets**"
   ]
  },
  {
   "cell_type": "code",
   "execution_count": null,
   "metadata": {},
   "outputs": [],
   "source": [
    "# 🎯 Misión de conjuntos únicos:\n",
    "# 1. Crea dos sets de colores: \"colores_primarios\" y \"colores_secundarios\"\n",
    "# 2. Encuentra los colores que están en ambos sets\n",
    "# 3. Encuentra colores que solo están en primarios\n",
    "# 4. Crea un set con TODOS los colores\n",
    "# 5. ¿Cuántos colores únicos tienes en total?"
   ]
  },
  {
   "cell_type": "code",
   "execution_count": 61,
   "metadata": {},
   "outputs": [
    {
     "name": "stdout",
     "output_type": "stream",
     "text": [
      "Colores únicos en total: 6\n"
     ]
    }
   ],
   "source": [
    "# 🎨 Tu paleta de colores aquí:\n",
    "colores_primarios = {\"rojo\", \"azul\", \"amarillo\"}\n",
    "colores_secundarios = {\"verde\", \"naranja\", \"morado\", \"rojo\"}\n",
    "colores_comunes = colores_primarios.intersection(colores_secundarios)\n",
    "colores_solo_primarios = colores_primarios.difference(colores_secundarios)\n",
    "todos_los_colores = colores_primarios.union(colores_secundarios)\n",
    "print(f\"Colores únicos en total: {len(todos_los_colores)}\")"
   ]
  },
  {
   "cell_type": "markdown",
   "metadata": {},
   "source": [
    "### 🔒 **Desafío 4.3: El Guardián de Tuplas**\n"
   ]
  },
  {
   "cell_type": "code",
   "execution_count": null,
   "metadata": {},
   "outputs": [],
   "source": [
    "# 🎯 Trabaja con datos inmutables:\n",
    "# 1. Crea una tupla con coordenadas (latitud, longitud) de tu ciudad\n",
    "# 2. Crea tuplas de 3 ciudades diferentes\n",
    "# 3. Combina todas las tuplas en una sola\n",
    "# 4. Cuenta cuántas veces aparece un número específico\n",
    "# 5. Encuentra el índice de una coordenada específica\n"
   ]
  },
  {
   "cell_type": "code",
   "execution_count": 62,
   "metadata": {},
   "outputs": [
    {
     "name": "stdout",
     "output_type": "stream",
     "text": [
      "Todas las coordenadas: (40.4168, -3.7038, 48.8566, 2.3522, 51.5074, -0.1278)\n",
      "La latitud de París aparece 1 veces\n",
      "La longitud de Londres está en el índice 5\n"
     ]
    }
   ],
   "source": [
    "# 🗺️ Tu atlas de coordenadas:\n",
    "ciudad_1 = (40.4168, -3.7038)  # Madrid\n",
    "ciudad_2 = (48.8566, 2.3522)   # París\n",
    "ciudad_3 = (51.5074, -0.1278)  # Londres\n",
    "todas_las_ciudades = ciudad_1 + ciudad_2 + ciudad_3\n",
    "contador_especifico = todas_las_ciudades.count(48.8566)  #Contar cuántas veces aparece la latitud de París\n",
    "indice_especifico = todas_las_ciudades.index(-0.1278)  #Índice de la longitud de Londres\n",
    "print(f\"Todas las coordenadas: {todas_las_ciudades}\")\n",
    "print(f\"La latitud de París aparece {contador_especifico} veces\")\n",
    "print(f\"La longitud de Londres está en el índice {indice_especifico}\")\n"
   ]
  },
  {
   "cell_type": "markdown",
   "metadata": {},
   "source": [
    "### 📚 **Desafío 4.4: El Arquitecto de Diccionarios**"
   ]
  },
  {
   "cell_type": "code",
   "execution_count": null,
   "metadata": {},
   "outputs": [],
   "source": [
    "# 🎯 Construye estructuras complejas:\n",
    "# 1. Crea un diccionario \"estudiante\" con: nombre, edad, materias, notas\n",
    "# 2. Añade una nueva materia con su nota\n",
    "# 3. Actualiza la edad del estudiante\n",
    "# 4. Crea un diccionario \"clase\" con 3 estudiantes\n",
    "# 5. Calcula el promedio de notas de cada estudiante"
   ]
  },
  {
   "cell_type": "code",
   "execution_count": 63,
   "metadata": {},
   "outputs": [],
   "source": [
    "# 🏗️ Tu academia digital aquí:\n",
    "estudiante_1 = {\n",
    "    \"nombre\": \"Ana\",\n",
    "    \"edad\": 20,\n",
    "    \"materias\": [\"Matemáticas\", \"Física\"],\n",
    "    \"notas\": [85, 90]\n",
    "}"
   ]
  },
  {
   "cell_type": "code",
   "execution_count": 64,
   "metadata": {},
   "outputs": [
    {
     "name": "stdout",
     "output_type": "stream",
     "text": [
      "Datos del estudiante actualizado: {'nombre': 'Ana', 'edad': 20, 'materias': ['Matemáticas', 'Física', 'Programación'], 'notas': [85, 90, 95]}\n"
     ]
    }
   ],
   "source": [
    "estudiante_1[\"materias\"].append(\"Programación\")\n",
    "estudiante_1[\"notas\"].append(95)\n",
    "print(f\"Datos del estudiante actualizado: {estudiante_1}\")"
   ]
  },
  {
   "cell_type": "code",
   "execution_count": 65,
   "metadata": {},
   "outputs": [],
   "source": [
    "#añadir materia y nota de una vez\n",
    "estudiante_1[\"materias\"] += [\"Química\"]\n",
    "estudiante_1[\"notas\"] += [88]"
   ]
  },
  {
   "cell_type": "code",
   "execution_count": null,
   "metadata": {},
   "outputs": [],
   "source": [
    "#añadir más materias y notas\n",
    "estudiante_1[\"materias\"] += [\"Biología\", \"Historia\"]"
   ]
  },
  {
   "cell_type": "markdown",
   "metadata": {},
   "source": [
    "## 🔀 **Misión 5: El Controlador del Flujo**\n",
    "*Domina las decisiones y repeticiones*\n",
    "\n",
    "### ⚡ **Desafío 5.1: El Juez de Decisiones**"
   ]
  },
  {
   "cell_type": "code",
   "execution_count": 67,
   "metadata": {},
   "outputs": [],
   "source": [
    "# 🎯 Sistema de evaluación inteligente:\n",
    "# Crea un programa que evalúe estudiantes con estas reglas:\n",
    "# - Si nota >= 90: \"Excelente\"\n",
    "# - Si nota >= 80: \"Muy Bueno\"  \n",
    "# - Si nota >= 70: \"Bueno\"\n",
    "# - Si nota >= 60: \"Suficiente\"\n",
    "# - Si nota < 60: \"Insuficiente\"\n",
    "# - Además, si es mayor de edad Y tiene nota >= 70: \"Puede ser mentor\"\n",
    "\n",
    "notas_estudiantes = [95, 67, 84, 45, 92, 73]\n",
    "edades_estudiantes = [17, 19, 20, 16, 18, 21]"
   ]
  },
  {
   "cell_type": "code",
   "execution_count": 68,
   "metadata": {},
   "outputs": [
    {
     "name": "stdout",
     "output_type": "stream",
     "text": [
      "Estudiante 1: Nota = 95, Edad = 17 -> Evaluación: Excelente\n",
      "Estudiante 2: Nota = 67, Edad = 19 -> Evaluación: Suficiente\n",
      "Estudiante 3: Nota = 84, Edad = 20 -> Evaluación: Muy Bueno y Puede ser mentor\n",
      "Estudiante 4: Nota = 45, Edad = 16 -> Evaluación: Insuficiente\n",
      "Estudiante 5: Nota = 92, Edad = 18 -> Evaluación: Excelente y Puede ser mentor\n",
      "Estudiante 6: Nota = 73, Edad = 21 -> Evaluación: Bueno y Puede ser mentor\n"
     ]
    }
   ],
   "source": [
    "# ⚖️ Tu sistema de evaluación:\n",
    "for i in range(len(notas_estudiantes)):\n",
    "    nota = notas_estudiantes[i]\n",
    "    edad = edades_estudiantes[i]\n",
    "    if nota >= 90:\n",
    "        evaluacion = \"Excelente\"\n",
    "    elif nota >= 80:\n",
    "        evaluacion = \"Muy Bueno\"\n",
    "    elif nota >= 70:\n",
    "        evaluacion = \"Bueno\"\n",
    "    elif nota >= 60:\n",
    "        evaluacion = \"Suficiente\"\n",
    "    else:\n",
    "        evaluacion = \"Insuficiente\"\n",
    "    \n",
    "    if edad >= 18 and nota >= 70:\n",
    "        evaluacion += \" y Puede ser mentor\"\n",
    "    \n",
    "    print(f\"Estudiante {i+1}: Nota = {nota}, Edad = {edad} -> Evaluación: {evaluacion}\")"
   ]
  },
  {
   "cell_type": "markdown",
   "metadata": {},
   "source": [
    "### 🔄 **Desafío 5.2: El Maestro de Bucles FOR**"
   ]
  },
  {
   "cell_type": "code",
   "execution_count": 76,
   "metadata": {},
   "outputs": [],
   "source": [
    "# 🎯 Procesamiento masivo de datos:\n",
    "empleados = [\n",
    "    {\"nombre\": \"Ana\", \"salario\": 2500, \"departamento\": \"IT\"},\n",
    "    {\"nombre\": \"Luis\", \"salario\": 3000, \"departamento\": \"Ventas\"},\n",
    "    {\"nombre\": \"María\", \"salario\": 2800, \"departamento\": \"IT\"},\n",
    "    {\"nombre\": \"Carlos\", \"salario\": 3200, \"departamento\": \"Marketing\"}\n",
    "]\n",
    "\n",
    "# Tu misión con FOR:\n",
    "# 1. Imprime solo empleados del departamento IT\n",
    "# 2. Calcula el salario promedio\n",
    "# 3. Encuentra el empleado con mayor salario\n",
    "# 4. Crea una lista de nombres en mayúsculas\n",
    "# 5. Cuenta empleados por departamento\n"
   ]
  },
  {
   "cell_type": "code",
   "execution_count": 77,
   "metadata": {},
   "outputs": [
    {
     "name": "stdout",
     "output_type": "stream",
     "text": [
      "Empleado IT: Ana\n",
      "Nombres en mayúsculas: ['ANA']\n",
      "Nombres en mayúsculas: ['ANA', 'LUIS']\n",
      "Empleado IT: María\n",
      "Nombres en mayúsculas: ['ANA', 'LUIS', 'MARÍA']\n",
      "Nombres en mayúsculas: ['ANA', 'LUIS', 'MARÍA', 'CARLOS']\n"
     ]
    }
   ],
   "source": [
    "# 🏢 Tu procesadora de nóminas:\n",
    "total_salario = 0\n",
    "mayor_salario = 0\n",
    "empleado_mayor_salario = \"\"\n",
    "nombres_mayusculas = []\n",
    "departamento_cuenta = {}\n",
    "\n",
    "for empleado in empleados:\n",
    "    # 1. Empleados IT\n",
    "    if empleado[\"departamento\"] == \"IT\":\n",
    "        print(f\"Empleado IT: {empleado['nombre']}\")\n",
    "    \n",
    "    # 2. Salario promedio\n",
    "    total_salario += empleado[\"salario\"]\n",
    "    \n",
    "    \n",
    "    # 3. Mayor salario\n",
    "    if empleado[\"salario\"] > mayor_salario:\n",
    "        mayor_salario = empleado[\"salario\"]\n",
    "        empleado_mayor_salario = empleado[\"nombre\"]\n",
    "    \n",
    "    # 4. Nombres en mayúsculas\n",
    "    nombres_mayusculas.append(empleado[\"nombre\"].upper())\n",
    "    print(f\"Nombres en mayúsculas: {nombres_mayusculas}\")\n",
    "    \n",
    "    # 5. Cuenta por departamento\n",
    "    depto = empleado[\"departamento\"]\n",
    "    if depto in departamento_cuenta:\n",
    "        departamento_cuenta[depto] += 1\n",
    "    else:\n",
    "        departamento_cuenta[depto] = 1\n",
    "\n"
   ]
  },
  {
   "cell_type": "code",
   "execution_count": 72,
   "metadata": {},
   "outputs": [
    {
     "name": "stdout",
     "output_type": "stream",
     "text": [
      "Salario promedio: 2875.0\n"
     ]
    }
   ],
   "source": [
    "salario_promedio = total_salario / len(empleados)\n",
    "print(f\"Salario promedio: {salario_promedio}\")"
   ]
  },
  {
   "cell_type": "code",
   "execution_count": 73,
   "metadata": {},
   "outputs": [
    {
     "name": "stdout",
     "output_type": "stream",
     "text": [
      "Empleado con mayor salario: Carlos ($3200)\n"
     ]
    }
   ],
   "source": [
    "#calcular empleado con mayor salario\n",
    "print(f\"Empleado con mayor salario: {empleado_mayor_salario} (${mayor_salario})\")"
   ]
  },
  {
   "cell_type": "code",
   "execution_count": 74,
   "metadata": {},
   "outputs": [
    {
     "name": "stdout",
     "output_type": "stream",
     "text": [
      "Nombres en minúsculas: ['ana', 'luis', 'maría', 'carlos']\n"
     ]
    }
   ],
   "source": [
    "#lista de nombres en minúsculas\n",
    "nombres_minusculas = [nombre.lower() for nombre in nombres_mayusculas]\n",
    "print(f\"Nombres en minúsculas: {nombres_minusculas}\")"
   ]
  },
  {
   "cell_type": "markdown",
   "metadata": {},
   "source": [
    "### ♾️ **Desafío 5.3: El Domador de Bucles WHILE**"
   ]
  },
  {
   "cell_type": "code",
   "execution_count": null,
   "metadata": {},
   "outputs": [],
   "source": [
    "# 🎯 Simulación de crecimiento:\n",
    "# Simula el crecimiento de una cuenta de ahorros\n",
    "# - Inversión inicial: 1000€\n",
    "# - Interés anual: 5%\n",
    "# - Meta: alcanzar 2000€\n",
    "# - Muestra el progreso año por año\n",
    "\n",
    "inversion_inicial = 1000\n",
    "interes_anual = 0.05\n",
    "meta = 2000"
   ]
  },
  {
   "cell_type": "code",
   "execution_count": null,
   "metadata": {},
   "outputs": [],
   "source": [
    "# 💰 Tu simulador financiero:\n",
    "saldo = inversion_inicial\n",
    "anio = 0\n",
    "while saldo < meta:\n",
    "    saldo += saldo * interes_anual\n",
    "    anio += 1\n",
    "    print(f\"Año {anio}: Saldo = {saldo:.2f}€\")\n",
    "    "
   ]
  },
  {
   "cell_type": "markdown",
   "metadata": {},
   "source": [
    "## ⚙️ **Misión 6: El Arquitecto de Funciones**\n",
    "*Construye bloques de código reutilizables*\n",
    "\n",
    "### 🏗️ **Desafío 6.1: Constructor de Funciones Básicas**"
   ]
  },
  {
   "cell_type": "code",
   "execution_count": null,
   "metadata": {},
   "outputs": [],
   "source": [
    "# 🎯 Crea estas funciones esenciales:\n",
    "# 1. saludar_usuario(nombre, hora) - saluda según la hora del día\n",
    "# 2. calcular_imc(peso, altura) - calcula índice de masa corporal\n",
    "# 3. es_palindromo(palabra) - verifica si una palabra se lee igual al revés\n",
    "# 4. contar_vocales(texto) - cuenta las vocales en un texto\n",
    "# 5. generar_email(nombre, apellido, dominio) - crea un email"
   ]
  },
  {
   "cell_type": "code",
   "execution_count": null,
   "metadata": {},
   "outputs": [],
   "source": [
    "# 🔧 Tu caja de herramientas:\n",
    "def saludar_usuario(nombre, hora):\n",
    "    if 5 <= hora < 12:\n",
    "        saludo = \"Buenos días\"\n",
    "    elif 12 <= hora < 18:\n",
    "        saludo = \"Buenas tardes\"\n",
    "    else:\n",
    "        saludo = \"Buenas noches\"\n",
    "    return f\"{saludo}, {nombre}!\"\n"
   ]
  },
  {
   "cell_type": "code",
   "execution_count": null,
   "metadata": {},
   "outputs": [],
   "source": [
    "def calcular_imc(peso, altura):\n",
    "    imc = peso / (altura ** 2)\n",
    "    return imc"
   ]
  },
  {
   "cell_type": "code",
   "execution_count": null,
   "metadata": {},
   "outputs": [],
   "source": [
    "def es_palindromo(palabra):\n",
    "    palabra = palabra.lower().replace(\" \", \"\")\n",
    "    return palabra == palabra[::-1]"
   ]
  },
  {
   "cell_type": "code",
   "execution_count": null,
   "metadata": {},
   "outputs": [],
   "source": [
    "def contar_vocales(texto):\n",
    "    vocales = \"aeiouAEIOU\"\n",
    "    contador = sum(1 for char in texto if char in vocales)\n",
    "    return contador"
   ]
  },
  {
   "cell_type": "code",
   "execution_count": 78,
   "metadata": {},
   "outputs": [],
   "source": [
    "def generar_email(nombre, apellido, dominio):\n",
    "    email = f\"{nombre.lower()}.{apellido.lower()}@{dominio.lower()}.com\"\n",
    "    return email"
   ]
  },
  {
   "cell_type": "code",
   "execution_count": null,
   "metadata": {},
   "outputs": [],
   "source": []
  },
  {
   "cell_type": "markdown",
   "metadata": {},
   "source": [
    "### 📊 **Desafío 6.2: Analizador de Datos Avanzado**"
   ]
  },
  {
   "cell_type": "code",
   "execution_count": null,
   "metadata": {},
   "outputs": [],
   "source": [
    "# 🎯 Crea un sistema de análisis completo:\n",
    "def analizar_ventas(ventas_mensuales):\n",
    "    \"\"\"\n",
    "    Analiza datos de ventas y devuelve estadísticas completas\n",
    "    \n",
    "    Args:\n",
    "        ventas_mensuales (list): Lista de ventas por mes\n",
    "    \n",
    "    Returns:\n",
    "        dict: Estadísticas completas\n",
    "    \"\"\"\n",
    "    # Tu función debe calcular:\n",
    "    # - Ventas totales\n",
    "    # - Promedio mensual\n",
    "    # - Mes con mayores ventas\n",
    "    # - Mes con menores ventas\n",
    "    # - Tendencia (creciente/decreciente)\n",
    "    pass\n",
    "\n",
    "# Datos de prueba\n",
    "ventas_2024 = [15000, 18000, 22000, 19000, 25000, 23000, 28000, 30000, 27000, 32000, 35000, 40000]"
   ]
  },
  {
   "cell_type": "code",
   "execution_count": null,
   "metadata": {},
   "outputs": [],
   "source": [
    "# 📈 Tu analizador empresarial:"
   ]
  },
  {
   "cell_type": "markdown",
   "metadata": {},
   "source": [
    "### 🎮 **Desafío 6.3: Mini Juego con Funciones**"
   ]
  },
  {
   "cell_type": "code",
   "execution_count": null,
   "metadata": {},
   "outputs": [],
   "source": [
    "# 🎯 Crea un juego de adivinanza numérica:\n",
    "# - El programa piensa un número del 1 al 100\n",
    "# - El usuario tiene 7 intentos\n",
    "# - Debe dar pistas: \"muy alto\", \"alto\", \"cerca\", \"muy cerca\", \"¡exacto!\"\n",
    "# - Lleva registro de intentos y mejor puntuación\n",
    "\n",
    "# Funciones necesarias:\n",
    "# - generar_numero_secreto()\n",
    "# - dar_pista(numero_secreto, intento)\n",
    "# - jugar_partida()\n",
    "# - mostrar_estadisticas(intentos, ganado)\n"
   ]
  },
  {
   "cell_type": "code",
   "execution_count": 1,
   "metadata": {},
   "outputs": [],
   "source": [
    "# 🎲 Tu casino digital:"
   ]
  }
 ],
 "metadata": {
  "kernelspec": {
   "display_name": "base",
   "language": "python",
   "name": "python3"
  },
  "language_info": {
   "codemirror_mode": {
    "name": "ipython",
    "version": 3
   },
   "file_extension": ".py",
   "mimetype": "text/x-python",
   "name": "python",
   "nbconvert_exporter": "python",
   "pygments_lexer": "ipython3",
   "version": "3.13.5"
  }
 },
 "nbformat": 4,
 "nbformat_minor": 4
}
