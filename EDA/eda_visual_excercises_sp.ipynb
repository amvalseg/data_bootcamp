{
 "cells": [
  {
   "cell_type": "markdown",
   "metadata": {},
   "source": [
    "# 📝 Ejercicios: Visualización de Datos con Matplotlib y Seaborn\n",
    "\n",
    "## Instrucciones\n",
    "- Completa cada ejercicio en la celda correspondiente\n",
    "- Intenta resolverlos sin mirar las soluciones\n",
    "- Experimenta con diferentes parámetros y personalizaciones"
   ]
  },
  {
   "cell_type": "markdown",
   "metadata": {},
   "source": [
    "## 📚 Recursos\n",
    "\n",
    "- [Documentación Matplotlib](https://matplotlib.org/stable/gallery/index.html)\n",
    "- [Galería Seaborn](https://seaborn.pydata.org/examples/index.html)\n",
    "- [Pandas Visualization](https://pandas.pydata.org/docs/user_guide/visualization.html)\n",
    "\n",
    "---\n",
    "\n",
    "**¡Buena suerte con los ejercicios!**"
   ]
  },
  {
   "cell_type": "markdown",
   "metadata": {},
   "source": [
    "## 🔧 Configuración Inicial\n",
    "\n",
    "Importa las librerías necesarias"
   ]
  },
  {
   "cell_type": "markdown",
   "metadata": {},
   "source": [
    "Importa los datos"
   ]
  },
  {
   "cell_type": "markdown",
   "metadata": {},
   "source": [
    "Identifica si inicialmente los datos necesitan alguna transformación previa"
   ]
  },
  {
   "cell_type": "markdown",
   "metadata": {},
   "source": [
    "## 📊 Parte 1: Ejercicios Básicos de Visualización"
   ]
  },
  {
   "cell_type": "markdown",
   "metadata": {},
   "source": [
    "### Ejercicio 1.1: Gráfico de Barras Verticales\n",
    "**Objetivo:** Crear un gráfico de barras que muestre los 5 países de origen con menos llegadas."
   ]
  },
  {
   "cell_type": "code",
   "execution_count": null,
   "metadata": {},
   "outputs": [],
   "source": [
    "# Tu código aquí\n"
   ]
  },
  {
   "cell_type": "markdown",
   "metadata": {},
   "source": [
    "### Ejercicio 1.2: Gráfico de Barras Horizontales con Etiquetas\n",
    "**Objetivo:** Crea un gráfico horizontal de los 10 destinos principales y añade etiquetas de valores en cada barra."
   ]
  },
  {
   "cell_type": "code",
   "execution_count": null,
   "metadata": {},
   "outputs": [],
   "source": [
    "# Tu código aquí\n"
   ]
  },
  {
   "cell_type": "markdown",
   "metadata": {},
   "source": [
    "### Ejercicio 1.3: Pie Chart Personalizado\n",
    "**Objetivo:** Muestra la distribución de llegadas entre los 8 principales destinos con colores personalizados.\n"
   ]
  },
  {
   "cell_type": "code",
   "execution_count": null,
   "metadata": {},
   "outputs": [],
   "source": [
    "# Tu código aquí\n"
   ]
  },
  {
   "cell_type": "markdown",
   "metadata": {},
   "source": [
    "## 📈 Parte 2: Visualización Temporal"
   ]
  },
  {
   "cell_type": "markdown",
   "metadata": {},
   "source": [
    "### Ejercicio 2.1: Gráfico de Líneas Múltiples\n",
    "**Objetivo:** Compara las llegadas mensuales de 2023 y 2024 en un solo gráfico de líneas con marcadores diferentes."
   ]
  },
  {
   "cell_type": "code",
   "execution_count": null,
   "metadata": {},
   "outputs": [],
   "source": [
    "# Tu código aquí\n"
   ]
  },
  {
   "cell_type": "markdown",
   "metadata": {},
   "source": [
    "### Ejercicio 2.2: Análisis Trimestral\n",
    "**Objetivo:** Crea un gráfico de barras agrupadas comparando Q1 vs Q2 vs Q3 vs Q4 para ambos años.\n"
   ]
  },
  {
   "cell_type": "code",
   "execution_count": null,
   "metadata": {},
   "outputs": [],
   "source": [
    "# Tu código aquí\n"
   ]
  },
  {
   "cell_type": "code",
   "execution_count": null,
   "metadata": {},
   "outputs": [],
   "source": [
    "df_arrivals"
   ]
  },
  {
   "cell_type": "markdown",
   "metadata": {},
   "source": [
    "### Ejercicio 2.3: Tendencia con Área\n",
    "**Objetivo:** Crea un gráfico de área (`kind='area'`) mostrando la evolución mensual total de llegadas.\n"
   ]
  },
  {
   "cell_type": "markdown",
   "metadata": {},
   "source": [
    "## 🔥 Parte 3: Heatmaps y Visualización Multivariada"
   ]
  },
  {
   "cell_type": "markdown",
   "metadata": {},
   "source": [
    "### Ejercicio 3.1: Heatmap Personalizado\n",
    "**Objetivo:** Crea un heatmap de los 5 principales orígenes vs los 5 principales destinos.\n"
   ]
  },
  {
   "cell_type": "code",
   "execution_count": null,
   "metadata": {},
   "outputs": [],
   "source": [
    "# Tu código aquí\n"
   ]
  },
  {
   "cell_type": "markdown",
   "metadata": {},
   "source": [
    "### Ejercicio 3.2: Matriz de Correlación (Avanzado)\n",
    "**Objetivo:** Crea una matriz que muestre la correlación entre meses (¿qué meses tienen patrones similares de llegadas?).\n"
   ]
  },
  {
   "cell_type": "code",
   "execution_count": null,
   "metadata": {},
   "outputs": [],
   "source": [
    "# Tu código aquí\n"
   ]
  },
  {
   "cell_type": "markdown",
   "metadata": {},
   "source": [
    "## 🎯 Parte 4: Ejercicios de Análisis Específico"
   ]
  },
  {
   "cell_type": "markdown",
   "metadata": {},
   "source": [
    "### Ejercicio 4.1: Comparación de Rutas\n",
    "**Objetivo:** Identifica y visualiza las 3 rutas más utilizadas hacia España."
   ]
  },
  {
   "cell_type": "code",
   "execution_count": null,
   "metadata": {},
   "outputs": [],
   "source": [
    "# Tu código aquí\n"
   ]
  },
  {
   "cell_type": "markdown",
   "metadata": {},
   "source": [
    "### Ejercicio 4.2: Análisis de Estacionalidad\n",
    "**Objetivo:** Crea un gráfico que muestre si hay estacionalidad (¿ciertos meses tienen más llegadas?)."
   ]
  },
  {
   "cell_type": "code",
   "execution_count": null,
   "metadata": {},
   "outputs": [],
   "source": [
    "# Tu código aquí\n"
   ]
  },
  {
   "cell_type": "markdown",
   "metadata": {},
   "source": [
    "### Ejercicio 4.3: Top Destinos por Trimestre\n",
    "**Objetivo:** Crea 4 subgráficos (uno por trimestre) mostrando los top 5 destinos en cada uno."
   ]
  },
  {
   "cell_type": "code",
   "execution_count": null,
   "metadata": {},
   "outputs": [],
   "source": [
    "# Tu código aquí\n"
   ]
  },
  {
   "cell_type": "markdown",
   "metadata": {},
   "source": [
    "## 🚀 Parte 5: Proyecto Integrador"
   ]
  },
  {
   "cell_type": "markdown",
   "metadata": {},
   "source": [
    "### Ejercicio 5.1: Dashboard Completo\n",
    "**Objetivo:** Crea un dashboard con 6 visualizaciones en una sola figura.\n",
    "\n",
    "**Requisitos:**\n",
    "1. Top 5 destinos (barras)\n",
    "2. Top 5 orígenes (barras horizontales)\n",
    "3. Evolución mensual 2023 vs 2024 (líneas)\n",
    "4. Distribución por trimestre (pie)\n",
    "5. Heatmap origen-destino (top 5x5)\n",
    "6. Llegadas a España por mes (área)"
   ]
  },
  {
   "cell_type": "code",
   "execution_count": null,
   "metadata": {},
   "outputs": [],
   "source": [
    "# Tu código aquí\n",
    "# Pista: fig, axes = plt.subplots(3, 2, figsize=(15, 12))\n"
   ]
  },
  {
   "cell_type": "markdown",
   "metadata": {},
   "source": [
    "## 💡 Ejercicios Bonus (Desafío)"
   ]
  },
  {
   "cell_type": "markdown",
   "metadata": {},
   "source": [
    "### Bonus 1: Crecimiento Interanual\n",
    "Calcula y visualiza el crecimiento porcentual mes a mes entre 2023 y 2024 usando un gráfico de barras con colores condicionales (verde para crecimiento, rojo para decrecimiento)."
   ]
  },
  {
   "cell_type": "code",
   "execution_count": null,
   "metadata": {},
   "outputs": [],
   "source": [
    "# Tu código aquí\n"
   ]
  },
  {
   "cell_type": "markdown",
   "metadata": {},
   "source": [
    "### Bonus 2: Análisis de Rutas Específicas\n",
    "Identifica la ruta (origen-destino) con mayor variación entre 2023 y 2024 y crea una visualización que muestre esta tendencia."
   ]
  },
  {
   "cell_type": "code",
   "execution_count": null,
   "metadata": {},
   "outputs": [],
   "source": [
    "# Tu código aquí\n"
   ]
  },
  {
   "cell_type": "markdown",
   "metadata": {},
   "source": [
    "### Bonus 3: Visualización Estilo Infografía\n",
    "Combina texto, números y gráficos para crear una infografía que resuma:\n",
    "- Total de llegadas\n",
    "- Top 3 destinos\n",
    "- Mes con más llegadas\n",
    "- Crecimiento vs año anterior"
   ]
  },
  {
   "cell_type": "code",
   "execution_count": null,
   "metadata": {},
   "outputs": [],
   "source": [
    "# Tu código aquí\n",
    "# Pista: Usa plt.text() para añadir texto a la figura\n"
   ]
  }
 ],
 "metadata": {
  "kernelspec": {
   "display_name": "Python 3",
   "language": "python",
   "name": "python3"
  },
  "language_info": {
   "codemirror_mode": {
    "name": "ipython",
    "version": 3
   },
   "file_extension": ".py",
   "mimetype": "text/x-python",
   "name": "python",
   "nbconvert_exporter": "python",
   "pygments_lexer": "ipython3",
   "version": "3.8.0"
  }
 },
 "nbformat": 4,
 "nbformat_minor": 4
}
