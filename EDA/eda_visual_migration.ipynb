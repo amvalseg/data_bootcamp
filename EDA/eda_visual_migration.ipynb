{
  "cells": [
    {
      "cell_type": "markdown",
      "id": "35acf31f",
      "metadata": {},
      "source": [
        "# 📘 EDA Visual: Flujos Migratorios Mixtos hacia Europa (2024)\n",
        "\n",
        "Este cuaderno muestra un **Análisis Exploratorio de Datos (EDA)** centrado en **visualizaciones básicas** para entender mejor los flujos migratorios hacia Europa.\n",
        "\n",
        "Dataset: `DTM_Mixed Migration Flows to Europe_Yearly_2024_1.xlsx`  \n",
        "Hoja: `First_Arrival_Countries_CoO`\n"
      ]
    },
    {
      "cell_type": "markdown",
      "id": "d384af56",
      "metadata": {},
      "source": [
        "## 1. 📂 Carga de datos"
      ]
    },
    {
      "cell_type": "code",
      "execution_count": null,
      "id": "4026de2c",
      "metadata": {},
      "outputs": [],
      "source": [
        "import pandas as pd\n",
        "import matplotlib.pyplot as plt\n",
        "import seaborn as sns\n",
        "\n",
        "# Configuración de estilo\n",
        "plt.style.use(\"ggplot\")\n",
        "\n",
        "# Cargar dataset\n",
        "df1 = pd.read_excel(r\"C:\\Users\\amval\\Documents\\bootcamp_ug\\data_bootcamp\\EDA\\data\\DTM_Mixed Migration Flows to Europe_Yearly_2023_1.xlsx\",\n",
        "                   sheet_name=\"First_Arrival_Countries_CoO\")\n",
        "df2 = pd.read_excel(r\"C:\\Users\\amval\\Documents\\bootcamp_ug\\data_bootcamp\\EDA\\data\\DTM_Mixed Migration Flows to Europe_Yearly_2024_1.xlsx\",\n",
        "                   sheet_name=\"First_Arrival_Countries_CoO\")\n"
      ]
    },
    {
      "cell_type": "code",
      "execution_count": null,
      "id": "8ce10f9b",
      "metadata": {},
      "outputs": [],
      "source": [
        "#Comparamos estructura antes de unir\n",
        "df1.info()"
      ]
    },
    {
      "cell_type": "code",
      "execution_count": null,
      "id": "429f57ea",
      "metadata": {},
      "outputs": [],
      "source": [
        "df1.head()"
      ]
    },
    {
      "cell_type": "code",
      "execution_count": null,
      "id": "41e24eb7",
      "metadata": {},
      "outputs": [],
      "source": [
        "df2.info()"
      ]
    },
    {
      "cell_type": "markdown",
      "id": "83fb80aa",
      "metadata": {},
      "source": [
        "Transformaciones sobre df1 para que coincida con df2"
      ]
    },
    {
      "cell_type": "code",
      "execution_count": null,
      "id": "b05f31f4",
      "metadata": {},
      "outputs": [],
      "source": [
        "# Eliminamos las dos primeras filas y establecemos la tercera como encabezado\n",
        "df1.columns = df1.iloc[2]\n",
        "df1 = df1.drop([0, 1, 2]).reset_index(drop=True)"
      ]
    },
    {
      "cell_type": "code",
      "execution_count": null,
      "id": "b065ebdb",
      "metadata": {},
      "outputs": [],
      "source": [
        "df1"
      ]
    },
    {
      "cell_type": "code",
      "execution_count": null,
      "id": "771eb5f8",
      "metadata": {},
      "outputs": [],
      "source": [
        "#Creamos las columnas Year y Month a partir de Date\n",
        "#Primero ajustamos el tipo de dato de la columna Date\n",
        "df1['Date'] = pd.to_datetime(df1['Date'])\n",
        "df1['Year'] = df1['Date'].dt.year\n",
        "df1['Month'] = df1['Date'].dt.month"
      ]
    },
    {
      "cell_type": "code",
      "execution_count": null,
      "id": "a1c6b4d5",
      "metadata": {},
      "outputs": [],
      "source": [
        "#Renombramos columna para que sea idéntica a df2\n",
        "df1 = df1.rename(columns={'Monthly arrivals': 'Arrivals'})"
      ]
    },
    {
      "cell_type": "code",
      "execution_count": null,
      "id": "1a5cffbc",
      "metadata": {},
      "outputs": [],
      "source": [
        "# Reordenamos las columnas de df1 para que coincidan con el orden de df2\n",
        "df1 = df1[['Date', 'Year', 'Month', 'ISO3 - Country of origin', 'ISO3 - Country of arrival', 'Route', 'Arrivals', 'Source']]\n",
        "df1.head()"
      ]
    },
    {
      "cell_type": "code",
      "execution_count": null,
      "id": "bf5579f8",
      "metadata": {},
      "outputs": [],
      "source": [
        "#Unimos los dos df\n",
        "df_arrivals = pd.concat([df1, df2], ignore_index=True)"
      ]
    },
    {
      "cell_type": "code",
      "execution_count": null,
      "id": "bac69a41",
      "metadata": {},
      "outputs": [],
      "source": [
        "df_arrivals"
      ]
    },
    {
      "cell_type": "markdown",
      "id": "e491bdf5",
      "metadata": {},
      "source": [
        "## 2. 👀 Exploración rápida"
      ]
    },
    {
      "cell_type": "code",
      "execution_count": null,
      "id": "802cfd79",
      "metadata": {},
      "outputs": [],
      "source": [
        "# Número de filas y columnas\n",
        "df_arrivals.shape"
      ]
    },
    {
      "cell_type": "code",
      "execution_count": null,
      "id": "3b868829",
      "metadata": {},
      "outputs": [],
      "source": [
        "# Nombres de columnas\n",
        "df_arrivals.columns"
      ]
    },
    {
      "cell_type": "code",
      "execution_count": null,
      "id": "fc445540",
      "metadata": {},
      "outputs": [],
      "source": [
        "# Tipos de datos\n",
        "df_arrivals.info()"
      ]
    },
    {
      "cell_type": "code",
      "execution_count": null,
      "id": "d8d4b118",
      "metadata": {},
      "outputs": [],
      "source": [
        "# Estadísticas descriptivas\n",
        "df_arrivals.describe(include=\"all\")"
      ]
    },
    {
      "cell_type": "markdown",
      "id": "d468b470",
      "metadata": {},
      "source": [
        "## 3. 📊 Visualización univariada"
      ]
    },
    {
      "cell_type": "markdown",
      "id": "560f4843",
      "metadata": {},
      "source": [
        "### 🔹 Top 10 destinos por llegadas"
      ]
    },
    {
      "cell_type": "code",
      "execution_count": 102,
      "id": "de962496",
      "metadata": {},
      "outputs": [
        {
          "data": {
            "image/png": "[encoded data removed]",
            "text/plain": [
              "<Figure size 1000x600 with 1 Axes>"
            ]
          },
          "metadata": {},
          "output_type": "display_data"
        }
      ],
      "source": [
        "top_dest = df_arrivals.groupby('ISO3 - Country of arrival')['Arrivals'].sum().sort_values(ascending=False).head(10)\n",
        "top_dest.plot(kind='bar', figsize=(10,6), title='Top 10 destinos por llegadas')\n",
        "plt.ylabel('Total llegadas')\n",
        "plt.show()"
      ]
    },
    {
      "cell_type": "markdown",
      "id": "ecc4cb8b",
      "metadata": {},
      "source": [
        "### 🔹 Top 10 países de origen (barras horizontales)"
      ]
    },
    {
      "cell_type": "code",
      "execution_count": null,
      "id": "f83556fc",
      "metadata": {},
      "outputs": [],
      "source": [
        "top_origin = df_arrivals.groupby('ISO3 - Country of origin')['Arrivals'].sum().sort_values(ascending=False).head(10)\n",
        "ax = top_origin.plot(\n",
        "    kind='barh',\n",
        "    figsize=(10,6),\n",
        "    title='Top 10 países de origen por llegadas',\n",
        "    )\n",
        "plt.ylabel('País de origen')\n",
        "plt.xlabel('Total llegadas')\n",
        "\n",
        "# Agregar el valor total sobre cada barra\n",
        "for container in ax.containers:\n",
        "    ax.bar_label(container, fmt='%.0f')\n",
        "\n",
        "plt.show()"
      ]
    },
    {
      "cell_type": "markdown",
      "id": "7ec46526",
      "metadata": {},
      "source": [
        "### 🔹 Gráfico circular (pie chart)"
      ]
    },
    {
      "cell_type": "code",
      "execution_count": null,
      "id": "65577f33",
      "metadata": {},
      "outputs": [],
      "source": [
        "top_dest.head(5).plot(\n",
        "    kind='pie', \n",
        "    figsize=(6,6),\n",
        "    autopct='%1.1f%%',\n",
        "    title='Llegadas a los 5 principales destinos',\n",
        "    colormap='Set3')\n",
        "plt.ylabel('')\n",
        "plt.show()"
      ]
    },
    {
      "cell_type": "markdown",
      "id": "b903322e",
      "metadata": {},
      "source": [
        "## 4. 📈 Visualización temporal"
      ]
    },
    {
      "cell_type": "markdown",
      "id": "4931fcf2",
      "metadata": {},
      "source": [
        "### 🔹 Evolución mensual de llegadas totales"
      ]
    },
    {
      "cell_type": "code",
      "execution_count": null,
      "id": "7fda459b",
      "metadata": {},
      "outputs": [],
      "source": [
        "monthly = df_arrivals.groupby('Month')['Arrivals'].sum()\n",
        "monthly.plot(kind='line', marker='o', figsize=(10,5), title='Llegadas por mes')\n",
        "plt.ylabel('Total llegadas')\n",
        "plt.show()"
      ]
    },
    {
      "cell_type": "code",
      "execution_count": null,
      "id": "5b79b4da",
      "metadata": {},
      "outputs": [],
      "source": [
        "#Creamos un df para 20233 y otro para 2024 con la suma de llegadas para utilizarlos en gráficos\n",
        "monthly_2023 = df_arrivals[df_arrivals['Year'] == 2023].groupby('Month')['Arrivals'].sum()\n",
        "monthly_2024 = df_arrivals[df_arrivals['Year'] == 2024].groupby('Month')['Arrivals'].sum()\n"
      ]
    },
    {
      "cell_type": "code",
      "execution_count": null,
      "id": "314b669d",
      "metadata": {},
      "outputs": [],
      "source": [
        "plt.figure(figsize=(10,5))\n",
        "plt.plot(monthly_2023.index, monthly_2023.values, marker='o', label='2023')\n",
        "plt.plot(monthly_2024.index, monthly_2024.values, marker='o', label='2024')\n",
        "plt.title('Llegadas por mes (2023 vs 2024)')\n",
        "plt.ylabel('Total llegadas')\n",
        "plt.xlabel('Mes')\n",
        "plt.legend()\n",
        "plt.show()"
      ]
    },
    {
      "cell_type": "markdown",
      "id": "2c83bcb4",
      "metadata": {},
      "source": [
        "### 🔹 Evolución mensual de llegadas a España (ESP)"
      ]
    },
    {
      "cell_type": "code",
      "execution_count": null,
      "id": "495e225c",
      "metadata": {},
      "outputs": [],
      "source": [
        "esp = df_arrivals[df_arrivals['ISO3 - Country of arrival']=='ESP'].groupby(['Year', 'Month'])['Arrivals'].sum().unstack(level=0)\n",
        "esp.plot(kind='line', marker='o', figsize=(10,5), title='Llegadas a España por mes')\n",
        "plt.ylabel('Llegadas')\n",
        "plt.xlabel('Mes')\n",
        "plt.show()"
      ]
    },
    {
      "cell_type": "markdown",
      "id": "4a65af22",
      "metadata": {},
      "source": [
        "### 🔹 Comparación España vs Italia"
      ]
    },
    {
      "cell_type": "code",
      "execution_count": null,
      "id": "3fc05484",
      "metadata": {},
      "outputs": [],
      "source": [
        "comp = df_arrivals[df_arrivals['ISO3 - Country of arrival'].isin(['ESP','ITA'])].groupby(['Month','ISO3 - Country of arrival'])['Arrivals'].sum().unstack()\n",
        "comp.plot(kind='line', marker='o', figsize=(10,5), title='Llegadas a ESP vs ITA')\n",
        "plt.ylabel('Llegadas')\n",
        "plt.show()"
      ]
    },
    {
      "cell_type": "code",
      "execution_count": null,
      "id": "74a0d7ee",
      "metadata": {},
      "outputs": [],
      "source": [
        "comp.plot(kind='bar', stacked=False, figsize=(10,5), title='Llegadas a ESP vs ITA')\n",
        "plt.ylabel('Llegadas')\n",
        "plt.xlabel('Mes')\n",
        "plt.show()"
      ]
    },
    {
      "cell_type": "markdown",
      "id": "6ffc9097",
      "metadata": {},
      "source": [
        "### 🔹 Llegadas por trimestre"
      ]
    },
    {
      "cell_type": "code",
      "execution_count": null,
      "id": "ffc23e98",
      "metadata": {},
      "outputs": [],
      "source": [
        "df_arrivals['Quarter'] = pd.cut(df_arrivals['Month'], bins=[0,3,6,9,12], labels=['Q1','Q2','Q3','Q4'])\n",
        "qsum = df_arrivals.groupby(['Year', 'Quarter'])['Arrivals'].sum().unstack(level=0)\n",
        "qsum.plot(kind='bar', figsize=(8,5), title='Llegadas por trimestre (2023 vs 2024)')\n",
        "plt.ylabel('Total llegadas')\n",
        "plt.xlabel('Trimestre')\n",
        "plt.legend(title='Año')\n",
        "plt.show()"
      ]
    },
    {
      "cell_type": "markdown",
      "id": "3aabbefd",
      "metadata": {},
      "source": [
        "## 5. 🔗 Visualización multivariada"
      ]
    },
    {
      "cell_type": "markdown",
      "id": "35b304c8",
      "metadata": {},
      "source": [
        "### 🔹 Heatmap Origen vs Destino (top 10)"
      ]
    },
    {
      "cell_type": "code",
      "execution_count": null,
      "id": "814bc7de",
      "metadata": {},
      "outputs": [],
      "source": [
        "pivot = df_arrivals.pivot_table(index='ISO3 - Country of origin', columns='ISO3 - Country of arrival',\n",
        "                       values='Arrivals', aggfunc='sum', fill_value=0)\n",
        "\n",
        "top_origins = pivot.sum(axis=1).sort_values(ascending=False).head(10).index\n",
        "top_destins = pivot.sum(axis=0).sort_values(ascending=False).head(10).index\n",
        "\n",
        "subset = pivot.loc[top_origins, top_destins]\n",
        "\n",
        "plt.figure(figsize=(10,8))\n",
        "sns.heatmap(subset, annot=True, fmt='.0f', cmap='Blues')\n",
        "plt.title('Heatmap: Origen vs Destino (Top 10)')\n",
        "plt.show()"
      ]
    },
    {
      "cell_type": "markdown",
      "id": "8bd746f2",
      "metadata": {},
      "source": [
        "### 🔹 Barras apiladas por trimestre y destino"
      ]
    },
    {
      "cell_type": "code",
      "execution_count": null,
      "id": "050e61d1",
      "metadata": {},
      "outputs": [],
      "source": [
        "stacked = df_arrivals.groupby(['Quarter','ISO3 - Country of arrival'])['Arrivals'].sum().unstack().fillna(0)\n",
        "stacked.head()\n",
        "\n",
        "stacked.plot(kind='bar', stacked=True, figsize=(12,6), title='Llegadas por trimestre y destino')\n",
        "plt.ylabel('Total llegadas')\n",
        "plt.show()"
      ]
    },
    {
      "cell_type": "markdown",
      "id": "2d7a6ceb",
      "metadata": {},
      "source": [
        "## 6. 🎯 Ejercicios integrados"
      ]
    },
    {
      "cell_type": "markdown",
      "id": "a774e914",
      "metadata": {},
      "source": [
        "### 🔹 Top 5 rutas (origen-destino)"
      ]
    },
    {
      "cell_type": "code",
      "execution_count": null,
      "id": "43dd6d4f",
      "metadata": {},
      "outputs": [],
      "source": [
        "routes = df_arrivals.groupby(['ISO3 - Country of origin','ISO3 - Country of arrival'])['Arrivals'].sum().sort_values(ascending=False).head(5)\n",
        "routes.plot(kind='bar', figsize=(10,5), title='Top 5 rutas')\n",
        "plt.ylabel('Total llegadas')\n",
        "plt.show()"
      ]
    },
    {
      "cell_type": "markdown",
      "id": "717b800c",
      "metadata": {},
      "source": [
        "### 🔹 Llegadas a España por mes"
      ]
    },
    {
      "cell_type": "code",
      "execution_count": null,
      "id": "ebbc5c2c",
      "metadata": {},
      "outputs": [],
      "source": [
        "df_arrivals[df_arrivals['ISO3 - Country of arrival']=='ESP'].groupby('Month')['Arrivals'].sum().plot(kind='bar', figsize=(10,5), title='Llegadas a España por mes')\n",
        "plt.ylabel('Total llegadas')\n",
        "plt.show()"
      ]
    },
    {
      "cell_type": "markdown",
      "id": "5195ee95",
      "metadata": {},
      "source": [
        "### 🔹 Top 3 orígenes por destino (ejemplo Italia)"
      ]
    },
    {
      "cell_type": "code",
      "execution_count": null,
      "id": "518d557e",
      "metadata": {},
      "outputs": [],
      "source": [
        "ita = df_arrivals[df_arrivals['ISO3 - Country of arrival']=='ITA']\n",
        "top3 = ita.groupby('ISO3 - Country of origin')['Arrivals'].sum().sort_values(ascending=False).head(3)\n",
        "top3.plot(kind='bar', figsize=(6,4), title='Top 3 orígenes hacia Italia')\n",
        "plt.ylabel('Total llegadas')\n",
        "plt.show()"
      ]
    },
    {
      "cell_type": "code",
      "execution_count": null,
      "id": "4338e32f",
      "metadata": {},
      "outputs": [],
      "source": [
        "# Asegurarse de que monthly_2023 y monthly_2024 sean numéricos\n",
        "monthly_2023 = monthly_2023.astype(float)\n",
        "monthly_2024 = monthly_2024.astype(float)\n",
        "\n",
        "# Calcular variación porcentual mes a mes respecto al año anterior\n",
        "pct_change = ((monthly_2024 - monthly_2023) / monthly_2023) * 100\n",
        "\n",
        "# Graficar\n",
        "pct_change.plot(kind='bar', figsize=(10,5), title='Variación porcentual mensual respecto al año anterior')\n",
        "plt.ylabel('Variación %')\n",
        "plt.xlabel('Mes')\n",
        "plt.axhline(0, color='black', linestyle='--', linewidth=1)\n",
        "plt.show()"
      ]
    },
    {
      "cell_type": "markdown",
      "id": "72ca4463",
      "metadata": {},
      "source": [
        "## 7. 🏁 Mini proyecto final"
      ]
    },
    {
      "cell_type": "markdown",
      "id": "32f65cce",
      "metadata": {},
      "source": [
        "Filtrar el segundo semestre (julio–diciembre), agrupar por destino y mostrar los 5 principales con gráfico de barras."
      ]
    },
    {
      "cell_type": "code",
      "execution_count": null,
      "id": "a91b4556",
      "metadata": {},
      "outputs": [],
      "source": [
        "h2 = df_arrivals[df_arrivals['Month'].between(7,12)]\n",
        "summary = h2.groupby('ISO3 - Country of arrival')['Arrivals'].sum().sort_values(ascending=False).head(5)\n",
        "summary.plot(kind='bar', figsize=(8,5), title='Top 5 destinos (Jul-Dic)')\n",
        "plt.ylabel('Total llegadas')\n",
        "plt.show()"
      ]
    },
    {
      "cell_type": "markdown",
      "id": "e7d8a904",
      "metadata": {},
      "source": [
        "## ✅ Conclusiones\n",
        "\n",
        "- Se han visualizado llegadas por destino y origen.\n",
        "- Se ha explorado la evolución temporal de las llegadas.\n",
        "- Se han combinado varias variables en heatmaps y gráficos apilados.\n",
        "\n",
        "Este cuaderno está diseñado para iniciarse en la visualización con Pandas y Matplotlib/Seaborn."
      ]
    }
  ],
  "metadata": {
    "kernelspec": {
      "display_name": "base",
      "language": "python",
      "name": "python3"
    },
    "language_info": {
      "codemirror_mode": {
        "name": "ipython",
        "version": 3
      },
      "file_extension": ".py",
      "mimetype": "text/x-python",
      "name": "python",
      "nbconvert_exporter": "python",
      "pygments_lexer": "ipython3",
      "version": "3.13.5"
    }
  },
  "nbformat": 4,
  "nbformat_minor": 5
}
