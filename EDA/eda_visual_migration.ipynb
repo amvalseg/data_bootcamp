{
  "cells": [
    {
      "cell_type": "markdown",
      "id": "35acf31f",
      "metadata": {},
      "source": [
        "# 📘 EDA Visual: Flujos Migratorios Mixtos hacia Europa (2024)\n",
        "\n",
        "Este cuaderno muestra un **Análisis Exploratorio de Datos (EDA)** centrado en **visualizaciones básicas** para entender mejor los flujos migratorios hacia Europa.\n",
        "\n",
        "Dataset 1: `DTM_Mixed Migration Flows to Europe_Yearly_2024_1.xlsx` \n",
        "Dataset 2:  `DTM_Mixed Migration Flows to Europe_Yearly_2024_1.xlsx`\n",
        "Hoja: `First_Arrival_Countries_CoO`\n"
      ]
    },
    {
      "cell_type": "code",
      "execution_count": null,
      "id": "443b7e1d",
      "metadata": {},
      "outputs": [],
      "source": [
        "import pandas as pd\n",
        "import matplotlib.pyplot as plt\n",
        "import seaborn as sns"
      ]
    },
    {
      "cell_type": "markdown",
      "id": "fbf7cc10",
      "metadata": {},
      "source": [
        "## Librerías de Visualización de Datos\n",
        "\n",
        "**Matplotlib** es la librería fundamental para crear visualizaciones en Python. El módulo `pyplot` facilita la creación de gráficos.\n",
        "\n",
        "- **Uso principal**: Crear gráficos básicos (líneas, barras, dispersión, histogramas)\n",
        "- **Ventajas**: Control total sobre cada elemento del gráfico, altamente personalizable\n",
        "- **Sintaxis común**: `plt.plot()`, `plt.scatter()`, `plt.bar()`, `plt.show()`\n",
        "\n",
        "\n",
        "**Seaborn** es una librería construida sobre Matplotlib que facilita la creación de gráficos estadísticos atractivos y modernos.\n",
        "\n",
        "- **Uso principal**: Visualizaciones estadísticas con diseño elegante por defecto\n",
        "- **Ventajas**: \n",
        "  - Temas y paletas de colores profesionales integradas\n",
        "  - Funciones especializadas para análisis exploratorio\n",
        "  - Mejor manejo de DataFrames de pandas\n",
        "- **Sintaxis común**: `sns.histplot()`, `sns.scatterplot()`, `sns.heatmap()`, `sns.boxplot()`\n",
        "\n",
        "**Relación entre ambas**: Seaborn complementa a Matplotlib, añadiendo funcionalidad estadística y estética mejorada, pero ambas trabajan juntas perfectamente."
      ]
    },
    {
      "cell_type": "code",
      "execution_count": 28,
      "id": "3b8c52e9",
      "metadata": {},
      "outputs": [],
      "source": [
        "plt.style.use(\"seaborn-v0_8-pastel\")"
      ]
    },
    {
      "cell_type": "markdown",
      "id": "19c31103",
      "metadata": {},
      "source": [
        "## Configuración de Estilo Visual\n",
        "\n",
        "### plt.style.use(\"seaborn-v0_8-pastel\")\n",
        "\n",
        "Esta línea configura el **estilo visual global** de todos los gráficos de Matplotlib para que utilicen el tema **\"seaborn-v0_8-pastel\"**.\n",
        "\n",
        "**¿Qué hace?**\n",
        "- Aplica un esquema de colores y diseño\n",
        "- Afecta a todos los gráficos creados después de esta instrucción\n",
        "\n",
        "**Otros estilos populares:**\n",
        "- `\"seaborn\"` - estilo limpio y minimalista\n",
        "- `\"classic\"` - aspecto tradicional de Matplotlib\n",
        "- `\"dark_background\"` - fondo oscuro\n",
        "- `\"fivethirtyeight\"` - inspirado en el sitio de análisis estadístico\n",
        "\n",
        "> 💡 **Tip**: Puedes ver todos los estilos disponibles con `plt.style.available`\n",
        "En esta web puedes verlos: https://matplotlib.org/stable/gallery/style_sheets/style_sheets_reference.html"
      ]
    },
    {
      "cell_type": "markdown",
      "id": "d384af56",
      "metadata": {},
      "source": [
        "## 1. 📂 Carga de datos"
      ]
    },
    {
      "cell_type": "code",
      "execution_count": 29,
      "id": "4026de2c",
      "metadata": {},
      "outputs": [],
      "source": [
        "\n",
        "# Cargar dataset\n",
        "df1 = pd.read_excel(r\"C:\\Users\\amval\\Documents\\bootcamp_ug\\data_bootcamp\\EDA\\data\\DTM_Mixed Migration Flows to Europe_Yearly_2023_1.xlsx\",\n",
        "                   sheet_name=\"First_Arrival_Countries_CoO\")\n",
        "df2 = pd.read_excel(r\"C:\\Users\\amval\\Documents\\bootcamp_ug\\data_bootcamp\\EDA\\data\\DTM_Mixed Migration Flows to Europe_Yearly_2024_1.xlsx\",\n",
        "                   sheet_name=\"First_Arrival_Countries_CoO\")\n"
      ]
    },
    {
      "cell_type": "code",
      "execution_count": 30,
      "id": "8ce10f9b",
      "metadata": {},
      "outputs": [
        {
          "name": "stdout",
          "output_type": "stream",
          "text": [
            "<class 'pandas.core.frame.DataFrame'>\n",
            "RangeIndex: 2302 entries, 0 to 2301\n",
            "Data columns (total 6 columns):\n",
            " #   Column                                                                                                                                                                                                              Non-Null Count  Dtype \n",
            "---  ------                                                                                                                                                                                                              --------------  ----- \n",
            " 0   Unnamed: 0                                                                                                                                                                                                          2300 non-null   object\n",
            " 1   Unnamed: 1                                                                                                                                                                                                          2298 non-null   object\n",
            " 2   Unnamed: 2                                                                                                                                                                                                          2300 non-null   object\n",
            " 3   Unnamed: 3                                                                                                                                                                                                          2300 non-null   object\n",
            " 4   Information on origin is based on the nationality declared by migrants as reported by the national authorities. \n",
            "Any monthly update from national authorities may include adjustments to data for previous months.  2300 non-null   object\n",
            " 5   Unnamed: 5                                                                                                                                                                                                          2300 non-null   object\n",
            "dtypes: object(6)\n",
            "memory usage: 108.0+ KB\n"
          ]
        }
      ],
      "source": [
        "#Comparamos estructura antes de unir\n",
        "df1.info()"
      ]
    },
    {
      "cell_type": "code",
      "execution_count": 31,
      "id": "429f57ea",
      "metadata": {},
      "outputs": [
        {
          "data": {
            "application/vnd.microsoft.datawrangler.viewer.v0+json": {
              "columns": [
                {
                  "name": "index",
                  "rawType": "int64",
                  "type": "integer"
                },
                {
                  "name": "Unnamed: 0",
                  "rawType": "object",
                  "type": "unknown"
                },
                {
                  "name": "Unnamed: 1",
                  "rawType": "object",
                  "type": "unknown"
                },
                {
                  "name": "Unnamed: 2",
                  "rawType": "object",
                  "type": "unknown"
                },
                {
                  "name": "Unnamed: 3",
                  "rawType": "object",
                  "type": "unknown"
                },
                {
                  "name": "Information on origin is based on the nationality declared by migrants as reported by the national authorities. \nAny monthly update from national authorities may include adjustments to data for previous months.",
                  "rawType": "object",
                  "type": "unknown"
                },
                {
                  "name": "Unnamed: 5",
                  "rawType": "object",
                  "type": "unknown"
                }
              ],
              "ref": "ef414355-14db-4090-9aa3-5b6b264448ff",
              "rows": [
                [
                  "0",
                  null,
                  null,
                  null,
                  null,
                  null,
                  null
                ],
                [
                  "1",
                  null,
                  null,
                  null,
                  null,
                  null,
                  null
                ],
                [
                  "2",
                  "Date",
                  "ISO3 - Country of origin",
                  "Monthly arrivals",
                  "ISO3 - Country of arrival",
                  "Source",
                  "Route"
                ],
                [
                  "3",
                  "2023-01-31 00:00:00",
                  "AFG",
                  "353",
                  "BGR",
                  "Bulgarian Ministry of Interior",
                  "EMR"
                ],
                [
                  "4",
                  "2023-01-31 00:00:00",
                  "SYR",
                  "162",
                  "BGR",
                  "Bulgarian Ministry of Interior",
                  "EMR"
                ]
              ],
              "shape": {
                "columns": 6,
                "rows": 5
              }
            },
            "text/html": [
              "<div>\n",
              "<style scoped>\n",
              "    .dataframe tbody tr th:only-of-type {\n",
              "        vertical-align: middle;\n",
              "    }\n",
              "\n",
              "    .dataframe tbody tr th {\n",
              "        vertical-align: top;\n",
              "    }\n",
              "\n",
              "    .dataframe thead th {\n",
              "        text-align: right;\n",
              "    }\n",
              "</style>\n",
              "<table border=\"1\" class=\"dataframe\">\n",
              "  <thead>\n",
              "    <tr style=\"text-align: right;\">\n",
              "      <th></th>\n",
              "      <th>Unnamed: 0</th>\n",
              "      <th>Unnamed: 1</th>\n",
              "      <th>Unnamed: 2</th>\n",
              "      <th>Unnamed: 3</th>\n",
              "      <th>Information on origin is based on the nationality declared by migrants as reported by the national authorities. \\nAny monthly update from national authorities may include adjustments to data for previous months.</th>\n",
              "      <th>Unnamed: 5</th>\n",
              "    </tr>\n",
              "  </thead>\n",
              "  <tbody>\n",
              "    <tr>\n",
              "      <th>0</th>\n",
              "      <td>NaN</td>\n",
              "      <td>NaN</td>\n",
              "      <td>NaN</td>\n",
              "      <td>NaN</td>\n",
              "      <td>NaN</td>\n",
              "      <td>NaN</td>\n",
              "    </tr>\n",
              "    <tr>\n",
              "      <th>1</th>\n",
              "      <td>NaN</td>\n",
              "      <td>NaN</td>\n",
              "      <td>NaN</td>\n",
              "      <td>NaN</td>\n",
              "      <td>NaN</td>\n",
              "      <td>NaN</td>\n",
              "    </tr>\n",
              "    <tr>\n",
              "      <th>2</th>\n",
              "      <td>Date</td>\n",
              "      <td>ISO3 - Country of origin</td>\n",
              "      <td>Monthly arrivals</td>\n",
              "      <td>ISO3 - Country of arrival</td>\n",
              "      <td>Source</td>\n",
              "      <td>Route</td>\n",
              "    </tr>\n",
              "    <tr>\n",
              "      <th>3</th>\n",
              "      <td>2023-01-31 00:00:00</td>\n",
              "      <td>AFG</td>\n",
              "      <td>353</td>\n",
              "      <td>BGR</td>\n",
              "      <td>Bulgarian Ministry of Interior</td>\n",
              "      <td>EMR</td>\n",
              "    </tr>\n",
              "    <tr>\n",
              "      <th>4</th>\n",
              "      <td>2023-01-31 00:00:00</td>\n",
              "      <td>SYR</td>\n",
              "      <td>162</td>\n",
              "      <td>BGR</td>\n",
              "      <td>Bulgarian Ministry of Interior</td>\n",
              "      <td>EMR</td>\n",
              "    </tr>\n",
              "  </tbody>\n",
              "</table>\n",
              "</div>"
            ],
            "text/plain": [
              "            Unnamed: 0                Unnamed: 1        Unnamed: 2  \\\n",
              "0                  NaN                       NaN               NaN   \n",
              "1                  NaN                       NaN               NaN   \n",
              "2                 Date  ISO3 - Country of origin  Monthly arrivals   \n",
              "3  2023-01-31 00:00:00                       AFG               353   \n",
              "4  2023-01-31 00:00:00                       SYR               162   \n",
              "\n",
              "                  Unnamed: 3  \\\n",
              "0                        NaN   \n",
              "1                        NaN   \n",
              "2  ISO3 - Country of arrival   \n",
              "3                        BGR   \n",
              "4                        BGR   \n",
              "\n",
              "  Information on origin is based on the nationality declared by migrants as reported by the national authorities. \\nAny monthly update from national authorities may include adjustments to data for previous months.  \\\n",
              "0                                                NaN                                                                                                                                                                    \n",
              "1                                                NaN                                                                                                                                                                    \n",
              "2                                             Source                                                                                                                                                                    \n",
              "3                     Bulgarian Ministry of Interior                                                                                                                                                                    \n",
              "4                     Bulgarian Ministry of Interior                                                                                                                                                                    \n",
              "\n",
              "  Unnamed: 5  \n",
              "0        NaN  \n",
              "1        NaN  \n",
              "2      Route  \n",
              "3        EMR  \n",
              "4        EMR  "
            ]
          },
          "execution_count": 31,
          "metadata": {},
          "output_type": "execute_result"
        }
      ],
      "source": [
        "df1.head()"
      ]
    },
    {
      "cell_type": "code",
      "execution_count": 32,
      "id": "41e24eb7",
      "metadata": {},
      "outputs": [
        {
          "name": "stdout",
          "output_type": "stream",
          "text": [
            "<class 'pandas.core.frame.DataFrame'>\n",
            "RangeIndex: 1689 entries, 0 to 1688\n",
            "Data columns (total 8 columns):\n",
            " #   Column                     Non-Null Count  Dtype         \n",
            "---  ------                     --------------  -----         \n",
            " 0   Date                       1689 non-null   datetime64[ns]\n",
            " 1   Year                       1689 non-null   int64         \n",
            " 2   Month                      1689 non-null   int64         \n",
            " 3   ISO3 - Country of origin   1689 non-null   object        \n",
            " 4   ISO3 - Country of arrival  1689 non-null   object        \n",
            " 5   Route                      1689 non-null   object        \n",
            " 6   Arrivals                   1689 non-null   int64         \n",
            " 7   Source                     1689 non-null   object        \n",
            "dtypes: datetime64[ns](1), int64(3), object(4)\n",
            "memory usage: 105.7+ KB\n"
          ]
        }
      ],
      "source": [
        "df2.info()"
      ]
    },
    {
      "cell_type": "markdown",
      "id": "83fb80aa",
      "metadata": {},
      "source": [
        "Transformaciones sobre df1 para que coincida con df2"
      ]
    },
    {
      "cell_type": "code",
      "execution_count": 33,
      "id": "b05f31f4",
      "metadata": {},
      "outputs": [],
      "source": [
        "# Eliminamos las dos primeras filas y establecemos la tercera como encabezado\n",
        "df1.columns = df1.iloc[2]\n",
        "df1 = df1.drop([0, 1, 2]).reset_index(drop=True)"
      ]
    },
    {
      "cell_type": "code",
      "execution_count": 34,
      "id": "b065ebdb",
      "metadata": {},
      "outputs": [
        {
          "data": {
            "application/vnd.microsoft.datawrangler.viewer.v0+json": {
              "columns": [
                {
                  "name": "index",
                  "rawType": "int64",
                  "type": "integer"
                },
                {
                  "name": "Date",
                  "rawType": "object",
                  "type": "unknown"
                },
                {
                  "name": "ISO3 - Country of origin",
                  "rawType": "object",
                  "type": "unknown"
                },
                {
                  "name": "Monthly arrivals",
                  "rawType": "object",
                  "type": "unknown"
                },
                {
                  "name": "ISO3 - Country of arrival",
                  "rawType": "object",
                  "type": "string"
                },
                {
                  "name": "Source",
                  "rawType": "object",
                  "type": "string"
                },
                {
                  "name": "Route",
                  "rawType": "object",
                  "type": "string"
                }
              ],
              "ref": "e962a400-b1c3-46ba-9142-1dc7481289d5",
              "rows": [
                [
                  "0",
                  "2023-01-31 00:00:00",
                  "AFG",
                  "353",
                  "BGR",
                  "Bulgarian Ministry of Interior",
                  "EMR"
                ],
                [
                  "1",
                  "2023-01-31 00:00:00",
                  "SYR",
                  "162",
                  "BGR",
                  "Bulgarian Ministry of Interior",
                  "EMR"
                ],
                [
                  "2",
                  "2023-01-31 00:00:00",
                  "MAR",
                  "77",
                  "BGR",
                  "Bulgarian Ministry of Interior",
                  "EMR"
                ],
                [
                  "3",
                  "2023-01-31 00:00:00",
                  "TUR",
                  "6",
                  "BGR",
                  "Bulgarian Ministry of Interior",
                  "EMR"
                ],
                [
                  "4",
                  "2023-01-31 00:00:00",
                  "IRN",
                  "4",
                  "BGR",
                  "Bulgarian Ministry of Interior",
                  "EMR"
                ],
                [
                  "5",
                  "2023-01-31 00:00:00",
                  "IRQ",
                  "3",
                  "BGR",
                  "Bulgarian Ministry of Interior",
                  "EMR"
                ],
                [
                  "6",
                  "2023-02-28 00:00:00",
                  "AFG",
                  "371",
                  "BGR",
                  "Bulgarian Ministry of Interior",
                  "EMR"
                ],
                [
                  "7",
                  "2023-02-28 00:00:00",
                  "SYR",
                  "155",
                  "BGR",
                  "Bulgarian Ministry of Interior",
                  "EMR"
                ],
                [
                  "8",
                  "2023-02-28 00:00:00",
                  "MAR",
                  "99",
                  "BGR",
                  "Bulgarian Ministry of Interior",
                  "EMR"
                ],
                [
                  "9",
                  "2023-02-28 00:00:00",
                  "TUR",
                  "10",
                  "BGR",
                  "Bulgarian Ministry of Interior",
                  "EMR"
                ],
                [
                  "10",
                  "2023-02-28 00:00:00",
                  "IRQ",
                  "7",
                  "BGR",
                  "Bulgarian Ministry of Interior",
                  "EMR"
                ],
                [
                  "11",
                  "2023-02-28 00:00:00",
                  "IRN",
                  "4",
                  "BGR",
                  "Bulgarian Ministry of Interior",
                  "EMR"
                ],
                [
                  "12",
                  "2023-03-31 00:00:00",
                  "AFG",
                  "473",
                  "BGR",
                  "Bulgarian Ministry of Interior",
                  "EMR"
                ],
                [
                  "13",
                  "2023-03-31 00:00:00",
                  "SYR",
                  "377",
                  "BGR",
                  "Bulgarian Ministry of Interior",
                  "EMR"
                ],
                [
                  "14",
                  "2023-03-31 00:00:00",
                  "MAR",
                  "174",
                  "BGR",
                  "Bulgarian Ministry of Interior",
                  "EMR"
                ],
                [
                  "15",
                  "2023-03-31 00:00:00",
                  "TUR",
                  "9",
                  "BGR",
                  "Bulgarian Ministry of Interior",
                  "EMR"
                ],
                [
                  "16",
                  "2023-03-31 00:00:00",
                  "IRQ",
                  "7",
                  "BGR",
                  "Bulgarian Ministry of Interior",
                  "EMR"
                ],
                [
                  "17",
                  "2023-03-31 00:00:00",
                  "IRN",
                  "3",
                  "BGR",
                  "Bulgarian Ministry of Interior",
                  "EMR"
                ],
                [
                  "18",
                  "2023-04-30 00:00:00",
                  "SYR",
                  "302",
                  "BGR",
                  "Bulgarian Ministry of Interior",
                  "EMR"
                ],
                [
                  "19",
                  "2023-04-30 00:00:00",
                  "AFG",
                  "274",
                  "BGR",
                  "Bulgarian Ministry of Interior",
                  "EMR"
                ],
                [
                  "20",
                  "2023-04-30 00:00:00",
                  "MAR",
                  "40",
                  "BGR",
                  "Bulgarian Ministry of Interior",
                  "EMR"
                ],
                [
                  "21",
                  "2023-04-30 00:00:00",
                  "TUR",
                  "10",
                  "BGR",
                  "Bulgarian Ministry of Interior",
                  "EMR"
                ],
                [
                  "22",
                  "2023-04-30 00:00:00",
                  "IRQ",
                  "6",
                  "BGR",
                  "Bulgarian Ministry of Interior",
                  "EMR"
                ],
                [
                  "23",
                  "2023-04-30 00:00:00",
                  "IRN",
                  "1",
                  "BGR",
                  "Bulgarian Ministry of Interior",
                  "EMR"
                ],
                [
                  "24",
                  "2023-05-31 00:00:00",
                  "SYR",
                  "726",
                  "BGR",
                  "Bulgarian Ministry of Interior",
                  "EMR"
                ],
                [
                  "25",
                  "2023-05-31 00:00:00",
                  "AFG",
                  "285",
                  "BGR",
                  "Bulgarian Ministry of Interior",
                  "EMR"
                ],
                [
                  "26",
                  "2023-05-31 00:00:00",
                  "MAR",
                  "188",
                  "BGR",
                  "Bulgarian Ministry of Interior",
                  "EMR"
                ],
                [
                  "27",
                  "2023-05-31 00:00:00",
                  "IRQ",
                  "16",
                  "BGR",
                  "Bulgarian Ministry of Interior",
                  "EMR"
                ],
                [
                  "28",
                  "2023-05-31 00:00:00",
                  "TUR",
                  "8",
                  "BGR",
                  "Bulgarian Ministry of Interior",
                  "EMR"
                ],
                [
                  "29",
                  "2023-05-31 00:00:00",
                  "IRN",
                  "7",
                  "BGR",
                  "Bulgarian Ministry of Interior",
                  "EMR"
                ],
                [
                  "30",
                  "2023-06-30 00:00:00",
                  "SYR",
                  "992",
                  "BGR",
                  "Bulgarian Ministry of Interior",
                  "EMR"
                ],
                [
                  "31",
                  "2023-06-30 00:00:00",
                  "AFG",
                  "662",
                  "BGR",
                  "Bulgarian Ministry of Interior",
                  "EMR"
                ],
                [
                  "32",
                  "2023-06-30 00:00:00",
                  "MAR",
                  "193",
                  "BGR",
                  "Bulgarian Ministry of Interior",
                  "EMR"
                ],
                [
                  "33",
                  "2023-06-30 00:00:00",
                  "IRQ",
                  "84",
                  "BGR",
                  "Bulgarian Ministry of Interior",
                  "EMR"
                ],
                [
                  "34",
                  "2023-06-30 00:00:00",
                  "TUR",
                  "5",
                  "BGR",
                  "Bulgarian Ministry of Interior",
                  "EMR"
                ],
                [
                  "35",
                  "2023-06-30 00:00:00",
                  "IRN",
                  "4",
                  "BGR",
                  "Bulgarian Ministry of Interior",
                  "EMR"
                ],
                [
                  "36",
                  "2023-07-31 00:00:00",
                  "SYR",
                  "1188",
                  "BGR",
                  "Bulgarian Ministry of Interior",
                  "EMR"
                ],
                [
                  "37",
                  "2023-07-31 00:00:00",
                  "AFG",
                  "1014",
                  "BGR",
                  "Bulgarian Ministry of Interior",
                  "EMR"
                ],
                [
                  "38",
                  "2023-07-31 00:00:00",
                  "MAR",
                  "206",
                  "BGR",
                  "Bulgarian Ministry of Interior",
                  "EMR"
                ],
                [
                  "39",
                  "2023-07-31 00:00:00",
                  "IRQ",
                  "99",
                  "BGR",
                  "Bulgarian Ministry of Interior",
                  "EMR"
                ],
                [
                  "40",
                  "2023-07-31 00:00:00",
                  "TUR",
                  "13",
                  "BGR",
                  "Bulgarian Ministry of Interior",
                  "EMR"
                ],
                [
                  "41",
                  "2023-07-31 00:00:00",
                  "IRN",
                  "4",
                  "BGR",
                  "Bulgarian Ministry of Interior",
                  "EMR"
                ],
                [
                  "42",
                  "2023-08-31 00:00:00",
                  "SYR",
                  "2490",
                  "BGR",
                  "Bulgarian Ministry of Interior",
                  "EMR"
                ],
                [
                  "43",
                  "2023-08-31 00:00:00",
                  "AFG",
                  "1453",
                  "BGR",
                  "Bulgarian Ministry of Interior",
                  "EMR"
                ],
                [
                  "44",
                  "2023-08-31 00:00:00",
                  "MAR",
                  "444",
                  "BGR",
                  "Bulgarian Ministry of Interior",
                  "EMR"
                ],
                [
                  "45",
                  "2023-08-31 00:00:00",
                  "IRQ",
                  "159",
                  "BGR",
                  "Bulgarian Ministry of Interior",
                  "EMR"
                ],
                [
                  "46",
                  "2023-08-31 00:00:00",
                  "TUR",
                  "17",
                  "BGR",
                  "Bulgarian Ministry of Interior",
                  "EMR"
                ],
                [
                  "47",
                  "2023-08-31 00:00:00",
                  "IRN",
                  "13",
                  "BGR",
                  "Bulgarian Ministry of Interior",
                  "EMR"
                ],
                [
                  "48",
                  "2023-09-30 00:00:00",
                  "SYR",
                  "1480",
                  "BGR",
                  "Bulgarian Ministry of Interior",
                  "EMR"
                ],
                [
                  "49",
                  "2023-09-30 00:00:00",
                  "AFG",
                  "419",
                  "BGR",
                  "Bulgarian Ministry of Interior",
                  "EMR"
                ]
              ],
              "shape": {
                "columns": 6,
                "rows": 2299
              }
            },
            "text/html": [
              "<div>\n",
              "<style scoped>\n",
              "    .dataframe tbody tr th:only-of-type {\n",
              "        vertical-align: middle;\n",
              "    }\n",
              "\n",
              "    .dataframe tbody tr th {\n",
              "        vertical-align: top;\n",
              "    }\n",
              "\n",
              "    .dataframe thead th {\n",
              "        text-align: right;\n",
              "    }\n",
              "</style>\n",
              "<table border=\"1\" class=\"dataframe\">\n",
              "  <thead>\n",
              "    <tr style=\"text-align: right;\">\n",
              "      <th>2</th>\n",
              "      <th>Date</th>\n",
              "      <th>ISO3 - Country of origin</th>\n",
              "      <th>Monthly arrivals</th>\n",
              "      <th>ISO3 - Country of arrival</th>\n",
              "      <th>Source</th>\n",
              "      <th>Route</th>\n",
              "    </tr>\n",
              "  </thead>\n",
              "  <tbody>\n",
              "    <tr>\n",
              "      <th>0</th>\n",
              "      <td>2023-01-31 00:00:00</td>\n",
              "      <td>AFG</td>\n",
              "      <td>353</td>\n",
              "      <td>BGR</td>\n",
              "      <td>Bulgarian Ministry of Interior</td>\n",
              "      <td>EMR</td>\n",
              "    </tr>\n",
              "    <tr>\n",
              "      <th>1</th>\n",
              "      <td>2023-01-31 00:00:00</td>\n",
              "      <td>SYR</td>\n",
              "      <td>162</td>\n",
              "      <td>BGR</td>\n",
              "      <td>Bulgarian Ministry of Interior</td>\n",
              "      <td>EMR</td>\n",
              "    </tr>\n",
              "    <tr>\n",
              "      <th>2</th>\n",
              "      <td>2023-01-31 00:00:00</td>\n",
              "      <td>MAR</td>\n",
              "      <td>77</td>\n",
              "      <td>BGR</td>\n",
              "      <td>Bulgarian Ministry of Interior</td>\n",
              "      <td>EMR</td>\n",
              "    </tr>\n",
              "    <tr>\n",
              "      <th>3</th>\n",
              "      <td>2023-01-31 00:00:00</td>\n",
              "      <td>TUR</td>\n",
              "      <td>6</td>\n",
              "      <td>BGR</td>\n",
              "      <td>Bulgarian Ministry of Interior</td>\n",
              "      <td>EMR</td>\n",
              "    </tr>\n",
              "    <tr>\n",
              "      <th>4</th>\n",
              "      <td>2023-01-31 00:00:00</td>\n",
              "      <td>IRN</td>\n",
              "      <td>4</td>\n",
              "      <td>BGR</td>\n",
              "      <td>Bulgarian Ministry of Interior</td>\n",
              "      <td>EMR</td>\n",
              "    </tr>\n",
              "    <tr>\n",
              "      <th>...</th>\n",
              "      <td>...</td>\n",
              "      <td>...</td>\n",
              "      <td>...</td>\n",
              "      <td>...</td>\n",
              "      <td>...</td>\n",
              "      <td>...</td>\n",
              "    </tr>\n",
              "    <tr>\n",
              "      <th>2294</th>\n",
              "      <td>2023-12-02 00:00:00</td>\n",
              "      <td>PAK</td>\n",
              "      <td>12</td>\n",
              "      <td>MLT</td>\n",
              "      <td>Ministry of Home Affairs, Security, Reforms an...</td>\n",
              "      <td>CMR</td>\n",
              "    </tr>\n",
              "    <tr>\n",
              "      <th>2295</th>\n",
              "      <td>2023-12-02 00:00:00</td>\n",
              "      <td>EGY</td>\n",
              "      <td>6</td>\n",
              "      <td>MLT</td>\n",
              "      <td>Ministry of Home Affairs, Security, Reforms an...</td>\n",
              "      <td>CMR</td>\n",
              "    </tr>\n",
              "    <tr>\n",
              "      <th>2296</th>\n",
              "      <td>2023-12-02 00:00:00</td>\n",
              "      <td>BGD</td>\n",
              "      <td>5</td>\n",
              "      <td>MLT</td>\n",
              "      <td>Ministry of Home Affairs, Security, Reforms an...</td>\n",
              "      <td>CMR</td>\n",
              "    </tr>\n",
              "    <tr>\n",
              "      <th>2297</th>\n",
              "      <td>2023-12-02 00:00:00</td>\n",
              "      <td>ERI</td>\n",
              "      <td>4</td>\n",
              "      <td>MLT</td>\n",
              "      <td>Ministry of Home Affairs, Security, Reforms an...</td>\n",
              "      <td>CMR</td>\n",
              "    </tr>\n",
              "    <tr>\n",
              "      <th>2298</th>\n",
              "      <td>2023-12-02 00:00:00</td>\n",
              "      <td>SDN</td>\n",
              "      <td>1</td>\n",
              "      <td>MLT</td>\n",
              "      <td>Ministry of Home Affairs, Security, Reforms an...</td>\n",
              "      <td>CMR</td>\n",
              "    </tr>\n",
              "  </tbody>\n",
              "</table>\n",
              "<p>2299 rows × 6 columns</p>\n",
              "</div>"
            ],
            "text/plain": [
              "2                    Date ISO3 - Country of origin Monthly arrivals  \\\n",
              "0     2023-01-31 00:00:00                      AFG              353   \n",
              "1     2023-01-31 00:00:00                      SYR              162   \n",
              "2     2023-01-31 00:00:00                      MAR               77   \n",
              "3     2023-01-31 00:00:00                      TUR                6   \n",
              "4     2023-01-31 00:00:00                      IRN                4   \n",
              "...                   ...                      ...              ...   \n",
              "2294  2023-12-02 00:00:00                      PAK               12   \n",
              "2295  2023-12-02 00:00:00                      EGY                6   \n",
              "2296  2023-12-02 00:00:00                      BGD                5   \n",
              "2297  2023-12-02 00:00:00                      ERI                4   \n",
              "2298  2023-12-02 00:00:00                      SDN                1   \n",
              "\n",
              "2    ISO3 - Country of arrival  \\\n",
              "0                          BGR   \n",
              "1                          BGR   \n",
              "2                          BGR   \n",
              "3                          BGR   \n",
              "4                          BGR   \n",
              "...                        ...   \n",
              "2294                       MLT   \n",
              "2295                       MLT   \n",
              "2296                       MLT   \n",
              "2297                       MLT   \n",
              "2298                       MLT   \n",
              "\n",
              "2                                                Source Route  \n",
              "0                        Bulgarian Ministry of Interior   EMR  \n",
              "1                        Bulgarian Ministry of Interior   EMR  \n",
              "2                        Bulgarian Ministry of Interior   EMR  \n",
              "3                        Bulgarian Ministry of Interior   EMR  \n",
              "4                        Bulgarian Ministry of Interior   EMR  \n",
              "...                                                 ...   ...  \n",
              "2294  Ministry of Home Affairs, Security, Reforms an...   CMR  \n",
              "2295  Ministry of Home Affairs, Security, Reforms an...   CMR  \n",
              "2296  Ministry of Home Affairs, Security, Reforms an...   CMR  \n",
              "2297  Ministry of Home Affairs, Security, Reforms an...   CMR  \n",
              "2298  Ministry of Home Affairs, Security, Reforms an...   CMR  \n",
              "\n",
              "[2299 rows x 6 columns]"
            ]
          },
          "execution_count": 34,
          "metadata": {},
          "output_type": "execute_result"
        }
      ],
      "source": [
        "df1"
      ]
    },
    {
      "cell_type": "code",
      "execution_count": 35,
      "id": "27ac966c",
      "metadata": {},
      "outputs": [
        {
          "data": {
            "text/plain": [
              "Index(['Date', 'ISO3 - Country of origin', 'Monthly arrivals',\n",
              "       'ISO3 - Country of arrival', 'Source', 'Route'],\n",
              "      dtype='object', name=2)"
            ]
          },
          "execution_count": 35,
          "metadata": {},
          "output_type": "execute_result"
        }
      ],
      "source": [
        "df1.columns"
      ]
    },
    {
      "cell_type": "code",
      "execution_count": 36,
      "id": "01dc3386",
      "metadata": {},
      "outputs": [
        {
          "data": {
            "text/plain": [
              "Index(['Date', 'Year', 'Month', 'ISO3 - Country of origin',\n",
              "       'ISO3 - Country of arrival', 'Route', 'Arrivals', 'Source'],\n",
              "      dtype='object')"
            ]
          },
          "execution_count": 36,
          "metadata": {},
          "output_type": "execute_result"
        }
      ],
      "source": [
        "df2.columns"
      ]
    },
    {
      "cell_type": "code",
      "execution_count": 41,
      "id": "771eb5f8",
      "metadata": {},
      "outputs": [],
      "source": [
        "#Creamos las columnas Year y Month a partir de Date\n",
        "#Primero ajustamos el tipo de dato de la columna Date\n",
        "df1['Date'] = pd.to_datetime(df1['Date'])\n"
      ]
    },
    {
      "cell_type": "code",
      "execution_count": 42,
      "id": "3eac1975",
      "metadata": {},
      "outputs": [],
      "source": [
        "df1['Year'] = df1['Date'].dt.year\n",
        "df1['Month'] = df1['Date'].dt.month"
      ]
    },
    {
      "cell_type": "code",
      "execution_count": 43,
      "id": "a1c6b4d5",
      "metadata": {},
      "outputs": [],
      "source": [
        "#Renombramos columna para que sea idéntica a df2\n",
        "df1 = df1.rename(columns={'Monthly arrivals': 'Arrivals'})"
      ]
    },
    {
      "cell_type": "code",
      "execution_count": 47,
      "id": "3b41df60",
      "metadata": {},
      "outputs": [
        {
          "data": {
            "text/plain": [
              "Index(['Date', 'Year', 'Month', 'ISO3 - Country of origin',\n",
              "       'ISO3 - Country of arrival', 'Route', 'Arrivals', 'Source'],\n",
              "      dtype='object', name=2)"
            ]
          },
          "execution_count": 47,
          "metadata": {},
          "output_type": "execute_result"
        }
      ],
      "source": [
        "df1.columns"
      ]
    },
    {
      "cell_type": "code",
      "execution_count": 48,
      "id": "ef889068",
      "metadata": {},
      "outputs": [
        {
          "data": {
            "text/plain": [
              "Index(['Date', 'Year', 'Month', 'ISO3 - Country of origin',\n",
              "       'ISO3 - Country of arrival', 'Route', 'Arrivals', 'Source'],\n",
              "      dtype='object')"
            ]
          },
          "execution_count": 48,
          "metadata": {},
          "output_type": "execute_result"
        }
      ],
      "source": [
        "df2.columns"
      ]
    },
    {
      "cell_type": "code",
      "execution_count": 46,
      "id": "1a5cffbc",
      "metadata": {},
      "outputs": [
        {
          "data": {
            "application/vnd.microsoft.datawrangler.viewer.v0+json": {
              "columns": [
                {
                  "name": "index",
                  "rawType": "int64",
                  "type": "integer"
                },
                {
                  "name": "Date",
                  "rawType": "datetime64[ns]",
                  "type": "datetime"
                },
                {
                  "name": "Year",
                  "rawType": "int32",
                  "type": "integer"
                },
                {
                  "name": "Month",
                  "rawType": "int32",
                  "type": "integer"
                },
                {
                  "name": "ISO3 - Country of origin",
                  "rawType": "object",
                  "type": "string"
                },
                {
                  "name": "ISO3 - Country of arrival",
                  "rawType": "object",
                  "type": "string"
                },
                {
                  "name": "Route",
                  "rawType": "object",
                  "type": "string"
                },
                {
                  "name": "Arrivals",
                  "rawType": "object",
                  "type": "unknown"
                },
                {
                  "name": "Source",
                  "rawType": "object",
                  "type": "string"
                }
              ],
              "ref": "c2dd76e9-70ef-4d48-8134-a72ba1c6e3ea",
              "rows": [
                [
                  "0",
                  "2023-01-31 00:00:00",
                  "2023",
                  "1",
                  "AFG",
                  "BGR",
                  "EMR",
                  "353",
                  "Bulgarian Ministry of Interior"
                ],
                [
                  "1",
                  "2023-01-31 00:00:00",
                  "2023",
                  "1",
                  "SYR",
                  "BGR",
                  "EMR",
                  "162",
                  "Bulgarian Ministry of Interior"
                ],
                [
                  "2",
                  "2023-01-31 00:00:00",
                  "2023",
                  "1",
                  "MAR",
                  "BGR",
                  "EMR",
                  "77",
                  "Bulgarian Ministry of Interior"
                ],
                [
                  "3",
                  "2023-01-31 00:00:00",
                  "2023",
                  "1",
                  "TUR",
                  "BGR",
                  "EMR",
                  "6",
                  "Bulgarian Ministry of Interior"
                ],
                [
                  "4",
                  "2023-01-31 00:00:00",
                  "2023",
                  "1",
                  "IRN",
                  "BGR",
                  "EMR",
                  "4",
                  "Bulgarian Ministry of Interior"
                ]
              ],
              "shape": {
                "columns": 8,
                "rows": 5
              }
            },
            "text/html": [
              "<div>\n",
              "<style scoped>\n",
              "    .dataframe tbody tr th:only-of-type {\n",
              "        vertical-align: middle;\n",
              "    }\n",
              "\n",
              "    .dataframe tbody tr th {\n",
              "        vertical-align: top;\n",
              "    }\n",
              "\n",
              "    .dataframe thead th {\n",
              "        text-align: right;\n",
              "    }\n",
              "</style>\n",
              "<table border=\"1\" class=\"dataframe\">\n",
              "  <thead>\n",
              "    <tr style=\"text-align: right;\">\n",
              "      <th>2</th>\n",
              "      <th>Date</th>\n",
              "      <th>Year</th>\n",
              "      <th>Month</th>\n",
              "      <th>ISO3 - Country of origin</th>\n",
              "      <th>ISO3 - Country of arrival</th>\n",
              "      <th>Route</th>\n",
              "      <th>Arrivals</th>\n",
              "      <th>Source</th>\n",
              "    </tr>\n",
              "  </thead>\n",
              "  <tbody>\n",
              "    <tr>\n",
              "      <th>0</th>\n",
              "      <td>2023-01-31</td>\n",
              "      <td>2023</td>\n",
              "      <td>1</td>\n",
              "      <td>AFG</td>\n",
              "      <td>BGR</td>\n",
              "      <td>EMR</td>\n",
              "      <td>353</td>\n",
              "      <td>Bulgarian Ministry of Interior</td>\n",
              "    </tr>\n",
              "    <tr>\n",
              "      <th>1</th>\n",
              "      <td>2023-01-31</td>\n",
              "      <td>2023</td>\n",
              "      <td>1</td>\n",
              "      <td>SYR</td>\n",
              "      <td>BGR</td>\n",
              "      <td>EMR</td>\n",
              "      <td>162</td>\n",
              "      <td>Bulgarian Ministry of Interior</td>\n",
              "    </tr>\n",
              "    <tr>\n",
              "      <th>2</th>\n",
              "      <td>2023-01-31</td>\n",
              "      <td>2023</td>\n",
              "      <td>1</td>\n",
              "      <td>MAR</td>\n",
              "      <td>BGR</td>\n",
              "      <td>EMR</td>\n",
              "      <td>77</td>\n",
              "      <td>Bulgarian Ministry of Interior</td>\n",
              "    </tr>\n",
              "    <tr>\n",
              "      <th>3</th>\n",
              "      <td>2023-01-31</td>\n",
              "      <td>2023</td>\n",
              "      <td>1</td>\n",
              "      <td>TUR</td>\n",
              "      <td>BGR</td>\n",
              "      <td>EMR</td>\n",
              "      <td>6</td>\n",
              "      <td>Bulgarian Ministry of Interior</td>\n",
              "    </tr>\n",
              "    <tr>\n",
              "      <th>4</th>\n",
              "      <td>2023-01-31</td>\n",
              "      <td>2023</td>\n",
              "      <td>1</td>\n",
              "      <td>IRN</td>\n",
              "      <td>BGR</td>\n",
              "      <td>EMR</td>\n",
              "      <td>4</td>\n",
              "      <td>Bulgarian Ministry of Interior</td>\n",
              "    </tr>\n",
              "  </tbody>\n",
              "</table>\n",
              "</div>"
            ],
            "text/plain": [
              "2       Date  Year  Month ISO3 - Country of origin ISO3 - Country of arrival  \\\n",
              "0 2023-01-31  2023      1                      AFG                       BGR   \n",
              "1 2023-01-31  2023      1                      SYR                       BGR   \n",
              "2 2023-01-31  2023      1                      MAR                       BGR   \n",
              "3 2023-01-31  2023      1                      TUR                       BGR   \n",
              "4 2023-01-31  2023      1                      IRN                       BGR   \n",
              "\n",
              "2 Route Arrivals                          Source  \n",
              "0   EMR      353  Bulgarian Ministry of Interior  \n",
              "1   EMR      162  Bulgarian Ministry of Interior  \n",
              "2   EMR       77  Bulgarian Ministry of Interior  \n",
              "3   EMR        6  Bulgarian Ministry of Interior  \n",
              "4   EMR        4  Bulgarian Ministry of Interior  "
            ]
          },
          "execution_count": 46,
          "metadata": {},
          "output_type": "execute_result"
        }
      ],
      "source": [
        "# Reordenamos las columnas de df1 para que coincidan con el orden de df2\n",
        "df1 = df1[['Date', 'Year', 'Month', 'ISO3 - Country of origin', 'ISO3 - Country of arrival', 'Route', 'Arrivals', 'Source']]\n",
        "df1.head()"
      ]
    },
    {
      "cell_type": "code",
      "execution_count": 49,
      "id": "bf5579f8",
      "metadata": {},
      "outputs": [],
      "source": [
        "#Unimos los dos df\n",
        "df_arrivals = pd.concat([df1, df2], ignore_index=True)"
      ]
    },
    {
      "cell_type": "code",
      "execution_count": 50,
      "id": "bac69a41",
      "metadata": {},
      "outputs": [
        {
          "data": {
            "application/vnd.microsoft.datawrangler.viewer.v0+json": {
              "columns": [
                {
                  "name": "index",
                  "rawType": "int64",
                  "type": "integer"
                },
                {
                  "name": "Date",
                  "rawType": "datetime64[ns]",
                  "type": "datetime"
                },
                {
                  "name": "Year",
                  "rawType": "int64",
                  "type": "integer"
                },
                {
                  "name": "Month",
                  "rawType": "int64",
                  "type": "integer"
                },
                {
                  "name": "ISO3 - Country of origin",
                  "rawType": "object",
                  "type": "unknown"
                },
                {
                  "name": "ISO3 - Country of arrival",
                  "rawType": "object",
                  "type": "string"
                },
                {
                  "name": "Route",
                  "rawType": "object",
                  "type": "string"
                },
                {
                  "name": "Arrivals",
                  "rawType": "object",
                  "type": "unknown"
                },
                {
                  "name": "Source",
                  "rawType": "object",
                  "type": "string"
                }
              ],
              "ref": "a0e5b77d-72bf-472f-b931-73a5d24d517f",
              "rows": [
                [
                  "0",
                  "2023-01-31 00:00:00",
                  "2023",
                  "1",
                  "AFG",
                  "BGR",
                  "EMR",
                  "353",
                  "Bulgarian Ministry of Interior"
                ],
                [
                  "1",
                  "2023-01-31 00:00:00",
                  "2023",
                  "1",
                  "SYR",
                  "BGR",
                  "EMR",
                  "162",
                  "Bulgarian Ministry of Interior"
                ],
                [
                  "2",
                  "2023-01-31 00:00:00",
                  "2023",
                  "1",
                  "MAR",
                  "BGR",
                  "EMR",
                  "77",
                  "Bulgarian Ministry of Interior"
                ],
                [
                  "3",
                  "2023-01-31 00:00:00",
                  "2023",
                  "1",
                  "TUR",
                  "BGR",
                  "EMR",
                  "6",
                  "Bulgarian Ministry of Interior"
                ],
                [
                  "4",
                  "2023-01-31 00:00:00",
                  "2023",
                  "1",
                  "IRN",
                  "BGR",
                  "EMR",
                  "4",
                  "Bulgarian Ministry of Interior"
                ],
                [
                  "5",
                  "2023-01-31 00:00:00",
                  "2023",
                  "1",
                  "IRQ",
                  "BGR",
                  "EMR",
                  "3",
                  "Bulgarian Ministry of Interior"
                ],
                [
                  "6",
                  "2023-02-28 00:00:00",
                  "2023",
                  "2",
                  "AFG",
                  "BGR",
                  "EMR",
                  "371",
                  "Bulgarian Ministry of Interior"
                ],
                [
                  "7",
                  "2023-02-28 00:00:00",
                  "2023",
                  "2",
                  "SYR",
                  "BGR",
                  "EMR",
                  "155",
                  "Bulgarian Ministry of Interior"
                ],
                [
                  "8",
                  "2023-02-28 00:00:00",
                  "2023",
                  "2",
                  "MAR",
                  "BGR",
                  "EMR",
                  "99",
                  "Bulgarian Ministry of Interior"
                ],
                [
                  "9",
                  "2023-02-28 00:00:00",
                  "2023",
                  "2",
                  "TUR",
                  "BGR",
                  "EMR",
                  "10",
                  "Bulgarian Ministry of Interior"
                ],
                [
                  "10",
                  "2023-02-28 00:00:00",
                  "2023",
                  "2",
                  "IRQ",
                  "BGR",
                  "EMR",
                  "7",
                  "Bulgarian Ministry of Interior"
                ],
                [
                  "11",
                  "2023-02-28 00:00:00",
                  "2023",
                  "2",
                  "IRN",
                  "BGR",
                  "EMR",
                  "4",
                  "Bulgarian Ministry of Interior"
                ],
                [
                  "12",
                  "2023-03-31 00:00:00",
                  "2023",
                  "3",
                  "AFG",
                  "BGR",
                  "EMR",
                  "473",
                  "Bulgarian Ministry of Interior"
                ],
                [
                  "13",
                  "2023-03-31 00:00:00",
                  "2023",
                  "3",
                  "SYR",
                  "BGR",
                  "EMR",
                  "377",
                  "Bulgarian Ministry of Interior"
                ],
                [
                  "14",
                  "2023-03-31 00:00:00",
                  "2023",
                  "3",
                  "MAR",
                  "BGR",
                  "EMR",
                  "174",
                  "Bulgarian Ministry of Interior"
                ],
                [
                  "15",
                  "2023-03-31 00:00:00",
                  "2023",
                  "3",
                  "TUR",
                  "BGR",
                  "EMR",
                  "9",
                  "Bulgarian Ministry of Interior"
                ],
                [
                  "16",
                  "2023-03-31 00:00:00",
                  "2023",
                  "3",
                  "IRQ",
                  "BGR",
                  "EMR",
                  "7",
                  "Bulgarian Ministry of Interior"
                ],
                [
                  "17",
                  "2023-03-31 00:00:00",
                  "2023",
                  "3",
                  "IRN",
                  "BGR",
                  "EMR",
                  "3",
                  "Bulgarian Ministry of Interior"
                ],
                [
                  "18",
                  "2023-04-30 00:00:00",
                  "2023",
                  "4",
                  "SYR",
                  "BGR",
                  "EMR",
                  "302",
                  "Bulgarian Ministry of Interior"
                ],
                [
                  "19",
                  "2023-04-30 00:00:00",
                  "2023",
                  "4",
                  "AFG",
                  "BGR",
                  "EMR",
                  "274",
                  "Bulgarian Ministry of Interior"
                ],
                [
                  "20",
                  "2023-04-30 00:00:00",
                  "2023",
                  "4",
                  "MAR",
                  "BGR",
                  "EMR",
                  "40",
                  "Bulgarian Ministry of Interior"
                ],
                [
                  "21",
                  "2023-04-30 00:00:00",
                  "2023",
                  "4",
                  "TUR",
                  "BGR",
                  "EMR",
                  "10",
                  "Bulgarian Ministry of Interior"
                ],
                [
                  "22",
                  "2023-04-30 00:00:00",
                  "2023",
                  "4",
                  "IRQ",
                  "BGR",
                  "EMR",
                  "6",
                  "Bulgarian Ministry of Interior"
                ],
                [
                  "23",
                  "2023-04-30 00:00:00",
                  "2023",
                  "4",
                  "IRN",
                  "BGR",
                  "EMR",
                  "1",
                  "Bulgarian Ministry of Interior"
                ],
                [
                  "24",
                  "2023-05-31 00:00:00",
                  "2023",
                  "5",
                  "SYR",
                  "BGR",
                  "EMR",
                  "726",
                  "Bulgarian Ministry of Interior"
                ],
                [
                  "25",
                  "2023-05-31 00:00:00",
                  "2023",
                  "5",
                  "AFG",
                  "BGR",
                  "EMR",
                  "285",
                  "Bulgarian Ministry of Interior"
                ],
                [
                  "26",
                  "2023-05-31 00:00:00",
                  "2023",
                  "5",
                  "MAR",
                  "BGR",
                  "EMR",
                  "188",
                  "Bulgarian Ministry of Interior"
                ],
                [
                  "27",
                  "2023-05-31 00:00:00",
                  "2023",
                  "5",
                  "IRQ",
                  "BGR",
                  "EMR",
                  "16",
                  "Bulgarian Ministry of Interior"
                ],
                [
                  "28",
                  "2023-05-31 00:00:00",
                  "2023",
                  "5",
                  "TUR",
                  "BGR",
                  "EMR",
                  "8",
                  "Bulgarian Ministry of Interior"
                ],
                [
                  "29",
                  "2023-05-31 00:00:00",
                  "2023",
                  "5",
                  "IRN",
                  "BGR",
                  "EMR",
                  "7",
                  "Bulgarian Ministry of Interior"
                ],
                [
                  "30",
                  "2023-06-30 00:00:00",
                  "2023",
                  "6",
                  "SYR",
                  "BGR",
                  "EMR",
                  "992",
                  "Bulgarian Ministry of Interior"
                ],
                [
                  "31",
                  "2023-06-30 00:00:00",
                  "2023",
                  "6",
                  "AFG",
                  "BGR",
                  "EMR",
                  "662",
                  "Bulgarian Ministry of Interior"
                ],
                [
                  "32",
                  "2023-06-30 00:00:00",
                  "2023",
                  "6",
                  "MAR",
                  "BGR",
                  "EMR",
                  "193",
                  "Bulgarian Ministry of Interior"
                ],
                [
                  "33",
                  "2023-06-30 00:00:00",
                  "2023",
                  "6",
                  "IRQ",
                  "BGR",
                  "EMR",
                  "84",
                  "Bulgarian Ministry of Interior"
                ],
                [
                  "34",
                  "2023-06-30 00:00:00",
                  "2023",
                  "6",
                  "TUR",
                  "BGR",
                  "EMR",
                  "5",
                  "Bulgarian Ministry of Interior"
                ],
                [
                  "35",
                  "2023-06-30 00:00:00",
                  "2023",
                  "6",
                  "IRN",
                  "BGR",
                  "EMR",
                  "4",
                  "Bulgarian Ministry of Interior"
                ],
                [
                  "36",
                  "2023-07-31 00:00:00",
                  "2023",
                  "7",
                  "SYR",
                  "BGR",
                  "EMR",
                  "1188",
                  "Bulgarian Ministry of Interior"
                ],
                [
                  "37",
                  "2023-07-31 00:00:00",
                  "2023",
                  "7",
                  "AFG",
                  "BGR",
                  "EMR",
                  "1014",
                  "Bulgarian Ministry of Interior"
                ],
                [
                  "38",
                  "2023-07-31 00:00:00",
                  "2023",
                  "7",
                  "MAR",
                  "BGR",
                  "EMR",
                  "206",
                  "Bulgarian Ministry of Interior"
                ],
                [
                  "39",
                  "2023-07-31 00:00:00",
                  "2023",
                  "7",
                  "IRQ",
                  "BGR",
                  "EMR",
                  "99",
                  "Bulgarian Ministry of Interior"
                ],
                [
                  "40",
                  "2023-07-31 00:00:00",
                  "2023",
                  "7",
                  "TUR",
                  "BGR",
                  "EMR",
                  "13",
                  "Bulgarian Ministry of Interior"
                ],
                [
                  "41",
                  "2023-07-31 00:00:00",
                  "2023",
                  "7",
                  "IRN",
                  "BGR",
                  "EMR",
                  "4",
                  "Bulgarian Ministry of Interior"
                ],
                [
                  "42",
                  "2023-08-31 00:00:00",
                  "2023",
                  "8",
                  "SYR",
                  "BGR",
                  "EMR",
                  "2490",
                  "Bulgarian Ministry of Interior"
                ],
                [
                  "43",
                  "2023-08-31 00:00:00",
                  "2023",
                  "8",
                  "AFG",
                  "BGR",
                  "EMR",
                  "1453",
                  "Bulgarian Ministry of Interior"
                ],
                [
                  "44",
                  "2023-08-31 00:00:00",
                  "2023",
                  "8",
                  "MAR",
                  "BGR",
                  "EMR",
                  "444",
                  "Bulgarian Ministry of Interior"
                ],
                [
                  "45",
                  "2023-08-31 00:00:00",
                  "2023",
                  "8",
                  "IRQ",
                  "BGR",
                  "EMR",
                  "159",
                  "Bulgarian Ministry of Interior"
                ],
                [
                  "46",
                  "2023-08-31 00:00:00",
                  "2023",
                  "8",
                  "TUR",
                  "BGR",
                  "EMR",
                  "17",
                  "Bulgarian Ministry of Interior"
                ],
                [
                  "47",
                  "2023-08-31 00:00:00",
                  "2023",
                  "8",
                  "IRN",
                  "BGR",
                  "EMR",
                  "13",
                  "Bulgarian Ministry of Interior"
                ],
                [
                  "48",
                  "2023-09-30 00:00:00",
                  "2023",
                  "9",
                  "SYR",
                  "BGR",
                  "EMR",
                  "1480",
                  "Bulgarian Ministry of Interior"
                ],
                [
                  "49",
                  "2023-09-30 00:00:00",
                  "2023",
                  "9",
                  "AFG",
                  "BGR",
                  "EMR",
                  "419",
                  "Bulgarian Ministry of Interior"
                ]
              ],
              "shape": {
                "columns": 8,
                "rows": 3988
              }
            },
            "text/html": [
              "<div>\n",
              "<style scoped>\n",
              "    .dataframe tbody tr th:only-of-type {\n",
              "        vertical-align: middle;\n",
              "    }\n",
              "\n",
              "    .dataframe tbody tr th {\n",
              "        vertical-align: top;\n",
              "    }\n",
              "\n",
              "    .dataframe thead th {\n",
              "        text-align: right;\n",
              "    }\n",
              "</style>\n",
              "<table border=\"1\" class=\"dataframe\">\n",
              "  <thead>\n",
              "    <tr style=\"text-align: right;\">\n",
              "      <th></th>\n",
              "      <th>Date</th>\n",
              "      <th>Year</th>\n",
              "      <th>Month</th>\n",
              "      <th>ISO3 - Country of origin</th>\n",
              "      <th>ISO3 - Country of arrival</th>\n",
              "      <th>Route</th>\n",
              "      <th>Arrivals</th>\n",
              "      <th>Source</th>\n",
              "    </tr>\n",
              "  </thead>\n",
              "  <tbody>\n",
              "    <tr>\n",
              "      <th>0</th>\n",
              "      <td>2023-01-31</td>\n",
              "      <td>2023</td>\n",
              "      <td>1</td>\n",
              "      <td>AFG</td>\n",
              "      <td>BGR</td>\n",
              "      <td>EMR</td>\n",
              "      <td>353</td>\n",
              "      <td>Bulgarian Ministry of Interior</td>\n",
              "    </tr>\n",
              "    <tr>\n",
              "      <th>1</th>\n",
              "      <td>2023-01-31</td>\n",
              "      <td>2023</td>\n",
              "      <td>1</td>\n",
              "      <td>SYR</td>\n",
              "      <td>BGR</td>\n",
              "      <td>EMR</td>\n",
              "      <td>162</td>\n",
              "      <td>Bulgarian Ministry of Interior</td>\n",
              "    </tr>\n",
              "    <tr>\n",
              "      <th>2</th>\n",
              "      <td>2023-01-31</td>\n",
              "      <td>2023</td>\n",
              "      <td>1</td>\n",
              "      <td>MAR</td>\n",
              "      <td>BGR</td>\n",
              "      <td>EMR</td>\n",
              "      <td>77</td>\n",
              "      <td>Bulgarian Ministry of Interior</td>\n",
              "    </tr>\n",
              "    <tr>\n",
              "      <th>3</th>\n",
              "      <td>2023-01-31</td>\n",
              "      <td>2023</td>\n",
              "      <td>1</td>\n",
              "      <td>TUR</td>\n",
              "      <td>BGR</td>\n",
              "      <td>EMR</td>\n",
              "      <td>6</td>\n",
              "      <td>Bulgarian Ministry of Interior</td>\n",
              "    </tr>\n",
              "    <tr>\n",
              "      <th>4</th>\n",
              "      <td>2023-01-31</td>\n",
              "      <td>2023</td>\n",
              "      <td>1</td>\n",
              "      <td>IRN</td>\n",
              "      <td>BGR</td>\n",
              "      <td>EMR</td>\n",
              "      <td>4</td>\n",
              "      <td>Bulgarian Ministry of Interior</td>\n",
              "    </tr>\n",
              "    <tr>\n",
              "      <th>...</th>\n",
              "      <td>...</td>\n",
              "      <td>...</td>\n",
              "      <td>...</td>\n",
              "      <td>...</td>\n",
              "      <td>...</td>\n",
              "      <td>...</td>\n",
              "      <td>...</td>\n",
              "      <td>...</td>\n",
              "    </tr>\n",
              "    <tr>\n",
              "      <th>3983</th>\n",
              "      <td>2024-12-31</td>\n",
              "      <td>2024</td>\n",
              "      <td>12</td>\n",
              "      <td>EGY</td>\n",
              "      <td>BGR</td>\n",
              "      <td>EMR</td>\n",
              "      <td>12</td>\n",
              "      <td>Bulgarian Ministry of Interior</td>\n",
              "    </tr>\n",
              "    <tr>\n",
              "      <th>3984</th>\n",
              "      <td>2024-12-31</td>\n",
              "      <td>2024</td>\n",
              "      <td>12</td>\n",
              "      <td>IRQ</td>\n",
              "      <td>BGR</td>\n",
              "      <td>EMR</td>\n",
              "      <td>12</td>\n",
              "      <td>Bulgarian Ministry of Interior</td>\n",
              "    </tr>\n",
              "    <tr>\n",
              "      <th>3985</th>\n",
              "      <td>2024-12-31</td>\n",
              "      <td>2024</td>\n",
              "      <td>12</td>\n",
              "      <td>MAR</td>\n",
              "      <td>BGR</td>\n",
              "      <td>EMR</td>\n",
              "      <td>33</td>\n",
              "      <td>Bulgarian Ministry of Interior</td>\n",
              "    </tr>\n",
              "    <tr>\n",
              "      <th>3986</th>\n",
              "      <td>2024-12-31</td>\n",
              "      <td>2024</td>\n",
              "      <td>12</td>\n",
              "      <td>OOO</td>\n",
              "      <td>BGR</td>\n",
              "      <td>EMR</td>\n",
              "      <td>36</td>\n",
              "      <td>Bulgarian Ministry of Interior</td>\n",
              "    </tr>\n",
              "    <tr>\n",
              "      <th>3987</th>\n",
              "      <td>2024-12-31</td>\n",
              "      <td>2024</td>\n",
              "      <td>12</td>\n",
              "      <td>SYR</td>\n",
              "      <td>BGR</td>\n",
              "      <td>EMR</td>\n",
              "      <td>61</td>\n",
              "      <td>Bulgarian Ministry of Interior</td>\n",
              "    </tr>\n",
              "  </tbody>\n",
              "</table>\n",
              "<p>3988 rows × 8 columns</p>\n",
              "</div>"
            ],
            "text/plain": [
              "           Date  Year  Month ISO3 - Country of origin  \\\n",
              "0    2023-01-31  2023      1                      AFG   \n",
              "1    2023-01-31  2023      1                      SYR   \n",
              "2    2023-01-31  2023      1                      MAR   \n",
              "3    2023-01-31  2023      1                      TUR   \n",
              "4    2023-01-31  2023      1                      IRN   \n",
              "...         ...   ...    ...                      ...   \n",
              "3983 2024-12-31  2024     12                      EGY   \n",
              "3984 2024-12-31  2024     12                      IRQ   \n",
              "3985 2024-12-31  2024     12                      MAR   \n",
              "3986 2024-12-31  2024     12                      OOO   \n",
              "3987 2024-12-31  2024     12                      SYR   \n",
              "\n",
              "     ISO3 - Country of arrival Route Arrivals                          Source  \n",
              "0                          BGR   EMR      353  Bulgarian Ministry of Interior  \n",
              "1                          BGR   EMR      162  Bulgarian Ministry of Interior  \n",
              "2                          BGR   EMR       77  Bulgarian Ministry of Interior  \n",
              "3                          BGR   EMR        6  Bulgarian Ministry of Interior  \n",
              "4                          BGR   EMR        4  Bulgarian Ministry of Interior  \n",
              "...                        ...   ...      ...                             ...  \n",
              "3983                       BGR   EMR       12  Bulgarian Ministry of Interior  \n",
              "3984                       BGR   EMR       12  Bulgarian Ministry of Interior  \n",
              "3985                       BGR   EMR       33  Bulgarian Ministry of Interior  \n",
              "3986                       BGR   EMR       36  Bulgarian Ministry of Interior  \n",
              "3987                       BGR   EMR       61  Bulgarian Ministry of Interior  \n",
              "\n",
              "[3988 rows x 8 columns]"
            ]
          },
          "execution_count": 50,
          "metadata": {},
          "output_type": "execute_result"
        }
      ],
      "source": [
        "df_arrivals"
      ]
    },
    {
      "cell_type": "code",
      "execution_count": 51,
      "id": "a8b28ffc",
      "metadata": {},
      "outputs": [
        {
          "name": "stdout",
          "output_type": "stream",
          "text": [
            "<class 'pandas.core.frame.DataFrame'>\n",
            "RangeIndex: 3988 entries, 0 to 3987\n",
            "Data columns (total 8 columns):\n",
            " #   Column                     Non-Null Count  Dtype         \n",
            "---  ------                     --------------  -----         \n",
            " 0   Date                       3988 non-null   datetime64[ns]\n",
            " 1   Year                       3988 non-null   int64         \n",
            " 2   Month                      3988 non-null   int64         \n",
            " 3   ISO3 - Country of origin   3986 non-null   object        \n",
            " 4   ISO3 - Country of arrival  3988 non-null   object        \n",
            " 5   Route                      3988 non-null   object        \n",
            " 6   Arrivals                   3988 non-null   object        \n",
            " 7   Source                     3988 non-null   object        \n",
            "dtypes: datetime64[ns](1), int64(2), object(5)\n",
            "memory usage: 249.4+ KB\n"
          ]
        }
      ],
      "source": [
        "df_arrivals.info()"
      ]
    },
    {
      "cell_type": "markdown",
      "id": "e491bdf5",
      "metadata": {},
      "source": [
        "## 2. 👀 Exploración rápida"
      ]
    },
    {
      "cell_type": "code",
      "execution_count": 52,
      "id": "802cfd79",
      "metadata": {},
      "outputs": [
        {
          "data": {
            "text/plain": [
              "(3988, 8)"
            ]
          },
          "execution_count": 52,
          "metadata": {},
          "output_type": "execute_result"
        }
      ],
      "source": [
        "# Número de filas y columnas\n",
        "df_arrivals.shape"
      ]
    },
    {
      "cell_type": "code",
      "execution_count": 53,
      "id": "d8d4b118",
      "metadata": {},
      "outputs": [
        {
          "data": {
            "application/vnd.microsoft.datawrangler.viewer.v0+json": {
              "columns": [
                {
                  "name": "index",
                  "rawType": "object",
                  "type": "string"
                },
                {
                  "name": "Date",
                  "rawType": "object",
                  "type": "unknown"
                },
                {
                  "name": "Year",
                  "rawType": "float64",
                  "type": "float"
                },
                {
                  "name": "Month",
                  "rawType": "float64",
                  "type": "float"
                },
                {
                  "name": "ISO3 - Country of origin",
                  "rawType": "object",
                  "type": "unknown"
                },
                {
                  "name": "ISO3 - Country of arrival",
                  "rawType": "object",
                  "type": "unknown"
                },
                {
                  "name": "Route",
                  "rawType": "object",
                  "type": "unknown"
                },
                {
                  "name": "Arrivals",
                  "rawType": "float64",
                  "type": "float"
                },
                {
                  "name": "Source",
                  "rawType": "object",
                  "type": "unknown"
                }
              ],
              "ref": "b9f971cd-9af1-46b6-88d3-2c37b75f9f64",
              "rows": [
                [
                  "count",
                  "3988",
                  "3988.0",
                  "3988.0",
                  "3986",
                  "3988",
                  "3988",
                  "3988.0",
                  "3988"
                ],
                [
                  "unique",
                  null,
                  null,
                  null,
                  "91",
                  "6",
                  "4",
                  "630.0",
                  "9"
                ],
                [
                  "top",
                  null,
                  null,
                  null,
                  "OOO",
                  "ESP",
                  "EMR",
                  "0.0",
                  "European Border and Coast Guard Agency"
                ],
                [
                  "freq",
                  null,
                  null,
                  null,
                  "134",
                  "1447",
                  "1475",
                  "541.0",
                  "1447"
                ],
                [
                  "mean",
                  "2023-12-22 07:43:59.518555904",
                  "2023.423520561685",
                  "6.648696088264795",
                  null,
                  null,
                  null,
                  null,
                  null
                ],
                [
                  "min",
                  "2023-01-31 00:00:00",
                  "2023.0",
                  "1.0",
                  null,
                  null,
                  null,
                  null,
                  null
                ],
                [
                  "25%",
                  "2023-06-30 00:00:00",
                  "2023.0",
                  "4.0",
                  null,
                  null,
                  null,
                  null,
                  null
                ],
                [
                  "50%",
                  "2023-11-30 00:00:00",
                  "2023.0",
                  "7.0",
                  null,
                  null,
                  null,
                  null,
                  null
                ],
                [
                  "75%",
                  "2024-06-30 00:00:00",
                  "2024.0",
                  "10.0",
                  null,
                  null,
                  null,
                  null,
                  null
                ],
                [
                  "max",
                  "2024-12-31 00:00:00",
                  "2024.0",
                  "12.0",
                  null,
                  null,
                  null,
                  null,
                  null
                ],
                [
                  "std",
                  null,
                  "0.4941782393613917",
                  "3.4157171952281886",
                  null,
                  null,
                  null,
                  null,
                  null
                ]
              ],
              "shape": {
                "columns": 8,
                "rows": 11
              }
            },
            "text/html": [
              "<div>\n",
              "<style scoped>\n",
              "    .dataframe tbody tr th:only-of-type {\n",
              "        vertical-align: middle;\n",
              "    }\n",
              "\n",
              "    .dataframe tbody tr th {\n",
              "        vertical-align: top;\n",
              "    }\n",
              "\n",
              "    .dataframe thead th {\n",
              "        text-align: right;\n",
              "    }\n",
              "</style>\n",
              "<table border=\"1\" class=\"dataframe\">\n",
              "  <thead>\n",
              "    <tr style=\"text-align: right;\">\n",
              "      <th></th>\n",
              "      <th>Date</th>\n",
              "      <th>Year</th>\n",
              "      <th>Month</th>\n",
              "      <th>ISO3 - Country of origin</th>\n",
              "      <th>ISO3 - Country of arrival</th>\n",
              "      <th>Route</th>\n",
              "      <th>Arrivals</th>\n",
              "      <th>Source</th>\n",
              "    </tr>\n",
              "  </thead>\n",
              "  <tbody>\n",
              "    <tr>\n",
              "      <th>count</th>\n",
              "      <td>3988</td>\n",
              "      <td>3988.000000</td>\n",
              "      <td>3988.000000</td>\n",
              "      <td>3986</td>\n",
              "      <td>3988</td>\n",
              "      <td>3988</td>\n",
              "      <td>3988.0</td>\n",
              "      <td>3988</td>\n",
              "    </tr>\n",
              "    <tr>\n",
              "      <th>unique</th>\n",
              "      <td>NaN</td>\n",
              "      <td>NaN</td>\n",
              "      <td>NaN</td>\n",
              "      <td>91</td>\n",
              "      <td>6</td>\n",
              "      <td>4</td>\n",
              "      <td>630.0</td>\n",
              "      <td>9</td>\n",
              "    </tr>\n",
              "    <tr>\n",
              "      <th>top</th>\n",
              "      <td>NaN</td>\n",
              "      <td>NaN</td>\n",
              "      <td>NaN</td>\n",
              "      <td>OOO</td>\n",
              "      <td>ESP</td>\n",
              "      <td>EMR</td>\n",
              "      <td>0.0</td>\n",
              "      <td>European Border and Coast Guard Agency</td>\n",
              "    </tr>\n",
              "    <tr>\n",
              "      <th>freq</th>\n",
              "      <td>NaN</td>\n",
              "      <td>NaN</td>\n",
              "      <td>NaN</td>\n",
              "      <td>134</td>\n",
              "      <td>1447</td>\n",
              "      <td>1475</td>\n",
              "      <td>541.0</td>\n",
              "      <td>1447</td>\n",
              "    </tr>\n",
              "    <tr>\n",
              "      <th>mean</th>\n",
              "      <td>2023-12-22 07:43:59.518555904</td>\n",
              "      <td>2023.423521</td>\n",
              "      <td>6.648696</td>\n",
              "      <td>NaN</td>\n",
              "      <td>NaN</td>\n",
              "      <td>NaN</td>\n",
              "      <td>NaN</td>\n",
              "      <td>NaN</td>\n",
              "    </tr>\n",
              "    <tr>\n",
              "      <th>min</th>\n",
              "      <td>2023-01-31 00:00:00</td>\n",
              "      <td>2023.000000</td>\n",
              "      <td>1.000000</td>\n",
              "      <td>NaN</td>\n",
              "      <td>NaN</td>\n",
              "      <td>NaN</td>\n",
              "      <td>NaN</td>\n",
              "      <td>NaN</td>\n",
              "    </tr>\n",
              "    <tr>\n",
              "      <th>25%</th>\n",
              "      <td>2023-06-30 00:00:00</td>\n",
              "      <td>2023.000000</td>\n",
              "      <td>4.000000</td>\n",
              "      <td>NaN</td>\n",
              "      <td>NaN</td>\n",
              "      <td>NaN</td>\n",
              "      <td>NaN</td>\n",
              "      <td>NaN</td>\n",
              "    </tr>\n",
              "    <tr>\n",
              "      <th>50%</th>\n",
              "      <td>2023-11-30 00:00:00</td>\n",
              "      <td>2023.000000</td>\n",
              "      <td>7.000000</td>\n",
              "      <td>NaN</td>\n",
              "      <td>NaN</td>\n",
              "      <td>NaN</td>\n",
              "      <td>NaN</td>\n",
              "      <td>NaN</td>\n",
              "    </tr>\n",
              "    <tr>\n",
              "      <th>75%</th>\n",
              "      <td>2024-06-30 00:00:00</td>\n",
              "      <td>2024.000000</td>\n",
              "      <td>10.000000</td>\n",
              "      <td>NaN</td>\n",
              "      <td>NaN</td>\n",
              "      <td>NaN</td>\n",
              "      <td>NaN</td>\n",
              "      <td>NaN</td>\n",
              "    </tr>\n",
              "    <tr>\n",
              "      <th>max</th>\n",
              "      <td>2024-12-31 00:00:00</td>\n",
              "      <td>2024.000000</td>\n",
              "      <td>12.000000</td>\n",
              "      <td>NaN</td>\n",
              "      <td>NaN</td>\n",
              "      <td>NaN</td>\n",
              "      <td>NaN</td>\n",
              "      <td>NaN</td>\n",
              "    </tr>\n",
              "    <tr>\n",
              "      <th>std</th>\n",
              "      <td>NaN</td>\n",
              "      <td>0.494178</td>\n",
              "      <td>3.415717</td>\n",
              "      <td>NaN</td>\n",
              "      <td>NaN</td>\n",
              "      <td>NaN</td>\n",
              "      <td>NaN</td>\n",
              "      <td>NaN</td>\n",
              "    </tr>\n",
              "  </tbody>\n",
              "</table>\n",
              "</div>"
            ],
            "text/plain": [
              "                                 Date         Year        Month  \\\n",
              "count                            3988  3988.000000  3988.000000   \n",
              "unique                            NaN          NaN          NaN   \n",
              "top                               NaN          NaN          NaN   \n",
              "freq                              NaN          NaN          NaN   \n",
              "mean    2023-12-22 07:43:59.518555904  2023.423521     6.648696   \n",
              "min               2023-01-31 00:00:00  2023.000000     1.000000   \n",
              "25%               2023-06-30 00:00:00  2023.000000     4.000000   \n",
              "50%               2023-11-30 00:00:00  2023.000000     7.000000   \n",
              "75%               2024-06-30 00:00:00  2024.000000    10.000000   \n",
              "max               2024-12-31 00:00:00  2024.000000    12.000000   \n",
              "std                               NaN     0.494178     3.415717   \n",
              "\n",
              "       ISO3 - Country of origin ISO3 - Country of arrival Route  Arrivals  \\\n",
              "count                      3986                      3988  3988    3988.0   \n",
              "unique                       91                         6     4     630.0   \n",
              "top                         OOO                       ESP   EMR       0.0   \n",
              "freq                        134                      1447  1475     541.0   \n",
              "mean                        NaN                       NaN   NaN       NaN   \n",
              "min                         NaN                       NaN   NaN       NaN   \n",
              "25%                         NaN                       NaN   NaN       NaN   \n",
              "50%                         NaN                       NaN   NaN       NaN   \n",
              "75%                         NaN                       NaN   NaN       NaN   \n",
              "max                         NaN                       NaN   NaN       NaN   \n",
              "std                         NaN                       NaN   NaN       NaN   \n",
              "\n",
              "                                        Source  \n",
              "count                                     3988  \n",
              "unique                                       9  \n",
              "top     European Border and Coast Guard Agency  \n",
              "freq                                      1447  \n",
              "mean                                       NaN  \n",
              "min                                        NaN  \n",
              "25%                                        NaN  \n",
              "50%                                        NaN  \n",
              "75%                                        NaN  \n",
              "max                                        NaN  \n",
              "std                                        NaN  "
            ]
          },
          "execution_count": 53,
          "metadata": {},
          "output_type": "execute_result"
        }
      ],
      "source": [
        "# Estadísticas descriptivas\n",
        "df_arrivals.describe(include=\"all\")"
      ]
    },
    {
      "cell_type": "markdown",
      "id": "d468b470",
      "metadata": {},
      "source": [
        "## 3. 📊 Visualización univariada"
      ]
    },
    {
      "cell_type": "markdown",
      "id": "c443daf5",
      "metadata": {},
      "source": [
        "### Definición\n",
        "La **visualización univariada** es el análisis gráfico de una **única variable** a la vez. Se centra en examinar la distribución, tendencia central y dispersión de los datos de una sola columna o característica.\n",
        "\n",
        "### Objetivo Principal\n",
        "- Entender cómo se distribuyen los valores de una variable\n",
        "- Identificar patrones, valores atípicos y características principales\n",
        "- Obtener estadísticas descriptivas básicas de forma visual"
      ]
    },
    {
      "cell_type": "markdown",
      "id": "a4ee5d05",
      "metadata": {},
      "source": [
        "**Para variables categóricas:**\n",
        "- **Gráfico de barras**: Muestra frecuencia de cada categoría\n",
        "- **Gráfico de pastel (pie-chart)**: Proporciones de cada categoría\n",
        "- **Gráfico de conteo**: Cuenta de observaciones por categoría"
      ]
    },
    {
      "cell_type": "markdown",
      "id": "560f4843",
      "metadata": {},
      "source": [
        "### 🔹 Top 10 destinos por llegadas"
      ]
    },
    {
      "cell_type": "code",
      "execution_count": 57,
      "id": "de962496",
      "metadata": {},
      "outputs": [],
      "source": [
        "top_dest = df_arrivals.groupby('ISO3 - Country of arrival')['Arrivals'].sum().sort_values(ascending=False).head(10)\n"
      ]
    },
    {
      "cell_type": "code",
      "execution_count": 58,
      "id": "8175a219",
      "metadata": {},
      "outputs": [
        {
          "data": {
            "application/vnd.microsoft.datawrangler.viewer.v0+json": {
              "columns": [
                {
                  "name": "ISO3 - Country of arrival",
                  "rawType": "object",
                  "type": "string"
                },
                {
                  "name": "Arrivals",
                  "rawType": "object",
                  "type": "unknown"
                }
              ],
              "ref": "ce978e84-66c4-4854-9740-5322cf44d221",
              "rows": [
                [
                  "ITA",
                  "224269"
                ],
                [
                  "ESP",
                  "120822"
                ],
                [
                  "GRC",
                  "109973"
                ],
                [
                  "BGR",
                  "27526"
                ],
                [
                  "CYP",
                  "18367"
                ],
                [
                  "MLT",
                  "618"
                ]
              ],
              "shape": {
                "columns": 1,
                "rows": 6
              }
            },
            "text/plain": [
              "ISO3 - Country of arrival\n",
              "ITA    224269\n",
              "ESP    120822\n",
              "GRC    109973\n",
              "BGR     27526\n",
              "CYP     18367\n",
              "MLT       618\n",
              "Name: Arrivals, dtype: object"
            ]
          },
          "execution_count": 58,
          "metadata": {},
          "output_type": "execute_result"
        }
      ],
      "source": [
        "top_dest"
      ]
    },
    {
      "cell_type": "code",
      "execution_count": 63,
      "id": "df9cd1da",
      "metadata": {},
      "outputs": [
        {
          "data": {
            "application/vnd.microsoft.datawrangler.viewer.v0+json": {
              "columns": [
                {
                  "name": "index",
                  "rawType": "int64",
                  "type": "integer"
                },
                {
                  "name": "Date",
                  "rawType": "datetime64[ns]",
                  "type": "datetime"
                },
                {
                  "name": "Year",
                  "rawType": "int64",
                  "type": "integer"
                },
                {
                  "name": "Month",
                  "rawType": "int64",
                  "type": "integer"
                },
                {
                  "name": "ISO3 - Country of origin",
                  "rawType": "object",
                  "type": "unknown"
                },
                {
                  "name": "ISO3 - Country of arrival",
                  "rawType": "object",
                  "type": "string"
                },
                {
                  "name": "Route",
                  "rawType": "object",
                  "type": "string"
                },
                {
                  "name": "Arrivals",
                  "rawType": "object",
                  "type": "unknown"
                },
                {
                  "name": "Source",
                  "rawType": "object",
                  "type": "string"
                }
              ],
              "ref": "1361ce42-4dab-4f54-a590-822c9805a533",
              "rows": [
                [
                  "0",
                  "2023-01-31 00:00:00",
                  "2023",
                  "1",
                  "AFG",
                  "BGR",
                  "EMR",
                  "353",
                  "Bulgarian Ministry of Interior"
                ],
                [
                  "1",
                  "2023-01-31 00:00:00",
                  "2023",
                  "1",
                  "SYR",
                  "BGR",
                  "EMR",
                  "162",
                  "Bulgarian Ministry of Interior"
                ],
                [
                  "2",
                  "2023-01-31 00:00:00",
                  "2023",
                  "1",
                  "MAR",
                  "BGR",
                  "EMR",
                  "77",
                  "Bulgarian Ministry of Interior"
                ],
                [
                  "3",
                  "2023-01-31 00:00:00",
                  "2023",
                  "1",
                  "TUR",
                  "BGR",
                  "EMR",
                  "6",
                  "Bulgarian Ministry of Interior"
                ],
                [
                  "4",
                  "2023-01-31 00:00:00",
                  "2023",
                  "1",
                  "IRN",
                  "BGR",
                  "EMR",
                  "4",
                  "Bulgarian Ministry of Interior"
                ],
                [
                  "5",
                  "2023-01-31 00:00:00",
                  "2023",
                  "1",
                  "IRQ",
                  "BGR",
                  "EMR",
                  "3",
                  "Bulgarian Ministry of Interior"
                ],
                [
                  "6",
                  "2023-02-28 00:00:00",
                  "2023",
                  "2",
                  "AFG",
                  "BGR",
                  "EMR",
                  "371",
                  "Bulgarian Ministry of Interior"
                ],
                [
                  "7",
                  "2023-02-28 00:00:00",
                  "2023",
                  "2",
                  "SYR",
                  "BGR",
                  "EMR",
                  "155",
                  "Bulgarian Ministry of Interior"
                ],
                [
                  "8",
                  "2023-02-28 00:00:00",
                  "2023",
                  "2",
                  "MAR",
                  "BGR",
                  "EMR",
                  "99",
                  "Bulgarian Ministry of Interior"
                ],
                [
                  "9",
                  "2023-02-28 00:00:00",
                  "2023",
                  "2",
                  "TUR",
                  "BGR",
                  "EMR",
                  "10",
                  "Bulgarian Ministry of Interior"
                ],
                [
                  "10",
                  "2023-02-28 00:00:00",
                  "2023",
                  "2",
                  "IRQ",
                  "BGR",
                  "EMR",
                  "7",
                  "Bulgarian Ministry of Interior"
                ],
                [
                  "11",
                  "2023-02-28 00:00:00",
                  "2023",
                  "2",
                  "IRN",
                  "BGR",
                  "EMR",
                  "4",
                  "Bulgarian Ministry of Interior"
                ],
                [
                  "12",
                  "2023-03-31 00:00:00",
                  "2023",
                  "3",
                  "AFG",
                  "BGR",
                  "EMR",
                  "473",
                  "Bulgarian Ministry of Interior"
                ],
                [
                  "13",
                  "2023-03-31 00:00:00",
                  "2023",
                  "3",
                  "SYR",
                  "BGR",
                  "EMR",
                  "377",
                  "Bulgarian Ministry of Interior"
                ],
                [
                  "14",
                  "2023-03-31 00:00:00",
                  "2023",
                  "3",
                  "MAR",
                  "BGR",
                  "EMR",
                  "174",
                  "Bulgarian Ministry of Interior"
                ],
                [
                  "15",
                  "2023-03-31 00:00:00",
                  "2023",
                  "3",
                  "TUR",
                  "BGR",
                  "EMR",
                  "9",
                  "Bulgarian Ministry of Interior"
                ],
                [
                  "16",
                  "2023-03-31 00:00:00",
                  "2023",
                  "3",
                  "IRQ",
                  "BGR",
                  "EMR",
                  "7",
                  "Bulgarian Ministry of Interior"
                ],
                [
                  "17",
                  "2023-03-31 00:00:00",
                  "2023",
                  "3",
                  "IRN",
                  "BGR",
                  "EMR",
                  "3",
                  "Bulgarian Ministry of Interior"
                ],
                [
                  "18",
                  "2023-04-30 00:00:00",
                  "2023",
                  "4",
                  "SYR",
                  "BGR",
                  "EMR",
                  "302",
                  "Bulgarian Ministry of Interior"
                ],
                [
                  "19",
                  "2023-04-30 00:00:00",
                  "2023",
                  "4",
                  "AFG",
                  "BGR",
                  "EMR",
                  "274",
                  "Bulgarian Ministry of Interior"
                ],
                [
                  "20",
                  "2023-04-30 00:00:00",
                  "2023",
                  "4",
                  "MAR",
                  "BGR",
                  "EMR",
                  "40",
                  "Bulgarian Ministry of Interior"
                ],
                [
                  "21",
                  "2023-04-30 00:00:00",
                  "2023",
                  "4",
                  "TUR",
                  "BGR",
                  "EMR",
                  "10",
                  "Bulgarian Ministry of Interior"
                ],
                [
                  "22",
                  "2023-04-30 00:00:00",
                  "2023",
                  "4",
                  "IRQ",
                  "BGR",
                  "EMR",
                  "6",
                  "Bulgarian Ministry of Interior"
                ],
                [
                  "23",
                  "2023-04-30 00:00:00",
                  "2023",
                  "4",
                  "IRN",
                  "BGR",
                  "EMR",
                  "1",
                  "Bulgarian Ministry of Interior"
                ],
                [
                  "24",
                  "2023-05-31 00:00:00",
                  "2023",
                  "5",
                  "SYR",
                  "BGR",
                  "EMR",
                  "726",
                  "Bulgarian Ministry of Interior"
                ],
                [
                  "25",
                  "2023-05-31 00:00:00",
                  "2023",
                  "5",
                  "AFG",
                  "BGR",
                  "EMR",
                  "285",
                  "Bulgarian Ministry of Interior"
                ],
                [
                  "26",
                  "2023-05-31 00:00:00",
                  "2023",
                  "5",
                  "MAR",
                  "BGR",
                  "EMR",
                  "188",
                  "Bulgarian Ministry of Interior"
                ],
                [
                  "27",
                  "2023-05-31 00:00:00",
                  "2023",
                  "5",
                  "IRQ",
                  "BGR",
                  "EMR",
                  "16",
                  "Bulgarian Ministry of Interior"
                ],
                [
                  "28",
                  "2023-05-31 00:00:00",
                  "2023",
                  "5",
                  "TUR",
                  "BGR",
                  "EMR",
                  "8",
                  "Bulgarian Ministry of Interior"
                ],
                [
                  "29",
                  "2023-05-31 00:00:00",
                  "2023",
                  "5",
                  "IRN",
                  "BGR",
                  "EMR",
                  "7",
                  "Bulgarian Ministry of Interior"
                ],
                [
                  "30",
                  "2023-06-30 00:00:00",
                  "2023",
                  "6",
                  "SYR",
                  "BGR",
                  "EMR",
                  "992",
                  "Bulgarian Ministry of Interior"
                ],
                [
                  "31",
                  "2023-06-30 00:00:00",
                  "2023",
                  "6",
                  "AFG",
                  "BGR",
                  "EMR",
                  "662",
                  "Bulgarian Ministry of Interior"
                ],
                [
                  "32",
                  "2023-06-30 00:00:00",
                  "2023",
                  "6",
                  "MAR",
                  "BGR",
                  "EMR",
                  "193",
                  "Bulgarian Ministry of Interior"
                ],
                [
                  "33",
                  "2023-06-30 00:00:00",
                  "2023",
                  "6",
                  "IRQ",
                  "BGR",
                  "EMR",
                  "84",
                  "Bulgarian Ministry of Interior"
                ],
                [
                  "34",
                  "2023-06-30 00:00:00",
                  "2023",
                  "6",
                  "TUR",
                  "BGR",
                  "EMR",
                  "5",
                  "Bulgarian Ministry of Interior"
                ],
                [
                  "35",
                  "2023-06-30 00:00:00",
                  "2023",
                  "6",
                  "IRN",
                  "BGR",
                  "EMR",
                  "4",
                  "Bulgarian Ministry of Interior"
                ],
                [
                  "36",
                  "2023-07-31 00:00:00",
                  "2023",
                  "7",
                  "SYR",
                  "BGR",
                  "EMR",
                  "1188",
                  "Bulgarian Ministry of Interior"
                ],
                [
                  "37",
                  "2023-07-31 00:00:00",
                  "2023",
                  "7",
                  "AFG",
                  "BGR",
                  "EMR",
                  "1014",
                  "Bulgarian Ministry of Interior"
                ],
                [
                  "38",
                  "2023-07-31 00:00:00",
                  "2023",
                  "7",
                  "MAR",
                  "BGR",
                  "EMR",
                  "206",
                  "Bulgarian Ministry of Interior"
                ],
                [
                  "39",
                  "2023-07-31 00:00:00",
                  "2023",
                  "7",
                  "IRQ",
                  "BGR",
                  "EMR",
                  "99",
                  "Bulgarian Ministry of Interior"
                ],
                [
                  "40",
                  "2023-07-31 00:00:00",
                  "2023",
                  "7",
                  "TUR",
                  "BGR",
                  "EMR",
                  "13",
                  "Bulgarian Ministry of Interior"
                ],
                [
                  "41",
                  "2023-07-31 00:00:00",
                  "2023",
                  "7",
                  "IRN",
                  "BGR",
                  "EMR",
                  "4",
                  "Bulgarian Ministry of Interior"
                ],
                [
                  "42",
                  "2023-08-31 00:00:00",
                  "2023",
                  "8",
                  "SYR",
                  "BGR",
                  "EMR",
                  "2490",
                  "Bulgarian Ministry of Interior"
                ],
                [
                  "43",
                  "2023-08-31 00:00:00",
                  "2023",
                  "8",
                  "AFG",
                  "BGR",
                  "EMR",
                  "1453",
                  "Bulgarian Ministry of Interior"
                ],
                [
                  "44",
                  "2023-08-31 00:00:00",
                  "2023",
                  "8",
                  "MAR",
                  "BGR",
                  "EMR",
                  "444",
                  "Bulgarian Ministry of Interior"
                ],
                [
                  "45",
                  "2023-08-31 00:00:00",
                  "2023",
                  "8",
                  "IRQ",
                  "BGR",
                  "EMR",
                  "159",
                  "Bulgarian Ministry of Interior"
                ],
                [
                  "46",
                  "2023-08-31 00:00:00",
                  "2023",
                  "8",
                  "TUR",
                  "BGR",
                  "EMR",
                  "17",
                  "Bulgarian Ministry of Interior"
                ],
                [
                  "47",
                  "2023-08-31 00:00:00",
                  "2023",
                  "8",
                  "IRN",
                  "BGR",
                  "EMR",
                  "13",
                  "Bulgarian Ministry of Interior"
                ],
                [
                  "48",
                  "2023-09-30 00:00:00",
                  "2023",
                  "9",
                  "SYR",
                  "BGR",
                  "EMR",
                  "1480",
                  "Bulgarian Ministry of Interior"
                ],
                [
                  "49",
                  "2023-09-30 00:00:00",
                  "2023",
                  "9",
                  "AFG",
                  "BGR",
                  "EMR",
                  "419",
                  "Bulgarian Ministry of Interior"
                ]
              ],
              "shape": {
                "columns": 8,
                "rows": 3988
              }
            },
            "text/html": [
              "<div>\n",
              "<style scoped>\n",
              "    .dataframe tbody tr th:only-of-type {\n",
              "        vertical-align: middle;\n",
              "    }\n",
              "\n",
              "    .dataframe tbody tr th {\n",
              "        vertical-align: top;\n",
              "    }\n",
              "\n",
              "    .dataframe thead th {\n",
              "        text-align: right;\n",
              "    }\n",
              "</style>\n",
              "<table border=\"1\" class=\"dataframe\">\n",
              "  <thead>\n",
              "    <tr style=\"text-align: right;\">\n",
              "      <th></th>\n",
              "      <th>Date</th>\n",
              "      <th>Year</th>\n",
              "      <th>Month</th>\n",
              "      <th>ISO3 - Country of origin</th>\n",
              "      <th>ISO3 - Country of arrival</th>\n",
              "      <th>Route</th>\n",
              "      <th>Arrivals</th>\n",
              "      <th>Source</th>\n",
              "    </tr>\n",
              "  </thead>\n",
              "  <tbody>\n",
              "    <tr>\n",
              "      <th>0</th>\n",
              "      <td>2023-01-31</td>\n",
              "      <td>2023</td>\n",
              "      <td>1</td>\n",
              "      <td>AFG</td>\n",
              "      <td>BGR</td>\n",
              "      <td>EMR</td>\n",
              "      <td>353</td>\n",
              "      <td>Bulgarian Ministry of Interior</td>\n",
              "    </tr>\n",
              "    <tr>\n",
              "      <th>1</th>\n",
              "      <td>2023-01-31</td>\n",
              "      <td>2023</td>\n",
              "      <td>1</td>\n",
              "      <td>SYR</td>\n",
              "      <td>BGR</td>\n",
              "      <td>EMR</td>\n",
              "      <td>162</td>\n",
              "      <td>Bulgarian Ministry of Interior</td>\n",
              "    </tr>\n",
              "    <tr>\n",
              "      <th>2</th>\n",
              "      <td>2023-01-31</td>\n",
              "      <td>2023</td>\n",
              "      <td>1</td>\n",
              "      <td>MAR</td>\n",
              "      <td>BGR</td>\n",
              "      <td>EMR</td>\n",
              "      <td>77</td>\n",
              "      <td>Bulgarian Ministry of Interior</td>\n",
              "    </tr>\n",
              "    <tr>\n",
              "      <th>3</th>\n",
              "      <td>2023-01-31</td>\n",
              "      <td>2023</td>\n",
              "      <td>1</td>\n",
              "      <td>TUR</td>\n",
              "      <td>BGR</td>\n",
              "      <td>EMR</td>\n",
              "      <td>6</td>\n",
              "      <td>Bulgarian Ministry of Interior</td>\n",
              "    </tr>\n",
              "    <tr>\n",
              "      <th>4</th>\n",
              "      <td>2023-01-31</td>\n",
              "      <td>2023</td>\n",
              "      <td>1</td>\n",
              "      <td>IRN</td>\n",
              "      <td>BGR</td>\n",
              "      <td>EMR</td>\n",
              "      <td>4</td>\n",
              "      <td>Bulgarian Ministry of Interior</td>\n",
              "    </tr>\n",
              "    <tr>\n",
              "      <th>...</th>\n",
              "      <td>...</td>\n",
              "      <td>...</td>\n",
              "      <td>...</td>\n",
              "      <td>...</td>\n",
              "      <td>...</td>\n",
              "      <td>...</td>\n",
              "      <td>...</td>\n",
              "      <td>...</td>\n",
              "    </tr>\n",
              "    <tr>\n",
              "      <th>3983</th>\n",
              "      <td>2024-12-31</td>\n",
              "      <td>2024</td>\n",
              "      <td>12</td>\n",
              "      <td>EGY</td>\n",
              "      <td>BGR</td>\n",
              "      <td>EMR</td>\n",
              "      <td>12</td>\n",
              "      <td>Bulgarian Ministry of Interior</td>\n",
              "    </tr>\n",
              "    <tr>\n",
              "      <th>3984</th>\n",
              "      <td>2024-12-31</td>\n",
              "      <td>2024</td>\n",
              "      <td>12</td>\n",
              "      <td>IRQ</td>\n",
              "      <td>BGR</td>\n",
              "      <td>EMR</td>\n",
              "      <td>12</td>\n",
              "      <td>Bulgarian Ministry of Interior</td>\n",
              "    </tr>\n",
              "    <tr>\n",
              "      <th>3985</th>\n",
              "      <td>2024-12-31</td>\n",
              "      <td>2024</td>\n",
              "      <td>12</td>\n",
              "      <td>MAR</td>\n",
              "      <td>BGR</td>\n",
              "      <td>EMR</td>\n",
              "      <td>33</td>\n",
              "      <td>Bulgarian Ministry of Interior</td>\n",
              "    </tr>\n",
              "    <tr>\n",
              "      <th>3986</th>\n",
              "      <td>2024-12-31</td>\n",
              "      <td>2024</td>\n",
              "      <td>12</td>\n",
              "      <td>OOO</td>\n",
              "      <td>BGR</td>\n",
              "      <td>EMR</td>\n",
              "      <td>36</td>\n",
              "      <td>Bulgarian Ministry of Interior</td>\n",
              "    </tr>\n",
              "    <tr>\n",
              "      <th>3987</th>\n",
              "      <td>2024-12-31</td>\n",
              "      <td>2024</td>\n",
              "      <td>12</td>\n",
              "      <td>SYR</td>\n",
              "      <td>BGR</td>\n",
              "      <td>EMR</td>\n",
              "      <td>61</td>\n",
              "      <td>Bulgarian Ministry of Interior</td>\n",
              "    </tr>\n",
              "  </tbody>\n",
              "</table>\n",
              "<p>3988 rows × 8 columns</p>\n",
              "</div>"
            ],
            "text/plain": [
              "           Date  Year  Month ISO3 - Country of origin  \\\n",
              "0    2023-01-31  2023      1                      AFG   \n",
              "1    2023-01-31  2023      1                      SYR   \n",
              "2    2023-01-31  2023      1                      MAR   \n",
              "3    2023-01-31  2023      1                      TUR   \n",
              "4    2023-01-31  2023      1                      IRN   \n",
              "...         ...   ...    ...                      ...   \n",
              "3983 2024-12-31  2024     12                      EGY   \n",
              "3984 2024-12-31  2024     12                      IRQ   \n",
              "3985 2024-12-31  2024     12                      MAR   \n",
              "3986 2024-12-31  2024     12                      OOO   \n",
              "3987 2024-12-31  2024     12                      SYR   \n",
              "\n",
              "     ISO3 - Country of arrival Route Arrivals                          Source  \n",
              "0                          BGR   EMR      353  Bulgarian Ministry of Interior  \n",
              "1                          BGR   EMR      162  Bulgarian Ministry of Interior  \n",
              "2                          BGR   EMR       77  Bulgarian Ministry of Interior  \n",
              "3                          BGR   EMR        6  Bulgarian Ministry of Interior  \n",
              "4                          BGR   EMR        4  Bulgarian Ministry of Interior  \n",
              "...                        ...   ...      ...                             ...  \n",
              "3983                       BGR   EMR       12  Bulgarian Ministry of Interior  \n",
              "3984                       BGR   EMR       12  Bulgarian Ministry of Interior  \n",
              "3985                       BGR   EMR       33  Bulgarian Ministry of Interior  \n",
              "3986                       BGR   EMR       36  Bulgarian Ministry of Interior  \n",
              "3987                       BGR   EMR       61  Bulgarian Ministry of Interior  \n",
              "\n",
              "[3988 rows x 8 columns]"
            ]
          },
          "execution_count": 63,
          "metadata": {},
          "output_type": "execute_result"
        }
      ],
      "source": [
        "df_arrivals"
      ]
    },
    {
      "cell_type": "code",
      "execution_count": null,
      "id": "f2db8f0f",
      "metadata": {},
      "outputs": [
        {
          "data": {
            "image/png": "[encoded data removed]",
            "text/plain": [
              "<Figure size 1000x600 with 1 Axes>"
            ]
          },
          "metadata": {},
          "output_type": "display_data"
        }
      ],
      "source": [
        "top_dest.plot(kind='bar', figsize=(10,6), title='Top 10 destinos por llegadas') \n",
        "# kind='bar' - Tipo de gráfico: barras verticales\n",
        "# figsize=(10, 6) - Tamaño de la figura en pulgadas: 10 Ancho, 6 Alto\n",
        "# title='Top 10 destinos por llegadas' - Título del gráfico\n",
        "plt.ylabel('Total llegadas') #Titulo eje Y\n",
        "plt.xlabel(\"Países de llegada\")\n",
        "plt.show()"
      ]
    },
    {
      "cell_type": "markdown",
      "id": "ecc4cb8b",
      "metadata": {},
      "source": [
        "### 🔹 Top 10 países de origen (barras horizontales)"
      ]
    },
    {
      "cell_type": "code",
      "execution_count": 68,
      "id": "f83556fc",
      "metadata": {},
      "outputs": [],
      "source": [
        "top_origin = df_arrivals.groupby('ISO3 - Country of origin')['Arrivals'].sum().sort_values(ascending=False).head(10)\n"
      ]
    },
    {
      "cell_type": "code",
      "execution_count": 71,
      "id": "297207f6",
      "metadata": {},
      "outputs": [
        {
          "data": {
            "image/png": "[encoded data removed]",
            "text/plain": [
              "<Figure size 1000x600 with 1 Axes>"
            ]
          },
          "metadata": {},
          "output_type": "display_data"
        }
      ],
      "source": [
        "ax = top_origin.plot(\n",
        "    kind='barh',\n",
        "    figsize=(10,6),\n",
        "    title='Top 10 países de origen por llegadas',\n",
        "    )\n",
        "ax.bar_label(ax.containers[0])\n",
        "plt.ylabel('País de origen')\n",
        "plt.xlabel('Total llegadas')\n",
        "\n",
        "\n",
        "\n",
        "plt.show()"
      ]
    },
    {
      "cell_type": "markdown",
      "id": "7ec46526",
      "metadata": {},
      "source": [
        "### 🔹 Gráfico circular (pie chart)"
      ]
    },
    {
      "cell_type": "code",
      "execution_count": 72,
      "id": "65577f33",
      "metadata": {},
      "outputs": [
        {
          "name": "stderr",
          "output_type": "stream",
          "text": [
            "C:\\Users\\amval\\AppData\\Local\\Temp\\ipykernel_7936\\573205823.py:1: FutureWarning: Downcasting object dtype arrays on .fillna, .ffill, .bfill is deprecated and will change in a future version. Call result.infer_objects(copy=False) instead. To opt-in to the future behavior, set `pd.set_option('future.no_silent_downcasting', True)`\n",
            "  top_dest.head(5).plot(\n"
          ]
        },
        {
          "data": {
            "image/png": "[encoded data removed]",
            "text/plain": [
              "<Figure size 600x600 with 1 Axes>"
            ]
          },
          "metadata": {},
          "output_type": "display_data"
        }
      ],
      "source": [
        "top_dest.head(5).plot(\n",
        "    kind='pie', \n",
        "    figsize=(6,6),\n",
        "    autopct='%1.1f%%',\n",
        "    title='Llegadas a los 5 principales destinos',\n",
        "    colormap='Set3')\n",
        "plt.ylabel('')\n",
        "plt.show()"
      ]
    },
    {
      "cell_type": "markdown",
      "id": "b903322e",
      "metadata": {},
      "source": [
        "## 4. 📈 Visualización temporal"
      ]
    },
    {
      "cell_type": "markdown",
      "id": "4931fcf2",
      "metadata": {},
      "source": [
        "### 🔹 Evolución mensual de llegadas totales"
      ]
    },
    {
      "cell_type": "code",
      "execution_count": 73,
      "id": "7fda459b",
      "metadata": {},
      "outputs": [],
      "source": [
        "monthly = df_arrivals.groupby('Month')['Arrivals'].sum()\n"
      ]
    },
    {
      "cell_type": "code",
      "execution_count": 74,
      "id": "6942f973",
      "metadata": {},
      "outputs": [
        {
          "data": {
            "application/vnd.microsoft.datawrangler.viewer.v0+json": {
              "columns": [
                {
                  "name": "Month",
                  "rawType": "int64",
                  "type": "integer"
                },
                {
                  "name": "Arrivals",
                  "rawType": "object",
                  "type": "unknown"
                }
              ],
              "ref": "48a461ae-82a6-4e68-a58f-191aae3f243c",
              "rows": [
                [
                  "1",
                  "24623"
                ],
                [
                  "2",
                  "27286"
                ],
                [
                  "3",
                  "31526"
                ],
                [
                  "4",
                  "32064"
                ],
                [
                  "5",
                  "26414"
                ],
                [
                  "6",
                  "36610"
                ],
                [
                  "7",
                  "52223"
                ],
                [
                  "8",
                  "67398"
                ],
                [
                  "9",
                  "63441"
                ],
                [
                  "10",
                  "58448"
                ],
                [
                  "11",
                  "47498"
                ],
                [
                  "12",
                  "34044"
                ]
              ],
              "shape": {
                "columns": 1,
                "rows": 12
              }
            },
            "text/plain": [
              "Month\n",
              "1     24623\n",
              "2     27286\n",
              "3     31526\n",
              "4     32064\n",
              "5     26414\n",
              "6     36610\n",
              "7     52223\n",
              "8     67398\n",
              "9     63441\n",
              "10    58448\n",
              "11    47498\n",
              "12    34044\n",
              "Name: Arrivals, dtype: object"
            ]
          },
          "execution_count": 74,
          "metadata": {},
          "output_type": "execute_result"
        }
      ],
      "source": [
        "monthly"
      ]
    },
    {
      "cell_type": "code",
      "execution_count": 75,
      "id": "e3086528",
      "metadata": {},
      "outputs": [
        {
          "data": {
            "image/png": "[encoded data removed]",
            "text/plain": [
              "<Figure size 1000x500 with 1 Axes>"
            ]
          },
          "metadata": {},
          "output_type": "display_data"
        }
      ],
      "source": [
        "monthly.plot(kind='line', marker='o', figsize=(10,5), title='Llegadas por mes')\n",
        "plt.ylabel('Total llegadas')\n",
        "plt.show()"
      ]
    },
    {
      "cell_type": "code",
      "execution_count": 76,
      "id": "5b79b4da",
      "metadata": {},
      "outputs": [],
      "source": [
        "#Creamos un df para 20233 y otro para 2024 con la suma de llegadas para utilizarlos en gráficos\n",
        "monthly_2023 = df_arrivals[df_arrivals['Year'] == 2023].groupby('Month')['Arrivals'].sum()\n",
        "monthly_2024 = df_arrivals[df_arrivals['Year'] == 2024].groupby('Month')['Arrivals'].sum()\n"
      ]
    },
    {
      "cell_type": "code",
      "execution_count": 77,
      "id": "314b669d",
      "metadata": {},
      "outputs": [
        {
          "data": {
            "image/png": "[encoded data removed]",
            "text/plain": [
              "<Figure size 1000x500 with 1 Axes>"
            ]
          },
          "metadata": {},
          "output_type": "display_data"
        }
      ],
      "source": [
        "plt.figure(figsize=(10,5))\n",
        "plt.plot(monthly_2023.index, monthly_2023.values, marker='o', label='2023')\n",
        "plt.plot(monthly_2024.index, monthly_2024.values, marker='o', label='2024')\n",
        "plt.title('Llegadas por mes (2023 vs 2024)')\n",
        "plt.ylabel('Total llegadas')\n",
        "plt.xlabel('Mes')\n",
        "plt.legend()\n",
        "plt.show()"
      ]
    },
    {
      "cell_type": "markdown",
      "id": "2c83bcb4",
      "metadata": {},
      "source": [
        "### 🔹 Evolución mensual de llegadas a España (ESP)"
      ]
    },
    {
      "cell_type": "code",
      "execution_count": 78,
      "id": "495e225c",
      "metadata": {},
      "outputs": [],
      "source": [
        "esp = df_arrivals[df_arrivals['ISO3 - Country of arrival']=='ESP'].groupby(['Year', 'Month'])['Arrivals'].sum().unstack(level=0)\n"
      ]
    },
    {
      "cell_type": "code",
      "execution_count": 79,
      "id": "914ecb18",
      "metadata": {},
      "outputs": [
        {
          "data": {
            "image/png": "[encoded data removed]",
            "text/plain": [
              "<Figure size 1000x500 with 1 Axes>"
            ]
          },
          "metadata": {},
          "output_type": "display_data"
        }
      ],
      "source": [
        "esp.plot(kind='line', marker='o', figsize=(10,5), title='Llegadas a España por mes')\n",
        "plt.ylabel('Llegadas')\n",
        "plt.xlabel('Mes')\n",
        "plt.show()"
      ]
    },
    {
      "cell_type": "markdown",
      "id": "4a65af22",
      "metadata": {},
      "source": [
        "### 🔹 Comparación España vs Italia"
      ]
    },
    {
      "cell_type": "code",
      "execution_count": 80,
      "id": "3fc05484",
      "metadata": {},
      "outputs": [],
      "source": [
        "comp = df_arrivals[df_arrivals['ISO3 - Country of arrival'].isin(['ESP','ITA'])].groupby(['Month','ISO3 - Country of arrival'])['Arrivals'].sum().unstack()\n"
      ]
    },
    {
      "cell_type": "code",
      "execution_count": 81,
      "id": "2001c09e",
      "metadata": {},
      "outputs": [
        {
          "data": {
            "application/vnd.microsoft.datawrangler.viewer.v0+json": {
              "columns": [
                {
                  "name": "Month",
                  "rawType": "int64",
                  "type": "integer"
                },
                {
                  "name": "ESP",
                  "rawType": "object",
                  "type": "unknown"
                },
                {
                  "name": "ITA",
                  "rawType": "object",
                  "type": "unknown"
                }
              ],
              "ref": "ab8bcd3d-6382-4c04-9266-ce0ee42d3d58",
              "rows": [
                [
                  "1",
                  "9359",
                  "7221"
                ],
                [
                  "2",
                  "7770",
                  "11766"
                ],
                [
                  "3",
                  "3314",
                  "20124"
                ],
                [
                  "4",
                  "5700",
                  "19227"
                ],
                [
                  "5",
                  "4415",
                  "13130"
                ],
                [
                  "6",
                  "7044",
                  "20066"
                ],
                [
                  "7",
                  "7603",
                  "30885"
                ],
                [
                  "8",
                  "12031",
                  "34199"
                ],
                [
                  "9",
                  "11535",
                  "26894"
                ],
                [
                  "10",
                  "22798",
                  "15999"
                ],
                [
                  "11",
                  "15958",
                  "16441"
                ],
                [
                  "12",
                  "13295",
                  "8317"
                ]
              ],
              "shape": {
                "columns": 2,
                "rows": 12
              }
            },
            "text/html": [
              "<div>\n",
              "<style scoped>\n",
              "    .dataframe tbody tr th:only-of-type {\n",
              "        vertical-align: middle;\n",
              "    }\n",
              "\n",
              "    .dataframe tbody tr th {\n",
              "        vertical-align: top;\n",
              "    }\n",
              "\n",
              "    .dataframe thead th {\n",
              "        text-align: right;\n",
              "    }\n",
              "</style>\n",
              "<table border=\"1\" class=\"dataframe\">\n",
              "  <thead>\n",
              "    <tr style=\"text-align: right;\">\n",
              "      <th>ISO3 - Country of arrival</th>\n",
              "      <th>ESP</th>\n",
              "      <th>ITA</th>\n",
              "    </tr>\n",
              "    <tr>\n",
              "      <th>Month</th>\n",
              "      <th></th>\n",
              "      <th></th>\n",
              "    </tr>\n",
              "  </thead>\n",
              "  <tbody>\n",
              "    <tr>\n",
              "      <th>1</th>\n",
              "      <td>9359</td>\n",
              "      <td>7221</td>\n",
              "    </tr>\n",
              "    <tr>\n",
              "      <th>2</th>\n",
              "      <td>7770</td>\n",
              "      <td>11766</td>\n",
              "    </tr>\n",
              "    <tr>\n",
              "      <th>3</th>\n",
              "      <td>3314</td>\n",
              "      <td>20124</td>\n",
              "    </tr>\n",
              "    <tr>\n",
              "      <th>4</th>\n",
              "      <td>5700</td>\n",
              "      <td>19227</td>\n",
              "    </tr>\n",
              "    <tr>\n",
              "      <th>5</th>\n",
              "      <td>4415</td>\n",
              "      <td>13130</td>\n",
              "    </tr>\n",
              "    <tr>\n",
              "      <th>6</th>\n",
              "      <td>7044</td>\n",
              "      <td>20066</td>\n",
              "    </tr>\n",
              "    <tr>\n",
              "      <th>7</th>\n",
              "      <td>7603</td>\n",
              "      <td>30885</td>\n",
              "    </tr>\n",
              "    <tr>\n",
              "      <th>8</th>\n",
              "      <td>12031</td>\n",
              "      <td>34199</td>\n",
              "    </tr>\n",
              "    <tr>\n",
              "      <th>9</th>\n",
              "      <td>11535</td>\n",
              "      <td>26894</td>\n",
              "    </tr>\n",
              "    <tr>\n",
              "      <th>10</th>\n",
              "      <td>22798</td>\n",
              "      <td>15999</td>\n",
              "    </tr>\n",
              "    <tr>\n",
              "      <th>11</th>\n",
              "      <td>15958</td>\n",
              "      <td>16441</td>\n",
              "    </tr>\n",
              "    <tr>\n",
              "      <th>12</th>\n",
              "      <td>13295</td>\n",
              "      <td>8317</td>\n",
              "    </tr>\n",
              "  </tbody>\n",
              "</table>\n",
              "</div>"
            ],
            "text/plain": [
              "ISO3 - Country of arrival    ESP    ITA\n",
              "Month                                  \n",
              "1                           9359   7221\n",
              "2                           7770  11766\n",
              "3                           3314  20124\n",
              "4                           5700  19227\n",
              "5                           4415  13130\n",
              "6                           7044  20066\n",
              "7                           7603  30885\n",
              "8                          12031  34199\n",
              "9                          11535  26894\n",
              "10                         22798  15999\n",
              "11                         15958  16441\n",
              "12                         13295   8317"
            ]
          },
          "execution_count": 81,
          "metadata": {},
          "output_type": "execute_result"
        }
      ],
      "source": [
        "comp"
      ]
    },
    {
      "cell_type": "code",
      "execution_count": 82,
      "id": "4d6f199c",
      "metadata": {},
      "outputs": [
        {
          "data": {
            "image/png": "[encoded data removed]",
            "text/plain": [
              "<Figure size 1000x500 with 1 Axes>"
            ]
          },
          "metadata": {},
          "output_type": "display_data"
        }
      ],
      "source": [
        "comp.plot(kind='line', marker='o', figsize=(10,5), title='Llegadas a ESP vs ITA')\n",
        "plt.ylabel('Llegadas')\n",
        "plt.show()"
      ]
    },
    {
      "cell_type": "code",
      "execution_count": 83,
      "id": "74a0d7ee",
      "metadata": {},
      "outputs": [
        {
          "data": {
            "image/png": "[encoded data removed]",
            "text/plain": [
              "<Figure size 1000x500 with 1 Axes>"
            ]
          },
          "metadata": {},
          "output_type": "display_data"
        }
      ],
      "source": [
        "comp.plot(kind='bar', stacked=False, figsize=(10,5), title='Llegadas a ESP vs ITA')\n",
        "plt.ylabel('Llegadas')\n",
        "plt.xlabel('Mes')\n",
        "plt.show()"
      ]
    },
    {
      "cell_type": "markdown",
      "id": "6ffc9097",
      "metadata": {},
      "source": [
        "### 🔹 Llegadas por trimestre"
      ]
    },
    {
      "cell_type": "code",
      "execution_count": 84,
      "id": "ffc23e98",
      "metadata": {},
      "outputs": [],
      "source": [
        "df_arrivals['Quarter'] = pd.cut(df_arrivals['Month'], bins=[0,3,6,9,12], labels=['Q1','Q2','Q3','Q4'])\n"
      ]
    },
    {
      "cell_type": "code",
      "execution_count": 85,
      "id": "72422e5c",
      "metadata": {},
      "outputs": [
        {
          "name": "stderr",
          "output_type": "stream",
          "text": [
            "C:\\Users\\amval\\AppData\\Local\\Temp\\ipykernel_7936\\2888589816.py:1: FutureWarning: The default of observed=False is deprecated and will be changed to True in a future version of pandas. Pass observed=False to retain current behavior or observed=True to adopt the future default and silence this warning.\n",
            "  qsum = df_arrivals.groupby(['Year', 'Quarter'])['Arrivals'].sum().unstack(level=0)\n"
          ]
        }
      ],
      "source": [
        "qsum = df_arrivals.groupby(['Year', 'Quarter'])['Arrivals'].sum().unstack(level=0)\n"
      ]
    },
    {
      "cell_type": "code",
      "execution_count": 86,
      "id": "3c78b363",
      "metadata": {},
      "outputs": [
        {
          "data": {
            "application/vnd.microsoft.datawrangler.viewer.v0+json": {
              "columns": [
                {
                  "name": "Quarter",
                  "rawType": "category",
                  "type": "unknown"
                },
                {
                  "name": "2023",
                  "rawType": "object",
                  "type": "unknown"
                },
                {
                  "name": "2024",
                  "rawType": "object",
                  "type": "unknown"
                }
              ],
              "ref": "6451a36c-1487-4ce2-911d-6448f382ec88",
              "rows": [
                [
                  "Q1",
                  "41273",
                  "42162"
                ],
                [
                  "Q2",
                  "57460",
                  "37628"
                ],
                [
                  "Q3",
                  "116441",
                  "66621"
                ],
                [
                  "Q4",
                  "77492",
                  "62498"
                ]
              ],
              "shape": {
                "columns": 2,
                "rows": 4
              }
            },
            "text/html": [
              "<div>\n",
              "<style scoped>\n",
              "    .dataframe tbody tr th:only-of-type {\n",
              "        vertical-align: middle;\n",
              "    }\n",
              "\n",
              "    .dataframe tbody tr th {\n",
              "        vertical-align: top;\n",
              "    }\n",
              "\n",
              "    .dataframe thead th {\n",
              "        text-align: right;\n",
              "    }\n",
              "</style>\n",
              "<table border=\"1\" class=\"dataframe\">\n",
              "  <thead>\n",
              "    <tr style=\"text-align: right;\">\n",
              "      <th>Year</th>\n",
              "      <th>2023</th>\n",
              "      <th>2024</th>\n",
              "    </tr>\n",
              "    <tr>\n",
              "      <th>Quarter</th>\n",
              "      <th></th>\n",
              "      <th></th>\n",
              "    </tr>\n",
              "  </thead>\n",
              "  <tbody>\n",
              "    <tr>\n",
              "      <th>Q1</th>\n",
              "      <td>41273</td>\n",
              "      <td>42162</td>\n",
              "    </tr>\n",
              "    <tr>\n",
              "      <th>Q2</th>\n",
              "      <td>57460</td>\n",
              "      <td>37628</td>\n",
              "    </tr>\n",
              "    <tr>\n",
              "      <th>Q3</th>\n",
              "      <td>116441</td>\n",
              "      <td>66621</td>\n",
              "    </tr>\n",
              "    <tr>\n",
              "      <th>Q4</th>\n",
              "      <td>77492</td>\n",
              "      <td>62498</td>\n",
              "    </tr>\n",
              "  </tbody>\n",
              "</table>\n",
              "</div>"
            ],
            "text/plain": [
              "Year       2023   2024\n",
              "Quarter               \n",
              "Q1        41273  42162\n",
              "Q2        57460  37628\n",
              "Q3       116441  66621\n",
              "Q4        77492  62498"
            ]
          },
          "execution_count": 86,
          "metadata": {},
          "output_type": "execute_result"
        }
      ],
      "source": [
        "qsum"
      ]
    },
    {
      "cell_type": "code",
      "execution_count": 92,
      "id": "1b18f311",
      "metadata": {},
      "outputs": [
        {
          "data": {
            "image/png": "[encoded data removed]",
            "text/plain": [
              "<Figure size 800x500 with 1 Axes>"
            ]
          },
          "metadata": {},
          "output_type": "display_data"
        }
      ],
      "source": [
        "qsum.plot(kind='bar', figsize=(8,5), title='Llegadas por trimestre (2023 vs 2024)')\n",
        "plt.ylabel('Total llegadas')\n",
        "plt.xlabel('Trimestre')\n",
        "plt.legend(title='Año')\n",
        "plt.show()\n"
      ]
    },
    {
      "cell_type": "markdown",
      "id": "3aabbefd",
      "metadata": {},
      "source": [
        "## 5. 🔗 Visualización multivariada"
      ]
    },
    {
      "cell_type": "markdown",
      "id": "35b304c8",
      "metadata": {},
      "source": [
        "### 🔹 Heatmap Origen vs Destino (top 10)"
      ]
    },
    {
      "cell_type": "code",
      "execution_count": 101,
      "id": "814bc7de",
      "metadata": {},
      "outputs": [
        {
          "name": "stderr",
          "output_type": "stream",
          "text": [
            "C:\\Users\\amval\\AppData\\Local\\Temp\\ipykernel_7936\\3692733793.py:1: FutureWarning: Downcasting object dtype arrays on .fillna, .ffill, .bfill is deprecated and will change in a future version. Call result.infer_objects(copy=False) instead. To opt-in to the future behavior, set `pd.set_option('future.no_silent_downcasting', True)`\n",
            "  pivot = df_arrivals.pivot_table(index='ISO3 - Country of origin', columns='ISO3 - Country of arrival',\n"
          ]
        }
      ],
      "source": [
        "pivot = df_arrivals.pivot_table(index='ISO3 - Country of origin', columns='ISO3 - Country of arrival',\n",
        "                       values='Arrivals', aggfunc='sum', fill_value=0)"
      ]
    },
    {
      "cell_type": "code",
      "execution_count": 102,
      "id": "e7dd8f17",
      "metadata": {},
      "outputs": [
        {
          "data": {
            "application/vnd.microsoft.datawrangler.viewer.v0+json": {
              "columns": [
                {
                  "name": "ISO3 - Country of origin",
                  "rawType": "object",
                  "type": "string"
                },
                {
                  "name": "BGR",
                  "rawType": "int64",
                  "type": "integer"
                },
                {
                  "name": "CYP",
                  "rawType": "int64",
                  "type": "integer"
                },
                {
                  "name": "ESP",
                  "rawType": "int64",
                  "type": "integer"
                },
                {
                  "name": "GRC",
                  "rawType": "int64",
                  "type": "integer"
                },
                {
                  "name": "ITA",
                  "rawType": "int64",
                  "type": "integer"
                },
                {
                  "name": "MLT",
                  "rawType": "int64",
                  "type": "integer"
                }
              ],
              "ref": "15a21a1c-ad88-4442-bb78-7cf18872e85d",
              "rows": [
                [
                  "AFG",
                  "7511",
                  "1185",
                  "15",
                  "23563",
                  "4041",
                  "0"
                ],
                [
                  "AGO",
                  "0",
                  "0",
                  "4",
                  "29",
                  "1",
                  "0"
                ],
                [
                  "AZE",
                  "0",
                  "0",
                  "0",
                  "2",
                  "13",
                  "0"
                ],
                [
                  "BDI",
                  "0",
                  "80",
                  "1",
                  "0",
                  "0",
                  "0"
                ],
                [
                  "BEN",
                  "0",
                  "0",
                  "123",
                  "3",
                  "2184",
                  "0"
                ],
                [
                  "BFA",
                  "0",
                  "0",
                  "329",
                  "19",
                  "8873",
                  "1"
                ],
                [
                  "BGD",
                  "0",
                  "350",
                  "241",
                  "1078",
                  "27058",
                  "350"
                ],
                [
                  "BLZ",
                  "0",
                  "0",
                  "0",
                  "0",
                  "31",
                  "0"
                ],
                [
                  "BOL",
                  "0",
                  "0",
                  "0",
                  "2",
                  "0",
                  "0"
                ],
                [
                  "BRA",
                  "0",
                  "0",
                  "1",
                  "0",
                  "0",
                  "0"
                ],
                [
                  "CAF",
                  "0",
                  "0",
                  "14",
                  "3",
                  "48",
                  "0"
                ],
                [
                  "CAR",
                  "0",
                  "0",
                  "6",
                  "0",
                  "0",
                  "0"
                ],
                [
                  "CHN",
                  "0",
                  "0",
                  "0",
                  "53",
                  "0",
                  "0"
                ],
                [
                  "CIV",
                  "0",
                  "0",
                  "2816",
                  "44",
                  "17119",
                  "0"
                ],
                [
                  "CMR",
                  "0",
                  "455",
                  "262",
                  "631",
                  "6277",
                  "7"
                ],
                [
                  "COD",
                  "0",
                  "545",
                  "43",
                  "883",
                  "310",
                  "1"
                ],
                [
                  "COG",
                  "0",
                  "20",
                  "38",
                  "149",
                  "246",
                  "0"
                ],
                [
                  "COL",
                  "0",
                  "0",
                  "0",
                  "3",
                  "0",
                  "0"
                ],
                [
                  "COM",
                  "0",
                  "0",
                  "577",
                  "19",
                  "208",
                  "0"
                ],
                [
                  "CPV",
                  "0",
                  "0",
                  "1",
                  "0",
                  "0",
                  "0"
                ],
                [
                  "DJI",
                  "0",
                  "10",
                  "0",
                  "44",
                  "0",
                  "0"
                ],
                [
                  "DOM",
                  "0",
                  "0",
                  "0",
                  "12",
                  "0",
                  "0"
                ],
                [
                  "DZA",
                  "0",
                  "0",
                  "16608",
                  "192",
                  "2131",
                  "0"
                ],
                [
                  "EGY",
                  "356",
                  "220",
                  "25",
                  "8696",
                  "15883",
                  "47"
                ],
                [
                  "ERI",
                  "0",
                  "0",
                  "36",
                  "3934",
                  "6366",
                  "13"
                ],
                [
                  "ESH",
                  "0",
                  "0",
                  "1",
                  "2",
                  "0",
                  "0"
                ],
                [
                  "ETH",
                  "0",
                  "5",
                  "17",
                  "216",
                  "2353",
                  "2"
                ],
                [
                  "GAB",
                  "0",
                  "0",
                  "5",
                  "6",
                  "12",
                  "0"
                ],
                [
                  "GEO",
                  "0",
                  "105",
                  "0",
                  "2",
                  "0",
                  "0"
                ],
                [
                  "GHA",
                  "0",
                  "5",
                  "307",
                  "107",
                  "711",
                  "5"
                ],
                [
                  "GIN",
                  "0",
                  "60",
                  "7102",
                  "393",
                  "21999",
                  "28"
                ],
                [
                  "GMB",
                  "0",
                  "5",
                  "7128",
                  "53",
                  "6078",
                  "1"
                ],
                [
                  "GNB",
                  "0",
                  "0",
                  "546",
                  "1",
                  "185",
                  "0"
                ],
                [
                  "GNQ",
                  "0",
                  "0",
                  "6",
                  "0",
                  "27",
                  "0"
                ],
                [
                  "HTI",
                  "0",
                  "0",
                  "0",
                  "44",
                  "0",
                  "0"
                ],
                [
                  "IND",
                  "0",
                  "275",
                  "0",
                  "179",
                  "101",
                  "0"
                ],
                [
                  "IRN",
                  "56",
                  "565",
                  "1",
                  "1406",
                  "2935",
                  "0"
                ],
                [
                  "IRQ",
                  "837",
                  "390",
                  "0",
                  "5469",
                  "2112",
                  "0"
                ],
                [
                  "JOR",
                  "0",
                  "45",
                  "0",
                  "12",
                  "7",
                  "0"
                ],
                [
                  "KAZ",
                  "0",
                  "0",
                  "0",
                  "1",
                  "10",
                  "0"
                ],
                [
                  "KEN",
                  "0",
                  "0",
                  "1",
                  "14",
                  "1",
                  "0"
                ],
                [
                  "KGZ",
                  "0",
                  "0",
                  "0",
                  "0",
                  "4",
                  "0"
                ],
                [
                  "KWT",
                  "0",
                  "0",
                  "0",
                  "600",
                  "43",
                  "0"
                ],
                [
                  "LBN",
                  "0",
                  "90",
                  "7",
                  "96",
                  "72",
                  "0"
                ],
                [
                  "LBR",
                  "0",
                  "130",
                  "30",
                  "30",
                  "456",
                  "0"
                ],
                [
                  "LBY",
                  "0",
                  "0",
                  "10",
                  "26",
                  "459",
                  "0"
                ],
                [
                  "LKA",
                  "0",
                  "65",
                  "4",
                  "23",
                  "10",
                  "0"
                ],
                [
                  "MAR",
                  "2533",
                  "5",
                  "22869",
                  "446",
                  "695",
                  "0"
                ],
                [
                  "MDA",
                  "0",
                  "0",
                  "0",
                  "1",
                  "19",
                  "0"
                ],
                [
                  "MLI",
                  "0",
                  "5",
                  "20599",
                  "127",
                  "7763",
                  "0"
                ]
              ],
              "shape": {
                "columns": 6,
                "rows": 91
              }
            },
            "text/html": [
              "<div>\n",
              "<style scoped>\n",
              "    .dataframe tbody tr th:only-of-type {\n",
              "        vertical-align: middle;\n",
              "    }\n",
              "\n",
              "    .dataframe tbody tr th {\n",
              "        vertical-align: top;\n",
              "    }\n",
              "\n",
              "    .dataframe thead th {\n",
              "        text-align: right;\n",
              "    }\n",
              "</style>\n",
              "<table border=\"1\" class=\"dataframe\">\n",
              "  <thead>\n",
              "    <tr style=\"text-align: right;\">\n",
              "      <th>ISO3 - Country of arrival</th>\n",
              "      <th>BGR</th>\n",
              "      <th>CYP</th>\n",
              "      <th>ESP</th>\n",
              "      <th>GRC</th>\n",
              "      <th>ITA</th>\n",
              "      <th>MLT</th>\n",
              "    </tr>\n",
              "    <tr>\n",
              "      <th>ISO3 - Country of origin</th>\n",
              "      <th></th>\n",
              "      <th></th>\n",
              "      <th></th>\n",
              "      <th></th>\n",
              "      <th></th>\n",
              "      <th></th>\n",
              "    </tr>\n",
              "  </thead>\n",
              "  <tbody>\n",
              "    <tr>\n",
              "      <th>AFG</th>\n",
              "      <td>7511</td>\n",
              "      <td>1185</td>\n",
              "      <td>15</td>\n",
              "      <td>23563</td>\n",
              "      <td>4041</td>\n",
              "      <td>0</td>\n",
              "    </tr>\n",
              "    <tr>\n",
              "      <th>AGO</th>\n",
              "      <td>0</td>\n",
              "      <td>0</td>\n",
              "      <td>4</td>\n",
              "      <td>29</td>\n",
              "      <td>1</td>\n",
              "      <td>0</td>\n",
              "    </tr>\n",
              "    <tr>\n",
              "      <th>AZE</th>\n",
              "      <td>0</td>\n",
              "      <td>0</td>\n",
              "      <td>0</td>\n",
              "      <td>2</td>\n",
              "      <td>13</td>\n",
              "      <td>0</td>\n",
              "    </tr>\n",
              "    <tr>\n",
              "      <th>BDI</th>\n",
              "      <td>0</td>\n",
              "      <td>80</td>\n",
              "      <td>1</td>\n",
              "      <td>0</td>\n",
              "      <td>0</td>\n",
              "      <td>0</td>\n",
              "    </tr>\n",
              "    <tr>\n",
              "      <th>BEN</th>\n",
              "      <td>0</td>\n",
              "      <td>0</td>\n",
              "      <td>123</td>\n",
              "      <td>3</td>\n",
              "      <td>2184</td>\n",
              "      <td>0</td>\n",
              "    </tr>\n",
              "    <tr>\n",
              "      <th>...</th>\n",
              "      <td>...</td>\n",
              "      <td>...</td>\n",
              "      <td>...</td>\n",
              "      <td>...</td>\n",
              "      <td>...</td>\n",
              "      <td>...</td>\n",
              "    </tr>\n",
              "    <tr>\n",
              "      <th>VNM</th>\n",
              "      <td>0</td>\n",
              "      <td>10</td>\n",
              "      <td>0</td>\n",
              "      <td>0</td>\n",
              "      <td>0</td>\n",
              "      <td>0</td>\n",
              "    </tr>\n",
              "    <tr>\n",
              "      <th>XXA</th>\n",
              "      <td>0</td>\n",
              "      <td>10</td>\n",
              "      <td>0</td>\n",
              "      <td>0</td>\n",
              "      <td>0</td>\n",
              "      <td>0</td>\n",
              "    </tr>\n",
              "    <tr>\n",
              "      <th>YEM</th>\n",
              "      <td>0</td>\n",
              "      <td>65</td>\n",
              "      <td>63</td>\n",
              "      <td>2287</td>\n",
              "      <td>178</td>\n",
              "      <td>0</td>\n",
              "    </tr>\n",
              "    <tr>\n",
              "      <th>ZAF</th>\n",
              "      <td>0</td>\n",
              "      <td>10</td>\n",
              "      <td>2</td>\n",
              "      <td>0</td>\n",
              "      <td>1</td>\n",
              "      <td>0</td>\n",
              "    </tr>\n",
              "    <tr>\n",
              "      <th>ZWE</th>\n",
              "      <td>0</td>\n",
              "      <td>0</td>\n",
              "      <td>0</td>\n",
              "      <td>3</td>\n",
              "      <td>0</td>\n",
              "      <td>0</td>\n",
              "    </tr>\n",
              "  </tbody>\n",
              "</table>\n",
              "<p>91 rows × 6 columns</p>\n",
              "</div>"
            ],
            "text/plain": [
              "ISO3 - Country of arrival   BGR   CYP  ESP    GRC   ITA  MLT\n",
              "ISO3 - Country of origin                                    \n",
              "AFG                        7511  1185   15  23563  4041    0\n",
              "AGO                           0     0    4     29     1    0\n",
              "AZE                           0     0    0      2    13    0\n",
              "BDI                           0    80    1      0     0    0\n",
              "BEN                           0     0  123      3  2184    0\n",
              "...                         ...   ...  ...    ...   ...  ...\n",
              "VNM                           0    10    0      0     0    0\n",
              "XXA                           0    10    0      0     0    0\n",
              "YEM                           0    65   63   2287   178    0\n",
              "ZAF                           0    10    2      0     1    0\n",
              "ZWE                           0     0    0      3     0    0\n",
              "\n",
              "[91 rows x 6 columns]"
            ]
          },
          "execution_count": 102,
          "metadata": {},
          "output_type": "execute_result"
        }
      ],
      "source": [
        "pivot"
      ]
    },
    {
      "cell_type": "code",
      "execution_count": 104,
      "id": "919f2b36",
      "metadata": {},
      "outputs": [
        {
          "data": {
            "text/plain": [
              "Index(['SYR', 'AFG', 'SEN', 'GIN', 'BGD', 'MLI', 'MAR', 'TUN', 'EGY', 'CIV'], dtype='object', name='ISO3 - Country of origin')"
            ]
          },
          "execution_count": 104,
          "metadata": {},
          "output_type": "execute_result"
        }
      ],
      "source": [
        "top_origins = pivot.sum(axis=1).sort_values(ascending=False).head(10).index #suma cada fila: total salidas por país de origen\n",
        "top_origins\n"
      ]
    },
    {
      "cell_type": "code",
      "execution_count": 105,
      "id": "728a6a74",
      "metadata": {},
      "outputs": [
        {
          "data": {
            "text/plain": [
              "Index(['ITA', 'ESP', 'GRC', 'BGR', 'CYP', 'MLT'], dtype='object', name='ISO3 - Country of arrival')"
            ]
          },
          "execution_count": 105,
          "metadata": {},
          "output_type": "execute_result"
        }
      ],
      "source": [
        "top_destins = pivot.sum(axis=0).sort_values(ascending=False).head(10).index\n",
        "top_destins#suma cada columna: total de llegadas por país destino"
      ]
    },
    {
      "cell_type": "code",
      "execution_count": 106,
      "id": "ba046de8",
      "metadata": {},
      "outputs": [],
      "source": [
        "subset = pivot.loc[top_origins, top_destins] #filtra el conjunto pivot"
      ]
    },
    {
      "cell_type": "code",
      "execution_count": 107,
      "id": "2e7a3504",
      "metadata": {},
      "outputs": [
        {
          "data": {
            "application/vnd.microsoft.datawrangler.viewer.v0+json": {
              "columns": [
                {
                  "name": "ISO3 - Country of origin",
                  "rawType": "object",
                  "type": "string"
                },
                {
                  "name": "ITA",
                  "rawType": "int64",
                  "type": "integer"
                },
                {
                  "name": "ESP",
                  "rawType": "int64",
                  "type": "integer"
                },
                {
                  "name": "GRC",
                  "rawType": "int64",
                  "type": "integer"
                },
                {
                  "name": "BGR",
                  "rawType": "int64",
                  "type": "integer"
                },
                {
                  "name": "CYP",
                  "rawType": "int64",
                  "type": "integer"
                },
                {
                  "name": "MLT",
                  "rawType": "int64",
                  "type": "integer"
                }
              ],
              "ref": "db9ee004-889e-4d9f-9ca6-e8af2fd8de21",
              "rows": [
                [
                  "SYR",
                  "22648",
                  "629",
                  "33459",
                  "14862",
                  "10380",
                  "99"
                ],
                [
                  "AFG",
                  "4041",
                  "15",
                  "23563",
                  "7511",
                  "1185",
                  "0"
                ],
                [
                  "SEN",
                  "2574",
                  "30345",
                  "63",
                  "0",
                  "0",
                  "0"
                ],
                [
                  "GIN",
                  "21999",
                  "7102",
                  "393",
                  "0",
                  "60",
                  "28"
                ],
                [
                  "BGD",
                  "27058",
                  "241",
                  "1078",
                  "0",
                  "350",
                  "350"
                ],
                [
                  "MLI",
                  "7763",
                  "20599",
                  "127",
                  "0",
                  "5",
                  "0"
                ],
                [
                  "MAR",
                  "695",
                  "22869",
                  "446",
                  "2533",
                  "5",
                  "0"
                ],
                [
                  "TUN",
                  "25645",
                  "36",
                  "42",
                  "0",
                  "5",
                  "0"
                ],
                [
                  "EGY",
                  "15883",
                  "25",
                  "8696",
                  "356",
                  "220",
                  "47"
                ],
                [
                  "CIV",
                  "17119",
                  "2816",
                  "44",
                  "0",
                  "0",
                  "0"
                ]
              ],
              "shape": {
                "columns": 6,
                "rows": 10
              }
            },
            "text/html": [
              "<div>\n",
              "<style scoped>\n",
              "    .dataframe tbody tr th:only-of-type {\n",
              "        vertical-align: middle;\n",
              "    }\n",
              "\n",
              "    .dataframe tbody tr th {\n",
              "        vertical-align: top;\n",
              "    }\n",
              "\n",
              "    .dataframe thead th {\n",
              "        text-align: right;\n",
              "    }\n",
              "</style>\n",
              "<table border=\"1\" class=\"dataframe\">\n",
              "  <thead>\n",
              "    <tr style=\"text-align: right;\">\n",
              "      <th>ISO3 - Country of arrival</th>\n",
              "      <th>ITA</th>\n",
              "      <th>ESP</th>\n",
              "      <th>GRC</th>\n",
              "      <th>BGR</th>\n",
              "      <th>CYP</th>\n",
              "      <th>MLT</th>\n",
              "    </tr>\n",
              "    <tr>\n",
              "      <th>ISO3 - Country of origin</th>\n",
              "      <th></th>\n",
              "      <th></th>\n",
              "      <th></th>\n",
              "      <th></th>\n",
              "      <th></th>\n",
              "      <th></th>\n",
              "    </tr>\n",
              "  </thead>\n",
              "  <tbody>\n",
              "    <tr>\n",
              "      <th>SYR</th>\n",
              "      <td>22648</td>\n",
              "      <td>629</td>\n",
              "      <td>33459</td>\n",
              "      <td>14862</td>\n",
              "      <td>10380</td>\n",
              "      <td>99</td>\n",
              "    </tr>\n",
              "    <tr>\n",
              "      <th>AFG</th>\n",
              "      <td>4041</td>\n",
              "      <td>15</td>\n",
              "      <td>23563</td>\n",
              "      <td>7511</td>\n",
              "      <td>1185</td>\n",
              "      <td>0</td>\n",
              "    </tr>\n",
              "    <tr>\n",
              "      <th>SEN</th>\n",
              "      <td>2574</td>\n",
              "      <td>30345</td>\n",
              "      <td>63</td>\n",
              "      <td>0</td>\n",
              "      <td>0</td>\n",
              "      <td>0</td>\n",
              "    </tr>\n",
              "    <tr>\n",
              "      <th>GIN</th>\n",
              "      <td>21999</td>\n",
              "      <td>7102</td>\n",
              "      <td>393</td>\n",
              "      <td>0</td>\n",
              "      <td>60</td>\n",
              "      <td>28</td>\n",
              "    </tr>\n",
              "    <tr>\n",
              "      <th>BGD</th>\n",
              "      <td>27058</td>\n",
              "      <td>241</td>\n",
              "      <td>1078</td>\n",
              "      <td>0</td>\n",
              "      <td>350</td>\n",
              "      <td>350</td>\n",
              "    </tr>\n",
              "    <tr>\n",
              "      <th>MLI</th>\n",
              "      <td>7763</td>\n",
              "      <td>20599</td>\n",
              "      <td>127</td>\n",
              "      <td>0</td>\n",
              "      <td>5</td>\n",
              "      <td>0</td>\n",
              "    </tr>\n",
              "    <tr>\n",
              "      <th>MAR</th>\n",
              "      <td>695</td>\n",
              "      <td>22869</td>\n",
              "      <td>446</td>\n",
              "      <td>2533</td>\n",
              "      <td>5</td>\n",
              "      <td>0</td>\n",
              "    </tr>\n",
              "    <tr>\n",
              "      <th>TUN</th>\n",
              "      <td>25645</td>\n",
              "      <td>36</td>\n",
              "      <td>42</td>\n",
              "      <td>0</td>\n",
              "      <td>5</td>\n",
              "      <td>0</td>\n",
              "    </tr>\n",
              "    <tr>\n",
              "      <th>EGY</th>\n",
              "      <td>15883</td>\n",
              "      <td>25</td>\n",
              "      <td>8696</td>\n",
              "      <td>356</td>\n",
              "      <td>220</td>\n",
              "      <td>47</td>\n",
              "    </tr>\n",
              "    <tr>\n",
              "      <th>CIV</th>\n",
              "      <td>17119</td>\n",
              "      <td>2816</td>\n",
              "      <td>44</td>\n",
              "      <td>0</td>\n",
              "      <td>0</td>\n",
              "      <td>0</td>\n",
              "    </tr>\n",
              "  </tbody>\n",
              "</table>\n",
              "</div>"
            ],
            "text/plain": [
              "ISO3 - Country of arrival    ITA    ESP    GRC    BGR    CYP  MLT\n",
              "ISO3 - Country of origin                                         \n",
              "SYR                        22648    629  33459  14862  10380   99\n",
              "AFG                         4041     15  23563   7511   1185    0\n",
              "SEN                         2574  30345     63      0      0    0\n",
              "GIN                        21999   7102    393      0     60   28\n",
              "BGD                        27058    241   1078      0    350  350\n",
              "MLI                         7763  20599    127      0      5    0\n",
              "MAR                          695  22869    446   2533      5    0\n",
              "TUN                        25645     36     42      0      5    0\n",
              "EGY                        15883     25   8696    356    220   47\n",
              "CIV                        17119   2816     44      0      0    0"
            ]
          },
          "execution_count": 107,
          "metadata": {},
          "output_type": "execute_result"
        }
      ],
      "source": [
        "subset"
      ]
    },
    {
      "cell_type": "code",
      "execution_count": 108,
      "id": "77458a3a",
      "metadata": {},
      "outputs": [
        {
          "data": {
            "image/png": "[encoded data removed]",
            "text/plain": [
              "<Figure size 1000x800 with 2 Axes>"
            ]
          },
          "metadata": {},
          "output_type": "display_data"
        }
      ],
      "source": [
        "plt.figure(figsize=(10,8))\n",
        "sns.heatmap(subset, annot=True, fmt='.0f', cmap='Blues')\n",
        "plt.title('Heatmap: Origen vs Destino (Top 10)')\n",
        "plt.show()"
      ]
    },
    {
      "cell_type": "markdown",
      "id": "8bd746f2",
      "metadata": {},
      "source": [
        "### 🔹 Barras apiladas por trimestre y destino"
      ]
    },
    {
      "cell_type": "code",
      "execution_count": 109,
      "id": "26e3f330",
      "metadata": {},
      "outputs": [
        {
          "name": "stderr",
          "output_type": "stream",
          "text": [
            "C:\\Users\\amval\\AppData\\Local\\Temp\\ipykernel_7936\\898593727.py:1: FutureWarning: The default of observed=False is deprecated and will be changed to True in a future version of pandas. Pass observed=False to retain current behavior or observed=True to adopt the future default and silence this warning.\n",
            "  stacked = df_arrivals.groupby(['Quarter','ISO3 - Country of arrival'])['Arrivals'].sum().unstack().fillna(0)\n",
            "C:\\Users\\amval\\AppData\\Local\\Temp\\ipykernel_7936\\898593727.py:1: FutureWarning: Downcasting object dtype arrays on .fillna, .ffill, .bfill is deprecated and will change in a future version. Call result.infer_objects(copy=False) instead. To opt-in to the future behavior, set `pd.set_option('future.no_silent_downcasting', True)`\n",
            "  stacked = df_arrivals.groupby(['Quarter','ISO3 - Country of arrival'])['Arrivals'].sum().unstack().fillna(0)\n"
          ]
        }
      ],
      "source": [
        "stacked = df_arrivals.groupby(['Quarter','ISO3 - Country of arrival'])['Arrivals'].sum().unstack().fillna(0)\n"
      ]
    },
    {
      "cell_type": "code",
      "execution_count": 110,
      "id": "47a28758",
      "metadata": {},
      "outputs": [
        {
          "data": {
            "application/vnd.microsoft.datawrangler.viewer.v0+json": {
              "columns": [
                {
                  "name": "Quarter",
                  "rawType": "category",
                  "type": "unknown"
                },
                {
                  "name": "BGR",
                  "rawType": "int64",
                  "type": "integer"
                },
                {
                  "name": "CYP",
                  "rawType": "int64",
                  "type": "integer"
                },
                {
                  "name": "ESP",
                  "rawType": "int64",
                  "type": "integer"
                },
                {
                  "name": "GRC",
                  "rawType": "int64",
                  "type": "integer"
                },
                {
                  "name": "ITA",
                  "rawType": "int64",
                  "type": "integer"
                },
                {
                  "name": "MLT",
                  "rawType": "int64",
                  "type": "integer"
                }
              ],
              "ref": "008d76b9-f4ff-4f5f-a683-8dd8acbe1b67",
              "rows": [
                [
                  "Q1",
                  "3336",
                  "6100",
                  "20443",
                  "14376",
                  "39111",
                  "69"
                ],
                [
                  "Q2",
                  "5961",
                  "4360",
                  "17159",
                  "15045",
                  "52423",
                  "140"
                ],
                [
                  "Q3",
                  "13945",
                  "3300",
                  "31169",
                  "42505",
                  "91978",
                  "165"
                ],
                [
                  "Q4",
                  "4284",
                  "4607",
                  "52051",
                  "38047",
                  "40757",
                  "244"
                ]
              ],
              "shape": {
                "columns": 6,
                "rows": 4
              }
            },
            "text/html": [
              "<div>\n",
              "<style scoped>\n",
              "    .dataframe tbody tr th:only-of-type {\n",
              "        vertical-align: middle;\n",
              "    }\n",
              "\n",
              "    .dataframe tbody tr th {\n",
              "        vertical-align: top;\n",
              "    }\n",
              "\n",
              "    .dataframe thead th {\n",
              "        text-align: right;\n",
              "    }\n",
              "</style>\n",
              "<table border=\"1\" class=\"dataframe\">\n",
              "  <thead>\n",
              "    <tr style=\"text-align: right;\">\n",
              "      <th>ISO3 - Country of arrival</th>\n",
              "      <th>BGR</th>\n",
              "      <th>CYP</th>\n",
              "      <th>ESP</th>\n",
              "      <th>GRC</th>\n",
              "      <th>ITA</th>\n",
              "      <th>MLT</th>\n",
              "    </tr>\n",
              "    <tr>\n",
              "      <th>Quarter</th>\n",
              "      <th></th>\n",
              "      <th></th>\n",
              "      <th></th>\n",
              "      <th></th>\n",
              "      <th></th>\n",
              "      <th></th>\n",
              "    </tr>\n",
              "  </thead>\n",
              "  <tbody>\n",
              "    <tr>\n",
              "      <th>Q1</th>\n",
              "      <td>3336</td>\n",
              "      <td>6100</td>\n",
              "      <td>20443</td>\n",
              "      <td>14376</td>\n",
              "      <td>39111</td>\n",
              "      <td>69</td>\n",
              "    </tr>\n",
              "    <tr>\n",
              "      <th>Q2</th>\n",
              "      <td>5961</td>\n",
              "      <td>4360</td>\n",
              "      <td>17159</td>\n",
              "      <td>15045</td>\n",
              "      <td>52423</td>\n",
              "      <td>140</td>\n",
              "    </tr>\n",
              "    <tr>\n",
              "      <th>Q3</th>\n",
              "      <td>13945</td>\n",
              "      <td>3300</td>\n",
              "      <td>31169</td>\n",
              "      <td>42505</td>\n",
              "      <td>91978</td>\n",
              "      <td>165</td>\n",
              "    </tr>\n",
              "    <tr>\n",
              "      <th>Q4</th>\n",
              "      <td>4284</td>\n",
              "      <td>4607</td>\n",
              "      <td>52051</td>\n",
              "      <td>38047</td>\n",
              "      <td>40757</td>\n",
              "      <td>244</td>\n",
              "    </tr>\n",
              "  </tbody>\n",
              "</table>\n",
              "</div>"
            ],
            "text/plain": [
              "ISO3 - Country of arrival    BGR   CYP    ESP    GRC    ITA  MLT\n",
              "Quarter                                                         \n",
              "Q1                          3336  6100  20443  14376  39111   69\n",
              "Q2                          5961  4360  17159  15045  52423  140\n",
              "Q3                         13945  3300  31169  42505  91978  165\n",
              "Q4                          4284  4607  52051  38047  40757  244"
            ]
          },
          "execution_count": 110,
          "metadata": {},
          "output_type": "execute_result"
        }
      ],
      "source": [
        "stacked.head()"
      ]
    },
    {
      "cell_type": "code",
      "execution_count": 111,
      "id": "050e61d1",
      "metadata": {},
      "outputs": [
        {
          "data": {
            "image/png": "[encoded data removed]",
            "text/plain": [
              "<Figure size 1200x600 with 1 Axes>"
            ]
          },
          "metadata": {},
          "output_type": "display_data"
        }
      ],
      "source": [
        "stacked.plot(kind='bar', stacked=True, figsize=(12,6), title='Llegadas por trimestre y destino')\n",
        "plt.ylabel('Total llegadas')\n",
        "plt.show()"
      ]
    },
    {
      "cell_type": "markdown",
      "id": "2d7a6ceb",
      "metadata": {},
      "source": [
        "## 6. 🎯 Ejercicios integrados"
      ]
    },
    {
      "cell_type": "markdown",
      "id": "a774e914",
      "metadata": {},
      "source": [
        "### 🔹 Top 5 rutas (origen-destino)"
      ]
    },
    {
      "cell_type": "code",
      "execution_count": 112,
      "id": "43dd6d4f",
      "metadata": {},
      "outputs": [
        {
          "data": {
            "image/png": "[encoded data removed]",
            "text/plain": [
              "<Figure size 1000x500 with 1 Axes>"
            ]
          },
          "metadata": {},
          "output_type": "display_data"
        }
      ],
      "source": [
        "routes = df_arrivals.groupby(['ISO3 - Country of origin','ISO3 - Country of arrival'])['Arrivals'].sum().sort_values(ascending=False).head(5)\n",
        "routes.plot(kind='bar', figsize=(10,5), title='Top 5 rutas')\n",
        "plt.ylabel('Total llegadas')\n",
        "plt.show()"
      ]
    },
    {
      "cell_type": "markdown",
      "id": "717b800c",
      "metadata": {},
      "source": [
        "### 🔹 Llegadas a España por mes"
      ]
    },
    {
      "cell_type": "code",
      "execution_count": 113,
      "id": "ebbc5c2c",
      "metadata": {},
      "outputs": [
        {
          "data": {
            "image/png": "[encoded data removed]",
            "text/plain": [
              "<Figure size 1000x500 with 1 Axes>"
            ]
          },
          "metadata": {},
          "output_type": "display_data"
        }
      ],
      "source": [
        "df_arrivals[df_arrivals['ISO3 - Country of arrival']=='ESP'].groupby('Month')['Arrivals'].sum().plot(kind='bar', figsize=(10,5), title='Llegadas a España por mes')\n",
        "plt.ylabel('Total llegadas')\n",
        "plt.show()"
      ]
    },
    {
      "cell_type": "markdown",
      "id": "5195ee95",
      "metadata": {},
      "source": [
        "### 🔹 Top 3 orígenes por destino (ejemplo Italia)"
      ]
    },
    {
      "cell_type": "code",
      "execution_count": 114,
      "id": "518d557e",
      "metadata": {},
      "outputs": [
        {
          "data": {
            "image/png": "[encoded data removed]",
            "text/plain": [
              "<Figure size 600x400 with 1 Axes>"
            ]
          },
          "metadata": {},
          "output_type": "display_data"
        }
      ],
      "source": [
        "ita = df_arrivals[df_arrivals['ISO3 - Country of arrival']=='ITA']\n",
        "top3 = ita.groupby('ISO3 - Country of origin')['Arrivals'].sum().sort_values(ascending=False).head(3)\n",
        "top3.plot(kind='bar', figsize=(6,4), title='Top 3 orígenes hacia Italia')\n",
        "plt.ylabel('Total llegadas')\n",
        "plt.show()"
      ]
    },
    {
      "cell_type": "code",
      "execution_count": 115,
      "id": "4338e32f",
      "metadata": {},
      "outputs": [],
      "source": [
        "# Asegurarse de que monthly_2023 y monthly_2024 sean numéricos\n",
        "monthly_2023 = monthly_2023.astype(float)\n",
        "monthly_2024 = monthly_2024.astype(float)"
      ]
    },
    {
      "cell_type": "code",
      "execution_count": 116,
      "id": "ec8a4538",
      "metadata": {},
      "outputs": [],
      "source": [
        "# Calcular variación porcentual mes a mes respecto al año anterior\n",
        "pct_change = ((monthly_2024 - monthly_2023) / monthly_2023) * 100\n"
      ]
    },
    {
      "cell_type": "code",
      "execution_count": 121,
      "id": "e77346fa",
      "metadata": {},
      "outputs": [
        {
          "data": {
            "image/png": "[encoded data removed]",
            "text/plain": [
              "<Figure size 1000x500 with 1 Axes>"
            ]
          },
          "metadata": {},
          "output_type": "display_data"
        }
      ],
      "source": [
        "# Graficar\n",
        "pct_change.plot(kind='bar', figsize=(10,5), title='Variación porcentual mensual respecto al año anterior')\n",
        "plt.ylabel('Variación %')\n",
        "plt.xlabel('Mes')\n",
        "plt.axhline(0, color='black', linestyle='--', linewidth=1)\n",
        "plt.show()"
      ]
    },
    {
      "cell_type": "markdown",
      "id": "72ca4463",
      "metadata": {},
      "source": [
        "## 7. 🏁 Mini proyecto final"
      ]
    },
    {
      "cell_type": "markdown",
      "id": "32f65cce",
      "metadata": {},
      "source": [
        "Filtrar el segundo semestre (julio–diciembre), agrupar por destino y mostrar los 5 principales con gráfico de barras."
      ]
    },
    {
      "cell_type": "code",
      "execution_count": 122,
      "id": "a91b4556",
      "metadata": {},
      "outputs": [
        {
          "data": {
            "image/png": "[encoded data removed]",
            "text/plain": [
              "<Figure size 800x500 with 1 Axes>"
            ]
          },
          "metadata": {},
          "output_type": "display_data"
        }
      ],
      "source": [
        "h2 = df_arrivals[df_arrivals['Month'].between(7,12)]\n",
        "summary = h2.groupby('ISO3 - Country of arrival')['Arrivals'].sum().sort_values(ascending=False).head(5)\n",
        "summary.plot(kind='bar', figsize=(8,5), title='Top 5 destinos (Jul-Dic)')\n",
        "plt.ylabel('Total llegadas')\n",
        "plt.show()"
      ]
    },
    {
      "cell_type": "markdown",
      "id": "e7d8a904",
      "metadata": {},
      "source": [
        "## ✅ Conclusiones\n",
        "\n",
        "- Se han visualizado llegadas por destino y origen.\n",
        "- Se ha explorado la evolución temporal de las llegadas.\n",
        "- Se han combinado varias variables en heatmaps y gráficos apilados.\n",
        "\n",
        "Este cuaderno está diseñado para iniciarse en la visualización con Pandas y Matplotlib/Seaborn."
      ]
    },
    {
      "cell_type": "markdown",
      "id": "b6f0f605",
      "metadata": {},
      "source": [
        "## 📚 Recursos adicionales\n",
        "- [Plotly Express](https://plotly.com/python/plotly-express/)\n",
        "- [Graph Objects](https://plotly.com/python/graph-objects/)\n",
        "- [Galería de ejemplos](https://plotly.com/python/)"
      ]
    }
  ],
  "metadata": {
    "kernelspec": {
      "display_name": "base",
      "language": "python",
      "name": "python3"
    },
    "language_info": {
      "codemirror_mode": {
        "name": "ipython",
        "version": 3
      },
      "file_extension": ".py",
      "mimetype": "text/x-python",
      "name": "python",
      "nbconvert_exporter": "python",
      "pygments_lexer": "ipython3",
      "version": "3.13.5"
    }
  },
  "nbformat": 4,
  "nbformat_minor": 5
}
