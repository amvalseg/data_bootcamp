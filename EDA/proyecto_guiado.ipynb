{
 "cells": [
  {
   "cell_type": "markdown",
   "metadata": {},
   "source": [
    "# Bootcamp de Análisis de Datos & IA\n",
    "## Cuaderno de Ejercicios: Análisis de Viajes NCR\n",
    "### Exploración y Transformación de Datos con Pandas"
   ]
  },
  {
   "cell_type": "markdown",
   "metadata": {},
   "source": [
    "---\n",
    "\n",
    "# 📚 Introducción\n",
    "\n",
    "En este cuaderno de ejercicios aplicarás los conocimientos adquiridos sobre **exploración y análisis de datos con Pandas** utilizando el dataset `ncr_ride_bookings.csv`.\n",
    "\n",
    "## 📊 Sobre el Dataset\n",
    "\n",
    "El dataset contiene **150,000 registros** de reservas de viajes en la región de NCR (National Capital Region) con las siguientes columnas:\n",
    "\n",
    "- **Date**: Fecha del viaje\n",
    "- **Time**: Hora del viaje\n",
    "- **Booking ID**: Identificador único de la reserva\n",
    "- **Booking Status**: Estado de la reserva (Success/Cancelled)\n",
    "- **Customer ID**: Identificador del cliente\n",
    "- **Vehicle Type**: Tipo de vehículo (Prime Sedan, Prime SUV, etc.)\n",
    "- **Pickup Location**: Ubicación de recogida\n",
    "- **Drop Location**: Ubicación de destino\n",
    "- **Booking Value**: Valor de la reserva (₹)\n",
    "- **Ride Distance**: Distancia del viaje (km)\n",
    "- **Driver Ratings**: Calificación del conductor (1-5)\n",
    "- **Customer Rating**: Calificación del cliente (1-5)\n",
    "- **Payment Method**: Método de pago\n",
    "\n",
    "## 🎯 Objetivos de Aprendizaje\n",
    "\n",
    "1. Cargar y explorar datos con Pandas\n",
    "2. Realizar limpieza y transformación de datos\n",
    "3. Aplicar filtros y selección de datos\n",
    "4. Usar funciones de agregación y groupby\n",
    "5. Calcular estadísticas descriptivas\n",
    "6. Ordenar y manipular DataFrames"
   ]
  },
  {
   "cell_type": "markdown",
   "metadata": {},
   "source": [
    "---\n",
    "## 🔧 Sección 1: Importación de Librerías y Carga de Datos"
   ]
  },
  {
   "cell_type": "markdown",
   "metadata": {},
   "source": [
    "### Ejercicio 1.1: Importar Pandas\n",
    "\n",
    "Importa la librería Pandas con el alias `pd`."
   ]
  },
  {
   "cell_type": "code",
   "execution_count": null,
   "metadata": {},
   "outputs": [],
   "source": [
    "# Tu código aquí\n"
   ]
  },
  {
   "cell_type": "markdown",
   "metadata": {},
   "source": [
    "### Ejercicio 1.2: Cargar el Dataset\n",
    "\n",
    "Carga el archivo `ncr_ride_bookings.csv` en un DataFrame llamado `df_rides`."
   ]
  },
  {
   "cell_type": "code",
   "execution_count": null,
   "metadata": {},
   "outputs": [],
   "source": [
    "# Tu código aquí\n"
   ]
  },
  {
   "cell_type": "markdown",
   "metadata": {},
   "source": [
    "---\n",
    "## 🔍 Sección 2: Exploración Inicial de Datos"
   ]
  },
  {
   "cell_type": "markdown",
   "metadata": {},
   "source": [
    "### Ejercicio 2.1: Primeras Filas\n",
    "\n",
    "Muestra las primeras 10 filas del DataFrame."
   ]
  },
  {
   "cell_type": "code",
   "execution_count": null,
   "metadata": {},
   "outputs": [],
   "source": [
    "# Tu código aquí\n"
   ]
  },
  {
   "cell_type": "markdown",
   "metadata": {},
   "source": [
    "### Ejercicio 2.2: Últimas Filas\n",
    "\n",
    "Muestra las últimas 8 filas del DataFrame."
   ]
  },
  {
   "cell_type": "code",
   "execution_count": null,
   "metadata": {},
   "outputs": [],
   "source": [
    "# Tu código aquí\n"
   ]
  },
  {
   "cell_type": "markdown",
   "metadata": {},
   "source": [
    "### Ejercicio 2.3: Información General\n",
    "\n",
    "Usa `.info()` para obtener información sobre el DataFrame (tipos de datos, valores nulos, etc.)."
   ]
  },
  {
   "cell_type": "code",
   "execution_count": null,
   "metadata": {},
   "outputs": [],
   "source": [
    "# Tu código aquí\n"
   ]
  },
  {
   "cell_type": "markdown",
   "metadata": {},
   "source": [
    "### Ejercicio 2.4: Dimensiones del DataFrame\n",
    "\n",
    "¿Cuántas filas y columnas tiene el DataFrame? Usa la propiedad `.shape`."
   ]
  },
  {
   "cell_type": "code",
   "execution_count": null,
   "metadata": {},
   "outputs": [],
   "source": [
    "# Tu código aquí\n"
   ]
  },
  {
   "cell_type": "markdown",
   "metadata": {},
   "source": [
    "### Ejercicio 2.5: Nombres de Columnas\n",
    "\n",
    "Obtén una lista con todos los nombres de las columnas del DataFrame."
   ]
  },
  {
   "cell_type": "code",
   "execution_count": null,
   "metadata": {},
   "outputs": [],
   "source": [
    "# Tu código aquí\n"
   ]
  },
  {
   "cell_type": "markdown",
   "metadata": {},
   "source": [
    "### Ejercicio 2.6: Valores Únicos\n",
    "\n",
    "¿Cuántos tipos de vehículos diferentes hay en el dataset? Usa `.nunique()` en la columna `Vehicle Type`."
   ]
  },
  {
   "cell_type": "code",
   "execution_count": null,
   "metadata": {},
   "outputs": [],
   "source": [
    "# Tu código aquí\n"
   ]
  },
  {
   "cell_type": "markdown",
   "metadata": {},
   "source": [
    "### Ejercicio 2.7: Listar Valores Únicos\n",
    "\n",
    "Muestra todos los tipos de vehículos únicos usando `.unique()` en la columna `Vehicle Type`."
   ]
  },
  {
   "cell_type": "code",
   "execution_count": null,
   "metadata": {},
   "outputs": [],
   "source": [
    "# Tu código aquí\n"
   ]
  },
  {
   "cell_type": "markdown",
   "metadata": {},
   "source": [
    "---\n",
    "## 📊 Sección 3: Estadísticas Descriptivas"
   ]
  },
  {
   "cell_type": "markdown",
   "metadata": {},
   "source": [
    "### Ejercicio 3.1: Resumen Estadístico\n",
    "\n",
    "Genera un resumen estadístico de todas las columnas numéricas usando `.describe()`."
   ]
  },
  {
   "cell_type": "code",
   "execution_count": null,
   "metadata": {},
   "outputs": [],
   "source": [
    "# Tu código aquí\n"
   ]
  },
  {
   "cell_type": "markdown",
   "metadata": {},
   "source": [
    "### Ejercicio 3.2: Media del Valor de Reserva\n",
    "\n",
    "Calcula la media de la columna `Booking Value`."
   ]
  },
  {
   "cell_type": "code",
   "execution_count": null,
   "metadata": {},
   "outputs": [],
   "source": [
    "# Tu código aquí\n"
   ]
  },
  {
   "cell_type": "markdown",
   "metadata": {},
   "source": [
    "### Ejercicio 3.3: Mediana de la Distancia\n",
    "\n",
    "Calcula la mediana de la columna `Ride Distance`."
   ]
  },
  {
   "cell_type": "code",
   "execution_count": null,
   "metadata": {},
   "outputs": [],
   "source": [
    "# Tu código aquí\n"
   ]
  },
  {
   "cell_type": "markdown",
   "metadata": {},
   "source": [
    "### Ejercicio 3.4: Desviación Estándar\n",
    "\n",
    "Calcula la desviación estándar de la columna `Driver Ratings`."
   ]
  },
  {
   "cell_type": "code",
   "execution_count": null,
   "metadata": {},
   "outputs": [],
   "source": [
    "# Tu código aquí\n"
   ]
  },
  {
   "cell_type": "markdown",
   "metadata": {},
   "source": [
    "### Ejercicio 3.5: Valores Máximo y Mínimo\n",
    "\n",
    "Encuentra el valor máximo y mínimo de la columna `Booking Value`."
   ]
  },
  {
   "cell_type": "code",
   "execution_count": null,
   "metadata": {},
   "outputs": [],
   "source": [
    "# Tu código aquí - Máximo\n"
   ]
  },
  {
   "cell_type": "code",
   "execution_count": null,
   "metadata": {},
   "outputs": [],
   "source": [
    "# Tu código aquí - Mínimo\n"
   ]
  },
  {
   "cell_type": "markdown",
   "metadata": {},
   "source": [
    "---\n",
    "## 🔎 Sección 4: Selección y Filtrado de Datos"
   ]
  },
  {
   "cell_type": "markdown",
   "metadata": {},
   "source": [
    "### Ejercicio 4.1: Seleccionar Columnas Específicas\n",
    "\n",
    "Crea un nuevo DataFrame con solo las columnas: `Booking ID`, `Vehicle Type`, `Booking Value` y `Payment Method`."
   ]
  },
  {
   "cell_type": "code",
   "execution_count": null,
   "metadata": {},
   "outputs": [],
   "source": [
    "# Tu código aquí\n"
   ]
  },
  {
   "cell_type": "markdown",
   "metadata": {},
   "source": [
    "### Ejercicio 4.2: Filtrar por Tipo de Vehículo\n",
    "\n",
    "Filtra el DataFrame para mostrar solo los viajes en `Prime Sedan`."
   ]
  },
  {
   "cell_type": "code",
   "execution_count": null,
   "metadata": {},
   "outputs": [],
   "source": [
    "# Tu código aquí\n"
   ]
  },
  {
   "cell_type": "markdown",
   "metadata": {},
   "source": [
    "### Ejercicio 4.3: Filtro por Valor\n",
    "\n",
    "Filtra los viajes donde el `Booking Value` sea mayor a 1000."
   ]
  },
  {
   "cell_type": "code",
   "execution_count": null,
   "metadata": {},
   "outputs": [],
   "source": [
    "# Tu código aquí\n"
   ]
  },
  {
   "cell_type": "markdown",
   "metadata": {},
   "source": [
    "### Ejercicio 4.4: Filtros Múltiples\n",
    "\n",
    "Filtra los viajes que cumplan AMBAS condiciones:\n",
    "- `Vehicle Type` sea 'Prime SUV'\n",
    "- `Booking Value` sea mayor a 800"
   ]
  },
  {
   "cell_type": "code",
   "execution_count": null,
   "metadata": {},
   "outputs": [],
   "source": [
    "# Tu código aquí\n"
   ]
  },
  {
   "cell_type": "markdown",
   "metadata": {},
   "source": [
    "### Ejercicio 4.5: Filtrar Viajes Exitosos\n",
    "\n",
    "Filtra solo los viajes donde el `Booking Status` sea 'Success'."
   ]
  },
  {
   "cell_type": "code",
   "execution_count": null,
   "metadata": {},
   "outputs": [],
   "source": [
    "# Tu código aquí\n"
   ]
  },
  {
   "cell_type": "markdown",
   "metadata": {},
   "source": [
    "### Ejercicio 4.6: Filtro por Calificación Alta\n",
    "\n",
    "Filtra los viajes donde tanto `Driver Ratings` como `Customer Rating` sean mayores o iguales a 4.5."
   ]
  },
  {
   "cell_type": "code",
   "execution_count": null,
   "metadata": {},
   "outputs": [],
   "source": [
    "# Tu código aquí\n"
   ]
  },
  {
   "cell_type": "markdown",
   "metadata": {},
   "source": [
    "---\n",
    "## 📈 Sección 5: Agrupación y Agregación"
   ]
  },
  {
   "cell_type": "markdown",
   "metadata": {},
   "source": [
    "### Ejercicio 5.1: Contar por Tipo de Vehículo\n",
    "\n",
    "Agrupa por `Vehicle Type` y cuenta cuántos viajes hay de cada tipo."
   ]
  },
  {
   "cell_type": "code",
   "execution_count": null,
   "metadata": {},
   "outputs": [],
   "source": [
    "# Tu código aquí\n"
   ]
  },
  {
   "cell_type": "markdown",
   "metadata": {},
   "source": [
    "### Ejercicio 5.2: Promedio de Valor por Tipo de Vehículo\n",
    "\n",
    "Calcula el valor promedio de reserva (`Booking Value`) para cada tipo de vehículo."
   ]
  },
  {
   "cell_type": "code",
   "execution_count": null,
   "metadata": {},
   "outputs": [],
   "source": [
    "# Tu código aquí\n"
   ]
  },
  {
   "cell_type": "markdown",
   "metadata": {},
   "source": [
    "### Ejercicio 5.3: Suma Total por Método de Pago\n",
    "\n",
    "Agrupa por `Payment Method` y suma el total de `Booking Value` para cada método."
   ]
  },
  {
   "cell_type": "code",
   "execution_count": null,
   "metadata": {},
   "outputs": [],
   "source": [
    "# Tu código aquí\n"
   ]
  },
  {
   "cell_type": "markdown",
   "metadata": {},
   "source": [
    "### Ejercicio 5.4: Distancia Promedio por Ubicación de Recogida\n",
    "\n",
    "Calcula la distancia promedio (`Ride Distance`) para cada ubicación de recogida (`Pickup Location`)."
   ]
  },
  {
   "cell_type": "code",
   "execution_count": null,
   "metadata": {},
   "outputs": [],
   "source": [
    "# Tu código aquí\n"
   ]
  },
  {
   "cell_type": "markdown",
   "metadata": {},
   "source": [
    "### Ejercicio 5.5: Agrupación Múltiple\n",
    "\n",
    "Agrupa por `Vehicle Type` y `Payment Method`, y calcula el promedio de `Booking Value`."
   ]
  },
  {
   "cell_type": "code",
   "execution_count": null,
   "metadata": {},
   "outputs": [],
   "source": [
    "# Tu código aquí\n"
   ]
  },
  {
   "cell_type": "markdown",
   "metadata": {},
   "source": [
    "### Ejercicio 5.6: Agregación con múltiples funciones\n",
    "\n",
    "Agrupa por `Vehicle Type` y calcula simultáneamente la media, suma y cuenta de `Booking Value` usando `.agg()`."
   ]
  },
  {
   "cell_type": "code",
   "execution_count": null,
   "metadata": {},
   "outputs": [],
   "source": [
    "# Tu código aquí\n"
   ]
  },
  {
   "cell_type": "markdown",
   "metadata": {},
   "source": [
    "---\n",
    "## 🔄 Sección 6: Transformación de Datos"
   ]
  },
  {
   "cell_type": "markdown",
   "metadata": {},
   "source": [
    "### Ejercicio 6.1: Renombrar Columnas\n",
    "\n",
    "Renombra las siguientes columnas:\n",
    "- `Booking Value` → `Valor_Reserva`\n",
    "- `Ride Distance` → `Distancia_Viaje`\n",
    "- `Vehicle Type` → `Tipo_Vehiculo`"
   ]
  },
  {
   "cell_type": "code",
   "execution_count": null,
   "metadata": {},
   "outputs": [],
   "source": [
    "# Tu código aquí\n"
   ]
  },
  {
   "cell_type": "markdown",
   "metadata": {},
   "source": [
    "### Ejercicio 6.2: Crear Nueva Columna\n",
    "\n",
    "Crea una nueva columna llamada `Precio_por_km` que calcule el precio por kilómetro (Booking Value / Ride Distance).\n",
    "\n",
    "**Nota:** Maneja los casos donde la distancia sea 0 para evitar divisiones por cero."
   ]
  },
  {
   "cell_type": "code",
   "execution_count": null,
   "metadata": {},
   "outputs": [],
   "source": [
    "# Tu código aquí\n"
   ]
  },
  {
   "cell_type": "markdown",
   "metadata": {},
   "source": [
    "### Ejercicio 6.3: Eliminar Valores Nulos\n",
    "\n",
    "Verifica cuántos valores nulos hay en cada columna y elimina las filas que contengan valores nulos."
   ]
  },
  {
   "cell_type": "code",
   "execution_count": null,
   "metadata": {},
   "outputs": [],
   "source": [
    "# Tu código aquí - Contar valores nulos\n"
   ]
  },
  {
   "cell_type": "code",
   "execution_count": null,
   "metadata": {},
   "outputs": [],
   "source": [
    "# Tu código aquí - Eliminar valores nulos\n"
   ]
  },
  {
   "cell_type": "markdown",
   "metadata": {},
   "source": [
    "### Ejercicio 6.4: Rellenar Valores Nulos\n",
    "\n",
    "En lugar de eliminar, rellena los valores nulos de `Driver Ratings` con la media de esa columna."
   ]
  },
  {
   "cell_type": "code",
   "execution_count": null,
   "metadata": {},
   "outputs": [],
   "source": [
    "# Tu código aquí\n"
   ]
  },
  {
   "cell_type": "markdown",
   "metadata": {},
   "source": [
    "---\n",
    "## 📉 Sección 7: Ordenamiento"
   ]
  },
  {
   "cell_type": "markdown",
   "metadata": {},
   "source": [
    "### Ejercicio 7.1: Ordenar por Valor de Reserva\n",
    "\n",
    "Ordena el DataFrame por `Booking Value` de mayor a menor y muestra los primeros 10 registros."
   ]
  },
  {
   "cell_type": "code",
   "execution_count": null,
   "metadata": {},
   "outputs": [],
   "source": [
    "# Tu código aquí\n"
   ]
  },
  {
   "cell_type": "markdown",
   "metadata": {},
   "source": [
    "### Ejercicio 7.2: Ordenar por Múltiples Columnas\n",
    "\n",
    "Ordena el DataFrame primero por `Vehicle Type` (alfabéticamente) y luego por `Booking Value` (de mayor a menor)."
   ]
  },
  {
   "cell_type": "code",
   "execution_count": null,
   "metadata": {},
   "outputs": [],
   "source": [
    "# Tu código aquí\n"
   ]
  },
  {
   "cell_type": "markdown",
   "metadata": {},
   "source": [
    "### Ejercicio 7.3: Top 5 Mejores Calificaciones\n",
    "\n",
    "Ordena por `Driver Ratings` descendente y muestra los 5 viajes con las mejores calificaciones."
   ]
  },
  {
   "cell_type": "code",
   "execution_count": null,
   "metadata": {},
   "outputs": [],
   "source": [
    "# Tu código aquí\n"
   ]
  },
  {
   "cell_type": "markdown",
   "metadata": {},
   "source": [
    "---\n",
    "## 🎯 Sección 8: Ejercicios Integrados"
   ]
  },
  {
   "cell_type": "markdown",
   "metadata": {},
   "source": [
    "### Ejercicio 8.1: Análisis de Viajes Exitosos vs Cancelados\n",
    "\n",
    "Calcula el porcentaje de viajes exitosos vs cancelados en el dataset."
   ]
  },
  {
   "cell_type": "code",
   "execution_count": null,
   "metadata": {},
   "outputs": [],
   "source": [
    "# Tu código aquí\n"
   ]
  },
  {
   "cell_type": "markdown",
   "metadata": {},
   "source": [
    "### Ejercicio 8.2: Tipo de Vehículo más Rentable\n",
    "\n",
    "Determina qué tipo de vehículo genera el mayor ingreso total (suma de Booking Value)."
   ]
  },
  {
   "cell_type": "code",
   "execution_count": null,
   "metadata": {},
   "outputs": [],
   "source": [
    "# Tu código aquí\n"
   ]
  },
  {
   "cell_type": "markdown",
   "metadata": {},
   "source": [
    "### Ejercicio 8.3: Ubicación con Mayor Demanda\n",
    "\n",
    "Identifica las 5 ubicaciones de recogida con más viajes."
   ]
  },
  {
   "cell_type": "code",
   "execution_count": null,
   "metadata": {},
   "outputs": [],
   "source": [
    "# Tu código aquí\n"
   ]
  },
  {
   "cell_type": "markdown",
   "metadata": {},
   "source": [
    "### Ejercicio 8.4: Análisis de Método de Pago Preferido\n",
    "\n",
    "Determina cuál es el método de pago más utilizado y calcula su porcentaje sobre el total."
   ]
  },
  {
   "cell_type": "code",
   "execution_count": null,
   "metadata": {},
   "outputs": [],
   "source": [
    "# Tu código aquí\n"
   ]
  },
  {
   "cell_type": "markdown",
   "metadata": {},
   "source": [
    "### Ejercicio 8.5: Relación Distancia-Valor\n",
    "\n",
    "Calcula la correlación entre `Ride Distance` y `Booking Value`. ¿Están relacionadas estas variables?"
   ]
  },
  {
   "cell_type": "code",
   "execution_count": null,
   "metadata": {},
   "outputs": [],
   "source": [
    "# Tu código aquí\n"
   ]
  },
  {
   "cell_type": "markdown",
   "metadata": {},
   "source": [
    "### Ejercicio 8.6: Filtro Complejo\n",
    "\n",
    "Crea un DataFrame que contenga solo los viajes que cumplan TODAS estas condiciones:\n",
    "- Booking Status = 'Success'\n",
    "- Vehicle Type = 'Prime SUV' o 'Prime Sedan'\n",
    "- Booking Value > 500\n",
    "- Driver Ratings >= 4.0\n",
    "\n",
    "Luego, calcula el promedio de `Booking Value` de este subconjunto."
   ]
  },
  {
   "cell_type": "code",
   "execution_count": null,
   "metadata": {},
   "outputs": [],
   "source": [
    "# Tu código aquí\n"
   ]
  },
  {
   "cell_type": "markdown",
   "metadata": {},
   "source": [
    "### Ejercicio 8.7: Resumen por Hora\n",
    "\n",
    "Extrae la hora de la columna `Time` y crea una nueva columna llamada `Hour`. Luego agrupa por hora y calcula el número de viajes por cada hora del día."
   ]
  },
  {
   "cell_type": "code",
   "execution_count": null,
   "metadata": {},
   "outputs": [],
   "source": [
    "# Tu código aquí\n"
   ]
  },
  {
   "cell_type": "markdown",
   "metadata": {},
   "source": [
    "### Ejercicio 8.8: Análisis de Cancelaciones\n",
    "\n",
    "De los viajes cancelados:\n",
    "1. ¿Cuántos fueron cancelados por el cliente vs por el conductor?\n",
    "2. ¿Cuál es la razón más común de cancelación por parte del cliente?\n",
    "3. ¿Cuál es la razón más común de cancelación por parte del conductor?"
   ]
  },
  {
   "cell_type": "code",
   "execution_count": null,
   "metadata": {},
   "outputs": [],
   "source": [
    "# Tu código aquí - Pregunta 1\n"
   ]
  },
  {
   "cell_type": "code",
   "execution_count": null,
   "metadata": {},
   "outputs": [],
   "source": [
    "# Tu código aquí - Pregunta 2\n"
   ]
  },
  {
   "cell_type": "code",
   "execution_count": null,
   "metadata": {},
   "outputs": [],
   "source": [
    "# Tu código aquí - Pregunta 3\n"
   ]
  },
  {
   "cell_type": "markdown",
   "metadata": {},
   "source": [
    "---\n",
    "## 🏆 Sección 9: Desafíos Avanzados"
   ]
  },
  {
   "cell_type": "markdown",
   "metadata": {},
   "source": [
    "### Desafío 9.1: Segmentación de Clientes\n",
    "\n",
    "Crea una nueva columna llamada `Categoria_Cliente` que clasifique a los clientes según el valor promedio de sus reservas:\n",
    "- 'Premium': Booking Value promedio > 800\n",
    "- 'Estándar': Booking Value promedio entre 400 y 800\n",
    "- 'Básico': Booking Value promedio < 400\n",
    "\n",
    "Luego, cuenta cuántos clientes hay en cada categoría."
   ]
  },
  {
   "cell_type": "code",
   "execution_count": null,
   "metadata": {},
   "outputs": [],
   "source": [
    "# Tu código aquí\n"
   ]
  },
  {
   "cell_type": "markdown",
   "metadata": {},
   "source": [
    "### Desafío 9.2: Análisis de Rutas Populares\n",
    "\n",
    "Crea una nueva columna llamada `Ruta` que combine `Pickup Location` y `Drop Location` (formato: \"Origen → Destino\"). Luego encuentra las 10 rutas más frecuentes."
   ]
  },
  {
   "cell_type": "code",
   "execution_count": null,
   "metadata": {},
   "outputs": [],
   "source": [
    "# Tu código aquí\n"
   ]
  },
  {
   "cell_type": "markdown",
   "metadata": {},
   "source": [
    "### Desafío 9.3: Eficiencia del Conductor\n",
    "\n",
    "Calcula una métrica de \"eficiencia\" para cada tipo de vehículo:\n",
    "- Eficiencia = (Promedio de Driver Ratings × Número de viajes exitosos) / Total de viajes\n",
    "\n",
    "Ordena los tipos de vehículo por eficiencia de mayor a menor."
   ]
  },
  {
   "cell_type": "code",
   "execution_count": null,
   "metadata": {},
   "outputs": [],
   "source": [
    "# Tu código aquí\n"
   ]
  },
  {
   "cell_type": "markdown",
   "metadata": {},
   "source": [
    "### Desafío 9.4: Análisis Temporal Detallado\n",
    "\n",
    "Convierte la columna `Date` a formato datetime y extrae:\n",
    "1. El día de la semana\n",
    "2. El mes\n",
    "3. ¿Qué día de la semana tiene más viajes?\n",
    "4. ¿En qué mes hay mayor valor total de reservas?"
   ]
  },
  {
   "cell_type": "code",
   "execution_count": null,
   "metadata": {},
   "outputs": [],
   "source": [
    "# Tu código aquí\n"
   ]
  },
  {
   "cell_type": "markdown",
   "metadata": {},
   "source": [
    "### Desafío 9.5: Dashboard Resumido\n",
    "\n",
    "Crea un resumen ejecutivo que incluya:\n",
    "1. Total de viajes\n",
    "2. Ingresos totales\n",
    "3. Tasa de éxito (% de viajes completados)\n",
    "4. Distancia promedio\n",
    "5. Valor promedio por viaje\n",
    "6. Calificación promedio de conductores\n",
    "7. Calificación promedio de clientes\n",
    "8. Tipo de vehículo más popular\n",
    "9. Método de pago más usado\n",
    "\n",
    "Presenta estos datos en un formato claro y organizado."
   ]
  },
  {
   "cell_type": "code",
   "execution_count": null,
   "metadata": {},
   "outputs": [],
   "source": [
    "# Tu código aquí\n"
   ]
  },
  {
   "cell_type": "markdown",
   "metadata": {},
   "source": [
    "### Desafío 9.6: Detección de Anomalías\n",
    "\n",
    "Identifica viajes \"anómalos\" que cumplan alguna de estas condiciones:\n",
    "- Distancia > 100 km pero Booking Value < 200\n",
    "- Distancia < 2 km pero Booking Value > 500\n",
    "- Driver Ratings < 2.0 y Customer Rating > 4.5\n",
    "\n",
    "¿Cuántos casos anómalos encuentras?"
   ]
  },
  {
   "cell_type": "code",
   "execution_count": null,
   "metadata": {},
   "outputs": [],
   "source": [
    "# Tu código aquí\n"
   ]
  },
  {
   "cell_type": "markdown",
   "metadata": {},
   "source": [
    "### Desafío 9.7: Análisis de Valor por Distancia\n",
    "\n",
    "Crea rangos de distancia (bins) y calcula el valor promedio de reserva para cada rango:\n",
    "- 0-5 km\n",
    "- 5-10 km\n",
    "- 10-20 km\n",
    "- 20-50 km\n",
    "- 50+ km\n",
    "\n",
    "Usa `pd.cut()` para crear los rangos."
   ]
  },
  {
   "cell_type": "code",
   "execution_count": null,
   "metadata": {},
   "outputs": [],
   "source": [
    "# Tu código aquí\n"
   ]
  },
  {
   "cell_type": "markdown",
   "metadata": {},
   "source": [
    "### Desafío 9.8: Matriz de Correlación\n",
    "\n",
    "Crea una matriz de correlación entre todas las variables numéricas del dataset. ¿Qué variables están más correlacionadas?"
   ]
  },
  {
   "cell_type": "code",
   "execution_count": null,
   "metadata": {},
   "outputs": [],
   "source": [
    "# Tu código aquí\n"
   ]
  },
  {
   "cell_type": "markdown",
   "metadata": {},
   "source": [
    "---\n",
    "## 💡 Sección 10: Proyecto Final Integrador"
   ]
  },
  {
   "cell_type": "markdown",
   "metadata": {},
   "source": [
    "### Proyecto: Informe Completo de Análisis de Viajes\n",
    "\n",
    "Crea un análisis completo que responda a las siguientes preguntas de negocio:\n",
    "\n",
    "#### 1. Rendimiento General\n",
    "- ¿Cuál es la tasa de éxito de las reservas?\n",
    "- ¿Cuál es el ingreso total generado?\n",
    "- ¿Cuál es el ticket promedio (valor promedio de reserva)?\n",
    "\n",
    "#### 2. Análisis de Vehículos\n",
    "- ¿Qué tipo de vehículo es más popular?\n",
    "- ¿Qué tipo de vehículo genera más ingresos?\n",
    "- ¿Qué tipo de vehículo tiene las mejores calificaciones?\n",
    "\n",
    "#### 3. Análisis de Ubicaciones\n",
    "- ¿Cuáles son las 5 ubicaciones con más recogidas?\n",
    "- ¿Cuáles son las 5 ubicaciones de destino más frecuentes?\n",
    "- ¿Cuál es la ruta más rentable?\n",
    "\n",
    "#### 4. Análisis de Calidad de Servicio\n",
    "- ¿Cuál es la calificación promedio de conductores?\n",
    "- ¿Cuál es la calificación promedio de clientes?\n",
    "- ¿Qué tipo de vehículo tiene mejores calificaciones?\n",
    "\n",
    "#### 5. Análisis de Cancelaciones\n",
    "- ¿Cuál es la tasa de cancelación?\n",
    "- ¿Quién cancela más: clientes o conductores?\n",
    "- ¿Cuáles son las principales razones de cancelación?\n",
    "\n",
    "#### 6. Recomendaciones\n",
    "Basándote en tu análisis, proporciona 3-5 recomendaciones para mejorar el negocio.\n",
    "\n",
    "**Presenta tu análisis de forma clara y organizada, usando comentarios en el código y markdown para explicar tus hallazgos.**"
   ]
  },
  {
   "cell_type": "code",
   "execution_count": null,
   "metadata": {},
   "outputs": [],
   "source": [
    "# Tu código aquí - Rendimiento General\n"
   ]
  },
  {
   "cell_type": "code",
   "execution_count": null,
   "metadata": {},
   "outputs": [],
   "source": [
    "# Tu código aquí - Análisis de Vehículos\n"
   ]
  },
  {
   "cell_type": "code",
   "execution_count": null,
   "metadata": {},
   "outputs": [],
   "source": [
    "# Tu código aquí - Análisis de Ubicaciones\n"
   ]
  },
  {
   "cell_type": "code",
   "execution_count": null,
   "metadata": {},
   "outputs": [],
   "source": [
    "# Tu código aquí - Análisis de Calidad de Servicio\n"
   ]
  },
  {
   "cell_type": "code",
   "execution_count": null,
   "metadata": {},
   "outputs": [],
   "source": [
    "# Tu código aquí - Análisis de Cancelaciones\n"
   ]
  },
  {
   "cell_type": "markdown",
   "metadata": {},
   "source": [
    "#### Mis Recomendaciones:\n",
    "\n",
    "1. [Escribe tu recomendación aquí]\n",
    "\n",
    "2. [Escribe tu recomendación aquí]\n",
    "\n",
    "3. [Escribe tu recomendación aquí]\n",
    "\n",
    "4. [Escribe tu recomendación aquí]\n",
    "\n",
    "5. [Escribe tu recomendación aquí]"
   ]
  },
  {
   "cell_type": "markdown",
   "metadata": {},
   "source": [
    "---\n",
    "## 🎓 Conclusión\n",
    "\n",
    "¡Felicidades! Has completado el cuaderno de ejercicios sobre análisis de datos con Pandas.\n",
    "\n",
    "### Has aprendido a:\n",
    "- ✅ Cargar y explorar datos con Pandas\n",
    "- ✅ Realizar análisis estadísticos descriptivos\n",
    "- ✅ Filtrar y seleccionar datos específicos\n",
    "- ✅ Agrupar y agregar información\n",
    "- ✅ Transformar y limpiar datos\n",
    "- ✅ Ordenar y manipular DataFrames\n",
    "- ✅ Resolver problemas de negocio reales con análisis de datos\n",
    "\n",
    "### Próximos pasos:\n",
    "- Practica con otros datasets\n",
    "- Aprende visualización de datos con Matplotlib y Seaborn\n",
    "- Explora técnicas avanzadas de limpieza de datos\n",
    "- Profundiza en análisis estadístico\n",
    "\n",
    "---\n",
    "\n",
    "## ¡Sigue practicando y mejorando tus habilidades en análisis de datos! 📊🚀"
   ]
  }
 ],
 "metadata": {
  "kernelspec": {
   "display_name": "Python 3",
   "language": "python",
   "name": "python3"
  },
  "language_info": {
   "codemirror_mode": {
    "name": "ipython",
    "version": 3
   },
   "file_extension": ".py",
   "mimetype": "text/x-python",
   "name": "python",
   "nbconvert_exporter": "python",
   "pygments_lexer": "ipython3",
   "version": "3.8.0"
  }
 },
 "nbformat": 4,
 "nbformat_minor": 4
}