{
 "cells": [
  {
   "cell_type": "markdown",
   "metadata": {},
   "source": [
    "# 📊 Análisis Exploratorio de Datos (EDA)\n",
    "\n",
    "**Datasets:** Migración DTM y Reservas de Transporte NCR\n",
    "\n",
    "---"
   ]
  },
  {
   "cell_type": "markdown",
   "metadata": {},
   "source": [
    "## 📚 1. ¿Qué es EDA?\n",
    "\n",
    "### Definición\n",
    "El **Análisis Exploratorio de Datos (EDA)** es el proceso de investigar y comprender un conjunto de datos.\n",
    "\n",
    "### ¿Para qué sirve?\n",
    "- 🔍 **Comprender** la estructura y contenido\n",
    "- 🧹 **Detectar problemas** (nulos, duplicados, errores)\n",
    "- 📈 **Encontrar patrones** y relaciones\n",
    "- 💡 **Generar hipótesis** para análisis futuros\n",
    "\n",
    "### Fases de EDA\n",
    "1. Carga de datos\n",
    "2. Inspección inicial\n",
    "3. Limpieza básica\n",
    "4. Análisis descriptivo\n",
    "5. Visualización\n",
    "6. Conclusiones"
   ]
  },
  {
   "cell_type": "markdown",
   "metadata": {},
   "source": [
    "## 🛠️ 2. Importación de librerías"
   ]
  },
  {
   "cell_type": "code",
   "execution_count": null,
   "metadata": {},
   "outputs": [],
   "source": [
    "import pandas as pd\n",
    "import numpy as np\n",
    "import matplotlib.pyplot as plt\n",
    "import seaborn as sns\n",
    "\n",
    "plt.style.use('seaborn-v0_8-whitegrid')\n",
    "%matplotlib inline\n",
    "pd.set_option('display.max_columns', None)\n",
    "\n",
    "print(\"✅ Librerías cargadas\")"
   ]
  },
  {
   "cell_type": "markdown",
   "metadata": {},
   "source": [
    "---\n",
    "# 🌍 DATASET 1: Migración DTM"
   ]
  },
  {
   "cell_type": "markdown",
   "metadata": {},
   "source": [
    "## 📥 3. Carga de datos"
   ]
  },
  {
   "cell_type": "code",
   "execution_count": null,
   "metadata": {},
   "outputs": [],
   "source": [
    "df_mig = pd.read_excel('DTM_Mixed Migration Flows to Europe_Yearly_2024_1.xlsx')\n",
    "print(f\"Dimensiones: {df_mig.shape}\")"
   ]
  },
  {
   "cell_type": "markdown",
   "metadata": {},
   "source": [
    "## 🔍 4. Inspección inicial"
   ]
  },
  {
   "cell_type": "code",
   "execution_count": null,
   "metadata": {},
   "outputs": [],
   "source": [
    "df_mig.head()"
   ]
  },
  {
   "cell_type": "code",
   "execution_count": null,
   "metadata": {},
   "outputs": [],
   "source": [
    "df_mig.info()"
   ]
  },
  {
   "cell_type": "markdown",
   "metadata": {},
   "source": [
    "## 🧹 5. Calidad de datos"
   ]
  },
  {
   "cell_type": "code",
   "execution_count": null,
   "metadata": {},
   "outputs": [],
   "source": [
    "# Valores nulos\n",
    "nulos = df_mig.isnull().sum()\n",
    "pct = (nulos / len(df_mig) * 100).round(2)\n",
    "pd.DataFrame({'Nulos': nulos, '%': pct})[nulos > 0]"
   ]
  },
  {
   "cell_type": "code",
   "execution_count": null,
   "metadata": {},
   "outputs": [],
   "source": [
    "# Duplicados\n",
    "print(f\"Duplicados: {df_mig.duplicated().sum()}\")"
   ]
  },
  {
   "cell_type": "markdown",
   "metadata": {},
   "source": [
    "## 📊 6. Estadísticas descriptivas"
   ]
  },
  {
   "cell_type": "code",
   "execution_count": null,
   "metadata": {},
   "outputs": [],
   "source": [
    "df_mig.describe()"
   ]
  },
  {
   "cell_type": "markdown",
   "metadata": {},
   "source": [
    "## 📈 7. Visualizaciones"
   ]
  },
  {
   "cell_type": "code",
   "execution_count": null,
   "metadata": {},
   "outputs": [],
   "source": [
    "# Histograma de variable numérica\n",
    "num_cols = df_mig.select_dtypes(include=[np.number]).columns\n",
    "if len(num_cols) > 0:\n",
    "    plt.figure(figsize=(10, 4))\n",
    "    plt.hist(df_mig[num_cols[0]].dropna(), bins=30, edgecolor='black')\n",
    "    plt.title(f'Distribución: {num_cols[0]}')\n",
    "    plt.xlabel(num_cols[0])\n",
    "    plt.ylabel('Frecuencia')\n",
    "    plt.show()"
   ]
  },
  {
   "cell_type": "code",
   "execution_count": null,
   "metadata": {},
   "outputs": [],
   "source": [
    "# Top categorías\n",
    "cat_cols = df_mig.select_dtypes(include='object').columns\n",
    "if len(cat_cols) > 0:\n",
    "    top = df_mig[cat_cols[0]].value_counts().head(10)\n",
    "    plt.figure(figsize=(10, 5))\n",
    "    top.plot(kind='barh', color='steelblue')\n",
    "    plt.title(f'Top 10: {cat_cols[0]}')\n",
    "    plt.xlabel('Frecuencia')\n",
    "    plt.gca().invert_yaxis()\n",
    "    plt.tight_layout()\n",
    "    plt.show()"
   ]
  },
  {
   "cell_type": "markdown",
   "metadata": {},
   "source": [
    "---\n",
    "# 🚗 DATASET 2: Transporte NCR"
   ]
  },
  {
   "cell_type": "markdown",
   "metadata": {},
   "source": [
    "## 📥 8. Carga de datos"
   ]
  },
  {
   "cell_type": "code",
   "execution_count": null,
   "metadata": {},
   "outputs": [],
   "source": [
    "df_trans = pd.read_csv('ncr_ride_bookings.csv')\n",
    "print(f\"Dimensiones: {df_trans.shape}\")"
   ]
  },
  {
   "cell_type": "markdown",
   "metadata": {},
   "source": [
    "## 🔍 9. Inspección inicial"
   ]
  },
  {
   "cell_type": "code",
   "execution_count": null,
   "metadata": {},
   "outputs": [],
   "source": [
    "df_trans.head()"
   ]
  },
  {
   "cell_type": "code",
   "execution_count": null,
   "metadata": {},
   "outputs": [],
   "source": [
    "df_trans.info()"
   ]
  },
  {
   "cell_type": "markdown",
   "metadata": {},
   "source": [
    "## 🧹 10. Calidad de datos"
   ]
  },
  {
   "cell_type": "code",
   "execution_count": null,
   "metadata": {},
   "outputs": [],
   "source": [
    "# Valores nulos\n",
    "nulos = df_trans.isnull().sum()\n",
    "pct = (nulos / len(df_trans) * 100).round(2)\n",
    "pd.DataFrame({'Nulos': nulos, '%': pct})[nulos > 0].sort_values('%', ascending=False)"
   ]
  },
  {
   "cell_type": "code",
   "execution_count": null,
   "metadata": {},
   "outputs": [],
   "source": [
    "# Duplicados\n",
    "print(f\"Duplicados totales: {df_trans.duplicated().sum()}\")\n",
    "print(f\"Booking IDs duplicados: {df_trans['Booking ID'].duplicated().sum()}\")"
   ]
  },
  {
   "cell_type": "markdown",
   "metadata": {},
   "source": [
    "## 📊 11. Estadísticas"
   ]
  },
  {
   "cell_type": "code",
   "execution_count": null,
   "metadata": {},
   "outputs": [],
   "source": [
    "df_trans.describe().round(2)"
   ]
  },
  {
   "cell_type": "code",
   "execution_count": null,
   "metadata": {},
   "outputs": [],
   "source": [
    "# Estado de reservas\n",
    "print(\"Estados de reserva:\")\n",
    "print(df_trans['Booking Status'].value_counts())"
   ]
  },
  {
   "cell_type": "code",
   "execution_count": null,
   "metadata": {},
   "outputs": [],
   "source": [
    "# Tipos de vehículo\n",
    "print(\"\\nTipos de vehículo:\")\n",
    "print(df_trans['Vehicle Type'].value_counts())"
   ]
  },
  {
   "cell_type": "markdown",
   "metadata": {},
   "source": [
    "## 📈 12. Visualizaciones"
   ]
  },
  {
   "cell_type": "code",
   "execution_count": null,
   "metadata": {},
   "outputs": [],
   "source": [
    "# Estado de reservas\n",
    "fig, (ax1, ax2) = plt.subplots(1, 2, figsize=(14, 5))\n",
    "\n",
    "status = df_trans['Booking Status'].value_counts()\n",
    "status.plot(kind='bar', ax=ax1, color=['green', 'red', 'orange'])\n",
    "ax1.set_title('Estados de Reserva')\n",
    "ax1.set_ylabel('Cantidad')\n",
    "ax1.tick_params(axis='x', rotation=45)\n",
    "\n",
    "ax2.pie(status, labels=status.index, autopct='%1.1f%%', startangle=90)\n",
    "ax2.set_title('Proporción de Estados')\n",
    "\n",
    "plt.tight_layout()\n",
    "plt.show()"
   ]
  },
  {
   "cell_type": "code",
   "execution_count": null,
   "metadata": {},
   "outputs": [],
   "source": [
    "# Distribuciones numéricas\n",
    "fig, (ax1, ax2) = plt.subplots(1, 2, figsize=(14, 5))\n",
    "\n",
    "ax1.hist(df_trans['Ride Distance'].dropna(), bins=50, color='skyblue', edgecolor='black')\n",
    "ax1.set_title('Distribución de Distancia')\n",
    "ax1.set_xlabel('Distancia (km)')\n",
    "ax1.set_ylabel('Frecuencia')\n",
    "\n",
    "ax2.hist(df_trans['Booking Value'].dropna(), bins=50, color='lightcoral', edgecolor='black')\n",
    "ax2.set_title('Distribución de Valor')\n",
    "ax2.set_xlabel('Valor (₹)')\n",
    "ax2.set_ylabel('Frecuencia')\n",
    "\n",
    "plt.tight_layout()\n",
    "plt.show()"
   ]
  },
  {
   "cell_type": "code",
   "execution_count": null,
   "metadata": {},
   "outputs": [],
   "source": [
    "# Relación distancia-valor\n",
    "plt.figure(figsize=(10, 6))\n",
    "plt.scatter(df_trans['Ride Distance'], df_trans['Booking Value'], \n",
    "            alpha=0.3, s=10, color='darkblue')\n",
    "plt.title('Distancia vs Valor de Reserva')\n",
    "plt.xlabel('Distancia (km)')\n",
    "plt.ylabel('Valor (₹)')\n",
    "plt.grid(alpha=0.3)\n",
    "plt.show()\n",
    "\n",
    "corr = df_trans[['Ride Distance', 'Booking Value']].corr().iloc[0,1]\n",
    "print(f\"Correlación: {corr:.3f}\")"
   ]
  },
  {
   "cell_type": "code",
   "execution_count": null,
   "metadata": {},
   "outputs": [],
   "source": [
    "# Ratings\n",
    "fig, (ax1, ax2) = plt.subplots(1, 2, figsize=(14, 5))\n",
    "\n",
    "ax1.hist(df_trans['Driver Ratings'].dropna(), bins=20, color='gold', edgecolor='black')\n",
    "ax1.set_title('Valoraciones de Conductores')\n",
    "ax1.set_xlabel('Rating')\n",
    "ax1.set_ylabel('Frecuencia')\n",
    "\n",
    "ax2.hist(df_trans['Customer Rating'].dropna(), bins=20, color='lightgreen', edgecolor='black')\n",
    "ax2.set_title('Valoraciones de Clientes')\n",
    "ax2.set_xlabel('Rating')\n",
    "ax2.set_ylabel('Frecuencia')\n",
    "\n",
    "plt.tight_layout()\n",
    "plt.show()"
   ]
  },
  {
   "cell_type": "markdown",
   "metadata": {},
   "source": [
    "## 🎯 13. Conclusiones\n",
    "\n",
    "### Dataset Migración\n",
    "- Revisar columnas con valores nulos\n",
    "- Identificar variables más relevantes\n",
    "- Analizar distribuciones y patrones temporales\n",
    "\n",
    "### Dataset Transporte\n",
    "- Alta proporción de viajes completados\n",
    "- Correlación positiva entre distancia y valor\n",
    "- Analizar razones de cancelación\n",
    "- Estudiar patrones por tipo de vehículo\n",
    "\n",
    "### Próximos pasos\n",
    "1. Limpieza profunda de datos\n",
    "2. Análisis temporal (fechas/horas)\n",
    "3. Análisis geográfico (ubicaciones)\n",
    "4. Modelado predictivo"
   ]
  }
 ],
 "metadata": {
  "kernelspec": {
   "display_name": "Python 3",
   "language": "python",
   "name": "python3"
  },
  "language_info": {
   "name": "python",
   "version": "3.8.0"
  }
 },
 "nbformat": 4,
 "nbformat_minor": 4
}